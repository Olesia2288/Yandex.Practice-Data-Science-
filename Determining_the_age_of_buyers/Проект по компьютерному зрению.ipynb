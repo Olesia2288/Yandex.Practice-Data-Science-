{
 "cells": [
  {
   "cell_type": "markdown",
   "metadata": {},
   "source": [
    "# Определение возраста покупателей"
   ]
  },
  {
   "cell_type": "markdown",
   "metadata": {},
   "source": [
    "Краткое описание проекта:\n",
    "\n",
    "Сетевой супермаркет «Хлеб-Соль» внедряет систему компьютерного зрения для обработки фотографий покупателей. Фотофиксация в прикассовой зоне поможет определять возраст клиентов, чтобы:\n",
    "Анализировать покупки и предлагать товары, которые могут заинтересовать покупателей этой возрастной группы;\n",
    "Контролировать добросовестность кассиров при продаже алкоголя.\n",
    "\n",
    "Задача проекта:\n",
    "\n",
    "Построить модель, которая по фотографии определит приблизительный возраст человека. В нашем распоряжении набор фотографий людей с указанием возраста.\n",
    "\n",
    "Необходимо провести исследовательский анализ набора фотографий и подготовить данные к обучению, а также обучить нейронную сеть и рассчитайте её качество (МАЕ должно быть не ниже 8)."
   ]
  },
  {
   "cell_type": "markdown",
   "metadata": {},
   "source": [
    "## Исследовательский анализ данных"
   ]
  },
  {
   "cell_type": "code",
   "execution_count": 1,
   "metadata": {},
   "outputs": [],
   "source": [
    "import matplotlib.pyplot as plt\n",
    "import numpy as np\n",
    "import pandas as pd\n",
    "from tensorflow.keras.preprocessing.image import ImageDataGenerator\n",
    "from tensorflow.keras.preprocessing import image_dataset_from_directory"
   ]
  },
  {
   "cell_type": "code",
   "execution_count": 2,
   "metadata": {},
   "outputs": [],
   "source": [
    "labels = pd.read_csv('/datasets/faces/labels.csv')"
   ]
  },
  {
   "cell_type": "code",
   "execution_count": 3,
   "metadata": {},
   "outputs": [
    {
     "name": "stdout",
     "output_type": "stream",
     "text": [
      "Found 7591 validated image filenames.\n"
     ]
    }
   ],
   "source": [
    "datagen = ImageDataGenerator(rescale=1./255)                                       \n",
    "train_datagen = datagen.flow_from_dataframe(dataframe=labels,\n",
    "    directory='/datasets/faces/final_files/',   \n",
    "    x_col='file_name',\n",
    "    y_col='real_age',                                         \n",
    "    target_size=(224, 224),\n",
    "    batch_size=32,\n",
    "    class_mode='raw',\n",
    "    seed=12345)"
   ]
  },
  {
   "cell_type": "code",
   "execution_count": 4,
   "metadata": {},
   "outputs": [
    {
     "name": "stdout",
     "output_type": "stream",
     "text": [
      "Размер выборки: 7591\n"
     ]
    }
   ],
   "source": [
    "print(\"Размер выборки:\", len(labels))"
   ]
  },
  {
   "cell_type": "code",
   "execution_count": 5,
   "metadata": {},
   "outputs": [
    {
     "data": {
      "image/png": "[encoded data removed]",
      "text/plain": [
       "<Figure size 432x288 with 1 Axes>"
      ]
     },
     "metadata": {
      "needs_background": "light"
     },
     "output_type": "display_data"
    }
   ],
   "source": [
    "plt.hist(labels['real_age'], bins=20, edgecolor='black')\n",
    "plt.xlabel('Возраст')\n",
    "plt.ylabel('Количество')\n",
    "plt.title('Распределение возраста в выборке')\n",
    "plt.show()"
   ]
  },
  {
   "attachments": {},
   "cell_type": "markdown",
   "metadata": {},
   "source": [
    "Просмотр 15 первых изображений:"
   ]
  },
  {
   "cell_type": "code",
   "execution_count": 1,
   "metadata": {},
   "outputs": [],
   "source": [
    "#fig, axes = plt.subplots(nrows=3, ncols=5, figsize=(15,10))\n",
    "#for i, ax in enumerate(axes.flat):\n",
    "    #img = plt.imread('/datasets/faces/final_files/' + labels.iloc[i]['file_name'])\n",
    "    #ax.imshow(img)\n",
    "    #ax.set_title('Возраст: ' + str(labels.iloc[i]['real_age']))\n",
    "    #ax.axis('off')\n",
    "    #if i == 14:\n",
    "        #break\n",
    "#plt.show()"
   ]
  },
  {
   "cell_type": "markdown",
   "metadata": {},
   "source": [
    "Вывод: так как в модели больше всего фотографий людей в возрасте от 20 до 40 лет, соответственно именно люди этого возраста будут определены с большей вероятностью правильно, фотографий людей после 60 не слишком много, поэтому модель может ошибиться из-за недостаточного количества данных. Людей, чей возраст больше 80 еще меньше, соответственно ошибка при определении их возраста может быть еще выше."
   ]
  },
  {
   "cell_type": "markdown",
   "metadata": {},
   "source": [
    "## Обучение модели"
   ]
  },
  {
   "cell_type": "markdown",
   "metadata": {},
   "source": [
    "*Первоначальный код*"
   ]
  },
  {
   "attachments": {},
   "cell_type": "markdown",
   "metadata": {},
   "source": [
    "```python\n",
    "import pandas as pd\n",
    "import numpy as np\n",
    "import matplotlib.pyplot as plt\n",
    "\n",
    "import tensorflow as tf\n",
    "from tensorflow.keras.preprocessing.image import ImageDataGenerator\n",
    "from tensorflow.keras.models import Sequential\n",
    "from tensorflow.keras.layers import Dense, Flatten\n",
    "from tensorflow.keras.applications.resnet50 import ResNet50\n",
    "\n",
    "def load_train(path):\n",
    "    labels = pd.read_csv(path + '/labels.csv')\n",
    "    datagen = ImageDataGenerator(rescale=1./255,\n",
    "                                 validation_split=0.25,\n",
    "                                 horizontal_flip=True)\n",
    "    train_datagen = datagen.flow_from_dataframe(dataframe=labels,\n",
    "                                                directory=path + '/final_files/',\n",
    "                                                x_col='file_name',\n",
    "                                                y_col='real_age',\n",
    "                                                target_size=(224, 224),\n",
    "                                                batch_size=32,\n",
    "                                                class_mode='raw',\n",
    "                                                subset='training',\n",
    "                                                seed=42)\n",
    "    return train_datagen\n",
    "\n",
    "def load_test(path):\n",
    "    labels = pd.read_csv(path + '/labels.csv')\n",
    "    datagen = ImageDataGenerator(rescale=1./255,\n",
    "                                 validation_split=0.25,\n",
    "                                 horizontal_flip=True)\n",
    "    test_datagen = datagen.flow_from_dataframe(dataframe=labels,\n",
    "                                               directory=path + '/final_files/',\n",
    "                                               x_col='file_name',\n",
    "                                               y_col='real_age',\n",
    "                                               target_size=(224, 224),\n",
    "                                               batch_size=32,\n",
    "                                               class_mode='raw',\n",
    "                                               subset='validation',\n",
    "                                               seed=42)\n",
    "    return test_datagen\n",
    "   \n",
    "\n",
    "def create_model():\n",
    "    resnet = ResNet50(weights='imagenet', include_top=False, input_shape=(224, 224, 3))\n",
    "    model = Sequential()\n",
    "    model.add(resnet)\n",
    "    model.add(Flatten())\n",
    "    model.add(Dense(256, activation='relu'))\n",
    "    model.add(Dense(128, activation='relu'))\n",
    "    model.add(Dense(1, activation=None))\n",
    "    model.compile(loss='mae', optimizer=tf.keras.optimizers.Adam(lr=0.0001), metrics=['mae'])\n",
    "    \n",
    "    return model\n",
    "\n",
    "\n",
    "\n",
    "def train_model(model, train_data, test_data, batch_size=None, epochs=5,\n",
    "                steps_per_epoch=None, validation_steps=None):\n",
    "        \n",
    "    model.fit(train_data, \n",
    "              validation_data=test_data, \n",
    "              batch_size=batch_size, \n",
    "              epochs=epochs, \n",
    "              steps_per_epoch=steps_per_epoch, \n",
    "              validation_steps=validation_steps, \n",
    "              verbose=2)\n",
    "    \n",
    "    return model\n",
    "\n",
    "```"
   ]
  },
  {
   "attachments": {},
   "cell_type": "markdown",
   "metadata": {},
   "source": [
    "**Комментарий к правке первоначального кода:**\n",
    "- аугментацию в тестовой выборке убрала;\n",
    "- МАЕ использовала намеренно, так как в контексте задачи, модель будет минимизировать именно МАЕ.\n",
    "- Применяю линейную функцию активации, так как мы ожидаем от модели возраст клиента и просто передаем входные значения без изменений.\n",
    "\n",
    "- **Эксперимент №1 функция потерь mse, функция активации relu**\n",
    "\n",
    "60/60 - 11s - loss: 92.1876 - mae: 7.1915\n",
    "Test MAE: 7.1915\n",
    "\n",
    "- **Эксперимент №2 функция потерь mse, функция активации None**\n",
    "\n",
    "60/60 - 11s - loss: 80.0059 - mae: 6.7166\n",
    "Test MAE: 6.71\n",
    "Таким образом, лучше заменить МАЕ в функции потерь на MSE (было с МАЕ: 60/60 - 11s - loss: 6.9105 - mae: 6.9094\n",
    "Test MAE: 6.9094)\n",
    "\n",
    "- **Эксперимент №3 функция потерь mse, функция активации  tanh**\n",
    "\n",
    "60/60 - 11s - loss: 1107.3302 - mae: 28.6162\n",
    "Test MAE: 28.6162\n",
    "\n",
    "- **Эксперимент №4 использование слоя GlobalAveragePooling2D вместо Flatten**\n",
    "\n",
    "60/60 - 11s - loss: 89.1308 - mae: 7.1782\n",
    "Test MAE: 7.1782\n",
    "\n",
    "- **Эксперимент №5 использование слоя GlobalAveragePooling2D и увеличение кол-во нейронов (в модели и добавим еще один слой с 512 нейронами)**\n",
    "\n",
    "60/60 - 11s - loss: 8.4558 - mae: 8.4772\n",
    "Test MAE: 8.4772\n",
    "\n",
    "- **Эксперимент №6 увеличение кол-ва эпох до 20**\n",
    "\n",
    "60/60 - 11s - loss: 5.8110 - mae: 5.8030\n",
    "Test MAE: 5.8030\n",
    "\n",
    "- **Эксперимент №7 первоночальная модель и увеличение кол-ва эпох до 20**\n",
    "60/60 - 10s - loss: 63.1681 - mae: 5.8968\n",
    "Test MAE: 5.8968\n",
    "\n",
    "**Вывод - в качестве функции активации в данном случае лучше использовать линейную функцию, а для функции потерь можно использовать mse, результат на 0,02 лучше, чем с МАЕ. Также качество модели удалось повысить до 5,80 (было 6.9094) с помощью замены слоя Flatten() на GlobalAveragePooling2D() и добавлением еще 512 нейронов.**"
   ]
  },
  {
   "cell_type": "markdown",
   "metadata": {},
   "source": [
    "*Улучшенный код*"
   ]
  },
  {
   "cell_type": "markdown",
   "metadata": {},
   "source": [
    "```python\n",
    "\n",
    "import pandas as pd\n",
    "import numpy as np\n",
    "import matplotlib.pyplot as plt\n",
    "\n",
    "import tensorflow as tf\n",
    "from tensorflow.keras.preprocessing.image import ImageDataGenerator\n",
    "from tensorflow.keras.models import Sequential\n",
    "from tensorflow.keras.layers import Dense, Flatten\n",
    "from tensorflow.keras.applications.resnet50 import ResNet50\n",
    "from tensorflow.keras.layers import GlobalAveragePooling2D\n",
    "\n",
    "def load_train(path):\n",
    "    labels = pd.read_csv(path + '/labels.csv')\n",
    "    datagen = ImageDataGenerator(rescale=1./255,\n",
    "                                 validation_split=0.25,\n",
    "                                 horizontal_flip=True)\n",
    "    train_datagen = datagen.flow_from_dataframe(dataframe=labels,\n",
    "                                                directory=path + '/final_files/',\n",
    "                                                x_col='file_name',\n",
    "                                                y_col='real_age',\n",
    "                                                target_size=(224, 224),\n",
    "                                                batch_size=32,\n",
    "                                                class_mode='raw',\n",
    "                                                subset='training',\n",
    "                                                seed=42)\n",
    "    return train_datagen\n",
    "\n",
    "def load_test(path):\n",
    "    labels = pd.read_csv(path + '/labels.csv')\n",
    "    datagen = ImageDataGenerator(rescale=1./255,\n",
    "                                 validation_split=0.25)\n",
    "    test_datagen = datagen.flow_from_dataframe(dataframe=labels,\n",
    "                                               directory=path + '/final_files/',\n",
    "                                               x_col='file_name',\n",
    "                                               y_col='real_age',\n",
    "                                               target_size=(224, 224),\n",
    "                                               batch_size=32,\n",
    "                                               class_mode='raw',\n",
    "                                               subset='validation',\n",
    "                                               seed=42)\n",
    "    return test_datagen\n",
    "   \n",
    "\n",
    "def create_model(input_shape):\n",
    "    resnet = ResNet50(weights='imagenet', include_top=False, input_shape=(224, 224, 3))\n",
    "    model = Sequential()\n",
    "    model.add(resnet)\n",
    "    model.add(GlobalAveragePooling2D())\n",
    "    model.add(Dense(512, activation='relu'))\n",
    "    model.add(Dense(256, activation='relu'))\n",
    "    model.add(Dense(128, activation='relu'))\n",
    "    model.add(Dense(1, activation=None))\n",
    "    model.compile(loss='mae', optimizer=tf.keras.optimizers.Adam(lr=0.0001), metrics=['mae'])\n",
    "    \n",
    "    return model\n",
    "\n",
    "\n",
    "def train_model(model, train_data, test_data, batch_size=None, epochs=20,\n",
    "                steps_per_epoch=None, validation_steps=None):\n",
    "        \n",
    "    model.fit(train_data, \n",
    "              validation_data=test_data, \n",
    "              batch_size=batch_size, \n",
    "              epochs=epochs, \n",
    "              steps_per_epoch=steps_per_epoch, \n",
    "              validation_steps=validation_steps, \n",
    "              verbose=2)\n",
    "    \n",
    "    return model\n",
    "\n",
    "\n",
    "```"
   ]
  },
  {
   "cell_type": "markdown",
   "metadata": {},
   "source": [
    "```\n",
    "\n",
    "Epoch 1/20\n",
    "2023-04-30 17:28:51.722512: I tensorflow/stream_executor/platform/default/dso_loader.cc:44] Successfully opened dynamic library libcublas.so.10\n",
    "2023-04-30 17:28:52.187542: I tensorflow/stream_executor/platform/default/dso_loader.cc:44] Successfully opened dynamic library libcudnn.so.7\n",
    "178/178 - 57s - loss: 10.7822 - mae: 10.7762 - val_loss: 17.2887 - val_mae: 17.2139\n",
    "Epoch 2/20\n",
    "178/178 - 44s - loss: 7.1273 - mae: 7.1270 - val_loss: 16.4334 - val_mae: 16.3713\n",
    "Epoch 3/20\n",
    "178/178 - 41s - loss: 6.0263 - mae: 6.0265 - val_loss: 14.7739 - val_mae: 14.7010\n",
    "Epoch 4/20\n",
    "178/178 - 56s - loss: 5.4816 - mae: 5.4817 - val_loss: 8.4559 - val_mae: 8.4506\n",
    "Epoch 5/20\n",
    "178/178 - 58s - loss: 4.9353 - mae: 4.9350 - val_loss: 6.8568 - val_mae: 6.8390\n",
    "Epoch 6/20\n",
    "178/178 - 61s - loss: 4.4186 - mae: 4.4187 - val_loss: 6.2662 - val_mae: 6.2492\n",
    "Epoch 7/20\n",
    "178/178 - 60s - loss: 4.0840 - mae: 4.0841 - val_loss: 7.3995 - val_mae: 7.3891\n",
    "Epoch 8/20\n",
    "178/178 - 61s - loss: 3.9761 - mae: 3.9764 - val_loss: 6.1792 - val_mae: 6.1651\n",
    "Epoch 9/20\n",
    "178/178 - 52s - loss: 3.6238 - mae: 3.6240 - val_loss: 6.7641 - val_mae: 6.7396\n",
    "Epoch 10/20\n",
    "178/178 - 41s - loss: 3.3873 - mae: 3.3875 - val_loss: 6.4637 - val_mae: 6.4594\n",
    "Epoch 11/20\n",
    "178/178 - 40s - loss: 3.2605 - mae: 3.2607 - val_loss: 6.1001 - val_mae: 6.0921\n",
    "Epoch 12/20\n",
    "178/178 - 42s - loss: 2.9840 - mae: 2.9840 - val_loss: 6.1655 - val_mae: 6.1643\n",
    "Epoch 13/20\n",
    "178/178 - 40s - loss: 2.9180 - mae: 2.9182 - val_loss: 5.9803 - val_mae: 5.9768\n",
    "Epoch 14/20\n",
    "178/178 - 40s - loss: 2.7838 - mae: 2.7838 - val_loss: 6.0886 - val_mae: 6.0833\n",
    "Epoch 15/20\n",
    "178/178 - 41s - loss: 2.6836 - mae: 2.6833 - val_loss: 5.8764 - val_mae: 5.8632\n",
    "Epoch 16/20\n",
    "178/178 - 41s - loss: 2.6091 - mae: 2.6092 - val_loss: 6.0117 - val_mae: 5.9932\n",
    "Epoch 17/20\n",
    "178/178 - 41s - loss: 2.5400 - mae: 2.5401 - val_loss: 5.8350 - val_mae: 5.8201\n",
    "Epoch 18/20\n",
    "178/178 - 41s - loss: 2.5454 - mae: 2.5455 - val_loss: 6.1822 - val_mae: 6.1772\n",
    "Epoch 19/20\n",
    "178/178 - 45s - loss: 2.3825 - mae: 2.3820 - val_loss: 6.2796 - val_mae: 6.2639\n",
    "Epoch 20/20\n",
    "178/178 - 60s - loss: 2.3612 - mae: 2.3613 - val_loss: 5.8110 - val_mae: 5.8030\n",
    "WARNING:tensorflow:sample_weight modes were coerced from\n",
    "  ...\n",
    "    to  \n",
    "  ['...']\n",
    "60/60 - 11s - loss: 5.8110 - mae: 5.8030\n",
    "Test MAE: 5.8030\n",
    "\n",
    "\n",
    "\n",
    "```"
   ]
  },
  {
   "cell_type": "markdown",
   "metadata": {},
   "source": [
    "## Анализ обученной модели"
   ]
  },
  {
   "cell_type": "markdown",
   "metadata": {},
   "source": [
    "Сетевой супермаркет «Хлеб-Соль» внедряет систему компьютерного зрения для обработки фотографий покупателей. Фотофиксация в прикассовой зоне поможет определять возраст клиентов, чтобы:\n",
    "\n",
    "- Анализировать покупки и предлагать товары, которые могут заинтересовать покупателей этой возрастной группы;\n",
    "\n",
    "- Контролировать добросовестность кассиров при продаже алкоголя.\n",
    "\n",
    "Для реализации задачи был использован датасет с фотографиями людей, всего изображений 7591. Самый распространенный возраст от 20 до 40 лет, реже встречаются люди в более старшем возрасте, от 60 лет, скорей всего на них модель будет ошибаться чаще, из-за недостатка данных. \n",
    "\n",
    "Далее мы использовали предобученную модель ResNet50, и дополнительнительные нейронный слои, в результате ряда эксперементов нам удалось добиться ошибки MAE на тестовой выборке 5,8 , что меньше 7, но недостаточно для достижения эталонного результата в 5,4. Чтоб минимизировать ошибку в дальнейшем необходима более сложная архитектура нейронной сети. "
   ]
  }
 ],
 "metadata": {
  "ExecuteTimeLog": [
   {
    "duration": 2714,
    "start_time": "2023-04-30T02:33:02.661Z"
   },
   {
    "duration": 98,
    "start_time": "2023-04-30T02:33:12.785Z"
   },
   {
    "duration": 96540,
    "start_time": "2023-04-30T02:33:23.104Z"
   },
   {
    "duration": 5,
    "start_time": "2023-04-30T02:34:59.647Z"
   },
   {
    "duration": 155,
    "start_time": "2023-04-30T02:34:59.655Z"
   },
   {
    "duration": 2152,
    "start_time": "2023-04-30T02:34:59.812Z"
   },
   {
    "duration": 15,
    "start_time": "2023-04-30T02:35:01.965Z"
   },
   {
    "duration": 3039,
    "start_time": "2023-04-30T13:47:23.892Z"
   },
   {
    "duration": 111,
    "start_time": "2023-04-30T13:47:26.934Z"
   },
   {
    "duration": 96217,
    "start_time": "2023-04-30T13:47:27.048Z"
   },
   {
    "duration": 4,
    "start_time": "2023-04-30T13:49:03.267Z"
   },
   {
    "duration": 214,
    "start_time": "2023-04-30T13:49:03.273Z"
   },
   {
    "duration": 2274,
    "start_time": "2023-04-30T13:49:03.489Z"
   },
   {
    "duration": 18,
    "start_time": "2023-04-30T13:49:05.766Z"
   },
   {
    "duration": 3072,
    "start_time": "2023-04-30T15:42:44.584Z"
   },
   {
    "duration": 146,
    "start_time": "2023-04-30T15:42:47.662Z"
   },
   {
    "duration": 138655,
    "start_time": "2023-04-30T15:42:47.811Z"
   },
   {
    "duration": 112,
    "start_time": "2023-04-30T15:45:06.468Z"
   },
   {
    "duration": 175,
    "start_time": "2023-04-30T17:30:36.644Z"
   },
   {
    "duration": 26,
    "start_time": "2023-04-30T17:31:07.472Z"
   }
  ],
  "kernelspec": {
   "display_name": "Python 3 (ipykernel)",
   "language": "python",
   "name": "python3"
  },
  "language_info": {
   "codemirror_mode": {
    "name": "ipython",
    "version": 3
   },
   "file_extension": ".py",
   "mimetype": "text/x-python",
   "name": "python",
   "nbconvert_exporter": "python",
   "pygments_lexer": "ipython3",
   "version": "3.9.13"
  },
  "toc": {
   "base_numbering": 1,
   "nav_menu": {},
   "number_sections": true,
   "sideBar": true,
   "skip_h1_title": true,
   "title_cell": "Table of Contents",
   "title_sidebar": "Contents",
   "toc_cell": false,
   "toc_position": {},
   "toc_section_display": true,
   "toc_window_display": false
  }
 },
 "nbformat": 4,
 "nbformat_minor": 2
}

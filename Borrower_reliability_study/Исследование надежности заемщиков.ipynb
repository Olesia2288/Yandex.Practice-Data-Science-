{
 "cells": [
  {
   "cell_type": "markdown",
   "id": "4f1ed8bf",
   "metadata": {
    "deletable": false,
    "editable": false,
    "id": "c81daeeb"
   },
   "source": [
    "# Исследование надежности заемщиков\n"
   ]
  },
  {
   "cell_type": "markdown",
   "id": "1e1a4bdb",
   "metadata": {
    "deletable": false,
    "editable": false,
    "id": "744d7639"
   },
   "source": [
    "## Откройте таблицу и изучите общую информацию о данных"
   ]
  },
  {
   "cell_type": "markdown",
   "id": "1930a37c",
   "metadata": {
    "deletable": false,
    "editable": false,
    "id": "e7a14c31"
   },
   "source": [
    "**Задание 1. Импортируйте библиотеку pandas. Считайте данные из csv-файла в датафрейм и сохраните в переменную `data`. Путь к файлу:**\n",
    "\n",
    "`/datasets/data.csv`"
   ]
  },
  {
   "cell_type": "code",
   "execution_count": 1,
   "id": "d2fb9d75",
   "metadata": {
    "deletable": false,
    "id": "7bcf75c9"
   },
   "outputs": [],
   "source": [
    "import pandas as pd\n",
    "data = pd.read_csv('/datasets/data.csv')"
   ]
  },
  {
   "cell_type": "markdown",
   "id": "8709323d",
   "metadata": {
    "deletable": false,
    "editable": false,
    "id": "b8038fe3"
   },
   "source": [
    "**Задание 2. Выведите первые 20 строчек датафрейма `data` на экран.**"
   ]
  },
  {
   "cell_type": "code",
   "execution_count": 2,
   "id": "a9c61178",
   "metadata": {
    "deletable": false,
    "id": "2a7cab99",
    "outputId": "1a8f3ef2-d323-4ec2-ddf7-89670b5944c4"
   },
   "outputs": [
    {
     "data": {
      "text/html": [
       "<div>\n",
       "<style scoped>\n",
       "    .dataframe tbody tr th:only-of-type {\n",
       "        vertical-align: middle;\n",
       "    }\n",
       "\n",
       "    .dataframe tbody tr th {\n",
       "        vertical-align: top;\n",
       "    }\n",
       "\n",
       "    .dataframe thead th {\n",
       "        text-align: right;\n",
       "    }\n",
       "</style>\n",
       "<table border=\"1\" class=\"dataframe\">\n",
       "  <thead>\n",
       "    <tr style=\"text-align: right;\">\n",
       "      <th></th>\n",
       "      <th>children</th>\n",
       "      <th>days_employed</th>\n",
       "      <th>dob_years</th>\n",
       "      <th>education</th>\n",
       "      <th>education_id</th>\n",
       "      <th>family_status</th>\n",
       "      <th>family_status_id</th>\n",
       "      <th>gender</th>\n",
       "      <th>income_type</th>\n",
       "      <th>debt</th>\n",
       "      <th>total_income</th>\n",
       "      <th>purpose</th>\n",
       "    </tr>\n",
       "  </thead>\n",
       "  <tbody>\n",
       "    <tr>\n",
       "      <th>0</th>\n",
       "      <td>1</td>\n",
       "      <td>-8437.673028</td>\n",
       "      <td>42</td>\n",
       "      <td>высшее</td>\n",
       "      <td>0</td>\n",
       "      <td>женат / замужем</td>\n",
       "      <td>0</td>\n",
       "      <td>F</td>\n",
       "      <td>сотрудник</td>\n",
       "      <td>0</td>\n",
       "      <td>253875.639453</td>\n",
       "      <td>покупка жилья</td>\n",
       "    </tr>\n",
       "    <tr>\n",
       "      <th>1</th>\n",
       "      <td>1</td>\n",
       "      <td>-4024.803754</td>\n",
       "      <td>36</td>\n",
       "      <td>среднее</td>\n",
       "      <td>1</td>\n",
       "      <td>женат / замужем</td>\n",
       "      <td>0</td>\n",
       "      <td>F</td>\n",
       "      <td>сотрудник</td>\n",
       "      <td>0</td>\n",
       "      <td>112080.014102</td>\n",
       "      <td>приобретение автомобиля</td>\n",
       "    </tr>\n",
       "    <tr>\n",
       "      <th>2</th>\n",
       "      <td>0</td>\n",
       "      <td>-5623.422610</td>\n",
       "      <td>33</td>\n",
       "      <td>Среднее</td>\n",
       "      <td>1</td>\n",
       "      <td>женат / замужем</td>\n",
       "      <td>0</td>\n",
       "      <td>M</td>\n",
       "      <td>сотрудник</td>\n",
       "      <td>0</td>\n",
       "      <td>145885.952297</td>\n",
       "      <td>покупка жилья</td>\n",
       "    </tr>\n",
       "    <tr>\n",
       "      <th>3</th>\n",
       "      <td>3</td>\n",
       "      <td>-4124.747207</td>\n",
       "      <td>32</td>\n",
       "      <td>среднее</td>\n",
       "      <td>1</td>\n",
       "      <td>женат / замужем</td>\n",
       "      <td>0</td>\n",
       "      <td>M</td>\n",
       "      <td>сотрудник</td>\n",
       "      <td>0</td>\n",
       "      <td>267628.550329</td>\n",
       "      <td>дополнительное образование</td>\n",
       "    </tr>\n",
       "    <tr>\n",
       "      <th>4</th>\n",
       "      <td>0</td>\n",
       "      <td>340266.072047</td>\n",
       "      <td>53</td>\n",
       "      <td>среднее</td>\n",
       "      <td>1</td>\n",
       "      <td>гражданский брак</td>\n",
       "      <td>1</td>\n",
       "      <td>F</td>\n",
       "      <td>пенсионер</td>\n",
       "      <td>0</td>\n",
       "      <td>158616.077870</td>\n",
       "      <td>сыграть свадьбу</td>\n",
       "    </tr>\n",
       "    <tr>\n",
       "      <th>5</th>\n",
       "      <td>0</td>\n",
       "      <td>-926.185831</td>\n",
       "      <td>27</td>\n",
       "      <td>высшее</td>\n",
       "      <td>0</td>\n",
       "      <td>гражданский брак</td>\n",
       "      <td>1</td>\n",
       "      <td>M</td>\n",
       "      <td>компаньон</td>\n",
       "      <td>0</td>\n",
       "      <td>255763.565419</td>\n",
       "      <td>покупка жилья</td>\n",
       "    </tr>\n",
       "    <tr>\n",
       "      <th>6</th>\n",
       "      <td>0</td>\n",
       "      <td>-2879.202052</td>\n",
       "      <td>43</td>\n",
       "      <td>высшее</td>\n",
       "      <td>0</td>\n",
       "      <td>женат / замужем</td>\n",
       "      <td>0</td>\n",
       "      <td>F</td>\n",
       "      <td>компаньон</td>\n",
       "      <td>0</td>\n",
       "      <td>240525.971920</td>\n",
       "      <td>операции с жильем</td>\n",
       "    </tr>\n",
       "    <tr>\n",
       "      <th>7</th>\n",
       "      <td>0</td>\n",
       "      <td>-152.779569</td>\n",
       "      <td>50</td>\n",
       "      <td>СРЕДНЕЕ</td>\n",
       "      <td>1</td>\n",
       "      <td>женат / замужем</td>\n",
       "      <td>0</td>\n",
       "      <td>M</td>\n",
       "      <td>сотрудник</td>\n",
       "      <td>0</td>\n",
       "      <td>135823.934197</td>\n",
       "      <td>образование</td>\n",
       "    </tr>\n",
       "    <tr>\n",
       "      <th>8</th>\n",
       "      <td>2</td>\n",
       "      <td>-6929.865299</td>\n",
       "      <td>35</td>\n",
       "      <td>ВЫСШЕЕ</td>\n",
       "      <td>0</td>\n",
       "      <td>гражданский брак</td>\n",
       "      <td>1</td>\n",
       "      <td>F</td>\n",
       "      <td>сотрудник</td>\n",
       "      <td>0</td>\n",
       "      <td>95856.832424</td>\n",
       "      <td>на проведение свадьбы</td>\n",
       "    </tr>\n",
       "    <tr>\n",
       "      <th>9</th>\n",
       "      <td>0</td>\n",
       "      <td>-2188.756445</td>\n",
       "      <td>41</td>\n",
       "      <td>среднее</td>\n",
       "      <td>1</td>\n",
       "      <td>женат / замужем</td>\n",
       "      <td>0</td>\n",
       "      <td>M</td>\n",
       "      <td>сотрудник</td>\n",
       "      <td>0</td>\n",
       "      <td>144425.938277</td>\n",
       "      <td>покупка жилья для семьи</td>\n",
       "    </tr>\n",
       "    <tr>\n",
       "      <th>10</th>\n",
       "      <td>2</td>\n",
       "      <td>-4171.483647</td>\n",
       "      <td>36</td>\n",
       "      <td>высшее</td>\n",
       "      <td>0</td>\n",
       "      <td>женат / замужем</td>\n",
       "      <td>0</td>\n",
       "      <td>M</td>\n",
       "      <td>компаньон</td>\n",
       "      <td>0</td>\n",
       "      <td>113943.491460</td>\n",
       "      <td>покупка недвижимости</td>\n",
       "    </tr>\n",
       "    <tr>\n",
       "      <th>11</th>\n",
       "      <td>0</td>\n",
       "      <td>-792.701887</td>\n",
       "      <td>40</td>\n",
       "      <td>среднее</td>\n",
       "      <td>1</td>\n",
       "      <td>женат / замужем</td>\n",
       "      <td>0</td>\n",
       "      <td>F</td>\n",
       "      <td>сотрудник</td>\n",
       "      <td>0</td>\n",
       "      <td>77069.234271</td>\n",
       "      <td>покупка коммерческой недвижимости</td>\n",
       "    </tr>\n",
       "    <tr>\n",
       "      <th>12</th>\n",
       "      <td>0</td>\n",
       "      <td>NaN</td>\n",
       "      <td>65</td>\n",
       "      <td>среднее</td>\n",
       "      <td>1</td>\n",
       "      <td>гражданский брак</td>\n",
       "      <td>1</td>\n",
       "      <td>M</td>\n",
       "      <td>пенсионер</td>\n",
       "      <td>0</td>\n",
       "      <td>NaN</td>\n",
       "      <td>сыграть свадьбу</td>\n",
       "    </tr>\n",
       "    <tr>\n",
       "      <th>13</th>\n",
       "      <td>0</td>\n",
       "      <td>-1846.641941</td>\n",
       "      <td>54</td>\n",
       "      <td>неоконченное высшее</td>\n",
       "      <td>2</td>\n",
       "      <td>женат / замужем</td>\n",
       "      <td>0</td>\n",
       "      <td>F</td>\n",
       "      <td>сотрудник</td>\n",
       "      <td>0</td>\n",
       "      <td>130458.228857</td>\n",
       "      <td>приобретение автомобиля</td>\n",
       "    </tr>\n",
       "    <tr>\n",
       "      <th>14</th>\n",
       "      <td>0</td>\n",
       "      <td>-1844.956182</td>\n",
       "      <td>56</td>\n",
       "      <td>высшее</td>\n",
       "      <td>0</td>\n",
       "      <td>гражданский брак</td>\n",
       "      <td>1</td>\n",
       "      <td>F</td>\n",
       "      <td>компаньон</td>\n",
       "      <td>1</td>\n",
       "      <td>165127.911772</td>\n",
       "      <td>покупка жилой недвижимости</td>\n",
       "    </tr>\n",
       "    <tr>\n",
       "      <th>15</th>\n",
       "      <td>1</td>\n",
       "      <td>-972.364419</td>\n",
       "      <td>26</td>\n",
       "      <td>среднее</td>\n",
       "      <td>1</td>\n",
       "      <td>женат / замужем</td>\n",
       "      <td>0</td>\n",
       "      <td>F</td>\n",
       "      <td>сотрудник</td>\n",
       "      <td>0</td>\n",
       "      <td>116820.904450</td>\n",
       "      <td>строительство собственной недвижимости</td>\n",
       "    </tr>\n",
       "    <tr>\n",
       "      <th>16</th>\n",
       "      <td>0</td>\n",
       "      <td>-1719.934226</td>\n",
       "      <td>35</td>\n",
       "      <td>среднее</td>\n",
       "      <td>1</td>\n",
       "      <td>женат / замужем</td>\n",
       "      <td>0</td>\n",
       "      <td>F</td>\n",
       "      <td>сотрудник</td>\n",
       "      <td>0</td>\n",
       "      <td>289202.704229</td>\n",
       "      <td>недвижимость</td>\n",
       "    </tr>\n",
       "    <tr>\n",
       "      <th>17</th>\n",
       "      <td>0</td>\n",
       "      <td>-2369.999720</td>\n",
       "      <td>33</td>\n",
       "      <td>высшее</td>\n",
       "      <td>0</td>\n",
       "      <td>гражданский брак</td>\n",
       "      <td>1</td>\n",
       "      <td>M</td>\n",
       "      <td>сотрудник</td>\n",
       "      <td>0</td>\n",
       "      <td>90410.586745</td>\n",
       "      <td>строительство недвижимости</td>\n",
       "    </tr>\n",
       "    <tr>\n",
       "      <th>18</th>\n",
       "      <td>0</td>\n",
       "      <td>400281.136913</td>\n",
       "      <td>53</td>\n",
       "      <td>среднее</td>\n",
       "      <td>1</td>\n",
       "      <td>вдовец / вдова</td>\n",
       "      <td>2</td>\n",
       "      <td>F</td>\n",
       "      <td>пенсионер</td>\n",
       "      <td>0</td>\n",
       "      <td>56823.777243</td>\n",
       "      <td>на покупку подержанного автомобиля</td>\n",
       "    </tr>\n",
       "    <tr>\n",
       "      <th>19</th>\n",
       "      <td>0</td>\n",
       "      <td>-10038.818549</td>\n",
       "      <td>48</td>\n",
       "      <td>СРЕДНЕЕ</td>\n",
       "      <td>1</td>\n",
       "      <td>в разводе</td>\n",
       "      <td>3</td>\n",
       "      <td>F</td>\n",
       "      <td>сотрудник</td>\n",
       "      <td>0</td>\n",
       "      <td>242831.107982</td>\n",
       "      <td>на покупку своего автомобиля</td>\n",
       "    </tr>\n",
       "  </tbody>\n",
       "</table>\n",
       "</div>"
      ],
      "text/plain": [
       "    children  days_employed  dob_years            education  education_id  \\\n",
       "0          1   -8437.673028         42               высшее             0   \n",
       "1          1   -4024.803754         36              среднее             1   \n",
       "2          0   -5623.422610         33              Среднее             1   \n",
       "3          3   -4124.747207         32              среднее             1   \n",
       "4          0  340266.072047         53              среднее             1   \n",
       "5          0    -926.185831         27               высшее             0   \n",
       "6          0   -2879.202052         43               высшее             0   \n",
       "7          0    -152.779569         50              СРЕДНЕЕ             1   \n",
       "8          2   -6929.865299         35               ВЫСШЕЕ             0   \n",
       "9          0   -2188.756445         41              среднее             1   \n",
       "10         2   -4171.483647         36               высшее             0   \n",
       "11         0    -792.701887         40              среднее             1   \n",
       "12         0            NaN         65              среднее             1   \n",
       "13         0   -1846.641941         54  неоконченное высшее             2   \n",
       "14         0   -1844.956182         56               высшее             0   \n",
       "15         1    -972.364419         26              среднее             1   \n",
       "16         0   -1719.934226         35              среднее             1   \n",
       "17         0   -2369.999720         33               высшее             0   \n",
       "18         0  400281.136913         53              среднее             1   \n",
       "19         0  -10038.818549         48              СРЕДНЕЕ             1   \n",
       "\n",
       "       family_status  family_status_id gender income_type  debt  \\\n",
       "0    женат / замужем                 0      F   сотрудник     0   \n",
       "1    женат / замужем                 0      F   сотрудник     0   \n",
       "2    женат / замужем                 0      M   сотрудник     0   \n",
       "3    женат / замужем                 0      M   сотрудник     0   \n",
       "4   гражданский брак                 1      F   пенсионер     0   \n",
       "5   гражданский брак                 1      M   компаньон     0   \n",
       "6    женат / замужем                 0      F   компаньон     0   \n",
       "7    женат / замужем                 0      M   сотрудник     0   \n",
       "8   гражданский брак                 1      F   сотрудник     0   \n",
       "9    женат / замужем                 0      M   сотрудник     0   \n",
       "10   женат / замужем                 0      M   компаньон     0   \n",
       "11   женат / замужем                 0      F   сотрудник     0   \n",
       "12  гражданский брак                 1      M   пенсионер     0   \n",
       "13   женат / замужем                 0      F   сотрудник     0   \n",
       "14  гражданский брак                 1      F   компаньон     1   \n",
       "15   женат / замужем                 0      F   сотрудник     0   \n",
       "16   женат / замужем                 0      F   сотрудник     0   \n",
       "17  гражданский брак                 1      M   сотрудник     0   \n",
       "18    вдовец / вдова                 2      F   пенсионер     0   \n",
       "19         в разводе                 3      F   сотрудник     0   \n",
       "\n",
       "     total_income                                 purpose  \n",
       "0   253875.639453                           покупка жилья  \n",
       "1   112080.014102                 приобретение автомобиля  \n",
       "2   145885.952297                           покупка жилья  \n",
       "3   267628.550329              дополнительное образование  \n",
       "4   158616.077870                         сыграть свадьбу  \n",
       "5   255763.565419                           покупка жилья  \n",
       "6   240525.971920                       операции с жильем  \n",
       "7   135823.934197                             образование  \n",
       "8    95856.832424                   на проведение свадьбы  \n",
       "9   144425.938277                 покупка жилья для семьи  \n",
       "10  113943.491460                    покупка недвижимости  \n",
       "11   77069.234271       покупка коммерческой недвижимости  \n",
       "12            NaN                         сыграть свадьбу  \n",
       "13  130458.228857                 приобретение автомобиля  \n",
       "14  165127.911772              покупка жилой недвижимости  \n",
       "15  116820.904450  строительство собственной недвижимости  \n",
       "16  289202.704229                            недвижимость  \n",
       "17   90410.586745              строительство недвижимости  \n",
       "18   56823.777243      на покупку подержанного автомобиля  \n",
       "19  242831.107982            на покупку своего автомобиля  "
      ]
     },
     "execution_count": 2,
     "metadata": {},
     "output_type": "execute_result"
    }
   ],
   "source": [
    "data.head(20)"
   ]
  },
  {
   "cell_type": "markdown",
   "id": "cc6f24a3",
   "metadata": {
    "deletable": false,
    "editable": false,
    "id": "1c12e233"
   },
   "source": [
    "**Задание 3. Выведите основную информацию о датафрейме с помощью метода `info()`.**"
   ]
  },
  {
   "cell_type": "code",
   "execution_count": 3,
   "id": "283f6550",
   "metadata": {
    "deletable": false,
    "id": "2b757bca",
    "outputId": "15376089-8dad-46c9-b520-c05248d43158"
   },
   "outputs": [
    {
     "name": "stdout",
     "output_type": "stream",
     "text": [
      "<class 'pandas.core.frame.DataFrame'>\n",
      "RangeIndex: 21525 entries, 0 to 21524\n",
      "Data columns (total 12 columns):\n",
      " #   Column            Non-Null Count  Dtype  \n",
      "---  ------            --------------  -----  \n",
      " 0   children          21525 non-null  int64  \n",
      " 1   days_employed     19351 non-null  float64\n",
      " 2   dob_years         21525 non-null  int64  \n",
      " 3   education         21525 non-null  object \n",
      " 4   education_id      21525 non-null  int64  \n",
      " 5   family_status     21525 non-null  object \n",
      " 6   family_status_id  21525 non-null  int64  \n",
      " 7   gender            21525 non-null  object \n",
      " 8   income_type       21525 non-null  object \n",
      " 9   debt              21525 non-null  int64  \n",
      " 10  total_income      19351 non-null  float64\n",
      " 11  purpose           21525 non-null  object \n",
      "dtypes: float64(2), int64(5), object(5)\n",
      "memory usage: 2.0+ MB\n"
     ]
    }
   ],
   "source": [
    "data.info()"
   ]
  },
  {
   "cell_type": "markdown",
   "id": "c83fcf68",
   "metadata": {
    "deletable": false,
    "editable": false,
    "id": "333ec665"
   },
   "source": [
    "## Предобработка данных"
   ]
  },
  {
   "cell_type": "markdown",
   "id": "a0eaecd5",
   "metadata": {
    "deletable": false,
    "editable": false,
    "id": "02d92d53"
   },
   "source": [
    "### Удаление пропусков"
   ]
  },
  {
   "cell_type": "markdown",
   "id": "514896c6",
   "metadata": {
    "deletable": false,
    "editable": false,
    "id": "cd84967c"
   },
   "source": [
    "**Задание 4. Выведите количество пропущенных значений для каждого столбца. Используйте комбинацию двух методов.**"
   ]
  },
  {
   "cell_type": "code",
   "execution_count": 4,
   "id": "0e691d8c",
   "metadata": {
    "deletable": false,
    "id": "7f9b2309",
    "outputId": "81f4d817-781c-465c-ed15-91ce4446810d"
   },
   "outputs": [
    {
     "data": {
      "text/plain": [
       "children               0\n",
       "days_employed       2174\n",
       "dob_years              0\n",
       "education              0\n",
       "education_id           0\n",
       "family_status          0\n",
       "family_status_id       0\n",
       "gender                 0\n",
       "income_type            0\n",
       "debt                   0\n",
       "total_income        2174\n",
       "purpose                0\n",
       "dtype: int64"
      ]
     },
     "execution_count": 4,
     "metadata": {},
     "output_type": "execute_result"
    }
   ],
   "source": [
    "data.isna().sum()"
   ]
  },
  {
   "cell_type": "markdown",
   "id": "a2877335",
   "metadata": {
    "deletable": false,
    "editable": false,
    "id": "db86e27b"
   },
   "source": [
    "**Задание 5. В двух столбцах есть пропущенные значения. Один из них — `days_employed`. Пропуски в этом столбце вы обработаете на следующем этапе. Другой столбец с пропущенными значениями — `total_income` — хранит данные о доходах. На сумму дохода сильнее всего влияет тип занятости, поэтому заполнить пропуски в этом столбце нужно медианным значением по каждому типу из столбца `income_type`. Например, у человека с типом занятости `сотрудник` пропуск в столбце `total_income` должен быть заполнен медианным доходом среди всех записей с тем же типом.**"
   ]
  },
  {
   "cell_type": "code",
   "execution_count": 5,
   "id": "050940db",
   "metadata": {
    "deletable": false,
    "id": "42006a93"
   },
   "outputs": [],
   "source": [
    "for t in data['income_type'].unique():\n",
    "    data.loc[(data['income_type'] == t) & (data['total_income'].isna()), 'total_income'] = \\\n",
    "    data.loc[(data['income_type'] == t), 'total_income'].median()"
   ]
  },
  {
   "cell_type": "markdown",
   "id": "ca007029",
   "metadata": {
    "deletable": false,
    "editable": false,
    "id": "89da5ece"
   },
   "source": [
    "### Обработка аномальных значений"
   ]
  },
  {
   "cell_type": "markdown",
   "id": "d2a43af5",
   "metadata": {
    "deletable": false,
    "editable": false,
    "id": "57964554"
   },
   "source": [
    "**Задание 6. В данных могут встречаться артефакты (аномалии) — значения, которые не отражают действительность и появились по какой-то ошибке. таким артефактом будет отрицательное количество дней трудового стажа в столбце `days_employed`. Для реальных данных это нормально. Обработайте значения в этом столбце: замените все отрицательные значения положительными с помощью метода `abs()`.**"
   ]
  },
  {
   "cell_type": "code",
   "execution_count": 6,
   "id": "cd55f556",
   "metadata": {
    "deletable": false,
    "id": "f6f055bf"
   },
   "outputs": [],
   "source": [
    "data['days_employed'] = data['days_employed'].abs()"
   ]
  },
  {
   "cell_type": "markdown",
   "id": "55c06488",
   "metadata": {
    "deletable": false,
    "editable": false,
    "id": "6107dd2f"
   },
   "source": [
    "**Задание 7. Для каждого типа занятости выведите медианное значение трудового стажа `days_employed` в днях.**"
   ]
  },
  {
   "cell_type": "code",
   "execution_count": 7,
   "id": "7ecd0464",
   "metadata": {
    "deletable": false,
    "id": "85a5faf6",
    "outputId": "801ef80e-522b-4668-f34e-565af7432bcf"
   },
   "outputs": [
    {
     "data": {
      "text/plain": [
       "income_type\n",
       "безработный        366413.652744\n",
       "в декрете            3296.759962\n",
       "госслужащий          2689.368353\n",
       "компаньон            1547.382223\n",
       "пенсионер          365213.306266\n",
       "предприниматель       520.848083\n",
       "сотрудник            1574.202821\n",
       "студент               578.751554\n",
       "Name: days_employed, dtype: float64"
      ]
     },
     "execution_count": 7,
     "metadata": {},
     "output_type": "execute_result"
    }
   ],
   "source": [
    "data.groupby('income_type')['days_employed'].agg('median')"
   ]
  },
  {
   "cell_type": "markdown",
   "id": "60b201e9",
   "metadata": {
    "deletable": false,
    "editable": false,
    "id": "38d1a030"
   },
   "source": [
    "У двух типов (безработные и пенсионеры) получатся аномально большие значения. Исправить такие значения сложно, поэтому оставьте их как есть. Тем более этот столбец не понадобится вам для исследования."
   ]
  },
  {
   "cell_type": "markdown",
   "id": "c2d2ce21",
   "metadata": {
    "deletable": false,
    "editable": false,
    "id": "d8a9f147"
   },
   "source": [
    "**Задание 8. Выведите перечень уникальных значений столбца `children`.**"
   ]
  },
  {
   "cell_type": "code",
   "execution_count": 8,
   "id": "4f2f57de",
   "metadata": {
    "deletable": false,
    "id": "ef5056eb",
    "outputId": "6975b15c-7f95-4697-d16d-a0c79b657b03"
   },
   "outputs": [
    {
     "data": {
      "text/plain": [
       "array([ 1,  0,  3,  2, -1,  4, 20,  5])"
      ]
     },
     "execution_count": 8,
     "metadata": {},
     "output_type": "execute_result"
    }
   ],
   "source": [
    "data['children'].unique()"
   ]
  },
  {
   "cell_type": "markdown",
   "id": "759656f4",
   "metadata": {
    "deletable": false,
    "editable": false,
    "id": "40b9ebf2"
   },
   "source": [
    "**Задание 9. В столбце `children` есть два аномальных значения. Удалите строки, в которых встречаются такие аномальные значения из датафрейма `data`.**"
   ]
  },
  {
   "cell_type": "code",
   "execution_count": 9,
   "id": "9401c9e7",
   "metadata": {
    "deletable": false,
    "id": "3ff9801d"
   },
   "outputs": [],
   "source": [
    "data = data[(data['children'] != -1) & (data['children'] != 20)]"
   ]
  },
  {
   "cell_type": "markdown",
   "id": "4856078f",
   "metadata": {
    "deletable": false,
    "editable": false,
    "id": "bbc4d0ce"
   },
   "source": [
    "**Задание 10. Ещё раз выведите перечень уникальных значений столбца `children`, чтобы убедиться, что артефакты удалены.**"
   ]
  },
  {
   "cell_type": "code",
   "execution_count": 10,
   "id": "a892aa2b",
   "metadata": {
    "deletable": false,
    "id": "ad4fa8b7",
    "outputId": "b2097101-d49d-44d9-901b-32a65c9463d1"
   },
   "outputs": [
    {
     "data": {
      "text/plain": [
       "array([1, 0, 3, 2, 4, 5])"
      ]
     },
     "execution_count": 10,
     "metadata": {},
     "output_type": "execute_result"
    }
   ],
   "source": [
    "data['children'].unique()"
   ]
  },
  {
   "cell_type": "markdown",
   "id": "4df82415",
   "metadata": {
    "deletable": false,
    "editable": false,
    "id": "75440b63"
   },
   "source": [
    "### Удаление пропусков (продолжение)"
   ]
  },
  {
   "cell_type": "markdown",
   "id": "e88bef61",
   "metadata": {
    "deletable": false,
    "editable": false,
    "id": "f4ea573f"
   },
   "source": [
    "**Задание 11. Заполните пропуски в столбце `days_employed` медианными значениями по каждого типа занятости `income_type`.**"
   ]
  },
  {
   "cell_type": "code",
   "execution_count": 11,
   "id": "82b51cfe",
   "metadata": {
    "deletable": false,
    "id": "af6b1a7e"
   },
   "outputs": [],
   "source": [
    "for t in data['income_type'].unique():\n",
    "    data.loc[(data['income_type'] == t) & (data['days_employed'].isna()), 'days_employed'] = \\\n",
    "    data.loc[(data['income_type'] == t), 'days_employed'].median()"
   ]
  },
  {
   "cell_type": "markdown",
   "id": "03f57ab2",
   "metadata": {
    "deletable": false,
    "editable": false,
    "id": "2753f40d"
   },
   "source": [
    "**Задание 12. Убедитесь, что все пропуски заполнены. Проверьте себя и ещё раз выведите количество пропущенных значений для каждого столбца с помощью двух методов.**"
   ]
  },
  {
   "cell_type": "code",
   "execution_count": 12,
   "id": "1c9cc67b",
   "metadata": {
    "deletable": false,
    "id": "55f78bc2",
    "outputId": "8da1e4e1-358e-4e87-98c9-f261bce0a7b2"
   },
   "outputs": [
    {
     "data": {
      "text/plain": [
       "children            0\n",
       "days_employed       0\n",
       "dob_years           0\n",
       "education           0\n",
       "education_id        0\n",
       "family_status       0\n",
       "family_status_id    0\n",
       "gender              0\n",
       "income_type         0\n",
       "debt                0\n",
       "total_income        0\n",
       "purpose             0\n",
       "dtype: int64"
      ]
     },
     "execution_count": 12,
     "metadata": {},
     "output_type": "execute_result"
    }
   ],
   "source": [
    "data.isna().sum()"
   ]
  },
  {
   "cell_type": "markdown",
   "id": "97f6c80f",
   "metadata": {
    "deletable": false,
    "editable": false,
    "id": "ddc81e43"
   },
   "source": [
    "### Изменение типов данных"
   ]
  },
  {
   "cell_type": "markdown",
   "id": "28780a41",
   "metadata": {
    "deletable": false,
    "editable": false,
    "id": "42d19d24"
   },
   "source": [
    "**Задание 13. Замените вещественный тип данных в столбце `total_income` на целочисленный с помощью метода `astype()`.**"
   ]
  },
  {
   "cell_type": "code",
   "execution_count": 13,
   "id": "b590dab4",
   "metadata": {
    "deletable": false,
    "id": "920b65ad"
   },
   "outputs": [],
   "source": [
    "data['total_income'] = data['total_income'].astype(int)"
   ]
  },
  {
   "cell_type": "markdown",
   "id": "a86361e8",
   "metadata": {
    "deletable": false,
    "editable": false,
    "id": "80c420ba"
   },
   "source": [
    "### Обработка дубликатов"
   ]
  },
  {
   "cell_type": "markdown",
   "id": "cd716005",
   "metadata": {
    "deletable": false,
    "editable": false
   },
   "source": [
    "**Задание 14. Обработайте неявные дубликаты в столбце `education`. В этом столбце есть одни и те же значения, но записанные по-разному: с использованием заглавных и строчных букв. Приведите их к нижнему регистру. Проверьте остальные столбцы.**"
   ]
  },
  {
   "cell_type": "code",
   "execution_count": 14,
   "id": "d62733e5",
   "metadata": {
    "deletable": false
   },
   "outputs": [],
   "source": [
    "data['education'] = data['education'].str.lower()"
   ]
  },
  {
   "cell_type": "markdown",
   "id": "f14c32ee",
   "metadata": {
    "deletable": false,
    "editable": false,
    "id": "dc587695"
   },
   "source": [
    "**Задание 15. Выведите на экран количество строк-дубликатов в данных. Если такие строки присутствуют, удалите их.**"
   ]
  },
  {
   "cell_type": "code",
   "execution_count": 15,
   "id": "1540d78a",
   "metadata": {
    "deletable": false,
    "id": "3ee445e4",
    "outputId": "9684deba-1934-42d1-99e1-cda61740f822"
   },
   "outputs": [
    {
     "data": {
      "text/plain": [
       "71"
      ]
     },
     "execution_count": 15,
     "metadata": {},
     "output_type": "execute_result"
    }
   ],
   "source": [
    "data.duplicated().sum()"
   ]
  },
  {
   "cell_type": "code",
   "execution_count": 16,
   "id": "cf258dd0",
   "metadata": {
    "deletable": false,
    "id": "8575fe05"
   },
   "outputs": [],
   "source": [
    "data = data.drop_duplicates()"
   ]
  },
  {
   "cell_type": "markdown",
   "id": "6ba9afdd",
   "metadata": {
    "deletable": false,
    "editable": false,
    "id": "9904cf55"
   },
   "source": [
    "### Категоризация данных"
   ]
  },
  {
   "cell_type": "markdown",
   "id": "ba336018",
   "metadata": {
    "deletable": false,
    "editable": false,
    "id": "72fcc8a2"
   },
   "source": [
    "**Задание 16. На основании диапазонов, указанных ниже, создайте в датафрейме `data` столбец `total_income_category` с категориями:**\n",
    "\n",
    "- 0–30000 — `'E'`;\n",
    "- 30001–50000 — `'D'`;\n",
    "- 50001–200000 — `'C'`;\n",
    "- 200001–1000000 — `'B'`;\n",
    "- 1000001 и выше — `'A'`.\n",
    "\n",
    "\n",
    "**Например, кредитополучателю с доходом 25000 нужно назначить категорию `'E'`, а клиенту, получающему 235000, — `'B'`. Используйте собственную функцию с именем `categorize_income()` и метод `apply()`.**"
   ]
  },
  {
   "cell_type": "code",
   "execution_count": 17,
   "id": "70f5f40f",
   "metadata": {
    "deletable": false,
    "id": "e1771346"
   },
   "outputs": [],
   "source": [
    "def categorize_income(income):\n",
    "    try:\n",
    "        if 0 <= income <= 30000:\n",
    "            return 'E'\n",
    "        elif 30001 <= income <= 50000:\n",
    "            return 'D'\n",
    "        elif 50001 <= income <= 200000:\n",
    "            return 'C'\n",
    "        elif 200001 <= income <= 1000000:\n",
    "            return 'B'\n",
    "        elif income >= 1000001:\n",
    "            return 'A'\n",
    "    except:\n",
    "        pass"
   ]
  },
  {
   "cell_type": "code",
   "execution_count": 18,
   "id": "006149d7",
   "metadata": {
    "deletable": false,
    "id": "d5f3586d"
   },
   "outputs": [],
   "source": [
    "data['total_income_category'] = data['total_income'].apply(categorize_income)"
   ]
  },
  {
   "cell_type": "markdown",
   "id": "39272a82",
   "metadata": {
    "deletable": false,
    "editable": false,
    "id": "dde49b5c"
   },
   "source": [
    "**Задание 17. Выведите на экран перечень уникальных целей взятия кредита из столбца `purpose`.**"
   ]
  },
  {
   "cell_type": "code",
   "execution_count": 19,
   "id": "93de60ee",
   "metadata": {
    "deletable": false,
    "id": "f67ce9b3",
    "outputId": "673c12d9-7d7e-4ae0-9812-c622c89dd244"
   },
   "outputs": [
    {
     "data": {
      "text/plain": [
       "array(['покупка жилья', 'приобретение автомобиля',\n",
       "       'дополнительное образование', 'сыграть свадьбу',\n",
       "       'операции с жильем', 'образование', 'на проведение свадьбы',\n",
       "       'покупка жилья для семьи', 'покупка недвижимости',\n",
       "       'покупка коммерческой недвижимости', 'покупка жилой недвижимости',\n",
       "       'строительство собственной недвижимости', 'недвижимость',\n",
       "       'строительство недвижимости', 'на покупку подержанного автомобиля',\n",
       "       'на покупку своего автомобиля',\n",
       "       'операции с коммерческой недвижимостью',\n",
       "       'строительство жилой недвижимости', 'жилье',\n",
       "       'операции со своей недвижимостью', 'автомобили',\n",
       "       'заняться образованием', 'сделка с подержанным автомобилем',\n",
       "       'получение образования', 'автомобиль', 'свадьба',\n",
       "       'получение дополнительного образования', 'покупка своего жилья',\n",
       "       'операции с недвижимостью', 'получение высшего образования',\n",
       "       'свой автомобиль', 'сделка с автомобилем',\n",
       "       'профильное образование', 'высшее образование',\n",
       "       'покупка жилья для сдачи', 'на покупку автомобиля', 'ремонт жилью',\n",
       "       'заняться высшим образованием'], dtype=object)"
      ]
     },
     "execution_count": 19,
     "metadata": {},
     "output_type": "execute_result"
    }
   ],
   "source": [
    "data['purpose'].unique()"
   ]
  },
  {
   "cell_type": "markdown",
   "id": "2ee5ed6c",
   "metadata": {
    "deletable": false,
    "editable": false,
    "id": "85d0aef0"
   },
   "source": [
    "**Задание 18. Создайте функцию, которая на основании данных из столбца `purpose` сформирует новый столбец `purpose_category`, в который войдут следующие категории:**\n",
    "\n",
    "- `'операции с автомобилем'`,\n",
    "- `'операции с недвижимостью'`,\n",
    "- `'проведение свадьбы'`,\n",
    "- `'получение образования'`.\n",
    "\n",
    "**Например, если в столбце `purpose` находится подстрока `'на покупку автомобиля'`, то в столбце `purpose_category` должна появиться строка `'операции с автомобилем'`.**\n",
    "\n",
    "**Используйте собственную функцию с именем `categorize_purpose()` и метод `apply()`. Изучите данные в столбце `purpose` и определите, какие подстроки помогут вам правильно определить категорию.**"
   ]
  },
  {
   "cell_type": "code",
   "execution_count": 20,
   "id": "b6698902",
   "metadata": {
    "deletable": false,
    "id": "e149fab4"
   },
   "outputs": [],
   "source": [
    "def categorize_purpose(row):\n",
    "    try:\n",
    "        if 'автом' in row:\n",
    "            return 'операции с автомобилем'\n",
    "        elif 'жил' in row or 'недвиж' in row:\n",
    "            return 'операции с недвижимостью'\n",
    "        elif 'свад' in row:\n",
    "            return 'проведение свадьбы'\n",
    "        elif 'образов' in row:\n",
    "            return 'получение образования'\n",
    "    except:\n",
    "        return 'нет категории'"
   ]
  },
  {
   "cell_type": "code",
   "execution_count": 21,
   "id": "79e16257",
   "metadata": {
    "deletable": false,
    "id": "bf36e69b"
   },
   "outputs": [],
   "source": [
    "data['purpose_category'] = data['purpose'].apply(categorize_purpose)"
   ]
  },
  {
   "cell_type": "markdown",
   "id": "f6b470c5",
   "metadata": {
    "deletable": false,
    "editable": false,
    "id": "09b242bf"
   },
   "source": [
    "### Шаг 3. Исследуйте данные и ответьте на вопросы"
   ]
  },
  {
   "cell_type": "markdown",
   "id": "bab85f9f",
   "metadata": {
    "deletable": false,
    "editable": false,
    "id": "c5d66278"
   },
   "source": [
    "#### 3.1 Есть ли зависимость между количеством детей и возвратом кредита в срок?"
   ]
  },
  {
   "cell_type": "code",
   "execution_count": 22,
   "id": "328c0261",
   "metadata": {
    "deletable": false,
    "id": "2cacfc4a"
   },
   "outputs": [
    {
     "name": "stdout",
     "output_type": "stream",
     "text": [
      "Клиенты, сгруппированные по количеству детей в семье:\n",
      "debt      Нет задол-сти  Есть задол-сть  Всего клиентов  % должников\n",
      "children                                                            \n",
      "0                 13028            1063           14091          7.5\n",
      "1                  4364             444            4808          9.2\n",
      "2                  1858             194            2052          9.5\n",
      "3                   303              27             330          8.2\n",
      "4                    37               4              41          9.8\n",
      "5                     9               0               9          0.0\n"
     ]
    }
   ],
   "source": [
    "# код для построения сводной таблицы:\n",
    "data_child = data.pivot_table(index=['children'], columns = 'debt', values='education_id', aggfunc='count')\n",
    "data_child[1] = data_child[1].fillna(0)\n",
    "data_child = data_child.rename(columns={0:'Нет задол-сти',1:'Есть задол-сть'})\n",
    "data_child['Всего клиентов'] = data_child['Нет задол-сти']+data_child['Есть задол-сть']\n",
    "data_child['% должников'] = data_child['Есть задол-сть']/data_child['Всего клиентов']*100\n",
    "\n",
    "#код для форматирования в таблице знаков после запятой:\n",
    "data_child [['Нет задол-сти','Есть задол-сть','Всего клиентов']] = data_child [['Нет задол-сти','Есть задол-сть','Всего клиентов']].astype('int')\n",
    "data_child['% должников'] = data_child['% должников'].round(decimals=1)\n",
    "print('Клиенты, сгруппированные по количеству детей в семье:')\n",
    "print(data_child)\n",
    "\n",
    "\n"
   ]
  },
  {
   "cell_type": "markdown",
   "id": "0f372125",
   "metadata": {
    "deletable": false,
    "id": "3a6b99ec"
   },
   "source": [
    "**Вывод:** \n",
    "Самый низкий риск не возврата кредитов в срок у клиентов без детей (только 7.5% таких клиентов имели задолженность по возврату кредита). Среди клиентов, имеющих одного-двух детей, доля несвоевременно погасивших платеж практически одинаковая и составляет 9.2-9.5%. Категория клиентов с тремя и более детьми малочислена, тем не менее 9.8% клиентов с четырьмя детьми имели задолженность по возврату кредита в срок, это чаще, чем в остальных категориях. Семьи с пятью детьми вернули все кредиты вовремя, но в этой категории всего 9 клентов. Таким образом, бездетные клиенты чаще возвращают кредиты в срок, чем клиенты с детьми. При этом, количество детей координально не влияет на риск не возврата кредита."
   ]
  },
  {
   "cell_type": "markdown",
   "id": "3a64e512",
   "metadata": {
    "deletable": false,
    "editable": false,
    "id": "97be82ca"
   },
   "source": [
    "#### 3.2 Есть ли зависимость между семейным положением и возвратом кредита в срок?"
   ]
  },
  {
   "cell_type": "code",
   "execution_count": 23,
   "id": "60742aa3",
   "metadata": {
    "deletable": false,
    "id": "dc3f7ee8"
   },
   "outputs": [
    {
     "name": "stdout",
     "output_type": "stream",
     "text": [
      "debt                   Нет задол-сти  Есть задол-сть  Всего кл-в  % должников\n",
      "family_status                                                                \n",
      "Не женат / не замужем           2523             273        2796          9.8\n",
      "в разводе                       1105              84        1189          7.1\n",
      "вдовец / вдова                   888              63         951          6.6\n",
      "гражданский брак                3749             385        4134          9.3\n",
      "женат / замужем                11334             927       12261          7.6\n"
     ]
    }
   ],
   "source": [
    "data_family = data.pivot_table(index=['family_status'], columns = 'debt', values='family_status_id', aggfunc='count')\n",
    "data_family = data_family.rename(columns={0:'Нет задол-сти',1:'Есть задол-сть'})\n",
    "data_family['Всего кл-в'] = data_family['Нет задол-сти']+data_family['Есть задол-сть']\n",
    "data_family['% должников'] = data_family['Есть задол-сть']/data_family['Всего кл-в']*100\n",
    "data_family['% должников'] = data_family['% должников'].round(decimals=1)\n",
    "print(data_family)"
   ]
  },
  {
   "cell_type": "markdown",
   "id": "1870c025",
   "metadata": {
    "deletable": false,
    "id": "1cef7837"
   },
   "source": [
    "**Вывод:** \n",
    "Зависимость между семейным положением и возвратом кредита в срок существует. Категория \"женат/замужем\" является самой крупной, при этом доля клиентов в этой категории, имевших задолженность по возврату кредита в срок, составила 7.6% Также низкие риски не возврата кредитов в срок у клиентов в статусе  вдова/вдовец (6.6%) и в разводе (7.1%), но эти категории не значительны в общей численности клиентов банка. Не женатые (не замужние) клиенты и клиенты, находящиеся в гражданском браке, чаще других имеют проблемы с возвратом кредитов. Таким образом, клиенты, состоящие в официальном браке реже имеют задолженность по возврату кредита в срок, чем клиенты в статусе не женат/не замужем или находящиеся в гражданском браке. "
   ]
  },
  {
   "cell_type": "markdown",
   "id": "59b1935b",
   "metadata": {
    "deletable": false,
    "editable": false,
    "id": "1e8b2fca"
   },
   "source": [
    "#### 3.3 Есть ли зависимость между уровнем дохода и возвратом кредита в срок?"
   ]
  },
  {
   "cell_type": "code",
   "execution_count": 24,
   "id": "bd7d77d4",
   "metadata": {
    "deletable": false,
    "id": "cd7e3720"
   },
   "outputs": [
    {
     "name": "stdout",
     "output_type": "stream",
     "text": [
      "debt                   Нет задол-сти  Есть задол-сть  Всего кл-в  % должников\n",
      "total_income_category                                                        \n",
      "A                                 23               2          25          8.0\n",
      "B                               4660             354        5014          7.1\n",
      "C                              14568            1353       15921          8.5\n",
      "D                                328              21         349          6.0\n",
      "E                                 20               2          22          9.1\n"
     ]
    }
   ],
   "source": [
    "data_income = data.pivot_table(index=['total_income_category'], columns = 'debt', values='total_income', aggfunc='count')\n",
    "data_income = data_income.rename(columns={0:'Нет задол-сти',1:'Есть задол-сть'})\n",
    "data_income['Всего кл-в'] = data_income['Нет задол-сти']+data_income['Есть задол-сть']\n",
    "data_income['% должников'] = data_income['Есть задол-сть']/data_income['Всего кл-в']*100\n",
    "data_income['% должников'] = data_income['% должников'].round(decimals=1)\n",
    "print(data_income)"
   ]
  },
  {
   "cell_type": "markdown",
   "id": "889b2a24",
   "metadata": {
    "deletable": false,
    "id": "e8593def"
   },
   "source": [
    "**Вывод:** \n",
    "Категория \"D\" - клиенты с доходом от 30 тыс. до 50 тыс. - чаще других категорий возвращают все кредиты в срок (доля должников среди клиентов с таким доходом - 6%), но при этом количество таких клиентов очень незначительно. Больше всего клиентов в категории \"С\" (50 тыс.- 200 тыс.) и здесь риск не возврата кредита в срок возрастает - доля должников в этой категории 8.5%. Категория \"В\" (доход от 200.0 тыс. до 1 млн.)не так многочисленна как \"С\", но в ней доля клиентов, не вернувших кредит в срок снижается и составляет 7.1%. Самый высокий риск не своевременного возврата кредита у категории \"Е\" - доход до 30 тыс. руб. (9.1% имели задолженности), однако таких клиентов совсем мало - 22 человека. Таким образом, должниками чаще становятся клиенты с доходом  50-200 тыс., а вот в категории с доходом от 200 тыс. до 1 млн. должников меньше. Число клиентов из других категорий не значительно, тем не менее нельзя не учитывать высокий риск задолженности у клиентов с доходом до 30 тыс."
   ]
  },
  {
   "cell_type": "markdown",
   "id": "8f7cf0f8",
   "metadata": {
    "deletable": false,
    "editable": false,
    "id": "99ecbd1f"
   },
   "source": [
    "#### 3.4 Как разные цели кредита влияют на его возврат в срок?"
   ]
  },
  {
   "cell_type": "code",
   "execution_count": 25,
   "id": "071621a4",
   "metadata": {
    "deletable": false,
    "id": "2b687290"
   },
   "outputs": [
    {
     "name": "stdout",
     "output_type": "stream",
     "text": [
      "debt                      Нет задол-сти  Есть задол-сть  Всего кл-в  % долж-в\n",
      "purpose_category                                                             \n",
      "операции с автомобилем             3879             400        4279       9.3\n",
      "операции с недвижимостью           9971             780       10751       7.3\n",
      "получение образования              3619             369        3988       9.3\n",
      "проведение свадьбы                 2130             183        2313       7.9\n"
     ]
    }
   ],
   "source": [
    "data_purpose = data.pivot_table(index=['purpose_category'], columns = 'debt', values='total_income', aggfunc='count')\n",
    "data_purpose = data_purpose.rename(columns={0:'Нет задол-сти',1:'Есть задол-сть'})\n",
    "data_purpose['Всего кл-в'] = data_purpose['Нет задол-сти']+data_purpose['Есть задол-сть']\n",
    "data_purpose['% долж-в'] = data_purpose['Есть задол-сть']/data_purpose['Всего кл-в']*100\n",
    "\n",
    "data_purpose['% долж-в'] = data_purpose['% долж-в'].round(decimals=1)\n",
    "print(data_purpose)\n"
   ]
  },
  {
   "cell_type": "markdown",
   "id": "da31fb53",
   "metadata": {
    "deletable": false,
    "id": "b4bb2ce6"
   },
   "source": [
    "**Вывод:** \n",
    "Чаще всего клиенты берут кредиты на операции с недвижимостью и именно по таким кредитам самый низкий риск несвоевременных платежей. Доля клиентов, имевших задолженность, в этой группе составила 7.3% Клиенты, взявшие кредит на проведение свадьбы, также стараются совершать все платежи в срок (доля должников в этой категории - 7.9%). Но надо учитывать, что кредит с целью провести свадьбу берут реже всего. Кредиты на получение образования и на операции с автомобилем имеют более высокие риски задержки платежей. 9.3% клиентов таких групп имели задолженность. Таким образом, платежи по кредитам на операции с недвижимостью чаще поступают в срок, чем по кредитам, взятым с другими целями.   "
   ]
  },
  {
   "cell_type": "markdown",
   "id": "b905e44e",
   "metadata": {
    "deletable": false,
    "editable": false,
    "id": "09c3ac4c"
   },
   "source": [
    "#### 3.5 Приведите возможные причины появления пропусков в исходных данных."
   ]
  },
  {
   "cell_type": "markdown",
   "id": "1dbd6d8b",
   "metadata": {
    "deletable": false,
    "id": "9da2ceda"
   },
   "source": [
    "*Ответ:* Пропуски обнаружены в колонках с трудовым стажем и ежемесячным доходом, это два взаимосвязанных показателя. Скорей всего данные от работодателя по этим клиентам еще не переданы в банк или не занесены в базу. Нужно уточнить эту информацию у сотрудников банка. В случае, если все данные занесены в базу, делаем вывод, что это клиенты, которые только что устроились на работу и у них такие данные отсутсвуют. "
   ]
  },
  {
   "cell_type": "markdown",
   "id": "606e8d05",
   "metadata": {
    "deletable": false,
    "editable": false,
    "id": "7b0487d6"
   },
   "source": [
    "#### 3.6 Объясните, почему заполнить пропуски медианным значением — лучшее решение для количественных переменных."
   ]
  },
  {
   "cell_type": "markdown",
   "id": "e5e0aa91",
   "metadata": {
    "deletable": false,
    "id": "7ecf2b8e"
   },
   "source": [
    "*Ответ:* Заполнение пропусков медианным значением дает более объективную картину. Например  ежемесячный доход, соответсвующий категории \"С\" составляет значительную часть выборки, при этом в таблице есть значения дохода свыше 1-2 млн., их немного, но суммы очень большие и могут исказить данные о среднем доходе клиента, завысив его.  "
   ]
  },
  {
   "cell_type": "markdown",
   "id": "e2236879",
   "metadata": {
    "deletable": false,
    "editable": false,
    "id": "6db5255a"
   },
   "source": [
    "### Шаг 4: общий вывод."
   ]
  },
  {
   "cell_type": "markdown",
   "id": "c2cebe3c",
   "metadata": {
    "deletable": false,
    "id": "bad65432"
   },
   "source": [
    "На основании проведенного иследования можно сделать вывод, что существует зависимость возврата кредита в срок от ряда факторов. Это семейное положение, наличие детей, среднемесячный доход клиента и цель кредита. Чаще всего оплачивают в срок кредиты клиенты в статусе женат/замужем, без детей и с ежемесячным доходом от 200 тыс. до 1 млн., взятые с целью проведения операций с недвижимостью. В группе риска не женатые/не замужние клиенты или клиенты, состоящие в гражданском браке, имеющие детей, ежемесячный доход которых составит от 50 тыс. до 200 тыс. "
   ]
  }
 ],
 "metadata": {
  "ExecuteTimeLog": [
   {
    "duration": 48,
    "start_time": "2022-10-21T04:04:06.428Z"
   },
   {
    "duration": 441,
    "start_time": "2022-10-21T04:04:12.023Z"
   },
   {
    "duration": 21,
    "start_time": "2022-10-21T04:04:12.465Z"
   },
   {
    "duration": 14,
    "start_time": "2022-10-21T04:04:12.487Z"
   },
   {
    "duration": 15,
    "start_time": "2022-10-21T04:04:12.504Z"
   },
   {
    "duration": 43,
    "start_time": "2022-10-21T04:04:12.521Z"
   },
   {
    "duration": 3,
    "start_time": "2022-10-21T04:04:12.566Z"
   },
   {
    "duration": 11,
    "start_time": "2022-10-21T04:04:12.570Z"
   },
   {
    "duration": 5,
    "start_time": "2022-10-21T04:04:12.601Z"
   },
   {
    "duration": 13,
    "start_time": "2022-10-21T04:04:12.608Z"
   },
   {
    "duration": 5,
    "start_time": "2022-10-21T04:04:12.624Z"
   },
   {
    "duration": 31,
    "start_time": "2022-10-21T04:04:12.631Z"
   },
   {
    "duration": 8,
    "start_time": "2022-10-21T04:04:12.664Z"
   },
   {
    "duration": 29,
    "start_time": "2022-10-21T04:04:12.673Z"
   },
   {
    "duration": 21,
    "start_time": "2022-10-21T04:04:12.705Z"
   },
   {
    "duration": 24,
    "start_time": "2022-10-21T04:04:12.729Z"
   },
   {
    "duration": 15,
    "start_time": "2022-10-21T04:04:12.754Z"
   },
   {
    "duration": 3,
    "start_time": "2022-10-21T04:04:12.770Z"
   },
   {
    "duration": 28,
    "start_time": "2022-10-21T04:04:12.775Z"
   },
   {
    "duration": 6,
    "start_time": "2022-10-21T04:04:12.804Z"
   },
   {
    "duration": 4,
    "start_time": "2022-10-21T04:04:12.812Z"
   },
   {
    "duration": 11,
    "start_time": "2022-10-21T04:04:12.818Z"
   },
   {
    "duration": 11,
    "start_time": "2022-10-21T04:04:12.830Z"
   },
   {
    "duration": 10,
    "start_time": "2022-10-21T04:04:12.842Z"
   },
   {
    "duration": 6,
    "start_time": "2022-10-21T04:04:12.854Z"
   },
   {
    "duration": 5,
    "start_time": "2022-10-21T04:04:12.862Z"
   },
   {
    "duration": 4,
    "start_time": "2022-10-21T04:04:18.389Z"
   },
   {
    "duration": 4,
    "start_time": "2022-10-21T04:04:33.654Z"
   },
   {
    "duration": 5,
    "start_time": "2022-10-21T04:04:42.974Z"
   },
   {
    "duration": 9,
    "start_time": "2022-10-21T04:19:54.902Z"
   },
   {
    "duration": 12,
    "start_time": "2022-10-21T04:20:31.320Z"
   },
   {
    "duration": 15,
    "start_time": "2022-10-21T04:20:49.206Z"
   },
   {
    "duration": 13,
    "start_time": "2022-10-21T04:36:34.838Z"
   },
   {
    "duration": 19,
    "start_time": "2022-10-21T04:36:53.117Z"
   },
   {
    "duration": 17,
    "start_time": "2022-10-21T04:37:22.733Z"
   },
   {
    "duration": 21,
    "start_time": "2022-10-21T04:37:29.528Z"
   },
   {
    "duration": 14,
    "start_time": "2022-10-21T04:37:36.570Z"
   },
   {
    "duration": 13,
    "start_time": "2022-10-21T04:37:53.318Z"
   },
   {
    "duration": 13,
    "start_time": "2022-10-21T04:39:08.772Z"
   },
   {
    "duration": 16,
    "start_time": "2022-10-21T04:39:51.956Z"
   },
   {
    "duration": 16,
    "start_time": "2022-10-21T04:40:42.299Z"
   },
   {
    "duration": 23,
    "start_time": "2022-10-21T04:41:22.708Z"
   },
   {
    "duration": 19,
    "start_time": "2022-10-21T04:41:41.353Z"
   },
   {
    "duration": 21,
    "start_time": "2022-10-21T05:15:44.634Z"
   },
   {
    "duration": 21,
    "start_time": "2022-10-21T05:16:41.546Z"
   },
   {
    "duration": 21,
    "start_time": "2022-10-21T05:17:02.614Z"
   },
   {
    "duration": 15,
    "start_time": "2022-10-21T05:17:23.574Z"
   },
   {
    "duration": 14,
    "start_time": "2022-10-21T05:17:36.588Z"
   },
   {
    "duration": 27,
    "start_time": "2022-10-21T05:34:51.518Z"
   },
   {
    "duration": 62,
    "start_time": "2022-10-21T05:35:08.805Z"
   },
   {
    "duration": 17,
    "start_time": "2022-10-21T05:35:08.869Z"
   },
   {
    "duration": 31,
    "start_time": "2022-10-21T05:35:08.888Z"
   },
   {
    "duration": 25,
    "start_time": "2022-10-21T05:35:08.922Z"
   },
   {
    "duration": 43,
    "start_time": "2022-10-21T05:35:08.948Z"
   },
   {
    "duration": 16,
    "start_time": "2022-10-21T05:35:08.993Z"
   },
   {
    "duration": 21,
    "start_time": "2022-10-21T05:35:09.012Z"
   },
   {
    "duration": 3,
    "start_time": "2022-10-21T05:35:09.035Z"
   },
   {
    "duration": 8,
    "start_time": "2022-10-21T05:35:09.040Z"
   },
   {
    "duration": 5,
    "start_time": "2022-10-21T05:35:09.052Z"
   },
   {
    "duration": 57,
    "start_time": "2022-10-21T05:35:09.059Z"
   },
   {
    "duration": 11,
    "start_time": "2022-10-21T05:35:09.118Z"
   },
   {
    "duration": 4,
    "start_time": "2022-10-21T05:35:09.131Z"
   },
   {
    "duration": 24,
    "start_time": "2022-10-21T05:35:09.137Z"
   },
   {
    "duration": 45,
    "start_time": "2022-10-21T05:35:09.164Z"
   },
   {
    "duration": 27,
    "start_time": "2022-10-21T05:35:09.211Z"
   },
   {
    "duration": 4,
    "start_time": "2022-10-21T05:35:09.240Z"
   },
   {
    "duration": 15,
    "start_time": "2022-10-21T05:35:09.245Z"
   },
   {
    "duration": 7,
    "start_time": "2022-10-21T05:35:09.262Z"
   },
   {
    "duration": 7,
    "start_time": "2022-10-21T05:35:09.270Z"
   },
   {
    "duration": 28,
    "start_time": "2022-10-21T05:35:09.300Z"
   },
   {
    "duration": 12,
    "start_time": "2022-10-21T05:35:09.330Z"
   },
   {
    "duration": 0,
    "start_time": "2022-10-21T05:35:09.344Z"
   },
   {
    "duration": 0,
    "start_time": "2022-10-21T05:35:09.345Z"
   },
   {
    "duration": 0,
    "start_time": "2022-10-21T05:35:09.346Z"
   },
   {
    "duration": 8,
    "start_time": "2022-10-21T05:36:53.019Z"
   },
   {
    "duration": 9,
    "start_time": "2022-10-21T05:37:40.008Z"
   },
   {
    "duration": 12,
    "start_time": "2022-10-21T05:38:04.646Z"
   },
   {
    "duration": 11,
    "start_time": "2022-10-21T05:38:35.198Z"
   },
   {
    "duration": 8,
    "start_time": "2022-10-21T05:39:16.958Z"
   },
   {
    "duration": 9,
    "start_time": "2022-10-21T05:44:25.611Z"
   },
   {
    "duration": 7,
    "start_time": "2022-10-21T05:45:07.238Z"
   },
   {
    "duration": 10,
    "start_time": "2022-10-21T05:47:15.798Z"
   },
   {
    "duration": 9,
    "start_time": "2022-10-21T05:51:36.433Z"
   },
   {
    "duration": 24,
    "start_time": "2022-10-21T05:51:51.201Z"
   },
   {
    "duration": 30,
    "start_time": "2022-10-21T05:52:08.377Z"
   },
   {
    "duration": 5,
    "start_time": "2022-10-21T05:53:10.375Z"
   },
   {
    "duration": 20,
    "start_time": "2022-10-21T05:53:17.469Z"
   },
   {
    "duration": 18,
    "start_time": "2022-10-21T05:53:52.837Z"
   },
   {
    "duration": 21,
    "start_time": "2022-10-21T05:54:15.755Z"
   },
   {
    "duration": 23,
    "start_time": "2022-10-21T05:54:48.396Z"
   },
   {
    "duration": 21,
    "start_time": "2022-10-21T05:54:57.801Z"
   },
   {
    "duration": 25,
    "start_time": "2022-10-21T05:55:35.971Z"
   },
   {
    "duration": 22,
    "start_time": "2022-10-21T05:56:01.059Z"
   },
   {
    "duration": 18,
    "start_time": "2022-10-21T05:57:44.830Z"
   },
   {
    "duration": 23,
    "start_time": "2022-10-21T05:58:15.085Z"
   },
   {
    "duration": 721,
    "start_time": "2022-10-21T06:01:27.319Z"
   },
   {
    "duration": 31,
    "start_time": "2022-10-21T06:02:07.979Z"
   },
   {
    "duration": 650,
    "start_time": "2022-10-21T06:02:45.588Z"
   },
   {
    "duration": 599,
    "start_time": "2022-10-21T06:03:03.286Z"
   },
   {
    "duration": 29,
    "start_time": "2022-10-21T06:03:44.156Z"
   },
   {
    "duration": 26,
    "start_time": "2022-10-21T06:14:34.563Z"
   },
   {
    "duration": 510,
    "start_time": "2022-10-21T06:15:35.742Z"
   },
   {
    "duration": 22,
    "start_time": "2022-10-21T06:15:45.618Z"
   },
   {
    "duration": 28,
    "start_time": "2022-10-21T06:23:07.971Z"
   },
   {
    "duration": 27,
    "start_time": "2022-10-21T06:23:35.535Z"
   },
   {
    "duration": 22,
    "start_time": "2022-10-21T06:24:02.806Z"
   },
   {
    "duration": 21,
    "start_time": "2022-10-21T06:24:41.347Z"
   },
   {
    "duration": 22,
    "start_time": "2022-10-21T06:25:23.804Z"
   },
   {
    "duration": 23,
    "start_time": "2022-10-21T06:28:07.625Z"
   },
   {
    "duration": 23,
    "start_time": "2022-10-21T06:28:20.653Z"
   },
   {
    "duration": 26,
    "start_time": "2022-10-21T06:28:41.794Z"
   },
   {
    "duration": 26,
    "start_time": "2022-10-21T06:29:30.499Z"
   },
   {
    "duration": 28,
    "start_time": "2022-10-21T06:29:42.189Z"
   },
   {
    "duration": 27,
    "start_time": "2022-10-21T06:29:53.119Z"
   },
   {
    "duration": 27,
    "start_time": "2022-10-21T06:29:59.298Z"
   },
   {
    "duration": 27,
    "start_time": "2022-10-21T06:34:17.607Z"
   },
   {
    "duration": 24,
    "start_time": "2022-10-21T06:34:36.750Z"
   },
   {
    "duration": 26,
    "start_time": "2022-10-21T06:50:31.641Z"
   },
   {
    "duration": 28,
    "start_time": "2022-10-21T06:51:31.194Z"
   },
   {
    "duration": 28,
    "start_time": "2022-10-21T06:53:41.756Z"
   },
   {
    "duration": 31,
    "start_time": "2022-10-21T06:55:37.280Z"
   },
   {
    "duration": 27,
    "start_time": "2022-10-21T06:57:44.109Z"
   },
   {
    "duration": 25,
    "start_time": "2022-10-21T06:58:23.256Z"
   },
   {
    "duration": 33,
    "start_time": "2022-10-21T06:59:36.470Z"
   },
   {
    "duration": 58,
    "start_time": "2022-10-21T07:09:04.297Z"
   },
   {
    "duration": 55,
    "start_time": "2022-10-21T07:12:13.609Z"
   },
   {
    "duration": 25,
    "start_time": "2022-10-21T07:12:38.809Z"
   },
   {
    "duration": 6,
    "start_time": "2022-10-21T07:12:51.987Z"
   },
   {
    "duration": 7,
    "start_time": "2022-10-21T07:13:16.480Z"
   },
   {
    "duration": 24,
    "start_time": "2022-10-21T07:16:09.925Z"
   },
   {
    "duration": 8,
    "start_time": "2022-10-21T07:16:24.081Z"
   },
   {
    "duration": 36,
    "start_time": "2022-10-21T07:25:52.529Z"
   },
   {
    "duration": 7,
    "start_time": "2022-10-21T07:25:55.161Z"
   },
   {
    "duration": 5,
    "start_time": "2022-10-21T08:01:58.177Z"
   },
   {
    "duration": 6,
    "start_time": "2022-10-21T08:06:20.262Z"
   },
   {
    "duration": 6,
    "start_time": "2022-10-21T08:06:28.758Z"
   },
   {
    "duration": 26,
    "start_time": "2022-10-21T08:38:06.500Z"
   },
   {
    "duration": 5,
    "start_time": "2022-10-21T08:38:06.562Z"
   },
   {
    "duration": 5,
    "start_time": "2022-10-21T08:38:09.875Z"
   },
   {
    "duration": 31,
    "start_time": "2022-10-21T08:38:37.620Z"
   },
   {
    "duration": 5,
    "start_time": "2022-10-21T08:38:37.691Z"
   },
   {
    "duration": 27,
    "start_time": "2022-10-21T08:39:20.686Z"
   },
   {
    "duration": 26,
    "start_time": "2022-10-21T08:39:37.551Z"
   },
   {
    "duration": 7,
    "start_time": "2022-10-21T08:39:44.077Z"
   },
   {
    "duration": 25,
    "start_time": "2022-10-21T08:41:58.337Z"
   },
   {
    "duration": 4,
    "start_time": "2022-10-21T08:42:04.099Z"
   },
   {
    "duration": 25,
    "start_time": "2022-10-21T08:42:33.747Z"
   },
   {
    "duration": 5,
    "start_time": "2022-10-21T08:42:36.509Z"
   },
   {
    "duration": 25,
    "start_time": "2022-10-21T08:42:40.887Z"
   },
   {
    "duration": 5,
    "start_time": "2022-10-21T08:42:43.903Z"
   },
   {
    "duration": 49,
    "start_time": "2022-10-21T08:42:55.519Z"
   },
   {
    "duration": 27,
    "start_time": "2022-10-21T08:43:03.571Z"
   },
   {
    "duration": 4,
    "start_time": "2022-10-21T08:43:09.251Z"
   },
   {
    "duration": 60,
    "start_time": "2022-10-21T08:43:21.489Z"
   },
   {
    "duration": 12,
    "start_time": "2022-10-21T08:43:21.551Z"
   },
   {
    "duration": 14,
    "start_time": "2022-10-21T08:43:21.565Z"
   },
   {
    "duration": 8,
    "start_time": "2022-10-21T08:43:21.580Z"
   },
   {
    "duration": 38,
    "start_time": "2022-10-21T08:43:21.589Z"
   },
   {
    "duration": 3,
    "start_time": "2022-10-21T08:43:21.629Z"
   },
   {
    "duration": 11,
    "start_time": "2022-10-21T08:43:21.633Z"
   },
   {
    "duration": 5,
    "start_time": "2022-10-21T08:43:21.646Z"
   },
   {
    "duration": 6,
    "start_time": "2022-10-21T08:43:21.652Z"
   },
   {
    "duration": 12,
    "start_time": "2022-10-21T08:43:21.660Z"
   },
   {
    "duration": 44,
    "start_time": "2022-10-21T08:43:21.674Z"
   },
   {
    "duration": 8,
    "start_time": "2022-10-21T08:43:21.720Z"
   },
   {
    "duration": 5,
    "start_time": "2022-10-21T08:43:21.729Z"
   },
   {
    "duration": 18,
    "start_time": "2022-10-21T08:43:21.736Z"
   },
   {
    "duration": 19,
    "start_time": "2022-10-21T08:43:21.755Z"
   },
   {
    "duration": 24,
    "start_time": "2022-10-21T08:43:21.776Z"
   },
   {
    "duration": 3,
    "start_time": "2022-10-21T08:43:21.802Z"
   },
   {
    "duration": 11,
    "start_time": "2022-10-21T08:43:21.806Z"
   },
   {
    "duration": 14,
    "start_time": "2022-10-21T08:43:21.818Z"
   },
   {
    "duration": 6,
    "start_time": "2022-10-21T08:43:21.833Z"
   },
   {
    "duration": 12,
    "start_time": "2022-10-21T08:43:21.841Z"
   },
   {
    "duration": 25,
    "start_time": "2022-10-21T08:43:21.855Z"
   },
   {
    "duration": 4,
    "start_time": "2022-10-21T08:43:21.882Z"
   },
   {
    "duration": 16,
    "start_time": "2022-10-21T08:43:21.887Z"
   },
   {
    "duration": 7,
    "start_time": "2022-10-21T08:43:21.904Z"
   },
   {
    "duration": 8,
    "start_time": "2022-10-21T08:43:21.912Z"
   },
   {
    "duration": 4,
    "start_time": "2022-10-21T08:43:21.922Z"
   },
   {
    "duration": 18,
    "start_time": "2022-10-21T08:44:00.822Z"
   },
   {
    "duration": 24,
    "start_time": "2022-10-21T08:44:11.888Z"
   },
   {
    "duration": 35,
    "start_time": "2022-10-21T08:45:04.104Z"
   },
   {
    "duration": 24,
    "start_time": "2022-10-21T08:45:14.248Z"
   },
   {
    "duration": 44,
    "start_time": "2022-10-21T08:49:21.352Z"
   },
   {
    "duration": 468,
    "start_time": "2022-10-21T08:49:44.575Z"
   },
   {
    "duration": 23,
    "start_time": "2022-10-21T08:49:45.044Z"
   },
   {
    "duration": 14,
    "start_time": "2022-10-21T08:49:45.068Z"
   },
   {
    "duration": 23,
    "start_time": "2022-10-21T08:49:45.085Z"
   },
   {
    "duration": 37,
    "start_time": "2022-10-21T08:49:45.110Z"
   },
   {
    "duration": 4,
    "start_time": "2022-10-21T08:49:45.149Z"
   },
   {
    "duration": 16,
    "start_time": "2022-10-21T08:49:45.154Z"
   },
   {
    "duration": 6,
    "start_time": "2022-10-21T08:49:45.172Z"
   },
   {
    "duration": 23,
    "start_time": "2022-10-21T08:49:45.180Z"
   },
   {
    "duration": 4,
    "start_time": "2022-10-21T08:49:45.205Z"
   },
   {
    "duration": 33,
    "start_time": "2022-10-21T08:49:45.211Z"
   },
   {
    "duration": 7,
    "start_time": "2022-10-21T08:49:45.246Z"
   },
   {
    "duration": 6,
    "start_time": "2022-10-21T08:49:45.254Z"
   },
   {
    "duration": 11,
    "start_time": "2022-10-21T08:49:45.262Z"
   },
   {
    "duration": 36,
    "start_time": "2022-10-21T08:49:45.275Z"
   },
   {
    "duration": 19,
    "start_time": "2022-10-21T08:49:45.313Z"
   },
   {
    "duration": 3,
    "start_time": "2022-10-21T08:49:45.333Z"
   },
   {
    "duration": 16,
    "start_time": "2022-10-21T08:49:45.338Z"
   },
   {
    "duration": 9,
    "start_time": "2022-10-21T08:49:45.356Z"
   },
   {
    "duration": 3,
    "start_time": "2022-10-21T08:49:45.367Z"
   },
   {
    "duration": 28,
    "start_time": "2022-10-21T08:49:45.372Z"
   },
   {
    "duration": 31,
    "start_time": "2022-10-21T08:49:45.402Z"
   },
   {
    "duration": 2,
    "start_time": "2022-10-21T08:49:45.435Z"
   },
   {
    "duration": 24,
    "start_time": "2022-10-21T08:49:45.439Z"
   },
   {
    "duration": 10,
    "start_time": "2022-10-21T08:49:45.465Z"
   },
   {
    "duration": 28,
    "start_time": "2022-10-21T08:52:30.703Z"
   },
   {
    "duration": 51,
    "start_time": "2022-10-21T08:58:28.228Z"
   },
   {
    "duration": 29,
    "start_time": "2022-10-21T08:59:18.017Z"
   },
   {
    "duration": 34,
    "start_time": "2022-10-21T08:59:25.956Z"
   },
   {
    "duration": 28,
    "start_time": "2022-10-21T09:01:24.875Z"
   },
   {
    "duration": 28,
    "start_time": "2022-10-21T09:02:37.870Z"
   },
   {
    "duration": 27,
    "start_time": "2022-10-21T09:02:46.419Z"
   },
   {
    "duration": 5,
    "start_time": "2022-10-21T09:02:51.230Z"
   },
   {
    "duration": 5,
    "start_time": "2022-10-21T09:06:17.517Z"
   },
   {
    "duration": 6,
    "start_time": "2022-10-21T09:06:26.907Z"
   },
   {
    "duration": 5,
    "start_time": "2022-10-21T09:06:33.495Z"
   },
   {
    "duration": 86,
    "start_time": "2022-10-21T09:08:54.501Z"
   },
   {
    "duration": 6,
    "start_time": "2022-10-21T09:09:03.680Z"
   },
   {
    "duration": 6,
    "start_time": "2022-10-21T09:43:21.726Z"
   },
   {
    "duration": 870,
    "start_time": "2022-10-21T09:44:46.328Z"
   },
   {
    "duration": 55,
    "start_time": "2022-10-21T09:45:09.624Z"
   },
   {
    "duration": 14,
    "start_time": "2022-10-21T09:45:09.680Z"
   },
   {
    "duration": 15,
    "start_time": "2022-10-21T09:45:09.696Z"
   },
   {
    "duration": 16,
    "start_time": "2022-10-21T09:45:09.713Z"
   },
   {
    "duration": 33,
    "start_time": "2022-10-21T09:45:09.731Z"
   },
   {
    "duration": 3,
    "start_time": "2022-10-21T09:45:09.765Z"
   },
   {
    "duration": 12,
    "start_time": "2022-10-21T09:45:09.769Z"
   },
   {
    "duration": 4,
    "start_time": "2022-10-21T09:45:09.783Z"
   },
   {
    "duration": 5,
    "start_time": "2022-10-21T09:45:09.800Z"
   },
   {
    "duration": 7,
    "start_time": "2022-10-21T09:45:09.806Z"
   },
   {
    "duration": 35,
    "start_time": "2022-10-21T09:45:09.814Z"
   },
   {
    "duration": 9,
    "start_time": "2022-10-21T09:45:09.850Z"
   },
   {
    "duration": 6,
    "start_time": "2022-10-21T09:45:09.861Z"
   },
   {
    "duration": 16,
    "start_time": "2022-10-21T09:45:09.869Z"
   },
   {
    "duration": 27,
    "start_time": "2022-10-21T09:45:09.886Z"
   },
   {
    "duration": 15,
    "start_time": "2022-10-21T09:45:09.915Z"
   },
   {
    "duration": 3,
    "start_time": "2022-10-21T09:45:09.932Z"
   },
   {
    "duration": 15,
    "start_time": "2022-10-21T09:45:09.937Z"
   },
   {
    "duration": 10,
    "start_time": "2022-10-21T09:45:09.953Z"
   },
   {
    "duration": 4,
    "start_time": "2022-10-21T09:45:09.964Z"
   },
   {
    "duration": 30,
    "start_time": "2022-10-21T09:45:09.970Z"
   },
   {
    "duration": 1204,
    "start_time": "2022-10-21T09:45:10.002Z"
   },
   {
    "duration": 0,
    "start_time": "2022-10-21T09:45:11.208Z"
   },
   {
    "duration": 0,
    "start_time": "2022-10-21T09:45:11.209Z"
   },
   {
    "duration": 0,
    "start_time": "2022-10-21T09:45:11.210Z"
   },
   {
    "duration": 0,
    "start_time": "2022-10-21T09:45:11.211Z"
   },
   {
    "duration": 5,
    "start_time": "2022-10-21T09:45:20.902Z"
   },
   {
    "duration": 18,
    "start_time": "2022-10-21T09:46:55.002Z"
   },
   {
    "duration": 5,
    "start_time": "2022-10-21T09:51:09.165Z"
   },
   {
    "duration": 24,
    "start_time": "2022-10-21T09:51:34.559Z"
   },
   {
    "duration": 20,
    "start_time": "2022-10-21T09:53:57.792Z"
   },
   {
    "duration": 19,
    "start_time": "2022-10-21T09:54:09.277Z"
   },
   {
    "duration": 5,
    "start_time": "2022-10-21T10:04:05.961Z"
   },
   {
    "duration": 5,
    "start_time": "2022-10-21T10:07:50.274Z"
   },
   {
    "duration": 19,
    "start_time": "2022-10-21T10:14:30.523Z"
   },
   {
    "duration": 9,
    "start_time": "2022-10-21T10:20:39.142Z"
   },
   {
    "duration": 9,
    "start_time": "2022-10-21T10:24:36.964Z"
   },
   {
    "duration": 10,
    "start_time": "2022-10-21T10:25:16.971Z"
   },
   {
    "duration": 9,
    "start_time": "2022-10-21T10:33:03.316Z"
   },
   {
    "duration": 12,
    "start_time": "2022-10-21T10:33:49.662Z"
   },
   {
    "duration": 13,
    "start_time": "2022-10-21T10:35:24.728Z"
   },
   {
    "duration": 13,
    "start_time": "2022-10-21T10:36:48.203Z"
   },
   {
    "duration": 13,
    "start_time": "2022-10-21T10:40:16.087Z"
   },
   {
    "duration": 13,
    "start_time": "2022-10-21T10:40:50.911Z"
   },
   {
    "duration": 16,
    "start_time": "2022-10-21T10:42:48.978Z"
   },
   {
    "duration": 18,
    "start_time": "2022-10-21T10:44:12.539Z"
   },
   {
    "duration": 25,
    "start_time": "2022-10-21T10:45:04.930Z"
   },
   {
    "duration": 4,
    "start_time": "2022-10-21T10:47:07.481Z"
   },
   {
    "duration": 19,
    "start_time": "2022-10-21T10:47:17.723Z"
   },
   {
    "duration": 20,
    "start_time": "2022-10-21T10:47:47.609Z"
   },
   {
    "duration": 18,
    "start_time": "2022-10-21T10:48:25.189Z"
   },
   {
    "duration": 15,
    "start_time": "2022-10-21T11:18:46.392Z"
   },
   {
    "duration": 16,
    "start_time": "2022-10-22T11:44:48.523Z"
   },
   {
    "duration": 16,
    "start_time": "2022-10-22T11:45:08.271Z"
   },
   {
    "duration": 17,
    "start_time": "2022-10-22T11:45:28.765Z"
   },
   {
    "duration": 17,
    "start_time": "2022-10-22T11:56:53.031Z"
   },
   {
    "duration": 19,
    "start_time": "2022-10-22T11:57:27.688Z"
   },
   {
    "duration": 21,
    "start_time": "2022-10-22T11:57:36.338Z"
   },
   {
    "duration": 26,
    "start_time": "2022-10-22T12:08:27.332Z"
   },
   {
    "duration": 19,
    "start_time": "2022-10-22T12:32:37.142Z"
   },
   {
    "duration": 18,
    "start_time": "2022-10-22T12:52:58.126Z"
   },
   {
    "duration": 16,
    "start_time": "2022-10-22T12:55:12.867Z"
   },
   {
    "duration": 18,
    "start_time": "2022-10-22T12:55:44.602Z"
   },
   {
    "duration": 50,
    "start_time": "2022-10-22T17:12:24.894Z"
   },
   {
    "duration": 1062,
    "start_time": "2022-10-22T17:13:08.725Z"
   },
   {
    "duration": 32,
    "start_time": "2022-10-22T17:13:09.790Z"
   },
   {
    "duration": 20,
    "start_time": "2022-10-22T17:13:09.824Z"
   },
   {
    "duration": 12,
    "start_time": "2022-10-22T17:13:09.846Z"
   },
   {
    "duration": 68,
    "start_time": "2022-10-22T17:13:09.861Z"
   },
   {
    "duration": 4,
    "start_time": "2022-10-22T17:13:09.932Z"
   },
   {
    "duration": 11,
    "start_time": "2022-10-22T17:13:09.938Z"
   },
   {
    "duration": 5,
    "start_time": "2022-10-22T17:13:09.951Z"
   },
   {
    "duration": 13,
    "start_time": "2022-10-22T17:13:09.957Z"
   },
   {
    "duration": 25,
    "start_time": "2022-10-22T17:13:09.972Z"
   },
   {
    "duration": 36,
    "start_time": "2022-10-22T17:13:09.999Z"
   },
   {
    "duration": 15,
    "start_time": "2022-10-22T17:13:10.037Z"
   },
   {
    "duration": 9,
    "start_time": "2022-10-22T17:13:10.053Z"
   },
   {
    "duration": 31,
    "start_time": "2022-10-22T17:13:10.065Z"
   },
   {
    "duration": 31,
    "start_time": "2022-10-22T17:13:10.098Z"
   },
   {
    "duration": 19,
    "start_time": "2022-10-22T17:13:10.131Z"
   },
   {
    "duration": 3,
    "start_time": "2022-10-22T17:13:10.152Z"
   },
   {
    "duration": 20,
    "start_time": "2022-10-22T17:13:10.157Z"
   },
   {
    "duration": 17,
    "start_time": "2022-10-22T17:13:10.178Z"
   },
   {
    "duration": 4,
    "start_time": "2022-10-22T17:13:10.197Z"
   },
   {
    "duration": 12,
    "start_time": "2022-10-22T17:13:10.204Z"
   },
   {
    "duration": 28,
    "start_time": "2022-10-22T17:13:10.217Z"
   },
   {
    "duration": 20,
    "start_time": "2022-10-22T17:13:10.247Z"
   },
   {
    "duration": 19,
    "start_time": "2022-10-22T17:13:10.295Z"
   },
   {
    "duration": 25,
    "start_time": "2022-10-22T17:13:10.315Z"
   },
   {
    "duration": 21,
    "start_time": "2022-10-22T17:16:52.438Z"
   },
   {
    "duration": 31,
    "start_time": "2022-10-22T17:20:51.124Z"
   },
   {
    "duration": 21,
    "start_time": "2022-10-22T17:27:57.278Z"
   },
   {
    "duration": 24,
    "start_time": "2022-10-22T17:28:33.607Z"
   },
   {
    "duration": 24,
    "start_time": "2022-10-22T17:32:40.452Z"
   },
   {
    "duration": 30,
    "start_time": "2022-10-22T17:49:05.085Z"
   },
   {
    "duration": 33,
    "start_time": "2022-10-22T18:05:49.990Z"
   },
   {
    "duration": 8,
    "start_time": "2022-10-22T18:57:58.343Z"
   },
   {
    "duration": 7,
    "start_time": "2022-10-22T18:58:03.973Z"
   },
   {
    "duration": 69,
    "start_time": "2022-10-22T18:58:32.423Z"
   },
   {
    "duration": 37,
    "start_time": "2022-10-22T18:58:32.494Z"
   },
   {
    "duration": 18,
    "start_time": "2022-10-22T18:58:32.532Z"
   },
   {
    "duration": 10,
    "start_time": "2022-10-22T18:58:32.553Z"
   },
   {
    "duration": 42,
    "start_time": "2022-10-22T18:58:32.564Z"
   },
   {
    "duration": 4,
    "start_time": "2022-10-22T18:58:32.609Z"
   },
   {
    "duration": 28,
    "start_time": "2022-10-22T18:58:32.615Z"
   },
   {
    "duration": 5,
    "start_time": "2022-10-22T18:58:32.645Z"
   },
   {
    "duration": 11,
    "start_time": "2022-10-22T18:58:32.652Z"
   },
   {
    "duration": 5,
    "start_time": "2022-10-22T18:58:32.665Z"
   },
   {
    "duration": 45,
    "start_time": "2022-10-22T18:58:32.672Z"
   },
   {
    "duration": 11,
    "start_time": "2022-10-22T18:58:32.722Z"
   },
   {
    "duration": 4,
    "start_time": "2022-10-22T18:58:32.735Z"
   },
   {
    "duration": 12,
    "start_time": "2022-10-22T18:58:32.741Z"
   },
   {
    "duration": 20,
    "start_time": "2022-10-22T18:58:32.755Z"
   },
   {
    "duration": 40,
    "start_time": "2022-10-22T18:58:32.777Z"
   },
   {
    "duration": 9,
    "start_time": "2022-10-22T18:58:32.818Z"
   },
   {
    "duration": 14,
    "start_time": "2022-10-22T18:58:32.829Z"
   },
   {
    "duration": 14,
    "start_time": "2022-10-22T18:58:32.845Z"
   },
   {
    "duration": 4,
    "start_time": "2022-10-22T18:58:32.860Z"
   },
   {
    "duration": 15,
    "start_time": "2022-10-22T18:58:32.866Z"
   },
   {
    "duration": 42,
    "start_time": "2022-10-22T18:58:32.882Z"
   },
   {
    "duration": 20,
    "start_time": "2022-10-22T18:58:32.927Z"
   },
   {
    "duration": 19,
    "start_time": "2022-10-22T18:58:32.949Z"
   },
   {
    "duration": 45,
    "start_time": "2022-10-22T18:58:32.970Z"
   },
   {
    "duration": 8,
    "start_time": "2022-10-22T18:59:02.968Z"
   },
   {
    "duration": 397,
    "start_time": "2022-10-22T19:52:10.539Z"
   },
   {
    "duration": 20,
    "start_time": "2022-10-22T19:52:10.938Z"
   },
   {
    "duration": 14,
    "start_time": "2022-10-22T19:52:10.960Z"
   },
   {
    "duration": 14,
    "start_time": "2022-10-22T19:52:10.975Z"
   },
   {
    "duration": 31,
    "start_time": "2022-10-22T19:52:10.990Z"
   },
   {
    "duration": 3,
    "start_time": "2022-10-22T19:52:11.022Z"
   },
   {
    "duration": 12,
    "start_time": "2022-10-22T19:52:11.026Z"
   },
   {
    "duration": 12,
    "start_time": "2022-10-22T19:52:11.039Z"
   },
   {
    "duration": 9,
    "start_time": "2022-10-22T19:52:11.052Z"
   },
   {
    "duration": 10,
    "start_time": "2022-10-22T19:52:11.063Z"
   },
   {
    "duration": 40,
    "start_time": "2022-10-22T19:52:11.074Z"
   },
   {
    "duration": 9,
    "start_time": "2022-10-22T19:52:11.115Z"
   },
   {
    "duration": 4,
    "start_time": "2022-10-22T19:52:11.125Z"
   },
   {
    "duration": 11,
    "start_time": "2022-10-22T19:52:11.130Z"
   },
   {
    "duration": 17,
    "start_time": "2022-10-22T19:52:11.143Z"
   },
   {
    "duration": 16,
    "start_time": "2022-10-22T19:52:11.185Z"
   },
   {
    "duration": 3,
    "start_time": "2022-10-22T19:52:11.202Z"
   },
   {
    "duration": 12,
    "start_time": "2022-10-22T19:52:11.207Z"
   },
   {
    "duration": 5,
    "start_time": "2022-10-22T19:52:11.221Z"
   },
   {
    "duration": 3,
    "start_time": "2022-10-22T19:52:11.227Z"
   },
   {
    "duration": 11,
    "start_time": "2022-10-22T19:52:11.232Z"
   },
   {
    "duration": 52,
    "start_time": "2022-10-22T19:52:11.245Z"
   },
   {
    "duration": 18,
    "start_time": "2022-10-22T19:52:11.299Z"
   },
   {
    "duration": 16,
    "start_time": "2022-10-22T19:52:11.318Z"
   },
   {
    "duration": 17,
    "start_time": "2022-10-22T19:52:11.335Z"
   },
   {
    "duration": 85,
    "start_time": "2022-10-22T19:52:16.401Z"
   },
   {
    "duration": 406,
    "start_time": "2022-10-22T19:52:25.126Z"
   },
   {
    "duration": 20,
    "start_time": "2022-10-22T19:52:25.534Z"
   },
   {
    "duration": 13,
    "start_time": "2022-10-22T19:52:25.556Z"
   },
   {
    "duration": 17,
    "start_time": "2022-10-22T19:52:25.570Z"
   },
   {
    "duration": 30,
    "start_time": "2022-10-22T19:52:25.589Z"
   },
   {
    "duration": 3,
    "start_time": "2022-10-22T19:52:25.621Z"
   },
   {
    "duration": 19,
    "start_time": "2022-10-22T19:52:25.626Z"
   },
   {
    "duration": 3,
    "start_time": "2022-10-22T19:52:25.647Z"
   },
   {
    "duration": 17,
    "start_time": "2022-10-22T19:52:25.652Z"
   },
   {
    "duration": 5,
    "start_time": "2022-10-22T19:52:25.671Z"
   },
   {
    "duration": 36,
    "start_time": "2022-10-22T19:52:25.677Z"
   },
   {
    "duration": 9,
    "start_time": "2022-10-22T19:52:25.714Z"
   },
   {
    "duration": 6,
    "start_time": "2022-10-22T19:52:25.724Z"
   },
   {
    "duration": 23,
    "start_time": "2022-10-22T19:52:25.731Z"
   },
   {
    "duration": 28,
    "start_time": "2022-10-22T19:52:25.756Z"
   },
   {
    "duration": 15,
    "start_time": "2022-10-22T19:52:25.786Z"
   },
   {
    "duration": 4,
    "start_time": "2022-10-22T19:52:25.802Z"
   },
   {
    "duration": 15,
    "start_time": "2022-10-22T19:52:25.808Z"
   },
   {
    "duration": 11,
    "start_time": "2022-10-22T19:52:25.824Z"
   },
   {
    "duration": 14,
    "start_time": "2022-10-22T19:52:25.836Z"
   },
   {
    "duration": 13,
    "start_time": "2022-10-22T19:52:25.851Z"
   },
   {
    "duration": 27,
    "start_time": "2022-10-22T19:52:25.865Z"
   },
   {
    "duration": 17,
    "start_time": "2022-10-22T19:52:25.894Z"
   },
   {
    "duration": 18,
    "start_time": "2022-10-22T19:52:25.912Z"
   },
   {
    "duration": 19,
    "start_time": "2022-10-22T19:52:25.932Z"
   },
   {
    "duration": 74,
    "start_time": "2022-10-23T15:13:50.258Z"
   },
   {
    "duration": 793,
    "start_time": "2022-10-23T15:13:56.504Z"
   },
   {
    "duration": 29,
    "start_time": "2022-10-23T15:13:57.299Z"
   },
   {
    "duration": 17,
    "start_time": "2022-10-23T15:13:57.331Z"
   },
   {
    "duration": 15,
    "start_time": "2022-10-23T15:13:57.350Z"
   },
   {
    "duration": 81,
    "start_time": "2022-10-23T15:13:57.369Z"
   },
   {
    "duration": 4,
    "start_time": "2022-10-23T15:13:57.452Z"
   },
   {
    "duration": 12,
    "start_time": "2022-10-23T15:13:57.458Z"
   },
   {
    "duration": 5,
    "start_time": "2022-10-23T15:13:57.472Z"
   },
   {
    "duration": 8,
    "start_time": "2022-10-23T15:13:57.479Z"
   },
   {
    "duration": 4,
    "start_time": "2022-10-23T15:13:57.489Z"
   },
   {
    "duration": 54,
    "start_time": "2022-10-23T15:13:57.525Z"
   },
   {
    "duration": 11,
    "start_time": "2022-10-23T15:13:57.582Z"
   },
   {
    "duration": 30,
    "start_time": "2022-10-23T15:13:57.595Z"
   },
   {
    "duration": 18,
    "start_time": "2022-10-23T15:13:57.629Z"
   },
   {
    "duration": 30,
    "start_time": "2022-10-23T15:13:57.649Z"
   },
   {
    "duration": 48,
    "start_time": "2022-10-23T15:13:57.681Z"
   },
   {
    "duration": 5,
    "start_time": "2022-10-23T15:13:57.731Z"
   },
   {
    "duration": 17,
    "start_time": "2022-10-23T15:13:57.738Z"
   },
   {
    "duration": 9,
    "start_time": "2022-10-23T15:13:57.757Z"
   },
   {
    "duration": 3,
    "start_time": "2022-10-23T15:13:57.768Z"
   },
   {
    "duration": 10,
    "start_time": "2022-10-23T15:13:57.773Z"
   },
   {
    "duration": 55,
    "start_time": "2022-10-23T15:13:57.784Z"
   },
   {
    "duration": 27,
    "start_time": "2022-10-23T15:13:57.841Z"
   },
   {
    "duration": 26,
    "start_time": "2022-10-23T15:13:57.871Z"
   },
   {
    "duration": 49,
    "start_time": "2022-10-23T15:13:57.899Z"
   },
   {
    "duration": 6,
    "start_time": "2022-10-23T15:17:32.761Z"
   },
   {
    "duration": 12,
    "start_time": "2022-10-23T15:21:04.652Z"
   },
   {
    "duration": 10,
    "start_time": "2022-10-23T15:21:51.543Z"
   },
   {
    "duration": 10,
    "start_time": "2022-10-23T15:22:22.883Z"
   },
   {
    "duration": 10,
    "start_time": "2022-10-23T15:24:22.585Z"
   },
   {
    "duration": 741,
    "start_time": "2022-10-24T13:22:57.058Z"
   },
   {
    "duration": 34,
    "start_time": "2022-10-24T13:22:57.801Z"
   },
   {
    "duration": 17,
    "start_time": "2022-10-24T13:22:57.837Z"
   },
   {
    "duration": 10,
    "start_time": "2022-10-24T13:22:57.857Z"
   },
   {
    "duration": 58,
    "start_time": "2022-10-24T13:22:57.869Z"
   },
   {
    "duration": 4,
    "start_time": "2022-10-24T13:22:57.928Z"
   },
   {
    "duration": 17,
    "start_time": "2022-10-24T13:22:57.934Z"
   },
   {
    "duration": 4,
    "start_time": "2022-10-24T13:22:57.953Z"
   },
   {
    "duration": 12,
    "start_time": "2022-10-24T13:22:57.959Z"
   },
   {
    "duration": 13,
    "start_time": "2022-10-24T13:22:57.975Z"
   },
   {
    "duration": 71,
    "start_time": "2022-10-24T13:22:57.990Z"
   },
   {
    "duration": 13,
    "start_time": "2022-10-24T13:22:58.063Z"
   },
   {
    "duration": 16,
    "start_time": "2022-10-24T13:22:58.078Z"
   },
   {
    "duration": 21,
    "start_time": "2022-10-24T13:22:58.096Z"
   },
   {
    "duration": 24,
    "start_time": "2022-10-24T13:22:58.119Z"
   },
   {
    "duration": 19,
    "start_time": "2022-10-24T13:22:58.145Z"
   },
   {
    "duration": 5,
    "start_time": "2022-10-24T13:22:58.166Z"
   },
   {
    "duration": 27,
    "start_time": "2022-10-24T13:22:58.172Z"
   },
   {
    "duration": 21,
    "start_time": "2022-10-24T13:22:58.201Z"
   },
   {
    "duration": 5,
    "start_time": "2022-10-24T13:22:58.224Z"
   },
   {
    "duration": 18,
    "start_time": "2022-10-24T13:22:58.231Z"
   },
   {
    "duration": 30,
    "start_time": "2022-10-24T13:22:58.251Z"
   },
   {
    "duration": 38,
    "start_time": "2022-10-24T13:22:58.283Z"
   },
   {
    "duration": 21,
    "start_time": "2022-10-24T13:22:58.323Z"
   },
   {
    "duration": 22,
    "start_time": "2022-10-24T13:22:58.346Z"
   },
   {
    "duration": 8,
    "start_time": "2022-10-24T13:23:30.908Z"
   }
  ],
  "colab": {
   "name": "dpp_template_part2.ipynb",
   "provenance": []
  },
  "kernelspec": {
   "display_name": "Python 3 (ipykernel)",
   "language": "python",
   "name": "python3"
  },
  "language_info": {
   "codemirror_mode": {
    "name": "ipython",
    "version": 3
   },
   "file_extension": ".py",
   "mimetype": "text/x-python",
   "name": "python",
   "nbconvert_exporter": "python",
   "pygments_lexer": "ipython3",
   "version": "3.9.5"
  },
  "toc": {
   "base_numbering": 1,
   "nav_menu": {},
   "number_sections": true,
   "sideBar": true,
   "skip_h1_title": true,
   "title_cell": "Table of Contents",
   "title_sidebar": "Contents",
   "toc_cell": false,
   "toc_position": {},
   "toc_section_display": true,
   "toc_window_display": false
  }
 },
 "nbformat": 4,
 "nbformat_minor": 5
}

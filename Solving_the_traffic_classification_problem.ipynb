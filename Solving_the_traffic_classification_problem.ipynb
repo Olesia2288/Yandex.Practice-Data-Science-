{
  "cells": [
    {
      "cell_type": "markdown",
      "metadata": {
        "id": "view-in-github",
        "colab_type": "text"
      },
      "source": [
        "<a href=\"https://colab.research.google.com/github/Olesia2288/Yandex_Practice_Data_Science/blob/main/Solving_the_traffic_classification_problem.ipynb\" target=\"_parent\"><img src=\"https://colab.research.google.com/assets/colab-badge.svg\" alt=\"Open In Colab\"/></a>"
      ]
    },
    {
      "cell_type": "markdown",
      "metadata": {
        "id": "fRcIJaH4DP_i"
      },
      "source": [
        "# Импорты"
      ]
    },
    {
      "cell_type": "code",
      "execution_count": 54,
      "metadata": {
        "colab": {
          "base_uri": "https://localhost:8080/"
        },
        "id": "lR2ngrNoL9SB",
        "outputId": "617deeb8-60f4-4c1e-a346-e3f9ffa9432e"
      },
      "outputs": [
        {
          "output_type": "stream",
          "name": "stdout",
          "text": [
            "Requirement already satisfied: gdown in /usr/local/lib/python3.10/dist-packages (4.6.6)\n",
            "Requirement already satisfied: filelock in /usr/local/lib/python3.10/dist-packages (from gdown) (3.12.4)\n",
            "Requirement already satisfied: requests[socks] in /usr/local/lib/python3.10/dist-packages (from gdown) (2.31.0)\n",
            "Requirement already satisfied: six in /usr/local/lib/python3.10/dist-packages (from gdown) (1.16.0)\n",
            "Requirement already satisfied: tqdm in /usr/local/lib/python3.10/dist-packages (from gdown) (4.66.1)\n",
            "Requirement already satisfied: beautifulsoup4 in /usr/local/lib/python3.10/dist-packages (from gdown) (4.11.2)\n",
            "Requirement already satisfied: soupsieve>1.2 in /usr/local/lib/python3.10/dist-packages (from beautifulsoup4->gdown) (2.5)\n",
            "Requirement already satisfied: charset-normalizer<4,>=2 in /usr/local/lib/python3.10/dist-packages (from requests[socks]->gdown) (3.2.0)\n",
            "Requirement already satisfied: idna<4,>=2.5 in /usr/local/lib/python3.10/dist-packages (from requests[socks]->gdown) (3.4)\n",
            "Requirement already satisfied: urllib3<3,>=1.21.1 in /usr/local/lib/python3.10/dist-packages (from requests[socks]->gdown) (2.0.5)\n",
            "Requirement already satisfied: certifi>=2017.4.17 in /usr/local/lib/python3.10/dist-packages (from requests[socks]->gdown) (2023.7.22)\n",
            "Requirement already satisfied: PySocks!=1.5.7,>=1.5.6 in /usr/local/lib/python3.10/dist-packages (from requests[socks]->gdown) (1.7.1)\n",
            "Requirement already satisfied: scikit-multilearn in /usr/local/lib/python3.10/dist-packages (0.2.0)\n",
            "Requirement already satisfied: lightgbm in /usr/local/lib/python3.10/dist-packages (4.0.0)\n",
            "Requirement already satisfied: numpy in /usr/local/lib/python3.10/dist-packages (from lightgbm) (1.23.5)\n",
            "Requirement already satisfied: scipy in /usr/local/lib/python3.10/dist-packages (from lightgbm) (1.11.3)\n",
            "Requirement already satisfied: optuna in /usr/local/lib/python3.10/dist-packages (3.3.0)\n",
            "Requirement already satisfied: alembic>=1.5.0 in /usr/local/lib/python3.10/dist-packages (from optuna) (1.12.0)\n",
            "Requirement already satisfied: cmaes>=0.10.0 in /usr/local/lib/python3.10/dist-packages (from optuna) (0.10.0)\n",
            "Requirement already satisfied: colorlog in /usr/local/lib/python3.10/dist-packages (from optuna) (6.7.0)\n",
            "Requirement already satisfied: numpy in /usr/local/lib/python3.10/dist-packages (from optuna) (1.23.5)\n",
            "Requirement already satisfied: packaging>=20.0 in /usr/local/lib/python3.10/dist-packages (from optuna) (23.1)\n",
            "Requirement already satisfied: sqlalchemy>=1.3.0 in /usr/local/lib/python3.10/dist-packages (from optuna) (2.0.21)\n",
            "Requirement already satisfied: tqdm in /usr/local/lib/python3.10/dist-packages (from optuna) (4.66.1)\n",
            "Requirement already satisfied: PyYAML in /usr/local/lib/python3.10/dist-packages (from optuna) (6.0.1)\n",
            "Requirement already satisfied: Mako in /usr/local/lib/python3.10/dist-packages (from alembic>=1.5.0->optuna) (1.2.4)\n",
            "Requirement already satisfied: typing-extensions>=4 in /usr/local/lib/python3.10/dist-packages (from alembic>=1.5.0->optuna) (4.5.0)\n",
            "Requirement already satisfied: greenlet!=0.4.17 in /usr/local/lib/python3.10/dist-packages (from sqlalchemy>=1.3.0->optuna) (2.0.2)\n",
            "Requirement already satisfied: MarkupSafe>=0.9.2 in /usr/local/lib/python3.10/dist-packages (from Mako->alembic>=1.5.0->optuna) (2.1.3)\n"
          ]
        }
      ],
      "source": [
        "!pip install gdown\n",
        "!pip install scikit-multilearn\n",
        "!pip install lightgbm\n",
        "!pip install optuna"
      ]
    },
    {
      "cell_type": "code",
      "execution_count": 197,
      "metadata": {
        "id": "g9kJHPQpJFNQ"
      },
      "outputs": [],
      "source": [
        "import pandas as pd\n",
        "import numpy as np\n",
        "import gdown\n",
        "from google.colab import drive\n",
        "import seaborn as sns\n",
        "import matplotlib.pyplot as plt\n",
        "\n",
        "from sklearn.decomposition import PCA\n",
        "from sklearn.preprocessing import StandardScaler, LabelEncoder,  FunctionTransformer\n",
        "\n",
        "from sklearn.model_selection import train_test_split, cross_val_score\n",
        "from sklearn.metrics import accuracy_score, f1_score, roc_auc_score, confusion_matrix, classification_report, ConfusionMatrixDisplay\n",
        "from sklearn.pipeline import Pipeline\n",
        "from sklearn.linear_model import LogisticRegression\n",
        "from sklearn.impute import SimpleImputer\n",
        "import xgboost as xgb\n",
        "import lightgbm as lgb\n",
        "import optuna\n",
        "import pickle"
      ]
    },
    {
      "cell_type": "markdown",
      "metadata": {
        "id": "GD9f5MLxAW9M"
      },
      "source": [
        "# Описание проекта"
      ]
    },
    {
      "cell_type": "markdown",
      "source": [
        "Компания онлайн-сервис с высоким уровнем входящего трафика имеет специализированный отдел безопасности, который занимается фильтрацией и анализом трафика. Сотрудники этого отдела обратились за помощью в автоматизации выявления аномального и злонамеренного трафика. Ваша задача - разработать модель, которая будет классифицировать трафик на нормальный и злонамеренный, включая следующие типы атак: DDoS, SQL-инъекции, брутфорс, вредоносные программы и т.д."
      ],
      "metadata": {
        "id": "8cGCRe4Tu-bd"
      }
    },
    {
      "cell_type": "markdown",
      "metadata": {
        "id": "1qGQnc6NC4NL"
      },
      "source": [
        "# Загрузка и ознакомление с данными"
      ]
    },
    {
      "cell_type": "code",
      "execution_count": 128,
      "metadata": {
        "colab": {
          "base_uri": "https://localhost:8080/"
        },
        "id": "sLgF6-dXNbrh",
        "outputId": "7d20062d-b149-4048-b13b-3efe08b34f23"
      },
      "outputs": [
        {
          "output_type": "stream",
          "name": "stdout",
          "text": [
            "Drive already mounted at /content/drive; to attempt to forcibly remount, call drive.mount(\"/content/drive\", force_remount=True).\n"
          ]
        }
      ],
      "source": [
        "drive.mount('/content/drive')"
      ]
    },
    {
      "cell_type": "code",
      "execution_count": 129,
      "metadata": {
        "id": "VpQiOqJCMimo"
      },
      "outputs": [],
      "source": [
        "data = pd.read_csv('/content/drive/MyDrive/network_traffic_data.csv')"
      ]
    },
    {
      "cell_type": "code",
      "source": [
        "pd.set_option('display.max_columns', None)"
      ],
      "metadata": {
        "id": "cz1Di_S4l7PH"
      },
      "execution_count": 130,
      "outputs": []
    },
    {
      "cell_type": "code",
      "execution_count": 131,
      "metadata": {
        "colab": {
          "base_uri": "https://localhost:8080/",
          "height": 278
        },
        "id": "4UNyvdVUMnk2",
        "outputId": "77504b47-b03a-40a0-d845-6c43c3137320"
      },
      "outputs": [
        {
          "output_type": "execute_result",
          "data": {
            "text/plain": [
              "    Destination Port   Flow Duration   Total Fwd Packets  \\\n",
              "0                 80         5480074                   3   \n",
              "1                443          711977                   9   \n",
              "2                 53          153398                   2   \n",
              "3                 53           57660                   1   \n",
              "4               8446             767                   3   \n",
              "\n",
              "    Total Backward Packets  Total Length of Fwd Packets  \\\n",
              "0                        1                           12   \n",
              "1                       10                          703   \n",
              "2                        2                           80   \n",
              "3                        1                           46   \n",
              "4                        1                           43   \n",
              "\n",
              "    Total Length of Bwd Packets   Fwd Packet Length Max  \\\n",
              "0                             0                       6   \n",
              "1                          3950                     267   \n",
              "2                           224                      40   \n",
              "3                           128                      46   \n",
              "4                             6                      31   \n",
              "\n",
              "    Fwd Packet Length Min   Fwd Packet Length Mean   Fwd Packet Length Std  \\\n",
              "0                       0                    4.000                   3.465   \n",
              "1                       0                   78.100                 103.300   \n",
              "2                      40                   40.000                   0.000   \n",
              "3                      46                   46.000                   0.000   \n",
              "4                       6                   14.336                  14.440   \n",
              "\n",
              "   Bwd Packet Length Max   Bwd Packet Length Min   Bwd Packet Length Mean  \\\n",
              "0                      0                       0                      0.0   \n",
              "1                   1448                       0                    395.0   \n",
              "2                    112                     112                    112.0   \n",
              "3                    128                     128                    128.0   \n",
              "4                      6                       6                      6.0   \n",
              "\n",
              "    Bwd Packet Length Std  Flow Bytes/s   Flow Packets/s   Flow IAT Mean  \\\n",
              "0                     0.0      2.189751         0.729917    1.826691e+06   \n",
              "1                   587.5   6535.323473        26.686255    3.955428e+04   \n",
              "2                     0.0   1981.772904        26.075959    5.113267e+04   \n",
              "3                     0.0   3017.689906        34.686091    5.766000e+04   \n",
              "4                     0.0  63885.267280      5215.123859    2.556667e+02   \n",
              "\n",
              "    Flow IAT Std   Flow IAT Max   Flow IAT Min  Fwd IAT Total   Fwd IAT Mean  \\\n",
              "0   3.131700e+06        5442804            101        5480074    2740037.000   \n",
              "1   5.015462e+04         120501              1         616301      77037.625   \n",
              "2   8.855831e+04         153391              3              3          3.000   \n",
              "3   0.000000e+00          57660          57660              0          0.000   \n",
              "4   3.942896e+02            710              3            713        356.500   \n",
              "\n",
              "    Fwd IAT Std   Fwd IAT Max   Fwd IAT Min  Bwd IAT Total   Bwd IAT Mean  \\\n",
              "0  3.822290e+06       5442804         37270              0          0.000   \n",
              "1  7.299598e+04        215614           230         616874      68541.555   \n",
              "2  0.000000e+00             3             3              4          4.000   \n",
              "3  0.000000e+00             0             0              0          0.000   \n",
              "4  4.999245e+02           710             3              0          0.000   \n",
              "\n",
              "    Bwd IAT Std   Bwd IAT Max   Bwd IAT Min  Fwd PSH Flags   Bwd PSH Flags  \\\n",
              "0          0.00             0             0              0               0   \n",
              "1      71985.97        199836             1              0               0   \n",
              "2          0.00             4             4              0               0   \n",
              "3          0.00             0             0              0               0   \n",
              "4          0.00             0             0              0               0   \n",
              "\n",
              "    Fwd URG Flags   Bwd URG Flags   Fwd Header Length   Bwd Header Length  \\\n",
              "0               0               0                  72                  32   \n",
              "1               0               0                 296                 328   \n",
              "2               0               0                  40                  40   \n",
              "3               0               0                  20                  20   \n",
              "4               0               0                  60                  20   \n",
              "\n",
              "   Fwd Packets/s   Bwd Packets/s   Min Packet Length   Max Packet Length  \\\n",
              "0       0.547438        0.182479                   0                   6   \n",
              "1      12.640858       14.045398                   0                1448   \n",
              "2      13.037980       13.037980                  40                 112   \n",
              "3      17.343046       17.343046                  46                 128   \n",
              "4    3911.342800     1303.781000                   6                  31   \n",
              "\n",
              "    Packet Length Mean   Packet Length Std   Packet Length Variance  \\\n",
              "0                  2.4               3.287                  10.8000   \n",
              "1                232.6             442.800              196012.6600   \n",
              "2                 68.8              39.440                1555.2000   \n",
              "3                 73.3              47.340                2241.3333   \n",
              "4                 11.0              11.180                 125.0000   \n",
              "\n",
              "   FIN Flag Count   SYN Flag Count   RST Flag Count   PSH Flag Count  \\\n",
              "0               0                0                0                1   \n",
              "1               0                0                0                1   \n",
              "2               0                0                0                0   \n",
              "3               0                0                0                0   \n",
              "4               0                0                0                0   \n",
              "\n",
              "    ACK Flag Count   URG Flag Count   CWE Flag Count   ECE Flag Count  \\\n",
              "0                0                0                0                0   \n",
              "1                0                0                0                0   \n",
              "2                0                0                0                0   \n",
              "3                0                0                0                0   \n",
              "4                1                0                0                0   \n",
              "\n",
              "    Down/Up Ratio   Average Packet Size   Avg Fwd Segment Size  \\\n",
              "0               0                  3.00                  4.000   \n",
              "1               1                244.90                 78.100   \n",
              "2               1                 86.00                 40.000   \n",
              "3               1                110.00                 46.000   \n",
              "4               0                 13.75                 14.336   \n",
              "\n",
              "    Avg Bwd Segment Size   Fwd Header Length.1  Fwd Avg Bytes/Bulk  \\\n",
              "0                    0.0                    72                   0   \n",
              "1                  395.0                   296                   0   \n",
              "2                  112.0                    40                   0   \n",
              "3                  128.0                    20                   0   \n",
              "4                    6.0                    60                   0   \n",
              "\n",
              "    Fwd Avg Packets/Bulk   Fwd Avg Bulk Rate   Bwd Avg Bytes/Bulk  \\\n",
              "0                      0                   0                    0   \n",
              "1                      0                   0                    0   \n",
              "2                      0                   0                    0   \n",
              "3                      0                   0                    0   \n",
              "4                      0                   0                    0   \n",
              "\n",
              "    Bwd Avg Packets/Bulk  Bwd Avg Bulk Rate  Subflow Fwd Packets  \\\n",
              "0                      0                  0                    3   \n",
              "1                      0                  0                    9   \n",
              "2                      0                  0                    2   \n",
              "3                      0                  0                    1   \n",
              "4                      0                  0                    3   \n",
              "\n",
              "    Subflow Fwd Bytes   Subflow Bwd Packets   Subflow Bwd Bytes  \\\n",
              "0                  12                     1                   0   \n",
              "1                 703                    10                3950   \n",
              "2                  80                     2                 224   \n",
              "3                  46                     1                 128   \n",
              "4                  43                     1                   6   \n",
              "\n",
              "   Init_Win_bytes_forward   Init_Win_bytes_backward   act_data_pkt_fwd  \\\n",
              "0                    8192                     42780                  2   \n",
              "1                   29200                       252                  4   \n",
              "2                      -1                        -1                  1   \n",
              "3                      -1                        -1                  0   \n",
              "4                    1017                         0                  2   \n",
              "\n",
              "    min_seg_size_forward  Active Mean   Active Std   Active Max   Active Min  \\\n",
              "0                     20          0.0          0.0            0            0   \n",
              "1                     32          0.0          0.0            0            0   \n",
              "2                     20          0.0          0.0            0            0   \n",
              "3                     20          0.0          0.0            0            0   \n",
              "4                     20          0.0          0.0            0            0   \n",
              "\n",
              "   Idle Mean   Idle Std   Idle Max   Idle Min   Label  \n",
              "0        0.0        0.0          0          0  BENIGN  \n",
              "1        0.0        0.0          0          0  BENIGN  \n",
              "2        0.0        0.0          0          0  BENIGN  \n",
              "3        0.0        0.0          0          0  BENIGN  \n",
              "4        0.0        0.0          0          0  BENIGN  "
            ],
            "text/html": [
              "\n",
              "  <div id=\"df-5ae760a5-d1ac-4d47-9663-f1620d673951\" class=\"colab-df-container\">\n",
              "    <div>\n",
              "<style scoped>\n",
              "    .dataframe tbody tr th:only-of-type {\n",
              "        vertical-align: middle;\n",
              "    }\n",
              "\n",
              "    .dataframe tbody tr th {\n",
              "        vertical-align: top;\n",
              "    }\n",
              "\n",
              "    .dataframe thead th {\n",
              "        text-align: right;\n",
              "    }\n",
              "</style>\n",
              "<table border=\"1\" class=\"dataframe\">\n",
              "  <thead>\n",
              "    <tr style=\"text-align: right;\">\n",
              "      <th></th>\n",
              "      <th>Destination Port</th>\n",
              "      <th>Flow Duration</th>\n",
              "      <th>Total Fwd Packets</th>\n",
              "      <th>Total Backward Packets</th>\n",
              "      <th>Total Length of Fwd Packets</th>\n",
              "      <th>Total Length of Bwd Packets</th>\n",
              "      <th>Fwd Packet Length Max</th>\n",
              "      <th>Fwd Packet Length Min</th>\n",
              "      <th>Fwd Packet Length Mean</th>\n",
              "      <th>Fwd Packet Length Std</th>\n",
              "      <th>Bwd Packet Length Max</th>\n",
              "      <th>Bwd Packet Length Min</th>\n",
              "      <th>Bwd Packet Length Mean</th>\n",
              "      <th>Bwd Packet Length Std</th>\n",
              "      <th>Flow Bytes/s</th>\n",
              "      <th>Flow Packets/s</th>\n",
              "      <th>Flow IAT Mean</th>\n",
              "      <th>Flow IAT Std</th>\n",
              "      <th>Flow IAT Max</th>\n",
              "      <th>Flow IAT Min</th>\n",
              "      <th>Fwd IAT Total</th>\n",
              "      <th>Fwd IAT Mean</th>\n",
              "      <th>Fwd IAT Std</th>\n",
              "      <th>Fwd IAT Max</th>\n",
              "      <th>Fwd IAT Min</th>\n",
              "      <th>Bwd IAT Total</th>\n",
              "      <th>Bwd IAT Mean</th>\n",
              "      <th>Bwd IAT Std</th>\n",
              "      <th>Bwd IAT Max</th>\n",
              "      <th>Bwd IAT Min</th>\n",
              "      <th>Fwd PSH Flags</th>\n",
              "      <th>Bwd PSH Flags</th>\n",
              "      <th>Fwd URG Flags</th>\n",
              "      <th>Bwd URG Flags</th>\n",
              "      <th>Fwd Header Length</th>\n",
              "      <th>Bwd Header Length</th>\n",
              "      <th>Fwd Packets/s</th>\n",
              "      <th>Bwd Packets/s</th>\n",
              "      <th>Min Packet Length</th>\n",
              "      <th>Max Packet Length</th>\n",
              "      <th>Packet Length Mean</th>\n",
              "      <th>Packet Length Std</th>\n",
              "      <th>Packet Length Variance</th>\n",
              "      <th>FIN Flag Count</th>\n",
              "      <th>SYN Flag Count</th>\n",
              "      <th>RST Flag Count</th>\n",
              "      <th>PSH Flag Count</th>\n",
              "      <th>ACK Flag Count</th>\n",
              "      <th>URG Flag Count</th>\n",
              "      <th>CWE Flag Count</th>\n",
              "      <th>ECE Flag Count</th>\n",
              "      <th>Down/Up Ratio</th>\n",
              "      <th>Average Packet Size</th>\n",
              "      <th>Avg Fwd Segment Size</th>\n",
              "      <th>Avg Bwd Segment Size</th>\n",
              "      <th>Fwd Header Length.1</th>\n",
              "      <th>Fwd Avg Bytes/Bulk</th>\n",
              "      <th>Fwd Avg Packets/Bulk</th>\n",
              "      <th>Fwd Avg Bulk Rate</th>\n",
              "      <th>Bwd Avg Bytes/Bulk</th>\n",
              "      <th>Bwd Avg Packets/Bulk</th>\n",
              "      <th>Bwd Avg Bulk Rate</th>\n",
              "      <th>Subflow Fwd Packets</th>\n",
              "      <th>Subflow Fwd Bytes</th>\n",
              "      <th>Subflow Bwd Packets</th>\n",
              "      <th>Subflow Bwd Bytes</th>\n",
              "      <th>Init_Win_bytes_forward</th>\n",
              "      <th>Init_Win_bytes_backward</th>\n",
              "      <th>act_data_pkt_fwd</th>\n",
              "      <th>min_seg_size_forward</th>\n",
              "      <th>Active Mean</th>\n",
              "      <th>Active Std</th>\n",
              "      <th>Active Max</th>\n",
              "      <th>Active Min</th>\n",
              "      <th>Idle Mean</th>\n",
              "      <th>Idle Std</th>\n",
              "      <th>Idle Max</th>\n",
              "      <th>Idle Min</th>\n",
              "      <th>Label</th>\n",
              "    </tr>\n",
              "  </thead>\n",
              "  <tbody>\n",
              "    <tr>\n",
              "      <th>0</th>\n",
              "      <td>80</td>\n",
              "      <td>5480074</td>\n",
              "      <td>3</td>\n",
              "      <td>1</td>\n",
              "      <td>12</td>\n",
              "      <td>0</td>\n",
              "      <td>6</td>\n",
              "      <td>0</td>\n",
              "      <td>4.000</td>\n",
              "      <td>3.465</td>\n",
              "      <td>0</td>\n",
              "      <td>0</td>\n",
              "      <td>0.0</td>\n",
              "      <td>0.0</td>\n",
              "      <td>2.189751</td>\n",
              "      <td>0.729917</td>\n",
              "      <td>1.826691e+06</td>\n",
              "      <td>3.131700e+06</td>\n",
              "      <td>5442804</td>\n",
              "      <td>101</td>\n",
              "      <td>5480074</td>\n",
              "      <td>2740037.000</td>\n",
              "      <td>3.822290e+06</td>\n",
              "      <td>5442804</td>\n",
              "      <td>37270</td>\n",
              "      <td>0</td>\n",
              "      <td>0.000</td>\n",
              "      <td>0.00</td>\n",
              "      <td>0</td>\n",
              "      <td>0</td>\n",
              "      <td>0</td>\n",
              "      <td>0</td>\n",
              "      <td>0</td>\n",
              "      <td>0</td>\n",
              "      <td>72</td>\n",
              "      <td>32</td>\n",
              "      <td>0.547438</td>\n",
              "      <td>0.182479</td>\n",
              "      <td>0</td>\n",
              "      <td>6</td>\n",
              "      <td>2.4</td>\n",
              "      <td>3.287</td>\n",
              "      <td>10.8000</td>\n",
              "      <td>0</td>\n",
              "      <td>0</td>\n",
              "      <td>0</td>\n",
              "      <td>1</td>\n",
              "      <td>0</td>\n",
              "      <td>0</td>\n",
              "      <td>0</td>\n",
              "      <td>0</td>\n",
              "      <td>0</td>\n",
              "      <td>3.00</td>\n",
              "      <td>4.000</td>\n",
              "      <td>0.0</td>\n",
              "      <td>72</td>\n",
              "      <td>0</td>\n",
              "      <td>0</td>\n",
              "      <td>0</td>\n",
              "      <td>0</td>\n",
              "      <td>0</td>\n",
              "      <td>0</td>\n",
              "      <td>3</td>\n",
              "      <td>12</td>\n",
              "      <td>1</td>\n",
              "      <td>0</td>\n",
              "      <td>8192</td>\n",
              "      <td>42780</td>\n",
              "      <td>2</td>\n",
              "      <td>20</td>\n",
              "      <td>0.0</td>\n",
              "      <td>0.0</td>\n",
              "      <td>0</td>\n",
              "      <td>0</td>\n",
              "      <td>0.0</td>\n",
              "      <td>0.0</td>\n",
              "      <td>0</td>\n",
              "      <td>0</td>\n",
              "      <td>BENIGN</td>\n",
              "    </tr>\n",
              "    <tr>\n",
              "      <th>1</th>\n",
              "      <td>443</td>\n",
              "      <td>711977</td>\n",
              "      <td>9</td>\n",
              "      <td>10</td>\n",
              "      <td>703</td>\n",
              "      <td>3950</td>\n",
              "      <td>267</td>\n",
              "      <td>0</td>\n",
              "      <td>78.100</td>\n",
              "      <td>103.300</td>\n",
              "      <td>1448</td>\n",
              "      <td>0</td>\n",
              "      <td>395.0</td>\n",
              "      <td>587.5</td>\n",
              "      <td>6535.323473</td>\n",
              "      <td>26.686255</td>\n",
              "      <td>3.955428e+04</td>\n",
              "      <td>5.015462e+04</td>\n",
              "      <td>120501</td>\n",
              "      <td>1</td>\n",
              "      <td>616301</td>\n",
              "      <td>77037.625</td>\n",
              "      <td>7.299598e+04</td>\n",
              "      <td>215614</td>\n",
              "      <td>230</td>\n",
              "      <td>616874</td>\n",
              "      <td>68541.555</td>\n",
              "      <td>71985.97</td>\n",
              "      <td>199836</td>\n",
              "      <td>1</td>\n",
              "      <td>0</td>\n",
              "      <td>0</td>\n",
              "      <td>0</td>\n",
              "      <td>0</td>\n",
              "      <td>296</td>\n",
              "      <td>328</td>\n",
              "      <td>12.640858</td>\n",
              "      <td>14.045398</td>\n",
              "      <td>0</td>\n",
              "      <td>1448</td>\n",
              "      <td>232.6</td>\n",
              "      <td>442.800</td>\n",
              "      <td>196012.6600</td>\n",
              "      <td>0</td>\n",
              "      <td>0</td>\n",
              "      <td>0</td>\n",
              "      <td>1</td>\n",
              "      <td>0</td>\n",
              "      <td>0</td>\n",
              "      <td>0</td>\n",
              "      <td>0</td>\n",
              "      <td>1</td>\n",
              "      <td>244.90</td>\n",
              "      <td>78.100</td>\n",
              "      <td>395.0</td>\n",
              "      <td>296</td>\n",
              "      <td>0</td>\n",
              "      <td>0</td>\n",
              "      <td>0</td>\n",
              "      <td>0</td>\n",
              "      <td>0</td>\n",
              "      <td>0</td>\n",
              "      <td>9</td>\n",
              "      <td>703</td>\n",
              "      <td>10</td>\n",
              "      <td>3950</td>\n",
              "      <td>29200</td>\n",
              "      <td>252</td>\n",
              "      <td>4</td>\n",
              "      <td>32</td>\n",
              "      <td>0.0</td>\n",
              "      <td>0.0</td>\n",
              "      <td>0</td>\n",
              "      <td>0</td>\n",
              "      <td>0.0</td>\n",
              "      <td>0.0</td>\n",
              "      <td>0</td>\n",
              "      <td>0</td>\n",
              "      <td>BENIGN</td>\n",
              "    </tr>\n",
              "    <tr>\n",
              "      <th>2</th>\n",
              "      <td>53</td>\n",
              "      <td>153398</td>\n",
              "      <td>2</td>\n",
              "      <td>2</td>\n",
              "      <td>80</td>\n",
              "      <td>224</td>\n",
              "      <td>40</td>\n",
              "      <td>40</td>\n",
              "      <td>40.000</td>\n",
              "      <td>0.000</td>\n",
              "      <td>112</td>\n",
              "      <td>112</td>\n",
              "      <td>112.0</td>\n",
              "      <td>0.0</td>\n",
              "      <td>1981.772904</td>\n",
              "      <td>26.075959</td>\n",
              "      <td>5.113267e+04</td>\n",
              "      <td>8.855831e+04</td>\n",
              "      <td>153391</td>\n",
              "      <td>3</td>\n",
              "      <td>3</td>\n",
              "      <td>3.000</td>\n",
              "      <td>0.000000e+00</td>\n",
              "      <td>3</td>\n",
              "      <td>3</td>\n",
              "      <td>4</td>\n",
              "      <td>4.000</td>\n",
              "      <td>0.00</td>\n",
              "      <td>4</td>\n",
              "      <td>4</td>\n",
              "      <td>0</td>\n",
              "      <td>0</td>\n",
              "      <td>0</td>\n",
              "      <td>0</td>\n",
              "      <td>40</td>\n",
              "      <td>40</td>\n",
              "      <td>13.037980</td>\n",
              "      <td>13.037980</td>\n",
              "      <td>40</td>\n",
              "      <td>112</td>\n",
              "      <td>68.8</td>\n",
              "      <td>39.440</td>\n",
              "      <td>1555.2000</td>\n",
              "      <td>0</td>\n",
              "      <td>0</td>\n",
              "      <td>0</td>\n",
              "      <td>0</td>\n",
              "      <td>0</td>\n",
              "      <td>0</td>\n",
              "      <td>0</td>\n",
              "      <td>0</td>\n",
              "      <td>1</td>\n",
              "      <td>86.00</td>\n",
              "      <td>40.000</td>\n",
              "      <td>112.0</td>\n",
              "      <td>40</td>\n",
              "      <td>0</td>\n",
              "      <td>0</td>\n",
              "      <td>0</td>\n",
              "      <td>0</td>\n",
              "      <td>0</td>\n",
              "      <td>0</td>\n",
              "      <td>2</td>\n",
              "      <td>80</td>\n",
              "      <td>2</td>\n",
              "      <td>224</td>\n",
              "      <td>-1</td>\n",
              "      <td>-1</td>\n",
              "      <td>1</td>\n",
              "      <td>20</td>\n",
              "      <td>0.0</td>\n",
              "      <td>0.0</td>\n",
              "      <td>0</td>\n",
              "      <td>0</td>\n",
              "      <td>0.0</td>\n",
              "      <td>0.0</td>\n",
              "      <td>0</td>\n",
              "      <td>0</td>\n",
              "      <td>BENIGN</td>\n",
              "    </tr>\n",
              "    <tr>\n",
              "      <th>3</th>\n",
              "      <td>53</td>\n",
              "      <td>57660</td>\n",
              "      <td>1</td>\n",
              "      <td>1</td>\n",
              "      <td>46</td>\n",
              "      <td>128</td>\n",
              "      <td>46</td>\n",
              "      <td>46</td>\n",
              "      <td>46.000</td>\n",
              "      <td>0.000</td>\n",
              "      <td>128</td>\n",
              "      <td>128</td>\n",
              "      <td>128.0</td>\n",
              "      <td>0.0</td>\n",
              "      <td>3017.689906</td>\n",
              "      <td>34.686091</td>\n",
              "      <td>5.766000e+04</td>\n",
              "      <td>0.000000e+00</td>\n",
              "      <td>57660</td>\n",
              "      <td>57660</td>\n",
              "      <td>0</td>\n",
              "      <td>0.000</td>\n",
              "      <td>0.000000e+00</td>\n",
              "      <td>0</td>\n",
              "      <td>0</td>\n",
              "      <td>0</td>\n",
              "      <td>0.000</td>\n",
              "      <td>0.00</td>\n",
              "      <td>0</td>\n",
              "      <td>0</td>\n",
              "      <td>0</td>\n",
              "      <td>0</td>\n",
              "      <td>0</td>\n",
              "      <td>0</td>\n",
              "      <td>20</td>\n",
              "      <td>20</td>\n",
              "      <td>17.343046</td>\n",
              "      <td>17.343046</td>\n",
              "      <td>46</td>\n",
              "      <td>128</td>\n",
              "      <td>73.3</td>\n",
              "      <td>47.340</td>\n",
              "      <td>2241.3333</td>\n",
              "      <td>0</td>\n",
              "      <td>0</td>\n",
              "      <td>0</td>\n",
              "      <td>0</td>\n",
              "      <td>0</td>\n",
              "      <td>0</td>\n",
              "      <td>0</td>\n",
              "      <td>0</td>\n",
              "      <td>1</td>\n",
              "      <td>110.00</td>\n",
              "      <td>46.000</td>\n",
              "      <td>128.0</td>\n",
              "      <td>20</td>\n",
              "      <td>0</td>\n",
              "      <td>0</td>\n",
              "      <td>0</td>\n",
              "      <td>0</td>\n",
              "      <td>0</td>\n",
              "      <td>0</td>\n",
              "      <td>1</td>\n",
              "      <td>46</td>\n",
              "      <td>1</td>\n",
              "      <td>128</td>\n",
              "      <td>-1</td>\n",
              "      <td>-1</td>\n",
              "      <td>0</td>\n",
              "      <td>20</td>\n",
              "      <td>0.0</td>\n",
              "      <td>0.0</td>\n",
              "      <td>0</td>\n",
              "      <td>0</td>\n",
              "      <td>0.0</td>\n",
              "      <td>0.0</td>\n",
              "      <td>0</td>\n",
              "      <td>0</td>\n",
              "      <td>BENIGN</td>\n",
              "    </tr>\n",
              "    <tr>\n",
              "      <th>4</th>\n",
              "      <td>8446</td>\n",
              "      <td>767</td>\n",
              "      <td>3</td>\n",
              "      <td>1</td>\n",
              "      <td>43</td>\n",
              "      <td>6</td>\n",
              "      <td>31</td>\n",
              "      <td>6</td>\n",
              "      <td>14.336</td>\n",
              "      <td>14.440</td>\n",
              "      <td>6</td>\n",
              "      <td>6</td>\n",
              "      <td>6.0</td>\n",
              "      <td>0.0</td>\n",
              "      <td>63885.267280</td>\n",
              "      <td>5215.123859</td>\n",
              "      <td>2.556667e+02</td>\n",
              "      <td>3.942896e+02</td>\n",
              "      <td>710</td>\n",
              "      <td>3</td>\n",
              "      <td>713</td>\n",
              "      <td>356.500</td>\n",
              "      <td>4.999245e+02</td>\n",
              "      <td>710</td>\n",
              "      <td>3</td>\n",
              "      <td>0</td>\n",
              "      <td>0.000</td>\n",
              "      <td>0.00</td>\n",
              "      <td>0</td>\n",
              "      <td>0</td>\n",
              "      <td>0</td>\n",
              "      <td>0</td>\n",
              "      <td>0</td>\n",
              "      <td>0</td>\n",
              "      <td>60</td>\n",
              "      <td>20</td>\n",
              "      <td>3911.342800</td>\n",
              "      <td>1303.781000</td>\n",
              "      <td>6</td>\n",
              "      <td>31</td>\n",
              "      <td>11.0</td>\n",
              "      <td>11.180</td>\n",
              "      <td>125.0000</td>\n",
              "      <td>0</td>\n",
              "      <td>0</td>\n",
              "      <td>0</td>\n",
              "      <td>0</td>\n",
              "      <td>1</td>\n",
              "      <td>0</td>\n",
              "      <td>0</td>\n",
              "      <td>0</td>\n",
              "      <td>0</td>\n",
              "      <td>13.75</td>\n",
              "      <td>14.336</td>\n",
              "      <td>6.0</td>\n",
              "      <td>60</td>\n",
              "      <td>0</td>\n",
              "      <td>0</td>\n",
              "      <td>0</td>\n",
              "      <td>0</td>\n",
              "      <td>0</td>\n",
              "      <td>0</td>\n",
              "      <td>3</td>\n",
              "      <td>43</td>\n",
              "      <td>1</td>\n",
              "      <td>6</td>\n",
              "      <td>1017</td>\n",
              "      <td>0</td>\n",
              "      <td>2</td>\n",
              "      <td>20</td>\n",
              "      <td>0.0</td>\n",
              "      <td>0.0</td>\n",
              "      <td>0</td>\n",
              "      <td>0</td>\n",
              "      <td>0.0</td>\n",
              "      <td>0.0</td>\n",
              "      <td>0</td>\n",
              "      <td>0</td>\n",
              "      <td>BENIGN</td>\n",
              "    </tr>\n",
              "  </tbody>\n",
              "</table>\n",
              "</div>\n",
              "    <div class=\"colab-df-buttons\">\n",
              "\n",
              "  <div class=\"colab-df-container\">\n",
              "    <button class=\"colab-df-convert\" onclick=\"convertToInteractive('df-5ae760a5-d1ac-4d47-9663-f1620d673951')\"\n",
              "            title=\"Convert this dataframe to an interactive table.\"\n",
              "            style=\"display:none;\">\n",
              "\n",
              "  <svg xmlns=\"http://www.w3.org/2000/svg\" height=\"24px\" viewBox=\"0 -960 960 960\">\n",
              "    <path d=\"M120-120v-720h720v720H120Zm60-500h600v-160H180v160Zm220 220h160v-160H400v160Zm0 220h160v-160H400v160ZM180-400h160v-160H180v160Zm440 0h160v-160H620v160ZM180-180h160v-160H180v160Zm440 0h160v-160H620v160Z\"/>\n",
              "  </svg>\n",
              "    </button>\n",
              "\n",
              "  <style>\n",
              "    .colab-df-container {\n",
              "      display:flex;\n",
              "      gap: 12px;\n",
              "    }\n",
              "\n",
              "    .colab-df-convert {\n",
              "      background-color: #E8F0FE;\n",
              "      border: none;\n",
              "      border-radius: 50%;\n",
              "      cursor: pointer;\n",
              "      display: none;\n",
              "      fill: #1967D2;\n",
              "      height: 32px;\n",
              "      padding: 0 0 0 0;\n",
              "      width: 32px;\n",
              "    }\n",
              "\n",
              "    .colab-df-convert:hover {\n",
              "      background-color: #E2EBFA;\n",
              "      box-shadow: 0px 1px 2px rgba(60, 64, 67, 0.3), 0px 1px 3px 1px rgba(60, 64, 67, 0.15);\n",
              "      fill: #174EA6;\n",
              "    }\n",
              "\n",
              "    .colab-df-buttons div {\n",
              "      margin-bottom: 4px;\n",
              "    }\n",
              "\n",
              "    [theme=dark] .colab-df-convert {\n",
              "      background-color: #3B4455;\n",
              "      fill: #D2E3FC;\n",
              "    }\n",
              "\n",
              "    [theme=dark] .colab-df-convert:hover {\n",
              "      background-color: #434B5C;\n",
              "      box-shadow: 0px 1px 3px 1px rgba(0, 0, 0, 0.15);\n",
              "      filter: drop-shadow(0px 1px 2px rgba(0, 0, 0, 0.3));\n",
              "      fill: #FFFFFF;\n",
              "    }\n",
              "  </style>\n",
              "\n",
              "    <script>\n",
              "      const buttonEl =\n",
              "        document.querySelector('#df-5ae760a5-d1ac-4d47-9663-f1620d673951 button.colab-df-convert');\n",
              "      buttonEl.style.display =\n",
              "        google.colab.kernel.accessAllowed ? 'block' : 'none';\n",
              "\n",
              "      async function convertToInteractive(key) {\n",
              "        const element = document.querySelector('#df-5ae760a5-d1ac-4d47-9663-f1620d673951');\n",
              "        const dataTable =\n",
              "          await google.colab.kernel.invokeFunction('convertToInteractive',\n",
              "                                                    [key], {});\n",
              "        if (!dataTable) return;\n",
              "\n",
              "        const docLinkHtml = 'Like what you see? Visit the ' +\n",
              "          '<a target=\"_blank\" href=https://colab.research.google.com/notebooks/data_table.ipynb>data table notebook</a>'\n",
              "          + ' to learn more about interactive tables.';\n",
              "        element.innerHTML = '';\n",
              "        dataTable['output_type'] = 'display_data';\n",
              "        await google.colab.output.renderOutput(dataTable, element);\n",
              "        const docLink = document.createElement('div');\n",
              "        docLink.innerHTML = docLinkHtml;\n",
              "        element.appendChild(docLink);\n",
              "      }\n",
              "    </script>\n",
              "  </div>\n",
              "\n",
              "\n",
              "<div id=\"df-ec5a7b0e-4851-4f9f-be46-219a8adfd523\">\n",
              "  <button class=\"colab-df-quickchart\" onclick=\"quickchart('df-ec5a7b0e-4851-4f9f-be46-219a8adfd523')\"\n",
              "            title=\"Suggest charts.\"\n",
              "            style=\"display:none;\">\n",
              "\n",
              "<svg xmlns=\"http://www.w3.org/2000/svg\" height=\"24px\"viewBox=\"0 0 24 24\"\n",
              "     width=\"24px\">\n",
              "    <g>\n",
              "        <path d=\"M19 3H5c-1.1 0-2 .9-2 2v14c0 1.1.9 2 2 2h14c1.1 0 2-.9 2-2V5c0-1.1-.9-2-2-2zM9 17H7v-7h2v7zm4 0h-2V7h2v10zm4 0h-2v-4h2v4z\"/>\n",
              "    </g>\n",
              "</svg>\n",
              "  </button>\n",
              "\n",
              "<style>\n",
              "  .colab-df-quickchart {\n",
              "      --bg-color: #E8F0FE;\n",
              "      --fill-color: #1967D2;\n",
              "      --hover-bg-color: #E2EBFA;\n",
              "      --hover-fill-color: #174EA6;\n",
              "      --disabled-fill-color: #AAA;\n",
              "      --disabled-bg-color: #DDD;\n",
              "  }\n",
              "\n",
              "  [theme=dark] .colab-df-quickchart {\n",
              "      --bg-color: #3B4455;\n",
              "      --fill-color: #D2E3FC;\n",
              "      --hover-bg-color: #434B5C;\n",
              "      --hover-fill-color: #FFFFFF;\n",
              "      --disabled-bg-color: #3B4455;\n",
              "      --disabled-fill-color: #666;\n",
              "  }\n",
              "\n",
              "  .colab-df-quickchart {\n",
              "    background-color: var(--bg-color);\n",
              "    border: none;\n",
              "    border-radius: 50%;\n",
              "    cursor: pointer;\n",
              "    display: none;\n",
              "    fill: var(--fill-color);\n",
              "    height: 32px;\n",
              "    padding: 0;\n",
              "    width: 32px;\n",
              "  }\n",
              "\n",
              "  .colab-df-quickchart:hover {\n",
              "    background-color: var(--hover-bg-color);\n",
              "    box-shadow: 0 1px 2px rgba(60, 64, 67, 0.3), 0 1px 3px 1px rgba(60, 64, 67, 0.15);\n",
              "    fill: var(--button-hover-fill-color);\n",
              "  }\n",
              "\n",
              "  .colab-df-quickchart-complete:disabled,\n",
              "  .colab-df-quickchart-complete:disabled:hover {\n",
              "    background-color: var(--disabled-bg-color);\n",
              "    fill: var(--disabled-fill-color);\n",
              "    box-shadow: none;\n",
              "  }\n",
              "\n",
              "  .colab-df-spinner {\n",
              "    border: 2px solid var(--fill-color);\n",
              "    border-color: transparent;\n",
              "    border-bottom-color: var(--fill-color);\n",
              "    animation:\n",
              "      spin 1s steps(1) infinite;\n",
              "  }\n",
              "\n",
              "  @keyframes spin {\n",
              "    0% {\n",
              "      border-color: transparent;\n",
              "      border-bottom-color: var(--fill-color);\n",
              "      border-left-color: var(--fill-color);\n",
              "    }\n",
              "    20% {\n",
              "      border-color: transparent;\n",
              "      border-left-color: var(--fill-color);\n",
              "      border-top-color: var(--fill-color);\n",
              "    }\n",
              "    30% {\n",
              "      border-color: transparent;\n",
              "      border-left-color: var(--fill-color);\n",
              "      border-top-color: var(--fill-color);\n",
              "      border-right-color: var(--fill-color);\n",
              "    }\n",
              "    40% {\n",
              "      border-color: transparent;\n",
              "      border-right-color: var(--fill-color);\n",
              "      border-top-color: var(--fill-color);\n",
              "    }\n",
              "    60% {\n",
              "      border-color: transparent;\n",
              "      border-right-color: var(--fill-color);\n",
              "    }\n",
              "    80% {\n",
              "      border-color: transparent;\n",
              "      border-right-color: var(--fill-color);\n",
              "      border-bottom-color: var(--fill-color);\n",
              "    }\n",
              "    90% {\n",
              "      border-color: transparent;\n",
              "      border-bottom-color: var(--fill-color);\n",
              "    }\n",
              "  }\n",
              "</style>\n",
              "\n",
              "  <script>\n",
              "    async function quickchart(key) {\n",
              "      const quickchartButtonEl =\n",
              "        document.querySelector('#' + key + ' button');\n",
              "      quickchartButtonEl.disabled = true;  // To prevent multiple clicks.\n",
              "      quickchartButtonEl.classList.add('colab-df-spinner');\n",
              "      try {\n",
              "        const charts = await google.colab.kernel.invokeFunction(\n",
              "            'suggestCharts', [key], {});\n",
              "      } catch (error) {\n",
              "        console.error('Error during call to suggestCharts:', error);\n",
              "      }\n",
              "      quickchartButtonEl.classList.remove('colab-df-spinner');\n",
              "      quickchartButtonEl.classList.add('colab-df-quickchart-complete');\n",
              "    }\n",
              "    (() => {\n",
              "      let quickchartButtonEl =\n",
              "        document.querySelector('#df-ec5a7b0e-4851-4f9f-be46-219a8adfd523 button');\n",
              "      quickchartButtonEl.style.display =\n",
              "        google.colab.kernel.accessAllowed ? 'block' : 'none';\n",
              "    })();\n",
              "  </script>\n",
              "</div>\n",
              "    </div>\n",
              "  </div>\n"
            ]
          },
          "metadata": {},
          "execution_count": 131
        }
      ],
      "source": [
        "data.head()"
      ]
    },
    {
      "cell_type": "code",
      "execution_count": 132,
      "metadata": {
        "colab": {
          "base_uri": "https://localhost:8080/"
        },
        "id": "mYxaHz2BMohN",
        "outputId": "d280eaf6-3216-4113-b94b-af2bc312a656"
      },
      "outputs": [
        {
          "output_type": "stream",
          "name": "stdout",
          "text": [
            "<class 'pandas.core.frame.DataFrame'>\n",
            "RangeIndex: 539616 entries, 0 to 539615\n",
            "Data columns (total 79 columns):\n",
            " #   Column                        Non-Null Count   Dtype  \n",
            "---  ------                        --------------   -----  \n",
            " 0    Destination Port             539616 non-null  int64  \n",
            " 1    Flow Duration                539616 non-null  int64  \n",
            " 2    Total Fwd Packets            539616 non-null  int64  \n",
            " 3    Total Backward Packets       539616 non-null  int64  \n",
            " 4   Total Length of Fwd Packets   539616 non-null  int64  \n",
            " 5    Total Length of Bwd Packets  539616 non-null  int64  \n",
            " 6    Fwd Packet Length Max        539616 non-null  int64  \n",
            " 7    Fwd Packet Length Min        539616 non-null  int64  \n",
            " 8    Fwd Packet Length Mean       539616 non-null  float64\n",
            " 9    Fwd Packet Length Std        539616 non-null  float64\n",
            " 10  Bwd Packet Length Max         539616 non-null  int64  \n",
            " 11   Bwd Packet Length Min        539616 non-null  int64  \n",
            " 12   Bwd Packet Length Mean       539616 non-null  float64\n",
            " 13   Bwd Packet Length Std        539616 non-null  float64\n",
            " 14  Flow Bytes/s                  539128 non-null  float64\n",
            " 15   Flow Packets/s               539616 non-null  float64\n",
            " 16   Flow IAT Mean                539616 non-null  float64\n",
            " 17   Flow IAT Std                 539616 non-null  float64\n",
            " 18   Flow IAT Max                 539616 non-null  int64  \n",
            " 19   Flow IAT Min                 539616 non-null  int64  \n",
            " 20  Fwd IAT Total                 539616 non-null  int64  \n",
            " 21   Fwd IAT Mean                 539616 non-null  float64\n",
            " 22   Fwd IAT Std                  539616 non-null  float64\n",
            " 23   Fwd IAT Max                  539616 non-null  int64  \n",
            " 24   Fwd IAT Min                  539616 non-null  int64  \n",
            " 25  Bwd IAT Total                 539616 non-null  int64  \n",
            " 26   Bwd IAT Mean                 539616 non-null  float64\n",
            " 27   Bwd IAT Std                  539616 non-null  float64\n",
            " 28   Bwd IAT Max                  539616 non-null  int64  \n",
            " 29   Bwd IAT Min                  539616 non-null  int64  \n",
            " 30  Fwd PSH Flags                 539616 non-null  int64  \n",
            " 31   Bwd PSH Flags                539616 non-null  int64  \n",
            " 32   Fwd URG Flags                539616 non-null  int64  \n",
            " 33   Bwd URG Flags                539616 non-null  int64  \n",
            " 34   Fwd Header Length            539616 non-null  int64  \n",
            " 35   Bwd Header Length            539616 non-null  int64  \n",
            " 36  Fwd Packets/s                 539616 non-null  float64\n",
            " 37   Bwd Packets/s                539616 non-null  float64\n",
            " 38   Min Packet Length            539616 non-null  int64  \n",
            " 39   Max Packet Length            539616 non-null  int64  \n",
            " 40   Packet Length Mean           539616 non-null  float64\n",
            " 41   Packet Length Std            539616 non-null  float64\n",
            " 42   Packet Length Variance       539616 non-null  float64\n",
            " 43  FIN Flag Count                539616 non-null  int64  \n",
            " 44   SYN Flag Count               539616 non-null  int64  \n",
            " 45   RST Flag Count               539616 non-null  int64  \n",
            " 46   PSH Flag Count               539616 non-null  int64  \n",
            " 47   ACK Flag Count               539616 non-null  int64  \n",
            " 48   URG Flag Count               539616 non-null  int64  \n",
            " 49   CWE Flag Count               539616 non-null  int64  \n",
            " 50   ECE Flag Count               539616 non-null  int64  \n",
            " 51   Down/Up Ratio                539616 non-null  int64  \n",
            " 52   Average Packet Size          539616 non-null  float64\n",
            " 53   Avg Fwd Segment Size         539616 non-null  float64\n",
            " 54   Avg Bwd Segment Size         539616 non-null  float64\n",
            " 55   Fwd Header Length.1          539616 non-null  int64  \n",
            " 56  Fwd Avg Bytes/Bulk            539616 non-null  int64  \n",
            " 57   Fwd Avg Packets/Bulk         539616 non-null  int64  \n",
            " 58   Fwd Avg Bulk Rate            539616 non-null  int64  \n",
            " 59   Bwd Avg Bytes/Bulk           539616 non-null  int64  \n",
            " 60   Bwd Avg Packets/Bulk         539616 non-null  int64  \n",
            " 61  Bwd Avg Bulk Rate             539616 non-null  int64  \n",
            " 62  Subflow Fwd Packets           539616 non-null  int64  \n",
            " 63   Subflow Fwd Bytes            539616 non-null  int64  \n",
            " 64   Subflow Bwd Packets          539616 non-null  int64  \n",
            " 65   Subflow Bwd Bytes            539616 non-null  int64  \n",
            " 66  Init_Win_bytes_forward        539616 non-null  int64  \n",
            " 67   Init_Win_bytes_backward      539616 non-null  int64  \n",
            " 68   act_data_pkt_fwd             539616 non-null  int64  \n",
            " 69   min_seg_size_forward         539616 non-null  int64  \n",
            " 70  Active Mean                   539616 non-null  float64\n",
            " 71   Active Std                   539616 non-null  float64\n",
            " 72   Active Max                   539616 non-null  int64  \n",
            " 73   Active Min                   539616 non-null  int64  \n",
            " 74  Idle Mean                     539616 non-null  float64\n",
            " 75   Idle Std                     539616 non-null  float64\n",
            " 76   Idle Max                     539616 non-null  int64  \n",
            " 77   Idle Min                     539616 non-null  int64  \n",
            " 78  Label                         539616 non-null  object \n",
            "dtypes: float64(24), int64(54), object(1)\n",
            "memory usage: 325.2+ MB\n"
          ]
        }
      ],
      "source": [
        "data.info()"
      ]
    },
    {
      "cell_type": "markdown",
      "metadata": {
        "id": "aVgK9BHGiF6Z"
      },
      "source": [
        "Категориальные переменные в датафрейме отсутствуют. Данных 539616 строк, это достаточно большой объем для обучения модели."
      ]
    },
    {
      "cell_type": "markdown",
      "source": [
        "Проверим данные на бесконечные значения, для этого выполним код, где такие значения будут заменены на Nan:"
      ],
      "metadata": {
        "id": "IqLtLgC-mDs1"
      }
    },
    {
      "cell_type": "code",
      "source": [
        "data.replace([np.inf, -np.inf], np.nan, inplace=True)"
      ],
      "metadata": {
        "id": "DrwpAZszpuyY"
      },
      "execution_count": 133,
      "outputs": []
    },
    {
      "cell_type": "markdown",
      "metadata": {
        "id": "SXU4irdcdwXM"
      },
      "source": [
        "Посмотрим, сколько всего пропусков в данных с учетом замененных значений:"
      ]
    },
    {
      "cell_type": "code",
      "execution_count": 134,
      "metadata": {
        "colab": {
          "base_uri": "https://localhost:8080/"
        },
        "id": "8b6K041HdoBw",
        "outputId": "18c61a1e-14d4-42b0-86d4-81f1a593ceae"
      },
      "outputs": [
        {
          "output_type": "execute_result",
          "data": {
            "text/plain": [
              "1468"
            ]
          },
          "metadata": {},
          "execution_count": 134
        }
      ],
      "source": [
        "data.isnull().sum().sum()"
      ]
    },
    {
      "cell_type": "markdown",
      "metadata": {
        "id": "tL7EzSozdm_Q"
      },
      "source": [
        "Заполним пропуски автоматическим способом на стадии разделения модели на обучающий и тестовый набор."
      ]
    },
    {
      "cell_type": "code",
      "execution_count": 135,
      "metadata": {
        "colab": {
          "base_uri": "https://localhost:8080/"
        },
        "id": "5rQasJdGmXGu",
        "outputId": "345c6932-7816-4074-c058-8beb8d605077"
      },
      "outputs": [
        {
          "output_type": "execute_result",
          "data": {
            "text/plain": [
              "(539616, 79)"
            ]
          },
          "metadata": {},
          "execution_count": 135
        }
      ],
      "source": [
        "data.shape"
      ]
    },
    {
      "cell_type": "markdown",
      "metadata": {
        "id": "1zI4xhRHmfxG"
      },
      "source": [
        "Проверим датасет на дубликаты:"
      ]
    },
    {
      "cell_type": "code",
      "execution_count": 136,
      "metadata": {
        "colab": {
          "base_uri": "https://localhost:8080/"
        },
        "id": "S3syrUw3mYhW",
        "outputId": "a482df7d-0de5-4114-8eec-a469a6c72a91"
      },
      "outputs": [
        {
          "output_type": "stream",
          "name": "stdout",
          "text": [
            "Найдены дубликаты в data.\n",
            "(64601, 79)\n"
          ]
        }
      ],
      "source": [
        "duplicates = data[data.duplicated()]\n",
        "\n",
        "if duplicates.empty:\n",
        "    print(\"Дубликатов в data не найдено.\")\n",
        "else:\n",
        "    print(\"Найдены дубликаты в data.\")\n",
        "    print(duplicates.shape)"
      ]
    },
    {
      "cell_type": "markdown",
      "metadata": {
        "id": "QLPHXaZqm8i5"
      },
      "source": [
        "В данных оказалось много дублирующих значений. Удалим их из датасета:"
      ]
    },
    {
      "cell_type": "code",
      "execution_count": 137,
      "metadata": {
        "id": "OCqeh20emebc"
      },
      "outputs": [],
      "source": [
        "data = data.drop_duplicates()"
      ]
    },
    {
      "cell_type": "code",
      "execution_count": 138,
      "metadata": {
        "colab": {
          "base_uri": "https://localhost:8080/"
        },
        "id": "nF7U6E2IoXaT",
        "outputId": "f56389c3-78a4-49b4-9197-9caf7e02f16a"
      },
      "outputs": [
        {
          "output_type": "execute_result",
          "data": {
            "text/plain": [
              "(475015, 79)"
            ]
          },
          "metadata": {},
          "execution_count": 138
        }
      ],
      "source": [
        "data.shape"
      ]
    },
    {
      "cell_type": "markdown",
      "metadata": {
        "id": "HvQscXiwtYG_"
      },
      "source": [
        "# Исследовательский анализ (EDA)"
      ]
    },
    {
      "cell_type": "markdown",
      "metadata": {
        "id": "VVYnCjgIosr4"
      },
      "source": [
        "## Распределение целевого признака"
      ]
    },
    {
      "cell_type": "code",
      "execution_count": 139,
      "metadata": {
        "id": "zxjsToEvGdc6"
      },
      "outputs": [],
      "source": [
        "label_counts= data['Label'].value_counts()"
      ]
    },
    {
      "cell_type": "code",
      "execution_count": 140,
      "metadata": {
        "id": "cxqkZ2Hc81KB"
      },
      "outputs": [],
      "source": [
        "label_percentages = (label_counts/len(data)) * 100"
      ]
    },
    {
      "cell_type": "code",
      "execution_count": 141,
      "metadata": {
        "id": "4mnTAHgO89BL"
      },
      "outputs": [],
      "source": [
        "label_distribution = pd.DataFrame({'Label': label_counts.index, 'Количество в data': label_counts.values, 'Процент': label_percentages.values})"
      ]
    },
    {
      "cell_type": "code",
      "execution_count": 142,
      "metadata": {
        "colab": {
          "base_uri": "https://localhost:8080/",
          "height": 519
        },
        "id": "6jI1Ict1887M",
        "outputId": "fbce3dc6-5d83-47b8-fbdf-c1f5e650c3b9"
      },
      "outputs": [
        {
          "output_type": "execute_result",
          "data": {
            "text/plain": [
              "                         Label  Количество в data    Процент\n",
              "0                       BENIGN             232809  49.010873\n",
              "1                     DoS Hulk              87251  18.368052\n",
              "2                         DDoS              64364  13.549888\n",
              "3                     PortScan              56397  11.872678\n",
              "4                DoS GoldenEye              10286   2.165405\n",
              "5                  FTP-Patator               5933   1.249013\n",
              "6                DoS slowloris               5385   1.133648\n",
              "7             DoS Slowhttptest               5228   1.100597\n",
              "8                  SSH-Patator               3219   0.677663\n",
              "9                          Bot               1953   0.411145\n",
              "10    Web Attack � Brute Force               1470   0.309464\n",
              "11            Web Attack � XSS                652   0.137259\n",
              "12                Infiltration                 36   0.007579\n",
              "13  Web Attack � Sql Injection                 21   0.004421\n",
              "14                  Heartbleed                 11   0.002316"
            ],
            "text/html": [
              "\n",
              "  <div id=\"df-3350f569-4c2f-42a5-ab8e-abf4d7c6482e\" class=\"colab-df-container\">\n",
              "    <div>\n",
              "<style scoped>\n",
              "    .dataframe tbody tr th:only-of-type {\n",
              "        vertical-align: middle;\n",
              "    }\n",
              "\n",
              "    .dataframe tbody tr th {\n",
              "        vertical-align: top;\n",
              "    }\n",
              "\n",
              "    .dataframe thead th {\n",
              "        text-align: right;\n",
              "    }\n",
              "</style>\n",
              "<table border=\"1\" class=\"dataframe\">\n",
              "  <thead>\n",
              "    <tr style=\"text-align: right;\">\n",
              "      <th></th>\n",
              "      <th>Label</th>\n",
              "      <th>Количество в data</th>\n",
              "      <th>Процент</th>\n",
              "    </tr>\n",
              "  </thead>\n",
              "  <tbody>\n",
              "    <tr>\n",
              "      <th>0</th>\n",
              "      <td>BENIGN</td>\n",
              "      <td>232809</td>\n",
              "      <td>49.010873</td>\n",
              "    </tr>\n",
              "    <tr>\n",
              "      <th>1</th>\n",
              "      <td>DoS Hulk</td>\n",
              "      <td>87251</td>\n",
              "      <td>18.368052</td>\n",
              "    </tr>\n",
              "    <tr>\n",
              "      <th>2</th>\n",
              "      <td>DDoS</td>\n",
              "      <td>64364</td>\n",
              "      <td>13.549888</td>\n",
              "    </tr>\n",
              "    <tr>\n",
              "      <th>3</th>\n",
              "      <td>PortScan</td>\n",
              "      <td>56397</td>\n",
              "      <td>11.872678</td>\n",
              "    </tr>\n",
              "    <tr>\n",
              "      <th>4</th>\n",
              "      <td>DoS GoldenEye</td>\n",
              "      <td>10286</td>\n",
              "      <td>2.165405</td>\n",
              "    </tr>\n",
              "    <tr>\n",
              "      <th>5</th>\n",
              "      <td>FTP-Patator</td>\n",
              "      <td>5933</td>\n",
              "      <td>1.249013</td>\n",
              "    </tr>\n",
              "    <tr>\n",
              "      <th>6</th>\n",
              "      <td>DoS slowloris</td>\n",
              "      <td>5385</td>\n",
              "      <td>1.133648</td>\n",
              "    </tr>\n",
              "    <tr>\n",
              "      <th>7</th>\n",
              "      <td>DoS Slowhttptest</td>\n",
              "      <td>5228</td>\n",
              "      <td>1.100597</td>\n",
              "    </tr>\n",
              "    <tr>\n",
              "      <th>8</th>\n",
              "      <td>SSH-Patator</td>\n",
              "      <td>3219</td>\n",
              "      <td>0.677663</td>\n",
              "    </tr>\n",
              "    <tr>\n",
              "      <th>9</th>\n",
              "      <td>Bot</td>\n",
              "      <td>1953</td>\n",
              "      <td>0.411145</td>\n",
              "    </tr>\n",
              "    <tr>\n",
              "      <th>10</th>\n",
              "      <td>Web Attack � Brute Force</td>\n",
              "      <td>1470</td>\n",
              "      <td>0.309464</td>\n",
              "    </tr>\n",
              "    <tr>\n",
              "      <th>11</th>\n",
              "      <td>Web Attack � XSS</td>\n",
              "      <td>652</td>\n",
              "      <td>0.137259</td>\n",
              "    </tr>\n",
              "    <tr>\n",
              "      <th>12</th>\n",
              "      <td>Infiltration</td>\n",
              "      <td>36</td>\n",
              "      <td>0.007579</td>\n",
              "    </tr>\n",
              "    <tr>\n",
              "      <th>13</th>\n",
              "      <td>Web Attack � Sql Injection</td>\n",
              "      <td>21</td>\n",
              "      <td>0.004421</td>\n",
              "    </tr>\n",
              "    <tr>\n",
              "      <th>14</th>\n",
              "      <td>Heartbleed</td>\n",
              "      <td>11</td>\n",
              "      <td>0.002316</td>\n",
              "    </tr>\n",
              "  </tbody>\n",
              "</table>\n",
              "</div>\n",
              "    <div class=\"colab-df-buttons\">\n",
              "\n",
              "  <div class=\"colab-df-container\">\n",
              "    <button class=\"colab-df-convert\" onclick=\"convertToInteractive('df-3350f569-4c2f-42a5-ab8e-abf4d7c6482e')\"\n",
              "            title=\"Convert this dataframe to an interactive table.\"\n",
              "            style=\"display:none;\">\n",
              "\n",
              "  <svg xmlns=\"http://www.w3.org/2000/svg\" height=\"24px\" viewBox=\"0 -960 960 960\">\n",
              "    <path d=\"M120-120v-720h720v720H120Zm60-500h600v-160H180v160Zm220 220h160v-160H400v160Zm0 220h160v-160H400v160ZM180-400h160v-160H180v160Zm440 0h160v-160H620v160ZM180-180h160v-160H180v160Zm440 0h160v-160H620v160Z\"/>\n",
              "  </svg>\n",
              "    </button>\n",
              "\n",
              "  <style>\n",
              "    .colab-df-container {\n",
              "      display:flex;\n",
              "      gap: 12px;\n",
              "    }\n",
              "\n",
              "    .colab-df-convert {\n",
              "      background-color: #E8F0FE;\n",
              "      border: none;\n",
              "      border-radius: 50%;\n",
              "      cursor: pointer;\n",
              "      display: none;\n",
              "      fill: #1967D2;\n",
              "      height: 32px;\n",
              "      padding: 0 0 0 0;\n",
              "      width: 32px;\n",
              "    }\n",
              "\n",
              "    .colab-df-convert:hover {\n",
              "      background-color: #E2EBFA;\n",
              "      box-shadow: 0px 1px 2px rgba(60, 64, 67, 0.3), 0px 1px 3px 1px rgba(60, 64, 67, 0.15);\n",
              "      fill: #174EA6;\n",
              "    }\n",
              "\n",
              "    .colab-df-buttons div {\n",
              "      margin-bottom: 4px;\n",
              "    }\n",
              "\n",
              "    [theme=dark] .colab-df-convert {\n",
              "      background-color: #3B4455;\n",
              "      fill: #D2E3FC;\n",
              "    }\n",
              "\n",
              "    [theme=dark] .colab-df-convert:hover {\n",
              "      background-color: #434B5C;\n",
              "      box-shadow: 0px 1px 3px 1px rgba(0, 0, 0, 0.15);\n",
              "      filter: drop-shadow(0px 1px 2px rgba(0, 0, 0, 0.3));\n",
              "      fill: #FFFFFF;\n",
              "    }\n",
              "  </style>\n",
              "\n",
              "    <script>\n",
              "      const buttonEl =\n",
              "        document.querySelector('#df-3350f569-4c2f-42a5-ab8e-abf4d7c6482e button.colab-df-convert');\n",
              "      buttonEl.style.display =\n",
              "        google.colab.kernel.accessAllowed ? 'block' : 'none';\n",
              "\n",
              "      async function convertToInteractive(key) {\n",
              "        const element = document.querySelector('#df-3350f569-4c2f-42a5-ab8e-abf4d7c6482e');\n",
              "        const dataTable =\n",
              "          await google.colab.kernel.invokeFunction('convertToInteractive',\n",
              "                                                    [key], {});\n",
              "        if (!dataTable) return;\n",
              "\n",
              "        const docLinkHtml = 'Like what you see? Visit the ' +\n",
              "          '<a target=\"_blank\" href=https://colab.research.google.com/notebooks/data_table.ipynb>data table notebook</a>'\n",
              "          + ' to learn more about interactive tables.';\n",
              "        element.innerHTML = '';\n",
              "        dataTable['output_type'] = 'display_data';\n",
              "        await google.colab.output.renderOutput(dataTable, element);\n",
              "        const docLink = document.createElement('div');\n",
              "        docLink.innerHTML = docLinkHtml;\n",
              "        element.appendChild(docLink);\n",
              "      }\n",
              "    </script>\n",
              "  </div>\n",
              "\n",
              "\n",
              "<div id=\"df-4b21900c-bd19-4eb5-80a0-d36c4be784a4\">\n",
              "  <button class=\"colab-df-quickchart\" onclick=\"quickchart('df-4b21900c-bd19-4eb5-80a0-d36c4be784a4')\"\n",
              "            title=\"Suggest charts.\"\n",
              "            style=\"display:none;\">\n",
              "\n",
              "<svg xmlns=\"http://www.w3.org/2000/svg\" height=\"24px\"viewBox=\"0 0 24 24\"\n",
              "     width=\"24px\">\n",
              "    <g>\n",
              "        <path d=\"M19 3H5c-1.1 0-2 .9-2 2v14c0 1.1.9 2 2 2h14c1.1 0 2-.9 2-2V5c0-1.1-.9-2-2-2zM9 17H7v-7h2v7zm4 0h-2V7h2v10zm4 0h-2v-4h2v4z\"/>\n",
              "    </g>\n",
              "</svg>\n",
              "  </button>\n",
              "\n",
              "<style>\n",
              "  .colab-df-quickchart {\n",
              "      --bg-color: #E8F0FE;\n",
              "      --fill-color: #1967D2;\n",
              "      --hover-bg-color: #E2EBFA;\n",
              "      --hover-fill-color: #174EA6;\n",
              "      --disabled-fill-color: #AAA;\n",
              "      --disabled-bg-color: #DDD;\n",
              "  }\n",
              "\n",
              "  [theme=dark] .colab-df-quickchart {\n",
              "      --bg-color: #3B4455;\n",
              "      --fill-color: #D2E3FC;\n",
              "      --hover-bg-color: #434B5C;\n",
              "      --hover-fill-color: #FFFFFF;\n",
              "      --disabled-bg-color: #3B4455;\n",
              "      --disabled-fill-color: #666;\n",
              "  }\n",
              "\n",
              "  .colab-df-quickchart {\n",
              "    background-color: var(--bg-color);\n",
              "    border: none;\n",
              "    border-radius: 50%;\n",
              "    cursor: pointer;\n",
              "    display: none;\n",
              "    fill: var(--fill-color);\n",
              "    height: 32px;\n",
              "    padding: 0;\n",
              "    width: 32px;\n",
              "  }\n",
              "\n",
              "  .colab-df-quickchart:hover {\n",
              "    background-color: var(--hover-bg-color);\n",
              "    box-shadow: 0 1px 2px rgba(60, 64, 67, 0.3), 0 1px 3px 1px rgba(60, 64, 67, 0.15);\n",
              "    fill: var(--button-hover-fill-color);\n",
              "  }\n",
              "\n",
              "  .colab-df-quickchart-complete:disabled,\n",
              "  .colab-df-quickchart-complete:disabled:hover {\n",
              "    background-color: var(--disabled-bg-color);\n",
              "    fill: var(--disabled-fill-color);\n",
              "    box-shadow: none;\n",
              "  }\n",
              "\n",
              "  .colab-df-spinner {\n",
              "    border: 2px solid var(--fill-color);\n",
              "    border-color: transparent;\n",
              "    border-bottom-color: var(--fill-color);\n",
              "    animation:\n",
              "      spin 1s steps(1) infinite;\n",
              "  }\n",
              "\n",
              "  @keyframes spin {\n",
              "    0% {\n",
              "      border-color: transparent;\n",
              "      border-bottom-color: var(--fill-color);\n",
              "      border-left-color: var(--fill-color);\n",
              "    }\n",
              "    20% {\n",
              "      border-color: transparent;\n",
              "      border-left-color: var(--fill-color);\n",
              "      border-top-color: var(--fill-color);\n",
              "    }\n",
              "    30% {\n",
              "      border-color: transparent;\n",
              "      border-left-color: var(--fill-color);\n",
              "      border-top-color: var(--fill-color);\n",
              "      border-right-color: var(--fill-color);\n",
              "    }\n",
              "    40% {\n",
              "      border-color: transparent;\n",
              "      border-right-color: var(--fill-color);\n",
              "      border-top-color: var(--fill-color);\n",
              "    }\n",
              "    60% {\n",
              "      border-color: transparent;\n",
              "      border-right-color: var(--fill-color);\n",
              "    }\n",
              "    80% {\n",
              "      border-color: transparent;\n",
              "      border-right-color: var(--fill-color);\n",
              "      border-bottom-color: var(--fill-color);\n",
              "    }\n",
              "    90% {\n",
              "      border-color: transparent;\n",
              "      border-bottom-color: var(--fill-color);\n",
              "    }\n",
              "  }\n",
              "</style>\n",
              "\n",
              "  <script>\n",
              "    async function quickchart(key) {\n",
              "      const quickchartButtonEl =\n",
              "        document.querySelector('#' + key + ' button');\n",
              "      quickchartButtonEl.disabled = true;  // To prevent multiple clicks.\n",
              "      quickchartButtonEl.classList.add('colab-df-spinner');\n",
              "      try {\n",
              "        const charts = await google.colab.kernel.invokeFunction(\n",
              "            'suggestCharts', [key], {});\n",
              "      } catch (error) {\n",
              "        console.error('Error during call to suggestCharts:', error);\n",
              "      }\n",
              "      quickchartButtonEl.classList.remove('colab-df-spinner');\n",
              "      quickchartButtonEl.classList.add('colab-df-quickchart-complete');\n",
              "    }\n",
              "    (() => {\n",
              "      let quickchartButtonEl =\n",
              "        document.querySelector('#df-4b21900c-bd19-4eb5-80a0-d36c4be784a4 button');\n",
              "      quickchartButtonEl.style.display =\n",
              "        google.colab.kernel.accessAllowed ? 'block' : 'none';\n",
              "    })();\n",
              "  </script>\n",
              "</div>\n",
              "    </div>\n",
              "  </div>\n"
            ]
          },
          "metadata": {},
          "execution_count": 142
        }
      ],
      "source": [
        "label_distribution"
      ]
    },
    {
      "cell_type": "markdown",
      "metadata": {
        "id": "G6561Gn5qtLj"
      },
      "source": [
        "Всего у нас 15 лейблов для входящего трафика. Целевой признак разспределен неравномерно, больше всего сведений в датасете о BENIGN (нормальном трафике), таких данных почти 50%. Большинство остальных лейблов составляет в датасете всего 1-10%, есть метки трафика, которых в датасете совсем незначительное количество (менее 0,01%) - это Infiltration, Web Attack � Sql Injection, Heartbleed."
      ]
    },
    {
      "cell_type": "markdown",
      "source": [
        "## Уменьшение размерности (PCA)"
      ],
      "metadata": {
        "id": "UU7FHAoiIXGA"
      }
    },
    {
      "cell_type": "markdown",
      "source": [
        "В датасете 78 признаков, их проанализировать и выявить в них закономерности практически невозможно, необходимо уменьшить размер данных. Можно это сделать с помощью PCA. Этот метод позволяет не только сократить размерность данных, но и улучшенить производительности алгоритмов машинного обучения, а также устраненить мультиколлинеарности: PCA может использоваться для устранения мультиколлинеарность."
      ],
      "metadata": {
        "id": "NJLYthuPGEgB"
      }
    },
    {
      "cell_type": "markdown",
      "source": [
        "Для начала необходимо определить количество компанент, сделает это с помощью метода \"локтя\":"
      ],
      "metadata": {
        "id": "4Z0TS_WpI1AW"
      }
    },
    {
      "cell_type": "code",
      "source": [
        "num_components = 10\n",
        "pca = PCA(n_components=num_components)\n",
        "\n",
        "# Применим PCA к данным\n",
        "pca_result = pca.fit_transform(data.dropna().drop('Label', axis=1))\n",
        "\n",
        "# Получаем объясненную дисперсию для каждой компоненты\n",
        "explained_variance = pca.explained_variance_ratio_\n",
        "\n",
        "# Визуализация:\n",
        "import matplotlib.pyplot as plt\n",
        "plt.plot(range(1, len(explained_variance) + 1), explained_variance, marker='o')\n",
        "plt.xlabel('Количество компонент')\n",
        "plt.ylabel('Объясненная дисперсия')\n",
        "plt.title('Объясненная дисперсия по компонентам')\n",
        "plt.show()\n"
      ],
      "metadata": {
        "colab": {
          "base_uri": "https://localhost:8080/",
          "height": 456
        },
        "id": "oz6KVDsR4BOk",
        "outputId": "1638b846-ac0d-4d7c-c6d2-b5ceee1db2c9"
      },
      "execution_count": 144,
      "outputs": [
        {
          "output_type": "display_data",
          "data": {
            "text/plain": [
              "<Figure size 640x480 with 1 Axes>"
            ],
            "image/png": "[encoded data removed]"
          },
          "metadata": {}
        }
      ]
    },
    {
      "cell_type": "markdown",
      "source": [
        "Это значит, что с использованием первых двух главных компонентов (PC1 и PC2) сохраняется 90% информации из исходных данных, потеря составит 10% информации. Чтоб сохранить 95% данных можно выбрать 3 компоненты."
      ],
      "metadata": {
        "id": "LBQpMYb5J3G5"
      }
    },
    {
      "cell_type": "markdown",
      "metadata": {
        "id": "SEQmL34v2S4T"
      },
      "source": [
        "# Baseline"
      ]
    },
    {
      "cell_type": "markdown",
      "metadata": {
        "id": "0l8jgh_m2XsQ"
      },
      "source": [
        "## Распределение на целевой признак и фичи"
      ]
    },
    {
      "cell_type": "code",
      "execution_count": 153,
      "metadata": {
        "id": "XCu6VN-W1Z_S"
      },
      "outputs": [],
      "source": [
        "X = data.drop('Label', axis = 1)"
      ]
    },
    {
      "cell_type": "code",
      "execution_count": 154,
      "metadata": {
        "id": "_gPoQaTh3FA0"
      },
      "outputs": [],
      "source": [
        "y = data['Label']"
      ]
    },
    {
      "cell_type": "markdown",
      "source": [
        "Заполним пропущенные значения:"
      ],
      "metadata": {
        "id": "mh0xfnWHpMEO"
      }
    },
    {
      "cell_type": "code",
      "source": [
        "imputer = SimpleImputer(strategy='median')"
      ],
      "metadata": {
        "id": "BIsf4qgUowKk"
      },
      "execution_count": 155,
      "outputs": []
    },
    {
      "cell_type": "code",
      "source": [
        "X_imputed = imputer.fit_transform(X)"
      ],
      "metadata": {
        "id": "o_dRDKE1o3H8"
      },
      "execution_count": 156,
      "outputs": []
    },
    {
      "cell_type": "markdown",
      "source": [
        "Закодируем целевой признак:"
      ],
      "metadata": {
        "id": "cW0mNh-qMblF"
      }
    },
    {
      "cell_type": "code",
      "source": [
        "label_encoder = LabelEncoder()\n",
        "y_enc = label_encoder.fit_transform(y)"
      ],
      "metadata": {
        "id": "_x0vRzLXMfaR"
      },
      "execution_count": 157,
      "outputs": []
    },
    {
      "cell_type": "code",
      "source": [
        "X_train_val, X_test, y_train_val, y_test = train_test_split(X_imputed, y_enc, test_size=0.2, stratify=y_enc, random_state=42)"
      ],
      "metadata": {
        "id": "3uU0d2b7ut6U"
      },
      "execution_count": 161,
      "outputs": []
    },
    {
      "cell_type": "code",
      "execution_count": 162,
      "metadata": {
        "colab": {
          "base_uri": "https://localhost:8080/"
        },
        "id": "UIwEmSc74oiH",
        "outputId": "7373f83e-0df3-4558-c92c-1c5ba772ee43"
      },
      "outputs": [
        {
          "output_type": "execute_result",
          "data": {
            "text/plain": [
              "(380012, 78)"
            ]
          },
          "metadata": {},
          "execution_count": 162
        }
      ],
      "source": [
        "X_train_val.shape"
      ]
    },
    {
      "cell_type": "code",
      "execution_count": 163,
      "metadata": {
        "colab": {
          "base_uri": "https://localhost:8080/"
        },
        "id": "tPvOR6jb4tCJ",
        "outputId": "e9b31d2e-90aa-4411-8d93-34f999594cc1"
      },
      "outputs": [
        {
          "output_type": "execute_result",
          "data": {
            "text/plain": [
              "(95003, 78)"
            ]
          },
          "metadata": {},
          "execution_count": 163
        }
      ],
      "source": [
        "X_test.shape"
      ]
    },
    {
      "cell_type": "markdown",
      "source": [
        "Разделяем данные на обучающий и валидационный наборы:"
      ],
      "metadata": {
        "id": "Y5g7aKOHMTcD"
      }
    },
    {
      "cell_type": "code",
      "execution_count": 164,
      "metadata": {
        "id": "E-64-hph-gAW"
      },
      "outputs": [],
      "source": [
        "X_train, X_valid, y_train, y_valid = train_test_split(X_train_val, y_train_val, test_size=0.2, stratify=y_train_val,\n",
        "                                                      random_state=42)"
      ]
    },
    {
      "cell_type": "code",
      "execution_count": 165,
      "metadata": {
        "colab": {
          "base_uri": "https://localhost:8080/"
        },
        "id": "cRgWi2KCA6XK",
        "outputId": "8f6651b1-78c7-4328-dd53-5f520cf7d473"
      },
      "outputs": [
        {
          "output_type": "execute_result",
          "data": {
            "text/plain": [
              "(304009, 78)"
            ]
          },
          "metadata": {},
          "execution_count": 165
        }
      ],
      "source": [
        "X_train.shape"
      ]
    },
    {
      "cell_type": "code",
      "execution_count": 166,
      "metadata": {
        "colab": {
          "base_uri": "https://localhost:8080/"
        },
        "id": "vtnLHGHwBClI",
        "outputId": "806be814-5b67-4314-942e-ec3066001eb1"
      },
      "outputs": [
        {
          "output_type": "execute_result",
          "data": {
            "text/plain": [
              "(76003, 78)"
            ]
          },
          "metadata": {},
          "execution_count": 166
        }
      ],
      "source": [
        "X_valid.shape"
      ]
    },
    {
      "cell_type": "markdown",
      "source": [
        "## Обучение"
      ],
      "metadata": {
        "id": "tzjccl3izDRq"
      }
    },
    {
      "cell_type": "markdown",
      "source": [
        "Используем простую линейную модель:"
      ],
      "metadata": {
        "id": "B7WGWfhO2xJx"
      }
    },
    {
      "cell_type": "code",
      "source": [
        "# стандартизация признаков для линейной модели\n",
        "scaler = StandardScaler()\n",
        "X_train_scaled = scaler.fit_transform(X_train)\n",
        "X_valid_scaled = scaler.transform(X_valid)"
      ],
      "metadata": {
        "id": "gHxgcrXfzLbq"
      },
      "execution_count": 167,
      "outputs": []
    },
    {
      "cell_type": "code",
      "source": [
        "base_model = LogisticRegression()\n",
        "base_model.fit(X_train_scaled, y_train)"
      ],
      "metadata": {
        "colab": {
          "base_uri": "https://localhost:8080/",
          "height": 233
        },
        "id": "wJ1qzR86yp4X",
        "outputId": "d64f0694-6257-44e2-9442-876faca7d84d"
      },
      "execution_count": 168,
      "outputs": [
        {
          "output_type": "stream",
          "name": "stderr",
          "text": [
            "/usr/local/lib/python3.10/dist-packages/sklearn/linear_model/_logistic.py:458: ConvergenceWarning: lbfgs failed to converge (status=1):\n",
            "STOP: TOTAL NO. of ITERATIONS REACHED LIMIT.\n",
            "\n",
            "Increase the number of iterations (max_iter) or scale the data as shown in:\n",
            "    https://scikit-learn.org/stable/modules/preprocessing.html\n",
            "Please also refer to the documentation for alternative solver options:\n",
            "    https://scikit-learn.org/stable/modules/linear_model.html#logistic-regression\n",
            "  n_iter_i = _check_optimize_result(\n"
          ]
        },
        {
          "output_type": "execute_result",
          "data": {
            "text/plain": [
              "LogisticRegression()"
            ],
            "text/html": [
              "<style>#sk-container-id-8 {color: black;background-color: white;}#sk-container-id-8 pre{padding: 0;}#sk-container-id-8 div.sk-toggleable {background-color: white;}#sk-container-id-8 label.sk-toggleable__label {cursor: pointer;display: block;width: 100%;margin-bottom: 0;padding: 0.3em;box-sizing: border-box;text-align: center;}#sk-container-id-8 label.sk-toggleable__label-arrow:before {content: \"▸\";float: left;margin-right: 0.25em;color: #696969;}#sk-container-id-8 label.sk-toggleable__label-arrow:hover:before {color: black;}#sk-container-id-8 div.sk-estimator:hover label.sk-toggleable__label-arrow:before {color: black;}#sk-container-id-8 div.sk-toggleable__content {max-height: 0;max-width: 0;overflow: hidden;text-align: left;background-color: #f0f8ff;}#sk-container-id-8 div.sk-toggleable__content pre {margin: 0.2em;color: black;border-radius: 0.25em;background-color: #f0f8ff;}#sk-container-id-8 input.sk-toggleable__control:checked~div.sk-toggleable__content {max-height: 200px;max-width: 100%;overflow: auto;}#sk-container-id-8 input.sk-toggleable__control:checked~label.sk-toggleable__label-arrow:before {content: \"▾\";}#sk-container-id-8 div.sk-estimator input.sk-toggleable__control:checked~label.sk-toggleable__label {background-color: #d4ebff;}#sk-container-id-8 div.sk-label input.sk-toggleable__control:checked~label.sk-toggleable__label {background-color: #d4ebff;}#sk-container-id-8 input.sk-hidden--visually {border: 0;clip: rect(1px 1px 1px 1px);clip: rect(1px, 1px, 1px, 1px);height: 1px;margin: -1px;overflow: hidden;padding: 0;position: absolute;width: 1px;}#sk-container-id-8 div.sk-estimator {font-family: monospace;background-color: #f0f8ff;border: 1px dotted black;border-radius: 0.25em;box-sizing: border-box;margin-bottom: 0.5em;}#sk-container-id-8 div.sk-estimator:hover {background-color: #d4ebff;}#sk-container-id-8 div.sk-parallel-item::after {content: \"\";width: 100%;border-bottom: 1px solid gray;flex-grow: 1;}#sk-container-id-8 div.sk-label:hover label.sk-toggleable__label {background-color: #d4ebff;}#sk-container-id-8 div.sk-serial::before {content: \"\";position: absolute;border-left: 1px solid gray;box-sizing: border-box;top: 0;bottom: 0;left: 50%;z-index: 0;}#sk-container-id-8 div.sk-serial {display: flex;flex-direction: column;align-items: center;background-color: white;padding-right: 0.2em;padding-left: 0.2em;position: relative;}#sk-container-id-8 div.sk-item {position: relative;z-index: 1;}#sk-container-id-8 div.sk-parallel {display: flex;align-items: stretch;justify-content: center;background-color: white;position: relative;}#sk-container-id-8 div.sk-item::before, #sk-container-id-8 div.sk-parallel-item::before {content: \"\";position: absolute;border-left: 1px solid gray;box-sizing: border-box;top: 0;bottom: 0;left: 50%;z-index: -1;}#sk-container-id-8 div.sk-parallel-item {display: flex;flex-direction: column;z-index: 1;position: relative;background-color: white;}#sk-container-id-8 div.sk-parallel-item:first-child::after {align-self: flex-end;width: 50%;}#sk-container-id-8 div.sk-parallel-item:last-child::after {align-self: flex-start;width: 50%;}#sk-container-id-8 div.sk-parallel-item:only-child::after {width: 0;}#sk-container-id-8 div.sk-dashed-wrapped {border: 1px dashed gray;margin: 0 0.4em 0.5em 0.4em;box-sizing: border-box;padding-bottom: 0.4em;background-color: white;}#sk-container-id-8 div.sk-label label {font-family: monospace;font-weight: bold;display: inline-block;line-height: 1.2em;}#sk-container-id-8 div.sk-label-container {text-align: center;}#sk-container-id-8 div.sk-container {/* jupyter's `normalize.less` sets `[hidden] { display: none; }` but bootstrap.min.css set `[hidden] { display: none !important; }` so we also need the `!important` here to be able to override the default hidden behavior on the sphinx rendered scikit-learn.org. See: https://github.com/scikit-learn/scikit-learn/issues/21755 */display: inline-block !important;position: relative;}#sk-container-id-8 div.sk-text-repr-fallback {display: none;}</style><div id=\"sk-container-id-8\" class=\"sk-top-container\"><div class=\"sk-text-repr-fallback\"><pre>LogisticRegression()</pre><b>In a Jupyter environment, please rerun this cell to show the HTML representation or trust the notebook. <br />On GitHub, the HTML representation is unable to render, please try loading this page with nbviewer.org.</b></div><div class=\"sk-container\" hidden><div class=\"sk-item\"><div class=\"sk-estimator sk-toggleable\"><input class=\"sk-toggleable__control sk-hidden--visually\" id=\"sk-estimator-id-10\" type=\"checkbox\" checked><label for=\"sk-estimator-id-10\" class=\"sk-toggleable__label sk-toggleable__label-arrow\">LogisticRegression</label><div class=\"sk-toggleable__content\"><pre>LogisticRegression()</pre></div></div></div></div></div>"
            ]
          },
          "metadata": {},
          "execution_count": 168
        }
      ]
    },
    {
      "cell_type": "code",
      "source": [
        "y_pred = base_model.predict(X_valid_scaled)"
      ],
      "metadata": {
        "id": "5ap8edpKzUiG"
      },
      "execution_count": 169,
      "outputs": []
    },
    {
      "cell_type": "code",
      "source": [
        "y_pred_decoded = label_encoder.inverse_transform(y_pred)"
      ],
      "metadata": {
        "id": "jfFXJzrHO5vi"
      },
      "execution_count": 170,
      "outputs": []
    },
    {
      "cell_type": "code",
      "source": [
        "y_valid_decoded = label_encoder.inverse_transform(y_valid)"
      ],
      "metadata": {
        "id": "MgOsVD8hPFlH"
      },
      "execution_count": 171,
      "outputs": []
    },
    {
      "cell_type": "code",
      "source": [
        "accuracy = accuracy_score(y_valid_decoded, y_pred_decoded)\n",
        "print(f'Accuracy: {accuracy:.2f}')\n",
        "\n",
        "print(classification_report(y_valid_decoded, y_pred_decoded))\n"
      ],
      "metadata": {
        "colab": {
          "base_uri": "https://localhost:8080/"
        },
        "id": "f5mj016doWLw",
        "outputId": "874136d8-b66c-4c57-9270-3c014665a2ac"
      },
      "execution_count": 172,
      "outputs": [
        {
          "output_type": "stream",
          "name": "stdout",
          "text": [
            "Accuracy: 0.96\n"
          ]
        },
        {
          "output_type": "stream",
          "name": "stderr",
          "text": [
            "/usr/local/lib/python3.10/dist-packages/sklearn/metrics/_classification.py:1344: UndefinedMetricWarning: Precision and F-score are ill-defined and being set to 0.0 in labels with no predicted samples. Use `zero_division` parameter to control this behavior.\n",
            "  _warn_prf(average, modifier, msg_start, len(result))\n",
            "/usr/local/lib/python3.10/dist-packages/sklearn/metrics/_classification.py:1344: UndefinedMetricWarning: Precision and F-score are ill-defined and being set to 0.0 in labels with no predicted samples. Use `zero_division` parameter to control this behavior.\n",
            "  _warn_prf(average, modifier, msg_start, len(result))\n"
          ]
        },
        {
          "output_type": "stream",
          "name": "stdout",
          "text": [
            "                            precision    recall  f1-score   support\n",
            "\n",
            "                    BENIGN       0.98      0.95      0.96     37250\n",
            "                       Bot       0.67      0.03      0.05       312\n",
            "                      DDoS       0.99      1.00      0.99     10298\n",
            "             DoS GoldenEye       0.97      0.89      0.93      1646\n",
            "                  DoS Hulk       0.95      1.00      0.97     13960\n",
            "          DoS Slowhttptest       0.92      0.89      0.91       837\n",
            "             DoS slowloris       0.89      0.89      0.89       862\n",
            "               FTP-Patator       0.88      0.99      0.93       949\n",
            "                Heartbleed       1.00      1.00      1.00         2\n",
            "              Infiltration       1.00      0.17      0.29         6\n",
            "                  PortScan       0.92      1.00      0.96      9024\n",
            "               SSH-Patator       0.98      0.92      0.95       515\n",
            "  Web Attack � Brute Force       0.00      0.00      0.00       235\n",
            "Web Attack � Sql Injection       0.00      0.00      0.00         3\n",
            "          Web Attack � XSS       0.00      0.00      0.00       104\n",
            "\n",
            "                  accuracy                           0.96     76003\n",
            "                 macro avg       0.74      0.65      0.66     76003\n",
            "              weighted avg       0.96      0.96      0.96     76003\n",
            "\n"
          ]
        },
        {
          "output_type": "stream",
          "name": "stderr",
          "text": [
            "/usr/local/lib/python3.10/dist-packages/sklearn/metrics/_classification.py:1344: UndefinedMetricWarning: Precision and F-score are ill-defined and being set to 0.0 in labels with no predicted samples. Use `zero_division` parameter to control this behavior.\n",
            "  _warn_prf(average, modifier, msg_start, len(result))\n"
          ]
        }
      ]
    },
    {
      "cell_type": "markdown",
      "source": [
        "Есть классы, которые модель определяет очень хорошо. Общая точность модели говорит о том, что 97% трафика идентифицировано верно. Но есть классы, которые модель не может определить, например Web Attack � Sql Injection, Web Attack � XSS, Web Attack � Brute Forc."
      ],
      "metadata": {
        "id": "RK7R8Ras3kI4"
      }
    },
    {
      "cell_type": "markdown",
      "source": [
        "Можно попробовать более сложные модели, например бустинговые."
      ],
      "metadata": {
        "id": "NeNRUiMu4JhZ"
      }
    },
    {
      "cell_type": "markdown",
      "source": [
        "# Моделирование"
      ],
      "metadata": {
        "id": "14Yvqo79SN6Y"
      }
    },
    {
      "cell_type": "markdown",
      "source": [
        "## Бустинговые модели"
      ],
      "metadata": {
        "id": "FWTGWwv0Sgmc"
      }
    },
    {
      "cell_type": "markdown",
      "source": [
        "### XGBClassifier"
      ],
      "metadata": {
        "id": "dqzsvl37TkAw"
      }
    },
    {
      "cell_type": "code",
      "source": [
        "xgb_model = xgb.XGBClassifier()"
      ],
      "metadata": {
        "id": "2zWuHRWFSn1z"
      },
      "execution_count": 173,
      "outputs": []
    },
    {
      "cell_type": "code",
      "source": [
        "xgb_model.fit(X_train_scaled, y_train)"
      ],
      "metadata": {
        "colab": {
          "base_uri": "https://localhost:8080/",
          "height": 248
        },
        "id": "8P2VRJybSccy",
        "outputId": "92a2a90e-518f-42e7-f409-66aaea1fe4a1"
      },
      "execution_count": 174,
      "outputs": [
        {
          "output_type": "execute_result",
          "data": {
            "text/plain": [
              "XGBClassifier(base_score=None, booster=None, callbacks=None,\n",
              "              colsample_bylevel=None, colsample_bynode=None,\n",
              "              colsample_bytree=None, device=None, early_stopping_rounds=None,\n",
              "              enable_categorical=False, eval_metric=None, feature_types=None,\n",
              "              gamma=None, grow_policy=None, importance_type=None,\n",
              "              interaction_constraints=None, learning_rate=None, max_bin=None,\n",
              "              max_cat_threshold=None, max_cat_to_onehot=None,\n",
              "              max_delta_step=None, max_depth=None, max_leaves=None,\n",
              "              min_child_weight=None, missing=nan, monotone_constraints=None,\n",
              "              multi_strategy=None, n_estimators=None, n_jobs=None,\n",
              "              num_parallel_tree=None, objective='multi:softprob', ...)"
            ],
            "text/html": [
              "<style>#sk-container-id-9 {color: black;background-color: white;}#sk-container-id-9 pre{padding: 0;}#sk-container-id-9 div.sk-toggleable {background-color: white;}#sk-container-id-9 label.sk-toggleable__label {cursor: pointer;display: block;width: 100%;margin-bottom: 0;padding: 0.3em;box-sizing: border-box;text-align: center;}#sk-container-id-9 label.sk-toggleable__label-arrow:before {content: \"▸\";float: left;margin-right: 0.25em;color: #696969;}#sk-container-id-9 label.sk-toggleable__label-arrow:hover:before {color: black;}#sk-container-id-9 div.sk-estimator:hover label.sk-toggleable__label-arrow:before {color: black;}#sk-container-id-9 div.sk-toggleable__content {max-height: 0;max-width: 0;overflow: hidden;text-align: left;background-color: #f0f8ff;}#sk-container-id-9 div.sk-toggleable__content pre {margin: 0.2em;color: black;border-radius: 0.25em;background-color: #f0f8ff;}#sk-container-id-9 input.sk-toggleable__control:checked~div.sk-toggleable__content {max-height: 200px;max-width: 100%;overflow: auto;}#sk-container-id-9 input.sk-toggleable__control:checked~label.sk-toggleable__label-arrow:before {content: \"▾\";}#sk-container-id-9 div.sk-estimator input.sk-toggleable__control:checked~label.sk-toggleable__label {background-color: #d4ebff;}#sk-container-id-9 div.sk-label input.sk-toggleable__control:checked~label.sk-toggleable__label {background-color: #d4ebff;}#sk-container-id-9 input.sk-hidden--visually {border: 0;clip: rect(1px 1px 1px 1px);clip: rect(1px, 1px, 1px, 1px);height: 1px;margin: -1px;overflow: hidden;padding: 0;position: absolute;width: 1px;}#sk-container-id-9 div.sk-estimator {font-family: monospace;background-color: #f0f8ff;border: 1px dotted black;border-radius: 0.25em;box-sizing: border-box;margin-bottom: 0.5em;}#sk-container-id-9 div.sk-estimator:hover {background-color: #d4ebff;}#sk-container-id-9 div.sk-parallel-item::after {content: \"\";width: 100%;border-bottom: 1px solid gray;flex-grow: 1;}#sk-container-id-9 div.sk-label:hover label.sk-toggleable__label {background-color: #d4ebff;}#sk-container-id-9 div.sk-serial::before {content: \"\";position: absolute;border-left: 1px solid gray;box-sizing: border-box;top: 0;bottom: 0;left: 50%;z-index: 0;}#sk-container-id-9 div.sk-serial {display: flex;flex-direction: column;align-items: center;background-color: white;padding-right: 0.2em;padding-left: 0.2em;position: relative;}#sk-container-id-9 div.sk-item {position: relative;z-index: 1;}#sk-container-id-9 div.sk-parallel {display: flex;align-items: stretch;justify-content: center;background-color: white;position: relative;}#sk-container-id-9 div.sk-item::before, #sk-container-id-9 div.sk-parallel-item::before {content: \"\";position: absolute;border-left: 1px solid gray;box-sizing: border-box;top: 0;bottom: 0;left: 50%;z-index: -1;}#sk-container-id-9 div.sk-parallel-item {display: flex;flex-direction: column;z-index: 1;position: relative;background-color: white;}#sk-container-id-9 div.sk-parallel-item:first-child::after {align-self: flex-end;width: 50%;}#sk-container-id-9 div.sk-parallel-item:last-child::after {align-self: flex-start;width: 50%;}#sk-container-id-9 div.sk-parallel-item:only-child::after {width: 0;}#sk-container-id-9 div.sk-dashed-wrapped {border: 1px dashed gray;margin: 0 0.4em 0.5em 0.4em;box-sizing: border-box;padding-bottom: 0.4em;background-color: white;}#sk-container-id-9 div.sk-label label {font-family: monospace;font-weight: bold;display: inline-block;line-height: 1.2em;}#sk-container-id-9 div.sk-label-container {text-align: center;}#sk-container-id-9 div.sk-container {/* jupyter's `normalize.less` sets `[hidden] { display: none; }` but bootstrap.min.css set `[hidden] { display: none !important; }` so we also need the `!important` here to be able to override the default hidden behavior on the sphinx rendered scikit-learn.org. See: https://github.com/scikit-learn/scikit-learn/issues/21755 */display: inline-block !important;position: relative;}#sk-container-id-9 div.sk-text-repr-fallback {display: none;}</style><div id=\"sk-container-id-9\" class=\"sk-top-container\"><div class=\"sk-text-repr-fallback\"><pre>XGBClassifier(base_score=None, booster=None, callbacks=None,\n",
              "              colsample_bylevel=None, colsample_bynode=None,\n",
              "              colsample_bytree=None, device=None, early_stopping_rounds=None,\n",
              "              enable_categorical=False, eval_metric=None, feature_types=None,\n",
              "              gamma=None, grow_policy=None, importance_type=None,\n",
              "              interaction_constraints=None, learning_rate=None, max_bin=None,\n",
              "              max_cat_threshold=None, max_cat_to_onehot=None,\n",
              "              max_delta_step=None, max_depth=None, max_leaves=None,\n",
              "              min_child_weight=None, missing=nan, monotone_constraints=None,\n",
              "              multi_strategy=None, n_estimators=None, n_jobs=None,\n",
              "              num_parallel_tree=None, objective=&#x27;multi:softprob&#x27;, ...)</pre><b>In a Jupyter environment, please rerun this cell to show the HTML representation or trust the notebook. <br />On GitHub, the HTML representation is unable to render, please try loading this page with nbviewer.org.</b></div><div class=\"sk-container\" hidden><div class=\"sk-item\"><div class=\"sk-estimator sk-toggleable\"><input class=\"sk-toggleable__control sk-hidden--visually\" id=\"sk-estimator-id-11\" type=\"checkbox\" checked><label for=\"sk-estimator-id-11\" class=\"sk-toggleable__label sk-toggleable__label-arrow\">XGBClassifier</label><div class=\"sk-toggleable__content\"><pre>XGBClassifier(base_score=None, booster=None, callbacks=None,\n",
              "              colsample_bylevel=None, colsample_bynode=None,\n",
              "              colsample_bytree=None, device=None, early_stopping_rounds=None,\n",
              "              enable_categorical=False, eval_metric=None, feature_types=None,\n",
              "              gamma=None, grow_policy=None, importance_type=None,\n",
              "              interaction_constraints=None, learning_rate=None, max_bin=None,\n",
              "              max_cat_threshold=None, max_cat_to_onehot=None,\n",
              "              max_delta_step=None, max_depth=None, max_leaves=None,\n",
              "              min_child_weight=None, missing=nan, monotone_constraints=None,\n",
              "              multi_strategy=None, n_estimators=None, n_jobs=None,\n",
              "              num_parallel_tree=None, objective=&#x27;multi:softprob&#x27;, ...)</pre></div></div></div></div></div>"
            ]
          },
          "metadata": {},
          "execution_count": 174
        }
      ]
    },
    {
      "cell_type": "code",
      "source": [
        "y_pred = xgb_model.predict(X_valid_scaled)"
      ],
      "metadata": {
        "id": "nOosrdBwewwd"
      },
      "execution_count": 175,
      "outputs": []
    },
    {
      "cell_type": "code",
      "source": [
        "y_pred_decoded = label_encoder.inverse_transform(y_pred)"
      ],
      "metadata": {
        "id": "xHOJwueLTamC"
      },
      "execution_count": 176,
      "outputs": []
    },
    {
      "cell_type": "code",
      "source": [
        "y_valid_decoded = label_encoder.inverse_transform(y_valid)"
      ],
      "metadata": {
        "id": "9nAAyx3qTb7i"
      },
      "execution_count": 177,
      "outputs": []
    },
    {
      "cell_type": "code",
      "source": [
        "accuracy = accuracy_score(y_valid_decoded, y_pred_decoded)\n",
        "print(f'Accuracy: {accuracy:.2f}')\n",
        "\n",
        "print(classification_report(y_valid_decoded, y_pred_decoded))"
      ],
      "metadata": {
        "colab": {
          "base_uri": "https://localhost:8080/"
        },
        "id": "rfHnCDWRTfA0",
        "outputId": "1c14e153-d744-472d-91f8-321cdb1956a9"
      },
      "execution_count": 178,
      "outputs": [
        {
          "output_type": "stream",
          "name": "stdout",
          "text": [
            "Accuracy: 1.00\n",
            "                            precision    recall  f1-score   support\n",
            "\n",
            "                    BENIGN       1.00      1.00      1.00     37250\n",
            "                       Bot       0.96      0.98      0.97       312\n",
            "                      DDoS       1.00      1.00      1.00     10298\n",
            "             DoS GoldenEye       1.00      1.00      1.00      1646\n",
            "                  DoS Hulk       1.00      1.00      1.00     13960\n",
            "          DoS Slowhttptest       1.00      0.99      1.00       837\n",
            "             DoS slowloris       1.00      1.00      1.00       862\n",
            "               FTP-Patator       1.00      1.00      1.00       949\n",
            "                Heartbleed       1.00      0.50      0.67         2\n",
            "              Infiltration       1.00      0.33      0.50         6\n",
            "                  PortScan       1.00      1.00      1.00      9024\n",
            "               SSH-Patator       1.00      1.00      1.00       515\n",
            "  Web Attack � Brute Force       0.74      0.82      0.78       235\n",
            "Web Attack � Sql Injection       0.67      0.67      0.67         3\n",
            "          Web Attack � XSS       0.46      0.33      0.38       104\n",
            "\n",
            "                  accuracy                           1.00     76003\n",
            "                 macro avg       0.92      0.84      0.86     76003\n",
            "              weighted avg       1.00      1.00      1.00     76003\n",
            "\n"
          ]
        }
      ]
    },
    {
      "cell_type": "markdown",
      "source": [
        "### LGBMClassifier()"
      ],
      "metadata": {
        "id": "dcgHsiwhTpyt"
      }
    },
    {
      "cell_type": "code",
      "source": [
        "lgb_model = lgb.LGBMClassifier(verbose=-1)"
      ],
      "metadata": {
        "id": "-3jNsJpJTotu"
      },
      "execution_count": 179,
      "outputs": []
    },
    {
      "cell_type": "code",
      "source": [
        "lgb_model.fit(X_train_scaled, y_train)"
      ],
      "metadata": {
        "colab": {
          "base_uri": "https://localhost:8080/",
          "height": 74
        },
        "id": "8YaosNdHUT4g",
        "outputId": "18523098-3f48-4092-a8c6-31638e71f5d4"
      },
      "execution_count": 180,
      "outputs": [
        {
          "output_type": "execute_result",
          "data": {
            "text/plain": [
              "LGBMClassifier(verbose=-1)"
            ],
            "text/html": [
              "<style>#sk-container-id-10 {color: black;background-color: white;}#sk-container-id-10 pre{padding: 0;}#sk-container-id-10 div.sk-toggleable {background-color: white;}#sk-container-id-10 label.sk-toggleable__label {cursor: pointer;display: block;width: 100%;margin-bottom: 0;padding: 0.3em;box-sizing: border-box;text-align: center;}#sk-container-id-10 label.sk-toggleable__label-arrow:before {content: \"▸\";float: left;margin-right: 0.25em;color: #696969;}#sk-container-id-10 label.sk-toggleable__label-arrow:hover:before {color: black;}#sk-container-id-10 div.sk-estimator:hover label.sk-toggleable__label-arrow:before {color: black;}#sk-container-id-10 div.sk-toggleable__content {max-height: 0;max-width: 0;overflow: hidden;text-align: left;background-color: #f0f8ff;}#sk-container-id-10 div.sk-toggleable__content pre {margin: 0.2em;color: black;border-radius: 0.25em;background-color: #f0f8ff;}#sk-container-id-10 input.sk-toggleable__control:checked~div.sk-toggleable__content {max-height: 200px;max-width: 100%;overflow: auto;}#sk-container-id-10 input.sk-toggleable__control:checked~label.sk-toggleable__label-arrow:before {content: \"▾\";}#sk-container-id-10 div.sk-estimator input.sk-toggleable__control:checked~label.sk-toggleable__label {background-color: #d4ebff;}#sk-container-id-10 div.sk-label input.sk-toggleable__control:checked~label.sk-toggleable__label {background-color: #d4ebff;}#sk-container-id-10 input.sk-hidden--visually {border: 0;clip: rect(1px 1px 1px 1px);clip: rect(1px, 1px, 1px, 1px);height: 1px;margin: -1px;overflow: hidden;padding: 0;position: absolute;width: 1px;}#sk-container-id-10 div.sk-estimator {font-family: monospace;background-color: #f0f8ff;border: 1px dotted black;border-radius: 0.25em;box-sizing: border-box;margin-bottom: 0.5em;}#sk-container-id-10 div.sk-estimator:hover {background-color: #d4ebff;}#sk-container-id-10 div.sk-parallel-item::after {content: \"\";width: 100%;border-bottom: 1px solid gray;flex-grow: 1;}#sk-container-id-10 div.sk-label:hover label.sk-toggleable__label {background-color: #d4ebff;}#sk-container-id-10 div.sk-serial::before {content: \"\";position: absolute;border-left: 1px solid gray;box-sizing: border-box;top: 0;bottom: 0;left: 50%;z-index: 0;}#sk-container-id-10 div.sk-serial {display: flex;flex-direction: column;align-items: center;background-color: white;padding-right: 0.2em;padding-left: 0.2em;position: relative;}#sk-container-id-10 div.sk-item {position: relative;z-index: 1;}#sk-container-id-10 div.sk-parallel {display: flex;align-items: stretch;justify-content: center;background-color: white;position: relative;}#sk-container-id-10 div.sk-item::before, #sk-container-id-10 div.sk-parallel-item::before {content: \"\";position: absolute;border-left: 1px solid gray;box-sizing: border-box;top: 0;bottom: 0;left: 50%;z-index: -1;}#sk-container-id-10 div.sk-parallel-item {display: flex;flex-direction: column;z-index: 1;position: relative;background-color: white;}#sk-container-id-10 div.sk-parallel-item:first-child::after {align-self: flex-end;width: 50%;}#sk-container-id-10 div.sk-parallel-item:last-child::after {align-self: flex-start;width: 50%;}#sk-container-id-10 div.sk-parallel-item:only-child::after {width: 0;}#sk-container-id-10 div.sk-dashed-wrapped {border: 1px dashed gray;margin: 0 0.4em 0.5em 0.4em;box-sizing: border-box;padding-bottom: 0.4em;background-color: white;}#sk-container-id-10 div.sk-label label {font-family: monospace;font-weight: bold;display: inline-block;line-height: 1.2em;}#sk-container-id-10 div.sk-label-container {text-align: center;}#sk-container-id-10 div.sk-container {/* jupyter's `normalize.less` sets `[hidden] { display: none; }` but bootstrap.min.css set `[hidden] { display: none !important; }` so we also need the `!important` here to be able to override the default hidden behavior on the sphinx rendered scikit-learn.org. See: https://github.com/scikit-learn/scikit-learn/issues/21755 */display: inline-block !important;position: relative;}#sk-container-id-10 div.sk-text-repr-fallback {display: none;}</style><div id=\"sk-container-id-10\" class=\"sk-top-container\"><div class=\"sk-text-repr-fallback\"><pre>LGBMClassifier(verbose=-1)</pre><b>In a Jupyter environment, please rerun this cell to show the HTML representation or trust the notebook. <br />On GitHub, the HTML representation is unable to render, please try loading this page with nbviewer.org.</b></div><div class=\"sk-container\" hidden><div class=\"sk-item\"><div class=\"sk-estimator sk-toggleable\"><input class=\"sk-toggleable__control sk-hidden--visually\" id=\"sk-estimator-id-12\" type=\"checkbox\" checked><label for=\"sk-estimator-id-12\" class=\"sk-toggleable__label sk-toggleable__label-arrow\">LGBMClassifier</label><div class=\"sk-toggleable__content\"><pre>LGBMClassifier(verbose=-1)</pre></div></div></div></div></div>"
            ]
          },
          "metadata": {},
          "execution_count": 180
        }
      ]
    },
    {
      "cell_type": "code",
      "source": [
        "y_pred = lgb_model.predict(X_valid_scaled)"
      ],
      "metadata": {
        "id": "9NziGa0rUigd"
      },
      "execution_count": 181,
      "outputs": []
    },
    {
      "cell_type": "code",
      "source": [
        "y_pred_decoded = label_encoder.inverse_transform(y_pred)"
      ],
      "metadata": {
        "id": "elpeonwJUige"
      },
      "execution_count": 182,
      "outputs": []
    },
    {
      "cell_type": "code",
      "source": [
        "y_valid_decoded = label_encoder.inverse_transform(y_valid)"
      ],
      "metadata": {
        "id": "Fxfd4PyNUige"
      },
      "execution_count": 183,
      "outputs": []
    },
    {
      "cell_type": "code",
      "source": [
        "accuracy = accuracy_score(y_valid_decoded, y_pred_decoded)\n",
        "print(f'Accuracy: {accuracy:.2f}')\n",
        "\n",
        "print(classification_report(y_valid_decoded, y_pred_decoded))"
      ],
      "metadata": {
        "colab": {
          "base_uri": "https://localhost:8080/"
        },
        "outputId": "271fbb60-f62f-427d-bb79-a043917e8217",
        "id": "l3Zdto2sUigf"
      },
      "execution_count": 184,
      "outputs": [
        {
          "output_type": "stream",
          "name": "stdout",
          "text": [
            "Accuracy: 0.68\n",
            "                            precision    recall  f1-score   support\n",
            "\n",
            "                    BENIGN       0.81      0.78      0.79     37250\n",
            "                       Bot       0.15      0.19      0.17       312\n",
            "                      DDoS       0.59      0.73      0.65     10298\n",
            "             DoS GoldenEye       0.00      0.00      0.00      1646\n",
            "                  DoS Hulk       0.70      0.60      0.65     13960\n",
            "          DoS Slowhttptest       0.65      0.07      0.13       837\n",
            "             DoS slowloris       0.00      0.00      0.00       862\n",
            "               FTP-Patator       0.08      0.01      0.01       949\n",
            "                Heartbleed       0.00      0.00      0.00         2\n",
            "              Infiltration       0.00      0.00      0.00         6\n",
            "                  PortScan       0.61      0.79      0.68      9024\n",
            "               SSH-Patator       0.00      0.00      0.00       515\n",
            "  Web Attack � Brute Force       0.00      0.00      0.00       235\n",
            "Web Attack � Sql Injection       0.00      0.00      0.00         3\n",
            "          Web Attack � XSS       0.00      0.00      0.00       104\n",
            "\n",
            "                  accuracy                           0.68     76003\n",
            "                 macro avg       0.24      0.21      0.21     76003\n",
            "              weighted avg       0.68      0.68      0.68     76003\n",
            "\n"
          ]
        }
      ]
    },
    {
      "cell_type": "markdown",
      "source": [
        "Бустинговая модель XGB показала очень хороший результат. Модель имеет высокую общую точность и хорошие оценки для большинства классов. Может определять все классы, в том числе \"Infiltration\", \"Web Attack - Brute Force\", \"Web Attack - Sql Injection\" и \"Web Attack - XSS\"."
      ],
      "metadata": {
        "id": "7um-FWC5VcUo"
      }
    },
    {
      "cell_type": "markdown",
      "source": [],
      "metadata": {
        "id": "BCntEuh3YfjH"
      }
    },
    {
      "cell_type": "code",
      "source": [
        "def objective(trial):\n",
        "\n",
        "    # гиперпараметры, включая регуляризацию\n",
        "    params = {\n",
        "        'n_estimators': trial.suggest_int('n_estimators', 50, 500),\n",
        "        'learning_rate': trial.suggest_float('learning_rate', 0.01, 0.1),\n",
        "        'max_depth': trial.suggest_int('max_depth', 3, 10),\n",
        "        'reg_alpha': trial.suggest_float('reg_alpha', 0.0, 1.0),  # L1 регуляризация\n",
        "        'reg_lambda': trial.suggest_float('reg_lambda', 0.0, 1.0),  # L2 регуляризация\n",
        "           }\n",
        "\n",
        "    model = xgb.XGBClassifier(**params)\n",
        "\n",
        "    cv_scores = cross_val_score(model, X_train_scaled, y_train, cv=5, scoring='accuracy')\n",
        "\n",
        "    accuracy = cv_scores.mean()\n",
        "\n",
        "    return accuracy\n"
      ],
      "metadata": {
        "id": "Eeel5pbvZf5f"
      },
      "execution_count": 185,
      "outputs": []
    },
    {
      "cell_type": "code",
      "source": [
        "#study = optuna.create_study(direction='maximize')\n",
        "#study.optimize(objective, n_trials=5)\n",
        "\n",
        "#best_params = study.best_params\n",
        "#best_accuracy = study.best_value\n",
        "\n",
        "#print(\"Best Parameters:\", best_params)\n",
        "#print(\"Best Accuracy:\", best_accuracy)"
      ],
      "metadata": {
        "colab": {
          "base_uri": "https://localhost:8080/"
        },
        "id": "EEIFETm6Yf95",
        "outputId": "4bffc5bb-e81f-46f5-8d3e-65c60447c859"
      },
      "execution_count": 187,
      "outputs": [
        {
          "output_type": "stream",
          "name": "stderr",
          "text": [
            "[I 2023-10-05 02:56:32,818] A new study created in memory with name: no-name-fa78fa5c-595a-439c-81a4-b9f7c33b8d1f\n",
            "[I 2023-10-05 03:19:36,361] Trial 0 finished with value: 0.9974902056439119 and parameters: {'n_estimators': 196, 'learning_rate': 0.06314927318149223, 'max_depth': 10, 'reg_alpha': 0.7427979484172919, 'reg_lambda': 0.6029907764032397}. Best is trial 0 with value: 0.9974902056439119.\n",
            "[I 2023-10-05 03:25:30,565] Trial 1 finished with value: 0.9970757440243407 and parameters: {'n_estimators': 71, 'learning_rate': 0.07071792842034759, 'max_depth': 6, 'reg_alpha': 0.8784721181215848, 'reg_lambda': 0.08396877353719201}. Best is trial 0 with value: 0.9974902056439119.\n",
            "[I 2023-10-05 03:43:16,080] Trial 2 finished with value: 0.9975395465589368 and parameters: {'n_estimators': 224, 'learning_rate': 0.060638347914234975, 'max_depth': 4, 'reg_alpha': 0.06497651703028373, 'reg_lambda': 0.40917338574733375}. Best is trial 2 with value: 0.9975395465589368.\n",
            "[I 2023-10-05 04:10:25,013] Trial 3 finished with value: 0.9975099420532023 and parameters: {'n_estimators': 302, 'learning_rate': 0.07182408923516323, 'max_depth': 9, 'reg_alpha': 0.9283910965620044, 'reg_lambda': 0.10396266777965535}. Best is trial 2 with value: 0.9975395465589368.\n",
            "[I 2023-10-05 04:33:48,693] Trial 4 finished with value: 0.9975658611040845 and parameters: {'n_estimators': 245, 'learning_rate': 0.06469661712354244, 'max_depth': 7, 'reg_alpha': 0.4167410533929089, 'reg_lambda': 0.780522343316105}. Best is trial 4 with value: 0.9975658611040845.\n"
          ]
        },
        {
          "output_type": "stream",
          "name": "stdout",
          "text": [
            "Best Parameters: {'n_estimators': 245, 'learning_rate': 0.06469661712354244, 'max_depth': 7, 'reg_alpha': 0.4167410533929089, 'reg_lambda': 0.780522343316105}\n",
            "Best Accuracy: 0.9975658611040845\n"
          ]
        }
      ]
    },
    {
      "cell_type": "markdown",
      "source": [
        "Собираем готовую модель:"
      ],
      "metadata": {
        "id": "tOvZ9d1pxshO"
      }
    },
    {
      "cell_type": "code",
      "source": [
        "best_model = xgb.XGBClassifier(n_estimators = 245, learning_rate = 0.06469661712354244,\n",
        "                               max_depth=7, reg_alpha = 0.4167410533929089,\n",
        "                               reg_lambda = 0.780522343316105)"
      ],
      "metadata": {
        "id": "q7go5G9JxyAj"
      },
      "execution_count": 188,
      "outputs": []
    },
    {
      "cell_type": "markdown",
      "source": [
        "# Тестирование модели"
      ],
      "metadata": {
        "id": "ZnBD62fzyYEH"
      }
    },
    {
      "cell_type": "markdown",
      "source": [
        "X_test является не стандантизированным набором, выполним его стандартизацию:"
      ],
      "metadata": {
        "id": "4nXE9VYIy8ly"
      }
    },
    {
      "cell_type": "code",
      "source": [
        "# Cоздаем пайплайн\n",
        "pipeline = Pipeline([\n",
        "    ('scaler', StandardScaler()),  # Стандартизация данных\n",
        "    ('classifier', best_model)\n",
        "])"
      ],
      "metadata": {
        "id": "g_22MOGAzJYK"
      },
      "execution_count": 189,
      "outputs": []
    },
    {
      "cell_type": "code",
      "source": [
        "pipeline.fit(X_train_val, y_train_val)"
      ],
      "metadata": {
        "colab": {
          "base_uri": "https://localhost:8080/",
          "height": 125
        },
        "id": "VjL8_lBS4-PQ",
        "outputId": "c13786c1-efa8-4899-995d-a5bcce30a822"
      },
      "execution_count": 190,
      "outputs": [
        {
          "output_type": "execute_result",
          "data": {
            "text/plain": [
              "Pipeline(steps=[('scaler', StandardScaler()),\n",
              "                ('classifier',\n",
              "                 XGBClassifier(base_score=None, booster=None, callbacks=None,\n",
              "                               colsample_bylevel=None, colsample_bynode=None,\n",
              "                               colsample_bytree=None, device=None,\n",
              "                               early_stopping_rounds=None,\n",
              "                               enable_categorical=False, eval_metric=None,\n",
              "                               feature_types=None, gamma=None, grow_policy=None,\n",
              "                               importance_type=None,\n",
              "                               interaction_constraints=None,\n",
              "                               learning_rate=0.06469661712354244, max_bin=None,\n",
              "                               max_cat_threshold=None, max_cat_to_onehot=None,\n",
              "                               max_delta_step=None, max_depth=7,\n",
              "                               max_leaves=None, min_child_weight=None,\n",
              "                               missing=nan, monotone_constraints=None,\n",
              "                               multi_strategy=None, n_estimators=245,\n",
              "                               n_jobs=None, num_parallel_tree=None,\n",
              "                               objective='multi:softprob', ...))])"
            ],
            "text/html": [
              "<style>#sk-container-id-11 {color: black;background-color: white;}#sk-container-id-11 pre{padding: 0;}#sk-container-id-11 div.sk-toggleable {background-color: white;}#sk-container-id-11 label.sk-toggleable__label {cursor: pointer;display: block;width: 100%;margin-bottom: 0;padding: 0.3em;box-sizing: border-box;text-align: center;}#sk-container-id-11 label.sk-toggleable__label-arrow:before {content: \"▸\";float: left;margin-right: 0.25em;color: #696969;}#sk-container-id-11 label.sk-toggleable__label-arrow:hover:before {color: black;}#sk-container-id-11 div.sk-estimator:hover label.sk-toggleable__label-arrow:before {color: black;}#sk-container-id-11 div.sk-toggleable__content {max-height: 0;max-width: 0;overflow: hidden;text-align: left;background-color: #f0f8ff;}#sk-container-id-11 div.sk-toggleable__content pre {margin: 0.2em;color: black;border-radius: 0.25em;background-color: #f0f8ff;}#sk-container-id-11 input.sk-toggleable__control:checked~div.sk-toggleable__content {max-height: 200px;max-width: 100%;overflow: auto;}#sk-container-id-11 input.sk-toggleable__control:checked~label.sk-toggleable__label-arrow:before {content: \"▾\";}#sk-container-id-11 div.sk-estimator input.sk-toggleable__control:checked~label.sk-toggleable__label {background-color: #d4ebff;}#sk-container-id-11 div.sk-label input.sk-toggleable__control:checked~label.sk-toggleable__label {background-color: #d4ebff;}#sk-container-id-11 input.sk-hidden--visually {border: 0;clip: rect(1px 1px 1px 1px);clip: rect(1px, 1px, 1px, 1px);height: 1px;margin: -1px;overflow: hidden;padding: 0;position: absolute;width: 1px;}#sk-container-id-11 div.sk-estimator {font-family: monospace;background-color: #f0f8ff;border: 1px dotted black;border-radius: 0.25em;box-sizing: border-box;margin-bottom: 0.5em;}#sk-container-id-11 div.sk-estimator:hover {background-color: #d4ebff;}#sk-container-id-11 div.sk-parallel-item::after {content: \"\";width: 100%;border-bottom: 1px solid gray;flex-grow: 1;}#sk-container-id-11 div.sk-label:hover label.sk-toggleable__label {background-color: #d4ebff;}#sk-container-id-11 div.sk-serial::before {content: \"\";position: absolute;border-left: 1px solid gray;box-sizing: border-box;top: 0;bottom: 0;left: 50%;z-index: 0;}#sk-container-id-11 div.sk-serial {display: flex;flex-direction: column;align-items: center;background-color: white;padding-right: 0.2em;padding-left: 0.2em;position: relative;}#sk-container-id-11 div.sk-item {position: relative;z-index: 1;}#sk-container-id-11 div.sk-parallel {display: flex;align-items: stretch;justify-content: center;background-color: white;position: relative;}#sk-container-id-11 div.sk-item::before, #sk-container-id-11 div.sk-parallel-item::before {content: \"\";position: absolute;border-left: 1px solid gray;box-sizing: border-box;top: 0;bottom: 0;left: 50%;z-index: -1;}#sk-container-id-11 div.sk-parallel-item {display: flex;flex-direction: column;z-index: 1;position: relative;background-color: white;}#sk-container-id-11 div.sk-parallel-item:first-child::after {align-self: flex-end;width: 50%;}#sk-container-id-11 div.sk-parallel-item:last-child::after {align-self: flex-start;width: 50%;}#sk-container-id-11 div.sk-parallel-item:only-child::after {width: 0;}#sk-container-id-11 div.sk-dashed-wrapped {border: 1px dashed gray;margin: 0 0.4em 0.5em 0.4em;box-sizing: border-box;padding-bottom: 0.4em;background-color: white;}#sk-container-id-11 div.sk-label label {font-family: monospace;font-weight: bold;display: inline-block;line-height: 1.2em;}#sk-container-id-11 div.sk-label-container {text-align: center;}#sk-container-id-11 div.sk-container {/* jupyter's `normalize.less` sets `[hidden] { display: none; }` but bootstrap.min.css set `[hidden] { display: none !important; }` so we also need the `!important` here to be able to override the default hidden behavior on the sphinx rendered scikit-learn.org. See: https://github.com/scikit-learn/scikit-learn/issues/21755 */display: inline-block !important;position: relative;}#sk-container-id-11 div.sk-text-repr-fallback {display: none;}</style><div id=\"sk-container-id-11\" class=\"sk-top-container\"><div class=\"sk-text-repr-fallback\"><pre>Pipeline(steps=[(&#x27;scaler&#x27;, StandardScaler()),\n",
              "                (&#x27;classifier&#x27;,\n",
              "                 XGBClassifier(base_score=None, booster=None, callbacks=None,\n",
              "                               colsample_bylevel=None, colsample_bynode=None,\n",
              "                               colsample_bytree=None, device=None,\n",
              "                               early_stopping_rounds=None,\n",
              "                               enable_categorical=False, eval_metric=None,\n",
              "                               feature_types=None, gamma=None, grow_policy=None,\n",
              "                               importance_type=None,\n",
              "                               interaction_constraints=None,\n",
              "                               learning_rate=0.06469661712354244, max_bin=None,\n",
              "                               max_cat_threshold=None, max_cat_to_onehot=None,\n",
              "                               max_delta_step=None, max_depth=7,\n",
              "                               max_leaves=None, min_child_weight=None,\n",
              "                               missing=nan, monotone_constraints=None,\n",
              "                               multi_strategy=None, n_estimators=245,\n",
              "                               n_jobs=None, num_parallel_tree=None,\n",
              "                               objective=&#x27;multi:softprob&#x27;, ...))])</pre><b>In a Jupyter environment, please rerun this cell to show the HTML representation or trust the notebook. <br />On GitHub, the HTML representation is unable to render, please try loading this page with nbviewer.org.</b></div><div class=\"sk-container\" hidden><div class=\"sk-item sk-dashed-wrapped\"><div class=\"sk-label-container\"><div class=\"sk-label sk-toggleable\"><input class=\"sk-toggleable__control sk-hidden--visually\" id=\"sk-estimator-id-13\" type=\"checkbox\" ><label for=\"sk-estimator-id-13\" class=\"sk-toggleable__label sk-toggleable__label-arrow\">Pipeline</label><div class=\"sk-toggleable__content\"><pre>Pipeline(steps=[(&#x27;scaler&#x27;, StandardScaler()),\n",
              "                (&#x27;classifier&#x27;,\n",
              "                 XGBClassifier(base_score=None, booster=None, callbacks=None,\n",
              "                               colsample_bylevel=None, colsample_bynode=None,\n",
              "                               colsample_bytree=None, device=None,\n",
              "                               early_stopping_rounds=None,\n",
              "                               enable_categorical=False, eval_metric=None,\n",
              "                               feature_types=None, gamma=None, grow_policy=None,\n",
              "                               importance_type=None,\n",
              "                               interaction_constraints=None,\n",
              "                               learning_rate=0.06469661712354244, max_bin=None,\n",
              "                               max_cat_threshold=None, max_cat_to_onehot=None,\n",
              "                               max_delta_step=None, max_depth=7,\n",
              "                               max_leaves=None, min_child_weight=None,\n",
              "                               missing=nan, monotone_constraints=None,\n",
              "                               multi_strategy=None, n_estimators=245,\n",
              "                               n_jobs=None, num_parallel_tree=None,\n",
              "                               objective=&#x27;multi:softprob&#x27;, ...))])</pre></div></div></div><div class=\"sk-serial\"><div class=\"sk-item\"><div class=\"sk-estimator sk-toggleable\"><input class=\"sk-toggleable__control sk-hidden--visually\" id=\"sk-estimator-id-14\" type=\"checkbox\" ><label for=\"sk-estimator-id-14\" class=\"sk-toggleable__label sk-toggleable__label-arrow\">StandardScaler</label><div class=\"sk-toggleable__content\"><pre>StandardScaler()</pre></div></div></div><div class=\"sk-item\"><div class=\"sk-estimator sk-toggleable\"><input class=\"sk-toggleable__control sk-hidden--visually\" id=\"sk-estimator-id-15\" type=\"checkbox\" ><label for=\"sk-estimator-id-15\" class=\"sk-toggleable__label sk-toggleable__label-arrow\">XGBClassifier</label><div class=\"sk-toggleable__content\"><pre>XGBClassifier(base_score=None, booster=None, callbacks=None,\n",
              "              colsample_bylevel=None, colsample_bynode=None,\n",
              "              colsample_bytree=None, device=None, early_stopping_rounds=None,\n",
              "              enable_categorical=False, eval_metric=None, feature_types=None,\n",
              "              gamma=None, grow_policy=None, importance_type=None,\n",
              "              interaction_constraints=None, learning_rate=0.06469661712354244,\n",
              "              max_bin=None, max_cat_threshold=None, max_cat_to_onehot=None,\n",
              "              max_delta_step=None, max_depth=7, max_leaves=None,\n",
              "              min_child_weight=None, missing=nan, monotone_constraints=None,\n",
              "              multi_strategy=None, n_estimators=245, n_jobs=None,\n",
              "              num_parallel_tree=None, objective=&#x27;multi:softprob&#x27;, ...)</pre></div></div></div></div></div></div></div>"
            ]
          },
          "metadata": {},
          "execution_count": 190
        }
      ]
    },
    {
      "cell_type": "code",
      "source": [
        "y_pred = pipeline.predict(X_test)"
      ],
      "metadata": {
        "id": "xp-66hJR0OFQ"
      },
      "execution_count": 191,
      "outputs": []
    },
    {
      "cell_type": "code",
      "source": [
        "y_pred_decoded = label_encoder.inverse_transform(y_pred)"
      ],
      "metadata": {
        "id": "rWCWtOnI7eAU"
      },
      "execution_count": 192,
      "outputs": []
    },
    {
      "cell_type": "code",
      "source": [
        "y_test_decoded = label_encoder.inverse_transform(y_test)"
      ],
      "metadata": {
        "id": "MKItJWD_7eAV"
      },
      "execution_count": 193,
      "outputs": []
    },
    {
      "cell_type": "code",
      "source": [
        "accuracy = accuracy_score(y_test_decoded, y_pred_decoded)\n",
        "print(f'Accuracy: {accuracy:.2f}')\n",
        "\n",
        "print(classification_report(y_test_decoded, y_pred_decoded))"
      ],
      "metadata": {
        "colab": {
          "base_uri": "https://localhost:8080/"
        },
        "outputId": "7fbed6e2-f970-4807-cfa8-08e691cb859e",
        "id": "oILGkyBD7eAV"
      },
      "execution_count": 194,
      "outputs": [
        {
          "output_type": "stream",
          "name": "stdout",
          "text": [
            "Accuracy: 1.00\n",
            "                            precision    recall  f1-score   support\n",
            "\n",
            "                    BENIGN       1.00      1.00      1.00     46562\n",
            "                       Bot       0.95      0.99      0.97       391\n",
            "                      DDoS       1.00      1.00      1.00     12873\n",
            "             DoS GoldenEye       1.00      1.00      1.00      2057\n",
            "                  DoS Hulk       1.00      1.00      1.00     17450\n",
            "          DoS Slowhttptest       1.00      1.00      1.00      1046\n",
            "             DoS slowloris       1.00      0.99      0.99      1077\n",
            "               FTP-Patator       1.00      1.00      1.00      1187\n",
            "                Heartbleed       1.00      1.00      1.00         2\n",
            "              Infiltration       1.00      0.71      0.83         7\n",
            "                  PortScan       1.00      1.00      1.00     11279\n",
            "               SSH-Patator       1.00      1.00      1.00       644\n",
            "  Web Attack � Brute Force       0.72      0.91      0.81       294\n",
            "Web Attack � Sql Injection       0.75      0.75      0.75         4\n",
            "          Web Attack � XSS       0.50      0.18      0.27       130\n",
            "\n",
            "                  accuracy                           1.00     95003\n",
            "                 macro avg       0.93      0.90      0.91     95003\n",
            "              weighted avg       1.00      1.00      1.00     95003\n",
            "\n"
          ]
        }
      ]
    },
    {
      "cell_type": "markdown",
      "source": [
        "Матрица ошибок:"
      ],
      "metadata": {
        "id": "MeX5RszulX-Y"
      }
    },
    {
      "cell_type": "code",
      "source": [
        "confusion = confusion_matrix(y_test_decoded, y_pred_decoded)\n",
        "disp = ConfusionMatrixDisplay(confusion_matrix=confusion)\n",
        "disp.plot(cmap=plt.cm.Blues)\n",
        "plt.title('Confusion Matrix')\n",
        "plt.show()"
      ],
      "metadata": {
        "colab": {
          "base_uri": "https://localhost:8080/",
          "height": 456
        },
        "id": "8wVr55yalLpS",
        "outputId": "f8aeef5d-3c0a-4f88-e420-b57eb16ecffa"
      },
      "execution_count": 195,
      "outputs": [
        {
          "output_type": "display_data",
          "data": {
            "text/plain": [
              "<Figure size 640x480 with 2 Axes>"
            ],
            "image/png": "[encoded data removed]"
          },
          "metadata": {}
        }
      ]
    },
    {
      "cell_type": "markdown",
      "source": [
        "Удалось улучшить метрики практически по всем классам, в базовой модели некоторые классы не могли быть определены, после выбора бустинговой модели и с учетом подбора гиперпараметров удалось определить все классы, но Web Attack � XSS  всё еще плохо определяется, из 130 экземпляров только 24 определено верно, 104 экземпляра определены как Web Attack � Brute Force, а 2 экземплярам присвоен лейбл нормального класса. Ошибка первого рода - когда угроза признана нормальным трафиком - встречается давольно часто, это оносится к следующим классам - Bot (3 экземпляра), DDoS (2 экземпляра), DoS Hulk (3 экземпляра), DoS Slowhttptest (1 экземпляр),  DoS slowloris (1 экземпляр), Infiltration (2 экземпляра), Web Attack � Brute Force (2 экземпляра), Web Attack � Sql Injection (1 экземпляр) и Web Attack � XSS (2 экземпляра).  "
      ],
      "metadata": {
        "id": "F5ffiPl7qf2H"
      }
    },
    {
      "cell_type": "markdown",
      "source": [
        "# Отчет по проекту:"
      ],
      "metadata": {
        "id": "rocK7xOHl6TQ"
      }
    },
    {
      "cell_type": "markdown",
      "source": [
        "*Задача проекта* - разработать модель, которая будет классифицировать трафик на нормальный и злонамеренный, включая следующие типы атак: DDoS, SQL-инъекции, брутфорс, вредоносные программы и т.д.\n",
        "\n",
        "В ходе проекта данные были загружены и исследованы. В датафрейме оказалось 78 признаков и 15 разновидностей трафика. Объем данных для исследования на мультиколленеарность и аномалии оказался слишком велик, при этом всего две компанеты оправдывают 90% дисперсии в данных.\n",
        "\n",
        "В ходе работы над проектом была *проведена первичная предобработка данных*:\n",
        "- обнаружены бесконечные значения и заменены на Nan\n",
        "- пропуски в данных, в том числе замененные бесконечные значения заполняем автоматически с помощью SimpleImputer(strategy='median')\n",
        "- все признаки в датасете числовые, выполняем стандартизацию StandardScaler()\n",
        "\n",
        "*Исследованы три модели*:\n",
        "- в качестве базовой модели была выбрана простая логистическа регрессия, модель определила верно 96% трафика.\n",
        "- также попробованы более сложные модели - бустинговые: XGBClassifier (точность модели - 1,00) и LGBMClassifier (точность модели - 0,68).\n",
        "В итоге была выбрана модель - XGBClassifier, поскольку модель является довольно легкой, то уменьшать размерность данных не понадобилось. При выборе более сложной модели, например catboost лучше предварительно выполнить РСА с количеством главных компанент = 2, что может значительно упростить работу модели.\n",
        "\n",
        "*Модель была улучшена с помощью подбора гиперпараметров*:\n",
        "\n",
        "**best_model = xgb.XGBClassifier(n_estimators = 335, learning_rate = 0.07772503452577982, max_depth=5, reg_alpha = 0.8804473627587581,  reg_lambda = 0.2693312272969641)**\n",
        "\n",
        "В итоге точность модели на кросс-валидации составила 0,9975. Ошибка первого рода - угроза признана нормальным трафиком - встречается давольно часто, это оносится к следующим классам - Bot (3 экземпляра), DDoS (2 экземпляра), DoS Hulk (3 экземпляра), DoS Slowhttptest (1 экземпляр),  DoS slowloris (1 экземпляр), Infiltration (2 экземпляра), Web Attack � Brute Force (2 экземпляра), Web Attack � Sql Injection (1 экземпляр) и Web Attack � XSS (2 экземпляра).\n",
        "\n",
        "**В результате работы были получены следующие файлы:**"
      ],
      "metadata": {
        "id": "ZMdllHj2uunV"
      }
    },
    {
      "cell_type": "code",
      "source": [
        "# Модель\n",
        "with open('model_for_web_attack.pkl', 'wb') as model_file:\n",
        "    pickle.dump(best_model, model_file)\n",
        "\n",
        "# Энкодер\n",
        "with open('encoder_for_web_attack.pkl', 'wb') as encoder_file:\n",
        "    pickle.dump(label_encoder, encoder_file)"
      ],
      "metadata": {
        "id": "HG4UoxcPl91f"
      },
      "execution_count": 198,
      "outputs": []
    },
    {
      "cell_type": "markdown",
      "source": [
        "**Полный пайплайн для обработки новых входящих данных:**\n",
        "\n",
        "- создаем пайплайн для предобработки данных"
      ],
      "metadata": {
        "id": "CpUSM7Du3kFw"
      }
    },
    {
      "cell_type": "code",
      "source": [
        "pipeline = Pipeline([\n",
        "    ('replace_inf', FunctionTransformer(lambda X: np.where(np.isinf(X), np.nan, X))),  # Замена бесконечных значений на NaN\n",
        "    ('scaler', StandardScaler()),  # Стандартизация данных\n",
        "    ('imputer', SimpleImputer(strategy='median'))  # Обработка пропусков с помощью медианных значений\n",
        "])"
      ],
      "metadata": {
        "id": "Ho63aTUR3dLQ"
      },
      "execution_count": 199,
      "outputs": []
    },
    {
      "cell_type": "markdown",
      "source": [
        "- преобразования новых данных\n",
        "\n",
        "new_data_processed = pipeline.fit_transform(new_data)\n",
        "\n",
        "- применение обученной модели\n",
        "\n",
        "predictions = best_model.predict(new_data_processed)"
      ],
      "metadata": {
        "id": "UhTmtUFs7MN-"
      }
    }
  ],
  "metadata": {
    "colab": {
      "toc_visible": true,
      "provenance": [],
      "authorship_tag": "ABX9TyMZR+Y+RDJCNKWdCvPmwc6G",
      "include_colab_link": true
    },
    "kernelspec": {
      "display_name": "Python 3",
      "name": "python3"
    },
    "language_info": {
      "name": "python"
    }
  },
  "nbformat": 4,
  "nbformat_minor": 0
}
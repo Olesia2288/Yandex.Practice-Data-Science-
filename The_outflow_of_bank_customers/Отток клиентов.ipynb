{
 "cells": [
  {
   "cell_type": "markdown",
   "metadata": {
    "toc": true
   },
   "source": [
    "<h1>Содержание<span class=\"tocSkip\"></span></h1>\n",
    "<div class=\"toc\"><ul class=\"toc-item\"><li><span><a href=\"#Подготовка-данных\" data-toc-modified-id=\"Подготовка-данных-1\"><span class=\"toc-item-num\">1&nbsp;&nbsp;</span>Подготовка данных</a></span><ul class=\"toc-item\"><li><span><a href=\"#Основные-сведения\" data-toc-modified-id=\"Основные-сведения-1.1\"><span class=\"toc-item-num\">1.1&nbsp;&nbsp;</span>Основные сведения</a></span></li><li><span><a href=\"#Обработка-пропусков-и-дубликатов\" data-toc-modified-id=\"Обработка-пропусков-и-дубликатов-1.2\"><span class=\"toc-item-num\">1.2&nbsp;&nbsp;</span>Обработка пропусков и дубликатов</a></span></li><li><span><a href=\"#Преобразование-датасета\" data-toc-modified-id=\"Преобразование-датасета-1.3\"><span class=\"toc-item-num\">1.3&nbsp;&nbsp;</span>Преобразование датасета</a></span></li><li><span><a href=\"#Разделение-на-признаки\" data-toc-modified-id=\"Разделение-на-признаки-1.4\"><span class=\"toc-item-num\">1.4&nbsp;&nbsp;</span>Разделение на признаки</a></span></li><li><span><a href=\"#Обучающая,-валидационная-и-тестовая-выборки\" data-toc-modified-id=\"Обучающая,-валидационная-и-тестовая-выборки-1.5\"><span class=\"toc-item-num\">1.5&nbsp;&nbsp;</span>Обучающая, валидационная и тестовая выборки</a></span></li><li><span><a href=\"#Преобразование-категориальных-данных-и-масштабирование:\" data-toc-modified-id=\"Преобразование-категориальных-данных-и-масштабирование:-1.6\"><span class=\"toc-item-num\">1.6&nbsp;&nbsp;</span>Преобразование категориальных данных и масштабирование:</a></span></li><li><span><a href=\"#Промежуточные-выводы\" data-toc-modified-id=\"Промежуточные-выводы-1.7\"><span class=\"toc-item-num\">1.7&nbsp;&nbsp;</span>Промежуточные выводы</a></span></li></ul></li><li><span><a href=\"#Исследование-задачи\" data-toc-modified-id=\"Исследование-задачи-2\"><span class=\"toc-item-num\">2&nbsp;&nbsp;</span>Исследование задачи</a></span><ul class=\"toc-item\"><li><span><a href=\"#Логическая-регрессия-(LogisticRegression)\" data-toc-modified-id=\"Логическая-регрессия-(LogisticRegression)-2.1\"><span class=\"toc-item-num\">2.1&nbsp;&nbsp;</span>Логическая регрессия (LogisticRegression)</a></span></li><li><span><a href=\"#Дерево-решений-(DecisionTreeClassifier)\" data-toc-modified-id=\"Дерево-решений-(DecisionTreeClassifier)-2.2\"><span class=\"toc-item-num\">2.2&nbsp;&nbsp;</span>Дерево решений (DecisionTreeClassifier)</a></span></li><li><span><a href=\"#Случайный-лес-(RandomForestClassifier)\" data-toc-modified-id=\"Случайный-лес-(RandomForestClassifier)-2.3\"><span class=\"toc-item-num\">2.3&nbsp;&nbsp;</span>Случайный лес (RandomForestClassifier)</a></span></li><li><span><a href=\"#Выбор-лучшей-модели\" data-toc-modified-id=\"Выбор-лучшей-модели-2.4\"><span class=\"toc-item-num\">2.4&nbsp;&nbsp;</span>Выбор лучшей модели</a></span></li><li><span><a href=\"#Анализ-модели\" data-toc-modified-id=\"Анализ-модели-2.5\"><span class=\"toc-item-num\">2.5&nbsp;&nbsp;</span>Анализ модели</a></span></li></ul></li><li><span><a href=\"#Борьба-с-дисбалансом\" data-toc-modified-id=\"Борьба-с-дисбалансом-3\"><span class=\"toc-item-num\">3&nbsp;&nbsp;</span>Борьба с дисбалансом</a></span><ul class=\"toc-item\"><li><span><a href=\"#Анализ-целевого-признака\" data-toc-modified-id=\"Анализ-целевого-признака-3.1\"><span class=\"toc-item-num\">3.1&nbsp;&nbsp;</span>Анализ целевого признака</a></span></li><li><span><a href=\"#Применение-техники-SMOTE\" data-toc-modified-id=\"Применение-техники-SMOTE-3.2\"><span class=\"toc-item-num\">3.2&nbsp;&nbsp;</span>Применение техники SMOTE</a></span></li><li><span><a href=\"#Применение-техники-RandomUnderSampler\" data-toc-modified-id=\"Применение-техники-RandomUnderSampler-3.3\"><span class=\"toc-item-num\">3.3&nbsp;&nbsp;</span>Применение техники RandomUnderSampler</a></span></li><li><span><a href=\"#Обучение-модели-на-сбалансированной-выборке-и-ее-анализ\" data-toc-modified-id=\"Обучение-модели-на-сбалансированной-выборке-и-ее-анализ-3.4\"><span class=\"toc-item-num\">3.4&nbsp;&nbsp;</span>Обучение модели на сбалансированной выборке и ее анализ</a></span></li><li><span><a href=\"#Улучшение-модели-с-помощью-подбора-гиперпараметров\" data-toc-modified-id=\"Улучшение-модели-с-помощью-подбора-гиперпараметров-3.5\"><span class=\"toc-item-num\">3.5&nbsp;&nbsp;</span>Улучшение модели с помощью подбора гиперпараметров</a></span></li><li><span><a href=\"#Промежуточные-выводы:\" data-toc-modified-id=\"Промежуточные-выводы:-3.6\"><span class=\"toc-item-num\">3.6&nbsp;&nbsp;</span>Промежуточные выводы:</a></span></li></ul></li><li><span><a href=\"#Тестирование-модели\" data-toc-modified-id=\"Тестирование-модели-4\"><span class=\"toc-item-num\">4&nbsp;&nbsp;</span>Тестирование модели</a></span><ul class=\"toc-item\"><li><span><a href=\"#Оценка-модели-на-тестовой-выборке\" data-toc-modified-id=\"Оценка-модели-на-тестовой-выборке-4.1\"><span class=\"toc-item-num\">4.1&nbsp;&nbsp;</span>Оценка модели на тестовой выборке</a></span></li><li><span><a href=\"#Важность-признаков.\" data-toc-modified-id=\"Важность-признаков.-4.2\"><span class=\"toc-item-num\">4.2&nbsp;&nbsp;</span>Важность признаков.</a></span><ul class=\"toc-item\"><li><span><a href=\"#Age\" data-toc-modified-id=\"Age-4.2.1\"><span class=\"toc-item-num\">4.2.1&nbsp;&nbsp;</span>Age</a></span></li><li><span><a href=\"#Num-of-products\" data-toc-modified-id=\"Num-of-products-4.2.2\"><span class=\"toc-item-num\">4.2.2&nbsp;&nbsp;</span>Num of products</a></span></li><li><span><a href=\"#Balance\" data-toc-modified-id=\"Balance-4.2.3\"><span class=\"toc-item-num\">4.2.3&nbsp;&nbsp;</span>Balance</a></span></li></ul></li></ul></li><li><span><a href=\"#Проверка-модели-на-адекватность\" data-toc-modified-id=\"Проверка-модели-на-адекватность-5\"><span class=\"toc-item-num\">5&nbsp;&nbsp;</span>Проверка модели на адекватность</a></span></li><li><span><a href=\"#Общий-вывод:\" data-toc-modified-id=\"Общий-вывод:-6\"><span class=\"toc-item-num\">6&nbsp;&nbsp;</span>Общий вывод:</a></span></li><li><span><a href=\"#Чек-лист-готовности-проекта\" data-toc-modified-id=\"Чек-лист-готовности-проекта-7\"><span class=\"toc-item-num\">7&nbsp;&nbsp;</span>Чек-лист готовности проекта</a></span></li></ul></div>"
   ]
  },
  {
   "cell_type": "code",
   "execution_count": 340,
   "metadata": {},
   "outputs": [
    {
     "name": "stdout",
     "output_type": "stream",
     "text": [
      "Requirement already satisfied: imblearn in c:\\users\\user\\anaconda3\\lib\\site-packages (0.0)\n",
      "Requirement already satisfied: imbalanced-learn in c:\\users\\user\\anaconda3\\lib\\site-packages (from imblearn) (0.10.1)\n",
      "Requirement already satisfied: scipy>=1.3.2 in c:\\users\\user\\anaconda3\\lib\\site-packages (from imbalanced-learn->imblearn) (1.9.1)\n",
      "Requirement already satisfied: threadpoolctl>=2.0.0 in c:\\users\\user\\anaconda3\\lib\\site-packages (from imbalanced-learn->imblearn) (2.2.0)\n",
      "Requirement already satisfied: scikit-learn>=1.0.2 in c:\\users\\user\\anaconda3\\lib\\site-packages (from imbalanced-learn->imblearn) (1.1.3)\n",
      "Requirement already satisfied: numpy>=1.17.3 in c:\\users\\user\\anaconda3\\lib\\site-packages (from imbalanced-learn->imblearn) (1.21.5)\n",
      "Requirement already satisfied: joblib>=1.1.1 in c:\\users\\user\\anaconda3\\lib\\site-packages (from imbalanced-learn->imblearn) (1.2.0)\n"
     ]
    }
   ],
   "source": [
    "!pip install imblearn"
   ]
  },
  {
   "cell_type": "code",
   "execution_count": 341,
   "metadata": {},
   "outputs": [
    {
     "name": "stdout",
     "output_type": "stream",
     "text": [
      "Requirement already satisfied: scikit-learn==1.1.3 in c:\\users\\user\\anaconda3\\lib\\site-packages (1.1.3)\n",
      "Requirement already satisfied: scipy>=1.3.2 in c:\\users\\user\\anaconda3\\lib\\site-packages (from scikit-learn==1.1.3) (1.9.1)\n",
      "Requirement already satisfied: joblib>=1.0.0 in c:\\users\\user\\anaconda3\\lib\\site-packages (from scikit-learn==1.1.3) (1.2.0)\n",
      "Requirement already satisfied: threadpoolctl>=2.0.0 in c:\\users\\user\\anaconda3\\lib\\site-packages (from scikit-learn==1.1.3) (2.2.0)\n",
      "Requirement already satisfied: numpy>=1.17.3 in c:\\users\\user\\anaconda3\\lib\\site-packages (from scikit-learn==1.1.3) (1.21.5)\n"
     ]
    }
   ],
   "source": [
    "!pip install scikit-learn==1.1.3"
   ]
  },
  {
   "cell_type": "code",
   "execution_count": 342,
   "metadata": {},
   "outputs": [],
   "source": [
    "# импорты из стандартной библиотеки\n",
    "import warnings\n",
    "# импорты сторонних библиотек\n",
    "import numpy as np \n",
    "import pandas as pd \n",
    "import matplotlib.pyplot as plt\n",
    "import seaborn as sns\n",
    "\n",
    "#разделение данных\n",
    "from sklearn.model_selection import train_test_split\n",
    "#стандартизация данных и техника ОНЕ\n",
    "from sklearn.preprocessing import (\n",
    "    OneHotEncoder,\n",
    "    OrdinalEncoder,\n",
    "    StandardScaler\n",
    ")\n",
    "\n",
    "#модели\n",
    "from sklearn.tree import DecisionTreeClassifier\n",
    "from sklearn.ensemble import RandomForestClassifier\n",
    "from sklearn.linear_model import (LogisticRegression, Ridge)\n",
    "#константная модел\n",
    "from sklearn.dummy import DummyClassifier\n",
    "#для балансировки модели\n",
    "from imblearn.over_sampling import SMOTE \n",
    "from imblearn.under_sampling import RandomUnderSampler\n",
    "#перемешать данные\n",
    "from sklearn.utils import shuffle\n",
    "\n",
    "\n",
    "from sklearn.metrics import (confusion_matrix, #матрица ошибок\n",
    "                             recall_score, #полнота \n",
    "                             precision_score, #точность\n",
    "                             f1_score, #F-1 мера\n",
    "                             roc_auc_score, #AUC-ROC\n",
    "                             roc_curve, #ROC-кривая\n",
    "                             accuracy_score) #оценка для сбалансированной выборки\n",
    "                             \n",
    "\n",
    "#для перебора параметров\n",
    "from itertools import product\n",
    "import tqdm\n",
    "\n",
    "\n",
    "# настройки\n",
    "warnings.filterwarnings(\"ignore\")"
   ]
  },
  {
   "cell_type": "markdown",
   "metadata": {},
   "source": [
    "## Подготовка данных"
   ]
  },
  {
   "cell_type": "markdown",
   "metadata": {},
   "source": [
    "### Основные сведения"
   ]
  },
  {
   "cell_type": "code",
   "execution_count": 343,
   "metadata": {},
   "outputs": [
    {
     "data": {
      "text/html": [
       "<div>\n",
       "<style scoped>\n",
       "    .dataframe tbody tr th:only-of-type {\n",
       "        vertical-align: middle;\n",
       "    }\n",
       "\n",
       "    .dataframe tbody tr th {\n",
       "        vertical-align: top;\n",
       "    }\n",
       "\n",
       "    .dataframe thead th {\n",
       "        text-align: right;\n",
       "    }\n",
       "</style>\n",
       "<table border=\"1\" class=\"dataframe\">\n",
       "  <thead>\n",
       "    <tr style=\"text-align: right;\">\n",
       "      <th></th>\n",
       "      <th>RowNumber</th>\n",
       "      <th>CustomerId</th>\n",
       "      <th>Surname</th>\n",
       "      <th>CreditScore</th>\n",
       "      <th>Geography</th>\n",
       "      <th>Gender</th>\n",
       "      <th>Age</th>\n",
       "      <th>Tenure</th>\n",
       "      <th>Balance</th>\n",
       "      <th>NumOfProducts</th>\n",
       "      <th>HasCrCard</th>\n",
       "      <th>IsActiveMember</th>\n",
       "      <th>EstimatedSalary</th>\n",
       "      <th>Exited</th>\n",
       "    </tr>\n",
       "  </thead>\n",
       "  <tbody>\n",
       "    <tr>\n",
       "      <th>0</th>\n",
       "      <td>1</td>\n",
       "      <td>15634602</td>\n",
       "      <td>Hargrave</td>\n",
       "      <td>619</td>\n",
       "      <td>France</td>\n",
       "      <td>Female</td>\n",
       "      <td>42</td>\n",
       "      <td>2.0</td>\n",
       "      <td>0.00</td>\n",
       "      <td>1</td>\n",
       "      <td>1</td>\n",
       "      <td>1</td>\n",
       "      <td>101348.88</td>\n",
       "      <td>1</td>\n",
       "    </tr>\n",
       "    <tr>\n",
       "      <th>1</th>\n",
       "      <td>2</td>\n",
       "      <td>15647311</td>\n",
       "      <td>Hill</td>\n",
       "      <td>608</td>\n",
       "      <td>Spain</td>\n",
       "      <td>Female</td>\n",
       "      <td>41</td>\n",
       "      <td>1.0</td>\n",
       "      <td>83807.86</td>\n",
       "      <td>1</td>\n",
       "      <td>0</td>\n",
       "      <td>1</td>\n",
       "      <td>112542.58</td>\n",
       "      <td>0</td>\n",
       "    </tr>\n",
       "    <tr>\n",
       "      <th>2</th>\n",
       "      <td>3</td>\n",
       "      <td>15619304</td>\n",
       "      <td>Onio</td>\n",
       "      <td>502</td>\n",
       "      <td>France</td>\n",
       "      <td>Female</td>\n",
       "      <td>42</td>\n",
       "      <td>8.0</td>\n",
       "      <td>159660.80</td>\n",
       "      <td>3</td>\n",
       "      <td>1</td>\n",
       "      <td>0</td>\n",
       "      <td>113931.57</td>\n",
       "      <td>1</td>\n",
       "    </tr>\n",
       "    <tr>\n",
       "      <th>3</th>\n",
       "      <td>4</td>\n",
       "      <td>15701354</td>\n",
       "      <td>Boni</td>\n",
       "      <td>699</td>\n",
       "      <td>France</td>\n",
       "      <td>Female</td>\n",
       "      <td>39</td>\n",
       "      <td>1.0</td>\n",
       "      <td>0.00</td>\n",
       "      <td>2</td>\n",
       "      <td>0</td>\n",
       "      <td>0</td>\n",
       "      <td>93826.63</td>\n",
       "      <td>0</td>\n",
       "    </tr>\n",
       "    <tr>\n",
       "      <th>4</th>\n",
       "      <td>5</td>\n",
       "      <td>15737888</td>\n",
       "      <td>Mitchell</td>\n",
       "      <td>850</td>\n",
       "      <td>Spain</td>\n",
       "      <td>Female</td>\n",
       "      <td>43</td>\n",
       "      <td>2.0</td>\n",
       "      <td>125510.82</td>\n",
       "      <td>1</td>\n",
       "      <td>1</td>\n",
       "      <td>1</td>\n",
       "      <td>79084.10</td>\n",
       "      <td>0</td>\n",
       "    </tr>\n",
       "  </tbody>\n",
       "</table>\n",
       "</div>"
      ],
      "text/plain": [
       "   RowNumber  CustomerId   Surname  CreditScore Geography  Gender  Age  \\\n",
       "0          1    15634602  Hargrave          619    France  Female   42   \n",
       "1          2    15647311      Hill          608     Spain  Female   41   \n",
       "2          3    15619304      Onio          502    France  Female   42   \n",
       "3          4    15701354      Boni          699    France  Female   39   \n",
       "4          5    15737888  Mitchell          850     Spain  Female   43   \n",
       "\n",
       "   Tenure    Balance  NumOfProducts  HasCrCard  IsActiveMember  \\\n",
       "0     2.0       0.00              1          1               1   \n",
       "1     1.0   83807.86              1          0               1   \n",
       "2     8.0  159660.80              3          1               0   \n",
       "3     1.0       0.00              2          0               0   \n",
       "4     2.0  125510.82              1          1               1   \n",
       "\n",
       "   EstimatedSalary  Exited  \n",
       "0        101348.88       1  \n",
       "1        112542.58       0  \n",
       "2        113931.57       1  \n",
       "3         93826.63       0  \n",
       "4         79084.10       0  "
      ]
     },
     "execution_count": 343,
     "metadata": {},
     "output_type": "execute_result"
    }
   ],
   "source": [
    "df = pd.read_csv('datasets/Churn.csv')\n",
    "df.head()"
   ]
  },
  {
   "cell_type": "markdown",
   "metadata": {},
   "source": [
    "Признаки:\n",
    "- RowNumber — индекс строки в данных\n",
    "- CustomerId — уникальный идентификатор клиента\n",
    "- Surname — фамилия\n",
    "- CreditScore — кредитный рейтинг\n",
    "- Geography — страна проживания\n",
    "- Gender — пол\n",
    "- Age — возраст\n",
    "- Tenure — сколько лет человек является клиентом банка\n",
    "- Balance — баланс на счёте\n",
    "- NumOfProducts — количество продуктов банка, используемых клиентом\n",
    "- HasCrCard — наличие кредитной карты\n",
    "- IsActiveMember — активность клиента\n",
    "- EstimatedSalary — предполагаемая зарплата\n",
    "\n",
    "Целевой признак:\n",
    "- Exited — факт ухода клиента"
   ]
  },
  {
   "cell_type": "code",
   "execution_count": 344,
   "metadata": {},
   "outputs": [
    {
     "name": "stdout",
     "output_type": "stream",
     "text": [
      "<class 'pandas.core.frame.DataFrame'>\n",
      "RangeIndex: 10000 entries, 0 to 9999\n",
      "Data columns (total 14 columns):\n",
      " #   Column           Non-Null Count  Dtype  \n",
      "---  ------           --------------  -----  \n",
      " 0   RowNumber        10000 non-null  int64  \n",
      " 1   CustomerId       10000 non-null  int64  \n",
      " 2   Surname          10000 non-null  object \n",
      " 3   CreditScore      10000 non-null  int64  \n",
      " 4   Geography        10000 non-null  object \n",
      " 5   Gender           10000 non-null  object \n",
      " 6   Age              10000 non-null  int64  \n",
      " 7   Tenure           9091 non-null   float64\n",
      " 8   Balance          10000 non-null  float64\n",
      " 9   NumOfProducts    10000 non-null  int64  \n",
      " 10  HasCrCard        10000 non-null  int64  \n",
      " 11  IsActiveMember   10000 non-null  int64  \n",
      " 12  EstimatedSalary  10000 non-null  float64\n",
      " 13  Exited           10000 non-null  int64  \n",
      "dtypes: float64(3), int64(8), object(3)\n",
      "memory usage: 1.1+ MB\n"
     ]
    }
   ],
   "source": [
    "df.info()"
   ]
  },
  {
   "cell_type": "markdown",
   "metadata": {},
   "source": [
    "Всего в таблице 10000 строк, но есть пропуски в столбце Tenure. Также мы видим в таблице три столбца с типом данных объект - Surname,  Geography, Gender. Два последних являются категориальными."
   ]
  },
  {
   "cell_type": "markdown",
   "metadata": {},
   "source": [
    "### Обработка пропусков и дубликатов"
   ]
  },
  {
   "cell_type": "code",
   "execution_count": 345,
   "metadata": {},
   "outputs": [
    {
     "data": {
      "text/plain": [
       "RowNumber          0.0000\n",
       "CustomerId         0.0000\n",
       "Surname            0.0000\n",
       "CreditScore        0.0000\n",
       "Geography          0.0000\n",
       "Gender             0.0000\n",
       "Age                0.0000\n",
       "Tenure             0.0909\n",
       "Balance            0.0000\n",
       "NumOfProducts      0.0000\n",
       "HasCrCard          0.0000\n",
       "IsActiveMember     0.0000\n",
       "EstimatedSalary    0.0000\n",
       "Exited             0.0000\n",
       "dtype: float64"
      ]
     },
     "execution_count": 345,
     "metadata": {},
     "output_type": "execute_result"
    }
   ],
   "source": [
    "df.isna().mean()"
   ]
  },
  {
   "cell_type": "markdown",
   "metadata": {},
   "source": [
    "Проверка на пропуски подтвердила, что 9% данных пропущены в столбце Tenure — сколько лет человек является клиентом банка. Чтоб не удалять эти строки, заполним их медианным значением Tenure:"
   ]
  },
  {
   "cell_type": "code",
   "execution_count": 346,
   "metadata": {},
   "outputs": [],
   "source": [
    "df['Tenure'] = df['Tenure'].fillna(df['Tenure'].median())"
   ]
  },
  {
   "cell_type": "code",
   "execution_count": 347,
   "metadata": {},
   "outputs": [
    {
     "data": {
      "text/plain": [
       "RowNumber          0.0\n",
       "CustomerId         0.0\n",
       "Surname            0.0\n",
       "CreditScore        0.0\n",
       "Geography          0.0\n",
       "Gender             0.0\n",
       "Age                0.0\n",
       "Tenure             0.0\n",
       "Balance            0.0\n",
       "NumOfProducts      0.0\n",
       "HasCrCard          0.0\n",
       "IsActiveMember     0.0\n",
       "EstimatedSalary    0.0\n",
       "Exited             0.0\n",
       "dtype: float64"
      ]
     },
     "execution_count": 347,
     "metadata": {},
     "output_type": "execute_result"
    }
   ],
   "source": [
    "df.isna().mean()"
   ]
  },
  {
   "cell_type": "markdown",
   "metadata": {},
   "source": [
    "Пропуски в данных устранены. Проверим на явные дубликаты:"
   ]
  },
  {
   "cell_type": "code",
   "execution_count": 348,
   "metadata": {},
   "outputs": [
    {
     "data": {
      "text/plain": [
       "0"
      ]
     },
     "execution_count": 348,
     "metadata": {},
     "output_type": "execute_result"
    }
   ],
   "source": [
    "df.duplicated().sum()"
   ]
  },
  {
   "cell_type": "markdown",
   "metadata": {},
   "source": [
    "### Преобразование датасета"
   ]
  },
  {
   "cell_type": "markdown",
   "metadata": {},
   "source": [
    "Для удобства преобразуем названия столбцов в привычный python стиль:"
   ]
  },
  {
   "cell_type": "code",
   "execution_count": 349,
   "metadata": {},
   "outputs": [],
   "source": [
    "df.columns = df.columns.str.lower()"
   ]
  },
  {
   "cell_type": "code",
   "execution_count": 350,
   "metadata": {},
   "outputs": [
    {
     "data": {
      "text/plain": [
       "Index(['rownumber', 'customerid', 'surname', 'creditscore', 'geography',\n",
       "       'gender', 'age', 'tenure', 'balance', 'numofproducts', 'hascrcard',\n",
       "       'isactivemember', 'estimatedsalary', 'exited'],\n",
       "      dtype='object')"
      ]
     },
     "execution_count": 350,
     "metadata": {},
     "output_type": "execute_result"
    }
   ],
   "source": [
    "df.columns"
   ]
  },
  {
   "cell_type": "code",
   "execution_count": 351,
   "metadata": {},
   "outputs": [],
   "source": [
    "df = df.rename(columns = {'rownumber':'row_number', 'customerid':'customer_id',\n",
    "                          'creditscore':'credit_score', 'numofproducts':'num_of_products', \n",
    "                          'hascrcard':'has_cr_card', 'isactivemember':'is_active_member', \n",
    "                          'estimatedsalary':'estimated_salary'})"
   ]
  },
  {
   "cell_type": "code",
   "execution_count": 352,
   "metadata": {},
   "outputs": [
    {
     "data": {
      "text/html": [
       "<div>\n",
       "<style scoped>\n",
       "    .dataframe tbody tr th:only-of-type {\n",
       "        vertical-align: middle;\n",
       "    }\n",
       "\n",
       "    .dataframe tbody tr th {\n",
       "        vertical-align: top;\n",
       "    }\n",
       "\n",
       "    .dataframe thead th {\n",
       "        text-align: right;\n",
       "    }\n",
       "</style>\n",
       "<table border=\"1\" class=\"dataframe\">\n",
       "  <thead>\n",
       "    <tr style=\"text-align: right;\">\n",
       "      <th></th>\n",
       "      <th>row_number</th>\n",
       "      <th>customer_id</th>\n",
       "      <th>surname</th>\n",
       "      <th>credit_score</th>\n",
       "      <th>geography</th>\n",
       "      <th>gender</th>\n",
       "      <th>age</th>\n",
       "      <th>tenure</th>\n",
       "      <th>balance</th>\n",
       "      <th>num_of_products</th>\n",
       "      <th>has_cr_card</th>\n",
       "      <th>is_active_member</th>\n",
       "      <th>estimated_salary</th>\n",
       "      <th>exited</th>\n",
       "    </tr>\n",
       "  </thead>\n",
       "  <tbody>\n",
       "    <tr>\n",
       "      <th>0</th>\n",
       "      <td>1</td>\n",
       "      <td>15634602</td>\n",
       "      <td>Hargrave</td>\n",
       "      <td>619</td>\n",
       "      <td>France</td>\n",
       "      <td>Female</td>\n",
       "      <td>42</td>\n",
       "      <td>2.0</td>\n",
       "      <td>0.00</td>\n",
       "      <td>1</td>\n",
       "      <td>1</td>\n",
       "      <td>1</td>\n",
       "      <td>101348.88</td>\n",
       "      <td>1</td>\n",
       "    </tr>\n",
       "    <tr>\n",
       "      <th>1</th>\n",
       "      <td>2</td>\n",
       "      <td>15647311</td>\n",
       "      <td>Hill</td>\n",
       "      <td>608</td>\n",
       "      <td>Spain</td>\n",
       "      <td>Female</td>\n",
       "      <td>41</td>\n",
       "      <td>1.0</td>\n",
       "      <td>83807.86</td>\n",
       "      <td>1</td>\n",
       "      <td>0</td>\n",
       "      <td>1</td>\n",
       "      <td>112542.58</td>\n",
       "      <td>0</td>\n",
       "    </tr>\n",
       "    <tr>\n",
       "      <th>2</th>\n",
       "      <td>3</td>\n",
       "      <td>15619304</td>\n",
       "      <td>Onio</td>\n",
       "      <td>502</td>\n",
       "      <td>France</td>\n",
       "      <td>Female</td>\n",
       "      <td>42</td>\n",
       "      <td>8.0</td>\n",
       "      <td>159660.80</td>\n",
       "      <td>3</td>\n",
       "      <td>1</td>\n",
       "      <td>0</td>\n",
       "      <td>113931.57</td>\n",
       "      <td>1</td>\n",
       "    </tr>\n",
       "    <tr>\n",
       "      <th>3</th>\n",
       "      <td>4</td>\n",
       "      <td>15701354</td>\n",
       "      <td>Boni</td>\n",
       "      <td>699</td>\n",
       "      <td>France</td>\n",
       "      <td>Female</td>\n",
       "      <td>39</td>\n",
       "      <td>1.0</td>\n",
       "      <td>0.00</td>\n",
       "      <td>2</td>\n",
       "      <td>0</td>\n",
       "      <td>0</td>\n",
       "      <td>93826.63</td>\n",
       "      <td>0</td>\n",
       "    </tr>\n",
       "    <tr>\n",
       "      <th>4</th>\n",
       "      <td>5</td>\n",
       "      <td>15737888</td>\n",
       "      <td>Mitchell</td>\n",
       "      <td>850</td>\n",
       "      <td>Spain</td>\n",
       "      <td>Female</td>\n",
       "      <td>43</td>\n",
       "      <td>2.0</td>\n",
       "      <td>125510.82</td>\n",
       "      <td>1</td>\n",
       "      <td>1</td>\n",
       "      <td>1</td>\n",
       "      <td>79084.10</td>\n",
       "      <td>0</td>\n",
       "    </tr>\n",
       "  </tbody>\n",
       "</table>\n",
       "</div>"
      ],
      "text/plain": [
       "   row_number  customer_id   surname  credit_score geography  gender  age  \\\n",
       "0           1     15634602  Hargrave           619    France  Female   42   \n",
       "1           2     15647311      Hill           608     Spain  Female   41   \n",
       "2           3     15619304      Onio           502    France  Female   42   \n",
       "3           4     15701354      Boni           699    France  Female   39   \n",
       "4           5     15737888  Mitchell           850     Spain  Female   43   \n",
       "\n",
       "   tenure    balance  num_of_products  has_cr_card  is_active_member  \\\n",
       "0     2.0       0.00                1            1                 1   \n",
       "1     1.0   83807.86                1            0                 1   \n",
       "2     8.0  159660.80                3            1                 0   \n",
       "3     1.0       0.00                2            0                 0   \n",
       "4     2.0  125510.82                1            1                 1   \n",
       "\n",
       "   estimated_salary  exited  \n",
       "0         101348.88       1  \n",
       "1         112542.58       0  \n",
       "2         113931.57       1  \n",
       "3          93826.63       0  \n",
       "4          79084.10       0  "
      ]
     },
     "execution_count": 352,
     "metadata": {},
     "output_type": "execute_result"
    }
   ],
   "source": [
    "df.head()"
   ]
  },
  {
   "cell_type": "markdown",
   "metadata": {},
   "source": [
    "В датасете мы видим три столбца, которые нам не пригодится в дальнейшем. Это row_number который повторяет индекс строки, customer_id - уникальный номер клиента и surname - фамилия клиента. Такие признаки не могут как то повлиять на факт ухода клиента. Удалим эти столбцы:"
   ]
  },
  {
   "cell_type": "code",
   "execution_count": 353,
   "metadata": {},
   "outputs": [],
   "source": [
    "df = df.drop(['customer_id', 'row_number', 'surname'], axis = 1)"
   ]
  },
  {
   "cell_type": "markdown",
   "metadata": {},
   "source": [
    "### Разделение на признаки"
   ]
  },
  {
   "cell_type": "markdown",
   "metadata": {},
   "source": [
    "Разделим признаки на **y** - целевой признак (ушел клиент или остался) и **x** - остальные признаки (фичи), на которых модель будет учится определять покинет клиент банк или нет."
   ]
  },
  {
   "cell_type": "code",
   "execution_count": 354,
   "metadata": {},
   "outputs": [
    {
     "data": {
      "text/plain": [
       "Index(['credit_score', 'geography', 'gender', 'age', 'tenure', 'balance',\n",
       "       'num_of_products', 'has_cr_card', 'is_active_member',\n",
       "       'estimated_salary', 'exited'],\n",
       "      dtype='object')"
      ]
     },
     "execution_count": 354,
     "metadata": {},
     "output_type": "execute_result"
    }
   ],
   "source": [
    "df.columns"
   ]
  },
  {
   "cell_type": "code",
   "execution_count": 355,
   "metadata": {},
   "outputs": [],
   "source": [
    "x = df.drop('exited', axis=1)\n",
    "y = df['exited']"
   ]
  },
  {
   "cell_type": "markdown",
   "metadata": {},
   "source": [
    "### Обучающая, валидационная и тестовая выборки"
   ]
  },
  {
   "cell_type": "markdown",
   "metadata": {},
   "source": [
    "Теперь когда определены фичи и основной признак, разделим датасет на train - обучающую выборку, val - валидационную выборку, на которой мы будем оценивать качество модели и test - выборку для конечного тестирования модели в следующем порядке:"
   ]
  },
  {
   "cell_type": "markdown",
   "metadata": {},
   "source": [
    "- обучающая: 60% от всех данных; \n",
    "- валидационная: 20%;\n",
    "- тестовая: 20%.\n",
    "\n",
    "Для равномерного распределения целевого признака используем стратификацию."
   ]
  },
  {
   "cell_type": "code",
   "execution_count": 356,
   "metadata": {},
   "outputs": [],
   "source": [
    "train_x, test_x, train_y, test_y = train_test_split(x, y, train_size=0.6, random_state=42, stratify=y)"
   ]
  },
  {
   "cell_type": "code",
   "execution_count": 357,
   "metadata": {},
   "outputs": [],
   "source": [
    "val_x, test_x, val_y, test_y = train_test_split(test_x, test_y, train_size=0.5, random_state=42, stratify=test_y)"
   ]
  },
  {
   "cell_type": "markdown",
   "metadata": {},
   "source": [
    "Посмотрим на размеры получившихся выборок и как в них распределен целевой признак:"
   ]
  },
  {
   "cell_type": "code",
   "execution_count": 358,
   "metadata": {},
   "outputs": [
    {
     "name": "stdout",
     "output_type": "stream",
     "text": [
      "0.20366666666666666\n",
      "0.204\n",
      "0.2035\n"
     ]
    }
   ],
   "source": [
    "row = [train_y, val_y, test_y]\n",
    "for i in row:\n",
    "    print(i.mean())    "
   ]
  },
  {
   "cell_type": "markdown",
   "metadata": {},
   "source": [
    "Доля ушедших клиентов (1-ый класс) во всех трех выборках приблизительно равна 20,4%. Распределение равномерное."
   ]
  },
  {
   "cell_type": "code",
   "execution_count": 359,
   "metadata": {},
   "outputs": [
    {
     "name": "stdout",
     "output_type": "stream",
     "text": [
      "Размеры обучающей выборки: (6000, 10) и (6000,) Размеры валидационной выборки: (2000, 10) и (2000,) Размеры тестовой выборки: (2000, 10) и (2000,)\n"
     ]
    }
   ],
   "source": [
    "print('Размеры обучающей выборки:', train_x.shape, 'и', train_y.shape,\n",
    "      'Размеры валидационной выборки:', val_x.shape, 'и', val_y.shape,\n",
    "      'Размеры тестовой выборки:',  test_x.shape, 'и', test_y.shape)"
   ]
  },
  {
   "cell_type": "markdown",
   "metadata": {},
   "source": [
    "### Преобразование категориальных данных и масштабирование:"
   ]
  },
  {
   "cell_type": "markdown",
   "metadata": {},
   "source": [
    "Также для дальнейшего построения модели необходимо перевести категориальные столбцы в количественные."
   ]
  },
  {
   "cell_type": "markdown",
   "metadata": {},
   "source": [
    "Определим категориальные признаки:"
   ]
  },
  {
   "cell_type": "code",
   "execution_count": 360,
   "metadata": {},
   "outputs": [
    {
     "data": {
      "text/plain": [
       "['geography', 'gender']"
      ]
     },
     "execution_count": 360,
     "metadata": {},
     "output_type": "execute_result"
    }
   ],
   "source": [
    "ohe_features_ridge = train_x.select_dtypes(include='object').columns.to_list()\n",
    "ohe_features_ridge"
   ]
  },
  {
   "cell_type": "markdown",
   "metadata": {},
   "source": [
    "Также в нашем датасете у числовых признаков разный масштаб, перед началом обучения их нужно стандатизировать. Для этого создадим список num_features для фиксации числовых признаков:"
   ]
  },
  {
   "cell_type": "code",
   "execution_count": 361,
   "metadata": {},
   "outputs": [
    {
     "data": {
      "text/plain": [
       "['credit_score',\n",
       " 'age',\n",
       " 'tenure',\n",
       " 'balance',\n",
       " 'num_of_products',\n",
       " 'has_cr_card',\n",
       " 'is_active_member',\n",
       " 'estimated_salary']"
      ]
     },
     "execution_count": 361,
     "metadata": {},
     "output_type": "execute_result"
    }
   ],
   "source": [
    "num_features = train_x.select_dtypes(exclude='object').columns.to_list()\n",
    "num_features"
   ]
  },
  {
   "cell_type": "code",
   "execution_count": 362,
   "metadata": {},
   "outputs": [],
   "source": [
    "train_x_ridge = train_x.copy()\n",
    "test_x_ridge = test_x.copy()\n",
    "val_x_ridge = val_x.copy()"
   ]
  },
  {
   "cell_type": "code",
   "execution_count": 363,
   "metadata": {},
   "outputs": [
    {
     "data": {
      "text/html": [
       "<div>\n",
       "<style scoped>\n",
       "    .dataframe tbody tr th:only-of-type {\n",
       "        vertical-align: middle;\n",
       "    }\n",
       "\n",
       "    .dataframe tbody tr th {\n",
       "        vertical-align: top;\n",
       "    }\n",
       "\n",
       "    .dataframe thead th {\n",
       "        text-align: right;\n",
       "    }\n",
       "</style>\n",
       "<table border=\"1\" class=\"dataframe\">\n",
       "  <thead>\n",
       "    <tr style=\"text-align: right;\">\n",
       "      <th></th>\n",
       "      <th>credit_score</th>\n",
       "      <th>age</th>\n",
       "      <th>tenure</th>\n",
       "      <th>balance</th>\n",
       "      <th>num_of_products</th>\n",
       "      <th>has_cr_card</th>\n",
       "      <th>is_active_member</th>\n",
       "      <th>estimated_salary</th>\n",
       "      <th>geography_Germany</th>\n",
       "      <th>geography_Spain</th>\n",
       "      <th>gender_Male</th>\n",
       "    </tr>\n",
       "  </thead>\n",
       "  <tbody>\n",
       "    <tr>\n",
       "      <th>6851</th>\n",
       "      <td>-1.283897</td>\n",
       "      <td>0.008566</td>\n",
       "      <td>1.449637</td>\n",
       "      <td>0.330105</td>\n",
       "      <td>0.783996</td>\n",
       "      <td>0.640913</td>\n",
       "      <td>-1.033563</td>\n",
       "      <td>-0.084061</td>\n",
       "      <td>1.0</td>\n",
       "      <td>0.0</td>\n",
       "      <td>0.0</td>\n",
       "    </tr>\n",
       "    <tr>\n",
       "      <th>7026</th>\n",
       "      <td>0.271537</td>\n",
       "      <td>-1.139895</td>\n",
       "      <td>-0.001572</td>\n",
       "      <td>-1.220584</td>\n",
       "      <td>0.783996</td>\n",
       "      <td>-1.560275</td>\n",
       "      <td>0.967527</td>\n",
       "      <td>0.264021</td>\n",
       "      <td>0.0</td>\n",
       "      <td>0.0</td>\n",
       "      <td>0.0</td>\n",
       "    </tr>\n",
       "    <tr>\n",
       "      <th>5705</th>\n",
       "      <td>-0.236571</td>\n",
       "      <td>0.104271</td>\n",
       "      <td>-0.001572</td>\n",
       "      <td>1.692794</td>\n",
       "      <td>0.783996</td>\n",
       "      <td>0.640913</td>\n",
       "      <td>0.967527</td>\n",
       "      <td>0.515344</td>\n",
       "      <td>1.0</td>\n",
       "      <td>0.0</td>\n",
       "      <td>1.0</td>\n",
       "    </tr>\n",
       "    <tr>\n",
       "      <th>9058</th>\n",
       "      <td>-1.874962</td>\n",
       "      <td>0.869911</td>\n",
       "      <td>-0.001572</td>\n",
       "      <td>1.032566</td>\n",
       "      <td>-0.919109</td>\n",
       "      <td>0.640913</td>\n",
       "      <td>0.967527</td>\n",
       "      <td>0.303842</td>\n",
       "      <td>0.0</td>\n",
       "      <td>1.0</td>\n",
       "      <td>0.0</td>\n",
       "    </tr>\n",
       "    <tr>\n",
       "      <th>9415</th>\n",
       "      <td>1.215167</td>\n",
       "      <td>0.391386</td>\n",
       "      <td>-1.089979</td>\n",
       "      <td>0.851257</td>\n",
       "      <td>0.783996</td>\n",
       "      <td>-1.560275</td>\n",
       "      <td>-1.033563</td>\n",
       "      <td>-1.400817</td>\n",
       "      <td>1.0</td>\n",
       "      <td>0.0</td>\n",
       "      <td>0.0</td>\n",
       "    </tr>\n",
       "  </tbody>\n",
       "</table>\n",
       "</div>"
      ],
      "text/plain": [
       "      credit_score       age    tenure   balance  num_of_products  \\\n",
       "6851     -1.283897  0.008566  1.449637  0.330105         0.783996   \n",
       "7026      0.271537 -1.139895 -0.001572 -1.220584         0.783996   \n",
       "5705     -0.236571  0.104271 -0.001572  1.692794         0.783996   \n",
       "9058     -1.874962  0.869911 -0.001572  1.032566        -0.919109   \n",
       "9415      1.215167  0.391386 -1.089979  0.851257         0.783996   \n",
       "\n",
       "      has_cr_card  is_active_member  estimated_salary  geography_Germany  \\\n",
       "6851     0.640913         -1.033563         -0.084061                1.0   \n",
       "7026    -1.560275          0.967527          0.264021                0.0   \n",
       "5705     0.640913          0.967527          0.515344                1.0   \n",
       "9058     0.640913          0.967527          0.303842                0.0   \n",
       "9415    -1.560275         -1.033563         -1.400817                1.0   \n",
       "\n",
       "      geography_Spain  gender_Male  \n",
       "6851              0.0          0.0  \n",
       "7026              0.0          0.0  \n",
       "5705              0.0          1.0  \n",
       "9058              1.0          0.0  \n",
       "9415              0.0          0.0  "
      ]
     },
     "execution_count": 363,
     "metadata": {},
     "output_type": "execute_result"
    }
   ],
   "source": [
    "# drop='first' удаляет первый признак из закодированных:\n",
    "# таким образом обходим dummy-ловушку\n",
    "# задаём handle_unknown='ignore':\n",
    "# игнорируется ранее невстречающиеся значения признака (при transform)\n",
    "encoder_ohe = OneHotEncoder(drop='first', handle_unknown='ignore', sparse=False)\n",
    "\n",
    "# обучаем энкодер на заданных категориальных признаках тренировочной выборки\n",
    "encoder_ohe.fit(train_x_ridge[ohe_features_ridge])\n",
    "\n",
    "# добавляем закодированные признаки в X_train_ohe\n",
    "# encoder_ohe.get_feature_names_out() позволяет получить названия колонок\n",
    "train_x_ridge[encoder_ohe.get_feature_names_out()] = encoder_ohe.transform(train_x_ridge[ohe_features_ridge])\n",
    "\n",
    "# удаляем незакодированные категориальные признаки (изначальные колонки)\n",
    "train_x_ridge = train_x_ridge.drop(ohe_features_ridge, axis=1)\n",
    "\n",
    "# создаём скелер\n",
    "scaler = StandardScaler()\n",
    "\n",
    "# обучаем его на численных признаках тренировочной выборки, трансформируем её же\n",
    "train_x_ridge[num_features] = scaler.fit_transform(train_x_ridge[num_features])\n",
    "\n",
    "# смотрим на результат\n",
    "train_x_ridge.head()"
   ]
  },
  {
   "cell_type": "code",
   "execution_count": 364,
   "metadata": {},
   "outputs": [
    {
     "data": {
      "text/html": [
       "<div>\n",
       "<style scoped>\n",
       "    .dataframe tbody tr th:only-of-type {\n",
       "        vertical-align: middle;\n",
       "    }\n",
       "\n",
       "    .dataframe tbody tr th {\n",
       "        vertical-align: top;\n",
       "    }\n",
       "\n",
       "    .dataframe thead th {\n",
       "        text-align: right;\n",
       "    }\n",
       "</style>\n",
       "<table border=\"1\" class=\"dataframe\">\n",
       "  <thead>\n",
       "    <tr style=\"text-align: right;\">\n",
       "      <th></th>\n",
       "      <th>credit_score</th>\n",
       "      <th>age</th>\n",
       "      <th>tenure</th>\n",
       "      <th>balance</th>\n",
       "      <th>num_of_products</th>\n",
       "      <th>has_cr_card</th>\n",
       "      <th>is_active_member</th>\n",
       "      <th>estimated_salary</th>\n",
       "      <th>geography_Germany</th>\n",
       "      <th>geography_Spain</th>\n",
       "      <th>gender_Male</th>\n",
       "    </tr>\n",
       "  </thead>\n",
       "  <tbody>\n",
       "    <tr>\n",
       "      <th>8583</th>\n",
       "      <td>-0.620245</td>\n",
       "      <td>-0.087139</td>\n",
       "      <td>-1.089979</td>\n",
       "      <td>1.060025</td>\n",
       "      <td>-0.919109</td>\n",
       "      <td>-1.560275</td>\n",
       "      <td>0.967527</td>\n",
       "      <td>0.350332</td>\n",
       "      <td>0.0</td>\n",
       "      <td>0.0</td>\n",
       "      <td>0.0</td>\n",
       "    </tr>\n",
       "    <tr>\n",
       "      <th>1924</th>\n",
       "      <td>0.167842</td>\n",
       "      <td>0.487091</td>\n",
       "      <td>1.086835</td>\n",
       "      <td>0.739283</td>\n",
       "      <td>-0.919109</td>\n",
       "      <td>0.640913</td>\n",
       "      <td>0.967527</td>\n",
       "      <td>-0.134610</td>\n",
       "      <td>0.0</td>\n",
       "      <td>0.0</td>\n",
       "      <td>1.0</td>\n",
       "    </tr>\n",
       "    <tr>\n",
       "      <th>3195</th>\n",
       "      <td>0.478929</td>\n",
       "      <td>-0.948485</td>\n",
       "      <td>-1.815583</td>\n",
       "      <td>1.547344</td>\n",
       "      <td>-0.919109</td>\n",
       "      <td>-1.560275</td>\n",
       "      <td>-1.033563</td>\n",
       "      <td>0.736502</td>\n",
       "      <td>1.0</td>\n",
       "      <td>0.0</td>\n",
       "      <td>1.0</td>\n",
       "    </tr>\n",
       "    <tr>\n",
       "      <th>5263</th>\n",
       "      <td>1.640319</td>\n",
       "      <td>0.199976</td>\n",
       "      <td>-1.452781</td>\n",
       "      <td>0.056946</td>\n",
       "      <td>0.783996</td>\n",
       "      <td>0.640913</td>\n",
       "      <td>-1.033563</td>\n",
       "      <td>1.152573</td>\n",
       "      <td>1.0</td>\n",
       "      <td>0.0</td>\n",
       "      <td>1.0</td>\n",
       "    </tr>\n",
       "    <tr>\n",
       "      <th>1484</th>\n",
       "      <td>2.065472</td>\n",
       "      <td>-0.948485</td>\n",
       "      <td>-1.452781</td>\n",
       "      <td>-1.220584</td>\n",
       "      <td>0.783996</td>\n",
       "      <td>0.640913</td>\n",
       "      <td>0.967527</td>\n",
       "      <td>1.715821</td>\n",
       "      <td>0.0</td>\n",
       "      <td>1.0</td>\n",
       "      <td>0.0</td>\n",
       "    </tr>\n",
       "  </tbody>\n",
       "</table>\n",
       "</div>"
      ],
      "text/plain": [
       "      credit_score       age    tenure   balance  num_of_products  \\\n",
       "8583     -0.620245 -0.087139 -1.089979  1.060025        -0.919109   \n",
       "1924      0.167842  0.487091  1.086835  0.739283        -0.919109   \n",
       "3195      0.478929 -0.948485 -1.815583  1.547344        -0.919109   \n",
       "5263      1.640319  0.199976 -1.452781  0.056946         0.783996   \n",
       "1484      2.065472 -0.948485 -1.452781 -1.220584         0.783996   \n",
       "\n",
       "      has_cr_card  is_active_member  estimated_salary  geography_Germany  \\\n",
       "8583    -1.560275          0.967527          0.350332                0.0   \n",
       "1924     0.640913          0.967527         -0.134610                0.0   \n",
       "3195    -1.560275         -1.033563          0.736502                1.0   \n",
       "5263     0.640913         -1.033563          1.152573                1.0   \n",
       "1484     0.640913          0.967527          1.715821                0.0   \n",
       "\n",
       "      geography_Spain  gender_Male  \n",
       "8583              0.0          0.0  \n",
       "1924              0.0          1.0  \n",
       "3195              0.0          1.0  \n",
       "5263              0.0          1.0  \n",
       "1484              1.0          0.0  "
      ]
     },
     "execution_count": 364,
     "metadata": {},
     "output_type": "execute_result"
    }
   ],
   "source": [
    "# энкодером, который обучен на ТРЕНИРОВОЧНОЙ ВЫБОРКЕ, кодируем валидационную выборку\n",
    "val_x_ridge[encoder_ohe.get_feature_names_out()] = encoder_ohe.transform(val_x_ridge[ohe_features_ridge])\n",
    "\n",
    "val_x_ridge = val_x_ridge.drop(ohe_features_ridge, axis=1)\n",
    "\n",
    "# скелером, который обучен на ТРЕНИРОВОЧНОЙ ВЫБОРКЕ, масштабируем валидационную\n",
    "val_x_ridge[num_features] = scaler.transform(val_x_ridge[num_features])\n",
    "\n",
    "# смотрим на результат\n",
    "val_x_ridge.head()"
   ]
  },
  {
   "cell_type": "code",
   "execution_count": 365,
   "metadata": {},
   "outputs": [
    {
     "data": {
      "text/html": [
       "<div>\n",
       "<style scoped>\n",
       "    .dataframe tbody tr th:only-of-type {\n",
       "        vertical-align: middle;\n",
       "    }\n",
       "\n",
       "    .dataframe tbody tr th {\n",
       "        vertical-align: top;\n",
       "    }\n",
       "\n",
       "    .dataframe thead th {\n",
       "        text-align: right;\n",
       "    }\n",
       "</style>\n",
       "<table border=\"1\" class=\"dataframe\">\n",
       "  <thead>\n",
       "    <tr style=\"text-align: right;\">\n",
       "      <th></th>\n",
       "      <th>credit_score</th>\n",
       "      <th>age</th>\n",
       "      <th>tenure</th>\n",
       "      <th>balance</th>\n",
       "      <th>num_of_products</th>\n",
       "      <th>has_cr_card</th>\n",
       "      <th>is_active_member</th>\n",
       "      <th>estimated_salary</th>\n",
       "      <th>geography_Germany</th>\n",
       "      <th>geography_Spain</th>\n",
       "      <th>gender_Male</th>\n",
       "    </tr>\n",
       "  </thead>\n",
       "  <tbody>\n",
       "    <tr>\n",
       "      <th>9167</th>\n",
       "      <td>-0.454332</td>\n",
       "      <td>-1.235600</td>\n",
       "      <td>-1.452781</td>\n",
       "      <td>-1.220584</td>\n",
       "      <td>-0.919109</td>\n",
       "      <td>0.640913</td>\n",
       "      <td>-1.033563</td>\n",
       "      <td>-1.214912</td>\n",
       "      <td>0.0</td>\n",
       "      <td>0.0</td>\n",
       "      <td>1.0</td>\n",
       "    </tr>\n",
       "    <tr>\n",
       "      <th>9387</th>\n",
       "      <td>-1.315006</td>\n",
       "      <td>-0.661370</td>\n",
       "      <td>-1.452781</td>\n",
       "      <td>1.101480</td>\n",
       "      <td>-0.919109</td>\n",
       "      <td>-1.560275</td>\n",
       "      <td>-1.033563</td>\n",
       "      <td>1.537086</td>\n",
       "      <td>0.0</td>\n",
       "      <td>0.0</td>\n",
       "      <td>1.0</td>\n",
       "    </tr>\n",
       "    <tr>\n",
       "      <th>6859</th>\n",
       "      <td>0.852233</td>\n",
       "      <td>-0.087139</td>\n",
       "      <td>-0.727177</td>\n",
       "      <td>1.306360</td>\n",
       "      <td>-0.919109</td>\n",
       "      <td>-1.560275</td>\n",
       "      <td>-1.033563</td>\n",
       "      <td>-1.391960</td>\n",
       "      <td>0.0</td>\n",
       "      <td>0.0</td>\n",
       "      <td>0.0</td>\n",
       "    </tr>\n",
       "    <tr>\n",
       "      <th>3500</th>\n",
       "      <td>2.065472</td>\n",
       "      <td>-0.661370</td>\n",
       "      <td>-0.001572</td>\n",
       "      <td>0.483040</td>\n",
       "      <td>-0.919109</td>\n",
       "      <td>0.640913</td>\n",
       "      <td>-1.033563</td>\n",
       "      <td>0.391177</td>\n",
       "      <td>0.0</td>\n",
       "      <td>0.0</td>\n",
       "      <td>0.0</td>\n",
       "    </tr>\n",
       "    <tr>\n",
       "      <th>6233</th>\n",
       "      <td>2.065472</td>\n",
       "      <td>-0.469960</td>\n",
       "      <td>-1.089979</td>\n",
       "      <td>-0.065292</td>\n",
       "      <td>-0.919109</td>\n",
       "      <td>0.640913</td>\n",
       "      <td>0.967527</td>\n",
       "      <td>0.282876</td>\n",
       "      <td>0.0</td>\n",
       "      <td>0.0</td>\n",
       "      <td>1.0</td>\n",
       "    </tr>\n",
       "  </tbody>\n",
       "</table>\n",
       "</div>"
      ],
      "text/plain": [
       "      credit_score       age    tenure   balance  num_of_products  \\\n",
       "9167     -0.454332 -1.235600 -1.452781 -1.220584        -0.919109   \n",
       "9387     -1.315006 -0.661370 -1.452781  1.101480        -0.919109   \n",
       "6859      0.852233 -0.087139 -0.727177  1.306360        -0.919109   \n",
       "3500      2.065472 -0.661370 -0.001572  0.483040        -0.919109   \n",
       "6233      2.065472 -0.469960 -1.089979 -0.065292        -0.919109   \n",
       "\n",
       "      has_cr_card  is_active_member  estimated_salary  geography_Germany  \\\n",
       "9167     0.640913         -1.033563         -1.214912                0.0   \n",
       "9387    -1.560275         -1.033563          1.537086                0.0   \n",
       "6859    -1.560275         -1.033563         -1.391960                0.0   \n",
       "3500     0.640913         -1.033563          0.391177                0.0   \n",
       "6233     0.640913          0.967527          0.282876                0.0   \n",
       "\n",
       "      geography_Spain  gender_Male  \n",
       "9167              0.0          1.0  \n",
       "9387              0.0          1.0  \n",
       "6859              0.0          0.0  \n",
       "3500              0.0          0.0  \n",
       "6233              0.0          1.0  "
      ]
     },
     "execution_count": 365,
     "metadata": {},
     "output_type": "execute_result"
    }
   ],
   "source": [
    "# энкодером, который обучен на ТРЕНИРОВОЧНОЙ ВЫБОРКЕ, кодируем тестовую\n",
    "test_x_ridge[encoder_ohe.get_feature_names_out()] = encoder_ohe.transform(test_x_ridge[ohe_features_ridge])\n",
    "\n",
    "test_x_ridge = test_x_ridge.drop(ohe_features_ridge, axis=1)\n",
    "\n",
    "# скелером, который обучен на ТРЕНИРОВОЧНОЙ ВЫБОРКЕ, масштабируем тестовую\n",
    "test_x_ridge[num_features] = scaler.transform(test_x_ridge[num_features])\n",
    "\n",
    "# смотрим на результат\n",
    "test_x_ridge.head()"
   ]
  },
  {
   "cell_type": "code",
   "execution_count": 366,
   "metadata": {},
   "outputs": [
    {
     "data": {
      "text/plain": [
       "((6000, 11), (2000, 11), (2000, 11))"
      ]
     },
     "execution_count": 366,
     "metadata": {},
     "output_type": "execute_result"
    }
   ],
   "source": [
    "# получилось одинаковое количество признаков\n",
    "train_x_ridge.shape, val_x_ridge.shape, test_x_ridge.shape"
   ]
  },
  {
   "cell_type": "code",
   "execution_count": 367,
   "metadata": {},
   "outputs": [
    {
     "data": {
      "text/plain": [
       "0"
      ]
     },
     "execution_count": 367,
     "metadata": {},
     "output_type": "execute_result"
    }
   ],
   "source": [
    "# получились одинаковые признаки в тренировочной и валидационной выборках\n",
    "(train_x_ridge.columns != val_x_ridge.columns).sum()"
   ]
  },
  {
   "cell_type": "code",
   "execution_count": 368,
   "metadata": {},
   "outputs": [
    {
     "data": {
      "text/plain": [
       "0"
      ]
     },
     "execution_count": 368,
     "metadata": {},
     "output_type": "execute_result"
    }
   ],
   "source": [
    "# получились одинаковые признаки в тренировочной и тестовой выборках\n",
    "(train_x_ridge.columns != test_x_ridge.columns).sum()"
   ]
  },
  {
   "cell_type": "markdown",
   "metadata": {},
   "source": [
    "### Промежуточные выводы"
   ]
  },
  {
   "cell_type": "markdown",
   "metadata": {},
   "source": [
    "- были обнаружены пропуски, а именно в столбце tenure пропущено 9% данных, которые в последствии были заполнены медианным значением этого столбца;\n",
    "- явные дубликаты выявлены не были;\n",
    "- из датасета были удалены столбцы, не имеющие влияния на целевой признак - уйдет клиент или останется, а именно столбцы Surname (фамилия), row_number (индекс строки), customer_id (уникальный номер клиента);\n",
    "- для дальнейшего обучения и тестирования модели были созданы выборки: обучающая с фичами и целевым признаком(60% датасета), валидационная с фичами и целевым признаком (20% датасета), тестовая с фичами и целевым признаком (20% датасета);\n",
    "- **в выборках с целевым признаком обнаружен дисбаланс классов**. Разница между классами существенная - 20% для 1-го класса и соответственно 80% для 0-го класса. Такой дисбаланс негативно повлияет на качество модели, один из классов будет предпочтительнее. В дальнейшем нужно устранить такой сильный дисбаланс.\n",
    "- обработаны категориальные признаки и преобразованы в численные методом прямого кодирования OHE. Чтоб избежать dummi-ловушки использовали параметр drop=ferst;\n",
    "- числовые признаки были приведены к единому масштабу.\n",
    "\n",
    "    \n",
    "Данные подготовлены для дальнейшего исследования."
   ]
  },
  {
   "cell_type": "markdown",
   "metadata": {},
   "source": [
    "## Исследование задачи"
   ]
  },
  {
   "cell_type": "markdown",
   "metadata": {},
   "source": [
    "Теперь данные подготовлены к обучению и подбору лучшей модели. Используем следующие модели - Логическая регрессия, Дерево решений, Случайный лес."
   ]
  },
  {
   "cell_type": "markdown",
   "metadata": {},
   "source": [
    "Цель проекта - определить клиента, который хочет уйти, то есть модель должна как можно точнее определить класс и присвоить верный (уйдет клиент или останется).\n",
    "\n",
    "В нашей задаче по определению оттока клиентов из банка, ложно положительным будет принятие решения лояльного клиента за уходящего. Соответственно, ложно отрицательным решением будет являться \"пропуск\" уходящего клиента и ошибочное присвоение ему статуса лояльного банку клиента.\n",
    "\n",
    "**Метрики с помощью которых мы будем оценевать модель машинного обучения:**\n",
    "\n",
    "- матрица ошибок, которая покажет нам долю ложно положительных и ложно отрицательных ответов;\n",
    "- recall (полнота) демонстрирует способность алгоритма обнаруживать нужный класс вообще;\n",
    "- precision (точность) — способность отличать нужный класс от других классов;\n",
    "- F-мера — среднее гармоническое precision и recall (используется если Precision и Recall являются одинаково значимыми).\n",
    "- AUC-ROC - показывает качество алгоритма;\n",
    "- ROC - кривая  - график, показывающий зависимость верно классифицируемых объектов положительного класса от ложно положительно классифицируемых объектов негативного класса.\n",
    "\n",
    "Метрики, которые не подходят для решения задачи:\n",
    "\n",
    "- accuracy — доля правильных ответов алгоритма - не учитывает соотношения ложных срабатываний модели."
   ]
  },
  {
   "cell_type": "code",
   "execution_count": 369,
   "metadata": {},
   "outputs": [],
   "source": [
    "def all_score(val, predict):\n",
    "    print('Матрица ошибок')\n",
    "    print (confusion_matrix(val, predict))\n",
    "    print(\"Полнота\" , recall_score(val, predict))\n",
    "    print(\"Точность\", precision_score(val, predict))\n",
    "    print(\"F1-мера\", f1_score(val, predict))\n",
    "    print(\"AUC-ROC\", roc_auc_score(val, predict))"
   ]
  },
  {
   "cell_type": "markdown",
   "metadata": {},
   "source": [
    "### Логическая регрессия (LogisticRegression)"
   ]
  },
  {
   "cell_type": "code",
   "execution_count": 370,
   "metadata": {},
   "outputs": [],
   "source": [
    "model_log = LogisticRegression(solver = 'liblinear', random_state = 42, max_iter = 1000)"
   ]
  },
  {
   "cell_type": "code",
   "execution_count": 371,
   "metadata": {},
   "outputs": [
    {
     "data": {
      "text/html": [
       "<style>#sk-container-id-4 {color: black;background-color: white;}#sk-container-id-4 pre{padding: 0;}#sk-container-id-4 div.sk-toggleable {background-color: white;}#sk-container-id-4 label.sk-toggleable__label {cursor: pointer;display: block;width: 100%;margin-bottom: 0;padding: 0.3em;box-sizing: border-box;text-align: center;}#sk-container-id-4 label.sk-toggleable__label-arrow:before {content: \"▸\";float: left;margin-right: 0.25em;color: #696969;}#sk-container-id-4 label.sk-toggleable__label-arrow:hover:before {color: black;}#sk-container-id-4 div.sk-estimator:hover label.sk-toggleable__label-arrow:before {color: black;}#sk-container-id-4 div.sk-toggleable__content {max-height: 0;max-width: 0;overflow: hidden;text-align: left;background-color: #f0f8ff;}#sk-container-id-4 div.sk-toggleable__content pre {margin: 0.2em;color: black;border-radius: 0.25em;background-color: #f0f8ff;}#sk-container-id-4 input.sk-toggleable__control:checked~div.sk-toggleable__content {max-height: 200px;max-width: 100%;overflow: auto;}#sk-container-id-4 input.sk-toggleable__control:checked~label.sk-toggleable__label-arrow:before {content: \"▾\";}#sk-container-id-4 div.sk-estimator input.sk-toggleable__control:checked~label.sk-toggleable__label {background-color: #d4ebff;}#sk-container-id-4 div.sk-label input.sk-toggleable__control:checked~label.sk-toggleable__label {background-color: #d4ebff;}#sk-container-id-4 input.sk-hidden--visually {border: 0;clip: rect(1px 1px 1px 1px);clip: rect(1px, 1px, 1px, 1px);height: 1px;margin: -1px;overflow: hidden;padding: 0;position: absolute;width: 1px;}#sk-container-id-4 div.sk-estimator {font-family: monospace;background-color: #f0f8ff;border: 1px dotted black;border-radius: 0.25em;box-sizing: border-box;margin-bottom: 0.5em;}#sk-container-id-4 div.sk-estimator:hover {background-color: #d4ebff;}#sk-container-id-4 div.sk-parallel-item::after {content: \"\";width: 100%;border-bottom: 1px solid gray;flex-grow: 1;}#sk-container-id-4 div.sk-label:hover label.sk-toggleable__label {background-color: #d4ebff;}#sk-container-id-4 div.sk-serial::before {content: \"\";position: absolute;border-left: 1px solid gray;box-sizing: border-box;top: 0;bottom: 0;left: 50%;z-index: 0;}#sk-container-id-4 div.sk-serial {display: flex;flex-direction: column;align-items: center;background-color: white;padding-right: 0.2em;padding-left: 0.2em;position: relative;}#sk-container-id-4 div.sk-item {position: relative;z-index: 1;}#sk-container-id-4 div.sk-parallel {display: flex;align-items: stretch;justify-content: center;background-color: white;position: relative;}#sk-container-id-4 div.sk-item::before, #sk-container-id-4 div.sk-parallel-item::before {content: \"\";position: absolute;border-left: 1px solid gray;box-sizing: border-box;top: 0;bottom: 0;left: 50%;z-index: -1;}#sk-container-id-4 div.sk-parallel-item {display: flex;flex-direction: column;z-index: 1;position: relative;background-color: white;}#sk-container-id-4 div.sk-parallel-item:first-child::after {align-self: flex-end;width: 50%;}#sk-container-id-4 div.sk-parallel-item:last-child::after {align-self: flex-start;width: 50%;}#sk-container-id-4 div.sk-parallel-item:only-child::after {width: 0;}#sk-container-id-4 div.sk-dashed-wrapped {border: 1px dashed gray;margin: 0 0.4em 0.5em 0.4em;box-sizing: border-box;padding-bottom: 0.4em;background-color: white;}#sk-container-id-4 div.sk-label label {font-family: monospace;font-weight: bold;display: inline-block;line-height: 1.2em;}#sk-container-id-4 div.sk-label-container {text-align: center;}#sk-container-id-4 div.sk-container {/* jupyter's `normalize.less` sets `[hidden] { display: none; }` but bootstrap.min.css set `[hidden] { display: none !important; }` so we also need the `!important` here to be able to override the default hidden behavior on the sphinx rendered scikit-learn.org. See: https://github.com/scikit-learn/scikit-learn/issues/21755 */display: inline-block !important;position: relative;}#sk-container-id-4 div.sk-text-repr-fallback {display: none;}</style><div id=\"sk-container-id-4\" class=\"sk-top-container\"><div class=\"sk-text-repr-fallback\"><pre>LogisticRegression(max_iter=1000, random_state=42, solver=&#x27;liblinear&#x27;)</pre><b>In a Jupyter environment, please rerun this cell to show the HTML representation or trust the notebook. <br />On GitHub, the HTML representation is unable to render, please try loading this page with nbviewer.org.</b></div><div class=\"sk-container\" hidden><div class=\"sk-item\"><div class=\"sk-estimator sk-toggleable\"><input class=\"sk-toggleable__control sk-hidden--visually\" id=\"sk-estimator-id-4\" type=\"checkbox\" checked><label for=\"sk-estimator-id-4\" class=\"sk-toggleable__label sk-toggleable__label-arrow\">LogisticRegression</label><div class=\"sk-toggleable__content\"><pre>LogisticRegression(max_iter=1000, random_state=42, solver=&#x27;liblinear&#x27;)</pre></div></div></div></div></div>"
      ],
      "text/plain": [
       "LogisticRegression(max_iter=1000, random_state=42, solver='liblinear')"
      ]
     },
     "execution_count": 371,
     "metadata": {},
     "output_type": "execute_result"
    }
   ],
   "source": [
    "model_log.fit(train_x_ridge, train_y)"
   ]
  },
  {
   "cell_type": "code",
   "execution_count": 372,
   "metadata": {},
   "outputs": [
    {
     "name": "stdout",
     "output_type": "stream",
     "text": [
      "Матрица ошибок\n",
      "[[1536   56]\n",
      " [ 317   91]]\n",
      "Полнота 0.22303921568627452\n",
      "Точность 0.6190476190476191\n",
      "F1-мера 0.32792792792792796\n",
      "AUC-ROC 0.5939316681446448\n"
     ]
    }
   ],
   "source": [
    "predict_log = model_log.predict(val_x_ridge)\n",
    "all_score(val_y, predict_log)"
   ]
  },
  {
   "cell_type": "markdown",
   "metadata": {},
   "source": [
    "Как мы видим, метрики имеют очень низкое значение. Полнота показывает, что только 22% клиентов, которые собираются покинуть банк, определены верно, в связи с чем f1 имеет тоже очень плохой результат - 0,33. Качество модели - AUC- 0.59 - очень низкое, с учетом, что случайное распределение классов оценивается как 0,5. \n"
   ]
  },
  {
   "cell_type": "markdown",
   "metadata": {},
   "source": [
    "### Дерево решений (DecisionTreeClassifier)"
   ]
  },
  {
   "cell_type": "markdown",
   "metadata": {},
   "source": [
    "Для модели Дерево Решений самый важный гиперпараметр - max_depth. Он определяется путем перебора циклом:"
   ]
  },
  {
   "cell_type": "code",
   "execution_count": 373,
   "metadata": {},
   "outputs": [],
   "source": [
    "def DecisionTreeQuality(x_train, y_train, x_valid, y_valid):\n",
    "        \n",
    "    #Строки, которые будут наполняться циклом при переборе параметров\n",
    "    depth_table = []\n",
    "    f1_table = []\n",
    "    recall_table = []\n",
    "    precision_table = []\n",
    "    AUC_table = []\n",
    "        \n",
    "    #Цикл перебора\n",
    "    for depth in range(1, 21):    # глубина от 1 до 20\n",
    "        model_tree = DecisionTreeClassifier(random_state=42, max_depth=depth) \n",
    "        model_tree.fit(x_train, y_train) \n",
    "        prediction = model_tree.predict(x_valid) #предсказание целевого признака\n",
    "        \n",
    "        #расчет параметров\n",
    "        f1 = f1_score(y_valid, prediction)\n",
    "        recall = recall_score(y_valid, prediction)\n",
    "        precision = precision_score(y_valid, prediction)\n",
    "        AUC = roc_auc_score(y_valid, prediction)\n",
    "        \n",
    "        #внесение значиний параметров в строки\n",
    "        depth_table.append(depth)\n",
    "\n",
    "        #внесение значений метрик в строки\n",
    "        f1_table.append(f1)\n",
    "        recall_table.append(recall)\n",
    "        precision_table.append(precision) \n",
    "        AUC_table.append(AUC)\n",
    "    \n",
    "    #Обоъединение строк в датафрем\n",
    "    tree_quality_table = pd.DataFrame(data = (depth_table, \n",
    "        f1_table, recall_table, precision_table, AUC_table)).T\n",
    "    tree_quality_table.columns = ('max_depth', 'f1', 'recall', 'precision', 'AUC')\n",
    "    return tree_quality_table "
   ]
  },
  {
   "cell_type": "code",
   "execution_count": 374,
   "metadata": {},
   "outputs": [],
   "source": [
    "tree_quality_table = DecisionTreeQuality(train_x_ridge, train_y, val_x_ridge, val_y)"
   ]
  },
  {
   "cell_type": "code",
   "execution_count": 375,
   "metadata": {},
   "outputs": [
    {
     "data": {
      "text/html": [
       "<div>\n",
       "<style scoped>\n",
       "    .dataframe tbody tr th:only-of-type {\n",
       "        vertical-align: middle;\n",
       "    }\n",
       "\n",
       "    .dataframe tbody tr th {\n",
       "        vertical-align: top;\n",
       "    }\n",
       "\n",
       "    .dataframe thead th {\n",
       "        text-align: right;\n",
       "    }\n",
       "</style>\n",
       "<table border=\"1\" class=\"dataframe\">\n",
       "  <thead>\n",
       "    <tr style=\"text-align: right;\">\n",
       "      <th></th>\n",
       "      <th>max_depth</th>\n",
       "      <th>f1</th>\n",
       "      <th>recall</th>\n",
       "      <th>precision</th>\n",
       "      <th>AUC</th>\n",
       "    </tr>\n",
       "  </thead>\n",
       "  <tbody>\n",
       "    <tr>\n",
       "      <th>7</th>\n",
       "      <td>8.0</td>\n",
       "      <td>0.591837</td>\n",
       "      <td>0.497549</td>\n",
       "      <td>0.730216</td>\n",
       "      <td>0.725219</td>\n",
       "    </tr>\n",
       "  </tbody>\n",
       "</table>\n",
       "</div>"
      ],
      "text/plain": [
       "   max_depth        f1    recall  precision       AUC\n",
       "7        8.0  0.591837  0.497549   0.730216  0.725219"
      ]
     },
     "execution_count": 375,
     "metadata": {},
     "output_type": "execute_result"
    }
   ],
   "source": [
    "tree_quality_table.sort_values('f1', ascending = False).head(1)"
   ]
  },
  {
   "cell_type": "markdown",
   "metadata": {},
   "source": [
    "Обучим модель:"
   ]
  },
  {
   "cell_type": "code",
   "execution_count": 376,
   "metadata": {},
   "outputs": [],
   "source": [
    "model_tree = DecisionTreeClassifier(random_state=42, max_depth=8) \n",
    "model_tree.fit(train_x_ridge, train_y) \n",
    "predict_tree = model_tree.predict(val_x_ridge)"
   ]
  },
  {
   "cell_type": "markdown",
   "metadata": {},
   "source": [
    "Для модели Дерево Решений метрики значительно лучше, чем у модели Линейная Регрессия. При глубине дерева 8, f1-мера - 0,59, площадь под roc-кривой (AUC) - 0.725. "
   ]
  },
  {
   "cell_type": "markdown",
   "metadata": {},
   "source": [
    "### Случайный лес (RandomForestClassifier)"
   ]
  },
  {
   "cell_type": "markdown",
   "metadata": {},
   "source": [
    "Для модели Случайного леса главный гиперпараметр - n_estimators - количество деревьев. Его тоже определяем циклом."
   ]
  },
  {
   "cell_type": "code",
   "execution_count": 377,
   "metadata": {},
   "outputs": [],
   "source": [
    "def RandomForestQuality(x_train, y_train, x_valid, y_valid):\n",
    "        \n",
    "    #Строки, которые будут наполняться циклом при переборе параметров\n",
    "    est_table = []\n",
    "    depth_table = []\n",
    "    f1_table = []\n",
    "    recall_table = []\n",
    "    precision_table = []\n",
    "    AUC_table = []\n",
    "    \n",
    "    #Цикл перебора параметров: \n",
    "    for est in range(50, 201, 10):\n",
    "        for depth in range (1, 21):\n",
    "            model_forest = RandomForestClassifier(random_state=42, n_estimators=est, max_depth=depth)\n",
    "            model_forest.fit(x_train, y_train)\n",
    "            prediction = model_forest.predict(x_valid) #предсказание целевого признака\n",
    "        \n",
    "        #расчет параметров\n",
    "        f1 = f1_score(y_valid, prediction)\n",
    "        recall = recall_score(y_valid, prediction)\n",
    "        precision = precision_score(y_valid, prediction)\n",
    "        AUC = roc_auc_score(y_valid, prediction)\n",
    "        \n",
    "        #внесение значиний параметров в строки\n",
    "        est_table.append(est)\n",
    "        depth_table.append(depth)\n",
    "\n",
    "        #внесение значений метрик в строки\n",
    "        f1_table.append(f1)\n",
    "        recall_table.append(recall)\n",
    "        precision_table.append(precision)\n",
    "        AUC_table.append(AUC)\n",
    "                   \n",
    "    #Обоъединение строк в датафрем\n",
    "    forest_quality_table = pd.DataFrame(data = (est_table, depth_table, \n",
    "        f1_table, recall_table, precision_table, AUC_table)).T\n",
    "    forest_quality_table.columns = ('max_est', 'max_depth', 'f1', 'recall', 'precision', 'AUC')\n",
    "    return forest_quality_table"
   ]
  },
  {
   "cell_type": "code",
   "execution_count": 378,
   "metadata": {},
   "outputs": [
    {
     "name": "stdout",
     "output_type": "stream",
     "text": [
      "Wall time: 2min 57s\n"
     ]
    }
   ],
   "source": [
    "%%time \n",
    "forest_quality_table = RandomForestQuality(train_x_ridge, train_y, val_x_ridge, val_y)"
   ]
  },
  {
   "cell_type": "code",
   "execution_count": 379,
   "metadata": {},
   "outputs": [
    {
     "data": {
      "text/html": [
       "<div>\n",
       "<style scoped>\n",
       "    .dataframe tbody tr th:only-of-type {\n",
       "        vertical-align: middle;\n",
       "    }\n",
       "\n",
       "    .dataframe tbody tr th {\n",
       "        vertical-align: top;\n",
       "    }\n",
       "\n",
       "    .dataframe thead th {\n",
       "        text-align: right;\n",
       "    }\n",
       "</style>\n",
       "<table border=\"1\" class=\"dataframe\">\n",
       "  <thead>\n",
       "    <tr style=\"text-align: right;\">\n",
       "      <th></th>\n",
       "      <th>max_est</th>\n",
       "      <th>max_depth</th>\n",
       "      <th>f1</th>\n",
       "      <th>recall</th>\n",
       "      <th>precision</th>\n",
       "      <th>AUC</th>\n",
       "    </tr>\n",
       "  </thead>\n",
       "  <tbody>\n",
       "    <tr>\n",
       "      <th>7</th>\n",
       "      <td>120.0</td>\n",
       "      <td>20.0</td>\n",
       "      <td>0.605341</td>\n",
       "      <td>0.5</td>\n",
       "      <td>0.766917</td>\n",
       "      <td>0.730528</td>\n",
       "    </tr>\n",
       "  </tbody>\n",
       "</table>\n",
       "</div>"
      ],
      "text/plain": [
       "   max_est  max_depth        f1  recall  precision       AUC\n",
       "7    120.0       20.0  0.605341     0.5   0.766917  0.730528"
      ]
     },
     "execution_count": 379,
     "metadata": {},
     "output_type": "execute_result"
    }
   ],
   "source": [
    "forest_quality_table.sort_values('f1', ascending = False).head(1)"
   ]
  },
  {
   "cell_type": "code",
   "execution_count": 380,
   "metadata": {},
   "outputs": [],
   "source": [
    "model_forest = RandomForestClassifier(random_state=42, n_estimators=120, max_depth=20)\n",
    "model_forest.fit(train_x_ridge, train_y)\n",
    "predict_forest = model_forest.predict(val_x_ridge)"
   ]
  },
  {
   "cell_type": "markdown",
   "metadata": {},
   "source": [
    "У модели Случайный Лес с гиперпараметрами: глубина 20 и количество деревьев 120 оказались лучшие метрики. f1-мера равна 0,605. AUC - 0.73. Если смотреть по отдельности на полноту и точность, то для модели Случайный Лес эти метрики тоже самые высокие. Модель с вероятностью 50% верно определяет клиентов, собирающихся уходить из всех клиентов с классом 1. Точность модели показывает, что из всех клиентов, которых модель определила как ушедших, 23,4% являются ложно положительными, то есть их истинный класс равен 0.  "
   ]
  },
  {
   "cell_type": "markdown",
   "metadata": {},
   "source": [
    "### Выбор лучшей модели"
   ]
  },
  {
   "cell_type": "markdown",
   "metadata": {},
   "source": [
    "Для выбора лучшей модели посмотрим как выглядит ROC-кривая для каждой модели. Для этого изменим предсказание модели вместо 1 и 0 на пороговое значение для каждой модели:"
   ]
  },
  {
   "cell_type": "code",
   "execution_count": 381,
   "metadata": {},
   "outputs": [],
   "source": [
    "prob_log = model_log.predict_proba(val_x_ridge)[:, 1]\n",
    "prob_tree = model_tree.predict_proba(val_x_ridge)[:, 1]\n",
    "prob_forest = model_forest.predict_proba(val_x_ridge)[:, 1]"
   ]
  },
  {
   "cell_type": "code",
   "execution_count": 382,
   "metadata": {},
   "outputs": [
    {
     "data": {
      "image/png": "[encoded data removed]",
      "text/plain": [
       "<Figure size 640x480 with 1 Axes>"
      ]
     },
     "metadata": {},
     "output_type": "display_data"
    }
   ],
   "source": [
    "fpr1, tpr1, _ =  roc_curve(val_y, prob_log) # если не надо выводить переменную, ствим _\n",
    "fpr2, tpr2, _ = roc_curve(val_y, prob_tree)\n",
    "fpr3, tpr3, _ = roc_curve(val_y, prob_forest)\n",
    "# строим график \n",
    "plt.plot(fpr1 , tpr1, label='model_log')\n",
    "plt.plot(fpr2 , tpr2, label='model_tree')\n",
    "plt.plot(fpr3 , tpr3, label='model_forest')\n",
    "# axis labels\n",
    "plt.xlim([0, 1])\n",
    "plt.ylim([0, 1])\n",
    "plt.ylabel('True Positive Rate')\n",
    "plt.xlabel('False Positive Rate')\n",
    "plt.grid(alpha = 0.7)\n",
    "# show the legend\n",
    "plt.legend()\n",
    "# show the plot\n",
    "plt.show()"
   ]
  },
  {
   "cell_type": "markdown",
   "metadata": {},
   "source": [
    "ROC-кривая ближе к идеальной для модели Случайный Лес.  \n",
    "\n",
    "**f1 и AUC для всех моделей:**  \n",
    "    - логическая регрессия: f1-0,33 и AUC-0,59;  \n",
    "    - дерево решений: f1-0,59 и AUC-0,752 (глубина 8);  \n",
    "    - случайный лес: f1-0,605 и AUC-0,73 (количество деревьев 120 и глубина 20).  \n",
    "    \n",
    "Таким образом, по всем оценкам победила модель Случайный Лес с гиперпараметрами количество деревьев 120 и глубина 20."
   ]
  },
  {
   "cell_type": "markdown",
   "metadata": {},
   "source": [
    "### Анализ модели "
   ]
  },
  {
   "cell_type": "markdown",
   "metadata": {},
   "source": [
    "Реальная доля ушедших клиентов в выборке - 20%. Посмотрим, какую долю ушедших клиентов показывает модель-победитель:"
   ]
  },
  {
   "cell_type": "code",
   "execution_count": 383,
   "metadata": {},
   "outputs": [
    {
     "name": "stdout",
     "output_type": "stream",
     "text": [
      "Доля ушедших клиентов для модели случайный лес: 0.133\n"
     ]
    }
   ],
   "source": [
    "exit = pd.Series(model_forest.predict(val_x_ridge)).value_counts(normalize = 1)\n",
    "print('Доля ушедших клиентов для модели случайный лес:', exit[1])"
   ]
  },
  {
   "cell_type": "markdown",
   "metadata": {},
   "source": [
    "Также оценим матрицу ошибок, которая покажет нам долю ложно положительных и ложно отрицательных ответов:"
   ]
  },
  {
   "cell_type": "code",
   "execution_count": 384,
   "metadata": {},
   "outputs": [
    {
     "data": {
      "text/plain": [
       "array([[1530,   62],\n",
       "       [ 204,  204]], dtype=int64)"
      ]
     },
     "execution_count": 384,
     "metadata": {},
     "output_type": "execute_result"
    }
   ],
   "source": [
    "confusion_matrix(val_y, predict_forest)"
   ]
  },
  {
   "cell_type": "markdown",
   "metadata": {},
   "source": [
    "Таким образом, матрица ошибок нам показывает, что модель определила 1530 истинно отрицательных ответа, то есть присвоила класс 0 верно, и 62 ложно положительных ответа, то есть клиент не собирался уходить, но модель ему присвоила вместо 0 класс 1. Также модель определила 204 ложно отрицательных ответа, то есть вместо 1 был присвоен класс 0, и 204 истинно положительных ответа, когда клиент действительно собирался уходить."
   ]
  },
  {
   "cell_type": "markdown",
   "metadata": {},
   "source": [
    "Для модели Случайный Лес мы добились f1-меры выше 0,59, но как мы видим, модель не сильно успешно определяет класс ушедших клиентов. Попробуем улучшить модель с помощью борьбы с дисбалансом и  добавлением новых гиперпараметров."
   ]
  },
  {
   "cell_type": "markdown",
   "metadata": {},
   "source": [
    "## Борьба с дисбалансом"
   ]
  },
  {
   "cell_type": "markdown",
   "metadata": {},
   "source": [
    "### Анализ целевого признака"
   ]
  },
  {
   "cell_type": "code",
   "execution_count": 385,
   "metadata": {
    "scrolled": true
   },
   "outputs": [
    {
     "data": {
      "text/plain": [
       "0    0.7963\n",
       "1    0.2037\n",
       "Name: exited, dtype: float64"
      ]
     },
     "execution_count": 385,
     "metadata": {},
     "output_type": "execute_result"
    }
   ],
   "source": [
    "exited = df['exited'].value_counts(normalize = True)\n",
    "exited"
   ]
  },
  {
   "cell_type": "code",
   "execution_count": 386,
   "metadata": {},
   "outputs": [
    {
     "data": {
      "image/png": "[encoded data removed]",
      "text/plain": [
       "<Figure size 600x600 with 1 Axes>"
      ]
     },
     "metadata": {},
     "output_type": "display_data"
    }
   ],
   "source": [
    "colors = ['#B22222', '#FFC0CB']\n",
    "exited.plot.pie(y='exited', autopct=\"%.2f\", fontsize=20, figsize=(6, 6), colors = colors)\n",
    "plt.show()"
   ]
  },
  {
   "cell_type": "markdown",
   "metadata": {},
   "source": [
    "Таким образом в представленном датасете 79,63% клиентов, которые не ушли и 20,37%, которые перестали быть клиентами банка. "
   ]
  },
  {
   "cell_type": "markdown",
   "metadata": {},
   "source": [
    "### Применение техники SMOTE"
   ]
  },
  {
   "cell_type": "markdown",
   "metadata": {},
   "source": [
    "Для балансировки классов используем SMOTE. То есть увеличим число ушедших клиентов в выборке. "
   ]
  },
  {
   "cell_type": "code",
   "execution_count": 387,
   "metadata": {},
   "outputs": [],
   "source": [
    "oversample = SMOTE(random_state=42)\n",
    "train_x_up, train_y_up = oversample.fit_resample(train_x_ridge, train_y)"
   ]
  },
  {
   "cell_type": "markdown",
   "metadata": {},
   "source": [
    "Посмотрим на результат:"
   ]
  },
  {
   "cell_type": "code",
   "execution_count": 388,
   "metadata": {},
   "outputs": [
    {
     "name": "stdout",
     "output_type": "stream",
     "text": [
      "0    0.5\n",
      "1    0.5\n",
      "Name: exited, dtype: float64\n",
      "(9556,)\n"
     ]
    }
   ],
   "source": [
    "print(train_y_up.value_counts(normalize = 1))\n",
    "print(train_y_up.shape)"
   ]
  },
  {
   "cell_type": "markdown",
   "metadata": {},
   "source": [
    "С помощью SMOTE данные удалось сбалансировать. Теперь в нашей обучающей выборке число отточных клиентов и число клиентов, решивших остаться одинаковое. Размер выборки увеличился с 6000 строк до 9556 строк."
   ]
  },
  {
   "cell_type": "markdown",
   "metadata": {},
   "source": [
    "### Применение техники RandomUnderSampler"
   ]
  },
  {
   "cell_type": "markdown",
   "metadata": {},
   "source": [
    "Вместо повторения объектов меньшего класса, можно еще убрать часть обектов большего класса. Это можно сделать техникой с помощью RandomUnderSampler:"
   ]
  },
  {
   "cell_type": "code",
   "execution_count": 389,
   "metadata": {},
   "outputs": [],
   "source": [
    "downsample = RandomUnderSampler(random_state=42)\n",
    "train_x_down, train_y_down = downsample.fit_resample(train_x_ridge, train_y)"
   ]
  },
  {
   "cell_type": "markdown",
   "metadata": {},
   "source": [
    "Посмотрим на результат:"
   ]
  },
  {
   "cell_type": "code",
   "execution_count": 390,
   "metadata": {},
   "outputs": [
    {
     "name": "stdout",
     "output_type": "stream",
     "text": [
      "0    0.5\n",
      "1    0.5\n",
      "Name: exited, dtype: float64\n",
      "(2444,)\n"
     ]
    }
   ],
   "source": [
    "print(train_y_down.value_counts(normalize = 1))\n",
    "print(train_y_down.shape)"
   ]
  },
  {
   "cell_type": "markdown",
   "metadata": {},
   "source": [
    "С помощью уменьшения выборки данные также удалось сбалансировать. В обучающей выборке число отточных клиентов и число клиентов, решивших остаться одинаковое. Размер выборки уменьшился с 6000 строк до 2444 строк."
   ]
  },
  {
   "cell_type": "markdown",
   "metadata": {},
   "source": [
    "### Обучение модели на сбалансированной выборке и ее анализ"
   ]
  },
  {
   "cell_type": "markdown",
   "metadata": {},
   "source": [
    "Поскольку данные для обучения изменились, попробуем подобрать новые гиперпарамметры - количество деревьев и глубину - для модели Случайный Лес:"
   ]
  },
  {
   "cell_type": "code",
   "execution_count": 391,
   "metadata": {},
   "outputs": [
    {
     "name": "stdout",
     "output_type": "stream",
     "text": [
      "Wall time: 4min 46s\n"
     ]
    }
   ],
   "source": [
    "%%time \n",
    "forest_quality_table = RandomForestQuality(train_x_up, train_y_up, val_x_ridge, val_y)"
   ]
  },
  {
   "cell_type": "code",
   "execution_count": 392,
   "metadata": {},
   "outputs": [
    {
     "data": {
      "text/html": [
       "<div>\n",
       "<style scoped>\n",
       "    .dataframe tbody tr th:only-of-type {\n",
       "        vertical-align: middle;\n",
       "    }\n",
       "\n",
       "    .dataframe tbody tr th {\n",
       "        vertical-align: top;\n",
       "    }\n",
       "\n",
       "    .dataframe thead th {\n",
       "        text-align: right;\n",
       "    }\n",
       "</style>\n",
       "<table border=\"1\" class=\"dataframe\">\n",
       "  <thead>\n",
       "    <tr style=\"text-align: right;\">\n",
       "      <th></th>\n",
       "      <th>max_est</th>\n",
       "      <th>max_depth</th>\n",
       "      <th>f1</th>\n",
       "      <th>recall</th>\n",
       "      <th>precision</th>\n",
       "      <th>AUC</th>\n",
       "    </tr>\n",
       "  </thead>\n",
       "  <tbody>\n",
       "    <tr>\n",
       "      <th>2</th>\n",
       "      <td>70.0</td>\n",
       "      <td>20.0</td>\n",
       "      <td>0.61809</td>\n",
       "      <td>0.602941</td>\n",
       "      <td>0.634021</td>\n",
       "      <td>0.756873</td>\n",
       "    </tr>\n",
       "  </tbody>\n",
       "</table>\n",
       "</div>"
      ],
      "text/plain": [
       "   max_est  max_depth       f1    recall  precision       AUC\n",
       "2     70.0       20.0  0.61809  0.602941   0.634021  0.756873"
      ]
     },
     "execution_count": 392,
     "metadata": {},
     "output_type": "execute_result"
    }
   ],
   "source": [
    "forest_quality_table.sort_values('f1', ascending = False).head(1)"
   ]
  },
  {
   "cell_type": "code",
   "execution_count": 393,
   "metadata": {},
   "outputs": [
    {
     "name": "stdout",
     "output_type": "stream",
     "text": [
      "Wall time: 1min 37s\n"
     ]
    }
   ],
   "source": [
    "%%time \n",
    "forest_quality_table = RandomForestQuality(train_x_down, train_y_down, val_x_ridge, val_y)"
   ]
  },
  {
   "cell_type": "code",
   "execution_count": 394,
   "metadata": {},
   "outputs": [
    {
     "data": {
      "text/html": [
       "<div>\n",
       "<style scoped>\n",
       "    .dataframe tbody tr th:only-of-type {\n",
       "        vertical-align: middle;\n",
       "    }\n",
       "\n",
       "    .dataframe tbody tr th {\n",
       "        vertical-align: top;\n",
       "    }\n",
       "\n",
       "    .dataframe thead th {\n",
       "        text-align: right;\n",
       "    }\n",
       "</style>\n",
       "<table border=\"1\" class=\"dataframe\">\n",
       "  <thead>\n",
       "    <tr style=\"text-align: right;\">\n",
       "      <th></th>\n",
       "      <th>max_est</th>\n",
       "      <th>max_depth</th>\n",
       "      <th>f1</th>\n",
       "      <th>recall</th>\n",
       "      <th>precision</th>\n",
       "      <th>AUC</th>\n",
       "    </tr>\n",
       "  </thead>\n",
       "  <tbody>\n",
       "    <tr>\n",
       "      <th>14</th>\n",
       "      <td>190.0</td>\n",
       "      <td>20.0</td>\n",
       "      <td>0.598703</td>\n",
       "      <td>0.791667</td>\n",
       "      <td>0.481371</td>\n",
       "      <td>0.786537</td>\n",
       "    </tr>\n",
       "  </tbody>\n",
       "</table>\n",
       "</div>"
      ],
      "text/plain": [
       "    max_est  max_depth        f1    recall  precision       AUC\n",
       "14    190.0       20.0  0.598703  0.791667   0.481371  0.786537"
      ]
     },
     "execution_count": 394,
     "metadata": {},
     "output_type": "execute_result"
    }
   ],
   "source": [
    "forest_quality_table.sort_values('f1', ascending = False).head(1)"
   ]
  },
  {
   "cell_type": "markdown",
   "metadata": {},
   "source": [
    "предыдущие метрики (до балансировки):  "
   ]
  },
  {
   "cell_type": "code",
   "execution_count": 395,
   "metadata": {},
   "outputs": [
    {
     "name": "stdout",
     "output_type": "stream",
     "text": [
      "Матрица ошибок\n",
      "[[1530   62]\n",
      " [ 204  204]]\n",
      "Полнота 0.5\n",
      "Точность 0.7669172932330827\n",
      "F1-мера 0.6053412462908012\n",
      "AUC-ROC 0.7305276381909549\n"
     ]
    }
   ],
   "source": [
    "all_score(val_y, predict_forest)"
   ]
  },
  {
   "cell_type": "markdown",
   "metadata": {},
   "source": [
    "Модель, сбалансированная SMOTE с гиперпараметрами количество деревьев - 70 и глубиной - 20 показала f1 меру - 0,618. AUC - 0,757. Модель, обученная на сбалансированной выборке с помощью RandomUnderSampler и гиперпараметрами количества деревьев 190 и глубиной 20 показала результат:  f1 мера - 0,598. AUC - 0,787. Таким образом, если мы выбираем метод балансировки с помощью увеличения выборки f1-мера выше, если мы выбираем метод RandomUnderSampler, то AUC выше. \n",
    "\n",
    "Если ориентироваться по значению f1-меры, для дальнейшего обучения модели выбираем выборку, сбалансированную SMOTE. По сравнению с исходной моделью Случайный лес f1-мера с 0,605 увеличилась до 0,618, AUC увеличилась c 0,73 до 0,757. "
   ]
  },
  {
   "cell_type": "markdown",
   "metadata": {},
   "source": [
    "### Улучшение модели с помощью подбора гиперпараметров"
   ]
  },
  {
   "cell_type": "markdown",
   "metadata": {},
   "source": [
    "Модель Случайный лес имеет множество гиперпараметров, кроме уже изученных - количества деревьев и глубины. Переберем некоторые из них с помощью функции, а именно:\n",
    "- bootstrap - если True - используются образцы начальной загрузки при построении деревьев. Если False, для построения каждого дерева используется весь набор данных.\n",
    "- criterion - критерий расщепления на классы. Для классификации реализованы критерии “gini” и “entropy”, которые соответствуют классическим критериям расщепления: Джини и энтропийному.\n",
    "- class_weight - вес класса. «balanced» использует значения целевого признака для автоматической корректировки весов, обратно пропорциональных частотам классов во входных данных. Режим «balanced_subsample» аналогичен режиму «balanced», за исключением того, что веса вычисляются на основе начальной выборки для каждого выращенного дерева. \n",
    "\n",
    "Остальные параметры не очень важны, можно оставить их по умолчанию."
   ]
  },
  {
   "cell_type": "code",
   "execution_count": 396,
   "metadata": {},
   "outputs": [],
   "source": [
    "def RandomForestQualityNew(x_train, y_train, x_valid, y_valid):\n",
    "    \n",
    "    #Параметры для перебора\n",
    "    bootstrap = [True, False]\n",
    "    criterion = ['gini','entropy']\n",
    "    class_weight = ['balanced', 'balanced_subsample', None]\n",
    "    max_depth = [] #диапазон изменения параметра максимальной глубины каждого дерева\n",
    "    for i in range(5, 11):\n",
    "        max_depth.append(i)\n",
    "    max_est = [] #диапазон изменения параметра количества деревьев\n",
    "    for r in range(100, 151, 50):\n",
    "        max_est.append(r)\n",
    "\n",
    "    \n",
    "    #Метод itertools.product для перебора нескольких параметров\n",
    "    myproduct = product(bootstrap, criterion, class_weight, max_depth, max_est)\n",
    "    \n",
    "    #Строки, которые будут наполняться циклом при переборе параметров\n",
    "    bootstrap_table = []\n",
    "    criterion_table = []\n",
    "    class_weight_table = []\n",
    "    depth_table = []\n",
    "    est_table = []\n",
    "    f1_table = []\n",
    "    recall_table = []\n",
    "    precision_table = []\n",
    "    AUC_table = []\n",
    "        \n",
    "    #Цикл перебора всех параметров: \n",
    "    for p in tqdm.tqdm(myproduct):\n",
    "        #Обучение модели\n",
    "        model_forest = RandomForestClassifier(\n",
    "            bootstrap=p[0], criterion = p[1], class_weight= p[2], max_depth = p[3], \n",
    "            n_estimators = p[4], random_state=42)\n",
    "        model_forest.fit(x_train, y_train)\n",
    "        prediction = model_forest.predict(x_valid) #предсказание целевого признака\n",
    "        \n",
    "        #расчет параметров\n",
    "        f1 = f1_score(y_valid, prediction)\n",
    "        recall = recall_score(y_valid, prediction)\n",
    "        precision = precision_score(y_valid, prediction)\n",
    "        AUC = roc_auc_score(y_valid, prediction)\n",
    "        \n",
    "        #внесение значений параметров в строки\n",
    "        bootstrap_table.append(p[0])\n",
    "        criterion_table.append(p[1])\n",
    "        class_weight_table.append(p[2])\n",
    "        depth_table.append(p[3])\n",
    "        est_table.append(p[4])\n",
    "        \n",
    "        #внесение значений метрик в строки\n",
    "        f1_table.append(f1)\n",
    "        recall_table.append(recall)\n",
    "        precision_table.append(precision)\n",
    "        AUC_table.append(AUC)             \n",
    "    \n",
    "    #Объединение строк в датафрем\n",
    "    quality_table = pd.DataFrame(data = (\n",
    "        bootstrap_table, criterion_table, class_weight_table, depth_table, est_table,\n",
    "        f1_table, recall_table, precision_table, AUC_table)).T\n",
    "    quality_table.columns = ('bootstrap', 'criterion' ,'class_weight', 'max_depth', 'max_est',\n",
    "                             'f1', 'recall', 'precision', 'AUC')\n",
    "    return quality_table"
   ]
  },
  {
   "cell_type": "code",
   "execution_count": 397,
   "metadata": {},
   "outputs": [
    {
     "name": "stderr",
     "output_type": "stream",
     "text": [
      "144it [02:47,  1.16s/it]"
     ]
    },
    {
     "name": "stdout",
     "output_type": "stream",
     "text": [
      "Wall time: 2min 47s\n"
     ]
    },
    {
     "name": "stderr",
     "output_type": "stream",
     "text": [
      "\n"
     ]
    }
   ],
   "source": [
    "%%time \n",
    "quality_table = RandomForestQualityNew(train_x_up, train_y_up, val_x_ridge, val_y)"
   ]
  },
  {
   "cell_type": "code",
   "execution_count": 398,
   "metadata": {},
   "outputs": [
    {
     "data": {
      "text/html": [
       "<div>\n",
       "<style scoped>\n",
       "    .dataframe tbody tr th:only-of-type {\n",
       "        vertical-align: middle;\n",
       "    }\n",
       "\n",
       "    .dataframe tbody tr th {\n",
       "        vertical-align: top;\n",
       "    }\n",
       "\n",
       "    .dataframe thead th {\n",
       "        text-align: right;\n",
       "    }\n",
       "</style>\n",
       "<table border=\"1\" class=\"dataframe\">\n",
       "  <thead>\n",
       "    <tr style=\"text-align: right;\">\n",
       "      <th></th>\n",
       "      <th>bootstrap</th>\n",
       "      <th>criterion</th>\n",
       "      <th>class_weight</th>\n",
       "      <th>max_depth</th>\n",
       "      <th>max_est</th>\n",
       "      <th>f1</th>\n",
       "      <th>recall</th>\n",
       "      <th>precision</th>\n",
       "      <th>AUC</th>\n",
       "    </tr>\n",
       "  </thead>\n",
       "  <tbody>\n",
       "    <tr>\n",
       "      <th>40</th>\n",
       "      <td>True</td>\n",
       "      <td>entropy</td>\n",
       "      <td>balanced</td>\n",
       "      <td>7</td>\n",
       "      <td>100</td>\n",
       "      <td>0.641676</td>\n",
       "      <td>0.713235</td>\n",
       "      <td>0.583166</td>\n",
       "      <td>0.791291</td>\n",
       "    </tr>\n",
       "  </tbody>\n",
       "</table>\n",
       "</div>"
      ],
      "text/plain": [
       "   bootstrap criterion class_weight max_depth max_est        f1    recall  \\\n",
       "40      True   entropy     balanced         7     100  0.641676  0.713235   \n",
       "\n",
       "   precision       AUC  \n",
       "40  0.583166  0.791291  "
      ]
     },
     "execution_count": 398,
     "metadata": {},
     "output_type": "execute_result"
    }
   ],
   "source": [
    "quality_table.sort_values('f1', ascending = False).head(1)"
   ]
  },
  {
   "cell_type": "markdown",
   "metadata": {},
   "source": [
    "Применив следующие гиперпараметры bootstrap=True, criterion = 'entropy', class_weight= 'balanced', max_depth = 7, n_estimators = 100 нам удалось улучшить модель: f1 вместо 0.618 cnала равна 0.642, AUC изменилась с 0.757 до 0.791. Построим ROC-кривую для финальной модели:"
   ]
  },
  {
   "cell_type": "code",
   "execution_count": 399,
   "metadata": {},
   "outputs": [],
   "source": [
    "model_final = RandomForestClassifier(bootstrap=True, criterion = 'entropy', \n",
    "                                     class_weight= 'balanced', \n",
    "                                     max_depth = 7, n_estimators = 100, random_state=42)\n",
    "model_final.fit(train_x_up, train_y_up)\n",
    "predict_final = model_final.predict(val_x_ridge)"
   ]
  },
  {
   "cell_type": "code",
   "execution_count": 400,
   "metadata": {},
   "outputs": [],
   "source": [
    "prob_final = model_final.predict_proba(val_x_ridge)[:, 1]"
   ]
  },
  {
   "cell_type": "code",
   "execution_count": 401,
   "metadata": {},
   "outputs": [
    {
     "data": {
      "image/png": "[encoded data removed]",
      "text/plain": [
       "<Figure size 640x480 with 1 Axes>"
      ]
     },
     "metadata": {},
     "output_type": "display_data"
    }
   ],
   "source": [
    "# строим ROC-кривую\n",
    "fpr, tpr, threshold = roc_curve(val_y, prob_final)\n",
    "\n",
    "plt.title('Receiver Operating Characteristic')\n",
    "plt.plot(fpr, tpr, 'b')\n",
    "plt.plot([0, 1], [0, 1],'r--')\n",
    "plt.xlim([0, 1])\n",
    "plt.ylim([0, 1])\n",
    "plt.ylabel('True Positive Rate')\n",
    "plt.xlabel('False Positive Rate')\n",
    "plt.grid(alpha = 0.7)\n",
    "plt.show()"
   ]
  },
  {
   "cell_type": "markdown",
   "metadata": {},
   "source": [
    "### Промежуточные выводы:"
   ]
  },
  {
   "cell_type": "markdown",
   "metadata": {},
   "source": [
    "- Было исследовано три модели машинного обучения: Логическая регрессия, Дерево решений и Случайный лес. Для каждой модели были изучены основные метрики f1 и AUC, а также построена ROC-кривая. В результате лучше всех долю ушедших клиентов определила модель Случайный лес.\n",
    "\n",
    "- Модель-победитель прошла обучение на сбалансированной двумя техниками (увеличение класса и уменьшение класса) выборке. В результате балансировки SMOTE(увеличение) удалось повысить качество модели-победителя.\n",
    "\n",
    "- Также с помощью окончательного перебора всех параметров удалось еще немного улучшить качество модели и достичь f1-меры равной 0,64. \n",
    "\n",
    "Таким образом, для тестирования будет использована финальная версия модели Случайный лес со следующими гиперпараметрами: bootstrap=True, criterion = 'entropy', class_weight= 'balanced', max_depth = 7, n_estimators = 100.\n",
    "        "
   ]
  },
  {
   "cell_type": "markdown",
   "metadata": {},
   "source": [
    "## Тестирование модели"
   ]
  },
  {
   "cell_type": "markdown",
   "metadata": {},
   "source": [
    "### Оценка модели на тестовой выборке"
   ]
  },
  {
   "cell_type": "markdown",
   "metadata": {},
   "source": [
    "Перейдем к тестированию финальной модели, обученной на выборке upsample:"
   ]
  },
  {
   "cell_type": "code",
   "execution_count": 402,
   "metadata": {},
   "outputs": [
    {
     "name": "stdout",
     "output_type": "stream",
     "text": [
      "Матрица ошибок\n",
      "[[1384  209]\n",
      " [ 136  271]]\n",
      "Полнота 0.6658476658476659\n",
      "Точность 0.5645833333333333\n",
      "F1-мера 0.6110484780157835\n",
      "AUC-ROC 0.7673243351209453\n"
     ]
    }
   ],
   "source": [
    "predict_test = model_final.predict(test_x_ridge)\n",
    "all_score(test_y, predict_test)"
   ]
  },
  {
   "cell_type": "markdown",
   "metadata": {},
   "source": [
    "Получен не плохой результат. Модель верно определила 66% клиентов из всех клиентов, которые собираютя прекратить сотрудничество с банком(в матрице ошибок мы видим, что модель присвоила 0-ый класс 136 клиентам, которые в действительности собираются уйти и 1-ый класс - 271 клиентам, которые ушли). Точносто модели говорит нам о том из всех клиентов, которым модель присвоила 1-ый класс, только 56,5% действительно хотят уйти (в матрице ошибок мы видим 271-го клиента которым класс 1 присвоен верно и 221 клиента, которые не собирались уходить, но им также присвоен 1-ый класс). В итоге мы имеем f1-меру равную 0,611. Вероятность того, что финальная модель правильно разделит на классы клиентов равна 76.7%(AUC)."
   ]
  },
  {
   "cell_type": "markdown",
   "metadata": {},
   "source": [
    "Визуализируем работу модели на тестовой выборке с помощью ROC-кривой. Сначала определим вероятность вычесления 1 класса:"
   ]
  },
  {
   "cell_type": "code",
   "execution_count": 403,
   "metadata": {},
   "outputs": [],
   "source": [
    "prob_test = model_final.predict_proba(test_x_ridge)[:, 1]"
   ]
  },
  {
   "cell_type": "code",
   "execution_count": 404,
   "metadata": {},
   "outputs": [
    {
     "data": {
      "image/png": "[encoded data removed]",
      "text/plain": [
       "<Figure size 640x480 with 1 Axes>"
      ]
     },
     "metadata": {},
     "output_type": "display_data"
    }
   ],
   "source": [
    "# строим ROC-кривую\n",
    "fpr, tpr, threshold = roc_curve(test_y, prob_test)\n",
    "\n",
    "plt.title('Receiver Operating Characteristic')\n",
    "plt.plot(fpr, tpr, 'b')\n",
    "plt.plot([0, 1], [0, 1],'r--')\n",
    "plt.xlim([0, 1])\n",
    "plt.ylim([0, 1])\n",
    "plt.ylabel('True Positive Rate')\n",
    "plt.xlabel('False Positive Rate')\n",
    "plt.grid(alpha = 0.7)\n",
    "plt.show()"
   ]
  },
  {
   "cell_type": "markdown",
   "metadata": {},
   "source": [
    "На ROC- кривой мы видим, что повышая порог чувствительности определения класса 1, мы получаем возрастающие значения как истинно положительных, так и ложно положительных ответов."
   ]
  },
  {
   "cell_type": "markdown",
   "metadata": {},
   "source": [
    "###  Важность признаков."
   ]
  },
  {
   "cell_type": "markdown",
   "metadata": {},
   "source": [
    "Для дальнейшего применения модели на практике полезно определить, какие признаки сильнее всего влияют на уход клиента из банка. Посмотрим на самые важные признаки с помощью метода feature_importance:"
   ]
  },
  {
   "cell_type": "code",
   "execution_count": 405,
   "metadata": {},
   "outputs": [],
   "source": [
    "importance = model_final.feature_importances_ # определим оценку для каждого признака"
   ]
  },
  {
   "cell_type": "code",
   "execution_count": 406,
   "metadata": {},
   "outputs": [],
   "source": [
    "feature_names  = ['credit_score', 'age', 'tenure', 'balance', 'num_of_products',\n",
    "       'has_cr_card', 'is_active_member', 'estimated_salary',\n",
    "       'reg_germany', 'reg_spain', 'gender']"
   ]
  },
  {
   "cell_type": "code",
   "execution_count": 407,
   "metadata": {},
   "outputs": [
    {
     "data": {
      "image/png": "[encoded data removed]",
      "text/plain": [
       "<Figure size 1000x500 with 1 Axes>"
      ]
     },
     "metadata": {},
     "output_type": "display_data"
    }
   ],
   "source": [
    "# визуализируем оценки важности признаков на графике:\n",
    "forest_importances = pd.Series(importance, index=feature_names)\n",
    "fig, ax = plt.subplots(figsize=(10, 5))\n",
    "forest_importances.plot.bar(color = '#B22222', edgecolor='black', alpha = 0.4)\n",
    "ax.set_title(\"Feature importances\")\n",
    "plt.grid(axis = 'y', alpha = 0.7)\n",
    "fig.tight_layout()"
   ]
  },
  {
   "cell_type": "markdown",
   "metadata": {},
   "source": [
    "В самом начале исследования уже было отмечено влияние возраста на отток клиентов, как самого важного признака. Метод feature_importance это подтвердил. Действительно при присвоении класса модель сильнее остальных признаков оценивает возраст. Также важными признаками при определении класса можно считать Balance — баланс на счёте и NumOfProducts — количество продуктов банка, используемых клиентом. Рассмотрим эти три признака и как именно они влияют на отток клиентов:"
   ]
  },
  {
   "cell_type": "markdown",
   "metadata": {},
   "source": [
    "#### Age"
   ]
  },
  {
   "cell_type": "code",
   "execution_count": 408,
   "metadata": {},
   "outputs": [],
   "source": [
    "df['group_age'] = pd.cut(df['age'],5)"
   ]
  },
  {
   "cell_type": "code",
   "execution_count": 409,
   "metadata": {},
   "outputs": [
    {
     "data": {
      "text/html": [
       "<div>\n",
       "<style scoped>\n",
       "    .dataframe tbody tr th:only-of-type {\n",
       "        vertical-align: middle;\n",
       "    }\n",
       "\n",
       "    .dataframe tbody tr th {\n",
       "        vertical-align: top;\n",
       "    }\n",
       "\n",
       "    .dataframe thead th {\n",
       "        text-align: right;\n",
       "    }\n",
       "</style>\n",
       "<table border=\"1\" class=\"dataframe\">\n",
       "  <thead>\n",
       "    <tr style=\"text-align: right;\">\n",
       "      <th></th>\n",
       "      <th>count</th>\n",
       "      <th>mean</th>\n",
       "    </tr>\n",
       "    <tr>\n",
       "      <th>group_age</th>\n",
       "      <th></th>\n",
       "      <th></th>\n",
       "    </tr>\n",
       "  </thead>\n",
       "  <tbody>\n",
       "    <tr>\n",
       "      <th>(17.926, 32.8]</th>\n",
       "      <td>2790</td>\n",
       "      <td>0.076344</td>\n",
       "    </tr>\n",
       "    <tr>\n",
       "      <th>(32.8, 47.6]</th>\n",
       "      <td>5500</td>\n",
       "      <td>0.188182</td>\n",
       "    </tr>\n",
       "    <tr>\n",
       "      <th>(47.6, 62.4]</th>\n",
       "      <td>1351</td>\n",
       "      <td>0.529978</td>\n",
       "    </tr>\n",
       "    <tr>\n",
       "      <th>(62.4, 77.2]</th>\n",
       "      <td>335</td>\n",
       "      <td>0.214925</td>\n",
       "    </tr>\n",
       "    <tr>\n",
       "      <th>(77.2, 92.0]</th>\n",
       "      <td>24</td>\n",
       "      <td>0.041667</td>\n",
       "    </tr>\n",
       "  </tbody>\n",
       "</table>\n",
       "</div>"
      ],
      "text/plain": [
       "                count      mean\n",
       "group_age                      \n",
       "(17.926, 32.8]   2790  0.076344\n",
       "(32.8, 47.6]     5500  0.188182\n",
       "(47.6, 62.4]     1351  0.529978\n",
       "(62.4, 77.2]      335  0.214925\n",
       "(77.2, 92.0]       24  0.041667"
      ]
     },
     "execution_count": 409,
     "metadata": {},
     "output_type": "execute_result"
    }
   ],
   "source": [
    "df.groupby('group_age')['exited']. agg(['count', 'mean'])"
   ]
  },
  {
   "cell_type": "code",
   "execution_count": 410,
   "metadata": {},
   "outputs": [
    {
     "data": {
      "text/plain": [
       "<AxesSubplot:xlabel='group_age'>"
      ]
     },
     "execution_count": 410,
     "metadata": {},
     "output_type": "execute_result"
    },
    {
     "data": {
      "image/png": "[encoded data removed]",
      "text/plain": [
       "<Figure size 640x480 with 1 Axes>"
      ]
     },
     "metadata": {},
     "output_type": "display_data"
    }
   ],
   "source": [
    "df.groupby('group_age')['exited']. agg(['mean']).plot(rot=0, grid = True)"
   ]
  },
  {
   "cell_type": "markdown",
   "metadata": {},
   "source": [
    "Самые надежные клиенты в возрасте от 47 до 62 лет. Слишком молодые и очень старые (старше 70 лет) клиенты более склонны к оттоку."
   ]
  },
  {
   "cell_type": "markdown",
   "metadata": {},
   "source": [
    "#### Num of products"
   ]
  },
  {
   "cell_type": "code",
   "execution_count": 411,
   "metadata": {},
   "outputs": [
    {
     "data": {
      "text/html": [
       "<div>\n",
       "<style scoped>\n",
       "    .dataframe tbody tr th:only-of-type {\n",
       "        vertical-align: middle;\n",
       "    }\n",
       "\n",
       "    .dataframe tbody tr th {\n",
       "        vertical-align: top;\n",
       "    }\n",
       "\n",
       "    .dataframe thead th {\n",
       "        text-align: right;\n",
       "    }\n",
       "</style>\n",
       "<table border=\"1\" class=\"dataframe\">\n",
       "  <thead>\n",
       "    <tr style=\"text-align: right;\">\n",
       "      <th></th>\n",
       "      <th>count</th>\n",
       "      <th>mean</th>\n",
       "    </tr>\n",
       "    <tr>\n",
       "      <th>num_of_products</th>\n",
       "      <th></th>\n",
       "      <th></th>\n",
       "    </tr>\n",
       "  </thead>\n",
       "  <tbody>\n",
       "    <tr>\n",
       "      <th>1</th>\n",
       "      <td>5084</td>\n",
       "      <td>0.277144</td>\n",
       "    </tr>\n",
       "    <tr>\n",
       "      <th>2</th>\n",
       "      <td>4590</td>\n",
       "      <td>0.075817</td>\n",
       "    </tr>\n",
       "    <tr>\n",
       "      <th>3</th>\n",
       "      <td>266</td>\n",
       "      <td>0.827068</td>\n",
       "    </tr>\n",
       "    <tr>\n",
       "      <th>4</th>\n",
       "      <td>60</td>\n",
       "      <td>1.000000</td>\n",
       "    </tr>\n",
       "  </tbody>\n",
       "</table>\n",
       "</div>"
      ],
      "text/plain": [
       "                 count      mean\n",
       "num_of_products                 \n",
       "1                 5084  0.277144\n",
       "2                 4590  0.075817\n",
       "3                  266  0.827068\n",
       "4                   60  1.000000"
      ]
     },
     "execution_count": 411,
     "metadata": {},
     "output_type": "execute_result"
    }
   ],
   "source": [
    "df.groupby('num_of_products')['exited']. agg(['count', 'mean'])"
   ]
  },
  {
   "cell_type": "code",
   "execution_count": 412,
   "metadata": {},
   "outputs": [
    {
     "data": {
      "text/plain": [
       "<AxesSubplot:xlabel='num_of_products'>"
      ]
     },
     "execution_count": 412,
     "metadata": {},
     "output_type": "execute_result"
    },
    {
     "data": {
      "image/png": "[encoded data removed]",
      "text/plain": [
       "<Figure size 640x480 with 1 Axes>"
      ]
     },
     "metadata": {},
     "output_type": "display_data"
    }
   ],
   "source": [
    "df.groupby('num_of_products')['exited']. agg(['mean']).plot(rot=0, grid = True)"
   ]
  },
  {
   "cell_type": "markdown",
   "metadata": {},
   "source": [
    "Мы видим, что самые надежные клиенты с 2-мя продуктами, на втором месте клиенты с одним продуктом. Клиентов с тремя и более продуктами не слишком много, чтоб сделать окончательный вывод о их склонности к оттоку, но тем не менее мы видим что, например клиенты с 4-мя продуктами покинули банк в 100% случаев."
   ]
  },
  {
   "cell_type": "markdown",
   "metadata": {},
   "source": [
    "#### Balance"
   ]
  },
  {
   "cell_type": "code",
   "execution_count": 413,
   "metadata": {},
   "outputs": [],
   "source": [
    "df['group_balance'] = pd.cut(df['balance'],5)"
   ]
  },
  {
   "cell_type": "code",
   "execution_count": 414,
   "metadata": {},
   "outputs": [
    {
     "data": {
      "text/html": [
       "<div>\n",
       "<style scoped>\n",
       "    .dataframe tbody tr th:only-of-type {\n",
       "        vertical-align: middle;\n",
       "    }\n",
       "\n",
       "    .dataframe tbody tr th {\n",
       "        vertical-align: top;\n",
       "    }\n",
       "\n",
       "    .dataframe thead th {\n",
       "        text-align: right;\n",
       "    }\n",
       "</style>\n",
       "<table border=\"1\" class=\"dataframe\">\n",
       "  <thead>\n",
       "    <tr style=\"text-align: right;\">\n",
       "      <th></th>\n",
       "      <th>count</th>\n",
       "      <th>mean</th>\n",
       "    </tr>\n",
       "    <tr>\n",
       "      <th>group_balance</th>\n",
       "      <th></th>\n",
       "      <th></th>\n",
       "    </tr>\n",
       "  </thead>\n",
       "  <tbody>\n",
       "    <tr>\n",
       "      <th>(-250.898, 50179.618]</th>\n",
       "      <td>3692</td>\n",
       "      <td>0.142470</td>\n",
       "    </tr>\n",
       "    <tr>\n",
       "      <th>(50179.618, 100359.236]</th>\n",
       "      <td>1533</td>\n",
       "      <td>0.199609</td>\n",
       "    </tr>\n",
       "    <tr>\n",
       "      <th>(100359.236, 150538.854]</th>\n",
       "      <td>3828</td>\n",
       "      <td>0.257837</td>\n",
       "    </tr>\n",
       "    <tr>\n",
       "      <th>(150538.854, 200718.472]</th>\n",
       "      <td>915</td>\n",
       "      <td>0.217486</td>\n",
       "    </tr>\n",
       "    <tr>\n",
       "      <th>(200718.472, 250898.09]</th>\n",
       "      <td>32</td>\n",
       "      <td>0.593750</td>\n",
       "    </tr>\n",
       "  </tbody>\n",
       "</table>\n",
       "</div>"
      ],
      "text/plain": [
       "                          count      mean\n",
       "group_balance                            \n",
       "(-250.898, 50179.618]      3692  0.142470\n",
       "(50179.618, 100359.236]    1533  0.199609\n",
       "(100359.236, 150538.854]   3828  0.257837\n",
       "(150538.854, 200718.472]    915  0.217486\n",
       "(200718.472, 250898.09]      32  0.593750"
      ]
     },
     "execution_count": 414,
     "metadata": {},
     "output_type": "execute_result"
    }
   ],
   "source": [
    "df.groupby('group_balance')['exited']. agg(['count', 'mean'])"
   ]
  },
  {
   "cell_type": "code",
   "execution_count": 415,
   "metadata": {},
   "outputs": [
    {
     "data": {
      "text/plain": [
       "<AxesSubplot:xlabel='group_balance'>"
      ]
     },
     "execution_count": 415,
     "metadata": {},
     "output_type": "execute_result"
    },
    {
     "data": {
      "image/png": "[encoded data removed]",
      "text/plain": [
       "<Figure size 640x480 with 1 Axes>"
      ]
     },
     "metadata": {},
     "output_type": "display_data"
    }
   ],
   "source": [
    "df.groupby('group_balance')['exited']. agg(['mean']).plot(rot=90, grid = True)"
   ]
  },
  {
   "cell_type": "markdown",
   "metadata": {},
   "source": [
    "Чем больше денежных средств на счете у клиента, тем он меньше склонен к уходу. "
   ]
  },
  {
   "cell_type": "markdown",
   "metadata": {},
   "source": [
    "## Проверка модели на адекватность"
   ]
  },
  {
   "cell_type": "markdown",
   "metadata": {},
   "source": [
    "Оценка для финальной модели Случайный лес:"
   ]
  },
  {
   "cell_type": "code",
   "execution_count": 416,
   "metadata": {},
   "outputs": [
    {
     "data": {
      "text/plain": [
       "0.8375"
      ]
     },
     "execution_count": 416,
     "metadata": {},
     "output_type": "execute_result"
    }
   ],
   "source": [
    "result = accuracy_score(val_y, predict_final)\n",
    "result"
   ]
  },
  {
   "cell_type": "markdown",
   "metadata": {},
   "source": [
    "Оценка для константной модели:"
   ]
  },
  {
   "cell_type": "code",
   "execution_count": 417,
   "metadata": {},
   "outputs": [
    {
     "data": {
      "text/plain": [
       "0.796"
      ]
     },
     "execution_count": 417,
     "metadata": {},
     "output_type": "execute_result"
    }
   ],
   "source": [
    "dummy = DummyClassifier(strategy=\"most_frequent\")\n",
    "dummy.fit(train_x, train_y)\n",
    "constant = dummy.score(val_x, val_y)\n",
    "constant"
   ]
  },
  {
   "cell_type": "markdown",
   "metadata": {},
   "source": [
    "Модель прошла проверку на адекватность. Оценка для финальной модели выше, чем для константной модели."
   ]
  },
  {
   "cell_type": "markdown",
   "metadata": {},
   "source": [
    "## Общий вывод:"
   ]
  },
  {
   "cell_type": "markdown",
   "metadata": {},
   "source": [
    "В результате проведенного исследования была подготовлена модель машинного обучения Случайный Лес, которая выдает оценку для тестовой выборки F1 более 59% и предсказывает верность определения класса с точностью 79,1% (AUC). Использовались следующие гиперпараметры:  \n",
    "**bootstrap=True, criterion = 'entropy', class_weight= 'balanced', max_depth = 7, n_estimators = 100**\n",
    "\n",
    "Модель проверена на адекватность, константная модель показала оценку 0,796, финальная модель показала оценку 0,837.\n",
    "\n",
    "Также была изучена важность основных признаков (возраст клиента, баланс на счете, кол-во приобретенных продуктов) для конечной оценки присвоения класса клиенту. Таким образом, модель готова к применению в работе. "
   ]
  }
 ],
 "metadata": {
  "ExecuteTimeLog": [
   {
    "duration": 43,
    "start_time": "2022-12-31T10:46:10.749Z"
   },
   {
    "duration": 395,
    "start_time": "2022-12-31T10:46:35.379Z"
   },
   {
    "duration": 76,
    "start_time": "2022-12-31T10:46:37.766Z"
   },
   {
    "duration": 52,
    "start_time": "2022-12-31T10:46:47.676Z"
   },
   {
    "duration": 12,
    "start_time": "2022-12-31T10:50:35.808Z"
   },
   {
    "duration": 7,
    "start_time": "2022-12-31T10:56:01.963Z"
   },
   {
    "duration": 6,
    "start_time": "2022-12-31T10:57:07.093Z"
   },
   {
    "duration": 6,
    "start_time": "2022-12-31T10:58:58.077Z"
   },
   {
    "duration": 5,
    "start_time": "2022-12-31T11:05:24.059Z"
   },
   {
    "duration": 6,
    "start_time": "2022-12-31T11:05:28.863Z"
   },
   {
    "duration": 32,
    "start_time": "2022-12-31T11:05:49.545Z"
   },
   {
    "duration": 3,
    "start_time": "2022-12-31T11:06:49.197Z"
   },
   {
    "duration": 6,
    "start_time": "2022-12-31T11:07:12.644Z"
   },
   {
    "duration": 43,
    "start_time": "2022-12-31T11:07:39.934Z"
   },
   {
    "duration": 7,
    "start_time": "2022-12-31T11:40:08.364Z"
   },
   {
    "duration": 10,
    "start_time": "2022-12-31T11:40:21.312Z"
   },
   {
    "duration": 49,
    "start_time": "2022-12-31T11:42:09.855Z"
   },
   {
    "duration": 18,
    "start_time": "2022-12-31T11:44:16.240Z"
   },
   {
    "duration": 7,
    "start_time": "2022-12-31T11:44:36.268Z"
   },
   {
    "duration": 53,
    "start_time": "2022-12-31T11:45:06.826Z"
   },
   {
    "duration": 872,
    "start_time": "2022-12-31T11:45:16.194Z"
   },
   {
    "duration": 44,
    "start_time": "2022-12-31T11:45:21.336Z"
   },
   {
    "duration": 2,
    "start_time": "2022-12-31T11:45:31.700Z"
   },
   {
    "duration": 1118,
    "start_time": "2022-12-31T11:45:35.336Z"
   },
   {
    "duration": 919,
    "start_time": "2022-12-31T11:46:28.698Z"
   },
   {
    "duration": 1048,
    "start_time": "2022-12-31T11:46:51.534Z"
   },
   {
    "duration": 4,
    "start_time": "2022-12-31T11:48:28.569Z"
   },
   {
    "duration": 10,
    "start_time": "2022-12-31T11:49:54.096Z"
   },
   {
    "duration": 53477,
    "start_time": "2022-12-31T11:50:04.387Z"
   },
   {
    "duration": 34456,
    "start_time": "2022-12-31T11:53:29.998Z"
   },
   {
    "duration": 19179,
    "start_time": "2022-12-31T11:58:07.362Z"
   },
   {
    "duration": 46,
    "start_time": "2023-01-01T05:08:07.598Z"
   },
   {
    "duration": 1198,
    "start_time": "2023-01-01T05:08:11.128Z"
   },
   {
    "duration": 95,
    "start_time": "2023-01-01T05:08:12.328Z"
   },
   {
    "duration": 14,
    "start_time": "2023-01-01T05:08:12.424Z"
   },
   {
    "duration": 6,
    "start_time": "2023-01-01T05:08:12.440Z"
   },
   {
    "duration": 3,
    "start_time": "2023-01-01T05:08:12.448Z"
   },
   {
    "duration": 8,
    "start_time": "2023-01-01T05:08:12.452Z"
   },
   {
    "duration": 13,
    "start_time": "2023-01-01T05:08:12.461Z"
   },
   {
    "duration": 84,
    "start_time": "2023-01-01T05:08:12.475Z"
   },
   {
    "duration": 0,
    "start_time": "2023-01-01T05:08:12.560Z"
   },
   {
    "duration": 0,
    "start_time": "2023-01-01T05:08:12.561Z"
   },
   {
    "duration": 16,
    "start_time": "2023-01-01T05:08:40.100Z"
   },
   {
    "duration": 4,
    "start_time": "2023-01-01T05:08:51.518Z"
   },
   {
    "duration": 16,
    "start_time": "2023-01-01T05:08:59.005Z"
   },
   {
    "duration": 4,
    "start_time": "2023-01-01T06:14:34.590Z"
   },
   {
    "duration": 8,
    "start_time": "2023-01-01T06:14:41.088Z"
   },
   {
    "duration": 12,
    "start_time": "2023-01-01T06:15:06.870Z"
   },
   {
    "duration": 12,
    "start_time": "2023-01-01T06:15:39.860Z"
   },
   {
    "duration": 3,
    "start_time": "2023-01-01T06:15:51.563Z"
   },
   {
    "duration": 51,
    "start_time": "2023-01-01T06:15:51.568Z"
   },
   {
    "duration": 11,
    "start_time": "2023-01-01T06:15:51.621Z"
   },
   {
    "duration": 6,
    "start_time": "2023-01-01T06:15:51.634Z"
   },
   {
    "duration": 3,
    "start_time": "2023-01-01T06:15:51.642Z"
   },
   {
    "duration": 6,
    "start_time": "2023-01-01T06:15:51.647Z"
   },
   {
    "duration": 10,
    "start_time": "2023-01-01T06:15:51.654Z"
   },
   {
    "duration": 4,
    "start_time": "2023-01-01T06:15:51.665Z"
   },
   {
    "duration": 47,
    "start_time": "2023-01-01T06:15:51.670Z"
   },
   {
    "duration": 18,
    "start_time": "2023-01-01T06:15:51.719Z"
   },
   {
    "duration": 24,
    "start_time": "2023-01-01T06:15:51.739Z"
   },
   {
    "duration": 1502,
    "start_time": "2023-01-01T06:15:51.765Z"
   },
   {
    "duration": 12,
    "start_time": "2023-01-01T06:16:25.502Z"
   },
   {
    "duration": 3,
    "start_time": "2023-01-01T06:16:28.852Z"
   },
   {
    "duration": 51,
    "start_time": "2023-01-01T06:16:28.857Z"
   },
   {
    "duration": 11,
    "start_time": "2023-01-01T06:16:28.910Z"
   },
   {
    "duration": 6,
    "start_time": "2023-01-01T06:16:28.922Z"
   },
   {
    "duration": 3,
    "start_time": "2023-01-01T06:16:28.930Z"
   },
   {
    "duration": 9,
    "start_time": "2023-01-01T06:16:28.934Z"
   },
   {
    "duration": 12,
    "start_time": "2023-01-01T06:16:28.944Z"
   },
   {
    "duration": 3,
    "start_time": "2023-01-01T06:16:28.957Z"
   },
   {
    "duration": 12,
    "start_time": "2023-01-01T06:16:28.961Z"
   },
   {
    "duration": 44,
    "start_time": "2023-01-01T06:16:28.974Z"
   },
   {
    "duration": 21,
    "start_time": "2023-01-01T06:16:29.019Z"
   },
   {
    "duration": 1258,
    "start_time": "2023-01-01T06:16:29.042Z"
   },
   {
    "duration": 8,
    "start_time": "2023-01-01T06:17:29.722Z"
   },
   {
    "duration": 17,
    "start_time": "2023-01-01T06:17:30.473Z"
   },
   {
    "duration": 14,
    "start_time": "2023-01-01T06:17:43.813Z"
   },
   {
    "duration": 2,
    "start_time": "2023-01-01T06:17:47.047Z"
   },
   {
    "duration": 64,
    "start_time": "2023-01-01T06:17:47.051Z"
   },
   {
    "duration": 16,
    "start_time": "2023-01-01T06:17:47.117Z"
   },
   {
    "duration": 10,
    "start_time": "2023-01-01T06:17:47.134Z"
   },
   {
    "duration": 4,
    "start_time": "2023-01-01T06:17:47.146Z"
   },
   {
    "duration": 20,
    "start_time": "2023-01-01T06:17:47.151Z"
   },
   {
    "duration": 12,
    "start_time": "2023-01-01T06:17:47.172Z"
   },
   {
    "duration": 3,
    "start_time": "2023-01-01T06:17:47.185Z"
   },
   {
    "duration": 30,
    "start_time": "2023-01-01T06:17:47.190Z"
   },
   {
    "duration": 8,
    "start_time": "2023-01-01T06:17:47.222Z"
   },
   {
    "duration": 16,
    "start_time": "2023-01-01T06:17:47.232Z"
   },
   {
    "duration": 25,
    "start_time": "2023-01-01T06:17:47.249Z"
   },
   {
    "duration": 1686,
    "start_time": "2023-01-01T06:17:47.275Z"
   },
   {
    "duration": 12,
    "start_time": "2023-01-01T06:18:05.113Z"
   },
   {
    "duration": 18,
    "start_time": "2023-01-01T06:18:05.919Z"
   },
   {
    "duration": 2,
    "start_time": "2023-01-01T06:18:13.838Z"
   },
   {
    "duration": 56,
    "start_time": "2023-01-01T06:18:13.842Z"
   },
   {
    "duration": 13,
    "start_time": "2023-01-01T06:18:13.899Z"
   },
   {
    "duration": 10,
    "start_time": "2023-01-01T06:18:13.914Z"
   },
   {
    "duration": 4,
    "start_time": "2023-01-01T06:18:13.925Z"
   },
   {
    "duration": 7,
    "start_time": "2023-01-01T06:18:13.930Z"
   },
   {
    "duration": 13,
    "start_time": "2023-01-01T06:18:13.939Z"
   },
   {
    "duration": 3,
    "start_time": "2023-01-01T06:18:13.954Z"
   },
   {
    "duration": 10,
    "start_time": "2023-01-01T06:18:13.959Z"
   },
   {
    "duration": 6,
    "start_time": "2023-01-01T06:18:13.972Z"
   },
   {
    "duration": 45,
    "start_time": "2023-01-01T06:18:13.979Z"
   },
   {
    "duration": 24,
    "start_time": "2023-01-01T06:18:14.026Z"
   },
   {
    "duration": 1544,
    "start_time": "2023-01-01T06:18:14.051Z"
   },
   {
    "duration": 7,
    "start_time": "2023-01-01T06:23:10.811Z"
   },
   {
    "duration": 7,
    "start_time": "2023-01-01T06:23:13.156Z"
   },
   {
    "duration": 7,
    "start_time": "2023-01-01T06:23:25.931Z"
   },
   {
    "duration": 12,
    "start_time": "2023-01-01T06:24:11.498Z"
   },
   {
    "duration": 2,
    "start_time": "2023-01-01T06:24:26.181Z"
   },
   {
    "duration": 72,
    "start_time": "2023-01-01T06:24:26.185Z"
   },
   {
    "duration": 16,
    "start_time": "2023-01-01T06:24:26.258Z"
   },
   {
    "duration": 12,
    "start_time": "2023-01-01T06:24:26.275Z"
   },
   {
    "duration": 12,
    "start_time": "2023-01-01T06:24:26.290Z"
   },
   {
    "duration": 12,
    "start_time": "2023-01-01T06:24:26.304Z"
   },
   {
    "duration": 15,
    "start_time": "2023-01-01T06:24:26.318Z"
   },
   {
    "duration": 5,
    "start_time": "2023-01-01T06:24:26.335Z"
   },
   {
    "duration": 10,
    "start_time": "2023-01-01T06:24:26.341Z"
   },
   {
    "duration": 8,
    "start_time": "2023-01-01T06:24:26.353Z"
   },
   {
    "duration": 22,
    "start_time": "2023-01-01T06:24:26.362Z"
   },
   {
    "duration": 25,
    "start_time": "2023-01-01T06:24:26.416Z"
   },
   {
    "duration": 1773,
    "start_time": "2023-01-01T06:24:26.443Z"
   },
   {
    "duration": 11,
    "start_time": "2023-01-01T06:24:55.931Z"
   },
   {
    "duration": 4,
    "start_time": "2023-01-01T06:25:48.979Z"
   },
   {
    "duration": 4,
    "start_time": "2023-01-01T06:28:06.787Z"
   },
   {
    "duration": 4,
    "start_time": "2023-01-01T06:29:38.685Z"
   },
   {
    "duration": 5,
    "start_time": "2023-01-01T06:30:05.456Z"
   },
   {
    "duration": 4,
    "start_time": "2023-01-01T06:35:05.112Z"
   },
   {
    "duration": 11,
    "start_time": "2023-01-01T06:35:30.160Z"
   },
   {
    "duration": 26,
    "start_time": "2023-01-01T06:36:08.784Z"
   },
   {
    "duration": 1676,
    "start_time": "2023-01-01T06:36:10.177Z"
   },
   {
    "duration": 1571,
    "start_time": "2023-01-01T06:36:24.475Z"
   },
   {
    "duration": 4,
    "start_time": "2023-01-01T06:46:15.167Z"
   },
   {
    "duration": 3,
    "start_time": "2023-01-01T06:48:25.282Z"
   },
   {
    "duration": 3,
    "start_time": "2023-01-01T06:48:32.404Z"
   },
   {
    "duration": 763,
    "start_time": "2023-01-01T06:58:19.034Z"
   },
   {
    "duration": 6,
    "start_time": "2023-01-01T06:58:29.008Z"
   },
   {
    "duration": 10,
    "start_time": "2023-01-01T07:01:18.283Z"
   },
   {
    "duration": 10,
    "start_time": "2023-01-01T07:01:46.197Z"
   },
   {
    "duration": 3,
    "start_time": "2023-01-01T07:02:17.298Z"
   },
   {
    "duration": 5,
    "start_time": "2023-01-01T07:02:21.137Z"
   },
   {
    "duration": 74,
    "start_time": "2023-01-01T07:02:26.893Z"
   },
   {
    "duration": 73,
    "start_time": "2023-01-01T07:04:10.288Z"
   },
   {
    "duration": 69,
    "start_time": "2023-01-01T07:04:29.653Z"
   },
   {
    "duration": 320,
    "start_time": "2023-01-01T07:08:30.688Z"
   },
   {
    "duration": 744,
    "start_time": "2023-01-01T07:09:01.088Z"
   },
   {
    "duration": 8,
    "start_time": "2023-01-01T07:09:11.060Z"
   },
   {
    "duration": 6,
    "start_time": "2023-01-01T07:11:20.233Z"
   },
   {
    "duration": 4,
    "start_time": "2023-01-01T07:14:00.730Z"
   },
   {
    "duration": 3,
    "start_time": "2023-01-01T07:14:16.414Z"
   },
   {
    "duration": 5,
    "start_time": "2023-01-01T07:16:02.822Z"
   },
   {
    "duration": 5,
    "start_time": "2023-01-01T07:16:10.618Z"
   },
   {
    "duration": 60,
    "start_time": "2023-01-01T07:20:54.175Z"
   },
   {
    "duration": 48,
    "start_time": "2023-01-01T07:22:11.504Z"
   },
   {
    "duration": 94,
    "start_time": "2023-01-01T07:22:20.157Z"
   },
   {
    "duration": 4,
    "start_time": "2023-01-01T07:22:24.636Z"
   },
   {
    "duration": 21,
    "start_time": "2023-01-01T07:22:39.206Z"
   },
   {
    "duration": 5,
    "start_time": "2023-01-01T07:22:54.702Z"
   },
   {
    "duration": 23,
    "start_time": "2023-01-01T07:23:08.409Z"
   },
   {
    "duration": 51,
    "start_time": "2023-01-01T07:23:22.620Z"
   },
   {
    "duration": 5,
    "start_time": "2023-01-01T07:23:37.081Z"
   },
   {
    "duration": 5,
    "start_time": "2023-01-01T07:23:57.672Z"
   },
   {
    "duration": 45,
    "start_time": "2023-01-01T07:32:37.726Z"
   },
   {
    "duration": 47,
    "start_time": "2023-01-01T07:32:41.682Z"
   },
   {
    "duration": 4,
    "start_time": "2023-01-01T07:32:51.897Z"
   },
   {
    "duration": 5,
    "start_time": "2023-01-01T07:33:01.890Z"
   },
   {
    "duration": 9,
    "start_time": "2023-01-01T07:33:17.633Z"
   },
   {
    "duration": 4,
    "start_time": "2023-01-01T07:33:36.412Z"
   },
   {
    "duration": 4,
    "start_time": "2023-01-01T07:42:26.471Z"
   },
   {
    "duration": 40,
    "start_time": "2023-01-01T07:42:49.373Z"
   },
   {
    "duration": 4,
    "start_time": "2023-01-01T07:42:57.039Z"
   },
   {
    "duration": 3,
    "start_time": "2023-01-01T07:55:18.848Z"
   },
   {
    "duration": 3,
    "start_time": "2023-01-01T07:55:37.924Z"
   },
   {
    "duration": 3,
    "start_time": "2023-01-01T08:09:07.845Z"
   },
   {
    "duration": 11,
    "start_time": "2023-01-01T08:25:04.059Z"
   },
   {
    "duration": 8,
    "start_time": "2023-01-01T08:25:08.999Z"
   },
   {
    "duration": 7,
    "start_time": "2023-01-01T08:27:53.022Z"
   },
   {
    "duration": 7,
    "start_time": "2023-01-01T08:28:00.995Z"
   },
   {
    "duration": 4,
    "start_time": "2023-01-01T08:28:07.249Z"
   },
   {
    "duration": 18,
    "start_time": "2023-01-01T08:28:44.173Z"
   },
   {
    "duration": 17,
    "start_time": "2023-01-01T08:28:50.596Z"
   },
   {
    "duration": 4,
    "start_time": "2023-01-01T08:28:53.480Z"
   },
   {
    "duration": 19,
    "start_time": "2023-01-01T08:29:05.978Z"
   },
   {
    "duration": 4,
    "start_time": "2023-01-01T08:50:22.008Z"
   },
   {
    "duration": 12,
    "start_time": "2023-01-01T08:50:32.609Z"
   },
   {
    "duration": 3,
    "start_time": "2023-01-01T08:50:36.110Z"
   },
   {
    "duration": 54,
    "start_time": "2023-01-01T08:50:36.116Z"
   },
   {
    "duration": 11,
    "start_time": "2023-01-01T08:50:36.172Z"
   },
   {
    "duration": 6,
    "start_time": "2023-01-01T08:50:36.184Z"
   },
   {
    "duration": 5,
    "start_time": "2023-01-01T08:50:36.192Z"
   },
   {
    "duration": 9,
    "start_time": "2023-01-01T08:50:36.199Z"
   },
   {
    "duration": 17,
    "start_time": "2023-01-01T08:50:36.209Z"
   },
   {
    "duration": 5,
    "start_time": "2023-01-01T08:50:36.228Z"
   },
   {
    "duration": 18,
    "start_time": "2023-01-01T08:50:36.235Z"
   },
   {
    "duration": 11,
    "start_time": "2023-01-01T08:50:36.255Z"
   },
   {
    "duration": 14,
    "start_time": "2023-01-01T08:50:36.269Z"
   },
   {
    "duration": 12,
    "start_time": "2023-01-01T08:50:36.285Z"
   },
   {
    "duration": 9,
    "start_time": "2023-01-01T08:50:36.299Z"
   },
   {
    "duration": 5,
    "start_time": "2023-01-01T08:50:36.316Z"
   },
   {
    "duration": 21,
    "start_time": "2023-01-01T08:50:36.323Z"
   },
   {
    "duration": 21,
    "start_time": "2023-01-01T08:50:36.345Z"
   },
   {
    "duration": 36,
    "start_time": "2023-01-01T08:50:36.368Z"
   },
   {
    "duration": 1444,
    "start_time": "2023-01-01T08:50:36.406Z"
   },
   {
    "duration": 4,
    "start_time": "2023-01-01T08:50:37.852Z"
   },
   {
    "duration": 8,
    "start_time": "2023-01-01T08:50:37.858Z"
   },
   {
    "duration": 12,
    "start_time": "2023-01-01T08:50:37.867Z"
   },
   {
    "duration": 80,
    "start_time": "2023-01-01T08:50:37.880Z"
   },
   {
    "duration": 7,
    "start_time": "2023-01-01T08:50:37.961Z"
   },
   {
    "duration": 4,
    "start_time": "2023-01-01T08:50:37.970Z"
   },
   {
    "duration": 4,
    "start_time": "2023-01-01T08:50:37.976Z"
   },
   {
    "duration": 6,
    "start_time": "2023-01-01T08:50:37.982Z"
   },
   {
    "duration": 26,
    "start_time": "2023-01-01T08:50:37.989Z"
   },
   {
    "duration": 3,
    "start_time": "2023-01-01T08:50:38.017Z"
   },
   {
    "duration": 15,
    "start_time": "2023-01-01T08:50:38.022Z"
   },
   {
    "duration": 15,
    "start_time": "2023-01-01T08:50:38.038Z"
   },
   {
    "duration": 0,
    "start_time": "2023-01-01T08:50:38.055Z"
   },
   {
    "duration": 0,
    "start_time": "2023-01-01T08:50:38.056Z"
   },
   {
    "duration": 3,
    "start_time": "2023-01-01T08:51:30.878Z"
   },
   {
    "duration": 7,
    "start_time": "2023-01-01T08:51:33.962Z"
   },
   {
    "duration": 18,
    "start_time": "2023-01-01T08:51:35.870Z"
   },
   {
    "duration": 20,
    "start_time": "2023-01-01T08:51:37.562Z"
   },
   {
    "duration": 2,
    "start_time": "2023-01-01T08:53:01.170Z"
   },
   {
    "duration": 3,
    "start_time": "2023-01-01T08:53:24.029Z"
   },
   {
    "duration": 8,
    "start_time": "2023-01-01T08:53:42.194Z"
   },
   {
    "duration": 18,
    "start_time": "2023-01-01T08:53:45.208Z"
   },
   {
    "duration": 12,
    "start_time": "2023-01-01T08:55:34.896Z"
   },
   {
    "duration": 16,
    "start_time": "2023-01-01T08:55:37.739Z"
   },
   {
    "duration": 3,
    "start_time": "2023-01-01T08:55:46.139Z"
   },
   {
    "duration": 54,
    "start_time": "2023-01-01T08:55:46.143Z"
   },
   {
    "duration": 16,
    "start_time": "2023-01-01T08:55:46.199Z"
   },
   {
    "duration": 23,
    "start_time": "2023-01-01T08:55:46.217Z"
   },
   {
    "duration": 9,
    "start_time": "2023-01-01T08:55:46.243Z"
   },
   {
    "duration": 18,
    "start_time": "2023-01-01T08:55:46.254Z"
   },
   {
    "duration": 27,
    "start_time": "2023-01-01T08:55:46.274Z"
   },
   {
    "duration": 4,
    "start_time": "2023-01-01T08:55:46.303Z"
   },
   {
    "duration": 18,
    "start_time": "2023-01-01T08:55:46.309Z"
   },
   {
    "duration": 10,
    "start_time": "2023-01-01T08:55:46.329Z"
   },
   {
    "duration": 5,
    "start_time": "2023-01-01T08:55:46.341Z"
   },
   {
    "duration": 10,
    "start_time": "2023-01-01T08:55:46.347Z"
   },
   {
    "duration": 13,
    "start_time": "2023-01-01T08:55:46.359Z"
   },
   {
    "duration": 10,
    "start_time": "2023-01-01T08:55:46.373Z"
   },
   {
    "duration": 27,
    "start_time": "2023-01-01T08:55:46.385Z"
   },
   {
    "duration": 6,
    "start_time": "2023-01-01T08:55:46.414Z"
   },
   {
    "duration": 24,
    "start_time": "2023-01-01T08:55:46.421Z"
   },
   {
    "duration": 1440,
    "start_time": "2023-01-01T08:55:46.447Z"
   },
   {
    "duration": 5,
    "start_time": "2023-01-01T08:55:47.888Z"
   },
   {
    "duration": 11,
    "start_time": "2023-01-01T08:55:47.895Z"
   },
   {
    "duration": 19,
    "start_time": "2023-01-01T08:55:47.907Z"
   },
   {
    "duration": 71,
    "start_time": "2023-01-01T08:55:47.927Z"
   },
   {
    "duration": 6,
    "start_time": "2023-01-01T08:55:48.000Z"
   },
   {
    "duration": 11,
    "start_time": "2023-01-01T08:55:48.008Z"
   },
   {
    "duration": 5,
    "start_time": "2023-01-01T08:55:48.020Z"
   },
   {
    "duration": 5,
    "start_time": "2023-01-01T08:55:48.026Z"
   },
   {
    "duration": 6,
    "start_time": "2023-01-01T08:55:48.033Z"
   },
   {
    "duration": 13,
    "start_time": "2023-01-01T08:55:48.041Z"
   },
   {
    "duration": 6,
    "start_time": "2023-01-01T08:55:48.057Z"
   },
   {
    "duration": 9,
    "start_time": "2023-01-01T08:55:48.064Z"
   },
   {
    "duration": 12,
    "start_time": "2023-01-01T08:55:48.075Z"
   },
   {
    "duration": 41,
    "start_time": "2023-01-01T08:55:48.088Z"
   },
   {
    "duration": 3,
    "start_time": "2023-01-01T08:56:32.212Z"
   },
   {
    "duration": 53,
    "start_time": "2023-01-01T08:56:32.217Z"
   },
   {
    "duration": 11,
    "start_time": "2023-01-01T08:56:32.271Z"
   },
   {
    "duration": 16,
    "start_time": "2023-01-01T08:56:32.283Z"
   },
   {
    "duration": 11,
    "start_time": "2023-01-01T08:56:32.301Z"
   },
   {
    "duration": 13,
    "start_time": "2023-01-01T08:56:32.313Z"
   },
   {
    "duration": 11,
    "start_time": "2023-01-01T08:56:32.328Z"
   },
   {
    "duration": 3,
    "start_time": "2023-01-01T08:56:32.340Z"
   },
   {
    "duration": 9,
    "start_time": "2023-01-01T08:56:32.345Z"
   },
   {
    "duration": 6,
    "start_time": "2023-01-01T08:56:32.355Z"
   },
   {
    "duration": 4,
    "start_time": "2023-01-01T08:56:32.363Z"
   },
   {
    "duration": 7,
    "start_time": "2023-01-01T08:56:32.368Z"
   },
   {
    "duration": 101,
    "start_time": "2023-01-01T08:56:32.377Z"
   },
   {
    "duration": 7,
    "start_time": "2023-01-01T08:56:32.480Z"
   },
   {
    "duration": 13,
    "start_time": "2023-01-01T08:56:32.489Z"
   },
   {
    "duration": 17,
    "start_time": "2023-01-01T08:56:32.503Z"
   },
   {
    "duration": 22,
    "start_time": "2023-01-01T08:56:32.521Z"
   },
   {
    "duration": 1396,
    "start_time": "2023-01-01T08:56:32.545Z"
   },
   {
    "duration": 5,
    "start_time": "2023-01-01T08:56:33.943Z"
   },
   {
    "duration": 6,
    "start_time": "2023-01-01T08:56:33.949Z"
   },
   {
    "duration": 9,
    "start_time": "2023-01-01T08:56:33.957Z"
   },
   {
    "duration": 82,
    "start_time": "2023-01-01T08:56:33.967Z"
   },
   {
    "duration": 7,
    "start_time": "2023-01-01T08:56:34.051Z"
   },
   {
    "duration": 5,
    "start_time": "2023-01-01T08:56:34.060Z"
   },
   {
    "duration": 7,
    "start_time": "2023-01-01T08:56:34.066Z"
   },
   {
    "duration": 6,
    "start_time": "2023-01-01T08:56:34.075Z"
   },
   {
    "duration": 5,
    "start_time": "2023-01-01T08:56:34.083Z"
   },
   {
    "duration": 26,
    "start_time": "2023-01-01T08:56:34.090Z"
   },
   {
    "duration": 3,
    "start_time": "2023-01-01T08:56:34.120Z"
   },
   {
    "duration": 10,
    "start_time": "2023-01-01T08:56:34.125Z"
   },
   {
    "duration": 16,
    "start_time": "2023-01-01T08:56:34.137Z"
   },
   {
    "duration": 22,
    "start_time": "2023-01-01T08:56:34.154Z"
   },
   {
    "duration": 18,
    "start_time": "2023-01-01T08:59:16.445Z"
   },
   {
    "duration": 12,
    "start_time": "2023-01-01T08:59:55.958Z"
   },
   {
    "duration": 10,
    "start_time": "2023-01-01T09:00:12.026Z"
   },
   {
    "duration": 8,
    "start_time": "2023-01-01T09:00:18.844Z"
   },
   {
    "duration": 11,
    "start_time": "2023-01-01T09:00:57.863Z"
   },
   {
    "duration": 45,
    "start_time": "2023-01-01T10:39:28.287Z"
   },
   {
    "duration": 5,
    "start_time": "2023-01-01T10:39:37.098Z"
   },
   {
    "duration": 1377,
    "start_time": "2023-01-01T10:39:42.699Z"
   },
   {
    "duration": 94,
    "start_time": "2023-01-01T10:39:44.079Z"
   },
   {
    "duration": 13,
    "start_time": "2023-01-01T10:39:44.175Z"
   },
   {
    "duration": 7,
    "start_time": "2023-01-01T10:39:44.190Z"
   },
   {
    "duration": 11,
    "start_time": "2023-01-01T10:39:44.198Z"
   },
   {
    "duration": 11,
    "start_time": "2023-01-01T10:39:44.211Z"
   },
   {
    "duration": 29,
    "start_time": "2023-01-01T10:39:44.224Z"
   },
   {
    "duration": 15,
    "start_time": "2023-01-01T10:39:44.256Z"
   },
   {
    "duration": 11,
    "start_time": "2023-01-01T10:39:44.273Z"
   },
   {
    "duration": 12,
    "start_time": "2023-01-01T10:39:44.286Z"
   },
   {
    "duration": 4,
    "start_time": "2023-01-01T10:39:44.300Z"
   },
   {
    "duration": 8,
    "start_time": "2023-01-01T10:39:44.305Z"
   },
   {
    "duration": 10,
    "start_time": "2023-01-01T10:39:44.315Z"
   },
   {
    "duration": 8,
    "start_time": "2023-01-01T10:39:44.327Z"
   },
   {
    "duration": 17,
    "start_time": "2023-01-01T10:39:44.337Z"
   },
   {
    "duration": 9,
    "start_time": "2023-01-01T10:39:44.356Z"
   },
   {
    "duration": 23,
    "start_time": "2023-01-01T10:39:44.367Z"
   },
   {
    "duration": 2509,
    "start_time": "2023-01-01T10:39:44.391Z"
   },
   {
    "duration": 4,
    "start_time": "2023-01-01T10:39:46.901Z"
   },
   {
    "duration": 8,
    "start_time": "2023-01-01T10:39:46.907Z"
   },
   {
    "duration": 12,
    "start_time": "2023-01-01T10:39:46.918Z"
   },
   {
    "duration": 103,
    "start_time": "2023-01-01T10:39:46.931Z"
   },
   {
    "duration": 7,
    "start_time": "2023-01-01T10:39:47.035Z"
   },
   {
    "duration": 5,
    "start_time": "2023-01-01T10:39:47.043Z"
   },
   {
    "duration": 5,
    "start_time": "2023-01-01T10:39:47.050Z"
   },
   {
    "duration": 3,
    "start_time": "2023-01-01T10:39:47.057Z"
   },
   {
    "duration": 9,
    "start_time": "2023-01-01T10:39:47.062Z"
   },
   {
    "duration": 4,
    "start_time": "2023-01-01T10:39:47.073Z"
   },
   {
    "duration": 6,
    "start_time": "2023-01-01T10:39:47.078Z"
   },
   {
    "duration": 10,
    "start_time": "2023-01-01T10:39:47.085Z"
   },
   {
    "duration": 16,
    "start_time": "2023-01-01T10:39:47.122Z"
   },
   {
    "duration": 28,
    "start_time": "2023-01-01T10:39:47.140Z"
   },
   {
    "duration": 13,
    "start_time": "2023-01-01T10:39:47.170Z"
   },
   {
    "duration": 14,
    "start_time": "2023-01-01T10:40:17.642Z"
   },
   {
    "duration": 8,
    "start_time": "2023-01-01T10:40:22.840Z"
   },
   {
    "duration": 46,
    "start_time": "2023-01-01T10:40:32.452Z"
   },
   {
    "duration": 89,
    "start_time": "2023-01-01T10:40:42.089Z"
   },
   {
    "duration": 11,
    "start_time": "2023-01-01T10:40:47.740Z"
   },
   {
    "duration": 14,
    "start_time": "2023-01-01T10:40:50.637Z"
   },
   {
    "duration": 3,
    "start_time": "2023-01-01T10:40:56.927Z"
   },
   {
    "duration": 45,
    "start_time": "2023-01-01T10:40:56.948Z"
   },
   {
    "duration": 10,
    "start_time": "2023-01-01T10:40:56.995Z"
   },
   {
    "duration": 8,
    "start_time": "2023-01-01T10:40:57.007Z"
   },
   {
    "duration": 8,
    "start_time": "2023-01-01T10:40:57.017Z"
   },
   {
    "duration": 13,
    "start_time": "2023-01-01T10:40:57.027Z"
   },
   {
    "duration": 10,
    "start_time": "2023-01-01T10:40:57.042Z"
   },
   {
    "duration": 3,
    "start_time": "2023-01-01T10:40:57.054Z"
   },
   {
    "duration": 13,
    "start_time": "2023-01-01T10:40:57.059Z"
   },
   {
    "duration": 80,
    "start_time": "2023-01-01T10:40:57.073Z"
   },
   {
    "duration": 4,
    "start_time": "2023-01-01T10:40:57.156Z"
   },
   {
    "duration": 23,
    "start_time": "2023-01-01T10:40:57.161Z"
   },
   {
    "duration": 11,
    "start_time": "2023-01-01T10:40:57.185Z"
   },
   {
    "duration": 6,
    "start_time": "2023-01-01T10:40:57.198Z"
   },
   {
    "duration": 15,
    "start_time": "2023-01-01T10:40:57.205Z"
   },
   {
    "duration": 9,
    "start_time": "2023-01-01T10:40:57.221Z"
   },
   {
    "duration": 32,
    "start_time": "2023-01-01T10:40:57.232Z"
   },
   {
    "duration": 1505,
    "start_time": "2023-01-01T10:40:57.266Z"
   },
   {
    "duration": 4,
    "start_time": "2023-01-01T10:40:58.773Z"
   },
   {
    "duration": 11,
    "start_time": "2023-01-01T10:40:58.779Z"
   },
   {
    "duration": 8,
    "start_time": "2023-01-01T10:40:58.792Z"
   },
   {
    "duration": 92,
    "start_time": "2023-01-01T10:40:58.802Z"
   },
   {
    "duration": 7,
    "start_time": "2023-01-01T10:40:58.896Z"
   },
   {
    "duration": 19,
    "start_time": "2023-01-01T10:40:58.904Z"
   },
   {
    "duration": 5,
    "start_time": "2023-01-01T10:40:58.925Z"
   },
   {
    "duration": 11,
    "start_time": "2023-01-01T10:40:58.932Z"
   },
   {
    "duration": 5,
    "start_time": "2023-01-01T10:40:58.945Z"
   },
   {
    "duration": 18,
    "start_time": "2023-01-01T10:40:58.952Z"
   },
   {
    "duration": 7,
    "start_time": "2023-01-01T10:40:58.973Z"
   },
   {
    "duration": 15,
    "start_time": "2023-01-01T10:40:58.981Z"
   },
   {
    "duration": 25,
    "start_time": "2023-01-01T10:40:58.998Z"
   },
   {
    "duration": 27,
    "start_time": "2023-01-01T10:40:59.025Z"
   },
   {
    "duration": 19,
    "start_time": "2023-01-01T10:40:59.054Z"
   },
   {
    "duration": 3,
    "start_time": "2023-01-01T10:42:18.300Z"
   },
   {
    "duration": 66,
    "start_time": "2023-01-01T10:42:18.305Z"
   },
   {
    "duration": 11,
    "start_time": "2023-01-01T10:42:18.372Z"
   },
   {
    "duration": 8,
    "start_time": "2023-01-01T10:42:18.385Z"
   },
   {
    "duration": 11,
    "start_time": "2023-01-01T10:42:18.395Z"
   },
   {
    "duration": 7,
    "start_time": "2023-01-01T10:42:18.407Z"
   },
   {
    "duration": 17,
    "start_time": "2023-01-01T10:42:18.415Z"
   },
   {
    "duration": 8,
    "start_time": "2023-01-01T10:42:18.434Z"
   },
   {
    "duration": 9,
    "start_time": "2023-01-01T10:42:18.443Z"
   },
   {
    "duration": 9,
    "start_time": "2023-01-01T10:42:18.453Z"
   },
   {
    "duration": 4,
    "start_time": "2023-01-01T10:42:18.464Z"
   },
   {
    "duration": 5,
    "start_time": "2023-01-01T10:42:18.469Z"
   },
   {
    "duration": 7,
    "start_time": "2023-01-01T10:42:18.475Z"
   },
   {
    "duration": 5,
    "start_time": "2023-01-01T10:42:18.485Z"
   },
   {
    "duration": 13,
    "start_time": "2023-01-01T10:42:18.491Z"
   },
   {
    "duration": 10,
    "start_time": "2023-01-01T10:42:18.521Z"
   },
   {
    "duration": 26,
    "start_time": "2023-01-01T10:42:18.535Z"
   },
   {
    "duration": 1644,
    "start_time": "2023-01-01T10:42:18.562Z"
   },
   {
    "duration": 4,
    "start_time": "2023-01-01T10:42:20.207Z"
   },
   {
    "duration": 10,
    "start_time": "2023-01-01T10:42:20.213Z"
   },
   {
    "duration": 17,
    "start_time": "2023-01-01T10:42:20.225Z"
   },
   {
    "duration": 96,
    "start_time": "2023-01-01T10:42:20.243Z"
   },
   {
    "duration": 7,
    "start_time": "2023-01-01T10:42:20.341Z"
   },
   {
    "duration": 22,
    "start_time": "2023-01-01T10:42:20.349Z"
   },
   {
    "duration": 12,
    "start_time": "2023-01-01T10:42:20.372Z"
   },
   {
    "duration": 11,
    "start_time": "2023-01-01T10:42:20.385Z"
   },
   {
    "duration": 15,
    "start_time": "2023-01-01T10:42:20.398Z"
   },
   {
    "duration": 20,
    "start_time": "2023-01-01T10:42:20.415Z"
   },
   {
    "duration": 8,
    "start_time": "2023-01-01T10:42:20.436Z"
   },
   {
    "duration": 12,
    "start_time": "2023-01-01T10:42:20.445Z"
   },
   {
    "duration": 22,
    "start_time": "2023-01-01T10:42:20.458Z"
   },
   {
    "duration": 18,
    "start_time": "2023-01-01T10:42:20.482Z"
   },
   {
    "duration": 15,
    "start_time": "2023-01-01T10:42:20.502Z"
   },
   {
    "duration": 44,
    "start_time": "2023-01-01T10:47:46.441Z"
   },
   {
    "duration": 4,
    "start_time": "2023-01-01T10:51:59.944Z"
   },
   {
    "duration": 3,
    "start_time": "2023-01-01T10:57:46.944Z"
   },
   {
    "duration": 2,
    "start_time": "2023-01-01T10:59:57.172Z"
   },
   {
    "duration": 4,
    "start_time": "2023-01-01T11:00:37.473Z"
   },
   {
    "duration": 17,
    "start_time": "2023-01-01T11:01:07.494Z"
   },
   {
    "duration": 19,
    "start_time": "2023-01-01T11:02:17.892Z"
   },
   {
    "duration": 95,
    "start_time": "2023-01-01T11:04:08.236Z"
   },
   {
    "duration": 24,
    "start_time": "2023-01-01T11:04:46.671Z"
   },
   {
    "duration": 22,
    "start_time": "2023-01-01T11:07:41.422Z"
   },
   {
    "duration": 20,
    "start_time": "2023-01-01T11:07:49.410Z"
   },
   {
    "duration": 115,
    "start_time": "2023-01-01T11:08:08.319Z"
   },
   {
    "duration": 3,
    "start_time": "2023-01-01T11:08:41.168Z"
   },
   {
    "duration": 27,
    "start_time": "2023-01-01T11:08:42.294Z"
   },
   {
    "duration": 17,
    "start_time": "2023-01-01T11:08:55.905Z"
   },
   {
    "duration": 89,
    "start_time": "2023-01-01T11:08:56.845Z"
   },
   {
    "duration": 16,
    "start_time": "2023-01-01T11:10:18.493Z"
   },
   {
    "duration": 14,
    "start_time": "2023-01-01T11:10:20.240Z"
   },
   {
    "duration": 3,
    "start_time": "2023-01-01T11:11:10.120Z"
   },
   {
    "duration": 38,
    "start_time": "2023-01-01T11:11:21.642Z"
   },
   {
    "duration": 51,
    "start_time": "2023-01-01T11:11:33.834Z"
   },
   {
    "duration": 3,
    "start_time": "2023-01-01T12:17:42.496Z"
   },
   {
    "duration": 43,
    "start_time": "2023-01-01T12:18:03.704Z"
   },
   {
    "duration": 22,
    "start_time": "2023-01-01T12:21:16.735Z"
   },
   {
    "duration": 22,
    "start_time": "2023-01-01T12:21:37.140Z"
   },
   {
    "duration": 83,
    "start_time": "2023-01-01T12:22:12.431Z"
   },
   {
    "duration": 223,
    "start_time": "2023-01-01T12:24:31.442Z"
   },
   {
    "duration": 216,
    "start_time": "2023-01-01T12:25:12.997Z"
   },
   {
    "duration": 564,
    "start_time": "2023-01-01T12:25:23.746Z"
   },
   {
    "duration": 929,
    "start_time": "2023-01-01T12:25:31.222Z"
   },
   {
    "duration": 596,
    "start_time": "2023-01-01T12:25:35.412Z"
   },
   {
    "duration": 222,
    "start_time": "2023-01-01T12:25:39.072Z"
   },
   {
    "duration": 82,
    "start_time": "2023-01-01T12:25:43.282Z"
   },
   {
    "duration": 211,
    "start_time": "2023-01-01T12:25:51.644Z"
   },
   {
    "duration": 9,
    "start_time": "2023-01-01T12:26:02.203Z"
   },
   {
    "duration": 215,
    "start_time": "2023-01-01T12:29:03.950Z"
   },
   {
    "duration": 220,
    "start_time": "2023-01-01T12:33:51.498Z"
   },
   {
    "duration": 214,
    "start_time": "2023-01-01T12:37:13.151Z"
   },
   {
    "duration": 209,
    "start_time": "2023-01-01T12:37:27.956Z"
   },
   {
    "duration": 210,
    "start_time": "2023-01-01T12:37:50.750Z"
   },
   {
    "duration": 50,
    "start_time": "2023-01-01T12:38:08.102Z"
   },
   {
    "duration": 13927,
    "start_time": "2023-01-01T12:38:26.262Z"
   },
   {
    "duration": 13685,
    "start_time": "2023-01-01T12:39:12.158Z"
   },
   {
    "duration": 729,
    "start_time": "2023-01-01T12:40:09.665Z"
   },
   {
    "duration": 9,
    "start_time": "2023-01-01T12:43:03.400Z"
   },
   {
    "duration": 2,
    "start_time": "2023-01-01T12:43:48.518Z"
   },
   {
    "duration": 3,
    "start_time": "2023-01-01T12:44:10.143Z"
   },
   {
    "duration": 8,
    "start_time": "2023-01-01T12:44:35.495Z"
   },
   {
    "duration": 14,
    "start_time": "2023-01-01T12:44:55.761Z"
   },
   {
    "duration": 12,
    "start_time": "2023-01-01T12:52:55.949Z"
   },
   {
    "duration": 4,
    "start_time": "2023-01-01T12:53:17.368Z"
   },
   {
    "duration": 4,
    "start_time": "2023-01-01T12:53:23.156Z"
   },
   {
    "duration": 3,
    "start_time": "2023-01-01T12:53:51.971Z"
   },
   {
    "duration": 18,
    "start_time": "2023-01-01T12:54:00.864Z"
   },
   {
    "duration": 7,
    "start_time": "2023-01-01T12:54:19.984Z"
   },
   {
    "duration": 17,
    "start_time": "2023-01-01T12:54:38.812Z"
   },
   {
    "duration": 18,
    "start_time": "2023-01-01T12:55:03.803Z"
   },
   {
    "duration": 19,
    "start_time": "2023-01-01T12:55:06.438Z"
   },
   {
    "duration": 13562,
    "start_time": "2023-01-01T12:55:25.776Z"
   },
   {
    "duration": 65,
    "start_time": "2023-01-01T12:56:18.338Z"
   },
   {
    "duration": 13605,
    "start_time": "2023-01-01T12:56:24.372Z"
   },
   {
    "duration": 11,
    "start_time": "2023-01-01T12:57:13.026Z"
   },
   {
    "duration": 1171,
    "start_time": "2023-01-01T12:57:20.682Z"
   },
   {
    "duration": 175,
    "start_time": "2023-01-01T12:57:21.855Z"
   },
   {
    "duration": 720,
    "start_time": "2023-01-01T13:06:14.652Z"
   },
   {
    "duration": 698,
    "start_time": "2023-01-01T13:06:40.029Z"
   },
   {
    "duration": 1140,
    "start_time": "2023-01-01T13:06:49.731Z"
   },
   {
    "duration": 4,
    "start_time": "2023-01-01T13:08:37.483Z"
   },
   {
    "duration": 8,
    "start_time": "2023-01-01T13:10:13.027Z"
   },
   {
    "duration": 12,
    "start_time": "2023-01-01T13:10:14.153Z"
   },
   {
    "duration": 509,
    "start_time": "2023-01-01T13:10:41.747Z"
   },
   {
    "duration": 17,
    "start_time": "2023-01-01T13:11:19.065Z"
   },
   {
    "duration": 7,
    "start_time": "2023-01-01T13:11:31.982Z"
   },
   {
    "duration": 12,
    "start_time": "2023-01-01T13:11:32.682Z"
   },
   {
    "duration": 7,
    "start_time": "2023-01-01T13:12:54.562Z"
   },
   {
    "duration": 15,
    "start_time": "2023-01-01T13:12:55.449Z"
   },
   {
    "duration": 7,
    "start_time": "2023-01-01T13:13:14.481Z"
   },
   {
    "duration": 6,
    "start_time": "2023-01-01T13:13:15.385Z"
   },
   {
    "duration": 11,
    "start_time": "2023-01-01T13:13:42.052Z"
   },
   {
    "duration": 12,
    "start_time": "2023-01-01T13:13:47.071Z"
   },
   {
    "duration": 10,
    "start_time": "2023-01-01T13:14:08.923Z"
   },
   {
    "duration": 11,
    "start_time": "2023-01-01T13:14:12.085Z"
   },
   {
    "duration": 6,
    "start_time": "2023-01-01T13:14:14.196Z"
   },
   {
    "duration": 6,
    "start_time": "2023-01-01T13:14:14.834Z"
   },
   {
    "duration": 6,
    "start_time": "2023-01-01T13:14:33.770Z"
   },
   {
    "duration": 6,
    "start_time": "2023-01-01T13:14:34.584Z"
   },
   {
    "duration": 10,
    "start_time": "2023-01-01T13:15:15.016Z"
   },
   {
    "duration": 6,
    "start_time": "2023-01-01T13:16:29.281Z"
   },
   {
    "duration": 5,
    "start_time": "2023-01-01T13:16:35.795Z"
   },
   {
    "duration": 4,
    "start_time": "2023-01-01T13:17:12.777Z"
   },
   {
    "duration": 5,
    "start_time": "2023-01-01T13:18:29.624Z"
   },
   {
    "duration": 5,
    "start_time": "2023-01-01T13:19:02.326Z"
   },
   {
    "duration": 5,
    "start_time": "2023-01-01T13:19:14.878Z"
   },
   {
    "duration": 4,
    "start_time": "2023-01-01T13:22:04.182Z"
   },
   {
    "duration": 54,
    "start_time": "2023-01-01T13:22:04.188Z"
   },
   {
    "duration": 11,
    "start_time": "2023-01-01T13:22:04.244Z"
   },
   {
    "duration": 7,
    "start_time": "2023-01-01T13:22:04.257Z"
   },
   {
    "duration": 8,
    "start_time": "2023-01-01T13:22:04.266Z"
   },
   {
    "duration": 11,
    "start_time": "2023-01-01T13:22:04.276Z"
   },
   {
    "duration": 33,
    "start_time": "2023-01-01T13:22:04.289Z"
   },
   {
    "duration": 5,
    "start_time": "2023-01-01T13:22:04.324Z"
   },
   {
    "duration": 11,
    "start_time": "2023-01-01T13:22:04.331Z"
   },
   {
    "duration": 11,
    "start_time": "2023-01-01T13:22:04.344Z"
   },
   {
    "duration": 6,
    "start_time": "2023-01-01T13:22:04.357Z"
   },
   {
    "duration": 9,
    "start_time": "2023-01-01T13:22:04.364Z"
   },
   {
    "duration": 4,
    "start_time": "2023-01-01T13:22:04.516Z"
   },
   {
    "duration": 9,
    "start_time": "2023-01-01T13:22:04.522Z"
   },
   {
    "duration": 15,
    "start_time": "2023-01-01T13:22:04.532Z"
   },
   {
    "duration": 7,
    "start_time": "2023-01-01T13:22:04.548Z"
   },
   {
    "duration": 29,
    "start_time": "2023-01-01T13:22:04.557Z"
   },
   {
    "duration": 1580,
    "start_time": "2023-01-01T13:22:04.587Z"
   },
   {
    "duration": 4,
    "start_time": "2023-01-01T13:22:06.169Z"
   },
   {
    "duration": 16,
    "start_time": "2023-01-01T13:22:06.174Z"
   },
   {
    "duration": 14,
    "start_time": "2023-01-01T13:22:06.191Z"
   },
   {
    "duration": 76,
    "start_time": "2023-01-01T13:22:06.207Z"
   },
   {
    "duration": 4,
    "start_time": "2023-01-01T13:22:06.284Z"
   },
   {
    "duration": 8,
    "start_time": "2023-01-01T13:22:06.289Z"
   },
   {
    "duration": 24,
    "start_time": "2023-01-01T13:22:06.298Z"
   },
   {
    "duration": 6,
    "start_time": "2023-01-01T13:22:06.324Z"
   },
   {
    "duration": 4,
    "start_time": "2023-01-01T13:22:06.331Z"
   },
   {
    "duration": 8,
    "start_time": "2023-01-01T13:22:06.337Z"
   },
   {
    "duration": 5,
    "start_time": "2023-01-01T13:22:06.347Z"
   },
   {
    "duration": 20,
    "start_time": "2023-01-01T13:22:06.353Z"
   },
   {
    "duration": 18,
    "start_time": "2023-01-01T13:22:06.374Z"
   },
   {
    "duration": 30,
    "start_time": "2023-01-01T13:22:06.393Z"
   },
   {
    "duration": 22,
    "start_time": "2023-01-01T13:22:06.425Z"
   },
   {
    "duration": 5,
    "start_time": "2023-01-01T13:22:06.448Z"
   },
   {
    "duration": 19,
    "start_time": "2023-01-01T13:22:06.454Z"
   },
   {
    "duration": 51,
    "start_time": "2023-01-01T13:22:06.475Z"
   },
   {
    "duration": 373,
    "start_time": "2023-01-01T13:22:06.528Z"
   },
   {
    "duration": 3,
    "start_time": "2023-01-01T13:22:06.902Z"
   },
   {
    "duration": 15377,
    "start_time": "2023-01-01T13:22:06.906Z"
   },
   {
    "duration": 736,
    "start_time": "2023-01-01T13:22:22.285Z"
   },
   {
    "duration": 2,
    "start_time": "2023-01-01T13:39:16.935Z"
   },
   {
    "duration": 777,
    "start_time": "2023-01-01T13:42:13.971Z"
   },
   {
    "duration": 825,
    "start_time": "2023-01-01T13:43:01.230Z"
   },
   {
    "duration": 785,
    "start_time": "2023-01-01T13:44:03.665Z"
   },
   {
    "duration": 784,
    "start_time": "2023-01-01T13:44:24.172Z"
   },
   {
    "duration": 848,
    "start_time": "2023-01-01T13:44:44.855Z"
   },
   {
    "duration": 4,
    "start_time": "2023-01-01T13:50:29.732Z"
   },
   {
    "duration": 782,
    "start_time": "2023-01-01T13:51:03.163Z"
   },
   {
    "duration": 773,
    "start_time": "2023-01-01T13:51:43.433Z"
   },
   {
    "duration": 814,
    "start_time": "2023-01-01T13:52:34.665Z"
   },
   {
    "duration": 3,
    "start_time": "2023-01-01T13:53:07.984Z"
   },
   {
    "duration": 777,
    "start_time": "2023-01-01T13:53:28.551Z"
   },
   {
    "duration": 3,
    "start_time": "2023-01-01T13:53:30.508Z"
   },
   {
    "duration": 5,
    "start_time": "2023-01-01T13:56:07.067Z"
   },
   {
    "duration": 4,
    "start_time": "2023-01-01T13:56:32.892Z"
   },
   {
    "duration": 5,
    "start_time": "2023-01-01T13:56:40.683Z"
   },
   {
    "duration": 42,
    "start_time": "2023-01-01T14:00:37.660Z"
   },
   {
    "duration": 44,
    "start_time": "2023-01-02T10:43:21.219Z"
   },
   {
    "duration": 1559,
    "start_time": "2023-01-02T10:43:29.104Z"
   },
   {
    "duration": 99,
    "start_time": "2023-01-02T10:43:30.665Z"
   },
   {
    "duration": 13,
    "start_time": "2023-01-02T10:43:30.765Z"
   },
   {
    "duration": 27,
    "start_time": "2023-01-02T10:43:30.780Z"
   },
   {
    "duration": 19,
    "start_time": "2023-01-02T10:43:30.808Z"
   },
   {
    "duration": 34,
    "start_time": "2023-01-02T10:43:30.828Z"
   },
   {
    "duration": 25,
    "start_time": "2023-01-02T10:43:30.864Z"
   },
   {
    "duration": 7,
    "start_time": "2023-01-02T10:43:30.891Z"
   },
   {
    "duration": 23,
    "start_time": "2023-01-02T10:43:30.900Z"
   },
   {
    "duration": 32,
    "start_time": "2023-01-02T10:43:30.927Z"
   },
   {
    "duration": 37,
    "start_time": "2023-01-02T10:43:30.961Z"
   },
   {
    "duration": 23,
    "start_time": "2023-01-02T10:43:31.000Z"
   },
   {
    "duration": 26,
    "start_time": "2023-01-02T10:43:31.024Z"
   },
   {
    "duration": 25,
    "start_time": "2023-01-02T10:43:31.051Z"
   },
   {
    "duration": 38,
    "start_time": "2023-01-02T10:43:31.078Z"
   },
   {
    "duration": 20,
    "start_time": "2023-01-02T10:43:31.118Z"
   },
   {
    "duration": 48,
    "start_time": "2023-01-02T10:43:31.139Z"
   },
   {
    "duration": 1730,
    "start_time": "2023-01-02T10:43:31.189Z"
   },
   {
    "duration": 4,
    "start_time": "2023-01-02T10:43:32.921Z"
   },
   {
    "duration": 7,
    "start_time": "2023-01-02T10:43:32.927Z"
   },
   {
    "duration": 8,
    "start_time": "2023-01-02T10:43:32.936Z"
   },
   {
    "duration": 91,
    "start_time": "2023-01-02T10:43:32.945Z"
   },
   {
    "duration": 3,
    "start_time": "2023-01-02T10:43:33.038Z"
   },
   {
    "duration": 6,
    "start_time": "2023-01-02T10:43:33.043Z"
   },
   {
    "duration": 9,
    "start_time": "2023-01-02T10:43:33.051Z"
   },
   {
    "duration": 6,
    "start_time": "2023-01-02T10:43:33.062Z"
   },
   {
    "duration": 96,
    "start_time": "2023-01-02T10:43:33.069Z"
   },
   {
    "duration": 0,
    "start_time": "2023-01-02T10:43:33.167Z"
   },
   {
    "duration": 1,
    "start_time": "2023-01-02T10:43:33.168Z"
   },
   {
    "duration": 0,
    "start_time": "2023-01-02T10:43:33.170Z"
   },
   {
    "duration": 0,
    "start_time": "2023-01-02T10:43:33.170Z"
   },
   {
    "duration": 0,
    "start_time": "2023-01-02T10:43:33.171Z"
   },
   {
    "duration": 0,
    "start_time": "2023-01-02T10:43:33.172Z"
   },
   {
    "duration": 0,
    "start_time": "2023-01-02T10:43:33.173Z"
   },
   {
    "duration": 0,
    "start_time": "2023-01-02T10:43:33.175Z"
   },
   {
    "duration": 0,
    "start_time": "2023-01-02T10:43:33.176Z"
   },
   {
    "duration": 0,
    "start_time": "2023-01-02T10:43:33.177Z"
   },
   {
    "duration": 0,
    "start_time": "2023-01-02T10:43:33.178Z"
   },
   {
    "duration": 0,
    "start_time": "2023-01-02T10:43:33.179Z"
   },
   {
    "duration": 0,
    "start_time": "2023-01-02T10:43:33.180Z"
   },
   {
    "duration": 0,
    "start_time": "2023-01-02T10:43:33.181Z"
   },
   {
    "duration": 515,
    "start_time": "2023-01-02T10:44:31.190Z"
   },
   {
    "duration": 5,
    "start_time": "2023-01-02T10:44:54.453Z"
   },
   {
    "duration": 5,
    "start_time": "2023-01-02T10:45:51.152Z"
   },
   {
    "duration": 2,
    "start_time": "2023-01-02T10:45:59.037Z"
   },
   {
    "duration": 12,
    "start_time": "2023-01-02T10:45:59.041Z"
   },
   {
    "duration": 14,
    "start_time": "2023-01-02T10:45:59.054Z"
   },
   {
    "duration": 17,
    "start_time": "2023-01-02T10:45:59.069Z"
   },
   {
    "duration": 15,
    "start_time": "2023-01-02T10:45:59.088Z"
   },
   {
    "duration": 11,
    "start_time": "2023-01-02T10:45:59.105Z"
   },
   {
    "duration": 25,
    "start_time": "2023-01-02T10:45:59.118Z"
   },
   {
    "duration": 74,
    "start_time": "2023-01-02T10:45:59.145Z"
   },
   {
    "duration": 288,
    "start_time": "2023-01-02T10:45:59.221Z"
   },
   {
    "duration": 14201,
    "start_time": "2023-01-02T10:45:59.511Z"
   },
   {
    "duration": 764,
    "start_time": "2023-01-02T10:46:13.715Z"
   },
   {
    "duration": 3,
    "start_time": "2023-01-02T10:46:14.481Z"
   },
   {
    "duration": 7,
    "start_time": "2023-01-02T10:46:14.486Z"
   },
   {
    "duration": 781,
    "start_time": "2023-01-02T11:15:52.066Z"
   },
   {
    "duration": 759,
    "start_time": "2023-01-02T11:16:09.449Z"
   },
   {
    "duration": 849,
    "start_time": "2023-01-02T11:17:02.703Z"
   },
   {
    "duration": 5,
    "start_time": "2023-01-02T11:30:37.684Z"
   },
   {
    "duration": 5,
    "start_time": "2023-01-02T11:31:43.315Z"
   },
   {
    "duration": 17,
    "start_time": "2023-01-02T11:34:47.741Z"
   },
   {
    "duration": 4,
    "start_time": "2023-01-02T11:36:03.830Z"
   },
   {
    "duration": 12,
    "start_time": "2023-01-02T11:36:16.739Z"
   },
   {
    "duration": 12,
    "start_time": "2023-01-02T11:40:26.079Z"
   },
   {
    "duration": 764,
    "start_time": "2023-01-02T12:04:28.583Z"
   },
   {
    "duration": 757,
    "start_time": "2023-01-02T12:05:31.539Z"
   },
   {
    "duration": 780,
    "start_time": "2023-01-02T12:06:01.790Z"
   },
   {
    "duration": 756,
    "start_time": "2023-01-02T12:07:10.049Z"
   },
   {
    "duration": 11,
    "start_time": "2023-01-02T12:15:20.102Z"
   },
   {
    "duration": 9,
    "start_time": "2023-01-02T12:31:38.699Z"
   },
   {
    "duration": 1100,
    "start_time": "2023-01-02T12:44:16.064Z"
   },
   {
    "duration": 1051,
    "start_time": "2023-01-02T12:45:00.569Z"
   },
   {
    "duration": 1078,
    "start_time": "2023-01-02T12:45:07.916Z"
   },
   {
    "duration": 1113,
    "start_time": "2023-01-02T12:48:16.056Z"
   },
   {
    "duration": 48,
    "start_time": "2023-01-02T12:51:49.680Z"
   },
   {
    "duration": 49,
    "start_time": "2023-01-02T12:52:13.527Z"
   },
   {
    "duration": 43,
    "start_time": "2023-01-02T12:52:21.677Z"
   },
   {
    "duration": 11,
    "start_time": "2023-01-02T12:52:35.608Z"
   },
   {
    "duration": 11,
    "start_time": "2023-01-02T12:52:50.728Z"
   },
   {
    "duration": 2,
    "start_time": "2023-01-02T12:59:51.286Z"
   },
   {
    "duration": 4,
    "start_time": "2023-01-02T14:01:41.022Z"
   },
   {
    "duration": 18,
    "start_time": "2023-01-02T14:03:22.658Z"
   },
   {
    "duration": 12,
    "start_time": "2023-01-02T14:03:50.865Z"
   },
   {
    "duration": 10,
    "start_time": "2023-01-02T14:04:18.445Z"
   },
   {
    "duration": 11,
    "start_time": "2023-01-02T14:04:23.379Z"
   },
   {
    "duration": 11,
    "start_time": "2023-01-02T14:04:27.766Z"
   },
   {
    "duration": 10,
    "start_time": "2023-01-02T14:04:31.883Z"
   },
   {
    "duration": 12,
    "start_time": "2023-01-02T14:04:35.064Z"
   },
   {
    "duration": 11,
    "start_time": "2023-01-02T14:04:43.416Z"
   },
   {
    "duration": 10,
    "start_time": "2023-01-02T14:04:48.436Z"
   },
   {
    "duration": 10,
    "start_time": "2023-01-02T14:04:54.940Z"
   },
   {
    "duration": 11,
    "start_time": "2023-01-02T14:04:59.455Z"
   },
   {
    "duration": 1052,
    "start_time": "2023-01-02T14:09:29.479Z"
   },
   {
    "duration": 434,
    "start_time": "2023-01-02T14:10:30.103Z"
   },
   {
    "duration": 440,
    "start_time": "2023-01-02T14:10:33.726Z"
   },
   {
    "duration": 10,
    "start_time": "2023-01-02T14:16:38.828Z"
   },
   {
    "duration": 1070,
    "start_time": "2023-01-02T14:16:43.550Z"
   },
   {
    "duration": 432,
    "start_time": "2023-01-02T14:16:46.532Z"
   },
   {
    "duration": 13,
    "start_time": "2023-01-02T14:16:59.384Z"
   },
   {
    "duration": 1064,
    "start_time": "2023-01-02T14:22:45.724Z"
   },
   {
    "duration": 433,
    "start_time": "2023-01-02T14:22:47.836Z"
   },
   {
    "duration": 68,
    "start_time": "2023-01-02T14:24:10.074Z"
   },
   {
    "duration": 5,
    "start_time": "2023-01-02T14:25:34.324Z"
   },
   {
    "duration": 57,
    "start_time": "2023-01-02T14:25:43.989Z"
   },
   {
    "duration": 56,
    "start_time": "2023-01-02T14:26:12.768Z"
   },
   {
    "duration": 9,
    "start_time": "2023-01-02T14:31:16.781Z"
   },
   {
    "duration": 2215,
    "start_time": "2023-01-02T14:39:48.369Z"
   },
   {
    "duration": 23,
    "start_time": "2023-01-02T14:40:02.101Z"
   },
   {
    "duration": 3,
    "start_time": "2023-01-02T14:40:06.050Z"
   },
   {
    "duration": 6,
    "start_time": "2023-01-02T14:40:46.555Z"
   },
   {
    "duration": 3,
    "start_time": "2023-01-02T14:41:30.509Z"
   },
   {
    "duration": 7,
    "start_time": "2023-01-02T14:43:04.990Z"
   },
   {
    "duration": 3,
    "start_time": "2023-01-02T14:46:06.936Z"
   },
   {
    "duration": 3,
    "start_time": "2023-01-02T14:46:18.864Z"
   },
   {
    "duration": 3810,
    "start_time": "2023-01-02T14:46:32.102Z"
   },
   {
    "duration": 7,
    "start_time": "2023-01-02T14:48:46.521Z"
   },
   {
    "duration": 5,
    "start_time": "2023-01-02T14:49:18.131Z"
   },
   {
    "duration": 8,
    "start_time": "2023-01-02T14:49:30.170Z"
   },
   {
    "duration": 3,
    "start_time": "2023-01-02T14:50:27.221Z"
   },
   {
    "duration": 3,
    "start_time": "2023-01-02T14:50:27.890Z"
   },
   {
    "duration": 3033,
    "start_time": "2023-01-02T14:50:28.582Z"
   },
   {
    "duration": 7,
    "start_time": "2023-01-02T14:50:35.506Z"
   },
   {
    "duration": 10,
    "start_time": "2023-01-02T14:50:38.865Z"
   },
   {
    "duration": 7,
    "start_time": "2023-01-02T14:50:42.009Z"
   },
   {
    "duration": 10,
    "start_time": "2023-01-02T14:50:43.420Z"
   },
   {
    "duration": 1551,
    "start_time": "2023-01-02T17:04:15.684Z"
   },
   {
    "duration": 104,
    "start_time": "2023-01-02T17:04:17.237Z"
   },
   {
    "duration": 14,
    "start_time": "2023-01-02T17:04:17.344Z"
   },
   {
    "duration": 9,
    "start_time": "2023-01-02T17:04:17.360Z"
   },
   {
    "duration": 7,
    "start_time": "2023-01-02T17:04:17.371Z"
   },
   {
    "duration": 10,
    "start_time": "2023-01-02T17:04:17.379Z"
   },
   {
    "duration": 29,
    "start_time": "2023-01-02T17:04:17.390Z"
   },
   {
    "duration": 4,
    "start_time": "2023-01-02T17:04:17.421Z"
   },
   {
    "duration": 10,
    "start_time": "2023-01-02T17:04:17.426Z"
   },
   {
    "duration": 8,
    "start_time": "2023-01-02T17:04:17.438Z"
   },
   {
    "duration": 4,
    "start_time": "2023-01-02T17:04:17.447Z"
   },
   {
    "duration": 5,
    "start_time": "2023-01-02T17:04:17.453Z"
   },
   {
    "duration": 7,
    "start_time": "2023-01-02T17:04:17.459Z"
   },
   {
    "duration": 5,
    "start_time": "2023-01-02T17:04:17.467Z"
   },
   {
    "duration": 50,
    "start_time": "2023-01-02T17:04:17.473Z"
   },
   {
    "duration": 8,
    "start_time": "2023-01-02T17:04:17.525Z"
   },
   {
    "duration": 25,
    "start_time": "2023-01-02T17:04:17.535Z"
   },
   {
    "duration": 2759,
    "start_time": "2023-01-02T17:04:17.561Z"
   },
   {
    "duration": 5,
    "start_time": "2023-01-02T17:04:20.321Z"
   },
   {
    "duration": 7,
    "start_time": "2023-01-02T17:04:20.327Z"
   },
   {
    "duration": 7,
    "start_time": "2023-01-02T17:04:20.335Z"
   },
   {
    "duration": 92,
    "start_time": "2023-01-02T17:04:20.343Z"
   },
   {
    "duration": 4,
    "start_time": "2023-01-02T17:04:20.437Z"
   },
   {
    "duration": 8,
    "start_time": "2023-01-02T17:04:20.442Z"
   },
   {
    "duration": 11,
    "start_time": "2023-01-02T17:04:20.452Z"
   },
   {
    "duration": 8,
    "start_time": "2023-01-02T17:04:20.465Z"
   },
   {
    "duration": 8,
    "start_time": "2023-01-02T17:04:20.475Z"
   },
   {
    "duration": 4,
    "start_time": "2023-01-02T17:04:20.487Z"
   },
   {
    "duration": 5,
    "start_time": "2023-01-02T17:04:20.511Z"
   },
   {
    "duration": 11,
    "start_time": "2023-01-02T17:04:20.517Z"
   },
   {
    "duration": 16,
    "start_time": "2023-01-02T17:04:20.529Z"
   },
   {
    "duration": 16,
    "start_time": "2023-01-02T17:04:20.547Z"
   },
   {
    "duration": 14,
    "start_time": "2023-01-02T17:04:20.565Z"
   },
   {
    "duration": 2,
    "start_time": "2023-01-02T17:04:20.581Z"
   },
   {
    "duration": 39,
    "start_time": "2023-01-02T17:04:20.585Z"
   },
   {
    "duration": 86,
    "start_time": "2023-01-02T17:04:20.626Z"
   },
   {
    "duration": 276,
    "start_time": "2023-01-02T17:04:20.714Z"
   },
   {
    "duration": 16164,
    "start_time": "2023-01-02T17:04:20.992Z"
   },
   {
    "duration": 751,
    "start_time": "2023-01-02T17:04:37.157Z"
   },
   {
    "duration": 3,
    "start_time": "2023-01-02T17:04:37.912Z"
   },
   {
    "duration": 13,
    "start_time": "2023-01-02T17:04:37.916Z"
   },
   {
    "duration": 762,
    "start_time": "2023-01-02T17:04:37.930Z"
   },
   {
    "duration": 9,
    "start_time": "2023-01-02T17:04:38.694Z"
   },
   {
    "duration": 9,
    "start_time": "2023-01-02T17:04:38.704Z"
   },
   {
    "duration": 13,
    "start_time": "2023-01-02T17:04:38.714Z"
   },
   {
    "duration": 4,
    "start_time": "2023-01-02T17:04:38.728Z"
   },
   {
    "duration": 14,
    "start_time": "2023-01-02T17:04:38.733Z"
   },
   {
    "duration": 1099,
    "start_time": "2023-01-02T17:04:38.749Z"
   },
   {
    "duration": 505,
    "start_time": "2023-01-02T17:04:39.851Z"
   },
   {
    "duration": 13,
    "start_time": "2023-01-02T17:04:40.358Z"
   },
   {
    "duration": 74,
    "start_time": "2023-01-02T17:04:40.373Z"
   },
   {
    "duration": 8,
    "start_time": "2023-01-02T17:04:40.449Z"
   },
   {
    "duration": 121,
    "start_time": "2023-01-02T17:04:40.458Z"
   },
   {
    "duration": 67762,
    "start_time": "2023-01-02T17:06:41.453Z"
   },
   {
    "duration": 3,
    "start_time": "2023-01-02T17:08:29.068Z"
   },
   {
    "duration": 57811,
    "start_time": "2023-01-02T17:08:37.775Z"
   },
   {
    "duration": 0,
    "start_time": "2023-01-02T17:09:35.587Z"
   },
   {
    "duration": 2,
    "start_time": "2023-01-02T17:09:38.469Z"
   },
   {
    "duration": 8,
    "start_time": "2023-01-02T17:09:53.088Z"
   },
   {
    "duration": 8,
    "start_time": "2023-01-02T17:09:57.610Z"
   },
   {
    "duration": 630,
    "start_time": "2023-01-02T17:10:06.849Z"
   },
   {
    "duration": 41,
    "start_time": "2023-01-02T17:10:58.824Z"
   },
   {
    "duration": 2,
    "start_time": "2023-01-02T17:12:01.526Z"
   },
   {
    "duration": 653,
    "start_time": "2023-01-02T17:12:02.256Z"
   },
   {
    "duration": 40,
    "start_time": "2023-01-02T17:12:03.734Z"
   },
   {
    "duration": 3,
    "start_time": "2023-01-02T17:12:15.484Z"
   },
   {
    "duration": 805,
    "start_time": "2023-01-02T17:12:16.483Z"
   },
   {
    "duration": 49,
    "start_time": "2023-01-02T17:12:18.061Z"
   },
   {
    "duration": 33001,
    "start_time": "2023-01-02T17:13:39.004Z"
   },
   {
    "duration": 80960,
    "start_time": "2023-01-02T17:14:14.444Z"
   },
   {
    "duration": 3,
    "start_time": "2023-01-02T17:17:23.345Z"
   },
   {
    "duration": 738,
    "start_time": "2023-01-02T17:17:25.171Z"
   },
   {
    "duration": 45,
    "start_time": "2023-01-02T17:17:26.999Z"
   },
   {
    "duration": 3,
    "start_time": "2023-01-02T17:17:49.244Z"
   },
   {
    "duration": 779,
    "start_time": "2023-01-02T17:17:49.982Z"
   },
   {
    "duration": 46,
    "start_time": "2023-01-02T17:17:50.852Z"
   },
   {
    "duration": 3,
    "start_time": "2023-01-02T17:18:14.641Z"
   },
   {
    "duration": 847,
    "start_time": "2023-01-02T17:18:15.585Z"
   },
   {
    "duration": 48,
    "start_time": "2023-01-02T17:18:16.668Z"
   },
   {
    "duration": 81089,
    "start_time": "2023-01-02T17:18:55.158Z"
   },
   {
    "duration": 5,
    "start_time": "2023-01-02T17:20:18.350Z"
   },
   {
    "duration": 53,
    "start_time": "2023-01-02T17:20:18.356Z"
   },
   {
    "duration": 11,
    "start_time": "2023-01-02T17:20:18.411Z"
   },
   {
    "duration": 8,
    "start_time": "2023-01-02T17:20:18.424Z"
   },
   {
    "duration": 5,
    "start_time": "2023-01-02T17:20:18.434Z"
   },
   {
    "duration": 9,
    "start_time": "2023-01-02T17:20:18.440Z"
   },
   {
    "duration": 10,
    "start_time": "2023-01-02T17:20:18.450Z"
   },
   {
    "duration": 3,
    "start_time": "2023-01-02T17:20:18.462Z"
   },
   {
    "duration": 47,
    "start_time": "2023-01-02T17:20:18.467Z"
   },
   {
    "duration": 12,
    "start_time": "2023-01-02T17:20:18.515Z"
   },
   {
    "duration": 3,
    "start_time": "2023-01-02T17:20:18.529Z"
   },
   {
    "duration": 6,
    "start_time": "2023-01-02T17:20:18.533Z"
   },
   {
    "duration": 6,
    "start_time": "2023-01-02T17:20:18.540Z"
   },
   {
    "duration": 6,
    "start_time": "2023-01-02T17:20:18.547Z"
   },
   {
    "duration": 18,
    "start_time": "2023-01-02T17:20:18.555Z"
   },
   {
    "duration": 7,
    "start_time": "2023-01-02T17:20:18.574Z"
   },
   {
    "duration": 46,
    "start_time": "2023-01-02T17:20:18.583Z"
   },
   {
    "duration": 1659,
    "start_time": "2023-01-02T17:20:18.631Z"
   },
   {
    "duration": 4,
    "start_time": "2023-01-02T17:20:20.292Z"
   },
   {
    "duration": 14,
    "start_time": "2023-01-02T17:20:20.298Z"
   },
   {
    "duration": 7,
    "start_time": "2023-01-02T17:20:20.313Z"
   },
   {
    "duration": 95,
    "start_time": "2023-01-02T17:20:20.321Z"
   },
   {
    "duration": 4,
    "start_time": "2023-01-02T17:20:20.417Z"
   },
   {
    "duration": 4,
    "start_time": "2023-01-02T17:20:20.425Z"
   },
   {
    "duration": 16,
    "start_time": "2023-01-02T17:20:20.431Z"
   },
   {
    "duration": 11,
    "start_time": "2023-01-02T17:20:20.448Z"
   },
   {
    "duration": 6,
    "start_time": "2023-01-02T17:20:20.461Z"
   },
   {
    "duration": 9,
    "start_time": "2023-01-02T17:20:20.468Z"
   },
   {
    "duration": 4,
    "start_time": "2023-01-02T17:20:20.478Z"
   },
   {
    "duration": 10,
    "start_time": "2023-01-02T17:20:20.483Z"
   },
   {
    "duration": 29,
    "start_time": "2023-01-02T17:20:20.495Z"
   },
   {
    "duration": 19,
    "start_time": "2023-01-02T17:20:20.525Z"
   },
   {
    "duration": 18,
    "start_time": "2023-01-02T17:20:20.546Z"
   },
   {
    "duration": 2,
    "start_time": "2023-01-02T17:20:20.566Z"
   },
   {
    "duration": 18,
    "start_time": "2023-01-02T17:20:20.570Z"
   },
   {
    "duration": 34,
    "start_time": "2023-01-02T17:20:20.589Z"
   },
   {
    "duration": 277,
    "start_time": "2023-01-02T17:20:20.714Z"
   },
   {
    "duration": 12229,
    "start_time": "2023-01-02T17:20:20.993Z"
   },
   {
    "duration": 759,
    "start_time": "2023-01-02T17:20:33.224Z"
   },
   {
    "duration": 3,
    "start_time": "2023-01-02T17:20:33.985Z"
   },
   {
    "duration": 11,
    "start_time": "2023-01-02T17:20:33.990Z"
   },
   {
    "duration": 780,
    "start_time": "2023-01-02T17:20:34.003Z"
   },
   {
    "duration": 8,
    "start_time": "2023-01-02T17:20:34.784Z"
   },
   {
    "duration": 4,
    "start_time": "2023-01-02T17:20:34.794Z"
   },
   {
    "duration": 13,
    "start_time": "2023-01-02T17:20:34.813Z"
   },
   {
    "duration": 5,
    "start_time": "2023-01-02T17:20:34.828Z"
   },
   {
    "duration": 14,
    "start_time": "2023-01-02T17:20:34.835Z"
   },
   {
    "duration": 1067,
    "start_time": "2023-01-02T17:20:34.850Z"
   },
   {
    "duration": 471,
    "start_time": "2023-01-02T17:20:35.919Z"
   },
   {
    "duration": 20,
    "start_time": "2023-01-02T17:20:36.393Z"
   },
   {
    "duration": 86,
    "start_time": "2023-01-02T17:20:36.414Z"
   },
   {
    "duration": 12,
    "start_time": "2023-01-02T17:20:36.502Z"
   },
   {
    "duration": 14,
    "start_time": "2023-01-02T17:20:36.516Z"
   },
   {
    "duration": 819,
    "start_time": "2023-01-02T17:20:36.533Z"
   },
   {
    "duration": 50,
    "start_time": "2023-01-02T17:20:37.354Z"
   },
   {
    "duration": 5,
    "start_time": "2023-01-02T17:22:18.378Z"
   },
   {
    "duration": 50,
    "start_time": "2023-01-02T17:22:18.384Z"
   },
   {
    "duration": 11,
    "start_time": "2023-01-02T17:22:18.436Z"
   },
   {
    "duration": 7,
    "start_time": "2023-01-02T17:22:18.449Z"
   },
   {
    "duration": 6,
    "start_time": "2023-01-02T17:22:18.458Z"
   },
   {
    "duration": 9,
    "start_time": "2023-01-02T17:22:18.465Z"
   },
   {
    "duration": 41,
    "start_time": "2023-01-02T17:22:18.476Z"
   },
   {
    "duration": 4,
    "start_time": "2023-01-02T17:22:18.519Z"
   },
   {
    "duration": 11,
    "start_time": "2023-01-02T17:22:18.524Z"
   },
   {
    "duration": 7,
    "start_time": "2023-01-02T17:22:18.536Z"
   },
   {
    "duration": 3,
    "start_time": "2023-01-02T17:22:18.546Z"
   },
   {
    "duration": 6,
    "start_time": "2023-01-02T17:22:18.550Z"
   },
   {
    "duration": 6,
    "start_time": "2023-01-02T17:22:18.557Z"
   },
   {
    "duration": 6,
    "start_time": "2023-01-02T17:22:18.564Z"
   },
   {
    "duration": 47,
    "start_time": "2023-01-02T17:22:18.571Z"
   },
   {
    "duration": 9,
    "start_time": "2023-01-02T17:22:18.620Z"
   },
   {
    "duration": 29,
    "start_time": "2023-01-02T17:22:18.631Z"
   },
   {
    "duration": 1465,
    "start_time": "2023-01-02T17:22:18.662Z"
   },
   {
    "duration": 4,
    "start_time": "2023-01-02T17:22:20.128Z"
   },
   {
    "duration": 6,
    "start_time": "2023-01-02T17:22:20.134Z"
   },
   {
    "duration": 13,
    "start_time": "2023-01-02T17:22:20.141Z"
   },
   {
    "duration": 96,
    "start_time": "2023-01-02T17:22:20.155Z"
   },
   {
    "duration": 4,
    "start_time": "2023-01-02T17:22:20.253Z"
   },
   {
    "duration": 6,
    "start_time": "2023-01-02T17:22:20.259Z"
   },
   {
    "duration": 11,
    "start_time": "2023-01-02T17:22:20.266Z"
   },
   {
    "duration": 6,
    "start_time": "2023-01-02T17:22:20.279Z"
   },
   {
    "duration": 27,
    "start_time": "2023-01-02T17:22:20.287Z"
   },
   {
    "duration": 6,
    "start_time": "2023-01-02T17:22:20.315Z"
   },
   {
    "duration": 4,
    "start_time": "2023-01-02T17:22:20.324Z"
   },
   {
    "duration": 12,
    "start_time": "2023-01-02T17:22:20.330Z"
   },
   {
    "duration": 12,
    "start_time": "2023-01-02T17:22:20.344Z"
   },
   {
    "duration": 15,
    "start_time": "2023-01-02T17:22:20.357Z"
   },
   {
    "duration": 40,
    "start_time": "2023-01-02T17:22:20.373Z"
   },
   {
    "duration": 3,
    "start_time": "2023-01-02T17:22:20.415Z"
   },
   {
    "duration": 22,
    "start_time": "2023-01-02T17:22:20.420Z"
   },
   {
    "duration": 68,
    "start_time": "2023-01-02T17:22:20.444Z"
   },
   {
    "duration": 275,
    "start_time": "2023-01-02T17:22:20.514Z"
   },
   {
    "duration": 80784,
    "start_time": "2023-01-02T17:22:20.790Z"
   },
   {
    "duration": 787,
    "start_time": "2023-01-02T17:23:41.576Z"
   },
   {
    "duration": 3,
    "start_time": "2023-01-02T17:23:42.365Z"
   },
   {
    "duration": 18,
    "start_time": "2023-01-02T17:23:42.369Z"
   },
   {
    "duration": 807,
    "start_time": "2023-01-02T17:23:42.388Z"
   },
   {
    "duration": 20,
    "start_time": "2023-01-02T17:23:43.196Z"
   },
   {
    "duration": 4,
    "start_time": "2023-01-02T17:23:43.217Z"
   },
   {
    "duration": 17,
    "start_time": "2023-01-02T17:23:43.223Z"
   },
   {
    "duration": 4,
    "start_time": "2023-01-02T17:23:43.242Z"
   },
   {
    "duration": 14,
    "start_time": "2023-01-02T17:23:43.247Z"
   },
   {
    "duration": 1142,
    "start_time": "2023-01-02T17:23:43.262Z"
   },
   {
    "duration": 483,
    "start_time": "2023-01-02T17:23:44.406Z"
   },
   {
    "duration": 23,
    "start_time": "2023-01-02T17:23:44.891Z"
   },
   {
    "duration": 76,
    "start_time": "2023-01-02T17:23:44.916Z"
   },
   {
    "duration": 21,
    "start_time": "2023-01-02T17:23:44.995Z"
   },
   {
    "duration": 6,
    "start_time": "2023-01-02T17:23:45.018Z"
   },
   {
    "duration": 878,
    "start_time": "2023-01-02T17:23:45.026Z"
   },
   {
    "duration": 73,
    "start_time": "2023-01-02T17:23:45.906Z"
   },
   {
    "duration": 637,
    "start_time": "2023-01-02T17:24:26.649Z"
   },
   {
    "duration": 759,
    "start_time": "2023-01-02T17:24:35.045Z"
   },
   {
    "duration": 13732,
    "start_time": "2023-01-02T17:25:43.070Z"
   },
   {
    "duration": 541,
    "start_time": "2023-01-02T17:27:15.494Z"
   },
   {
    "duration": 1213,
    "start_time": "2023-01-02T17:27:48.541Z"
   },
   {
    "duration": 2,
    "start_time": "2023-01-02T17:29:00.509Z"
   },
   {
    "duration": 17,
    "start_time": "2023-01-02T17:29:01.099Z"
   },
   {
    "duration": 10,
    "start_time": "2023-01-02T17:29:01.835Z"
   },
   {
    "duration": 3,
    "start_time": "2023-01-02T17:29:15.132Z"
   },
   {
    "duration": 15,
    "start_time": "2023-01-02T17:29:15.787Z"
   },
   {
    "duration": 12,
    "start_time": "2023-01-02T17:29:16.567Z"
   },
   {
    "duration": 185,
    "start_time": "2023-01-02T17:30:05.975Z"
   },
   {
    "duration": 1077,
    "start_time": "2023-01-02T17:34:40.665Z"
   },
   {
    "duration": 462,
    "start_time": "2023-01-02T17:34:42.850Z"
   },
   {
    "duration": 11,
    "start_time": "2023-01-02T17:35:09.913Z"
   },
   {
    "duration": 4,
    "start_time": "2023-01-02T17:35:23.582Z"
   },
   {
    "duration": 55,
    "start_time": "2023-01-02T17:35:23.588Z"
   },
   {
    "duration": 13,
    "start_time": "2023-01-02T17:35:23.645Z"
   },
   {
    "duration": 8,
    "start_time": "2023-01-02T17:35:23.659Z"
   },
   {
    "duration": 5,
    "start_time": "2023-01-02T17:35:23.670Z"
   },
   {
    "duration": 8,
    "start_time": "2023-01-02T17:35:23.677Z"
   },
   {
    "duration": 13,
    "start_time": "2023-01-02T17:35:23.713Z"
   },
   {
    "duration": 4,
    "start_time": "2023-01-02T17:35:23.728Z"
   },
   {
    "duration": 8,
    "start_time": "2023-01-02T17:35:23.733Z"
   },
   {
    "duration": 8,
    "start_time": "2023-01-02T17:35:23.743Z"
   },
   {
    "duration": 8,
    "start_time": "2023-01-02T17:35:23.753Z"
   },
   {
    "duration": 5,
    "start_time": "2023-01-02T17:35:23.762Z"
   },
   {
    "duration": 43,
    "start_time": "2023-01-02T17:35:23.769Z"
   },
   {
    "duration": 6,
    "start_time": "2023-01-02T17:35:23.814Z"
   },
   {
    "duration": 19,
    "start_time": "2023-01-02T17:35:23.821Z"
   },
   {
    "duration": 6,
    "start_time": "2023-01-02T17:35:23.842Z"
   },
   {
    "duration": 28,
    "start_time": "2023-01-02T17:35:23.850Z"
   },
   {
    "duration": 1716,
    "start_time": "2023-01-02T17:35:23.880Z"
   },
   {
    "duration": 5,
    "start_time": "2023-01-02T17:35:25.597Z"
   },
   {
    "duration": 4,
    "start_time": "2023-01-02T17:35:25.611Z"
   },
   {
    "duration": 9,
    "start_time": "2023-01-02T17:35:25.616Z"
   },
   {
    "duration": 90,
    "start_time": "2023-01-02T17:35:25.626Z"
   },
   {
    "duration": 4,
    "start_time": "2023-01-02T17:35:25.718Z"
   },
   {
    "duration": 8,
    "start_time": "2023-01-02T17:35:25.723Z"
   },
   {
    "duration": 10,
    "start_time": "2023-01-02T17:35:25.732Z"
   },
   {
    "duration": 5,
    "start_time": "2023-01-02T17:35:25.744Z"
   },
   {
    "duration": 6,
    "start_time": "2023-01-02T17:35:25.751Z"
   },
   {
    "duration": 10,
    "start_time": "2023-01-02T17:35:25.758Z"
   },
   {
    "duration": 7,
    "start_time": "2023-01-02T17:35:25.772Z"
   },
   {
    "duration": 37,
    "start_time": "2023-01-02T17:35:25.781Z"
   },
   {
    "duration": 13,
    "start_time": "2023-01-02T17:35:25.820Z"
   },
   {
    "duration": 18,
    "start_time": "2023-01-02T17:35:25.835Z"
   },
   {
    "duration": 15,
    "start_time": "2023-01-02T17:35:25.855Z"
   },
   {
    "duration": 3,
    "start_time": "2023-01-02T17:35:25.872Z"
   },
   {
    "duration": 47,
    "start_time": "2023-01-02T17:35:25.876Z"
   },
   {
    "duration": 94,
    "start_time": "2023-01-02T17:35:25.924Z"
   },
   {
    "duration": 291,
    "start_time": "2023-01-02T17:35:26.021Z"
   },
   {
    "duration": 16508,
    "start_time": "2023-01-02T17:35:26.313Z"
   },
   {
    "duration": 1292,
    "start_time": "2023-01-02T17:35:42.823Z"
   },
   {
    "duration": 4,
    "start_time": "2023-01-02T17:35:44.116Z"
   },
   {
    "duration": 6,
    "start_time": "2023-01-02T17:35:44.121Z"
   },
   {
    "duration": 1088,
    "start_time": "2023-01-02T17:35:44.128Z"
   },
   {
    "duration": 9,
    "start_time": "2023-01-02T17:35:45.218Z"
   },
   {
    "duration": 3,
    "start_time": "2023-01-02T17:35:45.228Z"
   },
   {
    "duration": 15,
    "start_time": "2023-01-02T17:35:45.232Z"
   },
   {
    "duration": 3,
    "start_time": "2023-01-02T17:35:45.249Z"
   },
   {
    "duration": 14,
    "start_time": "2023-01-02T17:35:45.253Z"
   },
   {
    "duration": 1066,
    "start_time": "2023-01-02T17:35:45.268Z"
   },
   {
    "duration": 480,
    "start_time": "2023-01-02T17:35:46.336Z"
   },
   {
    "duration": 10,
    "start_time": "2023-01-02T17:35:46.818Z"
   },
   {
    "duration": 57,
    "start_time": "2023-01-02T17:35:46.830Z"
   },
   {
    "duration": 26,
    "start_time": "2023-01-02T17:35:46.888Z"
   },
   {
    "duration": 4,
    "start_time": "2023-01-02T17:35:46.916Z"
   },
   {
    "duration": 796,
    "start_time": "2023-01-02T17:35:46.922Z"
   },
   {
    "duration": 46,
    "start_time": "2023-01-02T17:35:47.720Z"
   },
   {
    "duration": 3,
    "start_time": "2023-01-02T17:36:04.345Z"
   },
   {
    "duration": 15,
    "start_time": "2023-01-02T17:36:05.267Z"
   },
   {
    "duration": 10,
    "start_time": "2023-01-02T17:36:06.234Z"
   },
   {
    "duration": 185,
    "start_time": "2023-01-02T17:36:16.008Z"
   },
   {
    "duration": 178,
    "start_time": "2023-01-02T17:36:18.797Z"
   },
   {
    "duration": 177,
    "start_time": "2023-01-02T17:36:53.311Z"
   },
   {
    "duration": 14746,
    "start_time": "2023-01-02T17:37:14.147Z"
   },
   {
    "duration": 14543,
    "start_time": "2023-01-02T17:37:43.662Z"
   },
   {
    "duration": 5,
    "start_time": "2023-01-02T17:38:09.230Z"
   },
   {
    "duration": 56,
    "start_time": "2023-01-02T17:38:09.238Z"
   },
   {
    "duration": 12,
    "start_time": "2023-01-02T17:38:09.296Z"
   },
   {
    "duration": 8,
    "start_time": "2023-01-02T17:38:09.310Z"
   },
   {
    "duration": 9,
    "start_time": "2023-01-02T17:38:09.321Z"
   },
   {
    "duration": 13,
    "start_time": "2023-01-02T17:38:09.332Z"
   },
   {
    "duration": 14,
    "start_time": "2023-01-02T17:38:09.346Z"
   },
   {
    "duration": 4,
    "start_time": "2023-01-02T17:38:09.361Z"
   },
   {
    "duration": 9,
    "start_time": "2023-01-02T17:38:09.366Z"
   },
   {
    "duration": 35,
    "start_time": "2023-01-02T17:38:09.377Z"
   },
   {
    "duration": 4,
    "start_time": "2023-01-02T17:38:09.413Z"
   },
   {
    "duration": 4,
    "start_time": "2023-01-02T17:38:09.418Z"
   },
   {
    "duration": 6,
    "start_time": "2023-01-02T17:38:09.423Z"
   },
   {
    "duration": 3,
    "start_time": "2023-01-02T17:38:09.432Z"
   },
   {
    "duration": 14,
    "start_time": "2023-01-02T17:38:09.436Z"
   },
   {
    "duration": 7,
    "start_time": "2023-01-02T17:38:09.451Z"
   },
   {
    "duration": 23,
    "start_time": "2023-01-02T17:38:09.459Z"
   },
   {
    "duration": 1620,
    "start_time": "2023-01-02T17:38:09.483Z"
   },
   {
    "duration": 7,
    "start_time": "2023-01-02T17:38:11.105Z"
   },
   {
    "duration": 7,
    "start_time": "2023-01-02T17:38:11.113Z"
   },
   {
    "duration": 8,
    "start_time": "2023-01-02T17:38:11.121Z"
   },
   {
    "duration": 85,
    "start_time": "2023-01-02T17:38:11.131Z"
   },
   {
    "duration": 4,
    "start_time": "2023-01-02T17:38:11.217Z"
   },
   {
    "duration": 13,
    "start_time": "2023-01-02T17:38:11.223Z"
   },
   {
    "duration": 15,
    "start_time": "2023-01-02T17:38:11.238Z"
   },
   {
    "duration": 7,
    "start_time": "2023-01-02T17:38:11.255Z"
   },
   {
    "duration": 13,
    "start_time": "2023-01-02T17:38:11.263Z"
   },
   {
    "duration": 11,
    "start_time": "2023-01-02T17:38:11.278Z"
   },
   {
    "duration": 8,
    "start_time": "2023-01-02T17:38:11.291Z"
   },
   {
    "duration": 14,
    "start_time": "2023-01-02T17:38:11.300Z"
   },
   {
    "duration": 22,
    "start_time": "2023-01-02T17:38:11.316Z"
   },
   {
    "duration": 15,
    "start_time": "2023-01-02T17:38:11.340Z"
   },
   {
    "duration": 20,
    "start_time": "2023-01-02T17:38:11.357Z"
   },
   {
    "duration": 16,
    "start_time": "2023-01-02T17:38:11.379Z"
   },
   {
    "duration": 27,
    "start_time": "2023-01-02T17:38:11.397Z"
   },
   {
    "duration": 12,
    "start_time": "2023-01-02T17:38:11.425Z"
   },
   {
    "duration": 345,
    "start_time": "2023-01-02T17:38:11.439Z"
   },
   {
    "duration": 15481,
    "start_time": "2023-01-02T17:38:11.786Z"
   },
   {
    "duration": 775,
    "start_time": "2023-01-02T17:38:27.268Z"
   },
   {
    "duration": 3,
    "start_time": "2023-01-02T17:38:28.045Z"
   },
   {
    "duration": 39,
    "start_time": "2023-01-02T17:38:28.051Z"
   },
   {
    "duration": 777,
    "start_time": "2023-01-02T17:38:28.091Z"
   },
   {
    "duration": 8,
    "start_time": "2023-01-02T17:38:28.870Z"
   },
   {
    "duration": 18,
    "start_time": "2023-01-02T17:38:28.879Z"
   },
   {
    "duration": 20,
    "start_time": "2023-01-02T17:38:28.899Z"
   },
   {
    "duration": 4,
    "start_time": "2023-01-02T17:38:28.921Z"
   },
   {
    "duration": 28,
    "start_time": "2023-01-02T17:38:28.926Z"
   },
   {
    "duration": 1095,
    "start_time": "2023-01-02T17:38:28.956Z"
   },
   {
    "duration": 458,
    "start_time": "2023-01-02T17:38:30.052Z"
   },
   {
    "duration": 11,
    "start_time": "2023-01-02T17:38:30.512Z"
   },
   {
    "duration": 62,
    "start_time": "2023-01-02T17:38:30.524Z"
   },
   {
    "duration": 26,
    "start_time": "2023-01-02T17:38:30.588Z"
   },
   {
    "duration": 2,
    "start_time": "2023-01-02T17:38:30.616Z"
   },
   {
    "duration": 813,
    "start_time": "2023-01-02T17:38:30.620Z"
   },
   {
    "duration": 48,
    "start_time": "2023-01-02T17:38:31.435Z"
   },
   {
    "duration": 13759,
    "start_time": "2023-01-02T17:39:06.688Z"
   },
   {
    "duration": 4,
    "start_time": "2023-01-02T17:39:44.669Z"
   },
   {
    "duration": 48,
    "start_time": "2023-01-02T17:39:44.675Z"
   },
   {
    "duration": 10,
    "start_time": "2023-01-02T17:39:44.725Z"
   },
   {
    "duration": 6,
    "start_time": "2023-01-02T17:39:44.737Z"
   },
   {
    "duration": 5,
    "start_time": "2023-01-02T17:39:44.745Z"
   },
   {
    "duration": 8,
    "start_time": "2023-01-02T17:39:44.751Z"
   },
   {
    "duration": 11,
    "start_time": "2023-01-02T17:39:44.761Z"
   },
   {
    "duration": 4,
    "start_time": "2023-01-02T17:39:44.773Z"
   },
   {
    "duration": 8,
    "start_time": "2023-01-02T17:39:44.812Z"
   },
   {
    "duration": 16,
    "start_time": "2023-01-02T17:39:44.822Z"
   },
   {
    "duration": 4,
    "start_time": "2023-01-02T17:39:44.839Z"
   },
   {
    "duration": 6,
    "start_time": "2023-01-02T17:39:44.845Z"
   },
   {
    "duration": 7,
    "start_time": "2023-01-02T17:39:44.852Z"
   },
   {
    "duration": 4,
    "start_time": "2023-01-02T17:39:44.865Z"
   },
   {
    "duration": 42,
    "start_time": "2023-01-02T17:39:44.871Z"
   },
   {
    "duration": 5,
    "start_time": "2023-01-02T17:39:44.915Z"
   },
   {
    "duration": 31,
    "start_time": "2023-01-02T17:39:44.922Z"
   },
   {
    "duration": 1573,
    "start_time": "2023-01-02T17:39:44.954Z"
   },
   {
    "duration": 5,
    "start_time": "2023-01-02T17:39:46.528Z"
   },
   {
    "duration": 15,
    "start_time": "2023-01-02T17:39:46.535Z"
   },
   {
    "duration": 8,
    "start_time": "2023-01-02T17:39:46.551Z"
   },
   {
    "duration": 95,
    "start_time": "2023-01-02T17:39:46.560Z"
   },
   {
    "duration": 56,
    "start_time": "2023-01-02T17:39:46.657Z"
   },
   {
    "duration": 4,
    "start_time": "2023-01-02T17:39:46.714Z"
   },
   {
    "duration": 11,
    "start_time": "2023-01-02T17:39:46.719Z"
   },
   {
    "duration": 5,
    "start_time": "2023-01-02T17:39:46.731Z"
   },
   {
    "duration": 7,
    "start_time": "2023-01-02T17:39:46.738Z"
   },
   {
    "duration": 67,
    "start_time": "2023-01-02T17:39:46.746Z"
   },
   {
    "duration": 3,
    "start_time": "2023-01-02T17:39:46.814Z"
   },
   {
    "duration": 12,
    "start_time": "2023-01-02T17:39:46.819Z"
   },
   {
    "duration": 13,
    "start_time": "2023-01-02T17:39:46.832Z"
   },
   {
    "duration": 67,
    "start_time": "2023-01-02T17:39:46.847Z"
   },
   {
    "duration": 15,
    "start_time": "2023-01-02T17:39:46.915Z"
   },
   {
    "duration": 2,
    "start_time": "2023-01-02T17:39:46.932Z"
   },
   {
    "duration": 16,
    "start_time": "2023-01-02T17:39:46.935Z"
   },
   {
    "duration": 63,
    "start_time": "2023-01-02T17:39:46.953Z"
   },
   {
    "duration": 700,
    "start_time": "2023-01-02T17:39:47.018Z"
   },
   {
    "duration": 13871,
    "start_time": "2023-01-02T17:39:47.720Z"
   },
   {
    "duration": 764,
    "start_time": "2023-01-02T17:40:01.592Z"
   },
   {
    "duration": 3,
    "start_time": "2023-01-02T17:40:02.357Z"
   },
   {
    "duration": 14,
    "start_time": "2023-01-02T17:40:02.363Z"
   },
   {
    "duration": 756,
    "start_time": "2023-01-02T17:40:02.378Z"
   },
   {
    "duration": 8,
    "start_time": "2023-01-02T17:40:03.135Z"
   },
   {
    "duration": 9,
    "start_time": "2023-01-02T17:40:03.144Z"
   },
   {
    "duration": 19,
    "start_time": "2023-01-02T17:40:03.154Z"
   },
   {
    "duration": 4,
    "start_time": "2023-01-02T17:40:03.174Z"
   },
   {
    "duration": 13,
    "start_time": "2023-01-02T17:40:03.179Z"
   },
   {
    "duration": 1084,
    "start_time": "2023-01-02T17:40:03.194Z"
   },
   {
    "duration": 449,
    "start_time": "2023-01-02T17:40:04.280Z"
   },
   {
    "duration": 12,
    "start_time": "2023-01-02T17:40:04.731Z"
   },
   {
    "duration": 53,
    "start_time": "2023-01-02T17:40:04.744Z"
   },
   {
    "duration": 9,
    "start_time": "2023-01-02T17:40:04.813Z"
   },
   {
    "duration": 6,
    "start_time": "2023-01-02T17:40:04.824Z"
   },
   {
    "duration": 809,
    "start_time": "2023-01-02T17:40:04.831Z"
   },
   {
    "duration": 45,
    "start_time": "2023-01-02T17:40:05.642Z"
   },
   {
    "duration": 10,
    "start_time": "2023-01-02T17:40:06.959Z"
   },
   {
    "duration": 774,
    "start_time": "2023-01-02T17:45:49.844Z"
   },
   {
    "duration": 5,
    "start_time": "2023-01-02T17:46:00.555Z"
   },
   {
    "duration": 76,
    "start_time": "2023-01-02T17:46:00.562Z"
   },
   {
    "duration": 12,
    "start_time": "2023-01-02T17:46:00.641Z"
   },
   {
    "duration": 21,
    "start_time": "2023-01-02T17:46:00.655Z"
   },
   {
    "duration": 6,
    "start_time": "2023-01-02T17:46:00.678Z"
   },
   {
    "duration": 28,
    "start_time": "2023-01-02T17:46:00.685Z"
   },
   {
    "duration": 12,
    "start_time": "2023-01-02T17:46:00.715Z"
   },
   {
    "duration": 35,
    "start_time": "2023-01-02T17:46:00.729Z"
   },
   {
    "duration": 40,
    "start_time": "2023-01-02T17:46:00.765Z"
   },
   {
    "duration": 38,
    "start_time": "2023-01-02T17:46:00.807Z"
   },
   {
    "duration": 40,
    "start_time": "2023-01-02T17:46:00.847Z"
   },
   {
    "duration": 40,
    "start_time": "2023-01-02T17:46:00.888Z"
   },
   {
    "duration": 16,
    "start_time": "2023-01-02T17:46:00.930Z"
   },
   {
    "duration": 12,
    "start_time": "2023-01-02T17:46:00.948Z"
   },
   {
    "duration": 27,
    "start_time": "2023-01-02T17:46:00.962Z"
   },
   {
    "duration": 34,
    "start_time": "2023-01-02T17:46:00.991Z"
   },
   {
    "duration": 35,
    "start_time": "2023-01-02T17:46:01.027Z"
   },
   {
    "duration": 1581,
    "start_time": "2023-01-02T17:46:01.064Z"
   },
   {
    "duration": 5,
    "start_time": "2023-01-02T17:46:02.647Z"
   },
   {
    "duration": 6,
    "start_time": "2023-01-02T17:46:02.655Z"
   },
   {
    "duration": 9,
    "start_time": "2023-01-02T17:46:02.662Z"
   },
   {
    "duration": 100,
    "start_time": "2023-01-02T17:46:02.672Z"
   },
   {
    "duration": 5,
    "start_time": "2023-01-02T17:46:02.774Z"
   },
   {
    "duration": 8,
    "start_time": "2023-01-02T17:46:02.781Z"
   },
   {
    "duration": 24,
    "start_time": "2023-01-02T17:46:02.791Z"
   },
   {
    "duration": 7,
    "start_time": "2023-01-02T17:46:02.817Z"
   },
   {
    "duration": 10,
    "start_time": "2023-01-02T17:46:02.826Z"
   },
   {
    "duration": 15,
    "start_time": "2023-01-02T17:46:02.837Z"
   },
   {
    "duration": 2,
    "start_time": "2023-01-02T17:46:02.855Z"
   },
   {
    "duration": 18,
    "start_time": "2023-01-02T17:46:02.859Z"
   },
   {
    "duration": 13,
    "start_time": "2023-01-02T17:46:02.879Z"
   },
   {
    "duration": 30,
    "start_time": "2023-01-02T17:46:02.893Z"
   },
   {
    "duration": 16,
    "start_time": "2023-01-02T17:46:02.925Z"
   },
   {
    "duration": 3,
    "start_time": "2023-01-02T17:46:02.943Z"
   },
   {
    "duration": 25,
    "start_time": "2023-01-02T17:46:02.948Z"
   },
   {
    "duration": 44,
    "start_time": "2023-01-02T17:46:02.975Z"
   },
   {
    "duration": 395,
    "start_time": "2023-01-02T17:46:03.023Z"
   },
   {
    "duration": 18750,
    "start_time": "2023-01-02T17:46:03.419Z"
   },
   {
    "duration": 849,
    "start_time": "2023-01-02T17:46:22.171Z"
   },
   {
    "duration": 4,
    "start_time": "2023-01-02T17:46:23.022Z"
   },
   {
    "duration": 9,
    "start_time": "2023-01-02T17:46:23.028Z"
   },
   {
    "duration": 853,
    "start_time": "2023-01-02T17:46:23.038Z"
   },
   {
    "duration": 10,
    "start_time": "2023-01-02T17:46:23.893Z"
   },
   {
    "duration": 4,
    "start_time": "2023-01-02T17:46:23.912Z"
   },
   {
    "duration": 15,
    "start_time": "2023-01-02T17:46:23.917Z"
   },
   {
    "duration": 3,
    "start_time": "2023-01-02T17:46:23.934Z"
   },
   {
    "duration": 12,
    "start_time": "2023-01-02T17:46:23.939Z"
   },
   {
    "duration": 1199,
    "start_time": "2023-01-02T17:46:23.952Z"
   },
   {
    "duration": 481,
    "start_time": "2023-01-02T17:46:25.152Z"
   },
   {
    "duration": 11,
    "start_time": "2023-01-02T17:46:25.634Z"
   },
   {
    "duration": 76,
    "start_time": "2023-01-02T17:46:25.647Z"
   },
   {
    "duration": 9,
    "start_time": "2023-01-02T17:46:25.725Z"
   },
   {
    "duration": 3,
    "start_time": "2023-01-02T17:46:25.735Z"
   },
   {
    "duration": 1008,
    "start_time": "2023-01-02T17:46:25.739Z"
   },
   {
    "duration": 54,
    "start_time": "2023-01-02T17:46:26.748Z"
   },
   {
    "duration": 16,
    "start_time": "2023-01-02T17:51:31.932Z"
   },
   {
    "duration": 4,
    "start_time": "2023-01-02T17:51:59.869Z"
   },
   {
    "duration": 54,
    "start_time": "2023-01-02T17:51:59.874Z"
   },
   {
    "duration": 11,
    "start_time": "2023-01-02T17:51:59.929Z"
   },
   {
    "duration": 7,
    "start_time": "2023-01-02T17:51:59.942Z"
   },
   {
    "duration": 4,
    "start_time": "2023-01-02T17:51:59.951Z"
   },
   {
    "duration": 8,
    "start_time": "2023-01-02T17:51:59.956Z"
   },
   {
    "duration": 11,
    "start_time": "2023-01-02T17:51:59.966Z"
   },
   {
    "duration": 5,
    "start_time": "2023-01-02T17:52:00.013Z"
   },
   {
    "duration": 17,
    "start_time": "2023-01-02T17:52:00.020Z"
   },
   {
    "duration": 9,
    "start_time": "2023-01-02T17:52:00.039Z"
   },
   {
    "duration": 15,
    "start_time": "2023-01-02T17:52:00.051Z"
   },
   {
    "duration": 7,
    "start_time": "2023-01-02T17:52:00.067Z"
   },
   {
    "duration": 9,
    "start_time": "2023-01-02T17:52:00.076Z"
   },
   {
    "duration": 8,
    "start_time": "2023-01-02T17:52:00.086Z"
   },
   {
    "duration": 26,
    "start_time": "2023-01-02T17:52:00.095Z"
   },
   {
    "duration": 6,
    "start_time": "2023-01-02T17:52:00.122Z"
   },
   {
    "duration": 26,
    "start_time": "2023-01-02T17:52:00.129Z"
   },
   {
    "duration": 1413,
    "start_time": "2023-01-02T17:52:00.156Z"
   },
   {
    "duration": 4,
    "start_time": "2023-01-02T17:52:01.571Z"
   },
   {
    "duration": 41,
    "start_time": "2023-01-02T17:52:01.576Z"
   },
   {
    "duration": 40,
    "start_time": "2023-01-02T17:52:01.619Z"
   },
   {
    "duration": 89,
    "start_time": "2023-01-02T17:52:01.661Z"
   },
   {
    "duration": 4,
    "start_time": "2023-01-02T17:52:01.751Z"
   },
   {
    "duration": 12,
    "start_time": "2023-01-02T17:52:01.757Z"
   },
   {
    "duration": 14,
    "start_time": "2023-01-02T17:52:01.771Z"
   },
   {
    "duration": 13,
    "start_time": "2023-01-02T17:52:01.787Z"
   },
   {
    "duration": 5,
    "start_time": "2023-01-02T17:52:01.801Z"
   },
   {
    "duration": 8,
    "start_time": "2023-01-02T17:52:01.807Z"
   },
   {
    "duration": 16,
    "start_time": "2023-01-02T17:52:01.818Z"
   },
   {
    "duration": 9,
    "start_time": "2023-01-02T17:52:01.836Z"
   },
   {
    "duration": 14,
    "start_time": "2023-01-02T17:52:01.846Z"
   },
   {
    "duration": 15,
    "start_time": "2023-01-02T17:52:01.862Z"
   },
   {
    "duration": 15,
    "start_time": "2023-01-02T17:52:01.879Z"
   },
   {
    "duration": 3,
    "start_time": "2023-01-02T17:52:01.911Z"
   },
   {
    "duration": 19,
    "start_time": "2023-01-02T17:52:01.915Z"
   },
   {
    "duration": 13,
    "start_time": "2023-01-02T17:52:01.935Z"
   },
   {
    "duration": 268,
    "start_time": "2023-01-02T17:52:02.012Z"
   },
   {
    "duration": 14447,
    "start_time": "2023-01-02T17:52:02.282Z"
   },
   {
    "duration": 761,
    "start_time": "2023-01-02T17:52:16.731Z"
   },
   {
    "duration": 4,
    "start_time": "2023-01-02T17:52:17.494Z"
   },
   {
    "duration": 16,
    "start_time": "2023-01-02T17:52:17.499Z"
   },
   {
    "duration": 744,
    "start_time": "2023-01-02T17:52:17.517Z"
   },
   {
    "duration": 10,
    "start_time": "2023-01-02T17:52:18.263Z"
   },
   {
    "duration": 4,
    "start_time": "2023-01-02T17:52:18.275Z"
   },
   {
    "duration": 13,
    "start_time": "2023-01-02T17:52:18.280Z"
   },
   {
    "duration": 5,
    "start_time": "2023-01-02T17:52:18.312Z"
   },
   {
    "duration": 13,
    "start_time": "2023-01-02T17:52:18.319Z"
   },
   {
    "duration": 1148,
    "start_time": "2023-01-02T17:52:18.334Z"
   },
   {
    "duration": 467,
    "start_time": "2023-01-02T17:52:19.484Z"
   },
   {
    "duration": 11,
    "start_time": "2023-01-02T17:52:19.953Z"
   },
   {
    "duration": 81,
    "start_time": "2023-01-02T17:52:19.966Z"
   },
   {
    "duration": 9,
    "start_time": "2023-01-02T17:52:20.048Z"
   },
   {
    "duration": 3,
    "start_time": "2023-01-02T17:52:20.058Z"
   },
   {
    "duration": 807,
    "start_time": "2023-01-02T17:52:20.062Z"
   },
   {
    "duration": 58,
    "start_time": "2023-01-02T17:52:20.870Z"
   },
   {
    "duration": 565,
    "start_time": "2023-01-02T18:01:58.923Z"
   },
   {
    "duration": 588,
    "start_time": "2023-01-02T18:02:27.510Z"
   },
   {
    "duration": 9,
    "start_time": "2023-01-02T18:02:58.243Z"
   },
   {
    "duration": 801,
    "start_time": "2023-01-02T18:03:24.991Z"
   },
   {
    "duration": 358,
    "start_time": "2023-01-02T18:03:27.660Z"
   },
   {
    "duration": 11,
    "start_time": "2023-01-02T18:03:33.668Z"
   },
   {
    "duration": 52,
    "start_time": "2023-01-02T18:03:39.963Z"
   },
   {
    "duration": 8,
    "start_time": "2023-01-02T18:03:42.870Z"
   },
   {
    "duration": 3,
    "start_time": "2023-01-02T18:04:01.597Z"
   },
   {
    "duration": 767,
    "start_time": "2023-01-02T18:04:03.378Z"
   },
   {
    "duration": 61,
    "start_time": "2023-01-02T18:04:05.623Z"
   },
   {
    "duration": 10,
    "start_time": "2023-01-02T18:04:40.220Z"
   },
   {
    "duration": 4,
    "start_time": "2023-01-02T18:05:54.473Z"
   },
   {
    "duration": 54,
    "start_time": "2023-01-02T18:05:54.480Z"
   },
   {
    "duration": 12,
    "start_time": "2023-01-02T18:05:54.536Z"
   },
   {
    "duration": 7,
    "start_time": "2023-01-02T18:05:54.550Z"
   },
   {
    "duration": 4,
    "start_time": "2023-01-02T18:05:54.559Z"
   },
   {
    "duration": 11,
    "start_time": "2023-01-02T18:05:54.565Z"
   },
   {
    "duration": 45,
    "start_time": "2023-01-02T18:05:54.577Z"
   },
   {
    "duration": 5,
    "start_time": "2023-01-02T18:05:54.623Z"
   },
   {
    "duration": 10,
    "start_time": "2023-01-02T18:05:54.630Z"
   },
   {
    "duration": 7,
    "start_time": "2023-01-02T18:05:54.641Z"
   },
   {
    "duration": 4,
    "start_time": "2023-01-02T18:05:54.649Z"
   },
   {
    "duration": 5,
    "start_time": "2023-01-02T18:05:54.655Z"
   },
   {
    "duration": 7,
    "start_time": "2023-01-02T18:05:54.661Z"
   },
   {
    "duration": 5,
    "start_time": "2023-01-02T18:05:54.670Z"
   },
   {
    "duration": 43,
    "start_time": "2023-01-02T18:05:54.676Z"
   },
   {
    "duration": 7,
    "start_time": "2023-01-02T18:05:54.721Z"
   },
   {
    "duration": 26,
    "start_time": "2023-01-02T18:05:54.730Z"
   },
   {
    "duration": 1508,
    "start_time": "2023-01-02T18:05:54.758Z"
   },
   {
    "duration": 4,
    "start_time": "2023-01-02T18:05:56.268Z"
   },
   {
    "duration": 7,
    "start_time": "2023-01-02T18:05:56.273Z"
   },
   {
    "duration": 7,
    "start_time": "2023-01-02T18:05:56.282Z"
   },
   {
    "duration": 105,
    "start_time": "2023-01-02T18:05:56.291Z"
   },
   {
    "duration": 6,
    "start_time": "2023-01-02T18:05:56.398Z"
   },
   {
    "duration": 9,
    "start_time": "2023-01-02T18:05:56.412Z"
   },
   {
    "duration": 17,
    "start_time": "2023-01-02T18:05:56.423Z"
   },
   {
    "duration": 10,
    "start_time": "2023-01-02T18:05:56.442Z"
   },
   {
    "duration": 10,
    "start_time": "2023-01-02T18:05:56.454Z"
   },
   {
    "duration": 12,
    "start_time": "2023-01-02T18:05:56.466Z"
   },
   {
    "duration": 17,
    "start_time": "2023-01-02T18:05:56.480Z"
   },
   {
    "duration": 22,
    "start_time": "2023-01-02T18:05:56.499Z"
   },
   {
    "duration": 20,
    "start_time": "2023-01-02T18:05:56.523Z"
   },
   {
    "duration": 39,
    "start_time": "2023-01-02T18:05:56.546Z"
   },
   {
    "duration": 24,
    "start_time": "2023-01-02T18:05:56.587Z"
   },
   {
    "duration": 3,
    "start_time": "2023-01-02T18:05:56.613Z"
   },
   {
    "duration": 22,
    "start_time": "2023-01-02T18:05:56.618Z"
   },
   {
    "duration": 73,
    "start_time": "2023-01-02T18:05:56.641Z"
   },
   {
    "duration": 337,
    "start_time": "2023-01-02T18:05:56.716Z"
   },
   {
    "duration": 14553,
    "start_time": "2023-01-02T18:05:57.055Z"
   },
   {
    "duration": 569,
    "start_time": "2023-01-02T18:06:11.611Z"
   },
   {
    "duration": 4,
    "start_time": "2023-01-02T18:06:12.182Z"
   },
   {
    "duration": 6,
    "start_time": "2023-01-02T18:06:12.190Z"
   },
   {
    "duration": 572,
    "start_time": "2023-01-02T18:06:12.198Z"
   },
   {
    "duration": 8,
    "start_time": "2023-01-02T18:06:12.772Z"
   },
   {
    "duration": 4,
    "start_time": "2023-01-02T18:06:12.781Z"
   },
   {
    "duration": 26,
    "start_time": "2023-01-02T18:06:12.787Z"
   },
   {
    "duration": 4,
    "start_time": "2023-01-02T18:06:12.815Z"
   },
   {
    "duration": 15,
    "start_time": "2023-01-02T18:06:12.820Z"
   },
   {
    "duration": 858,
    "start_time": "2023-01-02T18:06:12.837Z"
   },
   {
    "duration": 353,
    "start_time": "2023-01-02T18:06:13.697Z"
   },
   {
    "duration": 12,
    "start_time": "2023-01-02T18:06:14.051Z"
   },
   {
    "duration": 64,
    "start_time": "2023-01-02T18:06:14.064Z"
   },
   {
    "duration": 8,
    "start_time": "2023-01-02T18:06:14.130Z"
   },
   {
    "duration": 18,
    "start_time": "2023-01-02T18:06:14.140Z"
   },
   {
    "duration": 805,
    "start_time": "2023-01-02T18:06:14.160Z"
   },
   {
    "duration": 58,
    "start_time": "2023-01-02T18:06:14.967Z"
   },
   {
    "duration": 10,
    "start_time": "2023-01-02T18:06:15.027Z"
   },
   {
    "duration": 11,
    "start_time": "2023-01-02T18:28:16.448Z"
   },
   {
    "duration": 45,
    "start_time": "2023-01-02T18:30:10.947Z"
   },
   {
    "duration": 6,
    "start_time": "2023-01-02T18:32:20.270Z"
   },
   {
    "duration": 46,
    "start_time": "2023-01-02T18:38:14.663Z"
   },
   {
    "duration": 10,
    "start_time": "2023-01-02T18:38:42.318Z"
   },
   {
    "duration": 8,
    "start_time": "2023-01-02T18:39:07.831Z"
   },
   {
    "duration": 6,
    "start_time": "2023-01-02T18:40:46.781Z"
   },
   {
    "duration": 8,
    "start_time": "2023-01-02T18:41:41.190Z"
   },
   {
    "duration": 43,
    "start_time": "2023-01-03T04:01:06.805Z"
   },
   {
    "duration": 1511,
    "start_time": "2023-01-03T04:01:12.607Z"
   },
   {
    "duration": 89,
    "start_time": "2023-01-03T04:01:14.120Z"
   },
   {
    "duration": 12,
    "start_time": "2023-01-03T04:01:14.211Z"
   },
   {
    "duration": 8,
    "start_time": "2023-01-03T04:01:14.224Z"
   },
   {
    "duration": 3,
    "start_time": "2023-01-03T04:01:14.234Z"
   },
   {
    "duration": 13,
    "start_time": "2023-01-03T04:01:14.238Z"
   },
   {
    "duration": 10,
    "start_time": "2023-01-03T04:01:14.252Z"
   },
   {
    "duration": 3,
    "start_time": "2023-01-03T04:01:14.264Z"
   },
   {
    "duration": 12,
    "start_time": "2023-01-03T04:01:14.269Z"
   },
   {
    "duration": 7,
    "start_time": "2023-01-03T04:01:14.283Z"
   },
   {
    "duration": 3,
    "start_time": "2023-01-03T04:01:14.291Z"
   },
   {
    "duration": 4,
    "start_time": "2023-01-03T04:01:14.320Z"
   },
   {
    "duration": 9,
    "start_time": "2023-01-03T04:01:14.325Z"
   },
   {
    "duration": 7,
    "start_time": "2023-01-03T04:01:14.335Z"
   },
   {
    "duration": 14,
    "start_time": "2023-01-03T04:01:14.343Z"
   },
   {
    "duration": 8,
    "start_time": "2023-01-03T04:01:14.359Z"
   },
   {
    "duration": 29,
    "start_time": "2023-01-03T04:01:14.369Z"
   },
   {
    "duration": 2271,
    "start_time": "2023-01-03T04:01:14.399Z"
   },
   {
    "duration": 4,
    "start_time": "2023-01-03T04:01:16.672Z"
   },
   {
    "duration": 10,
    "start_time": "2023-01-03T04:01:16.677Z"
   },
   {
    "duration": 7,
    "start_time": "2023-01-03T04:01:16.688Z"
   },
   {
    "duration": 7,
    "start_time": "2023-01-03T04:01:16.696Z"
   },
   {
    "duration": 13,
    "start_time": "2023-01-03T04:01:16.704Z"
   },
   {
    "duration": 5,
    "start_time": "2023-01-03T04:01:16.719Z"
   },
   {
    "duration": 7,
    "start_time": "2023-01-03T04:01:16.725Z"
   },
   {
    "duration": 7,
    "start_time": "2023-01-03T04:01:16.733Z"
   },
   {
    "duration": 7,
    "start_time": "2023-01-03T04:01:16.741Z"
   },
   {
    "duration": 8,
    "start_time": "2023-01-03T04:01:16.833Z"
   },
   {
    "duration": 13,
    "start_time": "2023-01-03T04:01:16.842Z"
   },
   {
    "duration": 21,
    "start_time": "2023-01-03T04:01:16.856Z"
   },
   {
    "duration": 18,
    "start_time": "2023-01-03T04:01:16.878Z"
   },
   {
    "duration": 3,
    "start_time": "2023-01-03T04:01:16.897Z"
   },
   {
    "duration": 15,
    "start_time": "2023-01-03T04:01:16.920Z"
   },
   {
    "duration": 86,
    "start_time": "2023-01-03T04:01:16.937Z"
   },
   {
    "duration": 270,
    "start_time": "2023-01-03T04:01:17.026Z"
   },
   {
    "duration": 12921,
    "start_time": "2023-01-03T04:01:17.298Z"
   },
   {
    "duration": 553,
    "start_time": "2023-01-03T04:01:30.221Z"
   },
   {
    "duration": 4,
    "start_time": "2023-01-03T04:01:30.776Z"
   },
   {
    "duration": 16,
    "start_time": "2023-01-03T04:01:30.781Z"
   },
   {
    "duration": 570,
    "start_time": "2023-01-03T04:01:30.799Z"
   },
   {
    "duration": 8,
    "start_time": "2023-01-03T04:01:31.370Z"
   },
   {
    "duration": 11,
    "start_time": "2023-01-03T04:01:31.379Z"
   },
   {
    "duration": 88,
    "start_time": "2023-01-03T04:01:31.391Z"
   },
   {
    "duration": 4,
    "start_time": "2023-01-03T04:01:31.481Z"
   },
   {
    "duration": 21,
    "start_time": "2023-01-03T04:01:31.487Z"
   },
   {
    "duration": 14,
    "start_time": "2023-01-03T04:01:31.509Z"
   },
   {
    "duration": 19,
    "start_time": "2023-01-03T04:01:31.524Z"
   },
   {
    "duration": 828,
    "start_time": "2023-01-03T04:01:31.544Z"
   },
   {
    "duration": 350,
    "start_time": "2023-01-03T04:01:32.374Z"
   },
   {
    "duration": 12,
    "start_time": "2023-01-03T04:01:32.726Z"
   },
   {
    "duration": 49,
    "start_time": "2023-01-03T04:01:32.740Z"
   },
   {
    "duration": 33,
    "start_time": "2023-01-03T04:01:32.791Z"
   },
   {
    "duration": 9,
    "start_time": "2023-01-03T04:01:32.826Z"
   },
   {
    "duration": 4,
    "start_time": "2023-01-03T04:01:32.837Z"
   },
   {
    "duration": 3,
    "start_time": "2023-01-03T04:01:51.214Z"
   },
   {
    "duration": 7,
    "start_time": "2023-01-03T04:02:01.442Z"
   },
   {
    "duration": 114,
    "start_time": "2023-01-03T04:03:31.096Z"
   },
   {
    "duration": 53,
    "start_time": "2023-01-03T04:06:32.810Z"
   },
   {
    "duration": 47,
    "start_time": "2023-01-03T04:08:22.496Z"
   },
   {
    "duration": 48,
    "start_time": "2023-01-03T04:10:18.921Z"
   },
   {
    "duration": 4,
    "start_time": "2023-01-03T04:10:31.954Z"
   },
   {
    "duration": 3,
    "start_time": "2023-01-03T04:10:33.302Z"
   },
   {
    "duration": 10,
    "start_time": "2023-01-03T04:10:34.117Z"
   },
   {
    "duration": 116,
    "start_time": "2023-01-03T04:10:38.077Z"
   },
   {
    "duration": 115,
    "start_time": "2023-01-03T04:10:50.693Z"
   },
   {
    "duration": 47,
    "start_time": "2023-01-03T11:04:30.615Z"
   },
   {
    "duration": 1467,
    "start_time": "2023-01-03T11:04:34.604Z"
   },
   {
    "duration": 92,
    "start_time": "2023-01-03T11:04:36.073Z"
   },
   {
    "duration": 12,
    "start_time": "2023-01-03T11:04:36.166Z"
   },
   {
    "duration": 8,
    "start_time": "2023-01-03T11:04:36.180Z"
   },
   {
    "duration": 5,
    "start_time": "2023-01-03T11:04:36.192Z"
   },
   {
    "duration": 15,
    "start_time": "2023-01-03T11:04:36.198Z"
   },
   {
    "duration": 21,
    "start_time": "2023-01-03T11:04:36.215Z"
   },
   {
    "duration": 4,
    "start_time": "2023-01-03T11:04:36.237Z"
   },
   {
    "duration": 11,
    "start_time": "2023-01-03T11:04:36.243Z"
   },
   {
    "duration": 11,
    "start_time": "2023-01-03T11:04:36.255Z"
   },
   {
    "duration": 5,
    "start_time": "2023-01-03T11:04:36.268Z"
   },
   {
    "duration": 7,
    "start_time": "2023-01-03T11:04:36.275Z"
   },
   {
    "duration": 7,
    "start_time": "2023-01-03T11:04:36.284Z"
   },
   {
    "duration": 6,
    "start_time": "2023-01-03T11:04:36.293Z"
   },
   {
    "duration": 35,
    "start_time": "2023-01-03T11:04:36.301Z"
   },
   {
    "duration": 10,
    "start_time": "2023-01-03T11:04:36.338Z"
   },
   {
    "duration": 55,
    "start_time": "2023-01-03T11:04:36.349Z"
   },
   {
    "duration": 1539,
    "start_time": "2023-01-03T11:04:36.406Z"
   },
   {
    "duration": 4,
    "start_time": "2023-01-03T11:04:37.947Z"
   },
   {
    "duration": 19,
    "start_time": "2023-01-03T11:04:37.953Z"
   },
   {
    "duration": 32,
    "start_time": "2023-01-03T11:04:37.974Z"
   },
   {
    "duration": 19,
    "start_time": "2023-01-03T11:04:38.008Z"
   },
   {
    "duration": 13,
    "start_time": "2023-01-03T11:04:38.029Z"
   },
   {
    "duration": 16,
    "start_time": "2023-01-03T11:04:38.044Z"
   },
   {
    "duration": 9,
    "start_time": "2023-01-03T11:04:38.062Z"
   },
   {
    "duration": 9,
    "start_time": "2023-01-03T11:04:38.073Z"
   },
   {
    "duration": 30,
    "start_time": "2023-01-03T11:04:38.083Z"
   },
   {
    "duration": 78,
    "start_time": "2023-01-03T11:04:38.114Z"
   },
   {
    "duration": 14,
    "start_time": "2023-01-03T11:04:38.194Z"
   },
   {
    "duration": 31,
    "start_time": "2023-01-03T11:04:38.209Z"
   },
   {
    "duration": 14,
    "start_time": "2023-01-03T11:04:38.242Z"
   },
   {
    "duration": 2,
    "start_time": "2023-01-03T11:04:38.258Z"
   },
   {
    "duration": 21,
    "start_time": "2023-01-03T11:04:38.262Z"
   },
   {
    "duration": 56,
    "start_time": "2023-01-03T11:04:38.284Z"
   },
   {
    "duration": 297,
    "start_time": "2023-01-03T11:04:38.345Z"
   },
   {
    "duration": 15216,
    "start_time": "2023-01-03T11:04:38.644Z"
   },
   {
    "duration": 613,
    "start_time": "2023-01-03T11:04:53.862Z"
   },
   {
    "duration": 4,
    "start_time": "2023-01-03T11:04:54.477Z"
   },
   {
    "duration": 14,
    "start_time": "2023-01-03T11:04:54.483Z"
   },
   {
    "duration": 656,
    "start_time": "2023-01-03T11:04:54.498Z"
   },
   {
    "duration": 9,
    "start_time": "2023-01-03T11:04:55.159Z"
   },
   {
    "duration": 22,
    "start_time": "2023-01-03T11:04:55.170Z"
   },
   {
    "duration": 114,
    "start_time": "2023-01-03T11:04:55.194Z"
   },
   {
    "duration": 3,
    "start_time": "2023-01-03T11:04:55.310Z"
   },
   {
    "duration": 33,
    "start_time": "2023-01-03T11:04:55.315Z"
   },
   {
    "duration": 13,
    "start_time": "2023-01-03T11:04:55.350Z"
   },
   {
    "duration": 46,
    "start_time": "2023-01-03T11:04:55.367Z"
   },
   {
    "duration": 946,
    "start_time": "2023-01-03T11:04:55.415Z"
   },
   {
    "duration": 393,
    "start_time": "2023-01-03T11:04:56.363Z"
   },
   {
    "duration": 14,
    "start_time": "2023-01-03T11:04:56.758Z"
   },
   {
    "duration": 82,
    "start_time": "2023-01-03T11:04:56.774Z"
   },
   {
    "duration": 11,
    "start_time": "2023-01-03T11:04:56.857Z"
   },
   {
    "duration": 29,
    "start_time": "2023-01-03T11:04:56.870Z"
   },
   {
    "duration": 55,
    "start_time": "2023-01-03T11:04:56.901Z"
   },
   {
    "duration": 4,
    "start_time": "2023-01-03T11:04:56.958Z"
   },
   {
    "duration": 20,
    "start_time": "2023-01-03T11:04:56.963Z"
   },
   {
    "duration": 15,
    "start_time": "2023-01-03T11:04:56.985Z"
   },
   {
    "duration": 148,
    "start_time": "2023-01-03T11:04:57.001Z"
   },
   {
    "duration": 6,
    "start_time": "2023-01-03T11:04:57.151Z"
   },
   {
    "duration": 136,
    "start_time": "2023-01-03T11:47:34.018Z"
   },
   {
    "duration": 134,
    "start_time": "2023-01-03T11:47:45.625Z"
   },
   {
    "duration": 23,
    "start_time": "2023-01-03T12:19:56.962Z"
   },
   {
    "duration": 41152,
    "start_time": "2023-01-03T12:21:30.245Z"
   },
   {
    "duration": 13,
    "start_time": "2023-01-03T12:22:14.827Z"
   },
   {
    "duration": 40378,
    "start_time": "2023-01-03T12:23:01.202Z"
   },
   {
    "duration": 20,
    "start_time": "2023-01-03T12:23:45.029Z"
   },
   {
    "duration": 9,
    "start_time": "2023-01-03T12:24:57.933Z"
   },
   {
    "duration": 322212,
    "start_time": "2023-01-03T12:24:59.453Z"
   },
   {
    "duration": 13,
    "start_time": "2023-01-03T12:31:53.516Z"
   },
   {
    "duration": 10,
    "start_time": "2023-01-03T12:41:49.874Z"
   },
   {
    "duration": 5616585,
    "start_time": "2023-01-03T12:41:55.516Z"
   },
   {
    "duration": 9,
    "start_time": "2023-01-03T14:16:25.653Z"
   },
   {
    "duration": 1655425,
    "start_time": "2023-01-03T14:16:28.396Z"
   },
   {
    "duration": 14,
    "start_time": "2023-01-03T14:45:08.548Z"
   },
   {
    "duration": 82603,
    "start_time": "2023-01-03T14:45:11.967Z"
   },
   {
    "duration": 16,
    "start_time": "2023-01-03T14:46:39.814Z"
   },
   {
    "duration": 9,
    "start_time": "2023-01-03T14:46:58.362Z"
   },
   {
    "duration": 743891,
    "start_time": "2023-01-03T14:46:59.724Z"
   },
   {
    "duration": 16,
    "start_time": "2023-01-03T15:03:52.752Z"
   },
   {
    "duration": 735728,
    "start_time": "2023-01-03T16:06:22.826Z"
   },
   {
    "duration": 15,
    "start_time": "2023-01-03T16:19:30.447Z"
   },
   {
    "duration": 3,
    "start_time": "2023-01-03T16:20:13.102Z"
   },
   {
    "duration": 20,
    "start_time": "2023-01-03T16:20:32.408Z"
   },
   {
    "duration": 3,
    "start_time": "2023-01-03T16:21:17.546Z"
   },
   {
    "duration": 14,
    "start_time": "2023-01-03T16:21:28.352Z"
   },
   {
    "duration": 11,
    "start_time": "2023-01-03T16:21:48.510Z"
   },
   {
    "duration": 639,
    "start_time": "2023-01-03T16:23:44.897Z"
   },
   {
    "duration": 57,
    "start_time": "2023-01-03T16:23:47.314Z"
   },
   {
    "duration": 12,
    "start_time": "2023-01-03T16:27:09.548Z"
   },
   {
    "duration": 134,
    "start_time": "2023-01-03T16:28:20.061Z"
   },
   {
    "duration": 133,
    "start_time": "2023-01-03T16:29:14.414Z"
   },
   {
    "duration": 10,
    "start_time": "2023-01-03T16:35:00.252Z"
   },
   {
    "duration": 5,
    "start_time": "2023-01-03T16:40:54.304Z"
   },
   {
    "duration": 63,
    "start_time": "2023-01-03T16:40:54.310Z"
   },
   {
    "duration": 11,
    "start_time": "2023-01-03T16:40:54.375Z"
   },
   {
    "duration": 8,
    "start_time": "2023-01-03T16:40:54.387Z"
   },
   {
    "duration": 9,
    "start_time": "2023-01-03T16:40:54.397Z"
   },
   {
    "duration": 0,
    "start_time": "2023-01-03T16:40:54.408Z"
   },
   {
    "duration": 0,
    "start_time": "2023-01-03T16:40:54.409Z"
   },
   {
    "duration": 0,
    "start_time": "2023-01-03T16:40:54.410Z"
   },
   {
    "duration": 0,
    "start_time": "2023-01-03T16:40:54.411Z"
   },
   {
    "duration": 0,
    "start_time": "2023-01-03T16:40:54.412Z"
   },
   {
    "duration": 0,
    "start_time": "2023-01-03T16:40:54.435Z"
   },
   {
    "duration": 0,
    "start_time": "2023-01-03T16:40:54.436Z"
   },
   {
    "duration": 0,
    "start_time": "2023-01-03T16:40:54.440Z"
   },
   {
    "duration": 0,
    "start_time": "2023-01-03T16:40:54.441Z"
   },
   {
    "duration": 0,
    "start_time": "2023-01-03T16:40:54.443Z"
   },
   {
    "duration": 0,
    "start_time": "2023-01-03T16:40:54.444Z"
   },
   {
    "duration": 0,
    "start_time": "2023-01-03T16:40:54.445Z"
   },
   {
    "duration": 0,
    "start_time": "2023-01-03T16:40:54.446Z"
   },
   {
    "duration": 0,
    "start_time": "2023-01-03T16:40:54.448Z"
   },
   {
    "duration": 0,
    "start_time": "2023-01-03T16:40:54.450Z"
   },
   {
    "duration": 0,
    "start_time": "2023-01-03T16:40:54.451Z"
   },
   {
    "duration": 0,
    "start_time": "2023-01-03T16:40:54.452Z"
   },
   {
    "duration": 0,
    "start_time": "2023-01-03T16:40:54.453Z"
   },
   {
    "duration": 0,
    "start_time": "2023-01-03T16:40:54.454Z"
   },
   {
    "duration": 0,
    "start_time": "2023-01-03T16:40:54.455Z"
   },
   {
    "duration": 0,
    "start_time": "2023-01-03T16:40:54.456Z"
   },
   {
    "duration": 0,
    "start_time": "2023-01-03T16:40:54.458Z"
   },
   {
    "duration": 0,
    "start_time": "2023-01-03T16:40:54.459Z"
   },
   {
    "duration": 0,
    "start_time": "2023-01-03T16:40:54.460Z"
   },
   {
    "duration": 0,
    "start_time": "2023-01-03T16:40:54.461Z"
   },
   {
    "duration": 0,
    "start_time": "2023-01-03T16:40:54.462Z"
   },
   {
    "duration": 0,
    "start_time": "2023-01-03T16:40:54.462Z"
   },
   {
    "duration": 0,
    "start_time": "2023-01-03T16:40:54.463Z"
   },
   {
    "duration": 0,
    "start_time": "2023-01-03T16:40:54.465Z"
   },
   {
    "duration": 0,
    "start_time": "2023-01-03T16:40:54.466Z"
   },
   {
    "duration": 0,
    "start_time": "2023-01-03T16:40:54.467Z"
   },
   {
    "duration": 0,
    "start_time": "2023-01-03T16:40:54.468Z"
   },
   {
    "duration": 0,
    "start_time": "2023-01-03T16:40:54.469Z"
   },
   {
    "duration": 0,
    "start_time": "2023-01-03T16:40:54.470Z"
   },
   {
    "duration": 0,
    "start_time": "2023-01-03T16:40:54.471Z"
   },
   {
    "duration": 0,
    "start_time": "2023-01-03T16:40:54.472Z"
   },
   {
    "duration": 0,
    "start_time": "2023-01-03T16:40:54.473Z"
   },
   {
    "duration": 861,
    "start_time": "2023-01-03T16:40:54.535Z"
   },
   {
    "duration": 0,
    "start_time": "2023-01-03T16:40:55.398Z"
   },
   {
    "duration": 0,
    "start_time": "2023-01-03T16:40:55.399Z"
   },
   {
    "duration": 0,
    "start_time": "2023-01-03T16:40:55.400Z"
   },
   {
    "duration": 0,
    "start_time": "2023-01-03T16:40:55.402Z"
   },
   {
    "duration": 0,
    "start_time": "2023-01-03T16:40:55.403Z"
   },
   {
    "duration": 0,
    "start_time": "2023-01-03T16:40:55.405Z"
   },
   {
    "duration": 0,
    "start_time": "2023-01-03T16:40:55.406Z"
   },
   {
    "duration": 0,
    "start_time": "2023-01-03T16:40:55.408Z"
   },
   {
    "duration": 0,
    "start_time": "2023-01-03T16:40:55.409Z"
   },
   {
    "duration": 0,
    "start_time": "2023-01-03T16:40:55.411Z"
   },
   {
    "duration": 0,
    "start_time": "2023-01-03T16:40:55.412Z"
   },
   {
    "duration": 0,
    "start_time": "2023-01-03T16:40:55.413Z"
   },
   {
    "duration": 0,
    "start_time": "2023-01-03T16:40:55.415Z"
   },
   {
    "duration": 0,
    "start_time": "2023-01-03T16:40:55.416Z"
   },
   {
    "duration": 0,
    "start_time": "2023-01-03T16:40:55.419Z"
   },
   {
    "duration": 0,
    "start_time": "2023-01-03T16:40:55.420Z"
   },
   {
    "duration": 0,
    "start_time": "2023-01-03T16:40:55.422Z"
   },
   {
    "duration": 0,
    "start_time": "2023-01-03T16:40:55.423Z"
   },
   {
    "duration": 0,
    "start_time": "2023-01-03T16:40:55.425Z"
   },
   {
    "duration": 0,
    "start_time": "2023-01-03T16:40:55.426Z"
   },
   {
    "duration": 8,
    "start_time": "2023-01-03T16:41:44.156Z"
   },
   {
    "duration": 4,
    "start_time": "2023-01-03T16:41:47.413Z"
   },
   {
    "duration": 5,
    "start_time": "2023-01-03T16:42:00.975Z"
   },
   {
    "duration": 98,
    "start_time": "2023-01-03T16:42:00.983Z"
   },
   {
    "duration": 18,
    "start_time": "2023-01-03T16:42:01.083Z"
   },
   {
    "duration": 36,
    "start_time": "2023-01-03T16:42:01.104Z"
   },
   {
    "duration": 27,
    "start_time": "2023-01-03T16:42:01.143Z"
   },
   {
    "duration": 27,
    "start_time": "2023-01-03T16:42:01.172Z"
   },
   {
    "duration": 21,
    "start_time": "2023-01-03T16:42:01.201Z"
   },
   {
    "duration": 14,
    "start_time": "2023-01-03T16:42:01.224Z"
   },
   {
    "duration": 44,
    "start_time": "2023-01-03T16:42:01.242Z"
   },
   {
    "duration": 16,
    "start_time": "2023-01-03T16:42:01.288Z"
   },
   {
    "duration": 30,
    "start_time": "2023-01-03T16:42:01.306Z"
   },
   {
    "duration": 41,
    "start_time": "2023-01-03T16:42:01.339Z"
   },
   {
    "duration": 32,
    "start_time": "2023-01-03T16:42:01.382Z"
   },
   {
    "duration": 27,
    "start_time": "2023-01-03T16:42:01.417Z"
   },
   {
    "duration": 62,
    "start_time": "2023-01-03T16:42:01.446Z"
   },
   {
    "duration": 40,
    "start_time": "2023-01-03T16:42:01.510Z"
   },
   {
    "duration": 76,
    "start_time": "2023-01-03T16:42:01.552Z"
   },
   {
    "duration": 1939,
    "start_time": "2023-01-03T16:42:01.630Z"
   },
   {
    "duration": 5,
    "start_time": "2023-01-03T16:42:03.571Z"
   },
   {
    "duration": 27,
    "start_time": "2023-01-03T16:42:03.578Z"
   },
   {
    "duration": 24,
    "start_time": "2023-01-03T16:42:03.607Z"
   },
   {
    "duration": 20,
    "start_time": "2023-01-03T16:42:03.633Z"
   },
   {
    "duration": 20,
    "start_time": "2023-01-03T16:42:03.655Z"
   },
   {
    "duration": 23,
    "start_time": "2023-01-03T16:42:03.679Z"
   },
   {
    "duration": 36,
    "start_time": "2023-01-03T16:42:03.704Z"
   },
   {
    "duration": 23,
    "start_time": "2023-01-03T16:42:03.742Z"
   },
   {
    "duration": 17,
    "start_time": "2023-01-03T16:42:03.767Z"
   },
   {
    "duration": 17,
    "start_time": "2023-01-03T16:42:03.786Z"
   },
   {
    "duration": 24,
    "start_time": "2023-01-03T16:42:03.805Z"
   },
   {
    "duration": 24,
    "start_time": "2023-01-03T16:42:03.831Z"
   },
   {
    "duration": 64,
    "start_time": "2023-01-03T16:42:03.857Z"
   },
   {
    "duration": 3,
    "start_time": "2023-01-03T16:42:03.923Z"
   },
   {
    "duration": 33,
    "start_time": "2023-01-03T16:42:03.928Z"
   },
   {
    "duration": 182,
    "start_time": "2023-01-03T16:42:03.962Z"
   },
   {
    "duration": 488,
    "start_time": "2023-01-03T16:42:04.148Z"
   },
   {
    "duration": 17907,
    "start_time": "2023-01-03T16:42:04.638Z"
   },
   {
    "duration": 625,
    "start_time": "2023-01-03T16:42:22.547Z"
   },
   {
    "duration": 3,
    "start_time": "2023-01-03T16:42:23.174Z"
   },
   {
    "duration": 14,
    "start_time": "2023-01-03T16:42:23.179Z"
   },
   {
    "duration": 589,
    "start_time": "2023-01-03T16:42:23.194Z"
   },
   {
    "duration": 9,
    "start_time": "2023-01-03T16:42:23.785Z"
   },
   {
    "duration": 21,
    "start_time": "2023-01-03T16:42:23.795Z"
   },
   {
    "duration": 103,
    "start_time": "2023-01-03T16:42:23.818Z"
   },
   {
    "duration": 4,
    "start_time": "2023-01-03T16:42:23.923Z"
   },
   {
    "duration": 48,
    "start_time": "2023-01-03T16:42:23.928Z"
   },
   {
    "duration": 17,
    "start_time": "2023-01-03T16:42:23.979Z"
   },
   {
    "duration": 32,
    "start_time": "2023-01-03T16:42:23.998Z"
   },
   {
    "duration": 863,
    "start_time": "2023-01-03T16:42:24.032Z"
   },
   {
    "duration": 468,
    "start_time": "2023-01-03T16:42:24.897Z"
   },
   {
    "duration": 12,
    "start_time": "2023-01-03T16:42:25.366Z"
   },
   {
    "duration": 69,
    "start_time": "2023-01-03T16:42:25.380Z"
   },
   {
    "duration": 8,
    "start_time": "2023-01-03T16:42:25.451Z"
   },
   {
    "duration": 9,
    "start_time": "2023-01-03T16:42:25.461Z"
   },
   {
    "duration": 65,
    "start_time": "2023-01-03T16:42:25.472Z"
   },
   {
    "duration": 132,
    "start_time": "2023-01-03T16:42:25.539Z"
   },
   {
    "duration": 7,
    "start_time": "2023-01-03T16:42:25.673Z"
   },
   {
    "duration": 11,
    "start_time": "2023-01-03T16:42:25.681Z"
   },
   {
    "duration": 84898,
    "start_time": "2023-01-03T16:42:25.694Z"
   },
   {
    "duration": 14,
    "start_time": "2023-01-03T16:43:50.594Z"
   },
   {
    "duration": 19,
    "start_time": "2023-01-03T16:43:50.610Z"
   },
   {
    "duration": 699,
    "start_time": "2023-01-03T16:43:50.636Z"
   },
   {
    "duration": 63,
    "start_time": "2023-01-03T16:43:51.337Z"
   },
   {
    "duration": 49,
    "start_time": "2023-01-03T16:45:50.272Z"
   },
   {
    "duration": 141,
    "start_time": "2023-01-03T16:46:51.636Z"
   },
   {
    "duration": 783,
    "start_time": "2023-01-03T17:00:33.454Z"
   },
   {
    "duration": 4,
    "start_time": "2023-01-03T17:00:55.664Z"
   },
   {
    "duration": 56,
    "start_time": "2023-01-03T17:00:55.670Z"
   },
   {
    "duration": 12,
    "start_time": "2023-01-03T17:00:55.728Z"
   },
   {
    "duration": 12,
    "start_time": "2023-01-03T17:00:55.742Z"
   },
   {
    "duration": 12,
    "start_time": "2023-01-03T17:00:55.756Z"
   },
   {
    "duration": 0,
    "start_time": "2023-01-03T17:00:55.770Z"
   },
   {
    "duration": 0,
    "start_time": "2023-01-03T17:00:55.771Z"
   },
   {
    "duration": 0,
    "start_time": "2023-01-03T17:00:55.772Z"
   },
   {
    "duration": 0,
    "start_time": "2023-01-03T17:00:55.773Z"
   },
   {
    "duration": 0,
    "start_time": "2023-01-03T17:00:55.774Z"
   },
   {
    "duration": 0,
    "start_time": "2023-01-03T17:00:55.775Z"
   },
   {
    "duration": 0,
    "start_time": "2023-01-03T17:00:55.776Z"
   },
   {
    "duration": 0,
    "start_time": "2023-01-03T17:00:55.777Z"
   },
   {
    "duration": 0,
    "start_time": "2023-01-03T17:00:55.778Z"
   },
   {
    "duration": 0,
    "start_time": "2023-01-03T17:00:55.779Z"
   },
   {
    "duration": 0,
    "start_time": "2023-01-03T17:00:55.780Z"
   },
   {
    "duration": 0,
    "start_time": "2023-01-03T17:00:55.781Z"
   },
   {
    "duration": 1,
    "start_time": "2023-01-03T17:00:55.782Z"
   },
   {
    "duration": 0,
    "start_time": "2023-01-03T17:00:55.784Z"
   },
   {
    "duration": 0,
    "start_time": "2023-01-03T17:00:55.784Z"
   },
   {
    "duration": 0,
    "start_time": "2023-01-03T17:00:55.785Z"
   },
   {
    "duration": 0,
    "start_time": "2023-01-03T17:00:55.786Z"
   },
   {
    "duration": 0,
    "start_time": "2023-01-03T17:00:55.787Z"
   },
   {
    "duration": 0,
    "start_time": "2023-01-03T17:00:55.788Z"
   },
   {
    "duration": 0,
    "start_time": "2023-01-03T17:00:55.790Z"
   },
   {
    "duration": 0,
    "start_time": "2023-01-03T17:00:55.836Z"
   },
   {
    "duration": 0,
    "start_time": "2023-01-03T17:00:55.837Z"
   },
   {
    "duration": 0,
    "start_time": "2023-01-03T17:00:55.837Z"
   },
   {
    "duration": 0,
    "start_time": "2023-01-03T17:00:55.838Z"
   },
   {
    "duration": 0,
    "start_time": "2023-01-03T17:00:55.840Z"
   },
   {
    "duration": 0,
    "start_time": "2023-01-03T17:00:55.841Z"
   },
   {
    "duration": 0,
    "start_time": "2023-01-03T17:00:55.842Z"
   },
   {
    "duration": 0,
    "start_time": "2023-01-03T17:00:55.843Z"
   },
   {
    "duration": 0,
    "start_time": "2023-01-03T17:00:55.844Z"
   },
   {
    "duration": 0,
    "start_time": "2023-01-03T17:00:55.845Z"
   },
   {
    "duration": 0,
    "start_time": "2023-01-03T17:00:55.847Z"
   },
   {
    "duration": 0,
    "start_time": "2023-01-03T17:00:55.848Z"
   },
   {
    "duration": 0,
    "start_time": "2023-01-03T17:00:55.850Z"
   },
   {
    "duration": 0,
    "start_time": "2023-01-03T17:00:55.851Z"
   },
   {
    "duration": 0,
    "start_time": "2023-01-03T17:00:55.853Z"
   },
   {
    "duration": 0,
    "start_time": "2023-01-03T17:00:55.854Z"
   },
   {
    "duration": 0,
    "start_time": "2023-01-03T17:00:55.855Z"
   },
   {
    "duration": 0,
    "start_time": "2023-01-03T17:00:55.857Z"
   },
   {
    "duration": 0,
    "start_time": "2023-01-03T17:00:55.858Z"
   },
   {
    "duration": 0,
    "start_time": "2023-01-03T17:00:55.860Z"
   },
   {
    "duration": 0,
    "start_time": "2023-01-03T17:00:55.861Z"
   },
   {
    "duration": 0,
    "start_time": "2023-01-03T17:00:55.862Z"
   },
   {
    "duration": 0,
    "start_time": "2023-01-03T17:00:55.864Z"
   },
   {
    "duration": 0,
    "start_time": "2023-01-03T17:00:55.865Z"
   },
   {
    "duration": 0,
    "start_time": "2023-01-03T17:00:55.867Z"
   },
   {
    "duration": 175,
    "start_time": "2023-01-03T17:00:55.873Z"
   },
   {
    "duration": 10,
    "start_time": "2023-01-03T17:00:56.049Z"
   },
   {
    "duration": 17,
    "start_time": "2023-01-03T17:00:56.061Z"
   },
   {
    "duration": 78,
    "start_time": "2023-01-03T17:00:56.079Z"
   },
   {
    "duration": 127,
    "start_time": "2023-01-03T17:00:56.159Z"
   },
   {
    "duration": 7,
    "start_time": "2023-01-03T17:00:56.288Z"
   },
   {
    "duration": 9,
    "start_time": "2023-01-03T17:00:56.296Z"
   },
   {
    "duration": 61670,
    "start_time": "2023-01-03T17:00:56.306Z"
   },
   {
    "duration": 0,
    "start_time": "2023-01-03T17:01:57.978Z"
   },
   {
    "duration": 0,
    "start_time": "2023-01-03T17:01:57.979Z"
   },
   {
    "duration": 0,
    "start_time": "2023-01-03T17:01:57.980Z"
   },
   {
    "duration": 0,
    "start_time": "2023-01-03T17:01:57.981Z"
   },
   {
    "duration": 0,
    "start_time": "2023-01-03T17:01:57.982Z"
   },
   {
    "duration": 0,
    "start_time": "2023-01-03T17:01:57.983Z"
   },
   {
    "duration": 5,
    "start_time": "2023-01-03T17:02:17.121Z"
   },
   {
    "duration": 8,
    "start_time": "2023-01-03T17:02:23.947Z"
   },
   {
    "duration": 6,
    "start_time": "2023-01-03T17:02:42.006Z"
   },
   {
    "duration": 6,
    "start_time": "2023-01-03T17:02:48.087Z"
   },
   {
    "duration": 57,
    "start_time": "2023-01-03T17:04:12.008Z"
   },
   {
    "duration": 7,
    "start_time": "2023-01-03T17:04:33.801Z"
   },
   {
    "duration": 8,
    "start_time": "2023-01-03T17:06:30.561Z"
   },
   {
    "duration": 9,
    "start_time": "2023-01-03T17:06:35.934Z"
   },
   {
    "duration": 10,
    "start_time": "2023-01-03T17:07:41.679Z"
   },
   {
    "duration": 4,
    "start_time": "2023-01-03T17:07:46.617Z"
   },
   {
    "duration": 6,
    "start_time": "2023-01-03T17:07:58.661Z"
   },
   {
    "duration": 5,
    "start_time": "2023-01-03T17:08:17.611Z"
   },
   {
    "duration": 7,
    "start_time": "2023-01-03T17:15:19.941Z"
   },
   {
    "duration": 8,
    "start_time": "2023-01-03T17:15:24.132Z"
   },
   {
    "duration": 7,
    "start_time": "2023-01-03T17:15:30.455Z"
   },
   {
    "duration": 160,
    "start_time": "2023-01-03T17:15:30.465Z"
   },
   {
    "duration": 15,
    "start_time": "2023-01-03T17:15:30.626Z"
   },
   {
    "duration": 22,
    "start_time": "2023-01-03T17:15:30.643Z"
   },
   {
    "duration": 31,
    "start_time": "2023-01-03T17:15:30.669Z"
   },
   {
    "duration": 27,
    "start_time": "2023-01-03T17:15:30.702Z"
   },
   {
    "duration": 42,
    "start_time": "2023-01-03T17:15:30.731Z"
   },
   {
    "duration": 13,
    "start_time": "2023-01-03T17:15:30.774Z"
   },
   {
    "duration": 36,
    "start_time": "2023-01-03T17:15:30.789Z"
   },
   {
    "duration": 22,
    "start_time": "2023-01-03T17:15:30.826Z"
   },
   {
    "duration": 17,
    "start_time": "2023-01-03T17:15:30.850Z"
   },
   {
    "duration": 23,
    "start_time": "2023-01-03T17:15:30.868Z"
   },
   {
    "duration": 12,
    "start_time": "2023-01-03T17:15:30.893Z"
   },
   {
    "duration": 14,
    "start_time": "2023-01-03T17:15:30.908Z"
   },
   {
    "duration": 22,
    "start_time": "2023-01-03T17:15:30.924Z"
   },
   {
    "duration": 22,
    "start_time": "2023-01-03T17:15:30.948Z"
   },
   {
    "duration": 33,
    "start_time": "2023-01-03T17:15:30.972Z"
   },
   {
    "duration": 1614,
    "start_time": "2023-01-03T17:15:31.008Z"
   },
   {
    "duration": 12,
    "start_time": "2023-01-03T17:15:32.624Z"
   },
   {
    "duration": 20,
    "start_time": "2023-01-03T17:15:32.638Z"
   },
   {
    "duration": 17,
    "start_time": "2023-01-03T17:15:32.660Z"
   },
   {
    "duration": 15,
    "start_time": "2023-01-03T17:15:32.679Z"
   },
   {
    "duration": 20,
    "start_time": "2023-01-03T17:15:32.697Z"
   },
   {
    "duration": 21,
    "start_time": "2023-01-03T17:15:32.719Z"
   },
   {
    "duration": 12,
    "start_time": "2023-01-03T17:15:32.742Z"
   },
   {
    "duration": 19,
    "start_time": "2023-01-03T17:15:32.756Z"
   },
   {
    "duration": 7,
    "start_time": "2023-01-03T17:15:32.777Z"
   },
   {
    "duration": 16,
    "start_time": "2023-01-03T17:15:32.785Z"
   },
   {
    "duration": 16,
    "start_time": "2023-01-03T17:15:32.804Z"
   },
   {
    "duration": 22,
    "start_time": "2023-01-03T17:15:32.822Z"
   },
   {
    "duration": 23,
    "start_time": "2023-01-03T17:15:32.846Z"
   },
   {
    "duration": 12,
    "start_time": "2023-01-03T17:15:32.871Z"
   },
   {
    "duration": 27,
    "start_time": "2023-01-03T17:15:32.885Z"
   },
   {
    "duration": 25,
    "start_time": "2023-01-03T17:15:32.914Z"
   },
   {
    "duration": 280,
    "start_time": "2023-01-03T17:15:33.039Z"
   },
   {
    "duration": 14929,
    "start_time": "2023-01-03T17:15:33.321Z"
   },
   {
    "duration": 616,
    "start_time": "2023-01-03T17:15:48.252Z"
   },
   {
    "duration": 4,
    "start_time": "2023-01-03T17:15:48.870Z"
   },
   {
    "duration": 18,
    "start_time": "2023-01-03T17:15:48.876Z"
   },
   {
    "duration": 705,
    "start_time": "2023-01-03T17:15:48.897Z"
   },
   {
    "duration": 10,
    "start_time": "2023-01-03T17:15:49.606Z"
   },
   {
    "duration": 20,
    "start_time": "2023-01-03T17:15:49.618Z"
   },
   {
    "duration": 76,
    "start_time": "2023-01-03T17:15:49.640Z"
   },
   {
    "duration": 18,
    "start_time": "2023-01-03T17:15:49.718Z"
   },
   {
    "duration": 18,
    "start_time": "2023-01-03T17:15:49.737Z"
   },
   {
    "duration": 4,
    "start_time": "2023-01-03T17:15:49.757Z"
   },
   {
    "duration": 25,
    "start_time": "2023-01-03T17:15:49.762Z"
   },
   {
    "duration": 951,
    "start_time": "2023-01-03T17:15:49.788Z"
   },
   {
    "duration": 377,
    "start_time": "2023-01-03T17:15:50.741Z"
   },
   {
    "duration": 20,
    "start_time": "2023-01-03T17:15:51.120Z"
   },
   {
    "duration": 55,
    "start_time": "2023-01-03T17:15:51.141Z"
   },
   {
    "duration": 10,
    "start_time": "2023-01-03T17:15:51.198Z"
   },
   {
    "duration": 33,
    "start_time": "2023-01-03T17:15:51.209Z"
   },
   {
    "duration": 59,
    "start_time": "2023-01-03T17:15:51.244Z"
   },
   {
    "duration": 161,
    "start_time": "2023-01-03T17:15:51.304Z"
   },
   {
    "duration": 6,
    "start_time": "2023-01-03T17:15:51.468Z"
   },
   {
    "duration": 120,
    "start_time": "2023-01-03T17:15:51.477Z"
   },
   {
    "duration": 83978,
    "start_time": "2023-01-03T17:15:51.599Z"
   },
   {
    "duration": 16,
    "start_time": "2023-01-03T17:17:15.579Z"
   },
   {
    "duration": 12,
    "start_time": "2023-01-03T17:17:15.598Z"
   },
   {
    "duration": 737,
    "start_time": "2023-01-03T17:17:15.612Z"
   },
   {
    "duration": 58,
    "start_time": "2023-01-03T17:17:16.351Z"
   },
   {
    "duration": 173,
    "start_time": "2023-01-03T17:17:16.410Z"
   },
   {
    "duration": 5,
    "start_time": "2023-01-03T17:18:26.084Z"
   },
   {
    "duration": 76,
    "start_time": "2023-01-03T17:18:26.091Z"
   },
   {
    "duration": 13,
    "start_time": "2023-01-03T17:18:26.168Z"
   },
   {
    "duration": 27,
    "start_time": "2023-01-03T17:18:26.184Z"
   },
   {
    "duration": 14,
    "start_time": "2023-01-03T17:18:26.213Z"
   },
   {
    "duration": 17,
    "start_time": "2023-01-03T17:18:26.229Z"
   },
   {
    "duration": 22,
    "start_time": "2023-01-03T17:18:26.247Z"
   },
   {
    "duration": 4,
    "start_time": "2023-01-03T17:18:26.271Z"
   },
   {
    "duration": 22,
    "start_time": "2023-01-03T17:18:26.279Z"
   },
   {
    "duration": 13,
    "start_time": "2023-01-03T17:18:26.303Z"
   },
   {
    "duration": 24,
    "start_time": "2023-01-03T17:18:26.319Z"
   },
   {
    "duration": 50,
    "start_time": "2023-01-03T17:18:26.345Z"
   },
   {
    "duration": 17,
    "start_time": "2023-01-03T17:18:26.397Z"
   },
   {
    "duration": 30,
    "start_time": "2023-01-03T17:18:26.416Z"
   },
   {
    "duration": 32,
    "start_time": "2023-01-03T17:18:26.448Z"
   },
   {
    "duration": 27,
    "start_time": "2023-01-03T17:18:26.481Z"
   },
   {
    "duration": 35,
    "start_time": "2023-01-03T17:18:26.509Z"
   },
   {
    "duration": 1715,
    "start_time": "2023-01-03T17:18:26.546Z"
   },
   {
    "duration": 5,
    "start_time": "2023-01-03T17:18:28.262Z"
   },
   {
    "duration": 20,
    "start_time": "2023-01-03T17:18:28.269Z"
   },
   {
    "duration": 12,
    "start_time": "2023-01-03T17:18:28.290Z"
   },
   {
    "duration": 7,
    "start_time": "2023-01-03T17:18:28.304Z"
   },
   {
    "duration": 22,
    "start_time": "2023-01-03T17:18:28.312Z"
   },
   {
    "duration": 16,
    "start_time": "2023-01-03T17:18:28.337Z"
   },
   {
    "duration": 16,
    "start_time": "2023-01-03T17:18:28.355Z"
   },
   {
    "duration": 18,
    "start_time": "2023-01-03T17:18:28.372Z"
   },
   {
    "duration": 17,
    "start_time": "2023-01-03T17:18:28.392Z"
   },
   {
    "duration": 36,
    "start_time": "2023-01-03T17:18:28.411Z"
   },
   {
    "duration": 29,
    "start_time": "2023-01-03T17:18:28.449Z"
   },
   {
    "duration": 62,
    "start_time": "2023-01-03T17:18:28.480Z"
   },
   {
    "duration": 91,
    "start_time": "2023-01-03T17:18:28.544Z"
   },
   {
    "duration": 3,
    "start_time": "2023-01-03T17:18:28.638Z"
   },
   {
    "duration": 38,
    "start_time": "2023-01-03T17:18:28.643Z"
   },
   {
    "duration": 153,
    "start_time": "2023-01-03T17:18:28.683Z"
   },
   {
    "duration": 521,
    "start_time": "2023-01-03T17:18:28.839Z"
   },
   {
    "duration": 16080,
    "start_time": "2023-01-03T17:18:29.362Z"
   },
   {
    "duration": 607,
    "start_time": "2023-01-03T17:18:45.444Z"
   },
   {
    "duration": 4,
    "start_time": "2023-01-03T17:18:46.053Z"
   },
   {
    "duration": 13,
    "start_time": "2023-01-03T17:18:46.059Z"
   },
   {
    "duration": 625,
    "start_time": "2023-01-03T17:18:46.073Z"
   },
   {
    "duration": 11,
    "start_time": "2023-01-03T17:18:46.700Z"
   },
   {
    "duration": 24,
    "start_time": "2023-01-03T17:18:46.712Z"
   },
   {
    "duration": 104,
    "start_time": "2023-01-03T17:18:46.738Z"
   },
   {
    "duration": 4,
    "start_time": "2023-01-03T17:18:46.844Z"
   },
   {
    "duration": 14,
    "start_time": "2023-01-03T17:18:46.850Z"
   },
   {
    "duration": 4,
    "start_time": "2023-01-03T17:18:46.866Z"
   },
   {
    "duration": 18,
    "start_time": "2023-01-03T17:18:46.872Z"
   },
   {
    "duration": 862,
    "start_time": "2023-01-03T17:18:46.892Z"
   },
   {
    "duration": 361,
    "start_time": "2023-01-03T17:18:47.756Z"
   },
   {
    "duration": 20,
    "start_time": "2023-01-03T17:18:48.119Z"
   },
   {
    "duration": 52,
    "start_time": "2023-01-03T17:18:48.140Z"
   },
   {
    "duration": 9,
    "start_time": "2023-01-03T17:18:48.194Z"
   },
   {
    "duration": 11,
    "start_time": "2023-01-03T17:18:48.204Z"
   },
   {
    "duration": 56,
    "start_time": "2023-01-03T17:18:48.234Z"
   },
   {
    "duration": 122,
    "start_time": "2023-01-03T17:18:48.292Z"
   },
   {
    "duration": 6,
    "start_time": "2023-01-03T17:18:48.416Z"
   },
   {
    "duration": 15,
    "start_time": "2023-01-03T17:18:48.423Z"
   },
   {
    "duration": 84783,
    "start_time": "2023-01-03T17:18:48.440Z"
   },
   {
    "duration": 25,
    "start_time": "2023-01-03T17:20:13.225Z"
   },
   {
    "duration": 21,
    "start_time": "2023-01-03T17:20:13.252Z"
   },
   {
    "duration": 756,
    "start_time": "2023-01-03T17:20:13.275Z"
   },
   {
    "duration": 64,
    "start_time": "2023-01-03T17:20:14.035Z"
   },
   {
    "duration": 196,
    "start_time": "2023-01-03T17:20:14.102Z"
   },
   {
    "duration": 6,
    "start_time": "2023-01-03T17:21:11.698Z"
   },
   {
    "duration": 75,
    "start_time": "2023-01-03T17:21:11.707Z"
   },
   {
    "duration": 18,
    "start_time": "2023-01-03T17:21:11.784Z"
   },
   {
    "duration": 12,
    "start_time": "2023-01-03T17:21:11.805Z"
   },
   {
    "duration": 4,
    "start_time": "2023-01-03T17:21:11.837Z"
   },
   {
    "duration": 15,
    "start_time": "2023-01-03T17:21:11.843Z"
   },
   {
    "duration": 17,
    "start_time": "2023-01-03T17:21:11.860Z"
   },
   {
    "duration": 5,
    "start_time": "2023-01-03T17:21:11.879Z"
   },
   {
    "duration": 50,
    "start_time": "2023-01-03T17:21:11.885Z"
   },
   {
    "duration": 17,
    "start_time": "2023-01-03T17:21:11.937Z"
   },
   {
    "duration": 4,
    "start_time": "2023-01-03T17:21:11.956Z"
   },
   {
    "duration": 16,
    "start_time": "2023-01-03T17:21:11.962Z"
   },
   {
    "duration": 15,
    "start_time": "2023-01-03T17:21:11.981Z"
   },
   {
    "duration": 12,
    "start_time": "2023-01-03T17:21:12.001Z"
   },
   {
    "duration": 29,
    "start_time": "2023-01-03T17:21:12.015Z"
   },
   {
    "duration": 21,
    "start_time": "2023-01-03T17:21:12.045Z"
   },
   {
    "duration": 29,
    "start_time": "2023-01-03T17:21:12.068Z"
   },
   {
    "duration": 1736,
    "start_time": "2023-01-03T17:21:12.099Z"
   },
   {
    "duration": 6,
    "start_time": "2023-01-03T17:21:13.837Z"
   },
   {
    "duration": 10,
    "start_time": "2023-01-03T17:21:13.846Z"
   },
   {
    "duration": 7,
    "start_time": "2023-01-03T17:21:13.858Z"
   },
   {
    "duration": 11,
    "start_time": "2023-01-03T17:21:13.867Z"
   },
   {
    "duration": 23,
    "start_time": "2023-01-03T17:21:13.880Z"
   },
   {
    "duration": 7,
    "start_time": "2023-01-03T17:21:13.905Z"
   },
   {
    "duration": 25,
    "start_time": "2023-01-03T17:21:13.913Z"
   },
   {
    "duration": 14,
    "start_time": "2023-01-03T17:21:13.940Z"
   },
   {
    "duration": 9,
    "start_time": "2023-01-03T17:21:13.955Z"
   },
   {
    "duration": 18,
    "start_time": "2023-01-03T17:21:13.966Z"
   },
   {
    "duration": 15,
    "start_time": "2023-01-03T17:21:13.986Z"
   },
   {
    "duration": 49,
    "start_time": "2023-01-03T17:21:14.003Z"
   },
   {
    "duration": 18,
    "start_time": "2023-01-03T17:21:14.054Z"
   },
   {
    "duration": 8,
    "start_time": "2023-01-03T17:21:14.074Z"
   },
   {
    "duration": 23,
    "start_time": "2023-01-03T17:21:14.084Z"
   },
   {
    "duration": 38,
    "start_time": "2023-01-03T17:21:14.109Z"
   },
   {
    "duration": 372,
    "start_time": "2023-01-03T17:21:14.150Z"
   },
   {
    "duration": 16912,
    "start_time": "2023-01-03T17:21:14.524Z"
   },
   {
    "duration": 1124,
    "start_time": "2023-01-03T17:21:31.438Z"
   },
   {
    "duration": 5,
    "start_time": "2023-01-03T17:21:32.564Z"
   },
   {
    "duration": 19,
    "start_time": "2023-01-03T17:21:32.571Z"
   },
   {
    "duration": 1152,
    "start_time": "2023-01-03T17:21:32.592Z"
   },
   {
    "duration": 13,
    "start_time": "2023-01-03T17:21:33.750Z"
   },
   {
    "duration": 8,
    "start_time": "2023-01-03T17:21:33.765Z"
   },
   {
    "duration": 266,
    "start_time": "2023-01-03T17:21:33.775Z"
   },
   {
    "duration": 4,
    "start_time": "2023-01-03T17:21:34.043Z"
   },
   {
    "duration": 32,
    "start_time": "2023-01-03T17:21:34.049Z"
   },
   {
    "duration": 52,
    "start_time": "2023-01-03T17:21:34.083Z"
   },
   {
    "duration": 25,
    "start_time": "2023-01-03T17:21:34.138Z"
   },
   {
    "duration": 1310,
    "start_time": "2023-01-03T17:21:34.166Z"
   },
   {
    "duration": 390,
    "start_time": "2023-01-03T17:21:35.477Z"
   },
   {
    "duration": 13,
    "start_time": "2023-01-03T17:21:35.869Z"
   },
   {
    "duration": 75,
    "start_time": "2023-01-03T17:21:35.884Z"
   },
   {
    "duration": 9,
    "start_time": "2023-01-03T17:21:35.961Z"
   },
   {
    "duration": 14,
    "start_time": "2023-01-03T17:21:35.972Z"
   },
   {
    "duration": 77,
    "start_time": "2023-01-03T17:21:35.988Z"
   },
   {
    "duration": 136,
    "start_time": "2023-01-03T17:21:36.067Z"
   },
   {
    "duration": 6,
    "start_time": "2023-01-03T17:21:36.205Z"
   },
   {
    "duration": 27,
    "start_time": "2023-01-03T17:21:36.214Z"
   },
   {
    "duration": 85927,
    "start_time": "2023-01-03T17:21:36.242Z"
   },
   {
    "duration": 15,
    "start_time": "2023-01-03T17:23:02.171Z"
   },
   {
    "duration": 31,
    "start_time": "2023-01-03T17:23:02.189Z"
   },
   {
    "duration": 873,
    "start_time": "2023-01-03T17:23:02.222Z"
   },
   {
    "duration": 57,
    "start_time": "2023-01-03T17:23:03.097Z"
   },
   {
    "duration": 162,
    "start_time": "2023-01-03T17:23:03.156Z"
   },
   {
    "duration": 722,
    "start_time": "2023-01-03T17:28:01.515Z"
   },
   {
    "duration": 5,
    "start_time": "2023-01-03T17:28:06.026Z"
   },
   {
    "duration": 88,
    "start_time": "2023-01-03T17:28:06.033Z"
   },
   {
    "duration": 13,
    "start_time": "2023-01-03T17:28:06.124Z"
   },
   {
    "duration": 31,
    "start_time": "2023-01-03T17:28:06.138Z"
   },
   {
    "duration": 14,
    "start_time": "2023-01-03T17:28:06.171Z"
   },
   {
    "duration": 0,
    "start_time": "2023-01-03T17:28:06.188Z"
   },
   {
    "duration": 0,
    "start_time": "2023-01-03T17:28:06.189Z"
   },
   {
    "duration": 0,
    "start_time": "2023-01-03T17:28:06.190Z"
   },
   {
    "duration": 0,
    "start_time": "2023-01-03T17:28:06.190Z"
   },
   {
    "duration": 0,
    "start_time": "2023-01-03T17:28:06.191Z"
   },
   {
    "duration": 0,
    "start_time": "2023-01-03T17:28:06.193Z"
   },
   {
    "duration": 0,
    "start_time": "2023-01-03T17:28:06.194Z"
   },
   {
    "duration": 0,
    "start_time": "2023-01-03T17:28:06.195Z"
   },
   {
    "duration": 0,
    "start_time": "2023-01-03T17:28:06.196Z"
   },
   {
    "duration": 0,
    "start_time": "2023-01-03T17:28:06.197Z"
   },
   {
    "duration": 0,
    "start_time": "2023-01-03T17:28:06.198Z"
   },
   {
    "duration": 0,
    "start_time": "2023-01-03T17:28:06.199Z"
   },
   {
    "duration": 0,
    "start_time": "2023-01-03T17:28:06.200Z"
   },
   {
    "duration": 0,
    "start_time": "2023-01-03T17:28:06.201Z"
   },
   {
    "duration": 0,
    "start_time": "2023-01-03T17:28:06.201Z"
   },
   {
    "duration": 0,
    "start_time": "2023-01-03T17:28:06.202Z"
   },
   {
    "duration": 0,
    "start_time": "2023-01-03T17:28:06.203Z"
   },
   {
    "duration": 0,
    "start_time": "2023-01-03T17:28:06.204Z"
   },
   {
    "duration": 0,
    "start_time": "2023-01-03T17:28:06.205Z"
   },
   {
    "duration": 0,
    "start_time": "2023-01-03T17:28:06.206Z"
   },
   {
    "duration": 0,
    "start_time": "2023-01-03T17:28:06.207Z"
   },
   {
    "duration": 0,
    "start_time": "2023-01-03T17:28:06.208Z"
   },
   {
    "duration": 0,
    "start_time": "2023-01-03T17:28:06.235Z"
   },
   {
    "duration": 0,
    "start_time": "2023-01-03T17:28:06.237Z"
   },
   {
    "duration": 0,
    "start_time": "2023-01-03T17:28:06.238Z"
   },
   {
    "duration": 0,
    "start_time": "2023-01-03T17:28:06.239Z"
   },
   {
    "duration": 0,
    "start_time": "2023-01-03T17:28:06.240Z"
   },
   {
    "duration": 0,
    "start_time": "2023-01-03T17:28:06.241Z"
   },
   {
    "duration": 0,
    "start_time": "2023-01-03T17:28:06.242Z"
   },
   {
    "duration": 0,
    "start_time": "2023-01-03T17:28:06.243Z"
   },
   {
    "duration": 0,
    "start_time": "2023-01-03T17:28:06.244Z"
   },
   {
    "duration": 0,
    "start_time": "2023-01-03T17:28:06.245Z"
   },
   {
    "duration": 0,
    "start_time": "2023-01-03T17:28:06.247Z"
   },
   {
    "duration": 0,
    "start_time": "2023-01-03T17:28:06.247Z"
   },
   {
    "duration": 0,
    "start_time": "2023-01-03T17:28:06.249Z"
   },
   {
    "duration": 0,
    "start_time": "2023-01-03T17:28:06.249Z"
   },
   {
    "duration": 0,
    "start_time": "2023-01-03T17:28:06.251Z"
   },
   {
    "duration": 1,
    "start_time": "2023-01-03T17:28:06.251Z"
   },
   {
    "duration": 0,
    "start_time": "2023-01-03T17:28:06.253Z"
   },
   {
    "duration": 0,
    "start_time": "2023-01-03T17:28:06.254Z"
   },
   {
    "duration": 0,
    "start_time": "2023-01-03T17:28:06.256Z"
   },
   {
    "duration": 0,
    "start_time": "2023-01-03T17:28:06.256Z"
   },
   {
    "duration": 0,
    "start_time": "2023-01-03T17:28:06.257Z"
   },
   {
    "duration": 0,
    "start_time": "2023-01-03T17:28:06.258Z"
   },
   {
    "duration": 0,
    "start_time": "2023-01-03T17:28:06.260Z"
   },
   {
    "duration": 0,
    "start_time": "2023-01-03T17:28:06.260Z"
   },
   {
    "duration": 0,
    "start_time": "2023-01-03T17:28:06.262Z"
   },
   {
    "duration": 0,
    "start_time": "2023-01-03T17:28:06.262Z"
   },
   {
    "duration": 0,
    "start_time": "2023-01-03T17:28:06.264Z"
   },
   {
    "duration": 0,
    "start_time": "2023-01-03T17:28:06.265Z"
   },
   {
    "duration": 0,
    "start_time": "2023-01-03T17:28:06.266Z"
   },
   {
    "duration": 0,
    "start_time": "2023-01-03T17:28:06.267Z"
   },
   {
    "duration": 0,
    "start_time": "2023-01-03T17:28:06.268Z"
   },
   {
    "duration": 0,
    "start_time": "2023-01-03T17:28:06.269Z"
   },
   {
    "duration": 1,
    "start_time": "2023-01-03T17:28:06.334Z"
   },
   {
    "duration": 0,
    "start_time": "2023-01-03T17:28:06.336Z"
   },
   {
    "duration": 0,
    "start_time": "2023-01-03T17:28:06.337Z"
   },
   {
    "duration": 0,
    "start_time": "2023-01-03T17:28:06.338Z"
   },
   {
    "duration": 7,
    "start_time": "2023-01-03T17:28:18.761Z"
   },
   {
    "duration": 7,
    "start_time": "2023-01-03T17:28:21.525Z"
   },
   {
    "duration": 63,
    "start_time": "2023-01-03T17:28:21.534Z"
   },
   {
    "duration": 18,
    "start_time": "2023-01-03T17:28:21.599Z"
   },
   {
    "duration": 17,
    "start_time": "2023-01-03T17:28:21.619Z"
   },
   {
    "duration": 6,
    "start_time": "2023-01-03T17:28:21.639Z"
   },
   {
    "duration": 16,
    "start_time": "2023-01-03T17:28:21.648Z"
   },
   {
    "duration": 28,
    "start_time": "2023-01-03T17:28:21.666Z"
   },
   {
    "duration": 6,
    "start_time": "2023-01-03T17:28:21.696Z"
   },
   {
    "duration": 31,
    "start_time": "2023-01-03T17:28:21.704Z"
   },
   {
    "duration": 10,
    "start_time": "2023-01-03T17:28:21.737Z"
   },
   {
    "duration": 9,
    "start_time": "2023-01-03T17:28:21.749Z"
   },
   {
    "duration": 13,
    "start_time": "2023-01-03T17:28:21.759Z"
   },
   {
    "duration": 10,
    "start_time": "2023-01-03T17:28:21.774Z"
   },
   {
    "duration": 8,
    "start_time": "2023-01-03T17:28:21.787Z"
   },
   {
    "duration": 21,
    "start_time": "2023-01-03T17:28:21.797Z"
   },
   {
    "duration": 15,
    "start_time": "2023-01-03T17:28:21.820Z"
   },
   {
    "duration": 26,
    "start_time": "2023-01-03T17:28:21.838Z"
   },
   {
    "duration": 1578,
    "start_time": "2023-01-03T17:28:21.866Z"
   },
   {
    "duration": 5,
    "start_time": "2023-01-03T17:28:23.446Z"
   },
   {
    "duration": 18,
    "start_time": "2023-01-03T17:28:23.453Z"
   },
   {
    "duration": 9,
    "start_time": "2023-01-03T17:28:23.473Z"
   },
   {
    "duration": 6,
    "start_time": "2023-01-03T17:28:23.484Z"
   },
   {
    "duration": 12,
    "start_time": "2023-01-03T17:28:23.492Z"
   },
   {
    "duration": 14,
    "start_time": "2023-01-03T17:28:23.505Z"
   },
   {
    "duration": 19,
    "start_time": "2023-01-03T17:28:23.521Z"
   },
   {
    "duration": 11,
    "start_time": "2023-01-03T17:28:23.542Z"
   },
   {
    "duration": 5,
    "start_time": "2023-01-03T17:28:23.555Z"
   },
   {
    "duration": 25,
    "start_time": "2023-01-03T17:28:23.562Z"
   },
   {
    "duration": 18,
    "start_time": "2023-01-03T17:28:23.588Z"
   },
   {
    "duration": 17,
    "start_time": "2023-01-03T17:28:23.608Z"
   },
   {
    "duration": 32,
    "start_time": "2023-01-03T17:28:23.626Z"
   },
   {
    "duration": 4,
    "start_time": "2023-01-03T17:28:23.660Z"
   },
   {
    "duration": 122,
    "start_time": "2023-01-03T17:28:23.666Z"
   },
   {
    "duration": 52,
    "start_time": "2023-01-03T17:28:23.790Z"
   },
   {
    "duration": 297,
    "start_time": "2023-01-03T17:28:23.844Z"
   },
   {
    "duration": 14880,
    "start_time": "2023-01-03T17:28:24.143Z"
   },
   {
    "duration": 655,
    "start_time": "2023-01-03T17:28:39.025Z"
   },
   {
    "duration": 3,
    "start_time": "2023-01-03T17:28:39.682Z"
   },
   {
    "duration": 27,
    "start_time": "2023-01-03T17:28:39.687Z"
   },
   {
    "duration": 650,
    "start_time": "2023-01-03T17:28:39.716Z"
   },
   {
    "duration": 9,
    "start_time": "2023-01-03T17:28:40.370Z"
   },
   {
    "duration": 17,
    "start_time": "2023-01-03T17:28:40.381Z"
   },
   {
    "duration": 96,
    "start_time": "2023-01-03T17:28:40.400Z"
   },
   {
    "duration": 4,
    "start_time": "2023-01-03T17:28:40.497Z"
   },
   {
    "duration": 44,
    "start_time": "2023-01-03T17:28:40.502Z"
   },
   {
    "duration": 10,
    "start_time": "2023-01-03T17:28:40.548Z"
   },
   {
    "duration": 35,
    "start_time": "2023-01-03T17:28:40.559Z"
   },
   {
    "duration": 917,
    "start_time": "2023-01-03T17:28:40.596Z"
   },
   {
    "duration": 390,
    "start_time": "2023-01-03T17:28:41.515Z"
   },
   {
    "duration": 11,
    "start_time": "2023-01-03T17:28:41.907Z"
   },
   {
    "duration": 83,
    "start_time": "2023-01-03T17:28:41.920Z"
   },
   {
    "duration": 14,
    "start_time": "2023-01-03T17:28:42.005Z"
   },
   {
    "duration": 10,
    "start_time": "2023-01-03T17:28:42.037Z"
   },
   {
    "duration": 62,
    "start_time": "2023-01-03T17:28:42.049Z"
   },
   {
    "duration": 138,
    "start_time": "2023-01-03T17:28:42.113Z"
   },
   {
    "duration": 6,
    "start_time": "2023-01-03T17:28:42.253Z"
   },
   {
    "duration": 14,
    "start_time": "2023-01-03T17:28:42.261Z"
   },
   {
    "duration": 88536,
    "start_time": "2023-01-03T17:28:42.277Z"
   },
   {
    "duration": 28,
    "start_time": "2023-01-03T17:30:10.815Z"
   },
   {
    "duration": 23,
    "start_time": "2023-01-03T17:30:10.844Z"
   },
   {
    "duration": 747,
    "start_time": "2023-01-03T17:30:10.869Z"
   },
   {
    "duration": 57,
    "start_time": "2023-01-03T17:30:11.618Z"
   },
   {
    "duration": 158,
    "start_time": "2023-01-03T17:30:11.677Z"
   },
   {
    "duration": 5,
    "start_time": "2023-01-03T17:42:17.533Z"
   },
   {
    "duration": 66,
    "start_time": "2023-01-03T17:42:17.540Z"
   },
   {
    "duration": 13,
    "start_time": "2023-01-03T17:42:17.607Z"
   },
   {
    "duration": 21,
    "start_time": "2023-01-03T17:42:17.622Z"
   },
   {
    "duration": 9,
    "start_time": "2023-01-03T17:42:17.645Z"
   },
   {
    "duration": 16,
    "start_time": "2023-01-03T17:42:17.656Z"
   },
   {
    "duration": 23,
    "start_time": "2023-01-03T17:42:17.675Z"
   },
   {
    "duration": 5,
    "start_time": "2023-01-03T17:42:17.699Z"
   },
   {
    "duration": 24,
    "start_time": "2023-01-03T17:42:17.706Z"
   },
   {
    "duration": 27,
    "start_time": "2023-01-03T17:42:17.732Z"
   },
   {
    "duration": 4,
    "start_time": "2023-01-03T17:42:17.762Z"
   },
   {
    "duration": 12,
    "start_time": "2023-01-03T17:42:17.768Z"
   },
   {
    "duration": 15,
    "start_time": "2023-01-03T17:42:17.782Z"
   },
   {
    "duration": 7,
    "start_time": "2023-01-03T17:42:17.801Z"
   },
   {
    "duration": 28,
    "start_time": "2023-01-03T17:42:17.810Z"
   },
   {
    "duration": 20,
    "start_time": "2023-01-03T17:42:17.840Z"
   },
   {
    "duration": 34,
    "start_time": "2023-01-03T17:42:17.861Z"
   },
   {
    "duration": 1616,
    "start_time": "2023-01-03T17:42:17.896Z"
   },
   {
    "duration": 5,
    "start_time": "2023-01-03T17:42:19.514Z"
   },
   {
    "duration": 27,
    "start_time": "2023-01-03T17:42:19.521Z"
   },
   {
    "duration": 18,
    "start_time": "2023-01-03T17:42:19.550Z"
   },
   {
    "duration": 8,
    "start_time": "2023-01-03T17:42:19.569Z"
   },
   {
    "duration": 21,
    "start_time": "2023-01-03T17:42:19.578Z"
   },
   {
    "duration": 7,
    "start_time": "2023-01-03T17:42:19.601Z"
   },
   {
    "duration": 8,
    "start_time": "2023-01-03T17:42:19.609Z"
   },
   {
    "duration": 11,
    "start_time": "2023-01-03T17:42:19.618Z"
   },
   {
    "duration": 4,
    "start_time": "2023-01-03T17:42:19.636Z"
   },
   {
    "duration": 14,
    "start_time": "2023-01-03T17:42:19.642Z"
   },
   {
    "duration": 20,
    "start_time": "2023-01-03T17:42:19.658Z"
   },
   {
    "duration": 23,
    "start_time": "2023-01-03T17:42:19.680Z"
   },
   {
    "duration": 20,
    "start_time": "2023-01-03T17:42:19.705Z"
   },
   {
    "duration": 3,
    "start_time": "2023-01-03T17:42:19.735Z"
   },
   {
    "duration": 40,
    "start_time": "2023-01-03T17:42:19.740Z"
   },
   {
    "duration": 12,
    "start_time": "2023-01-03T17:42:19.781Z"
   },
   {
    "duration": 289,
    "start_time": "2023-01-03T17:42:19.846Z"
   },
   {
    "duration": 19864,
    "start_time": "2023-01-03T17:42:20.137Z"
   },
   {
    "duration": 634,
    "start_time": "2023-01-03T17:42:40.003Z"
   },
   {
    "duration": 4,
    "start_time": "2023-01-03T17:42:40.638Z"
   },
   {
    "duration": 15,
    "start_time": "2023-01-03T17:42:40.643Z"
   },
   {
    "duration": 601,
    "start_time": "2023-01-03T17:42:40.660Z"
   },
   {
    "duration": 8,
    "start_time": "2023-01-03T17:42:41.265Z"
   },
   {
    "duration": 12,
    "start_time": "2023-01-03T17:42:41.275Z"
   },
   {
    "duration": 101,
    "start_time": "2023-01-03T17:42:41.289Z"
   },
   {
    "duration": 4,
    "start_time": "2023-01-03T17:42:41.392Z"
   },
   {
    "duration": 27,
    "start_time": "2023-01-03T17:42:41.398Z"
   },
   {
    "duration": 14,
    "start_time": "2023-01-03T17:42:41.427Z"
   },
   {
    "duration": 30,
    "start_time": "2023-01-03T17:42:41.443Z"
   },
   {
    "duration": 921,
    "start_time": "2023-01-03T17:42:41.475Z"
   },
   {
    "duration": 438,
    "start_time": "2023-01-03T17:42:42.398Z"
   },
   {
    "duration": 11,
    "start_time": "2023-01-03T17:42:42.838Z"
   },
   {
    "duration": 56,
    "start_time": "2023-01-03T17:42:42.851Z"
   },
   {
    "duration": 35,
    "start_time": "2023-01-03T17:42:42.908Z"
   },
   {
    "duration": 9,
    "start_time": "2023-01-03T17:42:42.945Z"
   },
   {
    "duration": 55,
    "start_time": "2023-01-03T17:42:42.956Z"
   },
   {
    "duration": 121,
    "start_time": "2023-01-03T17:42:43.037Z"
   },
   {
    "duration": 7,
    "start_time": "2023-01-03T17:42:43.159Z"
   },
   {
    "duration": 14,
    "start_time": "2023-01-03T17:42:43.167Z"
   },
   {
    "duration": 86018,
    "start_time": "2023-01-03T17:42:43.182Z"
   },
   {
    "duration": 15,
    "start_time": "2023-01-03T17:44:09.202Z"
   },
   {
    "duration": 7,
    "start_time": "2023-01-03T17:44:09.218Z"
   },
   {
    "duration": 747,
    "start_time": "2023-01-03T17:44:09.236Z"
   },
   {
    "duration": 59,
    "start_time": "2023-01-03T17:44:09.985Z"
   },
   {
    "duration": 150,
    "start_time": "2023-01-03T17:44:10.046Z"
   },
   {
    "duration": 7,
    "start_time": "2023-01-03T17:53:26.658Z"
   },
   {
    "duration": 80,
    "start_time": "2023-01-03T17:53:26.667Z"
   },
   {
    "duration": 13,
    "start_time": "2023-01-03T17:53:26.753Z"
   },
   {
    "duration": 22,
    "start_time": "2023-01-03T17:53:26.767Z"
   },
   {
    "duration": 17,
    "start_time": "2023-01-03T17:53:26.792Z"
   },
   {
    "duration": 16,
    "start_time": "2023-01-03T17:53:26.810Z"
   },
   {
    "duration": 39,
    "start_time": "2023-01-03T17:53:26.828Z"
   },
   {
    "duration": 14,
    "start_time": "2023-01-03T17:53:26.869Z"
   },
   {
    "duration": 11,
    "start_time": "2023-01-03T17:53:26.885Z"
   },
   {
    "duration": 13,
    "start_time": "2023-01-03T17:53:26.897Z"
   },
   {
    "duration": 13,
    "start_time": "2023-01-03T17:53:26.912Z"
   },
   {
    "duration": 11,
    "start_time": "2023-01-03T17:53:26.926Z"
   },
   {
    "duration": 7,
    "start_time": "2023-01-03T17:53:26.941Z"
   },
   {
    "duration": 15,
    "start_time": "2023-01-03T17:53:26.951Z"
   },
   {
    "duration": 19,
    "start_time": "2023-01-03T17:53:26.968Z"
   },
   {
    "duration": 29,
    "start_time": "2023-01-03T17:53:26.989Z"
   },
   {
    "duration": 17,
    "start_time": "2023-01-03T17:53:27.020Z"
   },
   {
    "duration": 56,
    "start_time": "2023-01-03T17:53:27.039Z"
   },
   {
    "duration": 5787,
    "start_time": "2023-01-03T17:53:27.097Z"
   },
   {
    "duration": 14,
    "start_time": "2023-01-03T17:53:32.936Z"
   },
   {
    "duration": 21,
    "start_time": "2023-01-03T17:53:32.954Z"
   },
   {
    "duration": 68,
    "start_time": "2023-01-03T17:53:32.976Z"
   },
   {
    "duration": 22,
    "start_time": "2023-01-03T17:53:33.049Z"
   },
   {
    "duration": 67,
    "start_time": "2023-01-03T17:53:33.073Z"
   },
   {
    "duration": 13,
    "start_time": "2023-01-03T17:53:33.142Z"
   },
   {
    "duration": 36,
    "start_time": "2023-01-03T17:53:33.157Z"
   },
   {
    "duration": 50,
    "start_time": "2023-01-03T17:53:33.195Z"
   },
   {
    "duration": 25,
    "start_time": "2023-01-03T17:53:33.249Z"
   },
   {
    "duration": 25,
    "start_time": "2023-01-03T17:53:33.276Z"
   },
   {
    "duration": 0,
    "start_time": "2023-01-03T17:53:33.341Z"
   },
   {
    "duration": 0,
    "start_time": "2023-01-03T17:53:33.348Z"
   },
   {
    "duration": 0,
    "start_time": "2023-01-03T17:53:33.349Z"
   },
   {
    "duration": 0,
    "start_time": "2023-01-03T17:53:33.351Z"
   },
   {
    "duration": 0,
    "start_time": "2023-01-03T17:53:33.353Z"
   },
   {
    "duration": 0,
    "start_time": "2023-01-03T17:53:33.354Z"
   },
   {
    "duration": 0,
    "start_time": "2023-01-03T17:53:33.355Z"
   },
   {
    "duration": 0,
    "start_time": "2023-01-03T17:53:33.357Z"
   },
   {
    "duration": 0,
    "start_time": "2023-01-03T17:53:33.358Z"
   },
   {
    "duration": 0,
    "start_time": "2023-01-03T17:53:33.359Z"
   },
   {
    "duration": 0,
    "start_time": "2023-01-03T17:53:33.360Z"
   },
   {
    "duration": 0,
    "start_time": "2023-01-03T17:53:33.362Z"
   },
   {
    "duration": 0,
    "start_time": "2023-01-03T17:53:33.363Z"
   },
   {
    "duration": 0,
    "start_time": "2023-01-03T17:53:33.364Z"
   },
   {
    "duration": 0,
    "start_time": "2023-01-03T17:53:33.365Z"
   },
   {
    "duration": 0,
    "start_time": "2023-01-03T17:53:33.365Z"
   },
   {
    "duration": 0,
    "start_time": "2023-01-03T17:53:33.367Z"
   },
   {
    "duration": 0,
    "start_time": "2023-01-03T17:53:33.368Z"
   },
   {
    "duration": 0,
    "start_time": "2023-01-03T17:53:33.369Z"
   },
   {
    "duration": 0,
    "start_time": "2023-01-03T17:53:33.370Z"
   },
   {
    "duration": 0,
    "start_time": "2023-01-03T17:53:33.372Z"
   },
   {
    "duration": 0,
    "start_time": "2023-01-03T17:53:33.373Z"
   },
   {
    "duration": 0,
    "start_time": "2023-01-03T17:53:33.374Z"
   },
   {
    "duration": 0,
    "start_time": "2023-01-03T17:53:33.375Z"
   },
   {
    "duration": 0,
    "start_time": "2023-01-03T17:53:33.376Z"
   },
   {
    "duration": 0,
    "start_time": "2023-01-03T17:53:33.377Z"
   },
   {
    "duration": 0,
    "start_time": "2023-01-03T17:53:33.378Z"
   },
   {
    "duration": 0,
    "start_time": "2023-01-03T17:53:33.379Z"
   },
   {
    "duration": 0,
    "start_time": "2023-01-03T17:53:33.381Z"
   },
   {
    "duration": 0,
    "start_time": "2023-01-03T17:53:33.437Z"
   },
   {
    "duration": 0,
    "start_time": "2023-01-03T17:53:33.438Z"
   },
   {
    "duration": 0,
    "start_time": "2023-01-03T17:53:33.438Z"
   },
   {
    "duration": 0,
    "start_time": "2023-01-03T17:53:33.439Z"
   },
   {
    "duration": 0,
    "start_time": "2023-01-03T17:53:33.439Z"
   },
   {
    "duration": 0,
    "start_time": "2023-01-03T17:53:33.440Z"
   },
   {
    "duration": 9,
    "start_time": "2023-01-03T17:56:15.891Z"
   },
   {
    "duration": 848,
    "start_time": "2023-01-03T18:00:09.309Z"
   },
   {
    "duration": 5,
    "start_time": "2023-01-03T18:00:13.605Z"
   },
   {
    "duration": 93,
    "start_time": "2023-01-03T18:00:13.612Z"
   },
   {
    "duration": 15,
    "start_time": "2023-01-03T18:00:13.707Z"
   },
   {
    "duration": 35,
    "start_time": "2023-01-03T18:00:13.724Z"
   },
   {
    "duration": 28,
    "start_time": "2023-01-03T18:00:13.761Z"
   },
   {
    "duration": 30,
    "start_time": "2023-01-03T18:00:13.791Z"
   },
   {
    "duration": 43,
    "start_time": "2023-01-03T18:00:13.822Z"
   },
   {
    "duration": 6,
    "start_time": "2023-01-03T18:00:13.867Z"
   },
   {
    "duration": 42,
    "start_time": "2023-01-03T18:00:13.876Z"
   },
   {
    "duration": 38,
    "start_time": "2023-01-03T18:00:13.919Z"
   },
   {
    "duration": 18,
    "start_time": "2023-01-03T18:00:13.959Z"
   },
   {
    "duration": 29,
    "start_time": "2023-01-03T18:00:13.979Z"
   },
   {
    "duration": 20,
    "start_time": "2023-01-03T18:00:14.010Z"
   },
   {
    "duration": 30,
    "start_time": "2023-01-03T18:00:14.032Z"
   },
   {
    "duration": 56,
    "start_time": "2023-01-03T18:00:14.064Z"
   },
   {
    "duration": 61,
    "start_time": "2023-01-03T18:00:14.122Z"
   },
   {
    "duration": 92,
    "start_time": "2023-01-03T18:00:14.185Z"
   },
   {
    "duration": 1882,
    "start_time": "2023-01-03T18:00:14.280Z"
   },
   {
    "duration": 4,
    "start_time": "2023-01-03T18:00:16.164Z"
   },
   {
    "duration": 10,
    "start_time": "2023-01-03T18:00:16.170Z"
   },
   {
    "duration": 62,
    "start_time": "2023-01-03T18:00:16.182Z"
   },
   {
    "duration": 15,
    "start_time": "2023-01-03T18:00:16.245Z"
   },
   {
    "duration": 15,
    "start_time": "2023-01-03T18:00:16.261Z"
   },
   {
    "duration": 9,
    "start_time": "2023-01-03T18:00:16.280Z"
   },
   {
    "duration": 53,
    "start_time": "2023-01-03T18:00:16.291Z"
   },
   {
    "duration": 7,
    "start_time": "2023-01-03T18:00:16.348Z"
   },
   {
    "duration": 22,
    "start_time": "2023-01-03T18:00:16.357Z"
   },
   {
    "duration": 58,
    "start_time": "2023-01-03T18:00:16.381Z"
   },
   {
    "duration": 26,
    "start_time": "2023-01-03T18:00:16.441Z"
   },
   {
    "duration": 73,
    "start_time": "2023-01-03T18:00:16.469Z"
   },
   {
    "duration": 18,
    "start_time": "2023-01-03T18:00:16.545Z"
   },
   {
    "duration": 9,
    "start_time": "2023-01-03T18:00:16.564Z"
   },
   {
    "duration": 76,
    "start_time": "2023-01-03T18:00:16.574Z"
   },
   {
    "duration": 91,
    "start_time": "2023-01-03T18:00:16.653Z"
   },
   {
    "duration": 504,
    "start_time": "2023-01-03T18:00:16.745Z"
   },
   {
    "duration": 19221,
    "start_time": "2023-01-03T18:00:17.254Z"
   },
   {
    "duration": 695,
    "start_time": "2023-01-03T18:00:36.477Z"
   },
   {
    "duration": 4,
    "start_time": "2023-01-03T18:00:37.174Z"
   },
   {
    "duration": 9,
    "start_time": "2023-01-03T18:00:37.180Z"
   },
   {
    "duration": 663,
    "start_time": "2023-01-03T18:00:37.191Z"
   },
   {
    "duration": 9,
    "start_time": "2023-01-03T18:00:37.856Z"
   },
   {
    "duration": 8,
    "start_time": "2023-01-03T18:00:37.867Z"
   },
   {
    "duration": 107,
    "start_time": "2023-01-03T18:00:37.877Z"
   },
   {
    "duration": 6,
    "start_time": "2023-01-03T18:00:37.986Z"
   },
   {
    "duration": 18,
    "start_time": "2023-01-03T18:00:37.993Z"
   },
   {
    "duration": 23,
    "start_time": "2023-01-03T18:00:38.013Z"
   },
   {
    "duration": 17,
    "start_time": "2023-01-03T18:00:38.038Z"
   },
   {
    "duration": 937,
    "start_time": "2023-01-03T18:00:38.057Z"
   },
   {
    "duration": 432,
    "start_time": "2023-01-03T18:00:38.996Z"
   },
   {
    "duration": 22,
    "start_time": "2023-01-03T18:00:39.429Z"
   },
   {
    "duration": 73,
    "start_time": "2023-01-03T18:00:39.456Z"
   },
   {
    "duration": 10,
    "start_time": "2023-01-03T18:00:39.531Z"
   },
   {
    "duration": 24,
    "start_time": "2023-01-03T18:00:39.543Z"
   },
   {
    "duration": 66,
    "start_time": "2023-01-03T18:00:39.570Z"
   },
   {
    "duration": 134,
    "start_time": "2023-01-03T18:00:39.642Z"
   },
   {
    "duration": 6,
    "start_time": "2023-01-03T18:00:39.778Z"
   },
   {
    "duration": 15,
    "start_time": "2023-01-03T18:00:39.786Z"
   },
   {
    "duration": 85554,
    "start_time": "2023-01-03T18:00:39.802Z"
   },
   {
    "duration": 14,
    "start_time": "2023-01-03T18:02:05.358Z"
   },
   {
    "duration": 22,
    "start_time": "2023-01-03T18:02:05.374Z"
   },
   {
    "duration": 735,
    "start_time": "2023-01-03T18:02:05.398Z"
   },
   {
    "duration": 59,
    "start_time": "2023-01-03T18:02:06.138Z"
   },
   {
    "duration": 156,
    "start_time": "2023-01-03T18:02:06.199Z"
   },
   {
    "duration": 9,
    "start_time": "2023-01-03T18:11:49.629Z"
   },
   {
    "duration": 4,
    "start_time": "2023-01-03T18:19:31.346Z"
   },
   {
    "duration": 15,
    "start_time": "2023-01-03T18:20:07.367Z"
   },
   {
    "duration": 11,
    "start_time": "2023-01-03T18:22:32.068Z"
   },
   {
    "duration": 5,
    "start_time": "2023-01-03T18:44:04.850Z"
   },
   {
    "duration": 15,
    "start_time": "2023-01-03T18:48:07.272Z"
   },
   {
    "duration": 10,
    "start_time": "2023-01-03T18:48:56.940Z"
   },
   {
    "duration": 8,
    "start_time": "2023-01-03T19:21:36.881Z"
   },
   {
    "duration": 10303,
    "start_time": "2023-01-03T19:21:38.484Z"
   },
   {
    "duration": 5,
    "start_time": "2023-01-03T19:22:00.126Z"
   },
   {
    "duration": 82,
    "start_time": "2023-01-03T19:22:00.133Z"
   },
   {
    "duration": 13,
    "start_time": "2023-01-03T19:22:00.216Z"
   },
   {
    "duration": 41,
    "start_time": "2023-01-03T19:22:00.231Z"
   },
   {
    "duration": 35,
    "start_time": "2023-01-03T19:22:00.274Z"
   },
   {
    "duration": 54,
    "start_time": "2023-01-03T19:22:00.310Z"
   },
   {
    "duration": 48,
    "start_time": "2023-01-03T19:22:00.366Z"
   },
   {
    "duration": 61,
    "start_time": "2023-01-03T19:22:00.415Z"
   },
   {
    "duration": 41,
    "start_time": "2023-01-03T19:22:00.478Z"
   },
   {
    "duration": 81,
    "start_time": "2023-01-03T19:22:00.521Z"
   },
   {
    "duration": 24,
    "start_time": "2023-01-03T19:22:00.604Z"
   },
   {
    "duration": 47,
    "start_time": "2023-01-03T19:22:00.630Z"
   },
   {
    "duration": 45,
    "start_time": "2023-01-03T19:22:00.678Z"
   },
   {
    "duration": 58,
    "start_time": "2023-01-03T19:22:00.728Z"
   },
   {
    "duration": 64,
    "start_time": "2023-01-03T19:22:00.787Z"
   },
   {
    "duration": 35,
    "start_time": "2023-01-03T19:22:00.853Z"
   },
   {
    "duration": 49,
    "start_time": "2023-01-03T19:22:00.890Z"
   },
   {
    "duration": 1577,
    "start_time": "2023-01-03T19:22:00.941Z"
   },
   {
    "duration": 4,
    "start_time": "2023-01-03T19:22:02.520Z"
   },
   {
    "duration": 38,
    "start_time": "2023-01-03T19:22:02.526Z"
   },
   {
    "duration": 34,
    "start_time": "2023-01-03T19:22:02.567Z"
   },
   {
    "duration": 35,
    "start_time": "2023-01-03T19:22:02.603Z"
   },
   {
    "duration": 33,
    "start_time": "2023-01-03T19:22:02.641Z"
   },
   {
    "duration": 32,
    "start_time": "2023-01-03T19:22:02.676Z"
   },
   {
    "duration": 8,
    "start_time": "2023-01-03T19:22:02.710Z"
   },
   {
    "duration": 20,
    "start_time": "2023-01-03T19:22:02.720Z"
   },
   {
    "duration": 26,
    "start_time": "2023-01-03T19:22:02.742Z"
   },
   {
    "duration": 26,
    "start_time": "2023-01-03T19:22:02.770Z"
   },
   {
    "duration": 17,
    "start_time": "2023-01-03T19:22:02.798Z"
   },
   {
    "duration": 24,
    "start_time": "2023-01-03T19:22:02.817Z"
   },
   {
    "duration": 31,
    "start_time": "2023-01-03T19:22:02.842Z"
   },
   {
    "duration": 36,
    "start_time": "2023-01-03T19:22:02.875Z"
   },
   {
    "duration": 41,
    "start_time": "2023-01-03T19:22:02.912Z"
   },
   {
    "duration": 187,
    "start_time": "2023-01-03T19:22:02.955Z"
   },
   {
    "duration": 389,
    "start_time": "2023-01-03T19:22:03.144Z"
   },
   {
    "duration": 19572,
    "start_time": "2023-01-03T19:22:03.535Z"
   },
   {
    "duration": 620,
    "start_time": "2023-01-03T19:22:23.109Z"
   },
   {
    "duration": 4,
    "start_time": "2023-01-03T19:22:23.735Z"
   },
   {
    "duration": 26,
    "start_time": "2023-01-03T19:22:23.741Z"
   },
   {
    "duration": 625,
    "start_time": "2023-01-03T19:22:23.769Z"
   },
   {
    "duration": 8,
    "start_time": "2023-01-03T19:22:24.397Z"
   },
   {
    "duration": 14,
    "start_time": "2023-01-03T19:22:24.407Z"
   },
   {
    "duration": 102,
    "start_time": "2023-01-03T19:22:24.422Z"
   },
   {
    "duration": 3,
    "start_time": "2023-01-03T19:22:24.526Z"
   },
   {
    "duration": 29,
    "start_time": "2023-01-03T19:22:24.531Z"
   },
   {
    "duration": 3,
    "start_time": "2023-01-03T19:22:24.562Z"
   },
   {
    "duration": 18,
    "start_time": "2023-01-03T19:22:24.567Z"
   },
   {
    "duration": 909,
    "start_time": "2023-01-03T19:22:24.586Z"
   },
   {
    "duration": 404,
    "start_time": "2023-01-03T19:22:25.497Z"
   },
   {
    "duration": 4,
    "start_time": "2023-01-03T19:22:25.902Z"
   },
   {
    "duration": 13,
    "start_time": "2023-01-03T19:22:25.907Z"
   },
   {
    "duration": 64,
    "start_time": "2023-01-03T19:22:25.922Z"
   },
   {
    "duration": 65,
    "start_time": "2023-01-03T19:22:25.988Z"
   },
   {
    "duration": 125,
    "start_time": "2023-01-03T19:22:26.054Z"
   },
   {
    "duration": 7,
    "start_time": "2023-01-03T19:22:26.181Z"
   },
   {
    "duration": 10,
    "start_time": "2023-01-03T19:22:26.190Z"
   },
   {
    "duration": 46,
    "start_time": "2023-01-03T19:22:26.202Z"
   },
   {
    "duration": 8,
    "start_time": "2023-01-03T19:22:26.250Z"
   },
   {
    "duration": 29476,
    "start_time": "2023-01-03T19:22:26.259Z"
   },
   {
    "duration": 0,
    "start_time": "2023-01-03T19:22:55.739Z"
   },
   {
    "duration": 0,
    "start_time": "2023-01-03T19:22:55.745Z"
   },
   {
    "duration": 0,
    "start_time": "2023-01-03T19:22:55.746Z"
   },
   {
    "duration": 0,
    "start_time": "2023-01-03T19:22:55.747Z"
   },
   {
    "duration": 0,
    "start_time": "2023-01-03T19:22:55.749Z"
   },
   {
    "duration": 65874,
    "start_time": "2023-01-03T19:23:09.275Z"
   },
   {
    "duration": 10,
    "start_time": "2023-01-03T19:25:27.414Z"
   },
   {
    "duration": 9,
    "start_time": "2023-01-03T19:25:35.971Z"
   },
   {
    "duration": 63892,
    "start_time": "2023-01-03T19:25:36.776Z"
   },
   {
    "duration": 10,
    "start_time": "2023-01-03T19:26:44.849Z"
   },
   {
    "duration": 10,
    "start_time": "2023-01-03T19:26:53.257Z"
   },
   {
    "duration": 10,
    "start_time": "2023-01-03T19:32:13.187Z"
   },
   {
    "duration": 20,
    "start_time": "2023-01-03T19:32:39.058Z"
   },
   {
    "duration": 12,
    "start_time": "2023-01-03T19:32:42.670Z"
   },
   {
    "duration": 22,
    "start_time": "2023-01-03T19:32:43.751Z"
   },
   {
    "duration": 15,
    "start_time": "2023-01-03T19:34:02.386Z"
   },
   {
    "duration": 24929,
    "start_time": "2023-01-03T19:34:03.529Z"
   },
   {
    "duration": 27,
    "start_time": "2023-01-03T19:34:37.022Z"
   },
   {
    "duration": 16,
    "start_time": "2023-01-03T19:36:23.743Z"
   },
   {
    "duration": 24499,
    "start_time": "2023-01-03T19:36:24.384Z"
   },
   {
    "duration": 15,
    "start_time": "2023-01-03T19:36:57.051Z"
   },
   {
    "duration": 9,
    "start_time": "2023-01-03T19:37:17.192Z"
   },
   {
    "duration": 24699,
    "start_time": "2023-01-03T19:37:18.073Z"
   },
   {
    "duration": 21,
    "start_time": "2023-01-03T19:38:39.931Z"
   },
   {
    "duration": 24479,
    "start_time": "2023-01-03T19:38:41.431Z"
   },
   {
    "duration": 22,
    "start_time": "2023-01-03T19:39:22.898Z"
   },
   {
    "duration": 5,
    "start_time": "2023-01-03T19:39:59.394Z"
   },
   {
    "duration": 16,
    "start_time": "2023-01-03T19:40:01.246Z"
   },
   {
    "duration": 3,
    "start_time": "2023-01-03T19:40:18.885Z"
   },
   {
    "duration": 1244,
    "start_time": "2023-01-03T19:40:20.146Z"
   },
   {
    "duration": 62,
    "start_time": "2023-01-03T19:40:24.453Z"
   },
   {
    "duration": 3,
    "start_time": "2023-01-03T19:40:43.753Z"
   },
   {
    "duration": 735,
    "start_time": "2023-01-03T19:40:44.969Z"
   },
   {
    "duration": 47,
    "start_time": "2023-01-03T19:40:46.460Z"
   },
   {
    "duration": 3,
    "start_time": "2023-01-03T19:41:06.306Z"
   },
   {
    "duration": 84,
    "start_time": "2023-01-03T19:41:07.047Z"
   },
   {
    "duration": 20,
    "start_time": "2023-01-03T19:41:07.982Z"
   },
   {
    "duration": 4,
    "start_time": "2023-01-03T19:41:15.693Z"
   },
   {
    "duration": 950,
    "start_time": "2023-01-03T19:41:16.503Z"
   },
   {
    "duration": 52,
    "start_time": "2023-01-03T19:41:18.160Z"
   },
   {
    "duration": 3,
    "start_time": "2023-01-03T19:41:27.470Z"
   },
   {
    "duration": 731,
    "start_time": "2023-01-03T19:41:28.153Z"
   },
   {
    "duration": 47,
    "start_time": "2023-01-03T19:41:29.276Z"
   },
   {
    "duration": 4,
    "start_time": "2023-01-03T19:42:01.864Z"
   },
   {
    "duration": 874,
    "start_time": "2023-01-03T19:42:04.589Z"
   },
   {
    "duration": 56,
    "start_time": "2023-01-03T19:42:05.599Z"
   },
   {
    "duration": 4,
    "start_time": "2023-01-03T19:42:46.719Z"
   },
   {
    "duration": 795,
    "start_time": "2023-01-03T19:42:48.754Z"
   },
   {
    "duration": 53,
    "start_time": "2023-01-03T19:42:50.825Z"
   },
   {
    "duration": 179,
    "start_time": "2023-01-03T19:42:55.909Z"
   },
   {
    "duration": 4,
    "start_time": "2023-01-03T19:43:10.697Z"
   },
   {
    "duration": 827,
    "start_time": "2023-01-03T19:43:11.500Z"
   },
   {
    "duration": 62,
    "start_time": "2023-01-03T19:43:12.329Z"
   },
   {
    "duration": 158,
    "start_time": "2023-01-03T19:43:23.024Z"
   },
   {
    "duration": 9,
    "start_time": "2023-01-03T19:43:41.783Z"
   },
   {
    "duration": 66263,
    "start_time": "2023-01-03T19:43:43.043Z"
   },
   {
    "duration": 15,
    "start_time": "2023-01-03T19:45:33.918Z"
   },
   {
    "duration": 3,
    "start_time": "2023-01-03T19:45:44.904Z"
   },
   {
    "duration": 937,
    "start_time": "2023-01-03T19:45:46.179Z"
   },
   {
    "duration": 56,
    "start_time": "2023-01-03T19:45:47.392Z"
   },
   {
    "duration": 3,
    "start_time": "2023-01-03T19:45:56.661Z"
   },
   {
    "duration": 813,
    "start_time": "2023-01-03T19:45:57.837Z"
   },
   {
    "duration": 48,
    "start_time": "2023-01-03T19:45:58.653Z"
   },
   {
    "duration": 5,
    "start_time": "2023-01-03T19:46:51.204Z"
   },
   {
    "duration": 59,
    "start_time": "2023-01-03T19:46:51.210Z"
   },
   {
    "duration": 11,
    "start_time": "2023-01-03T19:46:51.271Z"
   },
   {
    "duration": 14,
    "start_time": "2023-01-03T19:46:51.284Z"
   },
   {
    "duration": 6,
    "start_time": "2023-01-03T19:46:51.300Z"
   },
   {
    "duration": 38,
    "start_time": "2023-01-03T19:46:51.307Z"
   },
   {
    "duration": 13,
    "start_time": "2023-01-03T19:46:51.347Z"
   },
   {
    "duration": 4,
    "start_time": "2023-01-03T19:46:51.362Z"
   },
   {
    "duration": 13,
    "start_time": "2023-01-03T19:46:51.367Z"
   },
   {
    "duration": 13,
    "start_time": "2023-01-03T19:46:51.382Z"
   },
   {
    "duration": 4,
    "start_time": "2023-01-03T19:46:51.396Z"
   },
   {
    "duration": 6,
    "start_time": "2023-01-03T19:46:51.401Z"
   },
   {
    "duration": 7,
    "start_time": "2023-01-03T19:46:51.408Z"
   },
   {
    "duration": 5,
    "start_time": "2023-01-03T19:46:51.443Z"
   },
   {
    "duration": 20,
    "start_time": "2023-01-03T19:46:51.450Z"
   },
   {
    "duration": 11,
    "start_time": "2023-01-03T19:46:51.472Z"
   },
   {
    "duration": 29,
    "start_time": "2023-01-03T19:46:51.485Z"
   },
   {
    "duration": 1645,
    "start_time": "2023-01-03T19:46:51.515Z"
   },
   {
    "duration": 4,
    "start_time": "2023-01-03T19:46:53.162Z"
   },
   {
    "duration": 6,
    "start_time": "2023-01-03T19:46:53.168Z"
   },
   {
    "duration": 10,
    "start_time": "2023-01-03T19:46:53.176Z"
   },
   {
    "duration": 9,
    "start_time": "2023-01-03T19:46:53.187Z"
   },
   {
    "duration": 10,
    "start_time": "2023-01-03T19:46:53.197Z"
   },
   {
    "duration": 6,
    "start_time": "2023-01-03T19:46:53.208Z"
   },
   {
    "duration": 23,
    "start_time": "2023-01-03T19:46:53.215Z"
   },
   {
    "duration": 18,
    "start_time": "2023-01-03T19:46:53.239Z"
   },
   {
    "duration": 3,
    "start_time": "2023-01-03T19:46:53.259Z"
   },
   {
    "duration": 11,
    "start_time": "2023-01-03T19:46:53.264Z"
   },
   {
    "duration": 11,
    "start_time": "2023-01-03T19:46:53.276Z"
   },
   {
    "duration": 59,
    "start_time": "2023-01-03T19:46:53.289Z"
   },
   {
    "duration": 14,
    "start_time": "2023-01-03T19:46:53.352Z"
   },
   {
    "duration": 6,
    "start_time": "2023-01-03T19:46:53.367Z"
   },
   {
    "duration": 78,
    "start_time": "2023-01-03T19:46:53.374Z"
   },
   {
    "duration": 89,
    "start_time": "2023-01-03T19:46:53.454Z"
   },
   {
    "duration": 437,
    "start_time": "2023-01-03T19:46:53.546Z"
   },
   {
    "duration": 15485,
    "start_time": "2023-01-03T19:46:54.035Z"
   },
   {
    "duration": 650,
    "start_time": "2023-01-03T19:47:09.522Z"
   },
   {
    "duration": 4,
    "start_time": "2023-01-03T19:47:10.174Z"
   },
   {
    "duration": 45,
    "start_time": "2023-01-03T19:47:10.179Z"
   },
   {
    "duration": 660,
    "start_time": "2023-01-03T19:47:10.226Z"
   },
   {
    "duration": 11,
    "start_time": "2023-01-03T19:47:10.890Z"
   },
   {
    "duration": 10,
    "start_time": "2023-01-03T19:47:10.903Z"
   },
   {
    "duration": 97,
    "start_time": "2023-01-03T19:47:10.914Z"
   },
   {
    "duration": 4,
    "start_time": "2023-01-03T19:47:11.013Z"
   },
   {
    "duration": 43,
    "start_time": "2023-01-03T19:47:11.019Z"
   },
   {
    "duration": 17,
    "start_time": "2023-01-03T19:47:11.064Z"
   },
   {
    "duration": 25,
    "start_time": "2023-01-03T19:47:11.083Z"
   },
   {
    "duration": 939,
    "start_time": "2023-01-03T19:47:11.109Z"
   },
   {
    "duration": 401,
    "start_time": "2023-01-03T19:47:12.050Z"
   },
   {
    "duration": 4,
    "start_time": "2023-01-03T19:47:12.456Z"
   },
   {
    "duration": 34,
    "start_time": "2023-01-03T19:47:12.462Z"
   },
   {
    "duration": 81,
    "start_time": "2023-01-03T19:47:12.498Z"
   },
   {
    "duration": 73,
    "start_time": "2023-01-03T19:47:12.582Z"
   },
   {
    "duration": 138,
    "start_time": "2023-01-03T19:47:12.657Z"
   },
   {
    "duration": 6,
    "start_time": "2023-01-03T19:47:12.796Z"
   },
   {
    "duration": 25,
    "start_time": "2023-01-03T19:47:12.804Z"
   },
   {
    "duration": 11,
    "start_time": "2023-01-03T19:47:12.837Z"
   },
   {
    "duration": 15,
    "start_time": "2023-01-03T19:47:12.851Z"
   },
   {
    "duration": 97451,
    "start_time": "2023-01-03T19:47:12.868Z"
   },
   {
    "duration": 41,
    "start_time": "2023-01-03T19:48:50.321Z"
   },
   {
    "duration": 13,
    "start_time": "2023-01-03T19:48:50.364Z"
   },
   {
    "duration": 871,
    "start_time": "2023-01-03T19:48:50.380Z"
   },
   {
    "duration": 55,
    "start_time": "2023-01-03T19:48:51.253Z"
   },
   {
    "duration": 166,
    "start_time": "2023-01-03T19:48:51.310Z"
   },
   {
    "duration": 11,
    "start_time": "2023-01-03T19:49:14.554Z"
   },
   {
    "duration": 67691,
    "start_time": "2023-01-03T19:49:16.286Z"
   },
   {
    "duration": 9,
    "start_time": "2023-01-03T19:51:05.673Z"
   },
   {
    "duration": 65056,
    "start_time": "2023-01-03T19:51:07.703Z"
   },
   {
    "duration": 4,
    "start_time": "2023-01-03T19:52:12.760Z"
   },
   {
    "duration": 697,
    "start_time": "2023-01-03T19:52:12.766Z"
   },
   {
    "duration": 19,
    "start_time": "2023-01-03T19:52:21.951Z"
   },
   {
    "duration": 43,
    "start_time": "2023-01-03T19:52:31.368Z"
   },
   {
    "duration": 156,
    "start_time": "2023-01-03T19:52:34.957Z"
   },
   {
    "duration": 4,
    "start_time": "2023-01-03T19:52:50.883Z"
   },
   {
    "duration": 1195,
    "start_time": "2023-01-03T19:52:52.562Z"
   },
   {
    "duration": 67,
    "start_time": "2023-01-03T19:52:55.106Z"
   },
   {
    "duration": 4,
    "start_time": "2023-01-03T19:53:02.357Z"
   },
   {
    "duration": 793,
    "start_time": "2023-01-03T19:53:03.174Z"
   },
   {
    "duration": 56,
    "start_time": "2023-01-03T19:53:04.922Z"
   },
   {
    "duration": 12,
    "start_time": "2023-01-03T19:53:16.762Z"
   },
   {
    "duration": 576171,
    "start_time": "2023-01-03T19:53:18.404Z"
   },
   {
    "duration": 14,
    "start_time": "2023-01-03T20:03:20.762Z"
   },
   {
    "duration": 3,
    "start_time": "2023-01-03T20:07:29.673Z"
   },
   {
    "duration": 954,
    "start_time": "2023-01-03T20:07:30.808Z"
   },
   {
    "duration": 50,
    "start_time": "2023-01-03T20:07:31.766Z"
   },
   {
    "duration": 3,
    "start_time": "2023-01-03T20:07:40.862Z"
   },
   {
    "duration": 1088,
    "start_time": "2023-01-03T20:07:41.651Z"
   },
   {
    "duration": 63,
    "start_time": "2023-01-03T20:07:42.741Z"
   },
   {
    "duration": 8,
    "start_time": "2023-01-03T20:08:18.383Z"
   },
   {
    "duration": 65098,
    "start_time": "2023-01-03T20:08:20.103Z"
   },
   {
    "duration": 14,
    "start_time": "2023-01-03T20:10:23.208Z"
   },
   {
    "duration": 3,
    "start_time": "2023-01-03T20:10:36.312Z"
   },
   {
    "duration": 758,
    "start_time": "2023-01-03T20:10:38.256Z"
   },
   {
    "duration": 60,
    "start_time": "2023-01-03T20:10:42.331Z"
   },
   {
    "duration": 164,
    "start_time": "2023-01-03T20:10:46.930Z"
   },
   {
    "duration": 168,
    "start_time": "2023-01-03T20:14:05.110Z"
   },
   {
    "duration": 4,
    "start_time": "2023-01-03T20:19:44.202Z"
   },
   {
    "duration": 886,
    "start_time": "2023-01-03T20:19:45.193Z"
   },
   {
    "duration": 55,
    "start_time": "2023-01-03T20:19:47.033Z"
   },
   {
    "duration": 3,
    "start_time": "2023-01-03T20:19:57.178Z"
   },
   {
    "duration": 1002,
    "start_time": "2023-01-03T20:19:58.146Z"
   },
   {
    "duration": 55,
    "start_time": "2023-01-03T20:19:59.850Z"
   },
   {
    "duration": 3,
    "start_time": "2023-01-03T20:20:34.964Z"
   },
   {
    "duration": 1022,
    "start_time": "2023-01-03T20:20:36.307Z"
   },
   {
    "duration": 63,
    "start_time": "2023-01-03T20:20:37.614Z"
   },
   {
    "duration": 167,
    "start_time": "2023-01-03T20:20:39.607Z"
   },
   {
    "duration": 3,
    "start_time": "2023-01-03T20:21:01.553Z"
   },
   {
    "duration": 1216,
    "start_time": "2023-01-03T20:21:02.915Z"
   },
   {
    "duration": 69,
    "start_time": "2023-01-03T20:21:05.005Z"
   },
   {
    "duration": 4,
    "start_time": "2023-01-03T20:21:15.282Z"
   },
   {
    "duration": 1209,
    "start_time": "2023-01-03T20:21:16.407Z"
   },
   {
    "duration": 76,
    "start_time": "2023-01-03T20:21:18.372Z"
   },
   {
    "duration": 157,
    "start_time": "2023-01-03T20:21:20.913Z"
   },
   {
    "duration": 3,
    "start_time": "2023-01-03T20:21:28.505Z"
   },
   {
    "duration": 1068,
    "start_time": "2023-01-03T20:21:29.423Z"
   },
   {
    "duration": 59,
    "start_time": "2023-01-03T20:21:30.664Z"
   },
   {
    "duration": 3,
    "start_time": "2023-01-03T20:21:37.213Z"
   },
   {
    "duration": 936,
    "start_time": "2023-01-03T20:21:38.211Z"
   },
   {
    "duration": 72,
    "start_time": "2023-01-03T20:21:39.997Z"
   },
   {
    "duration": 147,
    "start_time": "2023-01-03T20:21:44.314Z"
   },
   {
    "duration": 3,
    "start_time": "2023-01-03T20:23:17.855Z"
   },
   {
    "duration": 761,
    "start_time": "2023-01-03T20:23:18.705Z"
   },
   {
    "duration": 140,
    "start_time": "2023-01-03T20:23:20.825Z"
   },
   {
    "duration": 127,
    "start_time": "2023-01-03T20:23:22.940Z"
   },
   {
    "duration": 70571,
    "start_time": "2023-01-03T20:23:57.842Z"
   },
   {
    "duration": 15,
    "start_time": "2023-01-03T20:25:10.877Z"
   },
   {
    "duration": 9,
    "start_time": "2023-01-03T20:26:08.777Z"
   },
   {
    "duration": 62346,
    "start_time": "2023-01-03T20:26:10.030Z"
   },
   {
    "duration": 15,
    "start_time": "2023-01-03T20:27:38.676Z"
   },
   {
    "duration": 9,
    "start_time": "2023-01-03T20:28:42.860Z"
   },
   {
    "duration": 24715,
    "start_time": "2023-01-03T20:28:43.706Z"
   },
   {
    "duration": 13,
    "start_time": "2023-01-03T20:29:22.761Z"
   },
   {
    "duration": 4,
    "start_time": "2023-01-03T20:29:56.267Z"
   },
   {
    "duration": 970,
    "start_time": "2023-01-03T20:29:58.801Z"
   },
   {
    "duration": 59,
    "start_time": "2023-01-03T20:30:00.610Z"
   },
   {
    "duration": 160,
    "start_time": "2023-01-03T20:30:05.762Z"
   },
   {
    "duration": 8,
    "start_time": "2023-01-03T20:37:33.182Z"
   },
   {
    "duration": 1548,
    "start_time": "2023-01-04T10:14:41.780Z"
   },
   {
    "duration": 397,
    "start_time": "2023-01-04T10:14:43.330Z"
   },
   {
    "duration": 14,
    "start_time": "2023-01-04T10:14:43.729Z"
   },
   {
    "duration": 7,
    "start_time": "2023-01-04T10:14:43.745Z"
   },
   {
    "duration": 5,
    "start_time": "2023-01-04T10:14:43.755Z"
   },
   {
    "duration": 8,
    "start_time": "2023-01-04T10:14:43.762Z"
   },
   {
    "duration": 12,
    "start_time": "2023-01-04T10:14:43.772Z"
   },
   {
    "duration": 38,
    "start_time": "2023-01-04T10:14:43.786Z"
   },
   {
    "duration": 16,
    "start_time": "2023-01-04T10:14:43.825Z"
   },
   {
    "duration": 11,
    "start_time": "2023-01-04T10:14:43.843Z"
   },
   {
    "duration": 4,
    "start_time": "2023-01-04T10:14:43.856Z"
   },
   {
    "duration": 5,
    "start_time": "2023-01-04T10:14:43.861Z"
   },
   {
    "duration": 6,
    "start_time": "2023-01-04T10:14:43.867Z"
   },
   {
    "duration": 6,
    "start_time": "2023-01-04T10:14:43.876Z"
   },
   {
    "duration": 15,
    "start_time": "2023-01-04T10:14:43.883Z"
   },
   {
    "duration": 6,
    "start_time": "2023-01-04T10:14:43.921Z"
   },
   {
    "duration": 26,
    "start_time": "2023-01-04T10:14:43.929Z"
   },
   {
    "duration": 1605,
    "start_time": "2023-01-04T10:14:43.959Z"
   },
   {
    "duration": 5,
    "start_time": "2023-01-04T10:14:45.565Z"
   },
   {
    "duration": 11,
    "start_time": "2023-01-04T10:14:45.572Z"
   },
   {
    "duration": 12,
    "start_time": "2023-01-04T10:14:45.584Z"
   },
   {
    "duration": 9,
    "start_time": "2023-01-04T10:14:45.597Z"
   },
   {
    "duration": 14,
    "start_time": "2023-01-04T10:14:45.607Z"
   },
   {
    "duration": 7,
    "start_time": "2023-01-04T10:14:45.623Z"
   },
   {
    "duration": 4,
    "start_time": "2023-01-04T10:14:45.631Z"
   },
   {
    "duration": 100,
    "start_time": "2023-01-04T10:14:45.637Z"
   },
   {
    "duration": 4,
    "start_time": "2023-01-04T10:14:45.739Z"
   },
   {
    "duration": 11,
    "start_time": "2023-01-04T10:14:45.744Z"
   },
   {
    "duration": 12,
    "start_time": "2023-01-04T10:14:45.757Z"
   },
   {
    "duration": 16,
    "start_time": "2023-01-04T10:14:45.771Z"
   },
   {
    "duration": 20,
    "start_time": "2023-01-04T10:14:45.821Z"
   },
   {
    "duration": 3,
    "start_time": "2023-01-04T10:14:45.843Z"
   },
   {
    "duration": 28,
    "start_time": "2023-01-04T10:14:45.848Z"
   },
   {
    "duration": 49,
    "start_time": "2023-01-04T10:14:45.878Z"
   },
   {
    "duration": 317,
    "start_time": "2023-01-04T10:14:45.931Z"
   },
   {
    "duration": 13924,
    "start_time": "2023-01-04T10:14:46.250Z"
   },
   {
    "duration": 640,
    "start_time": "2023-01-04T10:15:00.176Z"
   },
   {
    "duration": 3,
    "start_time": "2023-01-04T10:15:00.822Z"
   },
   {
    "duration": 24,
    "start_time": "2023-01-04T10:15:00.827Z"
   },
   {
    "duration": 637,
    "start_time": "2023-01-04T10:15:00.852Z"
   },
   {
    "duration": 9,
    "start_time": "2023-01-04T10:15:01.493Z"
   },
   {
    "duration": 21,
    "start_time": "2023-01-04T10:15:01.504Z"
   },
   {
    "duration": 111,
    "start_time": "2023-01-04T10:15:01.527Z"
   },
   {
    "duration": 4,
    "start_time": "2023-01-04T10:15:01.640Z"
   },
   {
    "duration": 18,
    "start_time": "2023-01-04T10:15:01.646Z"
   },
   {
    "duration": 10,
    "start_time": "2023-01-04T10:15:01.666Z"
   },
   {
    "duration": 22,
    "start_time": "2023-01-04T10:15:01.678Z"
   },
   {
    "duration": 862,
    "start_time": "2023-01-04T10:15:01.702Z"
   },
   {
    "duration": 352,
    "start_time": "2023-01-04T10:15:02.566Z"
   },
   {
    "duration": 4,
    "start_time": "2023-01-04T10:15:02.922Z"
   },
   {
    "duration": 18,
    "start_time": "2023-01-04T10:15:02.928Z"
   },
   {
    "duration": 53,
    "start_time": "2023-01-04T10:15:02.948Z"
   },
   {
    "duration": 67,
    "start_time": "2023-01-04T10:15:03.003Z"
   },
   {
    "duration": 135,
    "start_time": "2023-01-04T10:15:03.071Z"
   },
   {
    "duration": 17,
    "start_time": "2023-01-04T10:15:03.208Z"
   },
   {
    "duration": 11,
    "start_time": "2023-01-04T10:15:03.227Z"
   },
   {
    "duration": 11,
    "start_time": "2023-01-04T10:15:03.240Z"
   },
   {
    "duration": 9,
    "start_time": "2023-01-04T10:15:03.252Z"
   },
   {
    "duration": 21809,
    "start_time": "2023-01-04T10:15:03.263Z"
   },
   {
    "duration": 14,
    "start_time": "2023-01-04T10:15:25.074Z"
   },
   {
    "duration": 8,
    "start_time": "2023-01-04T10:15:25.089Z"
   },
   {
    "duration": 913,
    "start_time": "2023-01-04T10:15:25.099Z"
   },
   {
    "duration": 50,
    "start_time": "2023-01-04T10:15:26.013Z"
   },
   {
    "duration": 165,
    "start_time": "2023-01-04T10:15:26.065Z"
   },
   {
    "duration": 52,
    "start_time": "2023-01-04T10:18:54.568Z"
   },
   {
    "duration": 3,
    "start_time": "2023-01-04T10:24:25.589Z"
   },
   {
    "duration": 105,
    "start_time": "2023-01-04T10:26:52.970Z"
   },
   {
    "duration": 10,
    "start_time": "2023-01-04T10:27:12.640Z"
   },
   {
    "duration": 14,
    "start_time": "2023-01-04T10:48:24.043Z"
   },
   {
    "duration": 5,
    "start_time": "2023-01-04T10:48:53.859Z"
   },
   {
    "duration": 138,
    "start_time": "2023-01-04T10:49:34.493Z"
   },
   {
    "duration": 11,
    "start_time": "2023-01-04T10:52:00.879Z"
   },
   {
    "duration": 11,
    "start_time": "2023-01-04T10:52:18.451Z"
   },
   {
    "duration": 6,
    "start_time": "2023-01-04T10:53:07.981Z"
   },
   {
    "duration": 17,
    "start_time": "2023-01-04T10:53:30.224Z"
   },
   {
    "duration": 4,
    "start_time": "2023-01-04T10:53:39.766Z"
   },
   {
    "duration": 3,
    "start_time": "2023-01-04T10:53:56.360Z"
   },
   {
    "duration": 112,
    "start_time": "2023-01-04T10:53:57.219Z"
   },
   {
    "duration": 292,
    "start_time": "2023-01-04T10:54:22.095Z"
   },
   {
    "duration": 9,
    "start_time": "2023-01-04T10:58:33.788Z"
   },
   {
    "duration": 14,
    "start_time": "2023-01-04T10:58:53.927Z"
   },
   {
    "duration": 6,
    "start_time": "2023-01-04T10:59:19.109Z"
   },
   {
    "duration": 4,
    "start_time": "2023-01-04T11:00:30.789Z"
   },
   {
    "duration": 331,
    "start_time": "2023-01-04T11:02:26.199Z"
   },
   {
    "duration": 321,
    "start_time": "2023-01-04T11:02:30.859Z"
   },
   {
    "duration": 272,
    "start_time": "2023-01-04T11:03:45.923Z"
   },
   {
    "duration": 10,
    "start_time": "2023-01-04T11:04:39.375Z"
   },
   {
    "duration": 307,
    "start_time": "2023-01-04T11:04:55.796Z"
   },
   {
    "duration": 77,
    "start_time": "2023-01-04T11:05:40.910Z"
   },
   {
    "duration": 71,
    "start_time": "2023-01-04T11:05:58.463Z"
   },
   {
    "duration": 262,
    "start_time": "2023-01-04T11:06:05.483Z"
   },
   {
    "duration": 137,
    "start_time": "2023-01-04T11:06:30.169Z"
   },
   {
    "duration": 135,
    "start_time": "2023-01-04T11:06:47.400Z"
   },
   {
    "duration": 156,
    "start_time": "2023-01-04T11:07:33.924Z"
   },
   {
    "duration": 122,
    "start_time": "2023-01-04T11:08:04.128Z"
   },
   {
    "duration": 136,
    "start_time": "2023-01-04T11:08:07.590Z"
   },
   {
    "duration": 172,
    "start_time": "2023-01-04T11:08:34.037Z"
   },
   {
    "duration": 309,
    "start_time": "2023-01-04T11:08:50.815Z"
   },
   {
    "duration": 313,
    "start_time": "2023-01-04T11:09:42.938Z"
   },
   {
    "duration": 311,
    "start_time": "2023-01-04T11:10:35.949Z"
   },
   {
    "duration": 290,
    "start_time": "2023-01-04T11:10:40.305Z"
   },
   {
    "duration": 270,
    "start_time": "2023-01-04T11:10:47.127Z"
   },
   {
    "duration": 392,
    "start_time": "2023-01-04T11:10:57.903Z"
   },
   {
    "duration": 158,
    "start_time": "2023-01-04T11:11:26.246Z"
   },
   {
    "duration": 151,
    "start_time": "2023-01-04T11:11:47.619Z"
   },
   {
    "duration": 138,
    "start_time": "2023-01-04T11:12:10.938Z"
   },
   {
    "duration": 121,
    "start_time": "2023-01-04T11:12:28.917Z"
   },
   {
    "duration": 116,
    "start_time": "2023-01-04T11:12:35.297Z"
   },
   {
    "duration": 165,
    "start_time": "2023-01-04T11:12:44.273Z"
   },
   {
    "duration": 143,
    "start_time": "2023-01-04T11:13:24.909Z"
   },
   {
    "duration": 306,
    "start_time": "2023-01-04T11:14:28.860Z"
   },
   {
    "duration": 282,
    "start_time": "2023-01-04T11:14:32.611Z"
   },
   {
    "duration": 296,
    "start_time": "2023-01-04T11:16:03.585Z"
   },
   {
    "duration": 336,
    "start_time": "2023-01-04T11:24:51.631Z"
   },
   {
    "duration": 418,
    "start_time": "2023-01-04T11:27:08.160Z"
   },
   {
    "duration": 9,
    "start_time": "2023-01-04T11:28:03.351Z"
   },
   {
    "duration": 2,
    "start_time": "2023-01-04T11:28:06.789Z"
   },
   {
    "duration": 3,
    "start_time": "2023-01-04T11:28:07.359Z"
   },
   {
    "duration": 11,
    "start_time": "2023-01-04T11:28:41.599Z"
   },
   {
    "duration": 4,
    "start_time": "2023-01-04T11:31:13.020Z"
   },
   {
    "duration": 25,
    "start_time": "2023-01-04T11:31:13.971Z"
   },
   {
    "duration": 20,
    "start_time": "2023-01-04T11:31:57.122Z"
   },
   {
    "duration": 4,
    "start_time": "2023-01-04T11:31:58.387Z"
   },
   {
    "duration": 24,
    "start_time": "2023-01-04T11:31:59.269Z"
   },
   {
    "duration": 20,
    "start_time": "2023-01-04T11:32:13.902Z"
   },
   {
    "duration": 5,
    "start_time": "2023-01-04T11:32:46.058Z"
   },
   {
    "duration": 16,
    "start_time": "2023-01-04T11:32:46.998Z"
   },
   {
    "duration": 15,
    "start_time": "2023-01-04T11:33:06.409Z"
   },
   {
    "duration": 19,
    "start_time": "2023-01-04T11:33:32.610Z"
   },
   {
    "duration": 3,
    "start_time": "2023-01-04T11:33:33.154Z"
   },
   {
    "duration": 338,
    "start_time": "2023-01-04T11:33:33.890Z"
   },
   {
    "duration": 18,
    "start_time": "2023-01-04T11:37:37.465Z"
   },
   {
    "duration": 4,
    "start_time": "2023-01-04T11:39:39.295Z"
   },
   {
    "duration": 10,
    "start_time": "2023-01-04T11:39:44.731Z"
   },
   {
    "duration": 5,
    "start_time": "2023-01-04T11:39:52.119Z"
   },
   {
    "duration": 34,
    "start_time": "2023-01-04T11:40:08.969Z"
   },
   {
    "duration": 5,
    "start_time": "2023-01-04T11:40:41.916Z"
   },
   {
    "duration": 7,
    "start_time": "2023-01-04T11:41:05.296Z"
   },
   {
    "duration": 3,
    "start_time": "2023-01-04T11:41:19.887Z"
   },
   {
    "duration": 10,
    "start_time": "2023-01-04T11:41:31.634Z"
   },
   {
    "duration": 9,
    "start_time": "2023-01-04T11:41:49.144Z"
   },
   {
    "duration": 20,
    "start_time": "2023-01-04T11:42:04.789Z"
   },
   {
    "duration": 4,
    "start_time": "2023-01-04T11:45:59.798Z"
   },
   {
    "duration": 22,
    "start_time": "2023-01-04T11:46:26.285Z"
   },
   {
    "duration": 3,
    "start_time": "2023-01-04T11:53:40.312Z"
   },
   {
    "duration": 33,
    "start_time": "2023-01-04T11:54:44.251Z"
   },
   {
    "duration": 17,
    "start_time": "2023-01-04T12:00:35.559Z"
   },
   {
    "duration": 44,
    "start_time": "2023-01-04T12:07:31.285Z"
   },
   {
    "duration": 6,
    "start_time": "2023-01-04T12:07:32.067Z"
   },
   {
    "duration": 1588,
    "start_time": "2023-01-04T12:07:37.666Z"
   },
   {
    "duration": 428,
    "start_time": "2023-01-04T12:07:39.256Z"
   },
   {
    "duration": 15,
    "start_time": "2023-01-04T12:07:39.685Z"
   },
   {
    "duration": 7,
    "start_time": "2023-01-04T12:07:39.702Z"
   },
   {
    "duration": 4,
    "start_time": "2023-01-04T12:07:39.711Z"
   },
   {
    "duration": 9,
    "start_time": "2023-01-04T12:07:39.717Z"
   },
   {
    "duration": 11,
    "start_time": "2023-01-04T12:07:39.727Z"
   },
   {
    "duration": 3,
    "start_time": "2023-01-04T12:07:39.739Z"
   },
   {
    "duration": 10,
    "start_time": "2023-01-04T12:07:39.743Z"
   },
   {
    "duration": 7,
    "start_time": "2023-01-04T12:07:39.755Z"
   },
   {
    "duration": 4,
    "start_time": "2023-01-04T12:07:39.795Z"
   },
   {
    "duration": 5,
    "start_time": "2023-01-04T12:07:39.801Z"
   },
   {
    "duration": 6,
    "start_time": "2023-01-04T12:07:39.807Z"
   },
   {
    "duration": 6,
    "start_time": "2023-01-04T12:07:39.815Z"
   },
   {
    "duration": 14,
    "start_time": "2023-01-04T12:07:39.822Z"
   },
   {
    "duration": 7,
    "start_time": "2023-01-04T12:07:39.838Z"
   },
   {
    "duration": 23,
    "start_time": "2023-01-04T12:07:39.846Z"
   },
   {
    "duration": 1519,
    "start_time": "2023-01-04T12:07:39.870Z"
   },
   {
    "duration": 4,
    "start_time": "2023-01-04T12:07:41.391Z"
   },
   {
    "duration": 13,
    "start_time": "2023-01-04T12:07:41.396Z"
   },
   {
    "duration": 13,
    "start_time": "2023-01-04T12:07:41.410Z"
   },
   {
    "duration": 8,
    "start_time": "2023-01-04T12:07:41.424Z"
   },
   {
    "duration": 9,
    "start_time": "2023-01-04T12:07:41.433Z"
   },
   {
    "duration": 6,
    "start_time": "2023-01-04T12:07:41.443Z"
   },
   {
    "duration": 6,
    "start_time": "2023-01-04T12:07:41.450Z"
   },
   {
    "duration": 6,
    "start_time": "2023-01-04T12:07:41.457Z"
   },
   {
    "duration": 3,
    "start_time": "2023-01-04T12:07:41.464Z"
   },
   {
    "duration": 7,
    "start_time": "2023-01-04T12:07:41.470Z"
   },
   {
    "duration": 25,
    "start_time": "2023-01-04T12:07:41.478Z"
   },
   {
    "duration": 15,
    "start_time": "2023-01-04T12:07:41.505Z"
   },
   {
    "duration": 13,
    "start_time": "2023-01-04T12:07:41.522Z"
   },
   {
    "duration": 3,
    "start_time": "2023-01-04T12:07:41.536Z"
   },
   {
    "duration": 18,
    "start_time": "2023-01-04T12:07:41.540Z"
   },
   {
    "duration": 50,
    "start_time": "2023-01-04T12:07:41.559Z"
   },
   {
    "duration": 257,
    "start_time": "2023-01-04T12:07:41.698Z"
   },
   {
    "duration": 13226,
    "start_time": "2023-01-04T12:07:41.957Z"
   },
   {
    "duration": 574,
    "start_time": "2023-01-04T12:07:55.185Z"
   },
   {
    "duration": 4,
    "start_time": "2023-01-04T12:07:55.760Z"
   },
   {
    "duration": 8,
    "start_time": "2023-01-04T12:07:55.765Z"
   },
   {
    "duration": 637,
    "start_time": "2023-01-04T12:07:55.775Z"
   },
   {
    "duration": 8,
    "start_time": "2023-01-04T12:07:56.414Z"
   },
   {
    "duration": 6,
    "start_time": "2023-01-04T12:07:56.424Z"
   },
   {
    "duration": 113,
    "start_time": "2023-01-04T12:07:56.432Z"
   },
   {
    "duration": 4,
    "start_time": "2023-01-04T12:07:56.547Z"
   },
   {
    "duration": 16,
    "start_time": "2023-01-04T12:07:56.553Z"
   },
   {
    "duration": 4,
    "start_time": "2023-01-04T12:07:56.571Z"
   },
   {
    "duration": 26,
    "start_time": "2023-01-04T12:07:56.577Z"
   },
   {
    "duration": 845,
    "start_time": "2023-01-04T12:07:56.606Z"
   },
   {
    "duration": 346,
    "start_time": "2023-01-04T12:07:57.452Z"
   },
   {
    "duration": 4,
    "start_time": "2023-01-04T12:07:57.800Z"
   },
   {
    "duration": 22,
    "start_time": "2023-01-04T12:07:57.806Z"
   },
   {
    "duration": 52,
    "start_time": "2023-01-04T12:07:57.830Z"
   },
   {
    "duration": 58,
    "start_time": "2023-01-04T12:07:57.884Z"
   },
   {
    "duration": 126,
    "start_time": "2023-01-04T12:07:57.944Z"
   },
   {
    "duration": 6,
    "start_time": "2023-01-04T12:07:58.072Z"
   },
   {
    "duration": 24,
    "start_time": "2023-01-04T12:07:58.080Z"
   },
   {
    "duration": 11,
    "start_time": "2023-01-04T12:07:58.105Z"
   },
   {
    "duration": 8,
    "start_time": "2023-01-04T12:07:58.117Z"
   },
   {
    "duration": 21301,
    "start_time": "2023-01-04T12:07:58.127Z"
   },
   {
    "duration": 11,
    "start_time": "2023-01-04T12:08:19.429Z"
   },
   {
    "duration": 11,
    "start_time": "2023-01-04T12:08:19.442Z"
   },
   {
    "duration": 802,
    "start_time": "2023-01-04T12:08:19.454Z"
   },
   {
    "duration": 68,
    "start_time": "2023-01-04T12:08:20.258Z"
   },
   {
    "duration": 139,
    "start_time": "2023-01-04T12:08:20.328Z"
   },
   {
    "duration": 14,
    "start_time": "2023-01-04T12:08:20.469Z"
   },
   {
    "duration": 11,
    "start_time": "2023-01-04T12:08:20.485Z"
   },
   {
    "duration": 286,
    "start_time": "2023-01-04T12:08:20.498Z"
   },
   {
    "duration": 3,
    "start_time": "2023-01-04T12:08:20.785Z"
   },
   {
    "duration": 22,
    "start_time": "2023-01-04T12:08:20.797Z"
   },
   {
    "duration": 29,
    "start_time": "2023-01-04T12:09:04.966Z"
   },
   {
    "duration": 127,
    "start_time": "2023-01-04T12:09:12.694Z"
   },
   {
    "duration": 32,
    "start_time": "2023-01-04T12:09:37.027Z"
   },
   {
    "duration": 13,
    "start_time": "2023-01-04T12:12:30.231Z"
   },
   {
    "duration": 10,
    "start_time": "2023-01-04T12:12:35.438Z"
   },
   {
    "duration": 24,
    "start_time": "2023-01-04T12:12:45.277Z"
   },
   {
    "duration": 21,
    "start_time": "2023-01-04T12:12:54.123Z"
   },
   {
    "duration": 14,
    "start_time": "2023-01-04T12:13:28.391Z"
   },
   {
    "duration": 21,
    "start_time": "2023-01-04T12:14:14.019Z"
   },
   {
    "duration": 2,
    "start_time": "2023-01-04T12:14:19.795Z"
   },
   {
    "duration": 20,
    "start_time": "2023-01-04T12:14:20.227Z"
   },
   {
    "duration": 6,
    "start_time": "2023-01-04T12:14:24.811Z"
   },
   {
    "duration": 51,
    "start_time": "2023-01-04T12:14:24.819Z"
   },
   {
    "duration": 12,
    "start_time": "2023-01-04T12:14:24.871Z"
   },
   {
    "duration": 7,
    "start_time": "2023-01-04T12:14:24.885Z"
   },
   {
    "duration": 6,
    "start_time": "2023-01-04T12:14:24.894Z"
   },
   {
    "duration": 12,
    "start_time": "2023-01-04T12:14:24.901Z"
   },
   {
    "duration": 11,
    "start_time": "2023-01-04T12:14:24.914Z"
   },
   {
    "duration": 4,
    "start_time": "2023-01-04T12:14:24.926Z"
   },
   {
    "duration": 13,
    "start_time": "2023-01-04T12:14:24.932Z"
   },
   {
    "duration": 20,
    "start_time": "2023-01-04T12:14:24.947Z"
   },
   {
    "duration": 4,
    "start_time": "2023-01-04T12:14:24.996Z"
   },
   {
    "duration": 10,
    "start_time": "2023-01-04T12:14:25.003Z"
   },
   {
    "duration": 20,
    "start_time": "2023-01-04T12:14:25.015Z"
   },
   {
    "duration": 8,
    "start_time": "2023-01-04T12:14:25.036Z"
   },
   {
    "duration": 17,
    "start_time": "2023-01-04T12:14:25.045Z"
   },
   {
    "duration": 15,
    "start_time": "2023-01-04T12:14:25.064Z"
   },
   {
    "duration": 41,
    "start_time": "2023-01-04T12:14:25.081Z"
   },
   {
    "duration": 1542,
    "start_time": "2023-01-04T12:14:25.124Z"
   },
   {
    "duration": 5,
    "start_time": "2023-01-04T12:14:26.668Z"
   },
   {
    "duration": 6,
    "start_time": "2023-01-04T12:14:26.674Z"
   },
   {
    "duration": 16,
    "start_time": "2023-01-04T12:14:26.681Z"
   },
   {
    "duration": 4,
    "start_time": "2023-01-04T12:14:26.699Z"
   },
   {
    "duration": 14,
    "start_time": "2023-01-04T12:14:26.705Z"
   },
   {
    "duration": 7,
    "start_time": "2023-01-04T12:14:26.720Z"
   },
   {
    "duration": 12,
    "start_time": "2023-01-04T12:14:26.729Z"
   },
   {
    "duration": 7,
    "start_time": "2023-01-04T12:14:26.743Z"
   },
   {
    "duration": 11,
    "start_time": "2023-01-04T12:14:26.751Z"
   },
   {
    "duration": 13,
    "start_time": "2023-01-04T12:14:26.763Z"
   },
   {
    "duration": 13,
    "start_time": "2023-01-04T12:14:26.796Z"
   },
   {
    "duration": 17,
    "start_time": "2023-01-04T12:14:26.810Z"
   },
   {
    "duration": 14,
    "start_time": "2023-01-04T12:14:26.828Z"
   },
   {
    "duration": 2,
    "start_time": "2023-01-04T12:14:26.844Z"
   },
   {
    "duration": 16,
    "start_time": "2023-01-04T12:14:26.848Z"
   },
   {
    "duration": 42,
    "start_time": "2023-01-04T12:14:26.865Z"
   },
   {
    "duration": 358,
    "start_time": "2023-01-04T12:14:26.908Z"
   },
   {
    "duration": 13721,
    "start_time": "2023-01-04T12:14:27.268Z"
   },
   {
    "duration": 569,
    "start_time": "2023-01-04T12:14:40.990Z"
   },
   {
    "duration": 3,
    "start_time": "2023-01-04T12:14:41.561Z"
   },
   {
    "duration": 7,
    "start_time": "2023-01-04T12:14:41.566Z"
   },
   {
    "duration": 567,
    "start_time": "2023-01-04T12:14:41.574Z"
   },
   {
    "duration": 9,
    "start_time": "2023-01-04T12:14:42.142Z"
   },
   {
    "duration": 5,
    "start_time": "2023-01-04T12:14:42.153Z"
   },
   {
    "duration": 114,
    "start_time": "2023-01-04T12:14:42.160Z"
   },
   {
    "duration": 4,
    "start_time": "2023-01-04T12:14:42.276Z"
   },
   {
    "duration": 13,
    "start_time": "2023-01-04T12:14:42.297Z"
   },
   {
    "duration": 4,
    "start_time": "2023-01-04T12:14:42.312Z"
   },
   {
    "duration": 31,
    "start_time": "2023-01-04T12:14:42.317Z"
   },
   {
    "duration": 848,
    "start_time": "2023-01-04T12:14:42.350Z"
   },
   {
    "duration": 449,
    "start_time": "2023-01-04T12:14:43.200Z"
   },
   {
    "duration": 4,
    "start_time": "2023-01-04T12:14:43.650Z"
   },
   {
    "duration": 15,
    "start_time": "2023-01-04T12:14:43.656Z"
   },
   {
    "duration": 66,
    "start_time": "2023-01-04T12:14:43.673Z"
   },
   {
    "duration": 56,
    "start_time": "2023-01-04T12:14:43.740Z"
   },
   {
    "duration": 123,
    "start_time": "2023-01-04T12:14:43.798Z"
   },
   {
    "duration": 6,
    "start_time": "2023-01-04T12:14:43.923Z"
   },
   {
    "duration": 33,
    "start_time": "2023-01-04T12:14:43.930Z"
   },
   {
    "duration": 11,
    "start_time": "2023-01-04T12:14:43.965Z"
   },
   {
    "duration": 25,
    "start_time": "2023-01-04T12:14:43.978Z"
   },
   {
    "duration": 21217,
    "start_time": "2023-01-04T12:14:44.004Z"
   },
   {
    "duration": 13,
    "start_time": "2023-01-04T12:15:05.224Z"
   },
   {
    "duration": 16,
    "start_time": "2023-01-04T12:15:05.238Z"
   },
   {
    "duration": 899,
    "start_time": "2023-01-04T12:15:05.256Z"
   },
   {
    "duration": 67,
    "start_time": "2023-01-04T12:15:06.157Z"
   },
   {
    "duration": 176,
    "start_time": "2023-01-04T12:15:06.226Z"
   },
   {
    "duration": 12,
    "start_time": "2023-01-04T12:15:06.404Z"
   },
   {
    "duration": 3,
    "start_time": "2023-01-04T12:15:06.417Z"
   },
   {
    "duration": 353,
    "start_time": "2023-01-04T12:15:06.422Z"
   },
   {
    "duration": 3,
    "start_time": "2023-01-04T12:15:06.777Z"
   },
   {
    "duration": 28,
    "start_time": "2023-01-04T12:15:06.781Z"
   },
   {
    "duration": 5,
    "start_time": "2023-01-04T12:16:55.633Z"
   },
   {
    "duration": 30,
    "start_time": "2023-01-04T12:17:05.097Z"
   },
   {
    "duration": 23,
    "start_time": "2023-01-04T12:17:18.759Z"
   },
   {
    "duration": 23,
    "start_time": "2023-01-04T12:17:50.417Z"
   },
   {
    "duration": 22,
    "start_time": "2023-01-04T12:17:56.373Z"
   },
   {
    "duration": 24,
    "start_time": "2023-01-04T12:18:03.411Z"
   },
   {
    "duration": 53,
    "start_time": "2023-01-04T12:23:16.878Z"
   },
   {
    "duration": 46,
    "start_time": "2023-01-04T12:23:25.112Z"
   },
   {
    "duration": 21,
    "start_time": "2023-01-04T12:23:31.283Z"
   },
   {
    "duration": 3,
    "start_time": "2023-01-04T12:28:32.336Z"
   },
   {
    "duration": 9,
    "start_time": "2023-01-04T12:31:59.607Z"
   },
   {
    "duration": 3,
    "start_time": "2023-01-04T12:32:08.624Z"
   },
   {
    "duration": 6,
    "start_time": "2023-01-04T12:33:23.172Z"
   },
   {
    "duration": 23,
    "start_time": "2023-01-04T12:33:29.537Z"
   },
   {
    "duration": 20,
    "start_time": "2023-01-04T12:33:53.386Z"
   },
   {
    "duration": 17,
    "start_time": "2023-01-04T12:34:33.901Z"
   },
   {
    "duration": 20,
    "start_time": "2023-01-04T12:35:22.147Z"
   },
   {
    "duration": 23,
    "start_time": "2023-01-04T12:36:05.889Z"
   },
   {
    "duration": 14,
    "start_time": "2023-01-04T12:36:33.572Z"
   },
   {
    "duration": 18,
    "start_time": "2023-01-04T12:36:51.374Z"
   },
   {
    "duration": 25,
    "start_time": "2023-01-04T12:36:56.029Z"
   },
   {
    "duration": 6,
    "start_time": "2023-01-04T12:37:41.003Z"
   },
   {
    "duration": 19,
    "start_time": "2023-01-04T12:37:46.199Z"
   },
   {
    "duration": 14,
    "start_time": "2023-01-04T12:38:02.638Z"
   },
   {
    "duration": 5,
    "start_time": "2023-01-04T12:38:12.522Z"
   },
   {
    "duration": 6,
    "start_time": "2023-01-04T12:38:38.118Z"
   },
   {
    "duration": 23,
    "start_time": "2023-01-04T12:38:43.814Z"
   },
   {
    "duration": 25,
    "start_time": "2023-01-04T12:39:03.751Z"
   },
   {
    "duration": 10,
    "start_time": "2023-01-04T12:39:38.010Z"
   },
   {
    "duration": 9,
    "start_time": "2023-01-04T12:39:45.505Z"
   },
   {
    "duration": 7,
    "start_time": "2023-01-04T12:39:53.606Z"
   },
   {
    "duration": 4,
    "start_time": "2023-01-04T12:39:59.423Z"
   },
   {
    "duration": 15,
    "start_time": "2023-01-04T12:40:00.134Z"
   },
   {
    "duration": 3376,
    "start_time": "2023-01-04T14:18:40.049Z"
   },
   {
    "duration": 2333,
    "start_time": "2023-01-04T14:19:00.704Z"
   },
   {
    "duration": 23,
    "start_time": "2023-01-04T14:19:07.730Z"
   },
   {
    "duration": 89,
    "start_time": "2023-01-04T14:19:07.755Z"
   },
   {
    "duration": 14,
    "start_time": "2023-01-04T14:19:07.846Z"
   },
   {
    "duration": 8,
    "start_time": "2023-01-04T14:19:07.863Z"
   },
   {
    "duration": 5,
    "start_time": "2023-01-04T14:19:07.873Z"
   },
   {
    "duration": 19,
    "start_time": "2023-01-04T14:19:07.879Z"
   },
   {
    "duration": 14,
    "start_time": "2023-01-04T14:19:07.900Z"
   },
   {
    "duration": 4,
    "start_time": "2023-01-04T14:19:07.916Z"
   },
   {
    "duration": 16,
    "start_time": "2023-01-04T14:19:07.921Z"
   },
   {
    "duration": 7,
    "start_time": "2023-01-04T14:19:07.939Z"
   },
   {
    "duration": 3,
    "start_time": "2023-01-04T14:19:07.948Z"
   },
   {
    "duration": 5,
    "start_time": "2023-01-04T14:19:07.952Z"
   },
   {
    "duration": 39,
    "start_time": "2023-01-04T14:19:07.958Z"
   },
   {
    "duration": 5,
    "start_time": "2023-01-04T14:19:07.999Z"
   },
   {
    "duration": 13,
    "start_time": "2023-01-04T14:19:08.006Z"
   },
   {
    "duration": 6,
    "start_time": "2023-01-04T14:19:08.021Z"
   },
   {
    "duration": 24,
    "start_time": "2023-01-04T14:19:08.029Z"
   },
   {
    "duration": 1580,
    "start_time": "2023-01-04T14:19:08.054Z"
   },
   {
    "duration": 4,
    "start_time": "2023-01-04T14:19:09.636Z"
   },
   {
    "duration": 6,
    "start_time": "2023-01-04T14:19:09.641Z"
   },
   {
    "duration": 6,
    "start_time": "2023-01-04T14:19:09.648Z"
   },
   {
    "duration": 4,
    "start_time": "2023-01-04T14:19:09.656Z"
   },
   {
    "duration": 8,
    "start_time": "2023-01-04T14:19:09.662Z"
   },
   {
    "duration": 29,
    "start_time": "2023-01-04T14:19:09.672Z"
   },
   {
    "duration": 4,
    "start_time": "2023-01-04T14:19:09.703Z"
   },
   {
    "duration": 5,
    "start_time": "2023-01-04T14:19:09.709Z"
   },
   {
    "duration": 4,
    "start_time": "2023-01-04T14:19:09.716Z"
   },
   {
    "duration": 10,
    "start_time": "2023-01-04T14:19:09.723Z"
   },
   {
    "duration": 12,
    "start_time": "2023-01-04T14:19:09.735Z"
   },
   {
    "duration": 52,
    "start_time": "2023-01-04T14:19:09.749Z"
   },
   {
    "duration": 14,
    "start_time": "2023-01-04T14:19:09.803Z"
   },
   {
    "duration": 2,
    "start_time": "2023-01-04T14:19:09.819Z"
   },
   {
    "duration": 17,
    "start_time": "2023-01-04T14:19:09.823Z"
   },
   {
    "duration": 60,
    "start_time": "2023-01-04T14:19:09.841Z"
   },
   {
    "duration": 346,
    "start_time": "2023-01-04T14:19:09.902Z"
   },
   {
    "duration": 12904,
    "start_time": "2023-01-04T14:19:10.250Z"
   },
   {
    "duration": 593,
    "start_time": "2023-01-04T14:19:23.155Z"
   },
   {
    "duration": 5,
    "start_time": "2023-01-04T14:19:23.749Z"
   },
   {
    "duration": 6,
    "start_time": "2023-01-04T14:19:23.755Z"
   },
   {
    "duration": 587,
    "start_time": "2023-01-04T14:19:23.763Z"
   },
   {
    "duration": 9,
    "start_time": "2023-01-04T14:19:24.352Z"
   },
   {
    "duration": 9,
    "start_time": "2023-01-04T14:19:24.362Z"
   },
   {
    "duration": 96,
    "start_time": "2023-01-04T14:19:24.372Z"
   },
   {
    "duration": 3,
    "start_time": "2023-01-04T14:19:24.470Z"
   },
   {
    "duration": 23,
    "start_time": "2023-01-04T14:19:24.475Z"
   },
   {
    "duration": 4,
    "start_time": "2023-01-04T14:19:24.500Z"
   },
   {
    "duration": 12,
    "start_time": "2023-01-04T14:19:24.505Z"
   },
   {
    "duration": 850,
    "start_time": "2023-01-04T14:19:24.518Z"
   },
   {
    "duration": 351,
    "start_time": "2023-01-04T14:19:25.369Z"
   },
   {
    "duration": 3,
    "start_time": "2023-01-04T14:19:25.721Z"
   },
   {
    "duration": 15,
    "start_time": "2023-01-04T14:19:25.726Z"
   },
   {
    "duration": 59,
    "start_time": "2023-01-04T14:19:25.743Z"
   },
   {
    "duration": 48,
    "start_time": "2023-01-04T14:19:25.803Z"
   },
   {
    "duration": 172,
    "start_time": "2023-01-04T14:19:25.852Z"
   },
   {
    "duration": 7,
    "start_time": "2023-01-04T14:19:26.026Z"
   },
   {
    "duration": 17,
    "start_time": "2023-01-04T14:19:26.035Z"
   },
   {
    "duration": 10,
    "start_time": "2023-01-04T14:19:26.053Z"
   },
   {
    "duration": 33,
    "start_time": "2023-01-04T14:19:26.065Z"
   },
   {
    "duration": 19756,
    "start_time": "2023-01-04T14:19:26.100Z"
   },
   {
    "duration": 12,
    "start_time": "2023-01-04T14:19:45.858Z"
   },
   {
    "duration": 8,
    "start_time": "2023-01-04T14:19:45.871Z"
   },
   {
    "duration": 853,
    "start_time": "2023-01-04T14:19:45.881Z"
   },
   {
    "duration": 61,
    "start_time": "2023-01-04T14:19:46.735Z"
   },
   {
    "duration": 152,
    "start_time": "2023-01-04T14:19:46.798Z"
   },
   {
    "duration": 12,
    "start_time": "2023-01-04T14:19:46.952Z"
   },
   {
    "duration": 3,
    "start_time": "2023-01-04T14:19:46.966Z"
   },
   {
    "duration": 294,
    "start_time": "2023-01-04T14:19:46.971Z"
   },
   {
    "duration": 1879,
    "start_time": "2023-01-04T14:19:47.266Z"
   },
   {
    "duration": 13,
    "start_time": "2023-01-04T14:19:49.147Z"
   },
   {
    "duration": 11267,
    "start_time": "2023-01-04T14:22:44.824Z"
   },
   {
    "duration": 496,
    "start_time": "2023-01-04T14:23:21.201Z"
   },
   {
    "duration": 11840,
    "start_time": "2023-01-04T14:27:22.625Z"
   },
   {
    "duration": 11555,
    "start_time": "2023-01-04T14:27:47.224Z"
   },
   {
    "duration": 55440,
    "start_time": "2023-01-04T14:28:07.559Z"
   },
   {
    "duration": 154,
    "start_time": "2023-01-04T14:33:39.143Z"
   },
   {
    "duration": 6,
    "start_time": "2023-01-04T14:34:42.344Z"
   },
   {
    "duration": 11,
    "start_time": "2023-01-04T14:35:05.498Z"
   },
   {
    "duration": 12,
    "start_time": "2023-01-04T14:35:14.046Z"
   },
   {
    "duration": 12,
    "start_time": "2023-01-04T14:35:18.647Z"
   },
   {
    "duration": 12,
    "start_time": "2023-01-04T14:36:17.127Z"
   },
   {
    "duration": 12,
    "start_time": "2023-01-04T14:36:24.981Z"
   },
   {
    "duration": 19,
    "start_time": "2023-01-04T14:36:42.818Z"
   },
   {
    "duration": 13,
    "start_time": "2023-01-04T14:36:48.548Z"
   },
   {
    "duration": 14,
    "start_time": "2023-01-04T14:37:06.321Z"
   },
   {
    "duration": 437,
    "start_time": "2023-01-04T14:38:22.051Z"
   },
   {
    "duration": 11322,
    "start_time": "2023-01-04T14:38:32.320Z"
   },
   {
    "duration": 455,
    "start_time": "2023-01-04T14:38:43.644Z"
   },
   {
    "duration": 601,
    "start_time": "2023-01-04T14:39:36.964Z"
   },
   {
    "duration": 12,
    "start_time": "2023-01-04T14:42:23.733Z"
   },
   {
    "duration": 11314,
    "start_time": "2023-01-04T14:42:39.969Z"
   },
   {
    "duration": 476,
    "start_time": "2023-01-04T14:42:51.285Z"
   },
   {
    "duration": 12,
    "start_time": "2023-01-04T14:42:51.762Z"
   },
   {
    "duration": 11,
    "start_time": "2023-01-04T14:43:34.298Z"
   },
   {
    "duration": 12,
    "start_time": "2023-01-04T14:43:56.876Z"
   },
   {
    "duration": 12,
    "start_time": "2023-01-04T14:45:19.873Z"
   },
   {
    "duration": 13,
    "start_time": "2023-01-04T14:46:06.696Z"
   },
   {
    "duration": 11892,
    "start_time": "2023-01-04T14:46:15.618Z"
   },
   {
    "duration": 464,
    "start_time": "2023-01-04T14:46:27.512Z"
   },
   {
    "duration": 21,
    "start_time": "2023-01-04T14:46:27.978Z"
   },
   {
    "duration": 11324,
    "start_time": "2023-01-04T14:48:26.681Z"
   },
   {
    "duration": 13,
    "start_time": "2023-01-04T14:49:24.760Z"
   },
   {
    "duration": 13,
    "start_time": "2023-01-04T14:49:38.677Z"
   },
   {
    "duration": 11,
    "start_time": "2023-01-04T14:50:35.578Z"
   },
   {
    "duration": 11317,
    "start_time": "2023-01-04T14:50:50.316Z"
   },
   {
    "duration": 14,
    "start_time": "2023-01-04T14:51:01.634Z"
   },
   {
    "duration": 0,
    "start_time": "2023-01-04T14:51:01.649Z"
   },
   {
    "duration": 0,
    "start_time": "2023-01-04T14:51:01.651Z"
   },
   {
    "duration": 409,
    "start_time": "2023-01-04T14:51:10.456Z"
   },
   {
    "duration": 11,
    "start_time": "2023-01-04T15:00:03.577Z"
   },
   {
    "duration": 13,
    "start_time": "2023-01-04T15:00:58.995Z"
   },
   {
    "duration": 14,
    "start_time": "2023-01-04T15:02:18.973Z"
   },
   {
    "duration": 18,
    "start_time": "2023-01-04T15:02:26.116Z"
   },
   {
    "duration": 7,
    "start_time": "2023-01-04T15:02:37.460Z"
   },
   {
    "duration": 13,
    "start_time": "2023-01-04T15:02:39.482Z"
   },
   {
    "duration": 11,
    "start_time": "2023-01-04T15:02:49.598Z"
   },
   {
    "duration": 8,
    "start_time": "2023-01-04T15:04:13.309Z"
   },
   {
    "duration": 147,
    "start_time": "2023-01-04T15:04:16.422Z"
   },
   {
    "duration": 129,
    "start_time": "2023-01-04T15:04:47.949Z"
   },
   {
    "duration": 798,
    "start_time": "2023-01-04T15:05:08.800Z"
   },
   {
    "duration": 153,
    "start_time": "2023-01-04T15:05:15.560Z"
   },
   {
    "duration": 142,
    "start_time": "2023-01-04T15:05:30.383Z"
   },
   {
    "duration": 147,
    "start_time": "2023-01-04T15:06:03.791Z"
   },
   {
    "duration": 145,
    "start_time": "2023-01-04T15:06:31.515Z"
   },
   {
    "duration": 44,
    "start_time": "2023-01-04T15:09:05.747Z"
   },
   {
    "duration": 11,
    "start_time": "2023-01-04T15:10:00.415Z"
   },
   {
    "duration": 13,
    "start_time": "2023-01-04T15:10:09.940Z"
   },
   {
    "duration": 7,
    "start_time": "2023-01-04T15:10:43.909Z"
   },
   {
    "duration": 12,
    "start_time": "2023-01-04T15:10:44.598Z"
   },
   {
    "duration": 133,
    "start_time": "2023-01-04T15:11:11.686Z"
   },
   {
    "duration": 10,
    "start_time": "2023-01-04T15:15:07.730Z"
   },
   {
    "duration": 124,
    "start_time": "2023-01-04T15:15:37.614Z"
   },
   {
    "duration": 2,
    "start_time": "2023-01-04T15:19:29.151Z"
   },
   {
    "duration": 164,
    "start_time": "2023-01-04T15:26:55.811Z"
   },
   {
    "duration": 126,
    "start_time": "2023-01-04T15:27:04.211Z"
   },
   {
    "duration": 1746,
    "start_time": "2023-01-05T07:15:09.770Z"
   },
   {
    "duration": 180,
    "start_time": "2023-01-05T07:15:11.519Z"
   },
   {
    "duration": 15,
    "start_time": "2023-01-05T07:15:11.701Z"
   },
   {
    "duration": 14,
    "start_time": "2023-01-05T07:15:11.718Z"
   },
   {
    "duration": 8,
    "start_time": "2023-01-05T07:15:11.734Z"
   },
   {
    "duration": 10,
    "start_time": "2023-01-05T07:15:11.744Z"
   },
   {
    "duration": 14,
    "start_time": "2023-01-05T07:15:11.755Z"
   },
   {
    "duration": 4,
    "start_time": "2023-01-05T07:15:11.771Z"
   },
   {
    "duration": 13,
    "start_time": "2023-01-05T07:15:11.777Z"
   },
   {
    "duration": 9,
    "start_time": "2023-01-05T07:15:11.793Z"
   },
   {
    "duration": 5,
    "start_time": "2023-01-05T07:15:11.804Z"
   },
   {
    "duration": 15,
    "start_time": "2023-01-05T07:15:11.810Z"
   },
   {
    "duration": 56,
    "start_time": "2023-01-05T07:15:11.827Z"
   },
   {
    "duration": 6,
    "start_time": "2023-01-05T07:15:11.885Z"
   },
   {
    "duration": 21,
    "start_time": "2023-01-05T07:15:11.893Z"
   },
   {
    "duration": 29,
    "start_time": "2023-01-05T07:15:11.916Z"
   },
   {
    "duration": 31,
    "start_time": "2023-01-05T07:15:11.948Z"
   },
   {
    "duration": 2603,
    "start_time": "2023-01-05T07:15:11.981Z"
   },
   {
    "duration": 5,
    "start_time": "2023-01-05T07:15:14.586Z"
   },
   {
    "duration": 7,
    "start_time": "2023-01-05T07:15:14.592Z"
   },
   {
    "duration": 12,
    "start_time": "2023-01-05T07:15:14.601Z"
   },
   {
    "duration": 7,
    "start_time": "2023-01-05T07:15:14.615Z"
   },
   {
    "duration": 10,
    "start_time": "2023-01-05T07:15:14.624Z"
   },
   {
    "duration": 7,
    "start_time": "2023-01-05T07:15:14.636Z"
   },
   {
    "duration": 11,
    "start_time": "2023-01-05T07:15:14.644Z"
   },
   {
    "duration": 88,
    "start_time": "2023-01-05T07:15:14.657Z"
   },
   {
    "duration": 3,
    "start_time": "2023-01-05T07:15:14.750Z"
   },
   {
    "duration": 11,
    "start_time": "2023-01-05T07:15:14.756Z"
   },
   {
    "duration": 13,
    "start_time": "2023-01-05T07:15:14.768Z"
   },
   {
    "duration": 17,
    "start_time": "2023-01-05T07:15:14.783Z"
   },
   {
    "duration": 14,
    "start_time": "2023-01-05T07:15:14.801Z"
   },
   {
    "duration": 35,
    "start_time": "2023-01-05T07:15:14.817Z"
   },
   {
    "duration": 34,
    "start_time": "2023-01-05T07:15:14.854Z"
   },
   {
    "duration": 12,
    "start_time": "2023-01-05T07:15:14.890Z"
   },
   {
    "duration": 286,
    "start_time": "2023-01-05T07:15:14.952Z"
   },
   {
    "duration": 14867,
    "start_time": "2023-01-05T07:15:15.240Z"
   },
   {
    "duration": 672,
    "start_time": "2023-01-05T07:15:30.109Z"
   },
   {
    "duration": 4,
    "start_time": "2023-01-05T07:15:30.782Z"
   },
   {
    "duration": 17,
    "start_time": "2023-01-05T07:15:30.788Z"
   },
   {
    "duration": 663,
    "start_time": "2023-01-05T07:15:30.806Z"
   },
   {
    "duration": 10,
    "start_time": "2023-01-05T07:15:31.471Z"
   },
   {
    "duration": 6,
    "start_time": "2023-01-05T07:15:31.483Z"
   },
   {
    "duration": 111,
    "start_time": "2023-01-05T07:15:31.490Z"
   },
   {
    "duration": 4,
    "start_time": "2023-01-05T07:15:31.603Z"
   },
   {
    "duration": 15,
    "start_time": "2023-01-05T07:15:31.608Z"
   },
   {
    "duration": 4,
    "start_time": "2023-01-05T07:15:31.625Z"
   },
   {
    "duration": 31,
    "start_time": "2023-01-05T07:15:31.630Z"
   },
   {
    "duration": 975,
    "start_time": "2023-01-05T07:15:31.663Z"
   },
   {
    "duration": 393,
    "start_time": "2023-01-05T07:15:32.640Z"
   },
   {
    "duration": 4,
    "start_time": "2023-01-05T07:15:33.035Z"
   },
   {
    "duration": 12,
    "start_time": "2023-01-05T07:15:33.051Z"
   },
   {
    "duration": 54,
    "start_time": "2023-01-05T07:15:33.065Z"
   },
   {
    "duration": 77,
    "start_time": "2023-01-05T07:15:33.121Z"
   },
   {
    "duration": 134,
    "start_time": "2023-01-05T07:15:33.200Z"
   },
   {
    "duration": 18,
    "start_time": "2023-01-05T07:15:33.336Z"
   },
   {
    "duration": 11,
    "start_time": "2023-01-05T07:15:33.356Z"
   },
   {
    "duration": 9,
    "start_time": "2023-01-05T07:15:33.369Z"
   },
   {
    "duration": 8,
    "start_time": "2023-01-05T07:15:33.380Z"
   },
   {
    "duration": 23121,
    "start_time": "2023-01-05T07:15:33.390Z"
   },
   {
    "duration": 12,
    "start_time": "2023-01-05T07:15:56.512Z"
   },
   {
    "duration": 7,
    "start_time": "2023-01-05T07:15:56.526Z"
   },
   {
    "duration": 928,
    "start_time": "2023-01-05T07:15:56.535Z"
   },
   {
    "duration": 53,
    "start_time": "2023-01-05T07:15:57.465Z"
   },
   {
    "duration": 159,
    "start_time": "2023-01-05T07:15:57.520Z"
   },
   {
    "duration": 12,
    "start_time": "2023-01-05T07:15:57.681Z"
   },
   {
    "duration": 29,
    "start_time": "2023-01-05T07:15:57.694Z"
   },
   {
    "duration": 301,
    "start_time": "2023-01-05T07:15:57.725Z"
   },
   {
    "duration": 25,
    "start_time": "2023-01-05T07:15:58.027Z"
   },
   {
    "duration": 17,
    "start_time": "2023-01-05T07:15:58.053Z"
   },
   {
    "duration": 152,
    "start_time": "2023-01-05T07:15:58.072Z"
   },
   {
    "duration": 10,
    "start_time": "2023-01-05T07:15:58.226Z"
   },
   {
    "duration": 152,
    "start_time": "2023-01-05T07:15:58.237Z"
   },
   {
    "duration": 7,
    "start_time": "2023-01-05T07:15:58.391Z"
   },
   {
    "duration": 13,
    "start_time": "2023-01-05T07:15:58.399Z"
   },
   {
    "duration": 173,
    "start_time": "2023-01-05T07:15:58.414Z"
   },
   {
    "duration": 1690,
    "start_time": "2023-01-05T07:42:39.963Z"
   },
   {
    "duration": 679,
    "start_time": "2023-01-05T07:42:46.688Z"
   },
   {
    "duration": 12,
    "start_time": "2023-01-05T07:44:26.918Z"
   },
   {
    "duration": 984,
    "start_time": "2023-01-05T07:49:19.376Z"
   },
   {
    "duration": 55,
    "start_time": "2023-01-05T07:50:24.820Z"
   },
   {
    "duration": 1933,
    "start_time": "2023-01-05T08:44:25.761Z"
   },
   {
    "duration": 168,
    "start_time": "2023-01-05T08:44:27.695Z"
   },
   {
    "duration": 13,
    "start_time": "2023-01-05T08:44:27.865Z"
   },
   {
    "duration": 16,
    "start_time": "2023-01-05T08:44:27.880Z"
   },
   {
    "duration": 16,
    "start_time": "2023-01-05T08:44:27.897Z"
   },
   {
    "duration": 24,
    "start_time": "2023-01-05T08:44:27.915Z"
   },
   {
    "duration": 22,
    "start_time": "2023-01-05T08:44:27.941Z"
   },
   {
    "duration": 19,
    "start_time": "2023-01-05T08:44:27.965Z"
   },
   {
    "duration": 12,
    "start_time": "2023-01-05T08:44:31.426Z"
   },
   {
    "duration": 8,
    "start_time": "2023-01-05T08:46:09.219Z"
   },
   {
    "duration": 9,
    "start_time": "2023-01-05T08:46:09.761Z"
   },
   {
    "duration": 12,
    "start_time": "2023-01-05T08:46:10.460Z"
   },
   {
    "duration": 1637,
    "start_time": "2023-01-07T11:34:14.294Z"
   },
   {
    "duration": 90,
    "start_time": "2023-01-07T11:34:15.936Z"
   },
   {
    "duration": 16,
    "start_time": "2023-01-07T11:34:16.028Z"
   },
   {
    "duration": 11,
    "start_time": "2023-01-07T11:34:16.047Z"
   },
   {
    "duration": 5,
    "start_time": "2023-01-07T11:34:16.059Z"
   },
   {
    "duration": 14,
    "start_time": "2023-01-07T11:34:16.065Z"
   },
   {
    "duration": 17,
    "start_time": "2023-01-07T11:34:16.080Z"
   },
   {
    "duration": 20,
    "start_time": "2023-01-07T11:34:16.099Z"
   },
   {
    "duration": 13,
    "start_time": "2023-01-07T11:34:16.120Z"
   },
   {
    "duration": 23,
    "start_time": "2023-01-07T11:34:16.137Z"
   },
   {
    "duration": 11,
    "start_time": "2023-01-07T11:34:16.161Z"
   },
   {
    "duration": 13,
    "start_time": "2023-01-07T11:34:16.173Z"
   },
   {
    "duration": 13,
    "start_time": "2023-01-07T11:34:16.188Z"
   },
   {
    "duration": 14,
    "start_time": "2023-01-07T11:34:16.202Z"
   },
   {
    "duration": 22,
    "start_time": "2023-01-07T11:34:16.218Z"
   },
   {
    "duration": 11,
    "start_time": "2023-01-07T11:34:16.242Z"
   },
   {
    "duration": 7,
    "start_time": "2023-01-07T11:34:16.254Z"
   },
   {
    "duration": 16,
    "start_time": "2023-01-07T11:34:16.263Z"
   },
   {
    "duration": 13,
    "start_time": "2023-01-07T11:34:16.280Z"
   },
   {
    "duration": 36,
    "start_time": "2023-01-07T11:34:16.294Z"
   },
   {
    "duration": 1558,
    "start_time": "2023-01-07T11:34:16.334Z"
   },
   {
    "duration": 4,
    "start_time": "2023-01-07T11:34:17.893Z"
   },
   {
    "duration": 10,
    "start_time": "2023-01-07T11:34:17.898Z"
   },
   {
    "duration": 10,
    "start_time": "2023-01-07T11:34:17.910Z"
   },
   {
    "duration": 26,
    "start_time": "2023-01-07T11:34:17.921Z"
   },
   {
    "duration": 12,
    "start_time": "2023-01-07T11:34:17.948Z"
   },
   {
    "duration": 8,
    "start_time": "2023-01-07T11:34:17.961Z"
   },
   {
    "duration": 4,
    "start_time": "2023-01-07T11:34:18.040Z"
   },
   {
    "duration": 14,
    "start_time": "2023-01-07T11:34:18.045Z"
   },
   {
    "duration": 47,
    "start_time": "2023-01-07T11:34:18.061Z"
   },
   {
    "duration": 10,
    "start_time": "2023-01-07T11:34:18.110Z"
   },
   {
    "duration": 20,
    "start_time": "2023-01-07T11:34:18.123Z"
   },
   {
    "duration": 16,
    "start_time": "2023-01-07T11:34:18.144Z"
   },
   {
    "duration": 20,
    "start_time": "2023-01-07T11:34:18.162Z"
   },
   {
    "duration": 19,
    "start_time": "2023-01-07T11:34:18.184Z"
   },
   {
    "duration": 78,
    "start_time": "2023-01-07T11:34:18.204Z"
   },
   {
    "duration": 55,
    "start_time": "2023-01-07T11:34:18.284Z"
   },
   {
    "duration": 387,
    "start_time": "2023-01-07T11:34:18.341Z"
   },
   {
    "duration": 14830,
    "start_time": "2023-01-07T11:34:18.729Z"
   },
   {
    "duration": 584,
    "start_time": "2023-01-07T11:34:33.561Z"
   },
   {
    "duration": 3,
    "start_time": "2023-01-07T11:34:34.147Z"
   },
   {
    "duration": 7,
    "start_time": "2023-01-07T11:34:34.151Z"
   },
   {
    "duration": 599,
    "start_time": "2023-01-07T11:34:34.159Z"
   },
   {
    "duration": 8,
    "start_time": "2023-01-07T11:34:34.760Z"
   },
   {
    "duration": 5,
    "start_time": "2023-01-07T11:34:34.770Z"
   },
   {
    "duration": 111,
    "start_time": "2023-01-07T11:34:34.777Z"
   },
   {
    "duration": 4,
    "start_time": "2023-01-07T11:34:34.890Z"
   },
   {
    "duration": 18,
    "start_time": "2023-01-07T11:34:34.895Z"
   },
   {
    "duration": 8,
    "start_time": "2023-01-07T11:34:34.922Z"
   },
   {
    "duration": 28,
    "start_time": "2023-01-07T11:34:34.932Z"
   },
   {
    "duration": 1598,
    "start_time": "2023-01-07T11:34:34.962Z"
   },
   {
    "duration": 677,
    "start_time": "2023-01-07T11:34:36.563Z"
   },
   {
    "duration": 4,
    "start_time": "2023-01-07T11:34:37.241Z"
   },
   {
    "duration": 26,
    "start_time": "2023-01-07T11:34:37.247Z"
   },
   {
    "duration": 13,
    "start_time": "2023-01-07T11:34:37.274Z"
   },
   {
    "duration": 108,
    "start_time": "2023-01-07T11:34:37.288Z"
   },
   {
    "duration": 84,
    "start_time": "2023-01-07T11:34:37.398Z"
   },
   {
    "duration": 137,
    "start_time": "2023-01-07T11:34:37.483Z"
   },
   {
    "duration": 9,
    "start_time": "2023-01-07T11:34:37.632Z"
   },
   {
    "duration": 27,
    "start_time": "2023-01-07T11:34:37.643Z"
   },
   {
    "duration": 9,
    "start_time": "2023-01-07T11:34:37.671Z"
   },
   {
    "duration": 13,
    "start_time": "2023-01-07T11:34:37.682Z"
   },
   {
    "duration": 21289,
    "start_time": "2023-01-07T11:34:37.697Z"
   },
   {
    "duration": 12,
    "start_time": "2023-01-07T11:34:58.988Z"
   },
   {
    "duration": 17,
    "start_time": "2023-01-07T11:34:59.001Z"
   },
   {
    "duration": 867,
    "start_time": "2023-01-07T11:34:59.025Z"
   },
   {
    "duration": 57,
    "start_time": "2023-01-07T11:34:59.893Z"
   },
   {
    "duration": 118,
    "start_time": "2023-01-07T11:34:59.952Z"
   },
   {
    "duration": 0,
    "start_time": "2023-01-07T11:35:00.071Z"
   },
   {
    "duration": 0,
    "start_time": "2023-01-07T11:35:00.073Z"
   },
   {
    "duration": 0,
    "start_time": "2023-01-07T11:35:00.074Z"
   },
   {
    "duration": 0,
    "start_time": "2023-01-07T11:35:00.075Z"
   },
   {
    "duration": 0,
    "start_time": "2023-01-07T11:35:00.077Z"
   },
   {
    "duration": 0,
    "start_time": "2023-01-07T11:35:00.078Z"
   },
   {
    "duration": 0,
    "start_time": "2023-01-07T11:35:00.079Z"
   },
   {
    "duration": 0,
    "start_time": "2023-01-07T11:35:00.080Z"
   },
   {
    "duration": 0,
    "start_time": "2023-01-07T11:35:00.082Z"
   },
   {
    "duration": 0,
    "start_time": "2023-01-07T11:35:00.083Z"
   },
   {
    "duration": 0,
    "start_time": "2023-01-07T11:35:00.085Z"
   },
   {
    "duration": 52,
    "start_time": "2023-01-07T11:41:31.983Z"
   },
   {
    "duration": 8,
    "start_time": "2023-01-07T11:42:06.349Z"
   },
   {
    "duration": 4,
    "start_time": "2023-01-07T11:46:40.404Z"
   },
   {
    "duration": 59,
    "start_time": "2023-01-07T11:48:27.605Z"
   },
   {
    "duration": 7152,
    "start_time": "2023-01-07T12:08:59.241Z"
   },
   {
    "duration": 51,
    "start_time": "2023-01-07T12:14:26.848Z"
   },
   {
    "duration": 23,
    "start_time": "2023-01-07T12:14:35.934Z"
   },
   {
    "duration": 2349,
    "start_time": "2023-01-07T12:14:47.715Z"
   },
   {
    "duration": 5,
    "start_time": "2023-01-07T12:14:50.068Z"
   },
   {
    "duration": 53,
    "start_time": "2023-01-07T12:14:50.074Z"
   },
   {
    "duration": 14,
    "start_time": "2023-01-07T12:14:50.129Z"
   },
   {
    "duration": 10,
    "start_time": "2023-01-07T12:14:50.146Z"
   },
   {
    "duration": 4,
    "start_time": "2023-01-07T12:14:50.158Z"
   },
   {
    "duration": 17,
    "start_time": "2023-01-07T12:14:50.164Z"
   },
   {
    "duration": 9,
    "start_time": "2023-01-07T12:14:50.183Z"
   },
   {
    "duration": 32,
    "start_time": "2023-01-07T12:14:50.193Z"
   },
   {
    "duration": 5,
    "start_time": "2023-01-07T12:14:50.226Z"
   },
   {
    "duration": 20,
    "start_time": "2023-01-07T12:14:50.232Z"
   },
   {
    "duration": 12,
    "start_time": "2023-01-07T12:14:50.254Z"
   },
   {
    "duration": 15,
    "start_time": "2023-01-07T12:14:50.268Z"
   },
   {
    "duration": 10,
    "start_time": "2023-01-07T12:14:50.287Z"
   },
   {
    "duration": 4,
    "start_time": "2023-01-07T12:14:50.320Z"
   },
   {
    "duration": 8,
    "start_time": "2023-01-07T12:14:50.327Z"
   },
   {
    "duration": 12,
    "start_time": "2023-01-07T12:14:50.337Z"
   },
   {
    "duration": 11,
    "start_time": "2023-01-07T12:14:50.350Z"
   },
   {
    "duration": 15,
    "start_time": "2023-01-07T12:14:50.363Z"
   },
   {
    "duration": 9,
    "start_time": "2023-01-07T12:14:50.380Z"
   },
   {
    "duration": 32,
    "start_time": "2023-01-07T12:14:50.391Z"
   },
   {
    "duration": 1487,
    "start_time": "2023-01-07T12:14:50.425Z"
   },
   {
    "duration": 8,
    "start_time": "2023-01-07T12:14:51.914Z"
   },
   {
    "duration": 29,
    "start_time": "2023-01-07T12:14:51.924Z"
   },
   {
    "duration": 13,
    "start_time": "2023-01-07T12:14:51.955Z"
   },
   {
    "duration": 11,
    "start_time": "2023-01-07T12:14:51.970Z"
   },
   {
    "duration": 14,
    "start_time": "2023-01-07T12:14:51.982Z"
   },
   {
    "duration": 13,
    "start_time": "2023-01-07T12:14:51.998Z"
   },
   {
    "duration": 5,
    "start_time": "2023-01-07T12:14:52.012Z"
   },
   {
    "duration": 17,
    "start_time": "2023-01-07T12:14:52.019Z"
   },
   {
    "duration": 10,
    "start_time": "2023-01-07T12:14:52.038Z"
   },
   {
    "duration": 15,
    "start_time": "2023-01-07T12:14:52.050Z"
   },
   {
    "duration": 15,
    "start_time": "2023-01-07T12:14:52.066Z"
   },
   {
    "duration": 17,
    "start_time": "2023-01-07T12:14:52.083Z"
   },
   {
    "duration": 38,
    "start_time": "2023-01-07T12:14:52.102Z"
   },
   {
    "duration": 6,
    "start_time": "2023-01-07T12:14:52.142Z"
   },
   {
    "duration": 26,
    "start_time": "2023-01-07T12:14:52.150Z"
   },
   {
    "duration": 10,
    "start_time": "2023-01-07T12:14:52.178Z"
   },
   {
    "duration": 280,
    "start_time": "2023-01-07T12:14:52.223Z"
   },
   {
    "duration": 18870,
    "start_time": "2023-01-07T12:14:52.504Z"
   },
   {
    "duration": 644,
    "start_time": "2023-01-07T12:15:11.378Z"
   },
   {
    "duration": 4,
    "start_time": "2023-01-07T12:15:12.024Z"
   },
   {
    "duration": 21,
    "start_time": "2023-01-07T12:15:12.030Z"
   },
   {
    "duration": 638,
    "start_time": "2023-01-07T12:15:12.053Z"
   },
   {
    "duration": 9,
    "start_time": "2023-01-07T12:15:12.692Z"
   },
   {
    "duration": 20,
    "start_time": "2023-01-07T12:15:12.702Z"
   },
   {
    "duration": 99,
    "start_time": "2023-01-07T12:15:12.726Z"
   },
   {
    "duration": 7,
    "start_time": "2023-01-07T12:15:12.828Z"
   },
   {
    "duration": 32,
    "start_time": "2023-01-07T12:15:12.837Z"
   },
   {
    "duration": 5,
    "start_time": "2023-01-07T12:15:12.871Z"
   },
   {
    "duration": 14,
    "start_time": "2023-01-07T12:15:12.877Z"
   },
   {
    "duration": 1621,
    "start_time": "2023-01-07T12:15:12.892Z"
   },
   {
    "duration": 710,
    "start_time": "2023-01-07T12:15:14.515Z"
   },
   {
    "duration": 5,
    "start_time": "2023-01-07T12:15:15.226Z"
   },
   {
    "duration": 59,
    "start_time": "2023-01-07T12:15:15.233Z"
   },
   {
    "duration": 14,
    "start_time": "2023-01-07T12:15:15.294Z"
   },
   {
    "duration": 102,
    "start_time": "2023-01-07T12:15:15.310Z"
   },
   {
    "duration": 100,
    "start_time": "2023-01-07T12:15:15.414Z"
   },
   {
    "duration": 160,
    "start_time": "2023-01-07T12:15:15.524Z"
   },
   {
    "duration": 7,
    "start_time": "2023-01-07T12:15:15.686Z"
   },
   {
    "duration": 31,
    "start_time": "2023-01-07T12:15:15.694Z"
   },
   {
    "duration": 11,
    "start_time": "2023-01-07T12:15:15.727Z"
   },
   {
    "duration": 10,
    "start_time": "2023-01-07T12:15:15.740Z"
   },
   {
    "duration": 23357,
    "start_time": "2023-01-07T12:15:15.751Z"
   },
   {
    "duration": 13,
    "start_time": "2023-01-07T12:15:39.110Z"
   },
   {
    "duration": 9,
    "start_time": "2023-01-07T12:15:39.125Z"
   },
   {
    "duration": 929,
    "start_time": "2023-01-07T12:15:39.136Z"
   },
   {
    "duration": 58,
    "start_time": "2023-01-07T12:15:40.066Z"
   },
   {
    "duration": 15,
    "start_time": "2023-01-07T12:15:40.125Z"
   },
   {
    "duration": 0,
    "start_time": "2023-01-07T12:15:40.141Z"
   },
   {
    "duration": 0,
    "start_time": "2023-01-07T12:15:40.143Z"
   },
   {
    "duration": 0,
    "start_time": "2023-01-07T12:15:40.144Z"
   },
   {
    "duration": 0,
    "start_time": "2023-01-07T12:15:40.146Z"
   },
   {
    "duration": 0,
    "start_time": "2023-01-07T12:15:40.147Z"
   },
   {
    "duration": 0,
    "start_time": "2023-01-07T12:15:40.148Z"
   },
   {
    "duration": 0,
    "start_time": "2023-01-07T12:15:40.149Z"
   },
   {
    "duration": 0,
    "start_time": "2023-01-07T12:15:40.151Z"
   },
   {
    "duration": 0,
    "start_time": "2023-01-07T12:15:40.152Z"
   },
   {
    "duration": 0,
    "start_time": "2023-01-07T12:15:40.154Z"
   },
   {
    "duration": 0,
    "start_time": "2023-01-07T12:15:40.155Z"
   },
   {
    "duration": 49,
    "start_time": "2023-01-07T12:33:38.766Z"
   },
   {
    "duration": 5,
    "start_time": "2023-01-07T12:34:23.658Z"
   },
   {
    "duration": 92,
    "start_time": "2023-01-07T12:34:23.667Z"
   },
   {
    "duration": 13,
    "start_time": "2023-01-07T12:34:23.762Z"
   },
   {
    "duration": 11,
    "start_time": "2023-01-07T12:34:23.777Z"
   },
   {
    "duration": 18,
    "start_time": "2023-01-07T12:34:23.790Z"
   },
   {
    "duration": 20,
    "start_time": "2023-01-07T12:34:23.809Z"
   },
   {
    "duration": 27,
    "start_time": "2023-01-07T12:34:23.831Z"
   },
   {
    "duration": 18,
    "start_time": "2023-01-07T12:34:23.860Z"
   },
   {
    "duration": 20,
    "start_time": "2023-01-07T12:34:23.879Z"
   },
   {
    "duration": 21,
    "start_time": "2023-01-07T12:34:23.901Z"
   },
   {
    "duration": 9,
    "start_time": "2023-01-07T12:34:24.254Z"
   },
   {
    "duration": 30,
    "start_time": "2023-01-07T12:34:24.266Z"
   },
   {
    "duration": 26,
    "start_time": "2023-01-07T12:34:24.298Z"
   },
   {
    "duration": 32,
    "start_time": "2023-01-07T12:34:24.327Z"
   },
   {
    "duration": 39,
    "start_time": "2023-01-07T12:34:24.361Z"
   },
   {
    "duration": 26,
    "start_time": "2023-01-07T12:34:24.402Z"
   },
   {
    "duration": 15,
    "start_time": "2023-01-07T12:34:24.430Z"
   },
   {
    "duration": 30,
    "start_time": "2023-01-07T12:34:24.448Z"
   },
   {
    "duration": 11,
    "start_time": "2023-01-07T12:34:24.480Z"
   },
   {
    "duration": 35,
    "start_time": "2023-01-07T12:34:24.492Z"
   },
   {
    "duration": 1342,
    "start_time": "2023-01-07T12:34:24.528Z"
   },
   {
    "duration": 4,
    "start_time": "2023-01-07T12:34:25.873Z"
   },
   {
    "duration": 11,
    "start_time": "2023-01-07T12:34:25.878Z"
   },
   {
    "duration": 6,
    "start_time": "2023-01-07T12:34:25.890Z"
   },
   {
    "duration": 6,
    "start_time": "2023-01-07T12:34:25.897Z"
   },
   {
    "duration": 21,
    "start_time": "2023-01-07T12:34:25.904Z"
   },
   {
    "duration": 13,
    "start_time": "2023-01-07T12:34:25.926Z"
   },
   {
    "duration": 4,
    "start_time": "2023-01-07T12:34:25.940Z"
   },
   {
    "duration": 9,
    "start_time": "2023-01-07T12:34:25.945Z"
   },
   {
    "duration": 6,
    "start_time": "2023-01-07T12:34:25.956Z"
   },
   {
    "duration": 14,
    "start_time": "2023-01-07T12:34:25.964Z"
   },
   {
    "duration": 21,
    "start_time": "2023-01-07T12:34:25.979Z"
   },
   {
    "duration": 22,
    "start_time": "2023-01-07T12:34:26.002Z"
   },
   {
    "duration": 15,
    "start_time": "2023-01-07T12:34:26.029Z"
   },
   {
    "duration": 2,
    "start_time": "2023-01-07T12:34:26.047Z"
   },
   {
    "duration": 19,
    "start_time": "2023-01-07T12:34:26.051Z"
   },
   {
    "duration": 53,
    "start_time": "2023-01-07T12:34:26.071Z"
   },
   {
    "duration": 337,
    "start_time": "2023-01-07T12:34:26.125Z"
   },
   {
    "duration": 16685,
    "start_time": "2023-01-07T12:34:26.464Z"
   },
   {
    "duration": 672,
    "start_time": "2023-01-07T12:34:43.153Z"
   },
   {
    "duration": 4,
    "start_time": "2023-01-07T12:34:43.826Z"
   },
   {
    "duration": 24,
    "start_time": "2023-01-07T12:34:43.832Z"
   },
   {
    "duration": 658,
    "start_time": "2023-01-07T12:34:43.858Z"
   },
   {
    "duration": 13,
    "start_time": "2023-01-07T12:34:44.517Z"
   },
   {
    "duration": 7,
    "start_time": "2023-01-07T12:34:44.532Z"
   },
   {
    "duration": 119,
    "start_time": "2023-01-07T12:34:44.541Z"
   },
   {
    "duration": 5,
    "start_time": "2023-01-07T12:34:44.662Z"
   },
   {
    "duration": 22,
    "start_time": "2023-01-07T12:34:44.668Z"
   },
   {
    "duration": 4,
    "start_time": "2023-01-07T12:34:44.692Z"
   },
   {
    "duration": 25,
    "start_time": "2023-01-07T12:34:44.697Z"
   },
   {
    "duration": 1752,
    "start_time": "2023-01-07T12:34:44.724Z"
   },
   {
    "duration": 689,
    "start_time": "2023-01-07T12:34:46.478Z"
   },
   {
    "duration": 4,
    "start_time": "2023-01-07T12:34:47.169Z"
   },
   {
    "duration": 13,
    "start_time": "2023-01-07T12:34:47.175Z"
   },
   {
    "duration": 11,
    "start_time": "2023-01-07T12:34:47.190Z"
   },
   {
    "duration": 88,
    "start_time": "2023-01-07T12:34:47.221Z"
   },
   {
    "duration": 95,
    "start_time": "2023-01-07T12:34:47.311Z"
   },
   {
    "duration": 133,
    "start_time": "2023-01-07T12:34:47.408Z"
   },
   {
    "duration": 7,
    "start_time": "2023-01-07T12:34:47.543Z"
   },
   {
    "duration": 20,
    "start_time": "2023-01-07T12:34:47.552Z"
   },
   {
    "duration": 22,
    "start_time": "2023-01-07T12:34:47.574Z"
   },
   {
    "duration": 8,
    "start_time": "2023-01-07T12:34:47.598Z"
   },
   {
    "duration": 24674,
    "start_time": "2023-01-07T12:34:47.608Z"
   },
   {
    "duration": 17,
    "start_time": "2023-01-07T12:35:12.285Z"
   },
   {
    "duration": 4,
    "start_time": "2023-01-07T12:35:12.303Z"
   },
   {
    "duration": 985,
    "start_time": "2023-01-07T12:35:12.309Z"
   },
   {
    "duration": 63,
    "start_time": "2023-01-07T12:35:13.296Z"
   },
   {
    "duration": 13,
    "start_time": "2023-01-07T12:35:13.360Z"
   },
   {
    "duration": 0,
    "start_time": "2023-01-07T12:35:13.374Z"
   },
   {
    "duration": 0,
    "start_time": "2023-01-07T12:35:13.375Z"
   },
   {
    "duration": 0,
    "start_time": "2023-01-07T12:35:13.376Z"
   },
   {
    "duration": 0,
    "start_time": "2023-01-07T12:35:13.377Z"
   },
   {
    "duration": 0,
    "start_time": "2023-01-07T12:35:13.378Z"
   },
   {
    "duration": 0,
    "start_time": "2023-01-07T12:35:13.379Z"
   },
   {
    "duration": 0,
    "start_time": "2023-01-07T12:35:13.380Z"
   },
   {
    "duration": 0,
    "start_time": "2023-01-07T12:35:13.381Z"
   },
   {
    "duration": 0,
    "start_time": "2023-01-07T12:35:13.382Z"
   },
   {
    "duration": 0,
    "start_time": "2023-01-07T12:35:13.383Z"
   },
   {
    "duration": 0,
    "start_time": "2023-01-07T12:35:13.384Z"
   },
   {
    "duration": 50,
    "start_time": "2023-01-07T12:40:40.980Z"
   },
   {
    "duration": 4,
    "start_time": "2023-01-07T12:56:04.005Z"
   },
   {
    "duration": 51,
    "start_time": "2023-01-07T13:03:20.745Z"
   },
   {
    "duration": 48,
    "start_time": "2023-01-07T13:14:51.816Z"
   },
   {
    "duration": 56,
    "start_time": "2023-01-07T15:40:10.406Z"
   },
   {
    "duration": 4,
    "start_time": "2023-01-07T15:49:37.432Z"
   },
   {
    "duration": 52,
    "start_time": "2023-01-07T15:53:58.175Z"
   },
   {
    "duration": 1660,
    "start_time": "2023-01-07T15:54:02.900Z"
   },
   {
    "duration": 93,
    "start_time": "2023-01-07T15:54:04.563Z"
   },
   {
    "duration": 16,
    "start_time": "2023-01-07T15:54:04.658Z"
   },
   {
    "duration": 9,
    "start_time": "2023-01-07T15:54:04.677Z"
   },
   {
    "duration": 3,
    "start_time": "2023-01-07T15:54:04.688Z"
   },
   {
    "duration": 12,
    "start_time": "2023-01-07T15:54:04.692Z"
   },
   {
    "duration": 9,
    "start_time": "2023-01-07T15:54:04.706Z"
   },
   {
    "duration": 13,
    "start_time": "2023-01-07T15:54:04.716Z"
   },
   {
    "duration": 3,
    "start_time": "2023-01-07T15:54:04.731Z"
   },
   {
    "duration": 42,
    "start_time": "2023-01-07T15:54:04.737Z"
   },
   {
    "duration": 11,
    "start_time": "2023-01-07T15:54:04.780Z"
   },
   {
    "duration": 10,
    "start_time": "2023-01-07T15:54:04.792Z"
   },
   {
    "duration": 12,
    "start_time": "2023-01-07T15:54:04.804Z"
   },
   {
    "duration": 5,
    "start_time": "2023-01-07T15:54:04.818Z"
   },
   {
    "duration": 7,
    "start_time": "2023-01-07T15:54:04.825Z"
   },
   {
    "duration": 5,
    "start_time": "2023-01-07T15:54:04.834Z"
   },
   {
    "duration": 39,
    "start_time": "2023-01-07T15:54:04.841Z"
   },
   {
    "duration": 8,
    "start_time": "2023-01-07T15:54:04.881Z"
   },
   {
    "duration": 4,
    "start_time": "2023-01-07T15:54:04.891Z"
   },
   {
    "duration": 30,
    "start_time": "2023-01-07T15:54:04.897Z"
   },
   {
    "duration": 1335,
    "start_time": "2023-01-07T15:54:04.930Z"
   },
   {
    "duration": 5,
    "start_time": "2023-01-07T15:54:06.267Z"
   },
   {
    "duration": 14,
    "start_time": "2023-01-07T15:54:06.273Z"
   },
   {
    "duration": 17,
    "start_time": "2023-01-07T15:54:06.289Z"
   },
   {
    "duration": 13,
    "start_time": "2023-01-07T15:54:06.308Z"
   },
   {
    "duration": 15,
    "start_time": "2023-01-07T15:54:06.323Z"
   },
   {
    "duration": 7,
    "start_time": "2023-01-07T15:54:06.340Z"
   },
   {
    "duration": 16,
    "start_time": "2023-01-07T15:54:06.351Z"
   },
   {
    "duration": 11,
    "start_time": "2023-01-07T15:54:06.369Z"
   },
   {
    "duration": 28,
    "start_time": "2023-01-07T15:54:06.382Z"
   },
   {
    "duration": 22,
    "start_time": "2023-01-07T15:54:06.412Z"
   },
   {
    "duration": 29,
    "start_time": "2023-01-07T15:54:06.436Z"
   },
   {
    "duration": 6,
    "start_time": "2023-01-07T15:54:06.467Z"
   },
   {
    "duration": 22,
    "start_time": "2023-01-07T15:54:06.474Z"
   },
   {
    "duration": 16,
    "start_time": "2023-01-07T15:54:06.497Z"
   },
   {
    "duration": 34,
    "start_time": "2023-01-07T15:54:06.514Z"
   },
   {
    "duration": 130,
    "start_time": "2023-01-07T15:54:06.550Z"
   },
   {
    "duration": 371,
    "start_time": "2023-01-07T15:54:06.683Z"
   },
   {
    "duration": 16710,
    "start_time": "2023-01-07T15:54:07.056Z"
   },
   {
    "duration": 4,
    "start_time": "2023-01-07T15:54:23.768Z"
   },
   {
    "duration": 663,
    "start_time": "2023-01-07T15:54:23.778Z"
   },
   {
    "duration": 637,
    "start_time": "2023-01-07T15:54:24.443Z"
   },
   {
    "duration": 11,
    "start_time": "2023-01-07T15:54:25.082Z"
   },
   {
    "duration": 41,
    "start_time": "2023-01-07T15:54:25.095Z"
   },
   {
    "duration": 130,
    "start_time": "2023-01-07T15:54:25.137Z"
   },
   {
    "duration": 9,
    "start_time": "2023-01-07T15:54:25.269Z"
   },
   {
    "duration": 25,
    "start_time": "2023-01-07T15:54:25.279Z"
   },
   {
    "duration": 4,
    "start_time": "2023-01-07T15:54:25.307Z"
   },
   {
    "duration": 29,
    "start_time": "2023-01-07T15:54:25.313Z"
   },
   {
    "duration": 1654,
    "start_time": "2023-01-07T15:54:25.344Z"
   },
   {
    "duration": 660,
    "start_time": "2023-01-07T15:54:27.000Z"
   },
   {
    "duration": 3,
    "start_time": "2023-01-07T15:54:27.663Z"
   },
   {
    "duration": 21,
    "start_time": "2023-01-07T15:54:27.668Z"
   },
   {
    "duration": 17,
    "start_time": "2023-01-07T15:54:27.691Z"
   },
   {
    "duration": 99,
    "start_time": "2023-01-07T15:54:27.710Z"
   },
   {
    "duration": 96,
    "start_time": "2023-01-07T15:54:27.810Z"
   },
   {
    "duration": 136,
    "start_time": "2023-01-07T15:54:27.908Z"
   },
   {
    "duration": 7,
    "start_time": "2023-01-07T15:54:28.046Z"
   },
   {
    "duration": 28,
    "start_time": "2023-01-07T15:54:28.054Z"
   },
   {
    "duration": 10,
    "start_time": "2023-01-07T15:54:28.084Z"
   },
   {
    "duration": 9,
    "start_time": "2023-01-07T15:54:28.096Z"
   },
   {
    "duration": 24428,
    "start_time": "2023-01-07T15:54:28.107Z"
   },
   {
    "duration": 12,
    "start_time": "2023-01-07T15:54:52.538Z"
   },
   {
    "duration": 25,
    "start_time": "2023-01-07T15:54:52.552Z"
   },
   {
    "duration": 916,
    "start_time": "2023-01-07T15:54:52.579Z"
   },
   {
    "duration": 55,
    "start_time": "2023-01-07T15:54:53.496Z"
   },
   {
    "duration": 95,
    "start_time": "2023-01-07T15:54:53.553Z"
   },
   {
    "duration": 0,
    "start_time": "2023-01-07T15:54:53.650Z"
   },
   {
    "duration": 0,
    "start_time": "2023-01-07T15:54:53.651Z"
   },
   {
    "duration": 0,
    "start_time": "2023-01-07T15:54:53.652Z"
   },
   {
    "duration": 0,
    "start_time": "2023-01-07T15:54:53.653Z"
   },
   {
    "duration": 0,
    "start_time": "2023-01-07T15:54:53.654Z"
   },
   {
    "duration": 0,
    "start_time": "2023-01-07T15:54:53.655Z"
   },
   {
    "duration": 0,
    "start_time": "2023-01-07T15:54:53.657Z"
   },
   {
    "duration": 0,
    "start_time": "2023-01-07T15:54:53.658Z"
   },
   {
    "duration": 0,
    "start_time": "2023-01-07T15:54:53.678Z"
   },
   {
    "duration": 0,
    "start_time": "2023-01-07T15:54:53.679Z"
   },
   {
    "duration": 0,
    "start_time": "2023-01-07T15:54:53.681Z"
   },
   {
    "duration": 0,
    "start_time": "2023-01-07T15:54:53.682Z"
   },
   {
    "duration": 13,
    "start_time": "2023-01-07T15:57:12.060Z"
   },
   {
    "duration": 13,
    "start_time": "2023-01-07T15:57:49.142Z"
   },
   {
    "duration": 16,
    "start_time": "2023-01-07T15:59:39.372Z"
   },
   {
    "duration": 16,
    "start_time": "2023-01-07T16:00:27.699Z"
   },
   {
    "duration": 5,
    "start_time": "2023-01-07T16:00:34.914Z"
   },
   {
    "duration": 64,
    "start_time": "2023-01-07T16:00:45.417Z"
   },
   {
    "duration": 5,
    "start_time": "2023-01-07T16:05:30.333Z"
   },
   {
    "duration": 68,
    "start_time": "2023-01-07T16:05:33.520Z"
   },
   {
    "duration": 200,
    "start_time": "2023-01-07T16:08:29.820Z"
   },
   {
    "duration": 184,
    "start_time": "2023-01-07T16:08:42.957Z"
   },
   {
    "duration": 193,
    "start_time": "2023-01-07T16:08:56.844Z"
   },
   {
    "duration": 1492,
    "start_time": "2023-01-08T03:28:30.723Z"
   },
   {
    "duration": 89,
    "start_time": "2023-01-08T03:28:32.218Z"
   },
   {
    "duration": 12,
    "start_time": "2023-01-08T03:28:32.309Z"
   },
   {
    "duration": 12,
    "start_time": "2023-01-08T03:28:32.323Z"
   },
   {
    "duration": 2,
    "start_time": "2023-01-08T03:28:32.337Z"
   },
   {
    "duration": 13,
    "start_time": "2023-01-08T03:28:32.341Z"
   },
   {
    "duration": 8,
    "start_time": "2023-01-08T03:28:32.356Z"
   },
   {
    "duration": 15,
    "start_time": "2023-01-08T03:28:32.366Z"
   },
   {
    "duration": 4,
    "start_time": "2023-01-08T03:28:32.382Z"
   },
   {
    "duration": 11,
    "start_time": "2023-01-08T03:28:32.388Z"
   },
   {
    "duration": 22,
    "start_time": "2023-01-08T03:28:32.400Z"
   },
   {
    "duration": 11,
    "start_time": "2023-01-08T03:28:32.424Z"
   },
   {
    "duration": 10,
    "start_time": "2023-01-08T03:28:32.437Z"
   },
   {
    "duration": 4,
    "start_time": "2023-01-08T03:28:32.449Z"
   },
   {
    "duration": 6,
    "start_time": "2023-01-08T03:28:32.454Z"
   },
   {
    "duration": 9,
    "start_time": "2023-01-08T03:28:32.462Z"
   },
   {
    "duration": 21,
    "start_time": "2023-01-08T03:28:32.472Z"
   },
   {
    "duration": 21,
    "start_time": "2023-01-08T03:28:32.494Z"
   },
   {
    "duration": 3,
    "start_time": "2023-01-08T03:28:32.517Z"
   },
   {
    "duration": 28,
    "start_time": "2023-01-08T03:28:32.521Z"
   },
   {
    "duration": 1147,
    "start_time": "2023-01-08T03:28:32.551Z"
   },
   {
    "duration": 3,
    "start_time": "2023-01-08T03:28:33.700Z"
   },
   {
    "duration": 7,
    "start_time": "2023-01-08T03:28:33.705Z"
   },
   {
    "duration": 9,
    "start_time": "2023-01-08T03:28:33.714Z"
   },
   {
    "duration": 5,
    "start_time": "2023-01-08T03:28:33.724Z"
   },
   {
    "duration": 3,
    "start_time": "2023-01-08T03:28:33.731Z"
   },
   {
    "duration": 7,
    "start_time": "2023-01-08T03:28:33.735Z"
   },
   {
    "duration": 4,
    "start_time": "2023-01-08T03:28:33.743Z"
   },
   {
    "duration": 9,
    "start_time": "2023-01-08T03:28:33.748Z"
   },
   {
    "duration": 11,
    "start_time": "2023-01-08T03:28:33.759Z"
   },
   {
    "duration": 14,
    "start_time": "2023-01-08T03:28:33.771Z"
   },
   {
    "duration": 12,
    "start_time": "2023-01-08T03:28:33.815Z"
   },
   {
    "duration": 6,
    "start_time": "2023-01-08T03:28:33.828Z"
   },
   {
    "duration": 7,
    "start_time": "2023-01-08T03:28:33.835Z"
   },
   {
    "duration": 4,
    "start_time": "2023-01-08T03:28:33.843Z"
   },
   {
    "duration": 18,
    "start_time": "2023-01-08T03:28:33.848Z"
   },
   {
    "duration": 153,
    "start_time": "2023-01-08T03:28:33.867Z"
   },
   {
    "duration": 125,
    "start_time": "2023-01-08T03:28:34.022Z"
   },
   {
    "duration": 0,
    "start_time": "2023-01-08T03:28:34.150Z"
   },
   {
    "duration": 0,
    "start_time": "2023-01-08T03:28:34.152Z"
   },
   {
    "duration": 0,
    "start_time": "2023-01-08T03:28:34.153Z"
   },
   {
    "duration": 0,
    "start_time": "2023-01-08T03:28:34.155Z"
   },
   {
    "duration": 0,
    "start_time": "2023-01-08T03:28:34.156Z"
   },
   {
    "duration": 0,
    "start_time": "2023-01-08T03:28:34.157Z"
   },
   {
    "duration": 0,
    "start_time": "2023-01-08T03:28:34.159Z"
   },
   {
    "duration": 0,
    "start_time": "2023-01-08T03:28:34.160Z"
   },
   {
    "duration": 0,
    "start_time": "2023-01-08T03:28:34.161Z"
   },
   {
    "duration": 0,
    "start_time": "2023-01-08T03:28:34.163Z"
   },
   {
    "duration": 0,
    "start_time": "2023-01-08T03:28:34.164Z"
   },
   {
    "duration": 0,
    "start_time": "2023-01-08T03:28:34.165Z"
   },
   {
    "duration": 0,
    "start_time": "2023-01-08T03:28:34.167Z"
   },
   {
    "duration": 0,
    "start_time": "2023-01-08T03:28:34.168Z"
   },
   {
    "duration": 0,
    "start_time": "2023-01-08T03:28:34.169Z"
   },
   {
    "duration": 0,
    "start_time": "2023-01-08T03:28:34.170Z"
   },
   {
    "duration": 0,
    "start_time": "2023-01-08T03:28:34.171Z"
   },
   {
    "duration": 0,
    "start_time": "2023-01-08T03:28:34.172Z"
   },
   {
    "duration": 0,
    "start_time": "2023-01-08T03:28:34.174Z"
   },
   {
    "duration": 0,
    "start_time": "2023-01-08T03:28:34.175Z"
   },
   {
    "duration": 0,
    "start_time": "2023-01-08T03:28:34.216Z"
   },
   {
    "duration": 0,
    "start_time": "2023-01-08T03:28:34.217Z"
   },
   {
    "duration": 0,
    "start_time": "2023-01-08T03:28:34.218Z"
   },
   {
    "duration": 0,
    "start_time": "2023-01-08T03:28:34.220Z"
   },
   {
    "duration": 0,
    "start_time": "2023-01-08T03:28:34.222Z"
   },
   {
    "duration": 0,
    "start_time": "2023-01-08T03:28:34.223Z"
   },
   {
    "duration": 0,
    "start_time": "2023-01-08T03:28:34.224Z"
   },
   {
    "duration": 0,
    "start_time": "2023-01-08T03:28:34.225Z"
   },
   {
    "duration": 0,
    "start_time": "2023-01-08T03:28:34.227Z"
   },
   {
    "duration": 0,
    "start_time": "2023-01-08T03:28:34.228Z"
   },
   {
    "duration": 0,
    "start_time": "2023-01-08T03:28:34.229Z"
   },
   {
    "duration": 0,
    "start_time": "2023-01-08T03:28:34.231Z"
   },
   {
    "duration": 0,
    "start_time": "2023-01-08T03:28:34.232Z"
   },
   {
    "duration": 0,
    "start_time": "2023-01-08T03:28:34.233Z"
   },
   {
    "duration": 0,
    "start_time": "2023-01-08T03:28:34.235Z"
   },
   {
    "duration": 0,
    "start_time": "2023-01-08T03:28:34.236Z"
   },
   {
    "duration": 0,
    "start_time": "2023-01-08T03:28:34.238Z"
   },
   {
    "duration": 0,
    "start_time": "2023-01-08T03:28:34.239Z"
   },
   {
    "duration": 0,
    "start_time": "2023-01-08T03:28:34.241Z"
   },
   {
    "duration": 0,
    "start_time": "2023-01-08T03:28:34.242Z"
   },
   {
    "duration": 0,
    "start_time": "2023-01-08T03:28:34.243Z"
   },
   {
    "duration": 5,
    "start_time": "2023-01-08T03:28:57.244Z"
   },
   {
    "duration": 69,
    "start_time": "2023-01-08T03:30:10.244Z"
   },
   {
    "duration": 6,
    "start_time": "2023-01-08T03:30:31.096Z"
   },
   {
    "duration": 68,
    "start_time": "2023-01-08T03:30:38.402Z"
   },
   {
    "duration": 24,
    "start_time": "2023-01-08T03:30:44.231Z"
   },
   {
    "duration": 6,
    "start_time": "2023-01-08T03:32:12.271Z"
   },
   {
    "duration": 25,
    "start_time": "2023-01-08T03:32:12.902Z"
   },
   {
    "duration": 5,
    "start_time": "2023-01-08T03:34:46.820Z"
   },
   {
    "duration": 22,
    "start_time": "2023-01-08T03:34:47.636Z"
   },
   {
    "duration": 5,
    "start_time": "2023-01-08T03:35:20.198Z"
   },
   {
    "duration": 528,
    "start_time": "2023-01-08T03:35:21.504Z"
   },
   {
    "duration": 12,
    "start_time": "2023-01-08T03:35:58.381Z"
   },
   {
    "duration": 6,
    "start_time": "2023-01-08T03:36:48.093Z"
   },
   {
    "duration": 455,
    "start_time": "2023-01-08T03:36:48.878Z"
   },
   {
    "duration": 9,
    "start_time": "2023-01-08T03:36:50.144Z"
   },
   {
    "duration": 5,
    "start_time": "2023-01-08T03:37:48.009Z"
   },
   {
    "duration": 462,
    "start_time": "2023-01-08T03:37:48.929Z"
   },
   {
    "duration": 9,
    "start_time": "2023-01-08T03:37:49.842Z"
   },
   {
    "duration": 5,
    "start_time": "2023-01-08T03:40:57.681Z"
   },
   {
    "duration": 477,
    "start_time": "2023-01-08T03:40:59.308Z"
   },
   {
    "duration": 11,
    "start_time": "2023-01-08T03:41:00.760Z"
   },
   {
    "duration": 6,
    "start_time": "2023-01-08T03:56:25.262Z"
   },
   {
    "duration": 472,
    "start_time": "2023-01-08T03:56:46.511Z"
   },
   {
    "duration": 11,
    "start_time": "2023-01-08T03:57:12.477Z"
   },
   {
    "duration": 9,
    "start_time": "2023-01-08T03:57:29.126Z"
   },
   {
    "duration": 9,
    "start_time": "2023-01-08T03:57:34.922Z"
   },
   {
    "duration": 480,
    "start_time": "2023-01-08T03:57:52.224Z"
   },
   {
    "duration": 10,
    "start_time": "2023-01-08T03:57:53.252Z"
   },
   {
    "duration": 5,
    "start_time": "2023-01-08T03:58:03.471Z"
   },
   {
    "duration": 474,
    "start_time": "2023-01-08T03:58:04.382Z"
   },
   {
    "duration": 11,
    "start_time": "2023-01-08T03:58:05.720Z"
   },
   {
    "duration": 6,
    "start_time": "2023-01-08T03:58:39.381Z"
   },
   {
    "duration": 462,
    "start_time": "2023-01-08T03:58:40.343Z"
   },
   {
    "duration": 9,
    "start_time": "2023-01-08T03:58:41.624Z"
   },
   {
    "duration": 54570,
    "start_time": "2023-01-08T03:59:42.496Z"
   },
   {
    "duration": 36719,
    "start_time": "2023-01-08T04:01:08.793Z"
   },
   {
    "duration": 6,
    "start_time": "2023-01-08T04:01:45.515Z"
   },
   {
    "duration": 196351,
    "start_time": "2023-01-08T04:01:51.096Z"
   },
   {
    "duration": 11,
    "start_time": "2023-01-08T04:08:53.064Z"
   },
   {
    "duration": 57,
    "start_time": "2023-01-08T05:08:43.194Z"
   },
   {
    "duration": 742,
    "start_time": "2023-01-08T05:13:43.433Z"
   },
   {
    "duration": 21,
    "start_time": "2023-01-08T05:15:37.315Z"
   },
   {
    "duration": 191,
    "start_time": "2023-01-08T05:16:13.954Z"
   },
   {
    "duration": 147,
    "start_time": "2023-01-08T05:17:56.099Z"
   },
   {
    "duration": 40,
    "start_time": "2023-01-08T05:26:31.526Z"
   },
   {
    "duration": 43,
    "start_time": "2023-01-08T05:26:48.093Z"
   },
   {
    "duration": 64,
    "start_time": "2023-01-08T05:28:58.260Z"
   },
   {
    "duration": 10,
    "start_time": "2023-01-08T05:31:48.137Z"
   },
   {
    "duration": 8,
    "start_time": "2023-01-08T05:32:26.616Z"
   },
   {
    "duration": 769,
    "start_time": "2023-01-08T05:32:52.135Z"
   },
   {
    "duration": 6,
    "start_time": "2023-01-08T05:32:56.827Z"
   },
   {
    "duration": 47,
    "start_time": "2023-01-08T05:37:19.930Z"
   },
   {
    "duration": 6,
    "start_time": "2023-01-08T05:37:51.711Z"
   },
   {
    "duration": 77,
    "start_time": "2023-01-08T05:37:53.571Z"
   },
   {
    "duration": 4,
    "start_time": "2023-01-08T05:38:49.098Z"
   },
   {
    "duration": 10,
    "start_time": "2023-01-08T05:38:51.406Z"
   },
   {
    "duration": 4,
    "start_time": "2023-01-08T05:39:09.993Z"
   },
   {
    "duration": 11,
    "start_time": "2023-01-08T05:39:12.688Z"
   },
   {
    "duration": 6024,
    "start_time": "2023-01-08T05:46:53.948Z"
   },
   {
    "duration": 35,
    "start_time": "2023-01-08T05:47:02.992Z"
   },
   {
    "duration": 15,
    "start_time": "2023-01-08T05:47:10.660Z"
   },
   {
    "duration": 4,
    "start_time": "2023-01-08T05:47:54.003Z"
   },
   {
    "duration": 16,
    "start_time": "2023-01-08T05:49:00.908Z"
   },
   {
    "duration": 2018,
    "start_time": "2023-01-08T05:49:04.308Z"
   },
   {
    "duration": 23,
    "start_time": "2023-01-08T05:49:10.128Z"
   },
   {
    "duration": 13,
    "start_time": "2023-01-08T05:49:39.125Z"
   },
   {
    "duration": 5,
    "start_time": "2023-01-08T05:49:42.517Z"
   },
   {
    "duration": 1408,
    "start_time": "2023-01-08T05:51:21.109Z"
   },
   {
    "duration": 2007,
    "start_time": "2023-01-08T05:51:25.045Z"
   },
   {
    "duration": 19,
    "start_time": "2023-01-08T05:51:28.880Z"
   },
   {
    "duration": 14,
    "start_time": "2023-01-08T05:51:32.609Z"
   },
   {
    "duration": 2,
    "start_time": "2023-01-08T05:53:15.624Z"
   },
   {
    "duration": 4,
    "start_time": "2023-01-08T05:53:17.096Z"
   },
   {
    "duration": 1956,
    "start_time": "2023-01-08T05:53:52.132Z"
   },
   {
    "duration": 19,
    "start_time": "2023-01-08T05:54:45.467Z"
   },
   {
    "duration": 3,
    "start_time": "2023-01-08T05:57:22.553Z"
   },
   {
    "duration": 264076,
    "start_time": "2023-01-08T06:03:55.044Z"
   },
   {
    "duration": 12,
    "start_time": "2023-01-08T06:08:42.258Z"
   },
   {
    "duration": 108402,
    "start_time": "2023-01-08T06:08:56.984Z"
   },
   {
    "duration": 10,
    "start_time": "2023-01-08T06:13:13.361Z"
   },
   {
    "duration": 58,
    "start_time": "2023-01-08T06:13:52.204Z"
   },
   {
    "duration": 64,
    "start_time": "2023-01-08T06:14:05.346Z"
   },
   {
    "duration": 12,
    "start_time": "2023-01-08T06:14:28.176Z"
   },
   {
    "duration": 8,
    "start_time": "2023-01-08T06:36:51.872Z"
   },
   {
    "duration": 53587,
    "start_time": "2023-01-08T06:37:16.814Z"
   },
   {
    "duration": 7,
    "start_time": "2023-01-08T06:39:42.080Z"
   },
   {
    "duration": 6,
    "start_time": "2023-01-08T06:40:36.701Z"
   },
   {
    "duration": 52569,
    "start_time": "2023-01-08T06:40:38.188Z"
   },
   {
    "duration": 11,
    "start_time": "2023-01-08T06:42:13.242Z"
   },
   {
    "duration": 9,
    "start_time": "2023-01-08T06:42:39.741Z"
   },
   {
    "duration": 22395,
    "start_time": "2023-01-08T06:42:40.814Z"
   },
   {
    "duration": 9,
    "start_time": "2023-01-08T06:43:05.064Z"
   },
   {
    "duration": 9,
    "start_time": "2023-01-08T06:48:27.350Z"
   },
   {
    "duration": 655396,
    "start_time": "2023-01-08T06:48:31.125Z"
   },
   {
    "duration": 12,
    "start_time": "2023-01-08T07:01:03.787Z"
   },
   {
    "duration": 8,
    "start_time": "2023-01-08T07:03:00.472Z"
   },
   {
    "duration": 140644,
    "start_time": "2023-01-08T07:03:02.394Z"
   },
   {
    "duration": 11,
    "start_time": "2023-01-08T07:07:40.844Z"
   },
   {
    "duration": 9,
    "start_time": "2023-01-08T07:08:38.914Z"
   },
   {
    "duration": 181081,
    "start_time": "2023-01-08T07:08:43.635Z"
   },
   {
    "duration": 12,
    "start_time": "2023-01-08T07:11:48.849Z"
   },
   {
    "duration": 9,
    "start_time": "2023-01-08T07:12:37.103Z"
   },
   {
    "duration": 269593,
    "start_time": "2023-01-08T07:12:38.972Z"
   },
   {
    "duration": 12,
    "start_time": "2023-01-08T07:17:25.978Z"
   },
   {
    "duration": 3,
    "start_time": "2023-01-08T07:25:14.234Z"
   },
   {
    "duration": 3,
    "start_time": "2023-01-08T07:25:22.112Z"
   },
   {
    "duration": 1528,
    "start_time": "2023-01-08T07:26:24.851Z"
   },
   {
    "duration": 8,
    "start_time": "2023-01-08T07:26:42.236Z"
   },
   {
    "duration": 10,
    "start_time": "2023-01-08T07:26:49.163Z"
   },
   {
    "duration": 11,
    "start_time": "2023-01-08T07:26:59.210Z"
   },
   {
    "duration": 15,
    "start_time": "2023-01-08T07:27:09.074Z"
   },
   {
    "duration": 12,
    "start_time": "2023-01-08T07:27:12.638Z"
   },
   {
    "duration": 1553,
    "start_time": "2023-01-08T07:27:56.372Z"
   },
   {
    "duration": 12,
    "start_time": "2023-01-08T07:28:01.804Z"
   },
   {
    "duration": 1487,
    "start_time": "2023-01-08T07:29:13.176Z"
   },
   {
    "duration": 54,
    "start_time": "2023-01-08T07:30:19.731Z"
   },
   {
    "duration": 114,
    "start_time": "2023-01-08T07:30:57.199Z"
   },
   {
    "duration": 49,
    "start_time": "2023-01-08T07:46:55.846Z"
   },
   {
    "duration": 68,
    "start_time": "2023-01-08T07:49:23.142Z"
   },
   {
    "duration": 55,
    "start_time": "2023-01-08T08:08:10.474Z"
   },
   {
    "duration": 109,
    "start_time": "2023-01-08T08:08:21.307Z"
   },
   {
    "duration": 4,
    "start_time": "2023-01-08T08:09:08.335Z"
   },
   {
    "duration": 53,
    "start_time": "2023-01-08T08:10:21.231Z"
   },
   {
    "duration": 18,
    "start_time": "2023-01-08T08:10:47.610Z"
   },
   {
    "duration": 2,
    "start_time": "2023-01-08T08:10:50.251Z"
   },
   {
    "duration": 12,
    "start_time": "2023-01-08T08:10:51.798Z"
   },
   {
    "duration": 3,
    "start_time": "2023-01-08T08:11:22.161Z"
   },
   {
    "duration": 292,
    "start_time": "2023-01-08T08:11:23.225Z"
   },
   {
    "duration": 6,
    "start_time": "2023-01-08T08:11:51.869Z"
   },
   {
    "duration": 10,
    "start_time": "2023-01-08T08:11:52.779Z"
   },
   {
    "duration": 119,
    "start_time": "2023-01-08T08:11:53.624Z"
   },
   {
    "duration": 10,
    "start_time": "2023-01-08T08:12:00.194Z"
   },
   {
    "duration": 134,
    "start_time": "2023-01-08T08:12:01.046Z"
   },
   {
    "duration": 6,
    "start_time": "2023-01-08T08:12:10.180Z"
   },
   {
    "duration": 11,
    "start_time": "2023-01-08T08:12:12.038Z"
   },
   {
    "duration": 128,
    "start_time": "2023-01-08T08:12:12.870Z"
   },
   {
    "duration": 5614,
    "start_time": "2023-01-08T08:16:59.980Z"
   },
   {
    "duration": 4,
    "start_time": "2023-01-08T08:18:05.541Z"
   },
   {
    "duration": 2022,
    "start_time": "2023-01-08T08:22:36.605Z"
   },
   {
    "duration": 1964,
    "start_time": "2023-01-08T08:22:38.630Z"
   },
   {
    "duration": 3,
    "start_time": "2023-01-08T08:22:40.596Z"
   },
   {
    "duration": 10,
    "start_time": "2023-01-08T08:22:40.600Z"
   },
   {
    "duration": 56,
    "start_time": "2023-01-08T08:22:40.612Z"
   },
   {
    "duration": 11,
    "start_time": "2023-01-08T08:22:40.670Z"
   },
   {
    "duration": 7,
    "start_time": "2023-01-08T08:22:40.683Z"
   },
   {
    "duration": 4,
    "start_time": "2023-01-08T08:22:40.691Z"
   },
   {
    "duration": 6,
    "start_time": "2023-01-08T08:22:40.696Z"
   },
   {
    "duration": 10,
    "start_time": "2023-01-08T08:22:40.703Z"
   },
   {
    "duration": 10,
    "start_time": "2023-01-08T08:22:40.715Z"
   },
   {
    "duration": 2,
    "start_time": "2023-01-08T08:22:40.727Z"
   },
   {
    "duration": 5,
    "start_time": "2023-01-08T08:22:40.730Z"
   },
   {
    "duration": 4,
    "start_time": "2023-01-08T08:22:40.737Z"
   },
   {
    "duration": 5,
    "start_time": "2023-01-08T08:22:40.742Z"
   },
   {
    "duration": 5,
    "start_time": "2023-01-08T08:22:40.748Z"
   },
   {
    "duration": 4,
    "start_time": "2023-01-08T08:22:40.755Z"
   },
   {
    "duration": 5,
    "start_time": "2023-01-08T08:22:40.761Z"
   },
   {
    "duration": 5,
    "start_time": "2023-01-08T08:22:40.768Z"
   },
   {
    "duration": 12,
    "start_time": "2023-01-08T08:22:40.774Z"
   },
   {
    "duration": 28,
    "start_time": "2023-01-08T08:22:40.788Z"
   },
   {
    "duration": 2,
    "start_time": "2023-01-08T08:22:40.817Z"
   },
   {
    "duration": 4,
    "start_time": "2023-01-08T08:22:40.821Z"
   },
   {
    "duration": 4,
    "start_time": "2023-01-08T08:22:40.827Z"
   },
   {
    "duration": 6,
    "start_time": "2023-01-08T08:22:40.832Z"
   },
   {
    "duration": 7,
    "start_time": "2023-01-08T08:22:40.840Z"
   },
   {
    "duration": 10,
    "start_time": "2023-01-08T08:22:40.848Z"
   },
   {
    "duration": 6,
    "start_time": "2023-01-08T08:22:40.859Z"
   },
   {
    "duration": 3,
    "start_time": "2023-01-08T08:22:40.867Z"
   },
   {
    "duration": 7,
    "start_time": "2023-01-08T08:22:40.871Z"
   },
   {
    "duration": 4,
    "start_time": "2023-01-08T08:22:40.879Z"
   },
   {
    "duration": 38,
    "start_time": "2023-01-08T08:22:40.884Z"
   },
   {
    "duration": 15,
    "start_time": "2023-01-08T08:22:40.923Z"
   },
   {
    "duration": 19,
    "start_time": "2023-01-08T08:22:40.939Z"
   },
   {
    "duration": 13,
    "start_time": "2023-01-08T08:22:40.959Z"
   },
   {
    "duration": 3,
    "start_time": "2023-01-08T08:22:40.973Z"
   },
   {
    "duration": 9,
    "start_time": "2023-01-08T08:22:40.978Z"
   },
   {
    "duration": 27,
    "start_time": "2023-01-08T08:22:40.988Z"
   },
   {
    "duration": 24,
    "start_time": "2023-01-08T08:22:41.017Z"
   },
   {
    "duration": 0,
    "start_time": "2023-01-08T08:22:41.043Z"
   },
   {
    "duration": 0,
    "start_time": "2023-01-08T08:22:41.044Z"
   },
   {
    "duration": 0,
    "start_time": "2023-01-08T08:22:41.045Z"
   },
   {
    "duration": 0,
    "start_time": "2023-01-08T08:22:41.046Z"
   },
   {
    "duration": 0,
    "start_time": "2023-01-08T08:22:41.047Z"
   },
   {
    "duration": 0,
    "start_time": "2023-01-08T08:22:41.048Z"
   },
   {
    "duration": 0,
    "start_time": "2023-01-08T08:22:41.049Z"
   },
   {
    "duration": 0,
    "start_time": "2023-01-08T08:22:41.050Z"
   },
   {
    "duration": 0,
    "start_time": "2023-01-08T08:22:41.050Z"
   },
   {
    "duration": 0,
    "start_time": "2023-01-08T08:22:41.051Z"
   },
   {
    "duration": 0,
    "start_time": "2023-01-08T08:22:41.052Z"
   },
   {
    "duration": 0,
    "start_time": "2023-01-08T08:22:41.053Z"
   },
   {
    "duration": 0,
    "start_time": "2023-01-08T08:22:41.054Z"
   },
   {
    "duration": 0,
    "start_time": "2023-01-08T08:22:41.055Z"
   },
   {
    "duration": 0,
    "start_time": "2023-01-08T08:22:41.056Z"
   },
   {
    "duration": 0,
    "start_time": "2023-01-08T08:22:41.057Z"
   },
   {
    "duration": 0,
    "start_time": "2023-01-08T08:22:41.058Z"
   },
   {
    "duration": 0,
    "start_time": "2023-01-08T08:22:41.059Z"
   },
   {
    "duration": 0,
    "start_time": "2023-01-08T08:22:41.060Z"
   },
   {
    "duration": 0,
    "start_time": "2023-01-08T08:22:41.061Z"
   },
   {
    "duration": 0,
    "start_time": "2023-01-08T08:22:41.062Z"
   },
   {
    "duration": 0,
    "start_time": "2023-01-08T08:22:41.063Z"
   },
   {
    "duration": 0,
    "start_time": "2023-01-08T08:22:41.064Z"
   },
   {
    "duration": 0,
    "start_time": "2023-01-08T08:22:41.065Z"
   },
   {
    "duration": 0,
    "start_time": "2023-01-08T08:22:41.066Z"
   },
   {
    "duration": 0,
    "start_time": "2023-01-08T08:22:41.067Z"
   },
   {
    "duration": 0,
    "start_time": "2023-01-08T08:22:41.068Z"
   },
   {
    "duration": 0,
    "start_time": "2023-01-08T08:22:41.115Z"
   },
   {
    "duration": 0,
    "start_time": "2023-01-08T08:22:41.116Z"
   },
   {
    "duration": 0,
    "start_time": "2023-01-08T08:22:41.118Z"
   },
   {
    "duration": 0,
    "start_time": "2023-01-08T08:22:41.120Z"
   },
   {
    "duration": 0,
    "start_time": "2023-01-08T08:22:41.121Z"
   },
   {
    "duration": 0,
    "start_time": "2023-01-08T08:22:41.122Z"
   },
   {
    "duration": 0,
    "start_time": "2023-01-08T08:22:41.124Z"
   },
   {
    "duration": 1,
    "start_time": "2023-01-08T08:22:41.124Z"
   },
   {
    "duration": 0,
    "start_time": "2023-01-08T08:22:41.126Z"
   },
   {
    "duration": 0,
    "start_time": "2023-01-08T08:22:41.127Z"
   },
   {
    "duration": 0,
    "start_time": "2023-01-08T08:22:41.128Z"
   },
   {
    "duration": 0,
    "start_time": "2023-01-08T08:22:41.129Z"
   },
   {
    "duration": 0,
    "start_time": "2023-01-08T08:22:41.130Z"
   },
   {
    "duration": 0,
    "start_time": "2023-01-08T08:22:41.132Z"
   },
   {
    "duration": 0,
    "start_time": "2023-01-08T08:22:41.133Z"
   },
   {
    "duration": 0,
    "start_time": "2023-01-08T08:22:41.134Z"
   },
   {
    "duration": 0,
    "start_time": "2023-01-08T08:22:41.135Z"
   },
   {
    "duration": 4,
    "start_time": "2023-01-08T08:24:18.100Z"
   },
   {
    "duration": 4,
    "start_time": "2023-01-08T08:24:19.659Z"
   },
   {
    "duration": 5,
    "start_time": "2023-01-08T08:24:24.123Z"
   },
   {
    "duration": 8,
    "start_time": "2023-01-08T08:24:29.428Z"
   },
   {
    "duration": 7,
    "start_time": "2023-01-08T08:24:30.439Z"
   },
   {
    "duration": 5,
    "start_time": "2023-01-08T08:24:32.836Z"
   },
   {
    "duration": 5,
    "start_time": "2023-01-08T08:24:36.588Z"
   },
   {
    "duration": 3,
    "start_time": "2023-01-08T08:25:12.352Z"
   },
   {
    "duration": 5,
    "start_time": "2023-01-08T08:25:48.152Z"
   },
   {
    "duration": 5,
    "start_time": "2023-01-08T08:26:22.810Z"
   },
   {
    "duration": 9,
    "start_time": "2023-01-08T08:27:19.278Z"
   },
   {
    "duration": 3,
    "start_time": "2023-01-08T08:36:10.772Z"
   },
   {
    "duration": 7,
    "start_time": "2023-01-08T08:38:00.905Z"
   },
   {
    "duration": 6,
    "start_time": "2023-01-08T08:38:12.481Z"
   },
   {
    "duration": 3,
    "start_time": "2023-01-08T08:38:18.788Z"
   },
   {
    "duration": 15,
    "start_time": "2023-01-08T08:38:21.652Z"
   },
   {
    "duration": 2,
    "start_time": "2023-01-08T08:38:58.268Z"
   },
   {
    "duration": 12,
    "start_time": "2023-01-08T08:39:12.914Z"
   },
   {
    "duration": 2,
    "start_time": "2023-01-08T08:40:34.047Z"
   },
   {
    "duration": 5,
    "start_time": "2023-01-08T08:40:39.871Z"
   },
   {
    "duration": 14,
    "start_time": "2023-01-08T08:40:58.042Z"
   },
   {
    "duration": 12,
    "start_time": "2023-01-08T08:41:11.144Z"
   },
   {
    "duration": 12,
    "start_time": "2023-01-08T08:41:38.727Z"
   },
   {
    "duration": 14,
    "start_time": "2023-01-08T08:52:37.513Z"
   },
   {
    "duration": 27,
    "start_time": "2023-01-08T08:53:34.268Z"
   },
   {
    "duration": 2,
    "start_time": "2023-01-08T08:53:46.515Z"
   }
  ],
  "kernelspec": {
   "display_name": "Python 3 (ipykernel)",
   "language": "python",
   "name": "python3"
  },
  "language_info": {
   "codemirror_mode": {
    "name": "ipython",
    "version": 3
   },
   "file_extension": ".py",
   "mimetype": "text/x-python",
   "name": "python",
   "nbconvert_exporter": "python",
   "pygments_lexer": "ipython3",
   "version": "3.9.5"
  },
  "toc": {
   "base_numbering": 1,
   "nav_menu": {},
   "number_sections": true,
   "sideBar": true,
   "skip_h1_title": true,
   "title_cell": "Содержание",
   "title_sidebar": "Contents",
   "toc_cell": true,
   "toc_position": {
    "height": "493.6px",
    "left": "32px",
    "top": "141.325px",
    "width": "248.05px"
   },
   "toc_section_display": true,
   "toc_window_display": false
  }
 },
 "nbformat": 4,
 "nbformat_minor": 2
}

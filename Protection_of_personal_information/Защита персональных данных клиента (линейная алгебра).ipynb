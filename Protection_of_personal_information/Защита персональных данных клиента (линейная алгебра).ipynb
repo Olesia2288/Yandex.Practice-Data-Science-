{
 "cells": [
  {
   "cell_type": "markdown",
   "metadata": {},
   "source": [
    "# Import"
   ]
  },
  {
   "cell_type": "code",
   "execution_count": 1,
   "metadata": {},
   "outputs": [],
   "source": [
    "import pandas as pd\n",
    "import seaborn as sns\n",
    "import matplotlib.pyplot as plt\n",
    "import numpy as np\n",
    "import os\n",
    "#import urllib.request\n",
    "\n",
    "from sklearn import datasets, linear_model\n",
    "from sklearn.metrics import r2_score\n",
    "from sklearn.linear_model import LinearRegression\n",
    "from sklearn.model_selection import train_test_split\n",
    "#from sklearn.preprocessing import StandardScaler"
   ]
  },
  {
   "cell_type": "markdown",
   "metadata": {},
   "source": [
    "# Загрузка данных"
   ]
  },
  {
   "cell_type": "code",
   "execution_count": 2,
   "metadata": {},
   "outputs": [],
   "source": [
    "df = pd.read_csv('datasets/insurance.csv')"
   ]
  },
  {
   "cell_type": "code",
   "execution_count": 4,
   "metadata": {},
   "outputs": [
    {
     "data": {
      "text/html": [
       "<div>\n",
       "<style scoped>\n",
       "    .dataframe tbody tr th:only-of-type {\n",
       "        vertical-align: middle;\n",
       "    }\n",
       "\n",
       "    .dataframe tbody tr th {\n",
       "        vertical-align: top;\n",
       "    }\n",
       "\n",
       "    .dataframe thead th {\n",
       "        text-align: right;\n",
       "    }\n",
       "</style>\n",
       "<table border=\"1\" class=\"dataframe\">\n",
       "  <thead>\n",
       "    <tr style=\"text-align: right;\">\n",
       "      <th></th>\n",
       "      <th>Пол</th>\n",
       "      <th>Возраст</th>\n",
       "      <th>Зарплата</th>\n",
       "      <th>Члены семьи</th>\n",
       "      <th>Страховые выплаты</th>\n",
       "    </tr>\n",
       "  </thead>\n",
       "  <tbody>\n",
       "    <tr>\n",
       "      <th>0</th>\n",
       "      <td>1</td>\n",
       "      <td>41.0</td>\n",
       "      <td>49600.0</td>\n",
       "      <td>1</td>\n",
       "      <td>0</td>\n",
       "    </tr>\n",
       "    <tr>\n",
       "      <th>1</th>\n",
       "      <td>0</td>\n",
       "      <td>46.0</td>\n",
       "      <td>38000.0</td>\n",
       "      <td>1</td>\n",
       "      <td>1</td>\n",
       "    </tr>\n",
       "    <tr>\n",
       "      <th>2</th>\n",
       "      <td>0</td>\n",
       "      <td>29.0</td>\n",
       "      <td>21000.0</td>\n",
       "      <td>0</td>\n",
       "      <td>0</td>\n",
       "    </tr>\n",
       "    <tr>\n",
       "      <th>3</th>\n",
       "      <td>0</td>\n",
       "      <td>21.0</td>\n",
       "      <td>41700.0</td>\n",
       "      <td>2</td>\n",
       "      <td>0</td>\n",
       "    </tr>\n",
       "    <tr>\n",
       "      <th>4</th>\n",
       "      <td>1</td>\n",
       "      <td>28.0</td>\n",
       "      <td>26100.0</td>\n",
       "      <td>0</td>\n",
       "      <td>0</td>\n",
       "    </tr>\n",
       "  </tbody>\n",
       "</table>\n",
       "</div>"
      ],
      "text/plain": [
       "   Пол  Возраст  Зарплата  Члены семьи  Страховые выплаты\n",
       "0    1     41.0   49600.0            1                  0\n",
       "1    0     46.0   38000.0            1                  1\n",
       "2    0     29.0   21000.0            0                  0\n",
       "3    0     21.0   41700.0            2                  0\n",
       "4    1     28.0   26100.0            0                  0"
      ]
     },
     "execution_count": 4,
     "metadata": {},
     "output_type": "execute_result"
    }
   ],
   "source": [
    "df.head()"
   ]
  },
  {
   "cell_type": "markdown",
   "metadata": {},
   "source": [
    "Посмотрим на общую информация о датасете:"
   ]
  },
  {
   "cell_type": "code",
   "execution_count": 5,
   "metadata": {},
   "outputs": [
    {
     "name": "stdout",
     "output_type": "stream",
     "text": [
      "<class 'pandas.core.frame.DataFrame'>\n",
      "RangeIndex: 5000 entries, 0 to 4999\n",
      "Data columns (total 5 columns):\n",
      " #   Column             Non-Null Count  Dtype  \n",
      "---  ------             --------------  -----  \n",
      " 0   Пол                5000 non-null   int64  \n",
      " 1   Возраст            5000 non-null   float64\n",
      " 2   Зарплата           5000 non-null   float64\n",
      " 3   Члены семьи        5000 non-null   int64  \n",
      " 4   Страховые выплаты  5000 non-null   int64  \n",
      "dtypes: float64(2), int64(3)\n",
      "memory usage: 195.4 KB\n"
     ]
    }
   ],
   "source": [
    "df.info() "
   ]
  },
  {
   "cell_type": "code",
   "execution_count": 6,
   "metadata": {},
   "outputs": [
    {
     "data": {
      "text/plain": [
       "Пол                  0.0\n",
       "Возраст              0.0\n",
       "Зарплата             0.0\n",
       "Члены семьи          0.0\n",
       "Страховые выплаты    0.0\n",
       "dtype: float64"
      ]
     },
     "execution_count": 6,
     "metadata": {},
     "output_type": "execute_result"
    }
   ],
   "source": [
    "df.isna().mean()"
   ]
  },
  {
   "cell_type": "markdown",
   "metadata": {},
   "source": [
    "Пропусков в данных нет"
   ]
  },
  {
   "cell_type": "code",
   "execution_count": 7,
   "metadata": {},
   "outputs": [
    {
     "data": {
      "text/plain": [
       "153"
      ]
     },
     "execution_count": 7,
     "metadata": {},
     "output_type": "execute_result"
    }
   ],
   "source": [
    "df.duplicated().sum()"
   ]
  },
  {
   "cell_type": "markdown",
   "metadata": {},
   "source": [
    "Явных дубликатов - 153 строки. На цель проета данные дубликаты не влияют, поэтому удалять их нет необходимости."
   ]
  },
  {
   "cell_type": "markdown",
   "metadata": {},
   "source": [
    "Посмотрим, если в данных признаки с очень сильными взаимосвязями между собой:"
   ]
  },
  {
   "cell_type": "code",
   "execution_count": 8,
   "metadata": {},
   "outputs": [
    {
     "data": {
      "image/png": "[encoded data removed]",
      "text/plain": [
       "<Figure size 900x900 with 30 Axes>"
      ]
     },
     "metadata": {
      "needs_background": "light"
     },
     "output_type": "display_data"
    }
   ],
   "source": [
    "sns.pairplot(df)\n",
    "plt.suptitle(\"Матрица диаграммы рассеяния признаков\")\n",
    "plt.subplots_adjust(top=0.95)\n",
    "plt.show()"
   ]
  },
  {
   "cell_type": "code",
   "execution_count": 9,
   "metadata": {},
   "outputs": [
    {
     "data": {
      "text/html": [
       "<div>\n",
       "<style scoped>\n",
       "    .dataframe tbody tr th:only-of-type {\n",
       "        vertical-align: middle;\n",
       "    }\n",
       "\n",
       "    .dataframe tbody tr th {\n",
       "        vertical-align: top;\n",
       "    }\n",
       "\n",
       "    .dataframe thead th {\n",
       "        text-align: right;\n",
       "    }\n",
       "</style>\n",
       "<table border=\"1\" class=\"dataframe\">\n",
       "  <thead>\n",
       "    <tr style=\"text-align: right;\">\n",
       "      <th></th>\n",
       "      <th>Пол</th>\n",
       "      <th>Возраст</th>\n",
       "      <th>Зарплата</th>\n",
       "      <th>Члены семьи</th>\n",
       "      <th>Страховые выплаты</th>\n",
       "    </tr>\n",
       "  </thead>\n",
       "  <tbody>\n",
       "    <tr>\n",
       "      <th>count</th>\n",
       "      <td>5000.000000</td>\n",
       "      <td>5000.000000</td>\n",
       "      <td>5000.000000</td>\n",
       "      <td>5000.000000</td>\n",
       "      <td>5000.000000</td>\n",
       "    </tr>\n",
       "    <tr>\n",
       "      <th>mean</th>\n",
       "      <td>0.499000</td>\n",
       "      <td>30.952800</td>\n",
       "      <td>39916.360000</td>\n",
       "      <td>1.194200</td>\n",
       "      <td>0.148000</td>\n",
       "    </tr>\n",
       "    <tr>\n",
       "      <th>std</th>\n",
       "      <td>0.500049</td>\n",
       "      <td>8.440807</td>\n",
       "      <td>9900.083569</td>\n",
       "      <td>1.091387</td>\n",
       "      <td>0.463183</td>\n",
       "    </tr>\n",
       "    <tr>\n",
       "      <th>min</th>\n",
       "      <td>0.000000</td>\n",
       "      <td>18.000000</td>\n",
       "      <td>5300.000000</td>\n",
       "      <td>0.000000</td>\n",
       "      <td>0.000000</td>\n",
       "    </tr>\n",
       "    <tr>\n",
       "      <th>25%</th>\n",
       "      <td>0.000000</td>\n",
       "      <td>24.000000</td>\n",
       "      <td>33300.000000</td>\n",
       "      <td>0.000000</td>\n",
       "      <td>0.000000</td>\n",
       "    </tr>\n",
       "    <tr>\n",
       "      <th>50%</th>\n",
       "      <td>0.000000</td>\n",
       "      <td>30.000000</td>\n",
       "      <td>40200.000000</td>\n",
       "      <td>1.000000</td>\n",
       "      <td>0.000000</td>\n",
       "    </tr>\n",
       "    <tr>\n",
       "      <th>75%</th>\n",
       "      <td>1.000000</td>\n",
       "      <td>37.000000</td>\n",
       "      <td>46600.000000</td>\n",
       "      <td>2.000000</td>\n",
       "      <td>0.000000</td>\n",
       "    </tr>\n",
       "    <tr>\n",
       "      <th>max</th>\n",
       "      <td>1.000000</td>\n",
       "      <td>65.000000</td>\n",
       "      <td>79000.000000</td>\n",
       "      <td>6.000000</td>\n",
       "      <td>5.000000</td>\n",
       "    </tr>\n",
       "  </tbody>\n",
       "</table>\n",
       "</div>"
      ],
      "text/plain": [
       "               Пол      Возраст      Зарплата  Члены семьи  Страховые выплаты\n",
       "count  5000.000000  5000.000000   5000.000000  5000.000000        5000.000000\n",
       "mean      0.499000    30.952800  39916.360000     1.194200           0.148000\n",
       "std       0.500049     8.440807   9900.083569     1.091387           0.463183\n",
       "min       0.000000    18.000000   5300.000000     0.000000           0.000000\n",
       "25%       0.000000    24.000000  33300.000000     0.000000           0.000000\n",
       "50%       0.000000    30.000000  40200.000000     1.000000           0.000000\n",
       "75%       1.000000    37.000000  46600.000000     2.000000           0.000000\n",
       "max       1.000000    65.000000  79000.000000     6.000000           5.000000"
      ]
     },
     "execution_count": 9,
     "metadata": {},
     "output_type": "execute_result"
    }
   ],
   "source": [
    "df.describe() #статистические данные "
   ]
  },
  {
   "cell_type": "code",
   "execution_count": 10,
   "metadata": {},
   "outputs": [
    {
     "data": {
      "text/html": [
       "<div>\n",
       "<style scoped>\n",
       "    .dataframe tbody tr th:only-of-type {\n",
       "        vertical-align: middle;\n",
       "    }\n",
       "\n",
       "    .dataframe tbody tr th {\n",
       "        vertical-align: top;\n",
       "    }\n",
       "\n",
       "    .dataframe thead th {\n",
       "        text-align: right;\n",
       "    }\n",
       "</style>\n",
       "<table border=\"1\" class=\"dataframe\">\n",
       "  <thead>\n",
       "    <tr style=\"text-align: right;\">\n",
       "      <th></th>\n",
       "      <th>Пол</th>\n",
       "      <th>Возраст</th>\n",
       "      <th>Зарплата</th>\n",
       "      <th>Члены семьи</th>\n",
       "      <th>Страховые выплаты</th>\n",
       "    </tr>\n",
       "  </thead>\n",
       "  <tbody>\n",
       "    <tr>\n",
       "      <th>Пол</th>\n",
       "      <td>1.000000</td>\n",
       "      <td>0.002074</td>\n",
       "      <td>0.014910</td>\n",
       "      <td>-0.008991</td>\n",
       "      <td>0.010140</td>\n",
       "    </tr>\n",
       "    <tr>\n",
       "      <th>Возраст</th>\n",
       "      <td>0.002074</td>\n",
       "      <td>1.000000</td>\n",
       "      <td>-0.019093</td>\n",
       "      <td>-0.006692</td>\n",
       "      <td>0.651030</td>\n",
       "    </tr>\n",
       "    <tr>\n",
       "      <th>Зарплата</th>\n",
       "      <td>0.014910</td>\n",
       "      <td>-0.019093</td>\n",
       "      <td>1.000000</td>\n",
       "      <td>-0.030296</td>\n",
       "      <td>-0.014963</td>\n",
       "    </tr>\n",
       "    <tr>\n",
       "      <th>Члены семьи</th>\n",
       "      <td>-0.008991</td>\n",
       "      <td>-0.006692</td>\n",
       "      <td>-0.030296</td>\n",
       "      <td>1.000000</td>\n",
       "      <td>-0.036290</td>\n",
       "    </tr>\n",
       "    <tr>\n",
       "      <th>Страховые выплаты</th>\n",
       "      <td>0.010140</td>\n",
       "      <td>0.651030</td>\n",
       "      <td>-0.014963</td>\n",
       "      <td>-0.036290</td>\n",
       "      <td>1.000000</td>\n",
       "    </tr>\n",
       "  </tbody>\n",
       "</table>\n",
       "</div>"
      ],
      "text/plain": [
       "                        Пол   Возраст  Зарплата  Члены семьи  \\\n",
       "Пол                1.000000  0.002074  0.014910    -0.008991   \n",
       "Возраст            0.002074  1.000000 -0.019093    -0.006692   \n",
       "Зарплата           0.014910 -0.019093  1.000000    -0.030296   \n",
       "Члены семьи       -0.008991 -0.006692 -0.030296     1.000000   \n",
       "Страховые выплаты  0.010140  0.651030 -0.014963    -0.036290   \n",
       "\n",
       "                   Страховые выплаты  \n",
       "Пол                         0.010140  \n",
       "Возраст                     0.651030  \n",
       "Зарплата                   -0.014963  \n",
       "Члены семьи                -0.036290  \n",
       "Страховые выплаты           1.000000  "
      ]
     },
     "execution_count": 10,
     "metadata": {},
     "output_type": "execute_result"
    }
   ],
   "source": [
    "df.corr() "
   ]
  },
  {
   "cell_type": "code",
   "execution_count": 11,
   "metadata": {},
   "outputs": [
    {
     "data": {
      "image/png": "[encoded data removed]",
      "text/plain": [
       "<Figure size 432x288 with 2 Axes>"
      ]
     },
     "metadata": {
      "needs_background": "light"
     },
     "output_type": "display_data"
    }
   ],
   "source": [
    "sns.heatmap(df.corr(), annot=True, fmt=\".2f\")\n",
    "plt.title(\"Матрица корреляции признаков\")\n",
    "plt.show()"
   ]
  },
  {
   "cell_type": "markdown",
   "metadata": {},
   "source": [
    "Между признаками линейные взаимосвязи отсутсвуют. На целевой признак - страховые выплаты - сильнее всего влияет возраст, на матрице рассеивания видно, что с увеличением возраста растут и страховые выплаты, что вполне логично."
   ]
  },
  {
   "cell_type": "markdown",
   "metadata": {},
   "source": [
    "# Умножение матриц"
   ]
  },
  {
   "cell_type": "markdown",
   "metadata": {},
   "source": [
    "Формулы линейной регрессии:\n",
    "\n",
    "Предсказания:\n",
    "\n",
    "$$\n",
    "a = Xw\n",
    "$$\n",
    "\n",
    "Задача обучения:\n",
    "\n",
    "$$\n",
    "w = \\arg\\min_w MSE(Xw, y)\n",
    "$$\n",
    "\n",
    "Формула обучения:\n",
    "\n",
    "$$\n",
    "w = (X^T X)^{-1} X^T y\n",
    "$$\n",
    "\n",
    "Обозначения:\n",
    "\n",
    "- $X$ — матрица признаков (нулевой столбец состоит из единиц)\n",
    "\n",
    "- $y$ — вектор целевого признака\n",
    "\n",
    "- $P$ — матрица, на которую умножаются признаки\n",
    "\n",
    "- $w$ — вектор весов линейной регрессии (нулевой элемент равен сдвигу)"
   ]
  },
  {
   "cell_type": "markdown",
   "metadata": {},
   "source": [
    "В этом пункте необходимо проверить как изменится качество модели линейной регрессии, если признаки умножить на необратимую матрицу, поэтому для этого пункта использовать разделение не будем, а посмотрим общую оценку для всех данных."
   ]
  },
  {
   "cell_type": "markdown",
   "metadata": {},
   "source": [
    "Определим целевой признак и фичи:"
   ]
  },
  {
   "cell_type": "code",
   "execution_count": 12,
   "metadata": {},
   "outputs": [],
   "source": [
    "df_features = df.drop('Страховые выплаты', axis=1)\n",
    "df_target = df['Страховые выплаты']"
   ]
  },
  {
   "cell_type": "markdown",
   "metadata": {},
   "source": [
    "Вычеслим оценку r2 (коэффициент детерминации) модели, обученной на доступных фичах"
   ]
  },
  {
   "cell_type": "code",
   "execution_count": 13,
   "metadata": {},
   "outputs": [],
   "source": [
    "model_1 = LinearRegression()\n",
    "model_1.fit(df_features, df_target)\n",
    "predictions = model_1.predict(df_features)\n",
    "score = round(r2_score(df_target, predictions), 5)\n",
    "#print('Коэффициенты w для модели №1', model_1.coef_)\n",
    "#model_1.intercept_"
   ]
  },
  {
   "cell_type": "markdown",
   "metadata": {},
   "source": [
    "Обратам датасет с признаками в матрицу:"
   ]
  },
  {
   "cell_type": "code",
   "execution_count": 14,
   "metadata": {},
   "outputs": [],
   "source": [
    "df_features_matrix = df_features.values"
   ]
  },
  {
   "cell_type": "code",
   "execution_count": 15,
   "metadata": {},
   "outputs": [
    {
     "data": {
      "text/plain": [
       "(5000, 4)"
      ]
     },
     "execution_count": 15,
     "metadata": {},
     "output_type": "execute_result"
    }
   ],
   "source": [
    "df_features_matrix.shape"
   ]
  },
  {
   "cell_type": "markdown",
   "metadata": {},
   "source": [
    "Создадим обратимую матрицу:"
   ]
  },
  {
   "cell_type": "code",
   "execution_count": 16,
   "metadata": {},
   "outputs": [],
   "source": [
    "np.random.seed(123) #слуайные числа, сгенирированные NumPy будут одинаковыми при повторном запуске кода\n",
    "random_matrix = np.random.rand(4, 4) #сгенирируем случайную матрицу, длинна которой равна ширине матрицы df_features_matrix"
   ]
  },
  {
   "cell_type": "markdown",
   "metadata": {},
   "source": [
    "Умножим признаки на обратимую матрицу:"
   ]
  },
  {
   "cell_type": "code",
   "execution_count": 17,
   "metadata": {},
   "outputs": [
    {
     "data": {
      "text/plain": [
       "(5000, 4)"
      ]
     },
     "execution_count": 17,
     "metadata": {},
     "output_type": "execute_result"
    }
   ],
   "source": [
    "new_df_features = df_features_matrix.dot(random_matrix)\n",
    "new_df_features.shape"
   ]
  },
  {
   "cell_type": "markdown",
   "metadata": {},
   "source": [
    "Проверим, изменилось ли качество линейной регресии:"
   ]
  },
  {
   "cell_type": "code",
   "execution_count": 18,
   "metadata": {},
   "outputs": [],
   "source": [
    "model_2 = LinearRegression()\n",
    "model_2.fit(new_df_features, df_target)\n",
    "predictions = model_2.predict(new_df_features)\n",
    "new_score = round(r2_score(df_target, predictions), 5)"
   ]
  },
  {
   "cell_type": "code",
   "execution_count": 19,
   "metadata": {},
   "outputs": [
    {
     "name": "stdout",
     "output_type": "stream",
     "text": [
      "При умножении признаков на обратимую матрицу качество модели не изменится\n",
      "score = new_score: 0.42495\n"
     ]
    }
   ],
   "source": [
    "if score == new_score:\n",
    "    print('При умножении признаков на обратимую матрицу качество модели не изменится')\n",
    "    print('score = new_score:', score)\n",
    "else:\n",
    "    print('При умножении признаков на обратимую матрицу качество модели изменится')\n",
    "    print('score =', score)\n",
    "    print('new_score =', new_score)"
   ]
  },
  {
   "cell_type": "markdown",
   "metadata": {},
   "source": [
    "# Алгоритм преобразования"
   ]
  },
  {
   "cell_type": "markdown",
   "metadata": {},
   "source": [
    "## Алгоритм"
   ]
  },
  {
   "cell_type": "markdown",
   "metadata": {},
   "source": [
    "Алгоритм - это определенный способ шифровки информации (список инструкций). В данном случае необходимо зашифровать данные о клиентах, их возраст, пол, заработную плату. Все данные о клиентах представляют собой матрицу 5000 на 4, ключ шифрования - обратимая квадратная матрица 4 на 4. Для получения зашифрованной информации о клиенте необходимо ключ умножить на матрицу с данными. \n",
    "\n",
    "В дальнейшем, расшифровать данные можно с помощью обратной матрицы ключа шифрования.  "
   ]
  },
  {
   "cell_type": "markdown",
   "metadata": {},
   "source": [
    "## Обоснование"
   ]
  },
  {
   "cell_type": "markdown",
   "metadata": {},
   "source": [
    "Обоснование, почему качество модели линейной регрессии не меняется:\n",
    "\n",
    "Выше уже приведены формулы, которые модель использует для предсказаний и для вектора коэфициентов $w$, который модель использует для обучения. Когда мы умножаем признаки на обратимую матрицу, получаем следующую формулу:\n",
    "\n",
    "$$ F = XA $$\n",
    "\n",
    "где $F$ - новая матрица, полученная в результате умножения признаков $X$ на обратимую матрицу $A$\n",
    "\n",
    "В результате мы получаем новый набор коэффициентов $w`$, которые хотим оценить:\n",
    "$$\n",
    "w` = (F^T F)^{-1} F^T y\n",
    "$$\n",
    "или:\n",
    "$$\n",
    "w` = ((X A)^T (XA))^{-1} (X A)^T y =\n",
    "$$\n",
    "\n",
    "$$\n",
    "(A^T X^T XA)^{-1} A^T X^T y =\n",
    "$$\n",
    "\n",
    "$$\n",
    " A^{-1}(X^T X)^{-1} (A^T)^{-1}A^TX^T y =\n",
    "$$\n",
    "\n",
    "$$\n",
    "A^{-1}(X^T X)^{-1} EX^T y = \n",
    "$$\n",
    "\n",
    "$$\n",
    "A^{-1}(X^T X)^{-1} X^T y = A^{-1} w\n",
    "$$\n",
    "\n",
    "где $E$ - это единичная матрица, получившаяся в результате произведения квадратной матрицы $A^T$ на ее обратную матрицу $(A^T)^{-1}$.\n",
    "\n",
    "Следовательно: $$w` =  A^{-1} w$$\n",
    "\n",
    "то есть новые веса $w`$ - это старые веса $w$, умноженные на обратную случайную матрицу.\n",
    "\n",
    "В итоге мы получаем новые предсказания $a`$ для модели линейной регрессии, формулу которых можно записать так:\n",
    "$ a` = Fw`$ или $a` = XA A^{-1}w$\n",
    "\n",
    "$$a` = XE w = Xw = a$$\n",
    "\n",
    "Предсказания модели, умноженной на случайную матрицу А равны предсказаниям модели до умножения на случайную матрицу.\n",
    "\n",
    "Таким образом, умножение признаков на обратимую матрицу не меняет линейной зависимости между признаками, поэтому качество модели линейной регрессии остается прежним. Однако коэффициенты в модели будут другими, так как теперь они оцениваются на основе нового набора признаков F.\n",
    "\n",
    "\n"
   ]
  },
  {
   "cell_type": "markdown",
   "metadata": {},
   "source": [
    "# Проверка алгоритма"
   ]
  },
  {
   "cell_type": "markdown",
   "metadata": {},
   "source": [
    "Разделим выборки для обучения и теста:"
   ]
  },
  {
   "cell_type": "code",
   "execution_count": 20,
   "metadata": {},
   "outputs": [],
   "source": [
    "X_train, X_test, y_train, y_test = train_test_split(df_features, df_target, test_size=0.25, random_state=42)"
   ]
  },
  {
   "cell_type": "markdown",
   "metadata": {},
   "source": [
    "Найдем размерность признаков для случайной матрицы:"
   ]
  },
  {
   "cell_type": "code",
   "execution_count": 21,
   "metadata": {},
   "outputs": [],
   "source": [
    "n_features = df_features.shape[1]"
   ]
  },
  {
   "cell_type": "markdown",
   "metadata": {},
   "source": [
    "Запишем алгоритм действий:"
   ]
  },
  {
   "cell_type": "code",
   "execution_count": 22,
   "metadata": {},
   "outputs": [],
   "source": [
    "#генерация секретного ключа\n",
    "secret_key = np.random.rand(n_features,n_features) \n",
    "\n",
    "#генерация матриц с данными\n",
    "X_train_matrix = X_train.values\n",
    "X_test_matrix = X_test.values\n",
    "\n",
    "# шифруем данные с помощью секретного ключа\n",
    "train_secret_matrix = np.dot(X_train_matrix, secret_key)\n",
    "test_secret_matrix = np.dot(X_test_matrix, secret_key)\n",
    "\n",
    "# расшифровываем данные с помощью обратной матрицы секретного ключа\n",
    "de_train = np.dot(train_secret_matrix, np.linalg.inv(secret_key))\n",
    "de_test = np.dot(test_secret_matrix, np.linalg.inv(secret_key))"
   ]
  },
  {
   "cell_type": "markdown",
   "metadata": {},
   "source": [
    "Проверка случайной матрицы на обратимость:"
   ]
  },
  {
   "cell_type": "markdown",
   "metadata": {},
   "source": [
    "Дана случайная матрица . Если обратная к ней матрица существует, то определитель исходной матрицы отличен от нуля:\n",
    "$$ |A|≠0$$\n",
    "\n",
    "вычислим определитель массива с помощью **numpy.linalg.det()**"
   ]
  },
  {
   "cell_type": "code",
   "execution_count": 23,
   "metadata": {},
   "outputs": [
    {
     "name": "stdout",
     "output_type": "stream",
     "text": [
      "Случайная матрица обратима\n"
     ]
    }
   ],
   "source": [
    "det = np.linalg.det(secret_key)\n",
    "\n",
    "if det != 0:\n",
    "    print(\"Случайная матрица обратима\")\n",
    "else:\n",
    "    print(\"Случайная матрица не обратима\")\n"
   ]
  },
  {
   "cell_type": "code",
   "execution_count": 24,
   "metadata": {},
   "outputs": [
    {
     "data": {
      "text/plain": [
       "0.42548"
      ]
     },
     "execution_count": 24,
     "metadata": {},
     "output_type": "execute_result"
    }
   ],
   "source": [
    "model_before = LinearRegression()\n",
    "model_before.fit(X_train, y_train)\n",
    "predictions_before = model_before.predict(X_test)\n",
    "score_before = round(r2_score(y_test, predictions_before), 5)\n",
    "score_before"
   ]
  },
  {
   "cell_type": "code",
   "execution_count": 25,
   "metadata": {},
   "outputs": [
    {
     "data": {
      "text/plain": [
       "0.42548"
      ]
     },
     "execution_count": 25,
     "metadata": {},
     "output_type": "execute_result"
    }
   ],
   "source": [
    "model_after = LinearRegression()\n",
    "model_after.fit(train_secret_matrix, y_train)\n",
    "predictions_after = model_after.predict(test_secret_matrix)\n",
    "score_after = round(r2_score(y_test, predictions_after), 5)\n",
    "score_after"
   ]
  },
  {
   "cell_type": "markdown",
   "metadata": {},
   "source": [
    "Проверим, как восстановились наши данные из зашифрованного состояния:"
   ]
  },
  {
   "cell_type": "code",
   "execution_count": 26,
   "metadata": {},
   "outputs": [
    {
     "data": {
      "text/html": [
       "<div>\n",
       "<style scoped>\n",
       "    .dataframe tbody tr th:only-of-type {\n",
       "        vertical-align: middle;\n",
       "    }\n",
       "\n",
       "    .dataframe tbody tr th {\n",
       "        vertical-align: top;\n",
       "    }\n",
       "\n",
       "    .dataframe thead th {\n",
       "        text-align: right;\n",
       "    }\n",
       "</style>\n",
       "<table border=\"1\" class=\"dataframe\">\n",
       "  <thead>\n",
       "    <tr style=\"text-align: right;\">\n",
       "      <th></th>\n",
       "      <th>Пол</th>\n",
       "      <th>Возраст</th>\n",
       "      <th>Зарплата</th>\n",
       "      <th>Члены семьи</th>\n",
       "    </tr>\n",
       "  </thead>\n",
       "  <tbody>\n",
       "    <tr>\n",
       "      <th>0</th>\n",
       "      <td>0.0</td>\n",
       "      <td>34.0</td>\n",
       "      <td>40200.0</td>\n",
       "      <td>0.0</td>\n",
       "    </tr>\n",
       "    <tr>\n",
       "      <th>1</th>\n",
       "      <td>0.0</td>\n",
       "      <td>23.0</td>\n",
       "      <td>33300.0</td>\n",
       "      <td>1.0</td>\n",
       "    </tr>\n",
       "    <tr>\n",
       "      <th>2</th>\n",
       "      <td>0.0</td>\n",
       "      <td>34.0</td>\n",
       "      <td>43600.0</td>\n",
       "      <td>0.0</td>\n",
       "    </tr>\n",
       "    <tr>\n",
       "      <th>3</th>\n",
       "      <td>1.0</td>\n",
       "      <td>36.0</td>\n",
       "      <td>34600.0</td>\n",
       "      <td>1.0</td>\n",
       "    </tr>\n",
       "    <tr>\n",
       "      <th>4</th>\n",
       "      <td>0.0</td>\n",
       "      <td>36.0</td>\n",
       "      <td>41000.0</td>\n",
       "      <td>1.0</td>\n",
       "    </tr>\n",
       "  </tbody>\n",
       "</table>\n",
       "</div>"
      ],
      "text/plain": [
       "   Пол  Возраст  Зарплата  Члены семьи\n",
       "0  0.0     34.0   40200.0          0.0\n",
       "1  0.0     23.0   33300.0          1.0\n",
       "2  0.0     34.0   43600.0          0.0\n",
       "3  1.0     36.0   34600.0          1.0\n",
       "4  0.0     36.0   41000.0          1.0"
      ]
     },
     "execution_count": 26,
     "metadata": {},
     "output_type": "execute_result"
    }
   ],
   "source": [
    "de_train_df = pd.DataFrame(de_train, columns = X_train.columns)\n",
    "de_train_df['Пол'] = abs(de_train_df['Пол'].round())\n",
    "de_train_df['Члены семьи'] = abs(de_train_df['Члены семьи'].round())\n",
    "\n",
    "de_train_df.head()"
   ]
  },
  {
   "cell_type": "code",
   "execution_count": 27,
   "metadata": {},
   "outputs": [
    {
     "data": {
      "text/html": [
       "<div>\n",
       "<style scoped>\n",
       "    .dataframe tbody tr th:only-of-type {\n",
       "        vertical-align: middle;\n",
       "    }\n",
       "\n",
       "    .dataframe tbody tr th {\n",
       "        vertical-align: top;\n",
       "    }\n",
       "\n",
       "    .dataframe thead th {\n",
       "        text-align: right;\n",
       "    }\n",
       "</style>\n",
       "<table border=\"1\" class=\"dataframe\">\n",
       "  <thead>\n",
       "    <tr style=\"text-align: right;\">\n",
       "      <th></th>\n",
       "      <th>Пол</th>\n",
       "      <th>Возраст</th>\n",
       "      <th>Зарплата</th>\n",
       "      <th>Члены семьи</th>\n",
       "    </tr>\n",
       "  </thead>\n",
       "  <tbody>\n",
       "    <tr>\n",
       "      <th>0</th>\n",
       "      <td>1.0</td>\n",
       "      <td>28.0</td>\n",
       "      <td>56100.0</td>\n",
       "      <td>0.0</td>\n",
       "    </tr>\n",
       "    <tr>\n",
       "      <th>1</th>\n",
       "      <td>1.0</td>\n",
       "      <td>32.0</td>\n",
       "      <td>41900.0</td>\n",
       "      <td>2.0</td>\n",
       "    </tr>\n",
       "    <tr>\n",
       "      <th>2</th>\n",
       "      <td>1.0</td>\n",
       "      <td>30.0</td>\n",
       "      <td>26300.0</td>\n",
       "      <td>0.0</td>\n",
       "    </tr>\n",
       "    <tr>\n",
       "      <th>3</th>\n",
       "      <td>1.0</td>\n",
       "      <td>30.0</td>\n",
       "      <td>37300.0</td>\n",
       "      <td>2.0</td>\n",
       "    </tr>\n",
       "    <tr>\n",
       "      <th>4</th>\n",
       "      <td>0.0</td>\n",
       "      <td>44.0</td>\n",
       "      <td>30000.0</td>\n",
       "      <td>1.0</td>\n",
       "    </tr>\n",
       "  </tbody>\n",
       "</table>\n",
       "</div>"
      ],
      "text/plain": [
       "   Пол  Возраст  Зарплата  Члены семьи\n",
       "0  1.0     28.0   56100.0          0.0\n",
       "1  1.0     32.0   41900.0          2.0\n",
       "2  1.0     30.0   26300.0          0.0\n",
       "3  1.0     30.0   37300.0          2.0\n",
       "4  0.0     44.0   30000.0          1.0"
      ]
     },
     "execution_count": 27,
     "metadata": {},
     "output_type": "execute_result"
    }
   ],
   "source": [
    "de_test_df = pd.DataFrame(de_test, columns = X_test.columns)\n",
    "de_test_df['Пол'] = abs(de_test_df['Пол'].round())\n",
    "de_test_df['Члены семьи'] = abs(de_test_df['Члены семьи'].round())\n",
    "de_test_df.head()"
   ]
  },
  {
   "cell_type": "markdown",
   "metadata": {},
   "source": [
    "# Вывод:"
   ]
  },
  {
   "cell_type": "markdown",
   "metadata": {},
   "source": [
    "В ходе выполнения проекта был разработан простейший способ шифрования информации с помощью умножения признака на квадратную обратимую матрицу. Как видно из преведенных выше формул на качестве модели это никак не может отразится, так как на сам принцип определения коээфициентов w матричные способы шифровки данных не влияют. То, что шифр данных никак не повлиял на качество модели доказывает и оценка r2, которая осталась неизменной вне зависимости от того были данные зашифрованы или нет. Можно с помощью диаграммы рассеивания визуализировать, как зашифрованные данные повлияли на модель регрессии. Графики, приведенные ниже, идентичны, это еще раз подтверждает, что производительность модели никак не изменилась."
   ]
  },
  {
   "cell_type": "code",
   "execution_count": 28,
   "metadata": {},
   "outputs": [
    {
     "data": {
      "image/png": "[encoded data removed]",
      "text/plain": [
       "<Figure size 720x288 with 2 Axes>"
      ]
     },
     "metadata": {
      "needs_background": "light"
     },
     "output_type": "display_data"
    }
   ],
   "source": [
    "fig, (ax1, ax2) = plt.subplots(1, 2, figsize=(10, 4))\n",
    "\n",
    "#Диаграмма рассеивания истинных и предсказанных значений для модели до шифрования данных\n",
    "ax1.scatter(y_test, predictions_before, color=\"DarkBlue\", alpha=0.3)\n",
    "ax1.set_title(\"Model before\")\n",
    "ax1.set_xlabel(\"Истинные значения\")\n",
    "ax1.set_ylabel(\"Предсказанные значения\")\n",
    "\n",
    "\n",
    "# Диаграмма рассеивания истинных и предсказанных значений для модели после шифрования данных\n",
    "ax2.scatter(y_test, predictions_after, color=\"DarkGreen\", alpha=0.3)\n",
    "ax2.set_title(\"Model after\")\n",
    "ax2.set_xlabel(\"Истинные значения\")\n",
    "ax2.set_ylabel(\"Предсказанные значения\")\n",
    "\n",
    "plt.tight_layout()\n",
    "plt.show()\n"
   ]
  }
 ],
 "metadata": {
  "ExecuteTimeLog": [
   {
    "duration": 1308,
    "start_time": "2023-02-17T00:55:27.855Z"
   },
   {
    "duration": 149,
    "start_time": "2023-02-17T00:55:29.165Z"
   },
   {
    "duration": 13,
    "start_time": "2023-02-17T00:55:29.315Z"
   },
   {
    "duration": 21,
    "start_time": "2023-02-17T00:55:29.330Z"
   },
   {
    "duration": 11,
    "start_time": "2023-02-17T00:55:29.354Z"
   },
   {
    "duration": 27,
    "start_time": "2023-02-17T00:55:29.367Z"
   },
   {
    "duration": 3738,
    "start_time": "2023-02-17T00:55:29.395Z"
   },
   {
    "duration": 23,
    "start_time": "2023-02-17T00:55:33.135Z"
   },
   {
    "duration": 11,
    "start_time": "2023-02-17T00:55:33.160Z"
   },
   {
    "duration": 367,
    "start_time": "2023-02-17T00:55:33.173Z"
   },
   {
    "duration": 4,
    "start_time": "2023-02-17T00:55:33.542Z"
   },
   {
    "duration": 18,
    "start_time": "2023-02-17T00:55:33.548Z"
   },
   {
    "duration": 170,
    "start_time": "2023-02-17T00:55:33.569Z"
   },
   {
    "duration": 9,
    "start_time": "2023-02-17T00:55:33.742Z"
   },
   {
    "duration": 15,
    "start_time": "2023-02-17T00:55:33.753Z"
   },
   {
    "duration": 33,
    "start_time": "2023-02-17T00:55:33.770Z"
   },
   {
    "duration": 15,
    "start_time": "2023-02-17T00:55:33.804Z"
   },
   {
    "duration": 103,
    "start_time": "2023-02-17T00:55:33.837Z"
   },
   {
    "duration": 12,
    "start_time": "2023-02-17T00:55:33.942Z"
   },
   {
    "duration": 10,
    "start_time": "2023-02-17T00:55:33.956Z"
   },
   {
    "duration": 80,
    "start_time": "2023-02-17T00:55:33.968Z"
   },
   {
    "duration": 92,
    "start_time": "2023-02-17T00:55:34.050Z"
   },
   {
    "duration": 360,
    "start_time": "2023-02-17T00:55:34.144Z"
   },
   {
    "duration": 1671,
    "start_time": "2023-02-17T05:52:25.692Z"
   },
   {
    "duration": 3,
    "start_time": "2023-02-17T06:04:06.836Z"
   },
   {
    "duration": 146,
    "start_time": "2023-02-17T06:04:49.459Z"
   },
   {
    "duration": 138,
    "start_time": "2023-02-17T06:05:11.647Z"
   },
   {
    "duration": 1516,
    "start_time": "2023-02-17T06:12:38.892Z"
   },
   {
    "duration": 86,
    "start_time": "2023-02-17T06:12:40.411Z"
   },
   {
    "duration": 12,
    "start_time": "2023-02-17T06:12:40.499Z"
   },
   {
    "duration": 13,
    "start_time": "2023-02-17T06:12:40.514Z"
   },
   {
    "duration": 10,
    "start_time": "2023-02-17T06:12:40.530Z"
   },
   {
    "duration": 8,
    "start_time": "2023-02-17T06:12:40.542Z"
   },
   {
    "duration": 3793,
    "start_time": "2023-02-17T06:12:40.552Z"
   },
   {
    "duration": 20,
    "start_time": "2023-02-17T06:12:44.347Z"
   },
   {
    "duration": 10,
    "start_time": "2023-02-17T06:12:44.369Z"
   },
   {
    "duration": 381,
    "start_time": "2023-02-17T06:12:44.381Z"
   },
   {
    "duration": 4,
    "start_time": "2023-02-17T06:12:44.763Z"
   },
   {
    "duration": 30,
    "start_time": "2023-02-17T06:12:44.769Z"
   },
   {
    "duration": 113,
    "start_time": "2023-02-17T06:12:44.801Z"
   },
   {
    "duration": 26,
    "start_time": "2023-02-17T06:12:44.916Z"
   },
   {
    "duration": 50,
    "start_time": "2023-02-17T06:12:44.944Z"
   },
   {
    "duration": 23,
    "start_time": "2023-02-17T06:12:44.996Z"
   },
   {
    "duration": 48,
    "start_time": "2023-02-17T06:12:45.021Z"
   },
   {
    "duration": 137,
    "start_time": "2023-02-17T06:12:45.071Z"
   },
   {
    "duration": 31,
    "start_time": "2023-02-17T06:12:45.210Z"
   },
   {
    "duration": 10,
    "start_time": "2023-02-17T06:12:45.243Z"
   },
   {
    "duration": 43,
    "start_time": "2023-02-17T06:12:45.256Z"
   },
   {
    "duration": 92,
    "start_time": "2023-02-17T06:12:45.301Z"
   },
   {
    "duration": 443,
    "start_time": "2023-02-17T06:12:45.395Z"
   },
   {
    "duration": 4,
    "start_time": "2023-02-17T06:26:19.140Z"
   },
   {
    "duration": 3,
    "start_time": "2023-02-17T06:31:25.035Z"
   },
   {
    "duration": 114,
    "start_time": "2023-02-17T06:31:55.072Z"
   },
   {
    "duration": 4,
    "start_time": "2023-02-17T06:32:00.572Z"
   },
   {
    "duration": 4,
    "start_time": "2023-02-17T06:32:20.834Z"
   },
   {
    "duration": 758,
    "start_time": "2023-02-17T06:32:35.753Z"
   },
   {
    "duration": 619,
    "start_time": "2023-02-17T06:32:52.490Z"
   },
   {
    "duration": 576,
    "start_time": "2023-02-17T06:33:07.840Z"
   },
   {
    "duration": 3,
    "start_time": "2023-02-17T06:35:32.955Z"
   },
   {
    "duration": 3,
    "start_time": "2023-02-17T06:36:55.888Z"
   },
   {
    "duration": 5,
    "start_time": "2023-02-17T06:38:06.863Z"
   },
   {
    "duration": 6,
    "start_time": "2023-02-17T06:38:10.268Z"
   },
   {
    "duration": 45,
    "start_time": "2023-02-17T06:38:42.084Z"
   },
   {
    "duration": 8,
    "start_time": "2023-02-17T06:46:36.271Z"
   },
   {
    "duration": 3,
    "start_time": "2023-02-17T06:51:22.650Z"
   },
   {
    "duration": 12,
    "start_time": "2023-02-17T06:51:46.430Z"
   },
   {
    "duration": 11,
    "start_time": "2023-02-17T06:52:36.569Z"
   },
   {
    "duration": 14,
    "start_time": "2023-02-17T06:54:31.841Z"
   },
   {
    "duration": 7,
    "start_time": "2023-02-17T06:54:50.000Z"
   },
   {
    "duration": 13,
    "start_time": "2023-02-17T07:09:05.800Z"
   },
   {
    "duration": 5,
    "start_time": "2023-02-17T07:09:25.311Z"
   },
   {
    "duration": 7,
    "start_time": "2023-02-17T07:09:33.527Z"
   },
   {
    "duration": 3,
    "start_time": "2023-02-17T07:09:39.609Z"
   },
   {
    "duration": 13,
    "start_time": "2023-02-17T07:09:41.802Z"
   },
   {
    "duration": 8,
    "start_time": "2023-02-17T07:09:43.639Z"
   },
   {
    "duration": 10,
    "start_time": "2023-02-17T07:09:46.398Z"
   },
   {
    "duration": 11,
    "start_time": "2023-02-17T07:09:53.172Z"
   },
   {
    "duration": 1392,
    "start_time": "2023-02-17T07:10:32.515Z"
   },
   {
    "duration": 47,
    "start_time": "2023-02-17T07:10:33.909Z"
   },
   {
    "duration": 13,
    "start_time": "2023-02-17T07:10:33.958Z"
   },
   {
    "duration": 54,
    "start_time": "2023-02-17T07:10:33.974Z"
   },
   {
    "duration": 10,
    "start_time": "2023-02-17T07:10:34.030Z"
   },
   {
    "duration": 17,
    "start_time": "2023-02-17T07:10:34.041Z"
   },
   {
    "duration": 4234,
    "start_time": "2023-02-17T07:10:34.059Z"
   },
   {
    "duration": 25,
    "start_time": "2023-02-17T07:10:38.295Z"
   },
   {
    "duration": 11,
    "start_time": "2023-02-17T07:10:38.322Z"
   },
   {
    "duration": 425,
    "start_time": "2023-02-17T07:10:38.336Z"
   },
   {
    "duration": 5,
    "start_time": "2023-02-17T07:10:38.763Z"
   },
   {
    "duration": 27,
    "start_time": "2023-02-17T07:10:38.770Z"
   },
   {
    "duration": 102,
    "start_time": "2023-02-17T07:10:38.799Z"
   },
   {
    "duration": 3,
    "start_time": "2023-02-17T07:10:38.903Z"
   },
   {
    "duration": 86,
    "start_time": "2023-02-17T07:10:38.907Z"
   },
   {
    "duration": 8,
    "start_time": "2023-02-17T07:10:38.995Z"
   },
   {
    "duration": 15,
    "start_time": "2023-02-17T07:10:39.005Z"
   },
   {
    "duration": 179,
    "start_time": "2023-02-17T07:10:39.022Z"
   },
   {
    "duration": 7,
    "start_time": "2023-02-17T07:10:39.203Z"
   },
   {
    "duration": 8,
    "start_time": "2023-02-17T07:10:39.212Z"
   },
   {
    "duration": 11,
    "start_time": "2023-02-17T07:10:39.222Z"
   },
   {
    "duration": 73,
    "start_time": "2023-02-17T07:10:39.235Z"
   },
   {
    "duration": 91,
    "start_time": "2023-02-17T07:10:39.310Z"
   },
   {
    "duration": 8,
    "start_time": "2023-02-17T07:10:39.403Z"
   },
   {
    "duration": 11,
    "start_time": "2023-02-17T07:10:39.413Z"
   },
   {
    "duration": 17,
    "start_time": "2023-02-17T07:10:39.426Z"
   },
   {
    "duration": 398,
    "start_time": "2023-02-17T07:10:39.445Z"
   },
   {
    "duration": 5,
    "start_time": "2023-02-17T07:14:15.669Z"
   },
   {
    "duration": 6,
    "start_time": "2023-02-17T07:14:30.000Z"
   },
   {
    "duration": 1398,
    "start_time": "2023-02-17T07:14:49.097Z"
   },
   {
    "duration": 81,
    "start_time": "2023-02-17T07:14:50.497Z"
   },
   {
    "duration": 13,
    "start_time": "2023-02-17T07:14:50.580Z"
   },
   {
    "duration": 25,
    "start_time": "2023-02-17T07:14:50.595Z"
   },
   {
    "duration": 10,
    "start_time": "2023-02-17T07:14:50.622Z"
   },
   {
    "duration": 10,
    "start_time": "2023-02-17T07:14:50.634Z"
   },
   {
    "duration": 17,
    "start_time": "2023-02-17T07:14:50.646Z"
   },
   {
    "duration": 3876,
    "start_time": "2023-02-17T07:14:50.665Z"
   },
   {
    "duration": 27,
    "start_time": "2023-02-17T07:14:54.543Z"
   },
   {
    "duration": 12,
    "start_time": "2023-02-17T07:14:54.574Z"
   },
   {
    "duration": 397,
    "start_time": "2023-02-17T07:14:54.588Z"
   },
   {
    "duration": 5,
    "start_time": "2023-02-17T07:14:54.987Z"
   },
   {
    "duration": 28,
    "start_time": "2023-02-17T07:14:54.994Z"
   },
   {
    "duration": 188,
    "start_time": "2023-02-17T07:14:55.024Z"
   },
   {
    "duration": 28,
    "start_time": "2023-02-17T07:14:55.214Z"
   },
   {
    "duration": 49,
    "start_time": "2023-02-17T07:14:55.244Z"
   },
   {
    "duration": 16,
    "start_time": "2023-02-17T07:14:55.295Z"
   },
   {
    "duration": 38,
    "start_time": "2023-02-17T07:14:55.314Z"
   },
   {
    "duration": 139,
    "start_time": "2023-02-17T07:14:55.355Z"
   },
   {
    "duration": 22,
    "start_time": "2023-02-17T07:14:55.496Z"
   },
   {
    "duration": 19,
    "start_time": "2023-02-17T07:14:55.520Z"
   },
   {
    "duration": 10,
    "start_time": "2023-02-17T07:14:55.541Z"
   },
   {
    "duration": 51,
    "start_time": "2023-02-17T07:14:55.553Z"
   },
   {
    "duration": 92,
    "start_time": "2023-02-17T07:14:55.606Z"
   },
   {
    "duration": 18,
    "start_time": "2023-02-17T07:14:55.700Z"
   },
   {
    "duration": 22,
    "start_time": "2023-02-17T07:14:55.720Z"
   },
   {
    "duration": 29,
    "start_time": "2023-02-17T07:14:55.744Z"
   },
   {
    "duration": 420,
    "start_time": "2023-02-17T07:14:55.776Z"
   },
   {
    "duration": 3,
    "start_time": "2023-02-17T07:15:27.094Z"
   },
   {
    "duration": 13,
    "start_time": "2023-02-17T08:13:11.809Z"
   },
   {
    "duration": 10,
    "start_time": "2023-02-17T08:13:43.861Z"
   },
   {
    "duration": 12,
    "start_time": "2023-02-17T08:15:17.660Z"
   },
   {
    "duration": 13,
    "start_time": "2023-02-17T08:15:59.722Z"
   },
   {
    "duration": 12,
    "start_time": "2023-02-17T08:16:44.740Z"
   },
   {
    "duration": 1410,
    "start_time": "2023-02-17T08:19:40.058Z"
   },
   {
    "duration": 141,
    "start_time": "2023-02-17T08:19:41.470Z"
   },
   {
    "duration": 12,
    "start_time": "2023-02-17T08:19:41.613Z"
   },
   {
    "duration": 12,
    "start_time": "2023-02-17T08:19:41.628Z"
   },
   {
    "duration": 7,
    "start_time": "2023-02-17T08:19:41.642Z"
   },
   {
    "duration": 13,
    "start_time": "2023-02-17T08:19:41.651Z"
   },
   {
    "duration": 3704,
    "start_time": "2023-02-17T08:19:41.665Z"
   },
   {
    "duration": 24,
    "start_time": "2023-02-17T08:19:45.371Z"
   },
   {
    "duration": 9,
    "start_time": "2023-02-17T08:19:45.397Z"
   },
   {
    "duration": 361,
    "start_time": "2023-02-17T08:19:45.409Z"
   },
   {
    "duration": 4,
    "start_time": "2023-02-17T08:19:45.771Z"
   },
   {
    "duration": 19,
    "start_time": "2023-02-17T08:19:45.777Z"
   },
   {
    "duration": 102,
    "start_time": "2023-02-17T08:19:45.798Z"
   },
   {
    "duration": 119,
    "start_time": "2023-02-17T08:19:45.901Z"
   },
   {
    "duration": 20,
    "start_time": "2023-02-17T08:19:46.022Z"
   },
   {
    "duration": 15,
    "start_time": "2023-02-17T08:19:46.044Z"
   },
   {
    "duration": 20,
    "start_time": "2023-02-17T08:19:46.061Z"
   },
   {
    "duration": 140,
    "start_time": "2023-02-17T08:19:46.083Z"
   },
   {
    "duration": 6,
    "start_time": "2023-02-17T08:19:46.292Z"
   },
   {
    "duration": 13,
    "start_time": "2023-02-17T08:19:46.299Z"
   },
   {
    "duration": 14,
    "start_time": "2023-02-17T08:19:46.314Z"
   },
   {
    "duration": 13,
    "start_time": "2023-02-17T08:19:46.329Z"
   },
   {
    "duration": 10,
    "start_time": "2023-02-17T08:19:46.392Z"
   },
   {
    "duration": 91,
    "start_time": "2023-02-17T08:19:46.403Z"
   },
   {
    "duration": 14,
    "start_time": "2023-02-17T08:19:46.496Z"
   },
   {
    "duration": 12,
    "start_time": "2023-02-17T08:19:46.511Z"
   },
   {
    "duration": 393,
    "start_time": "2023-02-17T08:19:46.524Z"
   },
   {
    "duration": 1664,
    "start_time": "2023-02-18T06:02:21.484Z"
   },
   {
    "duration": 385,
    "start_time": "2023-02-18T06:02:23.150Z"
   },
   {
    "duration": 13,
    "start_time": "2023-02-18T06:02:23.536Z"
   },
   {
    "duration": 11,
    "start_time": "2023-02-18T06:02:23.551Z"
   },
   {
    "duration": 25,
    "start_time": "2023-02-18T06:02:23.564Z"
   },
   {
    "duration": 5,
    "start_time": "2023-02-18T06:02:23.591Z"
   },
   {
    "duration": 3695,
    "start_time": "2023-02-18T06:02:23.598Z"
   },
   {
    "duration": 23,
    "start_time": "2023-02-18T06:02:27.294Z"
   },
   {
    "duration": 10,
    "start_time": "2023-02-18T06:02:27.319Z"
   },
   {
    "duration": 353,
    "start_time": "2023-02-18T06:02:27.332Z"
   },
   {
    "duration": 4,
    "start_time": "2023-02-18T06:02:27.686Z"
   },
   {
    "duration": 100,
    "start_time": "2023-02-18T06:02:27.703Z"
   },
   {
    "duration": 106,
    "start_time": "2023-02-18T06:02:27.805Z"
   },
   {
    "duration": 7,
    "start_time": "2023-02-18T06:02:27.913Z"
   },
   {
    "duration": 9,
    "start_time": "2023-02-18T06:02:27.922Z"
   },
   {
    "duration": 10,
    "start_time": "2023-02-18T06:02:27.932Z"
   },
   {
    "duration": 63,
    "start_time": "2023-02-18T06:02:27.944Z"
   },
   {
    "duration": 96,
    "start_time": "2023-02-18T06:02:28.009Z"
   },
   {
    "duration": 9,
    "start_time": "2023-02-18T06:02:28.107Z"
   },
   {
    "duration": 3,
    "start_time": "2023-02-18T06:02:28.118Z"
   },
   {
    "duration": 82,
    "start_time": "2023-02-18T06:02:28.122Z"
   },
   {
    "duration": 5,
    "start_time": "2023-02-18T06:02:28.206Z"
   },
   {
    "duration": 11,
    "start_time": "2023-02-18T06:02:28.213Z"
   },
   {
    "duration": 10,
    "start_time": "2023-02-18T06:02:28.304Z"
   },
   {
    "duration": 93,
    "start_time": "2023-02-18T06:02:28.316Z"
   },
   {
    "duration": 12,
    "start_time": "2023-02-18T06:02:28.411Z"
   },
   {
    "duration": 402,
    "start_time": "2023-02-18T06:02:28.425Z"
   },
   {
    "duration": 1623,
    "start_time": "2023-02-18T11:00:39.986Z"
   },
   {
    "duration": 69,
    "start_time": "2023-02-18T11:01:56.427Z"
   },
   {
    "duration": 36,
    "start_time": "2023-02-18T11:02:06.821Z"
   },
   {
    "duration": 61,
    "start_time": "2023-02-18T11:02:13.683Z"
   },
   {
    "duration": 151,
    "start_time": "2023-02-18T11:03:33.694Z"
   },
   {
    "duration": 1616,
    "start_time": "2023-02-19T08:03:59.937Z"
   },
   {
    "duration": 325,
    "start_time": "2023-02-19T08:04:01.555Z"
   },
   {
    "duration": 42,
    "start_time": "2023-02-19T08:04:01.881Z"
   },
   {
    "duration": 12,
    "start_time": "2023-02-19T08:04:01.925Z"
   },
   {
    "duration": 16,
    "start_time": "2023-02-19T08:04:01.940Z"
   },
   {
    "duration": 9,
    "start_time": "2023-02-19T08:04:01.957Z"
   },
   {
    "duration": 5,
    "start_time": "2023-02-19T08:04:01.967Z"
   },
   {
    "duration": 3563,
    "start_time": "2023-02-19T08:04:01.974Z"
   },
   {
    "duration": 23,
    "start_time": "2023-02-19T08:04:05.538Z"
   },
   {
    "duration": 11,
    "start_time": "2023-02-19T08:04:05.563Z"
   },
   {
    "duration": 358,
    "start_time": "2023-02-19T08:04:05.575Z"
   },
   {
    "duration": 4,
    "start_time": "2023-02-19T08:04:05.935Z"
   },
   {
    "duration": 14,
    "start_time": "2023-02-19T08:04:05.948Z"
   },
   {
    "duration": 87,
    "start_time": "2023-02-19T08:04:05.965Z"
   },
   {
    "duration": 112,
    "start_time": "2023-02-19T08:04:06.053Z"
   },
   {
    "duration": 8,
    "start_time": "2023-02-19T08:04:06.167Z"
   },
   {
    "duration": 9,
    "start_time": "2023-02-19T08:04:06.177Z"
   },
   {
    "duration": 8,
    "start_time": "2023-02-19T08:04:06.187Z"
   },
   {
    "duration": 156,
    "start_time": "2023-02-19T08:04:06.197Z"
   },
   {
    "duration": 7,
    "start_time": "2023-02-19T08:04:06.354Z"
   },
   {
    "duration": 5,
    "start_time": "2023-02-19T08:04:06.363Z"
   },
   {
    "duration": 7,
    "start_time": "2023-02-19T08:04:06.369Z"
   },
   {
    "duration": 12,
    "start_time": "2023-02-19T08:04:06.377Z"
   },
   {
    "duration": 13,
    "start_time": "2023-02-19T08:04:06.450Z"
   },
   {
    "duration": 86,
    "start_time": "2023-02-19T08:04:06.465Z"
   },
   {
    "duration": 11,
    "start_time": "2023-02-19T08:04:06.552Z"
   },
   {
    "duration": 14,
    "start_time": "2023-02-19T08:04:06.565Z"
   },
   {
    "duration": 408,
    "start_time": "2023-02-19T08:04:06.580Z"
   }
  ],
  "kernelspec": {
   "display_name": "Python 3 (ipykernel)",
   "language": "python",
   "name": "python3"
  },
  "language_info": {
   "codemirror_mode": {
    "name": "ipython",
    "version": 3
   },
   "file_extension": ".py",
   "mimetype": "text/x-python",
   "name": "python",
   "nbconvert_exporter": "python",
   "pygments_lexer": "ipython3",
   "version": "3.9.5"
  },
  "toc": {
   "base_numbering": 1,
   "nav_menu": {},
   "number_sections": true,
   "sideBar": true,
   "skip_h1_title": true,
   "title_cell": "Table of Contents",
   "title_sidebar": "Contents",
   "toc_cell": false,
   "toc_position": {},
   "toc_section_display": true,
   "toc_window_display": false
  },
  "vscode": {
   "interpreter": {
    "hash": "a077222d77dfe082b8f1dd562ad70e458ac2ab76993a0b248ab0476e32e9e8dd"
   }
  }
 },
 "nbformat": 4,
 "nbformat_minor": 2
}

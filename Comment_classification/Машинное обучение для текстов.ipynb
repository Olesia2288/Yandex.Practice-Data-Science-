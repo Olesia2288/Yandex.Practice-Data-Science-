{
 "cells": [
  {
   "cell_type": "code",
   "execution_count": 1,
   "metadata": {},
   "outputs": [
    {
     "name": "stdout",
     "output_type": "stream",
     "text": [
      "Requirement already satisfied: lightgbm in c:\\users\\user\\anaconda3\\lib\\site-packages (3.3.4)\n",
      "Requirement already satisfied: numpy in c:\\users\\user\\anaconda3\\lib\\site-packages (from lightgbm) (1.21.5)\n",
      "Requirement already satisfied: wheel in c:\\users\\user\\anaconda3\\lib\\site-packages (from lightgbm) (0.37.1)\n",
      "Requirement already satisfied: scikit-learn!=0.22.0 in c:\\users\\user\\anaconda3\\lib\\site-packages (from lightgbm) (1.1.3)\n",
      "Requirement already satisfied: scipy in c:\\users\\user\\anaconda3\\lib\\site-packages (from lightgbm) (1.9.1)\n",
      "Requirement already satisfied: threadpoolctl>=2.0.0 in c:\\users\\user\\anaconda3\\lib\\site-packages (from scikit-learn!=0.22.0->lightgbm) (2.2.0)\n",
      "Requirement already satisfied: joblib>=1.0.0 in c:\\users\\user\\anaconda3\\lib\\site-packages (from scikit-learn!=0.22.0->lightgbm) (1.2.0)\n"
     ]
    }
   ],
   "source": [
    "! pip install lightgbm"
   ]
  },
  {
   "cell_type": "code",
   "execution_count": 2,
   "metadata": {},
   "outputs": [
    {
     "name": "stdout",
     "output_type": "stream",
     "text": [
      "Requirement already satisfied: catboost in c:\\users\\user\\anaconda3\\lib\\site-packages (1.1.1)\n",
      "Requirement already satisfied: pandas>=0.24.0 in c:\\users\\user\\anaconda3\\lib\\site-packages (from catboost) (1.4.4)\n",
      "Requirement already satisfied: scipy in c:\\users\\user\\anaconda3\\lib\\site-packages (from catboost) (1.9.1)\n",
      "Requirement already satisfied: numpy>=1.16.0 in c:\\users\\user\\anaconda3\\lib\\site-packages (from catboost) (1.21.5)\n",
      "Requirement already satisfied: plotly in c:\\users\\user\\anaconda3\\lib\\site-packages (from catboost) (5.9.0)\n",
      "Requirement already satisfied: six in c:\\users\\user\\anaconda3\\lib\\site-packages (from catboost) (1.16.0)\n",
      "Requirement already satisfied: graphviz in c:\\users\\user\\anaconda3\\lib\\site-packages (from catboost) (0.20.1)\n",
      "Requirement already satisfied: matplotlib in c:\\users\\user\\anaconda3\\lib\\site-packages (from catboost) (3.5.2)\n",
      "Requirement already satisfied: pytz>=2020.1 in c:\\users\\user\\anaconda3\\lib\\site-packages (from pandas>=0.24.0->catboost) (2022.1)\n",
      "Requirement already satisfied: python-dateutil>=2.8.1 in c:\\users\\user\\anaconda3\\lib\\site-packages (from pandas>=0.24.0->catboost) (2.8.2)\n",
      "Requirement already satisfied: pillow>=6.2.0 in c:\\users\\user\\anaconda3\\lib\\site-packages (from matplotlib->catboost) (9.2.0)\n",
      "Requirement already satisfied: cycler>=0.10 in c:\\users\\user\\anaconda3\\lib\\site-packages (from matplotlib->catboost) (0.11.0)\n",
      "Requirement already satisfied: fonttools>=4.22.0 in c:\\users\\user\\anaconda3\\lib\\site-packages (from matplotlib->catboost) (4.25.0)\n",
      "Requirement already satisfied: packaging>=20.0 in c:\\users\\user\\anaconda3\\lib\\site-packages (from matplotlib->catboost) (21.3)\n",
      "Requirement already satisfied: kiwisolver>=1.0.1 in c:\\users\\user\\anaconda3\\lib\\site-packages (from matplotlib->catboost) (1.4.2)\n",
      "Requirement already satisfied: pyparsing>=2.2.1 in c:\\users\\user\\anaconda3\\lib\\site-packages (from matplotlib->catboost) (3.0.9)\n",
      "Requirement already satisfied: tenacity>=6.2.0 in c:\\users\\user\\anaconda3\\lib\\site-packages (from plotly->catboost) (8.0.1)\n"
     ]
    }
   ],
   "source": [
    "! pip install catboost"
   ]
  },
  {
   "cell_type": "code",
   "execution_count": 3,
   "metadata": {},
   "outputs": [
    {
     "name": "stdout",
     "output_type": "stream",
     "text": [
      "Requirement already satisfied: optuna in c:\\users\\user\\anaconda3\\lib\\site-packages (3.1.0)\n",
      "Requirement already satisfied: tqdm in c:\\users\\user\\anaconda3\\lib\\site-packages (from optuna) (4.64.1)\n",
      "Requirement already satisfied: PyYAML in c:\\users\\user\\anaconda3\\lib\\site-packages (from optuna) (6.0)\n",
      "Requirement already satisfied: colorlog in c:\\users\\user\\anaconda3\\lib\\site-packages (from optuna) (6.7.0)\n",
      "Requirement already satisfied: sqlalchemy>=1.3.0 in c:\\users\\user\\anaconda3\\lib\\site-packages (from optuna) (1.4.39)\n",
      "Requirement already satisfied: alembic>=1.5.0 in c:\\users\\user\\anaconda3\\lib\\site-packages (from optuna) (1.9.3)\n",
      "Requirement already satisfied: numpy in c:\\users\\user\\anaconda3\\lib\\site-packages (from optuna) (1.21.5)\n",
      "Requirement already satisfied: cmaes>=0.9.1 in c:\\users\\user\\anaconda3\\lib\\site-packages (from optuna) (0.9.1)\n",
      "Requirement already satisfied: packaging>=20.0 in c:\\users\\user\\anaconda3\\lib\\site-packages (from optuna) (21.3)\n",
      "Requirement already satisfied: Mako in c:\\users\\user\\anaconda3\\lib\\site-packages (from alembic>=1.5.0->optuna) (1.2.4)\n",
      "Requirement already satisfied: pyparsing!=3.0.5,>=2.0.2 in c:\\users\\user\\anaconda3\\lib\\site-packages (from packaging>=20.0->optuna) (3.0.9)\n",
      "Requirement already satisfied: greenlet!=0.4.17 in c:\\users\\user\\anaconda3\\lib\\site-packages (from sqlalchemy>=1.3.0->optuna) (1.1.1)\n",
      "Requirement already satisfied: colorama in c:\\users\\user\\anaconda3\\lib\\site-packages (from colorlog->optuna) (0.4.6)\n",
      "Requirement already satisfied: MarkupSafe>=0.9.2 in c:\\users\\user\\anaconda3\\lib\\site-packages (from Mako->alembic>=1.5.0->optuna) (2.0.1)\n"
     ]
    }
   ],
   "source": [
    "! pip install optuna"
   ]
  },
  {
   "cell_type": "code",
   "execution_count": 4,
   "metadata": {},
   "outputs": [],
   "source": [
    "import pandas as pd\n",
    "import seaborn as sns\n",
    "import matplotlib.pyplot as plt\n",
    "import numpy as np\n",
    "import re\n",
    "import spacy\n",
    "import string\n",
    "import nltk\n",
    "from nltk.corpus import stopwords\n",
    "import dask.dataframe as dd\n",
    "\n",
    "from sklearn.model_selection import train_test_split\n",
    "\n",
    "import optuna\n",
    "\n",
    "from sklearn.metrics import confusion_matrix, f1_score, classification_report\n",
    "from sklearn.linear_model import LogisticRegression\n",
    "\n",
    "from sklearn.model_selection import cross_val_score\n",
    "\n",
    "import warnings \n",
    "warnings.filterwarnings(\"ignore\")\n",
    "\n",
    "from sklearn.feature_extraction.text import CountVectorizer, TfidfTransformer\n",
    "\n",
    "from lightgbm import LGBMClassifier\n",
    "\n",
    "from catboost import CatBoostClassifier\n",
    "from sklearn.pipeline import Pipeline"
   ]
  },
  {
   "cell_type": "markdown",
   "metadata": {},
   "source": [
    "# Загрузка данных"
   ]
  },
  {
   "cell_type": "code",
   "execution_count": 5,
   "metadata": {},
   "outputs": [],
   "source": [
    "df = pd.read_csv('datasets/toxic_comments.csv', index_col=0)"
   ]
  },
  {
   "cell_type": "code",
   "execution_count": 6,
   "metadata": {},
   "outputs": [
    {
     "data": {
      "text/html": [
       "<div>\n",
       "<style scoped>\n",
       "    .dataframe tbody tr th:only-of-type {\n",
       "        vertical-align: middle;\n",
       "    }\n",
       "\n",
       "    .dataframe tbody tr th {\n",
       "        vertical-align: top;\n",
       "    }\n",
       "\n",
       "    .dataframe thead th {\n",
       "        text-align: right;\n",
       "    }\n",
       "</style>\n",
       "<table border=\"1\" class=\"dataframe\">\n",
       "  <thead>\n",
       "    <tr style=\"text-align: right;\">\n",
       "      <th></th>\n",
       "      <th>text</th>\n",
       "      <th>toxic</th>\n",
       "    </tr>\n",
       "  </thead>\n",
       "  <tbody>\n",
       "    <tr>\n",
       "      <th>0</th>\n",
       "      <td>Explanation\\nWhy the edits made under my usern...</td>\n",
       "      <td>0</td>\n",
       "    </tr>\n",
       "    <tr>\n",
       "      <th>1</th>\n",
       "      <td>D'aww! He matches this background colour I'm s...</td>\n",
       "      <td>0</td>\n",
       "    </tr>\n",
       "    <tr>\n",
       "      <th>2</th>\n",
       "      <td>Hey man, I'm really not trying to edit war. It...</td>\n",
       "      <td>0</td>\n",
       "    </tr>\n",
       "    <tr>\n",
       "      <th>3</th>\n",
       "      <td>\"\\nMore\\nI can't make any real suggestions on ...</td>\n",
       "      <td>0</td>\n",
       "    </tr>\n",
       "    <tr>\n",
       "      <th>4</th>\n",
       "      <td>You, sir, are my hero. Any chance you remember...</td>\n",
       "      <td>0</td>\n",
       "    </tr>\n",
       "    <tr>\n",
       "      <th>5</th>\n",
       "      <td>\"\\n\\nCongratulations from me as well, use the ...</td>\n",
       "      <td>0</td>\n",
       "    </tr>\n",
       "    <tr>\n",
       "      <th>6</th>\n",
       "      <td>COCKSUCKER BEFORE YOU PISS AROUND ON MY WORK</td>\n",
       "      <td>1</td>\n",
       "    </tr>\n",
       "    <tr>\n",
       "      <th>7</th>\n",
       "      <td>Your vandalism to the Matt Shirvington article...</td>\n",
       "      <td>0</td>\n",
       "    </tr>\n",
       "    <tr>\n",
       "      <th>8</th>\n",
       "      <td>Sorry if the word 'nonsense' was offensive to ...</td>\n",
       "      <td>0</td>\n",
       "    </tr>\n",
       "    <tr>\n",
       "      <th>9</th>\n",
       "      <td>alignment on this subject and which are contra...</td>\n",
       "      <td>0</td>\n",
       "    </tr>\n",
       "  </tbody>\n",
       "</table>\n",
       "</div>"
      ],
      "text/plain": [
       "                                                text  toxic\n",
       "0  Explanation\\nWhy the edits made under my usern...      0\n",
       "1  D'aww! He matches this background colour I'm s...      0\n",
       "2  Hey man, I'm really not trying to edit war. It...      0\n",
       "3  \"\\nMore\\nI can't make any real suggestions on ...      0\n",
       "4  You, sir, are my hero. Any chance you remember...      0\n",
       "5  \"\\n\\nCongratulations from me as well, use the ...      0\n",
       "6       COCKSUCKER BEFORE YOU PISS AROUND ON MY WORK      1\n",
       "7  Your vandalism to the Matt Shirvington article...      0\n",
       "8  Sorry if the word 'nonsense' was offensive to ...      0\n",
       "9  alignment on this subject and which are contra...      0"
      ]
     },
     "execution_count": 6,
     "metadata": {},
     "output_type": "execute_result"
    }
   ],
   "source": [
    "df.head(10)"
   ]
  },
  {
   "cell_type": "code",
   "execution_count": 7,
   "metadata": {},
   "outputs": [
    {
     "data": {
      "text/plain": [
       "text     0.0\n",
       "toxic    0.0\n",
       "dtype: float64"
      ]
     },
     "execution_count": 7,
     "metadata": {},
     "output_type": "execute_result"
    }
   ],
   "source": [
    "df.isna().mean()"
   ]
  },
  {
   "cell_type": "code",
   "execution_count": 8,
   "metadata": {},
   "outputs": [
    {
     "data": {
      "text/plain": [
       "0"
      ]
     },
     "execution_count": 8,
     "metadata": {},
     "output_type": "execute_result"
    }
   ],
   "source": [
    "df.duplicated().sum()"
   ]
  },
  {
   "cell_type": "code",
   "execution_count": 9,
   "metadata": {},
   "outputs": [
    {
     "name": "stdout",
     "output_type": "stream",
     "text": [
      "<class 'pandas.core.frame.DataFrame'>\n",
      "Int64Index: 159292 entries, 0 to 159450\n",
      "Data columns (total 2 columns):\n",
      " #   Column  Non-Null Count   Dtype \n",
      "---  ------  --------------   ----- \n",
      " 0   text    159292 non-null  object\n",
      " 1   toxic   159292 non-null  int64 \n",
      "dtypes: int64(1), object(1)\n",
      "memory usage: 3.6+ MB\n"
     ]
    }
   ],
   "source": [
    "df.info()"
   ]
  },
  {
   "cell_type": "markdown",
   "metadata": {},
   "source": [
    "Вывод: всего 159292 строк с комментариями, пропусков и дубликатов в датасете нет, он готов к предобработке."
   ]
  },
  {
   "cell_type": "markdown",
   "metadata": {},
   "source": [
    "# Предообработка данных"
   ]
  },
  {
   "cell_type": "markdown",
   "metadata": {},
   "source": [
    "Лемматризируем текст (приведем слова к начальной форме) с помощью библиотеки spaCy:"
   ]
  },
  {
   "cell_type": "code",
   "execution_count": 10,
   "metadata": {},
   "outputs": [],
   "source": [
    "nlp = spacy.load('en_core_web_sm', disable=['parser', 'ner']) #создаем лемматизатор для слов на английском"
   ]
  },
  {
   "cell_type": "code",
   "execution_count": 11,
   "metadata": {},
   "outputs": [
    {
     "name": "stdout",
     "output_type": "stream",
     "text": [
      "Wall time: 13min 58s\n"
     ]
    }
   ],
   "source": [
    "df = dd.from_pandas(df, npartitions=4)  # создаем Dask DataFrame\n",
    "# пишем функцию и вместо apply() будем использовать map()\n",
    "def lemmatize_text(text):\n",
    "    document = nlp(text)\n",
    "    lemmas = [token.lemma_ for token in document]\n",
    "    return ' '.join(lemmas)\n",
    "\n",
    "%time df['lemmatized_text'] = df['text'].map(lemmatize_text, meta=('lemmatized_text', 'str')).compute()  "
   ]
  },
  {
   "cell_type": "code",
   "execution_count": 12,
   "metadata": {},
   "outputs": [],
   "source": [
    "df = df.compute()  #вернет файл в формат pandas"
   ]
  },
  {
   "cell_type": "markdown",
   "metadata": {},
   "source": [
    "- с помощью этого списка уберем слова, которые чаще всего повторяются:"
   ]
  },
  {
   "cell_type": "code",
   "execution_count": 13,
   "metadata": {},
   "outputs": [
    {
     "name": "stderr",
     "output_type": "stream",
     "text": [
      "[nltk_data] Downloading package stopwords to\n",
      "[nltk_data]     C:\\Users\\user\\AppData\\Roaming\\nltk_data...\n",
      "[nltk_data]   Package stopwords is already up-to-date!\n"
     ]
    }
   ],
   "source": [
    "nltk.download('stopwords')\n",
    "stop_words = nltk.corpus.stopwords.words('english')"
   ]
  },
  {
   "cell_type": "code",
   "execution_count": 14,
   "metadata": {},
   "outputs": [
    {
     "data": {
      "text/plain": [
       "179"
      ]
     },
     "execution_count": 14,
     "metadata": {},
     "output_type": "execute_result"
    }
   ],
   "source": [
    "len(stop_words) #в списке 179 слов"
   ]
  },
  {
   "cell_type": "markdown",
   "metadata": {},
   "source": [
    "Текст приведен к начальной форме, но в нем все еще много лишних элементов. Очистим текст от лишних символов, дат и символов:"
   ]
  },
  {
   "cell_type": "markdown",
   "metadata": {},
   "source": [
    "- если вдруг в тексте есть даты, уберем их с помощью след. списка:"
   ]
  },
  {
   "cell_type": "code",
   "execution_count": 15,
   "metadata": {},
   "outputs": [],
   "source": [
    "dates = [str(x) for x in np.arange(1900,2022)] "
   ]
  },
  {
   "cell_type": "markdown",
   "metadata": {},
   "source": [
    "- еще необходимо создать токенезатор, который разобьет предложения на токены:"
   ]
  },
  {
   "cell_type": "code",
   "execution_count": 16,
   "metadata": {},
   "outputs": [],
   "source": [
    "word_tokenizer = nltk.WordPunctTokenizer() #создали токенезатор"
   ]
  },
  {
   "cell_type": "markdown",
   "metadata": {},
   "source": [
    "Все готово для создания функции очистки текста: "
   ]
  },
  {
   "cell_type": "code",
   "execution_count": 17,
   "metadata": {},
   "outputs": [],
   "source": [
    "def process_data(row):\n",
    "    text_lower = row.lower() #приводим текст к нижнему регистру\n",
    "    text_lower = re.sub('[^a-z]', ' ', text_lower) # убираем символы\n",
    "    tokens = word_tokenizer.tokenize(text_lower) #токенезируем текст\n",
    "    tokens = [word for word in tokens if (word not in string.punctuation and word not in stop_words and word not in dates )] \n",
    "    # удаляем все слова, если они входят в стоп список или в пунктуацию, или в список дат (string.punctuation - пунктуация)\n",
    "    return ' '.join(tokens)"
   ]
  },
  {
   "cell_type": "code",
   "execution_count": 18,
   "metadata": {},
   "outputs": [],
   "source": [
    "df['clean_text'] = df['lemmatized_text'].apply(process_data)"
   ]
  },
  {
   "cell_type": "code",
   "execution_count": 19,
   "metadata": {},
   "outputs": [],
   "source": [
    "df.drop('lemmatized_text', axis=1, inplace=True)"
   ]
  },
  {
   "cell_type": "code",
   "execution_count": 20,
   "metadata": {},
   "outputs": [
    {
     "data": {
      "text/html": [
       "<div>\n",
       "<style scoped>\n",
       "    .dataframe tbody tr th:only-of-type {\n",
       "        vertical-align: middle;\n",
       "    }\n",
       "\n",
       "    .dataframe tbody tr th {\n",
       "        vertical-align: top;\n",
       "    }\n",
       "\n",
       "    .dataframe thead th {\n",
       "        text-align: right;\n",
       "    }\n",
       "</style>\n",
       "<table border=\"1\" class=\"dataframe\">\n",
       "  <thead>\n",
       "    <tr style=\"text-align: right;\">\n",
       "      <th></th>\n",
       "      <th>text</th>\n",
       "      <th>toxic</th>\n",
       "      <th>clean_text</th>\n",
       "    </tr>\n",
       "  </thead>\n",
       "  <tbody>\n",
       "    <tr>\n",
       "      <th>102417</th>\n",
       "      <td>\"\\n\\nThanks?=\\nI am an African American curren...</td>\n",
       "      <td>0</td>\n",
       "      <td>thanks african american currently reside outsi...</td>\n",
       "    </tr>\n",
       "    <tr>\n",
       "      <th>126972</th>\n",
       "      <td>Is this really important??? \\n\\nOn the July 14...</td>\n",
       "      <td>0</td>\n",
       "      <td>really important july episode raw marella defe...</td>\n",
       "    </tr>\n",
       "    <tr>\n",
       "      <th>112071</th>\n",
       "      <td>\"\\n\\n after further investigation, I am not su...</td>\n",
       "      <td>0</td>\n",
       "      <td>investigation sure inappropriate content know ...</td>\n",
       "    </tr>\n",
       "    <tr>\n",
       "      <th>125945</th>\n",
       "      <td>Extraordinary life \\n\\nhttp://www.sitnews.us/J...</td>\n",
       "      <td>0</td>\n",
       "      <td>extraordinary life http www sitnews us juneall...</td>\n",
       "    </tr>\n",
       "    <tr>\n",
       "      <th>150688</th>\n",
       "      <td>\"\\n\\n Dingley. \\n\\nJust to put you in the pict...</td>\n",
       "      <td>1</td>\n",
       "      <td>dingley put picture trident tone nothing unusu...</td>\n",
       "    </tr>\n",
       "    <tr>\n",
       "      <th>40765</th>\n",
       "      <td>\"\\n The link for this article is now http://ww...</td>\n",
       "      <td>0</td>\n",
       "      <td>link article http www medialifemagazine com ar...</td>\n",
       "    </tr>\n",
       "    <tr>\n",
       "      <th>7067</th>\n",
       "      <td>23:34, 22 Jun 2005 (UTC)</td>\n",
       "      <td>0</td>\n",
       "      <td>jun utc</td>\n",
       "    </tr>\n",
       "    <tr>\n",
       "      <th>55421</th>\n",
       "      <td>Sam Songo Living \\n\\nHello. I noticed that you...</td>\n",
       "      <td>0</td>\n",
       "      <td>sam songo living hello notice categorize sam s...</td>\n",
       "    </tr>\n",
       "    <tr>\n",
       "      <th>99224</th>\n",
       "      <td>\"\\nWP:NPOV does not say what you think it says...</td>\n",
       "      <td>0</td>\n",
       "      <td>wp npov say think say quote attribute choose r...</td>\n",
       "    </tr>\n",
       "    <tr>\n",
       "      <th>112721</th>\n",
       "      <td>the serious business that is</td>\n",
       "      <td>0</td>\n",
       "      <td>serious business</td>\n",
       "    </tr>\n",
       "  </tbody>\n",
       "</table>\n",
       "</div>"
      ],
      "text/plain": [
       "                                                     text  toxic  \\\n",
       "102417  \"\\n\\nThanks?=\\nI am an African American curren...      0   \n",
       "126972  Is this really important??? \\n\\nOn the July 14...      0   \n",
       "112071  \"\\n\\n after further investigation, I am not su...      0   \n",
       "125945  Extraordinary life \\n\\nhttp://www.sitnews.us/J...      0   \n",
       "150688  \"\\n\\n Dingley. \\n\\nJust to put you in the pict...      1   \n",
       "40765   \"\\n The link for this article is now http://ww...      0   \n",
       "7067                             23:34, 22 Jun 2005 (UTC)      0   \n",
       "55421   Sam Songo Living \\n\\nHello. I noticed that you...      0   \n",
       "99224   \"\\nWP:NPOV does not say what you think it says...      0   \n",
       "112721                       the serious business that is      0   \n",
       "\n",
       "                                               clean_text  \n",
       "102417  thanks african american currently reside outsi...  \n",
       "126972  really important july episode raw marella defe...  \n",
       "112071  investigation sure inappropriate content know ...  \n",
       "125945  extraordinary life http www sitnews us juneall...  \n",
       "150688  dingley put picture trident tone nothing unusu...  \n",
       "40765   link article http www medialifemagazine com ar...  \n",
       "7067                                              jun utc  \n",
       "55421   sam songo living hello notice categorize sam s...  \n",
       "99224   wp npov say think say quote attribute choose r...  \n",
       "112721                                   serious business  "
      ]
     },
     "execution_count": 20,
     "metadata": {},
     "output_type": "execute_result"
    }
   ],
   "source": [
    "df.sample(10)"
   ]
  },
  {
   "cell_type": "markdown",
   "metadata": {},
   "source": [
    "# Формирование датасета"
   ]
  },
  {
   "cell_type": "code",
   "execution_count": 21,
   "metadata": {},
   "outputs": [],
   "source": [
    "X = df['clean_text']"
   ]
  },
  {
   "cell_type": "code",
   "execution_count": 22,
   "metadata": {},
   "outputs": [],
   "source": [
    "y = df['toxic']"
   ]
  },
  {
   "cell_type": "code",
   "execution_count": 23,
   "metadata": {},
   "outputs": [
    {
     "data": {
      "image/png": "[encoded data removed]",
      "text/plain": [
       "<Figure size 640x480 with 1 Axes>"
      ]
     },
     "metadata": {},
     "output_type": "display_data"
    }
   ],
   "source": [
    "ax = sns.countplot(x='toxic', data=df)\n",
    "\n",
    "total = len(df['toxic'])\n",
    "for p in ax.patches:\n",
    "    percentage = '{:.1f}%'.format(100 * p.get_height()/total)\n",
    "    x = p.get_x() + p.get_width() / 2 - 0.1\n",
    "    e = p.get_y() + p.get_height() \n",
    "    ax.annotate(percentage, (x, e))\n",
    "\n",
    "plt.show()"
   ]
  },
  {
   "cell_type": "code",
   "execution_count": 24,
   "metadata": {},
   "outputs": [
    {
     "data": {
      "text/plain": [
       "0    143106\n",
       "1     16186\n",
       "Name: toxic, dtype: int64"
      ]
     },
     "execution_count": 24,
     "metadata": {},
     "output_type": "execute_result"
    }
   ],
   "source": [
    "y.value_counts()"
   ]
  },
  {
   "cell_type": "markdown",
   "metadata": {},
   "source": [
    "Значительный дисбаланс классов, токсичных озывов - 10,2%. Есть несколько методов устранить дисбаланс, но попробуем для начала получить оценку модели без исскуственной манипуляции над данными."
   ]
  },
  {
   "cell_type": "markdown",
   "metadata": {},
   "source": [
    "Разделим выборки на обучающую и тестовую:"
   ]
  },
  {
   "cell_type": "code",
   "execution_count": 25,
   "metadata": {},
   "outputs": [],
   "source": [
    "X_train, X_test, y_train, y_test = train_test_split(df['clean_text'], y, test_size=0.25, random_state=42, stratify=y)"
   ]
  },
  {
   "cell_type": "markdown",
   "metadata": {},
   "source": [
    "# Моделирование и оценка"
   ]
  },
  {
   "cell_type": "markdown",
   "metadata": {},
   "source": [
    "# Логическая регрессия"
   ]
  },
  {
   "cell_type": "markdown",
   "metadata": {},
   "source": [
    "Первая модель, которую мы рассмотрим - логическая регрессия. Попробуем перебрать для нее некоторые параметры с помощью optuna. Векторизировать данные будем в контейнере трансформации Pipeline, а также применим кросс-валидацию для получения устойчивой оценки:"
   ]
  },
  {
   "cell_type": "code",
   "execution_count": 26,
   "metadata": {},
   "outputs": [],
   "source": [
    "def objective(trial):\n",
    "\n",
    "    params = {\n",
    "        'C': trial.suggest_loguniform('C', 1e-4, 1e4),\n",
    "        'max_iter': trial.suggest_int('max_iter', 100, 1000),\n",
    "        'tol': trial.suggest_loguniform('tol', 1e-5, 1e-1),\n",
    "        # Гиперпараметр tol определяет, насколько малым должно быть изменение \n",
    "        # логарифмической вероятности, чтобы можно было считать, что процесс оптимизации сошелся\n",
    "        'class_weight': trial.suggest_categorical('class_weight', ['balanced', None])\n",
    "    }\n",
    "\n",
    "    pipeline = Pipeline([\n",
    "    ('vect', CountVectorizer()),\n",
    "    ('tfidf', TfidfTransformer()),\n",
    "    ('lr',LogisticRegression(**params)),\n",
    "])   \n",
    "    cv_f1 = cross_val_score(pipeline, X_train, y_train, cv=5, scoring='f1').mean()\n",
    "    return cv_f1"
   ]
  },
  {
   "cell_type": "markdown",
   "metadata": {},
   "source": [
    "Посмотрим на лучшую оценку f1 для модели Логическая регрессия:"
   ]
  },
  {
   "cell_type": "markdown",
   "metadata": {},
   "source": [
    "Для удобства код закомментирован, а лучшие гиперпараметры сохраним ниже, на случай если модель покажет лучший результат:"
   ]
  },
  {
   "cell_type": "code",
   "execution_count": 27,
   "metadata": {},
   "outputs": [],
   "source": [
    "#study = optuna.create_study(direction='maximize')\n",
    "#study.optimize(objective, n_trials=10)"
   ]
  },
  {
   "cell_type": "code",
   "execution_count": 28,
   "metadata": {},
   "outputs": [],
   "source": [
    "#study.best_params"
   ]
  },
  {
   "cell_type": "code",
   "execution_count": 29,
   "metadata": {},
   "outputs": [],
   "source": [
    "#study.best_value"
   ]
  },
  {
   "cell_type": "markdown",
   "metadata": {},
   "source": [
    "Сохраним значение основной метрики в переменную:"
   ]
  },
  {
   "cell_type": "code",
   "execution_count": 30,
   "metadata": {},
   "outputs": [
    {
     "name": "stdout",
     "output_type": "stream",
     "text": [
      "0.7669749643813032\n"
     ]
    }
   ],
   "source": [
    "f1_lr = 0.7669749643813032\n",
    "print(f1_lr)"
   ]
  },
  {
   "cell_type": "markdown",
   "metadata": {},
   "source": [
    "Сохраним лучшие гиперпараметры: LogisticRegression(C = 57.08809740171897, max_iter =258, tol = 0.024796216134131858, \n",
    "                        class_weight = None)"
   ]
  },
  {
   "cell_type": "markdown",
   "metadata": {},
   "source": [
    "## LGBM Классификатор "
   ]
  },
  {
   "cell_type": "markdown",
   "metadata": {},
   "source": [
    "Повторим все действия для следующей модели"
   ]
  },
  {
   "cell_type": "code",
   "execution_count": 31,
   "metadata": {},
   "outputs": [],
   "source": [
    "def objective(trial):\n",
    "\n",
    "    params = {\n",
    "        'objective': 'binary',\n",
    "        'boosting_type': 'gbdt',\n",
    "        'num_leaves': trial.suggest_int('num_leaves', 10, 100),\n",
    "        'learning_rate': trial.suggest_float('learning_rate', 1e-4, 0.1, log=True),\n",
    "        #'feature_fraction': trial.suggest_float('feature_fraction', 0.1, 1.0),\n",
    "        #'bagging_fraction': trial.suggest_float('bagging_fraction', 0.1, 1.0),\n",
    "        #'min_child_samples': trial.suggest_int('min_child_samples', 5, 50),\n",
    "    }\n",
    "    pipeline = Pipeline([\n",
    "    ('vect', CountVectorizer()),\n",
    "    ('tfidf', TfidfTransformer()),\n",
    "    ('lgbm',LGBMClassifier(**params)),])   \n",
    "   \n",
    "    cv_f1 = cross_val_score(pipeline, X_train, y_train, cv=5, scoring='f1').mean()\n",
    "    return cv_f1 \n"
   ]
  },
  {
   "cell_type": "code",
   "execution_count": 32,
   "metadata": {},
   "outputs": [],
   "source": [
    "#study = optuna.create_study(direction='maximize')\n",
    "#study.optimize(objective, n_trials=10)"
   ]
  },
  {
   "cell_type": "code",
   "execution_count": 33,
   "metadata": {},
   "outputs": [],
   "source": [
    "#study.best_params"
   ]
  },
  {
   "cell_type": "code",
   "execution_count": 34,
   "metadata": {},
   "outputs": [],
   "source": [
    "#study.best_value"
   ]
  },
  {
   "cell_type": "code",
   "execution_count": 35,
   "metadata": {},
   "outputs": [],
   "source": [
    "f1_lgbm=0.7731952871396487"
   ]
  },
  {
   "cell_type": "markdown",
   "metadata": {},
   "source": [
    "Лучшие параметры: LGBMClassifier(num_leaves = 81, learning_rate = 0.09688948545713519, objective = 'binary', boosting_type='gbdt')"
   ]
  },
  {
   "cell_type": "markdown",
   "metadata": {},
   "source": [
    "## Сat Boost Классификатор"
   ]
  },
  {
   "cell_type": "markdown",
   "metadata": {},
   "source": [
    "Для этой модели изменим порядок действий:\n",
    "- перебора гиперпараметров не будет, используем базовую модель \n",
    "- векторизации так же не будет, используем функцию text_features и просто передадим текст в модель."
   ]
  },
  {
   "cell_type": "code",
   "execution_count": 36,
   "metadata": {},
   "outputs": [],
   "source": [
    "# пределим обучающую выборку и чать данных для теста и валидации\n",
    "train_df = df.sample(frac=0.75, random_state=42).copy()\n",
    "val_df = df[~df.index.isin(train_df.index)].copy()"
   ]
  },
  {
   "cell_type": "code",
   "execution_count": 37,
   "metadata": {},
   "outputs": [],
   "source": [
    "# выделим валидационную и тестовую выборки\n",
    "test_df, val_df = val_df.sample(frac=0.5, random_state=42), val_df.drop(val_df.sample(frac=0.5, random_state=42).index)"
   ]
  },
  {
   "cell_type": "markdown",
   "metadata": {},
   "source": [
    "Размеры выборок:"
   ]
  },
  {
   "cell_type": "code",
   "execution_count": 38,
   "metadata": {},
   "outputs": [
    {
     "data": {
      "text/plain": [
       "((119469, 3), (19911, 3), (19912, 3))"
      ]
     },
     "execution_count": 38,
     "metadata": {},
     "output_type": "execute_result"
    }
   ],
   "source": [
    "train_df.shape, val_df.shape, test_df.shape"
   ]
  },
  {
   "cell_type": "markdown",
   "metadata": {},
   "source": [
    "Используем готовую модель:"
   ]
  },
  {
   "cell_type": "code",
   "execution_count": 39,
   "metadata": {},
   "outputs": [],
   "source": [
    "model = CatBoostClassifier(verbose=100, learning_rate=0.7, early_stopping_rounds=200, eval_metric=\"F1\")"
   ]
  },
  {
   "cell_type": "markdown",
   "metadata": {},
   "source": [
    "Обучаем ее и смотрим на оценку:"
   ]
  },
  {
   "cell_type": "code",
   "execution_count": 40,
   "metadata": {},
   "outputs": [
    {
     "name": "stdout",
     "output_type": "stream",
     "text": [
      "0:\tlearn: 0.6905276\ttest: 0.7360696\tbest: 0.7360696 (0)\ttotal: 236ms\tremaining: 3m 55s\n",
      "100:\tlearn: 0.8024297\ttest: 0.7766567\tbest: 0.7776262 (90)\ttotal: 13.3s\tremaining: 1m 58s\n",
      "200:\tlearn: 0.8213978\ttest: 0.7706171\tbest: 0.7776262 (90)\ttotal: 26s\tremaining: 1m 43s\n",
      "Stopped by overfitting detector  (200 iterations wait)\n",
      "\n",
      "bestTest = 0.7776261937\n",
      "bestIteration = 90\n",
      "\n",
      "Shrink model to first 91 iterations.\n"
     ]
    },
    {
     "data": {
      "text/plain": [
       "<catboost.core.CatBoostClassifier at 0x1a40e8e7ee0>"
      ]
     },
     "execution_count": 40,
     "metadata": {},
     "output_type": "execute_result"
    }
   ],
   "source": [
    "model.fit(train_df[['clean_text']], train_df[['toxic']], eval_set=(val_df[['clean_text']], val_df[['toxic']]), text_features=['clean_text'])"
   ]
  },
  {
   "cell_type": "code",
   "execution_count": 41,
   "metadata": {},
   "outputs": [
    {
     "name": "stdout",
     "output_type": "stream",
     "text": [
      "0.7776261937244203\n"
     ]
    }
   ],
   "source": [
    "f1_сat = model.best_score_['validation']['F1']\n",
    "print(f1_сat)"
   ]
  },
  {
   "cell_type": "markdown",
   "metadata": {},
   "source": [
    "# Результат"
   ]
  },
  {
   "cell_type": "code",
   "execution_count": 42,
   "metadata": {},
   "outputs": [
    {
     "data": {
      "text/html": [
       "<div>\n",
       "<style scoped>\n",
       "    .dataframe tbody tr th:only-of-type {\n",
       "        vertical-align: middle;\n",
       "    }\n",
       "\n",
       "    .dataframe tbody tr th {\n",
       "        vertical-align: top;\n",
       "    }\n",
       "\n",
       "    .dataframe thead th {\n",
       "        text-align: right;\n",
       "    }\n",
       "</style>\n",
       "<table border=\"1\" class=\"dataframe\">\n",
       "  <thead>\n",
       "    <tr style=\"text-align: right;\">\n",
       "      <th></th>\n",
       "      <th>Model</th>\n",
       "      <th>F1_score</th>\n",
       "    </tr>\n",
       "  </thead>\n",
       "  <tbody>\n",
       "    <tr>\n",
       "      <th>0</th>\n",
       "      <td>LogisticRegression</td>\n",
       "      <td>0.766975</td>\n",
       "    </tr>\n",
       "    <tr>\n",
       "      <th>1</th>\n",
       "      <td>LGBMClassifier</td>\n",
       "      <td>0.773195</td>\n",
       "    </tr>\n",
       "    <tr>\n",
       "      <th>2</th>\n",
       "      <td>CatBoostClassifier</td>\n",
       "      <td>0.777626</td>\n",
       "    </tr>\n",
       "  </tbody>\n",
       "</table>\n",
       "</div>"
      ],
      "text/plain": [
       "                 Model  F1_score\n",
       "0   LogisticRegression  0.766975\n",
       "1       LGBMClassifier  0.773195\n",
       "2   CatBoostClassifier  0.777626"
      ]
     },
     "execution_count": 42,
     "metadata": {},
     "output_type": "execute_result"
    }
   ],
   "source": [
    "model_scores = pd.DataFrame({'Model':[' LogisticRegression', 'LGBMClassifier', 'CatBoostClassifier'],\n",
    "                             'F1_score': [f1_lr, f1_lgbm, f1_сat]}) \n",
    "model_scores"
   ]
  },
  {
   "cell_type": "markdown",
   "metadata": {},
   "source": [
    "Таким образом, условие заказчика выполнено на всех трех моделях. При этом лучшая модель - 'CatBoostClassifier', ее приимущество также в том, что она не требует векторизации и мы можем передать в модель обработанный текст."
   ]
  },
  {
   "cell_type": "markdown",
   "metadata": {},
   "source": [
    "Протестируем модель-победителя:"
   ]
  },
  {
   "cell_type": "code",
   "execution_count": 43,
   "metadata": {},
   "outputs": [
    {
     "name": "stdout",
     "output_type": "stream",
     "text": [
      "0:\tlearn: 0.6905276\ttotal: 80.7ms\tremaining: 1m 20s\n",
      "100:\tlearn: 0.8024297\ttotal: 12.6s\tremaining: 1m 52s\n",
      "200:\tlearn: 0.8213978\ttotal: 24.5s\tremaining: 1m 37s\n",
      "300:\tlearn: 0.8375507\ttotal: 36.5s\tremaining: 1m 24s\n",
      "400:\tlearn: 0.8531876\ttotal: 47.8s\tremaining: 1m 11s\n",
      "500:\tlearn: 0.8697782\ttotal: 58.9s\tremaining: 58.7s\n",
      "600:\tlearn: 0.8832774\ttotal: 1m 10s\tremaining: 46.9s\n",
      "700:\tlearn: 0.8939987\ttotal: 1m 22s\tremaining: 35.1s\n",
      "800:\tlearn: 0.9036298\ttotal: 1m 33s\tremaining: 23.3s\n",
      "900:\tlearn: 0.9108928\ttotal: 1m 45s\tremaining: 11.5s\n",
      "999:\tlearn: 0.9185688\ttotal: 1m 56s\tremaining: 0us\n",
      "Все оценки для модели:               precision    recall  f1-score   support\n",
      "\n",
      "           0       0.97      0.99      0.98     17857\n",
      "           1       0.85      0.71      0.78      2055\n",
      "\n",
      "    accuracy                           0.96     19912\n",
      "   macro avg       0.91      0.85      0.88     19912\n",
      "weighted avg       0.96      0.96      0.96     19912\n",
      "\n"
     ]
    }
   ],
   "source": [
    "model = CatBoostClassifier(verbose=100, learning_rate=0.7, early_stopping_rounds=200, eval_metric=\"F1\")\n",
    "model.fit(train_df[['clean_text']], train_df[['toxic']], text_features=['clean_text'])\n",
    "pred = model.predict(test_df[['clean_text']])\n",
    "print('Все оценки для модели:', classification_report(test_df['toxic'], pred))"
   ]
  },
  {
   "cell_type": "code",
   "execution_count": 44,
   "metadata": {},
   "outputs": [
    {
     "name": "stdout",
     "output_type": "stream",
     "text": [
      "метрика F1: 0.78\n"
     ]
    }
   ],
   "source": [
    "print('метрика F1:', round(f1_score(test_df['toxic'], pred),2))"
   ]
  },
  {
   "cell_type": "markdown",
   "metadata": {},
   "source": [
    "Матрица ошибок:"
   ]
  },
  {
   "cell_type": "code",
   "execution_count": 45,
   "metadata": {},
   "outputs": [
    {
     "data": {
      "image/png": "[encoded data removed]",
      "text/plain": [
       "<Figure size 640x480 with 2 Axes>"
      ]
     },
     "metadata": {},
     "output_type": "display_data"
    }
   ],
   "source": [
    "cm = confusion_matrix(test_df['toxic'], pred)\n",
    "sns.heatmap(cm, annot=True, fmt='d', cmap='Blues')\n",
    "plt.xlabel('Predicted Label')\n",
    "plt.ylabel('True Label')\n",
    "\n",
    "plt.show()\n"
   ]
  },
  {
   "cell_type": "markdown",
   "metadata": {},
   "source": [
    "На матрице ошибок мы видим, что 588 оценок были не верно классифицированы как положительные отзывы, хотя по факту они являлись негативными, что давольно много. Но так как метрика recall не является основной, модель улучшения не требует. Положительные комментарии определяются верно почти во всех случаях, только 261 комментариев определены неверно, как негативные."
   ]
  },
  {
   "cell_type": "markdown",
   "metadata": {},
   "source": []
  }
 ],
 "metadata": {
  "ExecuteTimeLog": [
   {
    "duration": 3835,
    "start_time": "2023-03-28T11:37:08.406Z"
   },
   {
    "duration": 3799,
    "start_time": "2023-03-28T11:37:12.243Z"
   },
   {
    "duration": 5721,
    "start_time": "2023-03-28T11:37:16.044Z"
   },
   {
    "duration": 8304,
    "start_time": "2023-03-28T11:37:21.767Z"
   },
   {
    "duration": 4126,
    "start_time": "2023-03-28T11:37:30.125Z"
   },
   {
    "duration": 70,
    "start_time": "2023-03-28T11:37:34.253Z"
   },
   {
    "duration": 12,
    "start_time": "2023-03-28T11:37:34.325Z"
   },
   {
    "duration": 86,
    "start_time": "2023-03-28T11:37:34.340Z"
   },
   {
    "duration": 420,
    "start_time": "2023-03-28T11:37:34.428Z"
   },
   {
    "duration": 81,
    "start_time": "2023-03-28T11:37:34.850Z"
   },
   {
    "duration": 1007,
    "start_time": "2023-03-28T11:37:34.933Z"
   },
   {
    "duration": 2389115,
    "start_time": "2023-03-28T11:37:35.942Z"
   },
   {
    "duration": 214,
    "start_time": "2023-03-28T12:17:25.059Z"
   },
   {
    "duration": 4,
    "start_time": "2023-03-28T12:17:25.276Z"
   },
   {
    "duration": 42,
    "start_time": "2023-03-28T12:17:25.281Z"
   },
   {
    "duration": 3,
    "start_time": "2023-03-28T12:17:25.325Z"
   },
   {
    "duration": 5,
    "start_time": "2023-03-28T12:17:25.330Z"
   },
   {
    "duration": 50812,
    "start_time": "2023-03-28T12:17:25.337Z"
   },
   {
    "duration": 78,
    "start_time": "2023-03-28T12:18:16.150Z"
   },
   {
    "duration": 35,
    "start_time": "2023-03-28T12:18:16.230Z"
   },
   {
    "duration": 98,
    "start_time": "2023-03-28T12:18:16.326Z"
   },
   {
    "duration": 0,
    "start_time": "2023-03-28T12:18:16.426Z"
   },
   {
    "duration": 0,
    "start_time": "2023-03-28T12:18:16.428Z"
   },
   {
    "duration": 82,
    "start_time": "2023-03-28T12:18:31.052Z"
   },
   {
    "duration": 8,
    "start_time": "2023-03-28T12:33:34.299Z"
   },
   {
    "duration": 10,
    "start_time": "2023-03-30T06:04:38.931Z"
   },
   {
    "duration": 103,
    "start_time": "2023-03-30T06:04:59.255Z"
   },
   {
    "duration": 184,
    "start_time": "2023-03-30T07:06:56.133Z"
   },
   {
    "duration": 125,
    "start_time": "2023-03-30T07:07:50.293Z"
   }
  ],
  "kernelspec": {
   "display_name": "Python 3 (ipykernel)",
   "language": "python",
   "name": "python3"
  },
  "language_info": {
   "codemirror_mode": {
    "name": "ipython",
    "version": 3
   },
   "file_extension": ".py",
   "mimetype": "text/x-python",
   "name": "python",
   "nbconvert_exporter": "python",
   "pygments_lexer": "ipython3",
   "version": "3.9.5"
  },
  "toc": {
   "base_numbering": 1,
   "nav_menu": {},
   "number_sections": true,
   "sideBar": true,
   "skip_h1_title": true,
   "title_cell": "Table of Contents",
   "title_sidebar": "Contents",
   "toc_cell": false,
   "toc_position": {},
   "toc_section_display": true,
   "toc_window_display": false
  }
 },
 "nbformat": 4,
 "nbformat_minor": 2
}
